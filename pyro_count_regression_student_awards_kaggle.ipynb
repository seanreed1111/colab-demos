{
  "cells": [
    {
      "cell_type": "markdown",
      "metadata": {
        "id": "agI4ToZPmQc_"
      },
      "source": [
        "source: https://www.kaggle.com/gauravduttakiit/explore-the-poisson-regression/notebook"
      ]
    },
    {
      "cell_type": "code",
      "execution_count": null,
      "metadata": {
        "colab": {
          "base_uri": "https://localhost:8080/"
        },
        "id": "nVP7xmlom-Kr",
        "outputId": "5d0adec5-5e65-450b-c5c8-0845525a2bb1"
      },
      "outputs": [],
      "source": [
        "pip install pyro-ppl-1.8.0"
      ]
    },
    {
      "cell_type": "code",
      "execution_count": null,
      "metadata": {
        "id": "MVthELNLlX1u"
      },
      "outputs": [],
      "source": [
        "import os\n",
        "import numpy as np\n",
        "import pandas as pd\n",
        "import seaborn as sns\n",
        "import matplotlib.pyplot as plt\n",
        "import statsmodels.api as sm\n",
        "\n",
        "import torch\n",
        "from torch.distributions import constraints\n",
        "from torch import tensor\n",
        "\n",
        "import pyro\n",
        "import pyro.distributions as dist\n",
        "from pyro.infer import SVI,Trace_ELBO\n",
        "from pyro.infer.autoguide  import AutoMultivariateNormal, AutoNormal, init_to_mean\n",
        "from pyro.optim import ClippedAdam\n",
        "\n",
        "assert pyro.__version__.startswith('1.8')\n",
        "pyro.set_rng_seed(1)\n",
        "torch.manual_seed(1)\n",
        "\n",
        "# Set matplotlib settings\n",
        "%matplotlib inline\n",
        "plt.style.use('default')\n",
        "plt.rcParams['figure.figsize'] = [8, 6]"
      ]
    },
    {
      "cell_type": "markdown",
      "metadata": {
        "id": "1AFcQHEGpQdC"
      },
      "source": []
    },
    {
      "cell_type": "code",
      "execution_count": null,
      "metadata": {
        "id": "XbpEZql8o43P"
      },
      "outputs": [],
      "source": []
    },
    {
      "cell_type": "code",
      "execution_count": null,
      "metadata": {
        "colab": {
          "base_uri": "https://localhost:8080/",
          "height": 206
        },
        "id": "Mimm-QWkG4zL",
        "outputId": "a1b904c4-615f-4163-e976-fa5018b980d2"
      },
      "outputs": [],
      "source": [
        "df = pd.read_csv(\"https://raw.githubusercontent.com/seanreed1111/datasets/master/count-regression-datasets/competition_awards_data.csv\")\n",
        "df.columns = ['award_count', 'math_score']\n",
        "df.head()"
      ]
    },
    {
      "cell_type": "code",
      "execution_count": null,
      "metadata": {
        "colab": {
          "base_uri": "https://localhost:8080/",
          "height": 300
        },
        "id": "hep8Jn2hdEpa",
        "outputId": "d9b69358-7cf3-4526-d9d9-3bd2c9ab2c8f"
      },
      "outputs": [],
      "source": [
        "df.describe()"
      ]
    },
    {
      "cell_type": "code",
      "execution_count": null,
      "metadata": {
        "id": "KzNsRFNu3oDk"
      },
      "outputs": [],
      "source": [
        "X = df.copy()"
      ]
    },
    {
      "cell_type": "code",
      "execution_count": null,
      "metadata": {
        "colab": {
          "base_uri": "https://localhost:8080/",
          "height": 542
        },
        "id": "JFOy74s8dMeX",
        "outputId": "73421102-2360-45d5-f430-e638bd64b9e9"
      },
      "outputs": [],
      "source": [
        "sns.stripplot(data=X, x='award_count', y='math_score', palette='colorblind');"
      ]
    },
    {
      "cell_type": "code",
      "execution_count": null,
      "metadata": {
        "colab": {
          "base_uri": "https://localhost:8080/",
          "height": 507
        },
        "id": "2iELumRdFRq6",
        "outputId": "ce4bb29e-42b4-4ac1-907d-45386f71ecfc"
      },
      "outputs": [],
      "source": [
        "sns.displot(data=X, x='award_count', palette='colorblind');"
      ]
    },
    {
      "cell_type": "markdown",
      "metadata": {
        "id": "JK35kegeJgpf"
      },
      "source": [
        "Poisson Distribution should have equal mean and variance. Let's check:"
      ]
    },
    {
      "cell_type": "code",
      "execution_count": null,
      "metadata": {
        "colab": {
          "base_uri": "https://localhost:8080/"
        },
        "id": "CrnKvqrQJoO9",
        "outputId": "05073807-09e7-404f-f0f3-596ba0844a2d"
      },
      "outputs": [],
      "source": [
        "X['award_count'].mean(), X['award_count'].var() # Variance larger than the mean. Overdispersed."
      ]
    },
    {
      "cell_type": "code",
      "execution_count": null,
      "metadata": {
        "colab": {
          "base_uri": "https://localhost:8080/",
          "height": 576
        },
        "id": "h3OcUPwfFRlA",
        "outputId": "602e9e32-78fa-402a-b337-24a4026c296e"
      },
      "outputs": [],
      "source": [
        "samples_1 = dist.Poisson(X['award_count'].mean()).sample(tensor([200])) # create sample distribution where Poisson mean = data mean\n",
        "sns.distplot(samples_1.numpy(), kde=False);"
      ]
    },
    {
      "cell_type": "code",
      "execution_count": null,
      "metadata": {
        "colab": {
          "base_uri": "https://localhost:8080/",
          "height": 506
        },
        "id": "JvR__ynKFRfH",
        "outputId": "a92bed51-794c-4033-ab4e-1ddfd3331064"
      },
      "outputs": [],
      "source": [
        "samples_2 = dist.Poisson(X['award_count'].var()).sample(tensor([200])) # create sample distribution where Poisson mean = data variance\n",
        "sns.displot(samples_2.numpy());"
      ]
    },
    {
      "cell_type": "markdown",
      "metadata": {
        "id": "5gZzNA2DSaaW"
      },
      "source": [
        "### So, comparing the actual data with the above two poisson sampling distributions above, it appears our data is both zero inflated AND overdispersed!"
      ]
    },
    {
      "cell_type": "markdown",
      "metadata": {
        "id": "h6UT8ORytMXk"
      },
      "source": [
        "let's make a Poisson model with 'award_count ~ math_score' "
      ]
    },
    {
      "cell_type": "code",
      "execution_count": null,
      "metadata": {
        "id": "3XY-snfZCKM8"
      },
      "outputs": [],
      "source": [
        "data = X[['math_score']]\n",
        "target = X['award_count']"
      ]
    },
    {
      "cell_type": "markdown",
      "metadata": {
        "id": "EI3tPAZQNKEW"
      },
      "source": [
        "## Using sklearn"
      ]
    },
    {
      "cell_type": "code",
      "execution_count": null,
      "metadata": {
        "colab": {
          "base_uri": "https://localhost:8080/"
        },
        "id": "zRwI3gRjV81n",
        "outputId": "78800c49-ecd0-4eac-801b-b287950f42e3"
      },
      "outputs": [],
      "source": [
        "data.shape, target.shape"
      ]
    },
    {
      "cell_type": "code",
      "execution_count": null,
      "metadata": {
        "id": "4kV-xz-wtUJ5"
      },
      "outputs": [],
      "source": [
        "from sklearn.linear_model import PoissonRegressor #Generalized Linear Model with a Poisson distribution and log link.\n",
        "\n",
        "reg = PoissonRegressor().fit(data.values, target.values)"
      ]
    },
    {
      "cell_type": "code",
      "execution_count": null,
      "metadata": {
        "colab": {
          "base_uri": "https://localhost:8080/"
        },
        "id": "o_PQGFEXy6Bp",
        "outputId": "08501d05-b816-4c33-dcf9-850e13775d7d"
      },
      "outputs": [],
      "source": [
        "# these are MLE estimates of parameters we expect to recover\n",
        "print(reg.intercept_)\n",
        "print(reg.coef_)"
      ]
    },
    {
      "cell_type": "code",
      "execution_count": null,
      "metadata": {
        "colab": {
          "base_uri": "https://localhost:8080/"
        },
        "id": "6BwKnybr1wFa",
        "outputId": "0bdc18ec-67eb-48b7-bd4b-ad78a4503a99"
      },
      "outputs": [],
      "source": [
        "reg.score(data.values.reshape(-1,1), target)"
      ]
    },
    {
      "cell_type": "markdown",
      "metadata": {
        "id": "O3pv4UEzNc7g"
      },
      "source": [
        "## Using statsmodels"
      ]
    },
    {
      "cell_type": "code",
      "execution_count": null,
      "metadata": {
        "colab": {
          "base_uri": "https://localhost:8080/"
        },
        "id": "bqK6jFfONgXQ",
        "outputId": "449d49ac-d903-404c-8600-9bddf92775fb"
      },
      "outputs": [],
      "source": [
        "import statsmodels.formula.api as smf\n",
        "statsmod = smf.poisson(formula='award_count ~ math_score', data=X)\n",
        "result = statsmod.fit()\n",
        "print(result.summary())"
      ]
    },
    {
      "cell_type": "markdown",
      "metadata": {
        "id": "MIl7DYT4P1xb"
      },
      "source": [
        "## Using Bayesian Regression with SVI"
      ]
    },
    {
      "cell_type": "code",
      "execution_count": null,
      "metadata": {
        "id": "97FTRDzKrImY"
      },
      "outputs": [],
      "source": [
        "# convert data and target to torch tensors\n",
        "data = tensor(data.values, dtype=torch.float)\n",
        "target = tensor(target.values, dtype=torch.float)"
      ]
    },
    {
      "cell_type": "code",
      "execution_count": null,
      "metadata": {
        "colab": {
          "base_uri": "https://localhost:8080/"
        },
        "id": "a1XSEqilvqmf",
        "outputId": "fe16c851-dbfb-4e94-9247-ad682214fc3e"
      },
      "outputs": [],
      "source": [
        "data.size(), target.size()"
      ]
    },
    {
      "cell_type": "code",
      "execution_count": null,
      "metadata": {
        "id": "m_M2RXFIRr2S"
      },
      "outputs": [],
      "source": [
        "from torch import nn\n",
        "from pyro.nn import PyroSample, PyroModule\n",
        "\n",
        "# need to pass the priors for all models as parameters to the object.\n",
        "class BayesianPoissonRegression(PyroModule):\n",
        "    def __init__(self, in_features, out_features = 1, bias = True):\n",
        "        super().__init__()\n",
        "        self.linear = PyroModule[nn.Linear](in_features, out_features)\n",
        "        if bias:\n",
        "          self.linear.bias = PyroSample(dist.Normal(0., 5.).expand([out_features]).to_event(1))\n",
        "        self.linear.weight = PyroSample(dist.Normal(0., 0.05).expand([out_features, in_features]).to_event(2))\n",
        "\n",
        "        \n",
        "    def forward(self, x, y=None):\n",
        "        rate = self.linear(x).squeeze(-1).exp() #we are using log link, so apply inverse of log to the matrix multiplication, i.e. exp\n",
        "        with pyro.plate(\"data\", x.shape[0]):\n",
        "            obs = pyro.sample(\"obs\", dist.Poisson(rate), obs=y)\n",
        "        return rate"
      ]
    },
    {
      "cell_type": "code",
      "execution_count": null,
      "metadata": {
        "id": "LmDLgORbTVj4"
      },
      "outputs": [],
      "source": [
        "model = BayesianPoissonRegression(data.size(1)) "
      ]
    },
    {
      "cell_type": "code",
      "execution_count": null,
      "metadata": {
        "id": "8pIi_GNhRrnv"
      },
      "outputs": [],
      "source": [
        "from pyro.infer.autoguide import AutoMultivariateNormal\n",
        "\n",
        "guide = AutoMultivariateNormal(model, init_loc_fn=init_to_mean)"
      ]
    },
    {
      "cell_type": "code",
      "execution_count": null,
      "metadata": {
        "id": "nQ6xwiGt5XIM"
      },
      "outputs": [],
      "source": [
        "def train(model, guide, lr=0.01, n_steps=4000):\n",
        "    pyro.set_rng_seed(1)\n",
        "    pyro.clear_param_store()\n",
        "    \n",
        "    gamma = 0.01  # final learning rate will be gamma * initial_lr\n",
        "    lrd = gamma ** (1 / n_steps)\n",
        "    adam = pyro.optim.ClippedAdam({'lr': lr, 'lrd': lrd})\n",
        "\n",
        "    svi = SVI(model, guide, adam, loss=Trace_ELBO())\n",
        "\n",
        "    for i in range(n_steps):\n",
        "        elbo = svi.step(data, target)\n",
        "        if i % 500 == 0:\n",
        "          print(f\"Elbo loss: {elbo}\")\n",
        "    print(f\"Final Elbo loss: {elbo}\")"
      ]
    },
    {
      "cell_type": "code",
      "execution_count": null,
      "metadata": {
        "colab": {
          "base_uri": "https://localhost:8080/"
        },
        "id": "1PTlhDqE3eRp",
        "outputId": "edd61cf2-0569-4064-a684-d3c1d45d29b5"
      },
      "outputs": [],
      "source": [
        "%%time\n",
        "train(model, guide)"
      ]
    },
    {
      "cell_type": "code",
      "execution_count": null,
      "metadata": {
        "id": "DGtt4I8nMxBb"
      },
      "outputs": [],
      "source": [
        "from pyro.infer import Predictive\n",
        "\n",
        "num_samples = 1000\n",
        "predictive = Predictive(model, guide=guide, num_samples=num_samples)\n",
        "\n",
        "svi_samples = {k: v.reshape((num_samples,-1)).detach().cpu().numpy()\n",
        "               for k, v in predictive(data, target).items()\n",
        "               if k != \"obs\"}"
      ]
    },
    {
      "cell_type": "code",
      "execution_count": null,
      "metadata": {
        "colab": {
          "base_uri": "https://localhost:8080/"
        },
        "id": "ioaYB_0tMw4u",
        "outputId": "7179af40-63d9-4b70-cc03-eeffde881cab"
      },
      "outputs": [],
      "source": [
        "svi_samples.keys()"
      ]
    },
    {
      "cell_type": "code",
      "execution_count": null,
      "metadata": {
        "colab": {
          "base_uri": "https://localhost:8080/"
        },
        "id": "i1JqzBDW67F8",
        "outputId": "3620e0ff-0cfd-479d-ca10-df4e70ca9215"
      },
      "outputs": [],
      "source": [
        "svi_samples['linear.bias'].mean()"
      ]
    },
    {
      "cell_type": "code",
      "execution_count": null,
      "metadata": {
        "colab": {
          "base_uri": "https://localhost:8080/"
        },
        "id": "WZHdWed57SSj",
        "outputId": "a40bb23b-fe24-4db6-a54c-fe1ba203ed95"
      },
      "outputs": [],
      "source": [
        "svi_samples['linear.weight'].mean(axis=0)"
      ]
    },
    {
      "cell_type": "code",
      "execution_count": null,
      "metadata": {
        "colab": {
          "base_uri": "https://localhost:8080/"
        },
        "id": "VBS7Estr81yB",
        "outputId": "fa729940-a3bb-4189-f574-96fbca4c3c1d"
      },
      "outputs": [],
      "source": [
        "guide.quantiles([0.05,0.50,0.95])"
      ]
    },
    {
      "cell_type": "code",
      "execution_count": null,
      "metadata": {
        "colab": {
          "base_uri": "https://localhost:8080/"
        },
        "id": "KemMUmMV7nbm",
        "outputId": "bfa72c7e-a52f-43ce-a46c-d0cf1b4dadf2"
      },
      "outputs": [],
      "source": [
        "print(reg.intercept_)\n",
        "print(reg.coef_)"
      ]
    },
    {
      "cell_type": "code",
      "execution_count": null,
      "metadata": {
        "colab": {
          "base_uri": "https://localhost:8080/",
          "height": 522
        },
        "id": "1W8x8jVuwxjA",
        "outputId": "a95511ba-68b5-4e59-85da-cc38360265fc"
      },
      "outputs": [],
      "source": [
        "sns.kdeplot(data = svi_samples['linear.bias']);"
      ]
    },
    {
      "cell_type": "code",
      "execution_count": null,
      "metadata": {
        "colab": {
          "base_uri": "https://localhost:8080/",
          "height": 522
        },
        "id": "wmzos5qEwxXk",
        "outputId": "bd500000-042b-4e6e-800f-ee35f3019c70"
      },
      "outputs": [],
      "source": [
        "sns.kdeplot(data = svi_samples['linear.weight']);"
      ]
    },
    {
      "cell_type": "code",
      "execution_count": null,
      "metadata": {
        "id": "biEZGjgUww5F"
      },
      "outputs": [],
      "source": []
    },
    {
      "cell_type": "code",
      "execution_count": null,
      "metadata": {
        "id": "AtyuM_rlyPRF"
      },
      "outputs": [],
      "source": [
        "# So all three methods seem to be in agreement about the central tendencies of the coefficients."
      ]
    },
    {
      "cell_type": "markdown",
      "metadata": {
        "id": "w3dU4UT4Ymhk"
      },
      "source": [
        "# What about MCMC?"
      ]
    },
    {
      "cell_type": "code",
      "execution_count": null,
      "metadata": {
        "id": "0ON4V2ToOVCK"
      },
      "outputs": [],
      "source": [
        "from pyro.infer import MCMC, NUTS\n",
        "nuts_kernel = NUTS(model)\n",
        "mcmc = MCMC(nuts_kernel, num_samples=800, warmup_steps=500)"
      ]
    },
    {
      "cell_type": "code",
      "execution_count": null,
      "metadata": {
        "colab": {
          "base_uri": "https://localhost:8080/"
        },
        "id": "z-Xa8UgpsOwm",
        "outputId": "7a63b0b0-21d4-40b6-88bf-fc6cc0092bf7"
      },
      "outputs": [],
      "source": [
        "%%time\n",
        "mcmc.run(data, target)"
      ]
    },
    {
      "cell_type": "code",
      "execution_count": null,
      "metadata": {
        "id": "GDdS0mW6PUVH"
      },
      "outputs": [],
      "source": [
        "hmc_samples = {k: v.detach().cpu().numpy() for k, v in mcmc.get_samples().items()}"
      ]
    },
    {
      "cell_type": "code",
      "execution_count": null,
      "metadata": {
        "colab": {
          "base_uri": "https://localhost:8080/"
        },
        "id": "jgUv4jX_WjPO",
        "outputId": "23b6ef18-b8b6-4c5f-9ce7-e3540278f25e"
      },
      "outputs": [],
      "source": [
        "hmc_samples.keys()"
      ]
    },
    {
      "cell_type": "code",
      "execution_count": null,
      "metadata": {
        "colab": {
          "base_uri": "https://localhost:8080/"
        },
        "id": "pvlD0L2H8hC1",
        "outputId": "1839f0e8-2f10-4d00-8e74-a82933acf3c8"
      },
      "outputs": [],
      "source": [
        "np.median(hmc_samples['linear.bias'])"
      ]
    },
    {
      "cell_type": "code",
      "execution_count": null,
      "metadata": {
        "colab": {
          "base_uri": "https://localhost:8080/"
        },
        "id": "obo6IMguApKe",
        "outputId": "144bbf8a-98d1-4969-ce68-229a822c1ea1"
      },
      "outputs": [],
      "source": [
        "sns.kdeplot(data=hmc_samples['linear.bias']);"
      ]
    },
    {
      "cell_type": "code",
      "execution_count": null,
      "metadata": {
        "id": "D3InTpXIHxi_"
      },
      "outputs": [],
      "source": []
    },
    {
      "cell_type": "code",
      "execution_count": null,
      "metadata": {
        "colab": {
          "base_uri": "https://localhost:8080/"
        },
        "id": "-x-qXfC0Haw9",
        "outputId": "bdb53604-3f3f-4da0-e9d0-83b2fc34a819"
      },
      "outputs": [],
      "source": [
        "hmc_samples['linear.weight'].shape"
      ]
    },
    {
      "cell_type": "code",
      "execution_count": null,
      "metadata": {
        "colab": {
          "base_uri": "https://localhost:8080/"
        },
        "id": "hRmKEGeCAlme",
        "outputId": "41f5fe4c-3d23-4c8e-9f9f-98f79e2d1a1a"
      },
      "outputs": [],
      "source": [
        "print(np.median(hmc_samples['linear.weight'][:,0,0]))\n",
        "sns.kdeplot(data=hmc_samples['linear.weight'][:,0,0]);"
      ]
    },
    {
      "cell_type": "code",
      "execution_count": null,
      "metadata": {
        "colab": {
          "base_uri": "https://localhost:8080/"
        },
        "id": "_Rc6fKwqHTXt",
        "outputId": "f316ee4a-8162-48f9-b9fb-544cee3524ba"
      },
      "outputs": [],
      "source": [
        "print(np.median(hmc_samples['linear.weight'][:,0,0]))\n",
        "sns.kdeplot(data=hmc_samples['linear.weight'][:,0,0]);"
      ]
    },
    {
      "cell_type": "code",
      "execution_count": null,
      "metadata": {
        "colab": {
          "base_uri": "https://localhost:8080/"
        },
        "id": "eds3vCp28oWL",
        "outputId": "599b3c15-57d0-4bc9-b262-4ea35e7ce286"
      },
      "outputs": [],
      "source": [
        "# sklearn estimate\n",
        "print(reg.intercept_)\n",
        "print(reg.coef_)\n"
      ]
    },
    {
      "cell_type": "code",
      "execution_count": null,
      "metadata": {
        "id": "JN0DMxf_8oTg"
      },
      "outputs": [],
      "source": []
    },
    {
      "cell_type": "code",
      "execution_count": null,
      "metadata": {
        "colab": {
          "base_uri": "https://localhost:8080/"
        },
        "id": "Y4lhVjKYP6Ke",
        "outputId": "88000a88-ab19-4879-dd1a-6997bc2e5a0c"
      },
      "outputs": [],
      "source": [
        "import arviz as az\n",
        "\n",
        "az_data = az.from_pyro(mcmc)\n",
        "az.plot_trace(az_data, compact=False)\n",
        "plt.tight_layout()"
      ]
    },
    {
      "cell_type": "code",
      "execution_count": null,
      "metadata": {
        "id": "ClXmJ1LSQmEY"
      },
      "outputs": [],
      "source": []
    }
  ],
  "metadata": {
    "colab": {
      "collapsed_sections": [
        "w3dU4UT4Ymhk"
      ],
      "name": "pyro-count-regression-student-awards-kaggle.ipynb",
      "provenance": []
    },
    "kernelspec": {
      "display_name": "Python 3",
      "name": "python3"
    },
    "language_info": {
      "name": "python"
    }
  },
  "nbformat": 4,
  "nbformat_minor": 0
}

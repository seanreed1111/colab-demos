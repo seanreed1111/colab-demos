{
  "nbformat": 4,
  "nbformat_minor": 0,
  "metadata": {
    "colab": {
      "provenance": [],
      "authorship_tag": "ABX9TyMUC2tEYZgyR8Z540FxA7Pz",
      "include_colab_link": true
    },
    "kernelspec": {
      "name": "python3",
      "display_name": "Python 3"
    },
    "language_info": {
      "name": "python"
    },
    "widgets": {
      "application/vnd.jupyter.widget-state+json": {
        "c8a01b4d50b74846887987adbb091de3": {
          "model_module": "@jupyter-widgets/controls",
          "model_name": "HBoxModel",
          "model_module_version": "1.5.0",
          "state": {
            "_dom_classes": [],
            "_model_module": "@jupyter-widgets/controls",
            "_model_module_version": "1.5.0",
            "_model_name": "HBoxModel",
            "_view_count": null,
            "_view_module": "@jupyter-widgets/controls",
            "_view_module_version": "1.5.0",
            "_view_name": "HBoxView",
            "box_style": "",
            "children": [
              "IPY_MODEL_71b6d7849cb746e0bd9eb3415b953b24",
              "IPY_MODEL_b7784716171349d18c9bf92726d0b03a",
              "IPY_MODEL_176acc3c5e8543d880ab217faea03af4"
            ],
            "layout": "IPY_MODEL_e767ed45686742c083df0762b0f3a12e"
          }
        },
        "71b6d7849cb746e0bd9eb3415b953b24": {
          "model_module": "@jupyter-widgets/controls",
          "model_name": "HTMLModel",
          "model_module_version": "1.5.0",
          "state": {
            "_dom_classes": [],
            "_model_module": "@jupyter-widgets/controls",
            "_model_module_version": "1.5.0",
            "_model_name": "HTMLModel",
            "_view_count": null,
            "_view_module": "@jupyter-widgets/controls",
            "_view_module_version": "1.5.0",
            "_view_name": "HTMLView",
            "description": "",
            "description_tooltip": null,
            "layout": "IPY_MODEL_0e35f533393b4f9a8656646647d2654a",
            "placeholder": "​",
            "style": "IPY_MODEL_b8e3d31920db4a68b57879deda904d47",
            "value": "Finding newlines for mmindex: 100%"
          }
        },
        "b7784716171349d18c9bf92726d0b03a": {
          "model_module": "@jupyter-widgets/controls",
          "model_name": "FloatProgressModel",
          "model_module_version": "1.5.0",
          "state": {
            "_dom_classes": [],
            "_model_module": "@jupyter-widgets/controls",
            "_model_module_version": "1.5.0",
            "_model_name": "FloatProgressModel",
            "_view_count": null,
            "_view_module": "@jupyter-widgets/controls",
            "_view_module_version": "1.5.0",
            "_view_name": "ProgressView",
            "bar_style": "success",
            "description": "",
            "description_tooltip": null,
            "layout": "IPY_MODEL_8d217eeaad6c44fe8e190e0e4a54b142",
            "max": 157166,
            "min": 0,
            "orientation": "horizontal",
            "style": "IPY_MODEL_877f6867a7a949368c16753127f86499",
            "value": 157166
          }
        },
        "176acc3c5e8543d880ab217faea03af4": {
          "model_module": "@jupyter-widgets/controls",
          "model_name": "HTMLModel",
          "model_module_version": "1.5.0",
          "state": {
            "_dom_classes": [],
            "_model_module": "@jupyter-widgets/controls",
            "_model_module_version": "1.5.0",
            "_model_name": "HTMLModel",
            "_view_count": null,
            "_view_module": "@jupyter-widgets/controls",
            "_view_module_version": "1.5.0",
            "_view_name": "HTMLView",
            "description": "",
            "description_tooltip": null,
            "layout": "IPY_MODEL_d874bc7e99c4439f960ca838f0ab050f",
            "placeholder": "​",
            "style": "IPY_MODEL_26e9cd2194724f60b9480a254ca24544",
            "value": " 157k/157k [00:00&lt;00:00, 4.45MB/s]"
          }
        },
        "e767ed45686742c083df0762b0f3a12e": {
          "model_module": "@jupyter-widgets/base",
          "model_name": "LayoutModel",
          "model_module_version": "1.2.0",
          "state": {
            "_model_module": "@jupyter-widgets/base",
            "_model_module_version": "1.2.0",
            "_model_name": "LayoutModel",
            "_view_count": null,
            "_view_module": "@jupyter-widgets/base",
            "_view_module_version": "1.2.0",
            "_view_name": "LayoutView",
            "align_content": null,
            "align_items": null,
            "align_self": null,
            "border": null,
            "bottom": null,
            "display": null,
            "flex": null,
            "flex_flow": null,
            "grid_area": null,
            "grid_auto_columns": null,
            "grid_auto_flow": null,
            "grid_auto_rows": null,
            "grid_column": null,
            "grid_gap": null,
            "grid_row": null,
            "grid_template_areas": null,
            "grid_template_columns": null,
            "grid_template_rows": null,
            "height": null,
            "justify_content": null,
            "justify_items": null,
            "left": null,
            "margin": null,
            "max_height": null,
            "max_width": null,
            "min_height": null,
            "min_width": null,
            "object_fit": null,
            "object_position": null,
            "order": null,
            "overflow": null,
            "overflow_x": null,
            "overflow_y": null,
            "padding": null,
            "right": null,
            "top": null,
            "visibility": null,
            "width": null
          }
        },
        "0e35f533393b4f9a8656646647d2654a": {
          "model_module": "@jupyter-widgets/base",
          "model_name": "LayoutModel",
          "model_module_version": "1.2.0",
          "state": {
            "_model_module": "@jupyter-widgets/base",
            "_model_module_version": "1.2.0",
            "_model_name": "LayoutModel",
            "_view_count": null,
            "_view_module": "@jupyter-widgets/base",
            "_view_module_version": "1.2.0",
            "_view_name": "LayoutView",
            "align_content": null,
            "align_items": null,
            "align_self": null,
            "border": null,
            "bottom": null,
            "display": null,
            "flex": null,
            "flex_flow": null,
            "grid_area": null,
            "grid_auto_columns": null,
            "grid_auto_flow": null,
            "grid_auto_rows": null,
            "grid_column": null,
            "grid_gap": null,
            "grid_row": null,
            "grid_template_areas": null,
            "grid_template_columns": null,
            "grid_template_rows": null,
            "height": null,
            "justify_content": null,
            "justify_items": null,
            "left": null,
            "margin": null,
            "max_height": null,
            "max_width": null,
            "min_height": null,
            "min_width": null,
            "object_fit": null,
            "object_position": null,
            "order": null,
            "overflow": null,
            "overflow_x": null,
            "overflow_y": null,
            "padding": null,
            "right": null,
            "top": null,
            "visibility": null,
            "width": null
          }
        },
        "b8e3d31920db4a68b57879deda904d47": {
          "model_module": "@jupyter-widgets/controls",
          "model_name": "DescriptionStyleModel",
          "model_module_version": "1.5.0",
          "state": {
            "_model_module": "@jupyter-widgets/controls",
            "_model_module_version": "1.5.0",
            "_model_name": "DescriptionStyleModel",
            "_view_count": null,
            "_view_module": "@jupyter-widgets/base",
            "_view_module_version": "1.2.0",
            "_view_name": "StyleView",
            "description_width": ""
          }
        },
        "8d217eeaad6c44fe8e190e0e4a54b142": {
          "model_module": "@jupyter-widgets/base",
          "model_name": "LayoutModel",
          "model_module_version": "1.2.0",
          "state": {
            "_model_module": "@jupyter-widgets/base",
            "_model_module_version": "1.2.0",
            "_model_name": "LayoutModel",
            "_view_count": null,
            "_view_module": "@jupyter-widgets/base",
            "_view_module_version": "1.2.0",
            "_view_name": "LayoutView",
            "align_content": null,
            "align_items": null,
            "align_self": null,
            "border": null,
            "bottom": null,
            "display": null,
            "flex": null,
            "flex_flow": null,
            "grid_area": null,
            "grid_auto_columns": null,
            "grid_auto_flow": null,
            "grid_auto_rows": null,
            "grid_column": null,
            "grid_gap": null,
            "grid_row": null,
            "grid_template_areas": null,
            "grid_template_columns": null,
            "grid_template_rows": null,
            "height": null,
            "justify_content": null,
            "justify_items": null,
            "left": null,
            "margin": null,
            "max_height": null,
            "max_width": null,
            "min_height": null,
            "min_width": null,
            "object_fit": null,
            "object_position": null,
            "order": null,
            "overflow": null,
            "overflow_x": null,
            "overflow_y": null,
            "padding": null,
            "right": null,
            "top": null,
            "visibility": null,
            "width": null
          }
        },
        "877f6867a7a949368c16753127f86499": {
          "model_module": "@jupyter-widgets/controls",
          "model_name": "ProgressStyleModel",
          "model_module_version": "1.5.0",
          "state": {
            "_model_module": "@jupyter-widgets/controls",
            "_model_module_version": "1.5.0",
            "_model_name": "ProgressStyleModel",
            "_view_count": null,
            "_view_module": "@jupyter-widgets/base",
            "_view_module_version": "1.2.0",
            "_view_name": "StyleView",
            "bar_color": null,
            "description_width": ""
          }
        },
        "d874bc7e99c4439f960ca838f0ab050f": {
          "model_module": "@jupyter-widgets/base",
          "model_name": "LayoutModel",
          "model_module_version": "1.2.0",
          "state": {
            "_model_module": "@jupyter-widgets/base",
            "_model_module_version": "1.2.0",
            "_model_name": "LayoutModel",
            "_view_count": null,
            "_view_module": "@jupyter-widgets/base",
            "_view_module_version": "1.2.0",
            "_view_name": "LayoutView",
            "align_content": null,
            "align_items": null,
            "align_self": null,
            "border": null,
            "bottom": null,
            "display": null,
            "flex": null,
            "flex_flow": null,
            "grid_area": null,
            "grid_auto_columns": null,
            "grid_auto_flow": null,
            "grid_auto_rows": null,
            "grid_column": null,
            "grid_gap": null,
            "grid_row": null,
            "grid_template_areas": null,
            "grid_template_columns": null,
            "grid_template_rows": null,
            "height": null,
            "justify_content": null,
            "justify_items": null,
            "left": null,
            "margin": null,
            "max_height": null,
            "max_width": null,
            "min_height": null,
            "min_width": null,
            "object_fit": null,
            "object_position": null,
            "order": null,
            "overflow": null,
            "overflow_x": null,
            "overflow_y": null,
            "padding": null,
            "right": null,
            "top": null,
            "visibility": null,
            "width": null
          }
        },
        "26e9cd2194724f60b9480a254ca24544": {
          "model_module": "@jupyter-widgets/controls",
          "model_name": "DescriptionStyleModel",
          "model_module_version": "1.5.0",
          "state": {
            "_model_module": "@jupyter-widgets/controls",
            "_model_module_version": "1.5.0",
            "_model_name": "DescriptionStyleModel",
            "_view_count": null,
            "_view_module": "@jupyter-widgets/base",
            "_view_module_version": "1.2.0",
            "_view_name": "StyleView",
            "description_width": ""
          }
        },
        "eb935090ecfd48f7a5b614742ee1272f": {
          "model_module": "@jupyter-widgets/controls",
          "model_name": "HBoxModel",
          "model_module_version": "1.5.0",
          "state": {
            "_dom_classes": [],
            "_model_module": "@jupyter-widgets/controls",
            "_model_module_version": "1.5.0",
            "_model_name": "HBoxModel",
            "_view_count": null,
            "_view_module": "@jupyter-widgets/controls",
            "_view_module_version": "1.5.0",
            "_view_name": "HBoxView",
            "box_style": "",
            "children": [
              "IPY_MODEL_216c83e0bf324791a4a3e212b0fe82ae",
              "IPY_MODEL_72ccf78283e34e77a827ab4b73562f86",
              "IPY_MODEL_ad37caad23b9499d822dba32409579b9"
            ],
            "layout": "IPY_MODEL_c75e52f91a3c4d7fa1d21c06e623ba3b"
          }
        },
        "216c83e0bf324791a4a3e212b0fe82ae": {
          "model_module": "@jupyter-widgets/controls",
          "model_name": "HTMLModel",
          "model_module_version": "1.5.0",
          "state": {
            "_dom_classes": [],
            "_model_module": "@jupyter-widgets/controls",
            "_model_module_version": "1.5.0",
            "_model_name": "HTMLModel",
            "_view_count": null,
            "_view_module": "@jupyter-widgets/controls",
            "_view_module_version": "1.5.0",
            "_view_name": "HTMLView",
            "description": "",
            "description_tooltip": null,
            "layout": "IPY_MODEL_3842704fd2b9400cbd2217b934ec9e1f",
            "placeholder": "​",
            "style": "IPY_MODEL_0b36e3ff216c497a94e20e4f7883a461",
            "value": "Finding newlines for mmindex: 100%"
          }
        },
        "72ccf78283e34e77a827ab4b73562f86": {
          "model_module": "@jupyter-widgets/controls",
          "model_name": "FloatProgressModel",
          "model_module_version": "1.5.0",
          "state": {
            "_dom_classes": [],
            "_model_module": "@jupyter-widgets/controls",
            "_model_module_version": "1.5.0",
            "_model_name": "FloatProgressModel",
            "_view_count": null,
            "_view_module": "@jupyter-widgets/controls",
            "_view_module_version": "1.5.0",
            "_view_name": "ProgressView",
            "bar_style": "success",
            "description": "",
            "description_tooltip": null,
            "layout": "IPY_MODEL_8c135adf367c413fa39ac4c19be5a836",
            "max": 227810,
            "min": 0,
            "orientation": "horizontal",
            "style": "IPY_MODEL_5fb54b19e99347fd877aa8cdc1a6c14a",
            "value": 227810
          }
        },
        "ad37caad23b9499d822dba32409579b9": {
          "model_module": "@jupyter-widgets/controls",
          "model_name": "HTMLModel",
          "model_module_version": "1.5.0",
          "state": {
            "_dom_classes": [],
            "_model_module": "@jupyter-widgets/controls",
            "_model_module_version": "1.5.0",
            "_model_name": "HTMLModel",
            "_view_count": null,
            "_view_module": "@jupyter-widgets/controls",
            "_view_module_version": "1.5.0",
            "_view_name": "HTMLView",
            "description": "",
            "description_tooltip": null,
            "layout": "IPY_MODEL_0168103baf6a44b5a785ed1830991e63",
            "placeholder": "​",
            "style": "IPY_MODEL_9d6791cd9e8b4a37a2d3f6d5508f9fe4",
            "value": " 228k/228k [00:00&lt;00:00, 8.65MB/s]"
          }
        },
        "c75e52f91a3c4d7fa1d21c06e623ba3b": {
          "model_module": "@jupyter-widgets/base",
          "model_name": "LayoutModel",
          "model_module_version": "1.2.0",
          "state": {
            "_model_module": "@jupyter-widgets/base",
            "_model_module_version": "1.2.0",
            "_model_name": "LayoutModel",
            "_view_count": null,
            "_view_module": "@jupyter-widgets/base",
            "_view_module_version": "1.2.0",
            "_view_name": "LayoutView",
            "align_content": null,
            "align_items": null,
            "align_self": null,
            "border": null,
            "bottom": null,
            "display": null,
            "flex": null,
            "flex_flow": null,
            "grid_area": null,
            "grid_auto_columns": null,
            "grid_auto_flow": null,
            "grid_auto_rows": null,
            "grid_column": null,
            "grid_gap": null,
            "grid_row": null,
            "grid_template_areas": null,
            "grid_template_columns": null,
            "grid_template_rows": null,
            "height": null,
            "justify_content": null,
            "justify_items": null,
            "left": null,
            "margin": null,
            "max_height": null,
            "max_width": null,
            "min_height": null,
            "min_width": null,
            "object_fit": null,
            "object_position": null,
            "order": null,
            "overflow": null,
            "overflow_x": null,
            "overflow_y": null,
            "padding": null,
            "right": null,
            "top": null,
            "visibility": null,
            "width": null
          }
        },
        "3842704fd2b9400cbd2217b934ec9e1f": {
          "model_module": "@jupyter-widgets/base",
          "model_name": "LayoutModel",
          "model_module_version": "1.2.0",
          "state": {
            "_model_module": "@jupyter-widgets/base",
            "_model_module_version": "1.2.0",
            "_model_name": "LayoutModel",
            "_view_count": null,
            "_view_module": "@jupyter-widgets/base",
            "_view_module_version": "1.2.0",
            "_view_name": "LayoutView",
            "align_content": null,
            "align_items": null,
            "align_self": null,
            "border": null,
            "bottom": null,
            "display": null,
            "flex": null,
            "flex_flow": null,
            "grid_area": null,
            "grid_auto_columns": null,
            "grid_auto_flow": null,
            "grid_auto_rows": null,
            "grid_column": null,
            "grid_gap": null,
            "grid_row": null,
            "grid_template_areas": null,
            "grid_template_columns": null,
            "grid_template_rows": null,
            "height": null,
            "justify_content": null,
            "justify_items": null,
            "left": null,
            "margin": null,
            "max_height": null,
            "max_width": null,
            "min_height": null,
            "min_width": null,
            "object_fit": null,
            "object_position": null,
            "order": null,
            "overflow": null,
            "overflow_x": null,
            "overflow_y": null,
            "padding": null,
            "right": null,
            "top": null,
            "visibility": null,
            "width": null
          }
        },
        "0b36e3ff216c497a94e20e4f7883a461": {
          "model_module": "@jupyter-widgets/controls",
          "model_name": "DescriptionStyleModel",
          "model_module_version": "1.5.0",
          "state": {
            "_model_module": "@jupyter-widgets/controls",
            "_model_module_version": "1.5.0",
            "_model_name": "DescriptionStyleModel",
            "_view_count": null,
            "_view_module": "@jupyter-widgets/base",
            "_view_module_version": "1.2.0",
            "_view_name": "StyleView",
            "description_width": ""
          }
        },
        "8c135adf367c413fa39ac4c19be5a836": {
          "model_module": "@jupyter-widgets/base",
          "model_name": "LayoutModel",
          "model_module_version": "1.2.0",
          "state": {
            "_model_module": "@jupyter-widgets/base",
            "_model_module_version": "1.2.0",
            "_model_name": "LayoutModel",
            "_view_count": null,
            "_view_module": "@jupyter-widgets/base",
            "_view_module_version": "1.2.0",
            "_view_name": "LayoutView",
            "align_content": null,
            "align_items": null,
            "align_self": null,
            "border": null,
            "bottom": null,
            "display": null,
            "flex": null,
            "flex_flow": null,
            "grid_area": null,
            "grid_auto_columns": null,
            "grid_auto_flow": null,
            "grid_auto_rows": null,
            "grid_column": null,
            "grid_gap": null,
            "grid_row": null,
            "grid_template_areas": null,
            "grid_template_columns": null,
            "grid_template_rows": null,
            "height": null,
            "justify_content": null,
            "justify_items": null,
            "left": null,
            "margin": null,
            "max_height": null,
            "max_width": null,
            "min_height": null,
            "min_width": null,
            "object_fit": null,
            "object_position": null,
            "order": null,
            "overflow": null,
            "overflow_x": null,
            "overflow_y": null,
            "padding": null,
            "right": null,
            "top": null,
            "visibility": null,
            "width": null
          }
        },
        "5fb54b19e99347fd877aa8cdc1a6c14a": {
          "model_module": "@jupyter-widgets/controls",
          "model_name": "ProgressStyleModel",
          "model_module_version": "1.5.0",
          "state": {
            "_model_module": "@jupyter-widgets/controls",
            "_model_module_version": "1.5.0",
            "_model_name": "ProgressStyleModel",
            "_view_count": null,
            "_view_module": "@jupyter-widgets/base",
            "_view_module_version": "1.2.0",
            "_view_name": "StyleView",
            "bar_color": null,
            "description_width": ""
          }
        },
        "0168103baf6a44b5a785ed1830991e63": {
          "model_module": "@jupyter-widgets/base",
          "model_name": "LayoutModel",
          "model_module_version": "1.2.0",
          "state": {
            "_model_module": "@jupyter-widgets/base",
            "_model_module_version": "1.2.0",
            "_model_name": "LayoutModel",
            "_view_count": null,
            "_view_module": "@jupyter-widgets/base",
            "_view_module_version": "1.2.0",
            "_view_name": "LayoutView",
            "align_content": null,
            "align_items": null,
            "align_self": null,
            "border": null,
            "bottom": null,
            "display": null,
            "flex": null,
            "flex_flow": null,
            "grid_area": null,
            "grid_auto_columns": null,
            "grid_auto_flow": null,
            "grid_auto_rows": null,
            "grid_column": null,
            "grid_gap": null,
            "grid_row": null,
            "grid_template_areas": null,
            "grid_template_columns": null,
            "grid_template_rows": null,
            "height": null,
            "justify_content": null,
            "justify_items": null,
            "left": null,
            "margin": null,
            "max_height": null,
            "max_width": null,
            "min_height": null,
            "min_width": null,
            "object_fit": null,
            "object_position": null,
            "order": null,
            "overflow": null,
            "overflow_x": null,
            "overflow_y": null,
            "padding": null,
            "right": null,
            "top": null,
            "visibility": null,
            "width": null
          }
        },
        "9d6791cd9e8b4a37a2d3f6d5508f9fe4": {
          "model_module": "@jupyter-widgets/controls",
          "model_name": "DescriptionStyleModel",
          "model_module_version": "1.5.0",
          "state": {
            "_model_module": "@jupyter-widgets/controls",
            "_model_module_version": "1.5.0",
            "_model_name": "DescriptionStyleModel",
            "_view_count": null,
            "_view_module": "@jupyter-widgets/base",
            "_view_module_version": "1.2.0",
            "_view_name": "StyleView",
            "description_width": ""
          }
        },
        "a80f0682ec854ad386c656676bee6c7b": {
          "model_module": "@jupyter-widgets/controls",
          "model_name": "HBoxModel",
          "model_module_version": "1.5.0",
          "state": {
            "_dom_classes": [],
            "_model_module": "@jupyter-widgets/controls",
            "_model_module_version": "1.5.0",
            "_model_name": "HBoxModel",
            "_view_count": null,
            "_view_module": "@jupyter-widgets/controls",
            "_view_module_version": "1.5.0",
            "_view_name": "HBoxView",
            "box_style": "",
            "children": [
              "IPY_MODEL_ce4d3001d4574366868deb4320dd616a",
              "IPY_MODEL_e01d4f45e74644d18cd666dc38f714b8",
              "IPY_MODEL_82f3ea293d1641d6a8fa0d8eeef14a54"
            ],
            "layout": "IPY_MODEL_ea5db2d3d7f147feb29191bed2d55888"
          }
        },
        "ce4d3001d4574366868deb4320dd616a": {
          "model_module": "@jupyter-widgets/controls",
          "model_name": "HTMLModel",
          "model_module_version": "1.5.0",
          "state": {
            "_dom_classes": [],
            "_model_module": "@jupyter-widgets/controls",
            "_model_module_version": "1.5.0",
            "_model_name": "HTMLModel",
            "_view_count": null,
            "_view_module": "@jupyter-widgets/controls",
            "_view_module_version": "1.5.0",
            "_view_name": "HTMLView",
            "description": "",
            "description_tooltip": null,
            "layout": "IPY_MODEL_66390b78a7674646b4596355f527718e",
            "placeholder": "​",
            "style": "IPY_MODEL_ae81ad9b29914641a65113b22ffbd67c",
            "value": "config.json: 100%"
          }
        },
        "e01d4f45e74644d18cd666dc38f714b8": {
          "model_module": "@jupyter-widgets/controls",
          "model_name": "FloatProgressModel",
          "model_module_version": "1.5.0",
          "state": {
            "_dom_classes": [],
            "_model_module": "@jupyter-widgets/controls",
            "_model_module_version": "1.5.0",
            "_model_name": "FloatProgressModel",
            "_view_count": null,
            "_view_module": "@jupyter-widgets/controls",
            "_view_module_version": "1.5.0",
            "_view_name": "ProgressView",
            "bar_style": "success",
            "description": "",
            "description_tooltip": null,
            "layout": "IPY_MODEL_85584baf09bf448893531623a7f6693a",
            "max": 794,
            "min": 0,
            "orientation": "horizontal",
            "style": "IPY_MODEL_0dc3e4f23a034ed0a12b92fd9a8d07ea",
            "value": 794
          }
        },
        "82f3ea293d1641d6a8fa0d8eeef14a54": {
          "model_module": "@jupyter-widgets/controls",
          "model_name": "HTMLModel",
          "model_module_version": "1.5.0",
          "state": {
            "_dom_classes": [],
            "_model_module": "@jupyter-widgets/controls",
            "_model_module_version": "1.5.0",
            "_model_name": "HTMLModel",
            "_view_count": null,
            "_view_module": "@jupyter-widgets/controls",
            "_view_module_version": "1.5.0",
            "_view_name": "HTMLView",
            "description": "",
            "description_tooltip": null,
            "layout": "IPY_MODEL_fb41f221e71d416590aebb788038cfd6",
            "placeholder": "​",
            "style": "IPY_MODEL_a492087d84514cb8b6bbf398866ae0ef",
            "value": " 794/794 [00:00&lt;00:00, 34.9kB/s]"
          }
        },
        "ea5db2d3d7f147feb29191bed2d55888": {
          "model_module": "@jupyter-widgets/base",
          "model_name": "LayoutModel",
          "model_module_version": "1.2.0",
          "state": {
            "_model_module": "@jupyter-widgets/base",
            "_model_module_version": "1.2.0",
            "_model_name": "LayoutModel",
            "_view_count": null,
            "_view_module": "@jupyter-widgets/base",
            "_view_module_version": "1.2.0",
            "_view_name": "LayoutView",
            "align_content": null,
            "align_items": null,
            "align_self": null,
            "border": null,
            "bottom": null,
            "display": null,
            "flex": null,
            "flex_flow": null,
            "grid_area": null,
            "grid_auto_columns": null,
            "grid_auto_flow": null,
            "grid_auto_rows": null,
            "grid_column": null,
            "grid_gap": null,
            "grid_row": null,
            "grid_template_areas": null,
            "grid_template_columns": null,
            "grid_template_rows": null,
            "height": null,
            "justify_content": null,
            "justify_items": null,
            "left": null,
            "margin": null,
            "max_height": null,
            "max_width": null,
            "min_height": null,
            "min_width": null,
            "object_fit": null,
            "object_position": null,
            "order": null,
            "overflow": null,
            "overflow_x": null,
            "overflow_y": null,
            "padding": null,
            "right": null,
            "top": null,
            "visibility": null,
            "width": null
          }
        },
        "66390b78a7674646b4596355f527718e": {
          "model_module": "@jupyter-widgets/base",
          "model_name": "LayoutModel",
          "model_module_version": "1.2.0",
          "state": {
            "_model_module": "@jupyter-widgets/base",
            "_model_module_version": "1.2.0",
            "_model_name": "LayoutModel",
            "_view_count": null,
            "_view_module": "@jupyter-widgets/base",
            "_view_module_version": "1.2.0",
            "_view_name": "LayoutView",
            "align_content": null,
            "align_items": null,
            "align_self": null,
            "border": null,
            "bottom": null,
            "display": null,
            "flex": null,
            "flex_flow": null,
            "grid_area": null,
            "grid_auto_columns": null,
            "grid_auto_flow": null,
            "grid_auto_rows": null,
            "grid_column": null,
            "grid_gap": null,
            "grid_row": null,
            "grid_template_areas": null,
            "grid_template_columns": null,
            "grid_template_rows": null,
            "height": null,
            "justify_content": null,
            "justify_items": null,
            "left": null,
            "margin": null,
            "max_height": null,
            "max_width": null,
            "min_height": null,
            "min_width": null,
            "object_fit": null,
            "object_position": null,
            "order": null,
            "overflow": null,
            "overflow_x": null,
            "overflow_y": null,
            "padding": null,
            "right": null,
            "top": null,
            "visibility": null,
            "width": null
          }
        },
        "ae81ad9b29914641a65113b22ffbd67c": {
          "model_module": "@jupyter-widgets/controls",
          "model_name": "DescriptionStyleModel",
          "model_module_version": "1.5.0",
          "state": {
            "_model_module": "@jupyter-widgets/controls",
            "_model_module_version": "1.5.0",
            "_model_name": "DescriptionStyleModel",
            "_view_count": null,
            "_view_module": "@jupyter-widgets/base",
            "_view_module_version": "1.2.0",
            "_view_name": "StyleView",
            "description_width": ""
          }
        },
        "85584baf09bf448893531623a7f6693a": {
          "model_module": "@jupyter-widgets/base",
          "model_name": "LayoutModel",
          "model_module_version": "1.2.0",
          "state": {
            "_model_module": "@jupyter-widgets/base",
            "_model_module_version": "1.2.0",
            "_model_name": "LayoutModel",
            "_view_count": null,
            "_view_module": "@jupyter-widgets/base",
            "_view_module_version": "1.2.0",
            "_view_name": "LayoutView",
            "align_content": null,
            "align_items": null,
            "align_self": null,
            "border": null,
            "bottom": null,
            "display": null,
            "flex": null,
            "flex_flow": null,
            "grid_area": null,
            "grid_auto_columns": null,
            "grid_auto_flow": null,
            "grid_auto_rows": null,
            "grid_column": null,
            "grid_gap": null,
            "grid_row": null,
            "grid_template_areas": null,
            "grid_template_columns": null,
            "grid_template_rows": null,
            "height": null,
            "justify_content": null,
            "justify_items": null,
            "left": null,
            "margin": null,
            "max_height": null,
            "max_width": null,
            "min_height": null,
            "min_width": null,
            "object_fit": null,
            "object_position": null,
            "order": null,
            "overflow": null,
            "overflow_x": null,
            "overflow_y": null,
            "padding": null,
            "right": null,
            "top": null,
            "visibility": null,
            "width": null
          }
        },
        "0dc3e4f23a034ed0a12b92fd9a8d07ea": {
          "model_module": "@jupyter-widgets/controls",
          "model_name": "ProgressStyleModel",
          "model_module_version": "1.5.0",
          "state": {
            "_model_module": "@jupyter-widgets/controls",
            "_model_module_version": "1.5.0",
            "_model_name": "ProgressStyleModel",
            "_view_count": null,
            "_view_module": "@jupyter-widgets/base",
            "_view_module_version": "1.2.0",
            "_view_name": "StyleView",
            "bar_color": null,
            "description_width": ""
          }
        },
        "fb41f221e71d416590aebb788038cfd6": {
          "model_module": "@jupyter-widgets/base",
          "model_name": "LayoutModel",
          "model_module_version": "1.2.0",
          "state": {
            "_model_module": "@jupyter-widgets/base",
            "_model_module_version": "1.2.0",
            "_model_name": "LayoutModel",
            "_view_count": null,
            "_view_module": "@jupyter-widgets/base",
            "_view_module_version": "1.2.0",
            "_view_name": "LayoutView",
            "align_content": null,
            "align_items": null,
            "align_self": null,
            "border": null,
            "bottom": null,
            "display": null,
            "flex": null,
            "flex_flow": null,
            "grid_area": null,
            "grid_auto_columns": null,
            "grid_auto_flow": null,
            "grid_auto_rows": null,
            "grid_column": null,
            "grid_gap": null,
            "grid_row": null,
            "grid_template_areas": null,
            "grid_template_columns": null,
            "grid_template_rows": null,
            "height": null,
            "justify_content": null,
            "justify_items": null,
            "left": null,
            "margin": null,
            "max_height": null,
            "max_width": null,
            "min_height": null,
            "min_width": null,
            "object_fit": null,
            "object_position": null,
            "order": null,
            "overflow": null,
            "overflow_x": null,
            "overflow_y": null,
            "padding": null,
            "right": null,
            "top": null,
            "visibility": null,
            "width": null
          }
        },
        "a492087d84514cb8b6bbf398866ae0ef": {
          "model_module": "@jupyter-widgets/controls",
          "model_name": "DescriptionStyleModel",
          "model_module_version": "1.5.0",
          "state": {
            "_model_module": "@jupyter-widgets/controls",
            "_model_module_version": "1.5.0",
            "_model_name": "DescriptionStyleModel",
            "_view_count": null,
            "_view_module": "@jupyter-widgets/base",
            "_view_module_version": "1.2.0",
            "_view_name": "StyleView",
            "description_width": ""
          }
        },
        "85dec2dbdcf14c8db2617bbafdceef78": {
          "model_module": "@jupyter-widgets/controls",
          "model_name": "HBoxModel",
          "model_module_version": "1.5.0",
          "state": {
            "_dom_classes": [],
            "_model_module": "@jupyter-widgets/controls",
            "_model_module_version": "1.5.0",
            "_model_name": "HBoxModel",
            "_view_count": null,
            "_view_module": "@jupyter-widgets/controls",
            "_view_module_version": "1.5.0",
            "_view_name": "HBoxView",
            "box_style": "",
            "children": [
              "IPY_MODEL_4359097385d74b6f92cbff07d55faeec",
              "IPY_MODEL_af782c89ed0f46e1a6535e3bdd01755d",
              "IPY_MODEL_f340fe6e643a4aa0a9171a1e04ea40bc"
            ],
            "layout": "IPY_MODEL_34b532f5a31544aeaf7380c9208d6340"
          }
        },
        "4359097385d74b6f92cbff07d55faeec": {
          "model_module": "@jupyter-widgets/controls",
          "model_name": "HTMLModel",
          "model_module_version": "1.5.0",
          "state": {
            "_dom_classes": [],
            "_model_module": "@jupyter-widgets/controls",
            "_model_module_version": "1.5.0",
            "_model_name": "HTMLModel",
            "_view_count": null,
            "_view_module": "@jupyter-widgets/controls",
            "_view_module_version": "1.5.0",
            "_view_name": "HTMLView",
            "description": "",
            "description_tooltip": null,
            "layout": "IPY_MODEL_abbfa92afdee47f983f2e0a3daf81c74",
            "placeholder": "​",
            "style": "IPY_MODEL_1cda0712f95e4b97945ea3f07079b89e",
            "value": "pytorch_model.bin: 100%"
          }
        },
        "af782c89ed0f46e1a6535e3bdd01755d": {
          "model_module": "@jupyter-widgets/controls",
          "model_name": "FloatProgressModel",
          "model_module_version": "1.5.0",
          "state": {
            "_dom_classes": [],
            "_model_module": "@jupyter-widgets/controls",
            "_model_module_version": "1.5.0",
            "_model_name": "FloatProgressModel",
            "_view_count": null,
            "_view_module": "@jupyter-widgets/controls",
            "_view_module_version": "1.5.0",
            "_view_name": "ProgressView",
            "bar_style": "success",
            "description": "",
            "description_tooltip": null,
            "layout": "IPY_MODEL_3e4c1d2d634e48a8a0cf82ec6b3f1063",
            "max": 62484521,
            "min": 0,
            "orientation": "horizontal",
            "style": "IPY_MODEL_a90c89e443d14593aa1e68eebbcc7304",
            "value": 62484521
          }
        },
        "f340fe6e643a4aa0a9171a1e04ea40bc": {
          "model_module": "@jupyter-widgets/controls",
          "model_name": "HTMLModel",
          "model_module_version": "1.5.0",
          "state": {
            "_dom_classes": [],
            "_model_module": "@jupyter-widgets/controls",
            "_model_module_version": "1.5.0",
            "_model_name": "HTMLModel",
            "_view_count": null,
            "_view_module": "@jupyter-widgets/controls",
            "_view_module_version": "1.5.0",
            "_view_name": "HTMLView",
            "description": "",
            "description_tooltip": null,
            "layout": "IPY_MODEL_ad2f686dd3bc4d4a9dad15af5348b680",
            "placeholder": "​",
            "style": "IPY_MODEL_5dfccf08cc814576a6b2f5f9671abf5f",
            "value": " 62.5M/62.5M [00:00&lt;00:00, 89.6MB/s]"
          }
        },
        "34b532f5a31544aeaf7380c9208d6340": {
          "model_module": "@jupyter-widgets/base",
          "model_name": "LayoutModel",
          "model_module_version": "1.2.0",
          "state": {
            "_model_module": "@jupyter-widgets/base",
            "_model_module_version": "1.2.0",
            "_model_name": "LayoutModel",
            "_view_count": null,
            "_view_module": "@jupyter-widgets/base",
            "_view_module_version": "1.2.0",
            "_view_name": "LayoutView",
            "align_content": null,
            "align_items": null,
            "align_self": null,
            "border": null,
            "bottom": null,
            "display": null,
            "flex": null,
            "flex_flow": null,
            "grid_area": null,
            "grid_auto_columns": null,
            "grid_auto_flow": null,
            "grid_auto_rows": null,
            "grid_column": null,
            "grid_gap": null,
            "grid_row": null,
            "grid_template_areas": null,
            "grid_template_columns": null,
            "grid_template_rows": null,
            "height": null,
            "justify_content": null,
            "justify_items": null,
            "left": null,
            "margin": null,
            "max_height": null,
            "max_width": null,
            "min_height": null,
            "min_width": null,
            "object_fit": null,
            "object_position": null,
            "order": null,
            "overflow": null,
            "overflow_x": null,
            "overflow_y": null,
            "padding": null,
            "right": null,
            "top": null,
            "visibility": null,
            "width": null
          }
        },
        "abbfa92afdee47f983f2e0a3daf81c74": {
          "model_module": "@jupyter-widgets/base",
          "model_name": "LayoutModel",
          "model_module_version": "1.2.0",
          "state": {
            "_model_module": "@jupyter-widgets/base",
            "_model_module_version": "1.2.0",
            "_model_name": "LayoutModel",
            "_view_count": null,
            "_view_module": "@jupyter-widgets/base",
            "_view_module_version": "1.2.0",
            "_view_name": "LayoutView",
            "align_content": null,
            "align_items": null,
            "align_self": null,
            "border": null,
            "bottom": null,
            "display": null,
            "flex": null,
            "flex_flow": null,
            "grid_area": null,
            "grid_auto_columns": null,
            "grid_auto_flow": null,
            "grid_auto_rows": null,
            "grid_column": null,
            "grid_gap": null,
            "grid_row": null,
            "grid_template_areas": null,
            "grid_template_columns": null,
            "grid_template_rows": null,
            "height": null,
            "justify_content": null,
            "justify_items": null,
            "left": null,
            "margin": null,
            "max_height": null,
            "max_width": null,
            "min_height": null,
            "min_width": null,
            "object_fit": null,
            "object_position": null,
            "order": null,
            "overflow": null,
            "overflow_x": null,
            "overflow_y": null,
            "padding": null,
            "right": null,
            "top": null,
            "visibility": null,
            "width": null
          }
        },
        "1cda0712f95e4b97945ea3f07079b89e": {
          "model_module": "@jupyter-widgets/controls",
          "model_name": "DescriptionStyleModel",
          "model_module_version": "1.5.0",
          "state": {
            "_model_module": "@jupyter-widgets/controls",
            "_model_module_version": "1.5.0",
            "_model_name": "DescriptionStyleModel",
            "_view_count": null,
            "_view_module": "@jupyter-widgets/base",
            "_view_module_version": "1.2.0",
            "_view_name": "StyleView",
            "description_width": ""
          }
        },
        "3e4c1d2d634e48a8a0cf82ec6b3f1063": {
          "model_module": "@jupyter-widgets/base",
          "model_name": "LayoutModel",
          "model_module_version": "1.2.0",
          "state": {
            "_model_module": "@jupyter-widgets/base",
            "_model_module_version": "1.2.0",
            "_model_name": "LayoutModel",
            "_view_count": null,
            "_view_module": "@jupyter-widgets/base",
            "_view_module_version": "1.2.0",
            "_view_name": "LayoutView",
            "align_content": null,
            "align_items": null,
            "align_self": null,
            "border": null,
            "bottom": null,
            "display": null,
            "flex": null,
            "flex_flow": null,
            "grid_area": null,
            "grid_auto_columns": null,
            "grid_auto_flow": null,
            "grid_auto_rows": null,
            "grid_column": null,
            "grid_gap": null,
            "grid_row": null,
            "grid_template_areas": null,
            "grid_template_columns": null,
            "grid_template_rows": null,
            "height": null,
            "justify_content": null,
            "justify_items": null,
            "left": null,
            "margin": null,
            "max_height": null,
            "max_width": null,
            "min_height": null,
            "min_width": null,
            "object_fit": null,
            "object_position": null,
            "order": null,
            "overflow": null,
            "overflow_x": null,
            "overflow_y": null,
            "padding": null,
            "right": null,
            "top": null,
            "visibility": null,
            "width": null
          }
        },
        "a90c89e443d14593aa1e68eebbcc7304": {
          "model_module": "@jupyter-widgets/controls",
          "model_name": "ProgressStyleModel",
          "model_module_version": "1.5.0",
          "state": {
            "_model_module": "@jupyter-widgets/controls",
            "_model_module_version": "1.5.0",
            "_model_name": "ProgressStyleModel",
            "_view_count": null,
            "_view_module": "@jupyter-widgets/base",
            "_view_module_version": "1.2.0",
            "_view_name": "StyleView",
            "bar_color": null,
            "description_width": ""
          }
        },
        "ad2f686dd3bc4d4a9dad15af5348b680": {
          "model_module": "@jupyter-widgets/base",
          "model_name": "LayoutModel",
          "model_module_version": "1.2.0",
          "state": {
            "_model_module": "@jupyter-widgets/base",
            "_model_module_version": "1.2.0",
            "_model_name": "LayoutModel",
            "_view_count": null,
            "_view_module": "@jupyter-widgets/base",
            "_view_module_version": "1.2.0",
            "_view_name": "LayoutView",
            "align_content": null,
            "align_items": null,
            "align_self": null,
            "border": null,
            "bottom": null,
            "display": null,
            "flex": null,
            "flex_flow": null,
            "grid_area": null,
            "grid_auto_columns": null,
            "grid_auto_flow": null,
            "grid_auto_rows": null,
            "grid_column": null,
            "grid_gap": null,
            "grid_row": null,
            "grid_template_areas": null,
            "grid_template_columns": null,
            "grid_template_rows": null,
            "height": null,
            "justify_content": null,
            "justify_items": null,
            "left": null,
            "margin": null,
            "max_height": null,
            "max_width": null,
            "min_height": null,
            "min_width": null,
            "object_fit": null,
            "object_position": null,
            "order": null,
            "overflow": null,
            "overflow_x": null,
            "overflow_y": null,
            "padding": null,
            "right": null,
            "top": null,
            "visibility": null,
            "width": null
          }
        },
        "5dfccf08cc814576a6b2f5f9671abf5f": {
          "model_module": "@jupyter-widgets/controls",
          "model_name": "DescriptionStyleModel",
          "model_module_version": "1.5.0",
          "state": {
            "_model_module": "@jupyter-widgets/controls",
            "_model_module_version": "1.5.0",
            "_model_name": "DescriptionStyleModel",
            "_view_count": null,
            "_view_module": "@jupyter-widgets/base",
            "_view_module_version": "1.2.0",
            "_view_name": "StyleView",
            "description_width": ""
          }
        },
        "a96115203d0c404787eadf6ec7720b55": {
          "model_module": "@jupyter-widgets/controls",
          "model_name": "HBoxModel",
          "model_module_version": "1.5.0",
          "state": {
            "_dom_classes": [],
            "_model_module": "@jupyter-widgets/controls",
            "_model_module_version": "1.5.0",
            "_model_name": "HBoxModel",
            "_view_count": null,
            "_view_module": "@jupyter-widgets/controls",
            "_view_module_version": "1.5.0",
            "_view_name": "HBoxView",
            "box_style": "",
            "children": [
              "IPY_MODEL_5dbf6a2ca03942cf9b7027be653069b4",
              "IPY_MODEL_33606e3c977c4c5e9618a631b477ffeb",
              "IPY_MODEL_358fdf8f52a6425799d768e3503e992e"
            ],
            "layout": "IPY_MODEL_ca25dafb9e7f40d6b3fad40f2f6ce355"
          }
        },
        "5dbf6a2ca03942cf9b7027be653069b4": {
          "model_module": "@jupyter-widgets/controls",
          "model_name": "HTMLModel",
          "model_module_version": "1.5.0",
          "state": {
            "_dom_classes": [],
            "_model_module": "@jupyter-widgets/controls",
            "_model_module_version": "1.5.0",
            "_model_name": "HTMLModel",
            "_view_count": null,
            "_view_module": "@jupyter-widgets/controls",
            "_view_module_version": "1.5.0",
            "_view_name": "HTMLView",
            "description": "",
            "description_tooltip": null,
            "layout": "IPY_MODEL_aef6a2e0ef5c44fb8ab4c92e8590d268",
            "placeholder": "​",
            "style": "IPY_MODEL_c3444fc6ffc04e4d8a0bcc9a9a19c610",
            "value": "tokenizer_config.json: 100%"
          }
        },
        "33606e3c977c4c5e9618a631b477ffeb": {
          "model_module": "@jupyter-widgets/controls",
          "model_name": "FloatProgressModel",
          "model_module_version": "1.5.0",
          "state": {
            "_dom_classes": [],
            "_model_module": "@jupyter-widgets/controls",
            "_model_module_version": "1.5.0",
            "_model_name": "FloatProgressModel",
            "_view_count": null,
            "_view_module": "@jupyter-widgets/controls",
            "_view_module_version": "1.5.0",
            "_view_name": "ProgressView",
            "bar_style": "success",
            "description": "",
            "description_tooltip": null,
            "layout": "IPY_MODEL_bf8bcbc3948140fdb10f56cae44b0b6d",
            "max": 316,
            "min": 0,
            "orientation": "horizontal",
            "style": "IPY_MODEL_372b15cc53f1467c9000e0c53645a935",
            "value": 316
          }
        },
        "358fdf8f52a6425799d768e3503e992e": {
          "model_module": "@jupyter-widgets/controls",
          "model_name": "HTMLModel",
          "model_module_version": "1.5.0",
          "state": {
            "_dom_classes": [],
            "_model_module": "@jupyter-widgets/controls",
            "_model_module_version": "1.5.0",
            "_model_name": "HTMLModel",
            "_view_count": null,
            "_view_module": "@jupyter-widgets/controls",
            "_view_module_version": "1.5.0",
            "_view_name": "HTMLView",
            "description": "",
            "description_tooltip": null,
            "layout": "IPY_MODEL_3cbc084f14c840d1aa30645e3a14d966",
            "placeholder": "​",
            "style": "IPY_MODEL_562d9e7755224d79b26f949341cb7a69",
            "value": " 316/316 [00:00&lt;00:00, 15.3kB/s]"
          }
        },
        "ca25dafb9e7f40d6b3fad40f2f6ce355": {
          "model_module": "@jupyter-widgets/base",
          "model_name": "LayoutModel",
          "model_module_version": "1.2.0",
          "state": {
            "_model_module": "@jupyter-widgets/base",
            "_model_module_version": "1.2.0",
            "_model_name": "LayoutModel",
            "_view_count": null,
            "_view_module": "@jupyter-widgets/base",
            "_view_module_version": "1.2.0",
            "_view_name": "LayoutView",
            "align_content": null,
            "align_items": null,
            "align_self": null,
            "border": null,
            "bottom": null,
            "display": null,
            "flex": null,
            "flex_flow": null,
            "grid_area": null,
            "grid_auto_columns": null,
            "grid_auto_flow": null,
            "grid_auto_rows": null,
            "grid_column": null,
            "grid_gap": null,
            "grid_row": null,
            "grid_template_areas": null,
            "grid_template_columns": null,
            "grid_template_rows": null,
            "height": null,
            "justify_content": null,
            "justify_items": null,
            "left": null,
            "margin": null,
            "max_height": null,
            "max_width": null,
            "min_height": null,
            "min_width": null,
            "object_fit": null,
            "object_position": null,
            "order": null,
            "overflow": null,
            "overflow_x": null,
            "overflow_y": null,
            "padding": null,
            "right": null,
            "top": null,
            "visibility": null,
            "width": null
          }
        },
        "aef6a2e0ef5c44fb8ab4c92e8590d268": {
          "model_module": "@jupyter-widgets/base",
          "model_name": "LayoutModel",
          "model_module_version": "1.2.0",
          "state": {
            "_model_module": "@jupyter-widgets/base",
            "_model_module_version": "1.2.0",
            "_model_name": "LayoutModel",
            "_view_count": null,
            "_view_module": "@jupyter-widgets/base",
            "_view_module_version": "1.2.0",
            "_view_name": "LayoutView",
            "align_content": null,
            "align_items": null,
            "align_self": null,
            "border": null,
            "bottom": null,
            "display": null,
            "flex": null,
            "flex_flow": null,
            "grid_area": null,
            "grid_auto_columns": null,
            "grid_auto_flow": null,
            "grid_auto_rows": null,
            "grid_column": null,
            "grid_gap": null,
            "grid_row": null,
            "grid_template_areas": null,
            "grid_template_columns": null,
            "grid_template_rows": null,
            "height": null,
            "justify_content": null,
            "justify_items": null,
            "left": null,
            "margin": null,
            "max_height": null,
            "max_width": null,
            "min_height": null,
            "min_width": null,
            "object_fit": null,
            "object_position": null,
            "order": null,
            "overflow": null,
            "overflow_x": null,
            "overflow_y": null,
            "padding": null,
            "right": null,
            "top": null,
            "visibility": null,
            "width": null
          }
        },
        "c3444fc6ffc04e4d8a0bcc9a9a19c610": {
          "model_module": "@jupyter-widgets/controls",
          "model_name": "DescriptionStyleModel",
          "model_module_version": "1.5.0",
          "state": {
            "_model_module": "@jupyter-widgets/controls",
            "_model_module_version": "1.5.0",
            "_model_name": "DescriptionStyleModel",
            "_view_count": null,
            "_view_module": "@jupyter-widgets/base",
            "_view_module_version": "1.2.0",
            "_view_name": "StyleView",
            "description_width": ""
          }
        },
        "bf8bcbc3948140fdb10f56cae44b0b6d": {
          "model_module": "@jupyter-widgets/base",
          "model_name": "LayoutModel",
          "model_module_version": "1.2.0",
          "state": {
            "_model_module": "@jupyter-widgets/base",
            "_model_module_version": "1.2.0",
            "_model_name": "LayoutModel",
            "_view_count": null,
            "_view_module": "@jupyter-widgets/base",
            "_view_module_version": "1.2.0",
            "_view_name": "LayoutView",
            "align_content": null,
            "align_items": null,
            "align_self": null,
            "border": null,
            "bottom": null,
            "display": null,
            "flex": null,
            "flex_flow": null,
            "grid_area": null,
            "grid_auto_columns": null,
            "grid_auto_flow": null,
            "grid_auto_rows": null,
            "grid_column": null,
            "grid_gap": null,
            "grid_row": null,
            "grid_template_areas": null,
            "grid_template_columns": null,
            "grid_template_rows": null,
            "height": null,
            "justify_content": null,
            "justify_items": null,
            "left": null,
            "margin": null,
            "max_height": null,
            "max_width": null,
            "min_height": null,
            "min_width": null,
            "object_fit": null,
            "object_position": null,
            "order": null,
            "overflow": null,
            "overflow_x": null,
            "overflow_y": null,
            "padding": null,
            "right": null,
            "top": null,
            "visibility": null,
            "width": null
          }
        },
        "372b15cc53f1467c9000e0c53645a935": {
          "model_module": "@jupyter-widgets/controls",
          "model_name": "ProgressStyleModel",
          "model_module_version": "1.5.0",
          "state": {
            "_model_module": "@jupyter-widgets/controls",
            "_model_module_version": "1.5.0",
            "_model_name": "ProgressStyleModel",
            "_view_count": null,
            "_view_module": "@jupyter-widgets/base",
            "_view_module_version": "1.2.0",
            "_view_name": "StyleView",
            "bar_color": null,
            "description_width": ""
          }
        },
        "3cbc084f14c840d1aa30645e3a14d966": {
          "model_module": "@jupyter-widgets/base",
          "model_name": "LayoutModel",
          "model_module_version": "1.2.0",
          "state": {
            "_model_module": "@jupyter-widgets/base",
            "_model_module_version": "1.2.0",
            "_model_name": "LayoutModel",
            "_view_count": null,
            "_view_module": "@jupyter-widgets/base",
            "_view_module_version": "1.2.0",
            "_view_name": "LayoutView",
            "align_content": null,
            "align_items": null,
            "align_self": null,
            "border": null,
            "bottom": null,
            "display": null,
            "flex": null,
            "flex_flow": null,
            "grid_area": null,
            "grid_auto_columns": null,
            "grid_auto_flow": null,
            "grid_auto_rows": null,
            "grid_column": null,
            "grid_gap": null,
            "grid_row": null,
            "grid_template_areas": null,
            "grid_template_columns": null,
            "grid_template_rows": null,
            "height": null,
            "justify_content": null,
            "justify_items": null,
            "left": null,
            "margin": null,
            "max_height": null,
            "max_width": null,
            "min_height": null,
            "min_width": null,
            "object_fit": null,
            "object_position": null,
            "order": null,
            "overflow": null,
            "overflow_x": null,
            "overflow_y": null,
            "padding": null,
            "right": null,
            "top": null,
            "visibility": null,
            "width": null
          }
        },
        "562d9e7755224d79b26f949341cb7a69": {
          "model_module": "@jupyter-widgets/controls",
          "model_name": "DescriptionStyleModel",
          "model_module_version": "1.5.0",
          "state": {
            "_model_module": "@jupyter-widgets/controls",
            "_model_module_version": "1.5.0",
            "_model_name": "DescriptionStyleModel",
            "_view_count": null,
            "_view_module": "@jupyter-widgets/base",
            "_view_module_version": "1.2.0",
            "_view_name": "StyleView",
            "description_width": ""
          }
        },
        "e0c094479f154e3296ef0ef19ad76ff9": {
          "model_module": "@jupyter-widgets/controls",
          "model_name": "HBoxModel",
          "model_module_version": "1.5.0",
          "state": {
            "_dom_classes": [],
            "_model_module": "@jupyter-widgets/controls",
            "_model_module_version": "1.5.0",
            "_model_name": "HBoxModel",
            "_view_count": null,
            "_view_module": "@jupyter-widgets/controls",
            "_view_module_version": "1.5.0",
            "_view_name": "HBoxView",
            "box_style": "",
            "children": [
              "IPY_MODEL_433953042ffb4000a8de88b12bbedb8c",
              "IPY_MODEL_0005ee8b322543b9a2837eaa162c4867",
              "IPY_MODEL_f2ce04c4f7324969a641ca05bf04b981"
            ],
            "layout": "IPY_MODEL_6292d80302db414bb8a6ec30954158e4"
          }
        },
        "433953042ffb4000a8de88b12bbedb8c": {
          "model_module": "@jupyter-widgets/controls",
          "model_name": "HTMLModel",
          "model_module_version": "1.5.0",
          "state": {
            "_dom_classes": [],
            "_model_module": "@jupyter-widgets/controls",
            "_model_module_version": "1.5.0",
            "_model_name": "HTMLModel",
            "_view_count": null,
            "_view_module": "@jupyter-widgets/controls",
            "_view_module_version": "1.5.0",
            "_view_name": "HTMLView",
            "description": "",
            "description_tooltip": null,
            "layout": "IPY_MODEL_3f02bfb82f5847b1a8e63557caaeb12c",
            "placeholder": "​",
            "style": "IPY_MODEL_6033d78777aa4d1dafd669c99a975030",
            "value": "vocab.txt: 100%"
          }
        },
        "0005ee8b322543b9a2837eaa162c4867": {
          "model_module": "@jupyter-widgets/controls",
          "model_name": "FloatProgressModel",
          "model_module_version": "1.5.0",
          "state": {
            "_dom_classes": [],
            "_model_module": "@jupyter-widgets/controls",
            "_model_module_version": "1.5.0",
            "_model_name": "FloatProgressModel",
            "_view_count": null,
            "_view_module": "@jupyter-widgets/controls",
            "_view_module_version": "1.5.0",
            "_view_name": "ProgressView",
            "bar_style": "success",
            "description": "",
            "description_tooltip": null,
            "layout": "IPY_MODEL_bc0384e0da414c0d855a02c1bba7b465",
            "max": 231508,
            "min": 0,
            "orientation": "horizontal",
            "style": "IPY_MODEL_0f9bb73b77a14f20a404a8c243d13cb2",
            "value": 231508
          }
        },
        "f2ce04c4f7324969a641ca05bf04b981": {
          "model_module": "@jupyter-widgets/controls",
          "model_name": "HTMLModel",
          "model_module_version": "1.5.0",
          "state": {
            "_dom_classes": [],
            "_model_module": "@jupyter-widgets/controls",
            "_model_module_version": "1.5.0",
            "_model_name": "HTMLModel",
            "_view_count": null,
            "_view_module": "@jupyter-widgets/controls",
            "_view_module_version": "1.5.0",
            "_view_name": "HTMLView",
            "description": "",
            "description_tooltip": null,
            "layout": "IPY_MODEL_b4ece0ebd87f42bab5a14c5c89370c3e",
            "placeholder": "​",
            "style": "IPY_MODEL_e15610e92b9e49f18bc1f25a4750543b",
            "value": " 232k/232k [00:00&lt;00:00, 3.29MB/s]"
          }
        },
        "6292d80302db414bb8a6ec30954158e4": {
          "model_module": "@jupyter-widgets/base",
          "model_name": "LayoutModel",
          "model_module_version": "1.2.0",
          "state": {
            "_model_module": "@jupyter-widgets/base",
            "_model_module_version": "1.2.0",
            "_model_name": "LayoutModel",
            "_view_count": null,
            "_view_module": "@jupyter-widgets/base",
            "_view_module_version": "1.2.0",
            "_view_name": "LayoutView",
            "align_content": null,
            "align_items": null,
            "align_self": null,
            "border": null,
            "bottom": null,
            "display": null,
            "flex": null,
            "flex_flow": null,
            "grid_area": null,
            "grid_auto_columns": null,
            "grid_auto_flow": null,
            "grid_auto_rows": null,
            "grid_column": null,
            "grid_gap": null,
            "grid_row": null,
            "grid_template_areas": null,
            "grid_template_columns": null,
            "grid_template_rows": null,
            "height": null,
            "justify_content": null,
            "justify_items": null,
            "left": null,
            "margin": null,
            "max_height": null,
            "max_width": null,
            "min_height": null,
            "min_width": null,
            "object_fit": null,
            "object_position": null,
            "order": null,
            "overflow": null,
            "overflow_x": null,
            "overflow_y": null,
            "padding": null,
            "right": null,
            "top": null,
            "visibility": null,
            "width": null
          }
        },
        "3f02bfb82f5847b1a8e63557caaeb12c": {
          "model_module": "@jupyter-widgets/base",
          "model_name": "LayoutModel",
          "model_module_version": "1.2.0",
          "state": {
            "_model_module": "@jupyter-widgets/base",
            "_model_module_version": "1.2.0",
            "_model_name": "LayoutModel",
            "_view_count": null,
            "_view_module": "@jupyter-widgets/base",
            "_view_module_version": "1.2.0",
            "_view_name": "LayoutView",
            "align_content": null,
            "align_items": null,
            "align_self": null,
            "border": null,
            "bottom": null,
            "display": null,
            "flex": null,
            "flex_flow": null,
            "grid_area": null,
            "grid_auto_columns": null,
            "grid_auto_flow": null,
            "grid_auto_rows": null,
            "grid_column": null,
            "grid_gap": null,
            "grid_row": null,
            "grid_template_areas": null,
            "grid_template_columns": null,
            "grid_template_rows": null,
            "height": null,
            "justify_content": null,
            "justify_items": null,
            "left": null,
            "margin": null,
            "max_height": null,
            "max_width": null,
            "min_height": null,
            "min_width": null,
            "object_fit": null,
            "object_position": null,
            "order": null,
            "overflow": null,
            "overflow_x": null,
            "overflow_y": null,
            "padding": null,
            "right": null,
            "top": null,
            "visibility": null,
            "width": null
          }
        },
        "6033d78777aa4d1dafd669c99a975030": {
          "model_module": "@jupyter-widgets/controls",
          "model_name": "DescriptionStyleModel",
          "model_module_version": "1.5.0",
          "state": {
            "_model_module": "@jupyter-widgets/controls",
            "_model_module_version": "1.5.0",
            "_model_name": "DescriptionStyleModel",
            "_view_count": null,
            "_view_module": "@jupyter-widgets/base",
            "_view_module_version": "1.2.0",
            "_view_name": "StyleView",
            "description_width": ""
          }
        },
        "bc0384e0da414c0d855a02c1bba7b465": {
          "model_module": "@jupyter-widgets/base",
          "model_name": "LayoutModel",
          "model_module_version": "1.2.0",
          "state": {
            "_model_module": "@jupyter-widgets/base",
            "_model_module_version": "1.2.0",
            "_model_name": "LayoutModel",
            "_view_count": null,
            "_view_module": "@jupyter-widgets/base",
            "_view_module_version": "1.2.0",
            "_view_name": "LayoutView",
            "align_content": null,
            "align_items": null,
            "align_self": null,
            "border": null,
            "bottom": null,
            "display": null,
            "flex": null,
            "flex_flow": null,
            "grid_area": null,
            "grid_auto_columns": null,
            "grid_auto_flow": null,
            "grid_auto_rows": null,
            "grid_column": null,
            "grid_gap": null,
            "grid_row": null,
            "grid_template_areas": null,
            "grid_template_columns": null,
            "grid_template_rows": null,
            "height": null,
            "justify_content": null,
            "justify_items": null,
            "left": null,
            "margin": null,
            "max_height": null,
            "max_width": null,
            "min_height": null,
            "min_width": null,
            "object_fit": null,
            "object_position": null,
            "order": null,
            "overflow": null,
            "overflow_x": null,
            "overflow_y": null,
            "padding": null,
            "right": null,
            "top": null,
            "visibility": null,
            "width": null
          }
        },
        "0f9bb73b77a14f20a404a8c243d13cb2": {
          "model_module": "@jupyter-widgets/controls",
          "model_name": "ProgressStyleModel",
          "model_module_version": "1.5.0",
          "state": {
            "_model_module": "@jupyter-widgets/controls",
            "_model_module_version": "1.5.0",
            "_model_name": "ProgressStyleModel",
            "_view_count": null,
            "_view_module": "@jupyter-widgets/base",
            "_view_module_version": "1.2.0",
            "_view_name": "StyleView",
            "bar_color": null,
            "description_width": ""
          }
        },
        "b4ece0ebd87f42bab5a14c5c89370c3e": {
          "model_module": "@jupyter-widgets/base",
          "model_name": "LayoutModel",
          "model_module_version": "1.2.0",
          "state": {
            "_model_module": "@jupyter-widgets/base",
            "_model_module_version": "1.2.0",
            "_model_name": "LayoutModel",
            "_view_count": null,
            "_view_module": "@jupyter-widgets/base",
            "_view_module_version": "1.2.0",
            "_view_name": "LayoutView",
            "align_content": null,
            "align_items": null,
            "align_self": null,
            "border": null,
            "bottom": null,
            "display": null,
            "flex": null,
            "flex_flow": null,
            "grid_area": null,
            "grid_auto_columns": null,
            "grid_auto_flow": null,
            "grid_auto_rows": null,
            "grid_column": null,
            "grid_gap": null,
            "grid_row": null,
            "grid_template_areas": null,
            "grid_template_columns": null,
            "grid_template_rows": null,
            "height": null,
            "justify_content": null,
            "justify_items": null,
            "left": null,
            "margin": null,
            "max_height": null,
            "max_width": null,
            "min_height": null,
            "min_width": null,
            "object_fit": null,
            "object_position": null,
            "order": null,
            "overflow": null,
            "overflow_x": null,
            "overflow_y": null,
            "padding": null,
            "right": null,
            "top": null,
            "visibility": null,
            "width": null
          }
        },
        "e15610e92b9e49f18bc1f25a4750543b": {
          "model_module": "@jupyter-widgets/controls",
          "model_name": "DescriptionStyleModel",
          "model_module_version": "1.5.0",
          "state": {
            "_model_module": "@jupyter-widgets/controls",
            "_model_module_version": "1.5.0",
            "_model_name": "DescriptionStyleModel",
            "_view_count": null,
            "_view_module": "@jupyter-widgets/base",
            "_view_module_version": "1.2.0",
            "_view_name": "StyleView",
            "description_width": ""
          }
        },
        "92c632dacab54249b030dff5358505aa": {
          "model_module": "@jupyter-widgets/controls",
          "model_name": "HBoxModel",
          "model_module_version": "1.5.0",
          "state": {
            "_dom_classes": [],
            "_model_module": "@jupyter-widgets/controls",
            "_model_module_version": "1.5.0",
            "_model_name": "HBoxModel",
            "_view_count": null,
            "_view_module": "@jupyter-widgets/controls",
            "_view_module_version": "1.5.0",
            "_view_name": "HBoxView",
            "box_style": "",
            "children": [
              "IPY_MODEL_018e899b605245f1b3549bd62f309d99",
              "IPY_MODEL_d7a3ecb0fa8946af8e744370b9e61c5c",
              "IPY_MODEL_b0d8373af3e348d7abdb8211b701d846"
            ],
            "layout": "IPY_MODEL_86c97336bfe5461c915d3f2f55f60676"
          }
        },
        "018e899b605245f1b3549bd62f309d99": {
          "model_module": "@jupyter-widgets/controls",
          "model_name": "HTMLModel",
          "model_module_version": "1.5.0",
          "state": {
            "_dom_classes": [],
            "_model_module": "@jupyter-widgets/controls",
            "_model_module_version": "1.5.0",
            "_model_name": "HTMLModel",
            "_view_count": null,
            "_view_module": "@jupyter-widgets/controls",
            "_view_module_version": "1.5.0",
            "_view_name": "HTMLView",
            "description": "",
            "description_tooltip": null,
            "layout": "IPY_MODEL_467ea5e556a44aab8fc7840dcacec1f2",
            "placeholder": "​",
            "style": "IPY_MODEL_a59eeb7f51b8482a87600cbc9094e167",
            "value": "special_tokens_map.json: 100%"
          }
        },
        "d7a3ecb0fa8946af8e744370b9e61c5c": {
          "model_module": "@jupyter-widgets/controls",
          "model_name": "FloatProgressModel",
          "model_module_version": "1.5.0",
          "state": {
            "_dom_classes": [],
            "_model_module": "@jupyter-widgets/controls",
            "_model_module_version": "1.5.0",
            "_model_name": "FloatProgressModel",
            "_view_count": null,
            "_view_module": "@jupyter-widgets/controls",
            "_view_module_version": "1.5.0",
            "_view_name": "ProgressView",
            "bar_style": "success",
            "description": "",
            "description_tooltip": null,
            "layout": "IPY_MODEL_843e2218a40140b692a2fc1b6596a3d2",
            "max": 112,
            "min": 0,
            "orientation": "horizontal",
            "style": "IPY_MODEL_3b313a5e8e64432eb41b5b22e93fe745",
            "value": 112
          }
        },
        "b0d8373af3e348d7abdb8211b701d846": {
          "model_module": "@jupyter-widgets/controls",
          "model_name": "HTMLModel",
          "model_module_version": "1.5.0",
          "state": {
            "_dom_classes": [],
            "_model_module": "@jupyter-widgets/controls",
            "_model_module_version": "1.5.0",
            "_model_name": "HTMLModel",
            "_view_count": null,
            "_view_module": "@jupyter-widgets/controls",
            "_view_module_version": "1.5.0",
            "_view_name": "HTMLView",
            "description": "",
            "description_tooltip": null,
            "layout": "IPY_MODEL_c64fc033db0142609633ed36a69b58ea",
            "placeholder": "​",
            "style": "IPY_MODEL_05816568fe30454cbcc9e4befc9e3dee",
            "value": " 112/112 [00:00&lt;00:00, 6.28kB/s]"
          }
        },
        "86c97336bfe5461c915d3f2f55f60676": {
          "model_module": "@jupyter-widgets/base",
          "model_name": "LayoutModel",
          "model_module_version": "1.2.0",
          "state": {
            "_model_module": "@jupyter-widgets/base",
            "_model_module_version": "1.2.0",
            "_model_name": "LayoutModel",
            "_view_count": null,
            "_view_module": "@jupyter-widgets/base",
            "_view_module_version": "1.2.0",
            "_view_name": "LayoutView",
            "align_content": null,
            "align_items": null,
            "align_self": null,
            "border": null,
            "bottom": null,
            "display": null,
            "flex": null,
            "flex_flow": null,
            "grid_area": null,
            "grid_auto_columns": null,
            "grid_auto_flow": null,
            "grid_auto_rows": null,
            "grid_column": null,
            "grid_gap": null,
            "grid_row": null,
            "grid_template_areas": null,
            "grid_template_columns": null,
            "grid_template_rows": null,
            "height": null,
            "justify_content": null,
            "justify_items": null,
            "left": null,
            "margin": null,
            "max_height": null,
            "max_width": null,
            "min_height": null,
            "min_width": null,
            "object_fit": null,
            "object_position": null,
            "order": null,
            "overflow": null,
            "overflow_x": null,
            "overflow_y": null,
            "padding": null,
            "right": null,
            "top": null,
            "visibility": null,
            "width": null
          }
        },
        "467ea5e556a44aab8fc7840dcacec1f2": {
          "model_module": "@jupyter-widgets/base",
          "model_name": "LayoutModel",
          "model_module_version": "1.2.0",
          "state": {
            "_model_module": "@jupyter-widgets/base",
            "_model_module_version": "1.2.0",
            "_model_name": "LayoutModel",
            "_view_count": null,
            "_view_module": "@jupyter-widgets/base",
            "_view_module_version": "1.2.0",
            "_view_name": "LayoutView",
            "align_content": null,
            "align_items": null,
            "align_self": null,
            "border": null,
            "bottom": null,
            "display": null,
            "flex": null,
            "flex_flow": null,
            "grid_area": null,
            "grid_auto_columns": null,
            "grid_auto_flow": null,
            "grid_auto_rows": null,
            "grid_column": null,
            "grid_gap": null,
            "grid_row": null,
            "grid_template_areas": null,
            "grid_template_columns": null,
            "grid_template_rows": null,
            "height": null,
            "justify_content": null,
            "justify_items": null,
            "left": null,
            "margin": null,
            "max_height": null,
            "max_width": null,
            "min_height": null,
            "min_width": null,
            "object_fit": null,
            "object_position": null,
            "order": null,
            "overflow": null,
            "overflow_x": null,
            "overflow_y": null,
            "padding": null,
            "right": null,
            "top": null,
            "visibility": null,
            "width": null
          }
        },
        "a59eeb7f51b8482a87600cbc9094e167": {
          "model_module": "@jupyter-widgets/controls",
          "model_name": "DescriptionStyleModel",
          "model_module_version": "1.5.0",
          "state": {
            "_model_module": "@jupyter-widgets/controls",
            "_model_module_version": "1.5.0",
            "_model_name": "DescriptionStyleModel",
            "_view_count": null,
            "_view_module": "@jupyter-widgets/base",
            "_view_module_version": "1.2.0",
            "_view_name": "StyleView",
            "description_width": ""
          }
        },
        "843e2218a40140b692a2fc1b6596a3d2": {
          "model_module": "@jupyter-widgets/base",
          "model_name": "LayoutModel",
          "model_module_version": "1.2.0",
          "state": {
            "_model_module": "@jupyter-widgets/base",
            "_model_module_version": "1.2.0",
            "_model_name": "LayoutModel",
            "_view_count": null,
            "_view_module": "@jupyter-widgets/base",
            "_view_module_version": "1.2.0",
            "_view_name": "LayoutView",
            "align_content": null,
            "align_items": null,
            "align_self": null,
            "border": null,
            "bottom": null,
            "display": null,
            "flex": null,
            "flex_flow": null,
            "grid_area": null,
            "grid_auto_columns": null,
            "grid_auto_flow": null,
            "grid_auto_rows": null,
            "grid_column": null,
            "grid_gap": null,
            "grid_row": null,
            "grid_template_areas": null,
            "grid_template_columns": null,
            "grid_template_rows": null,
            "height": null,
            "justify_content": null,
            "justify_items": null,
            "left": null,
            "margin": null,
            "max_height": null,
            "max_width": null,
            "min_height": null,
            "min_width": null,
            "object_fit": null,
            "object_position": null,
            "order": null,
            "overflow": null,
            "overflow_x": null,
            "overflow_y": null,
            "padding": null,
            "right": null,
            "top": null,
            "visibility": null,
            "width": null
          }
        },
        "3b313a5e8e64432eb41b5b22e93fe745": {
          "model_module": "@jupyter-widgets/controls",
          "model_name": "ProgressStyleModel",
          "model_module_version": "1.5.0",
          "state": {
            "_model_module": "@jupyter-widgets/controls",
            "_model_module_version": "1.5.0",
            "_model_name": "ProgressStyleModel",
            "_view_count": null,
            "_view_module": "@jupyter-widgets/base",
            "_view_module_version": "1.2.0",
            "_view_name": "StyleView",
            "bar_color": null,
            "description_width": ""
          }
        },
        "c64fc033db0142609633ed36a69b58ea": {
          "model_module": "@jupyter-widgets/base",
          "model_name": "LayoutModel",
          "model_module_version": "1.2.0",
          "state": {
            "_model_module": "@jupyter-widgets/base",
            "_model_module_version": "1.2.0",
            "_model_name": "LayoutModel",
            "_view_count": null,
            "_view_module": "@jupyter-widgets/base",
            "_view_module_version": "1.2.0",
            "_view_name": "LayoutView",
            "align_content": null,
            "align_items": null,
            "align_self": null,
            "border": null,
            "bottom": null,
            "display": null,
            "flex": null,
            "flex_flow": null,
            "grid_area": null,
            "grid_auto_columns": null,
            "grid_auto_flow": null,
            "grid_auto_rows": null,
            "grid_column": null,
            "grid_gap": null,
            "grid_row": null,
            "grid_template_areas": null,
            "grid_template_columns": null,
            "grid_template_rows": null,
            "height": null,
            "justify_content": null,
            "justify_items": null,
            "left": null,
            "margin": null,
            "max_height": null,
            "max_width": null,
            "min_height": null,
            "min_width": null,
            "object_fit": null,
            "object_position": null,
            "order": null,
            "overflow": null,
            "overflow_x": null,
            "overflow_y": null,
            "padding": null,
            "right": null,
            "top": null,
            "visibility": null,
            "width": null
          }
        },
        "05816568fe30454cbcc9e4befc9e3dee": {
          "model_module": "@jupyter-widgets/controls",
          "model_name": "DescriptionStyleModel",
          "model_module_version": "1.5.0",
          "state": {
            "_model_module": "@jupyter-widgets/controls",
            "_model_module_version": "1.5.0",
            "_model_name": "DescriptionStyleModel",
            "_view_count": null,
            "_view_module": "@jupyter-widgets/base",
            "_view_module_version": "1.2.0",
            "_view_name": "StyleView",
            "description_width": ""
          }
        }
      }
    }
  },
  "cells": [
    {
      "cell_type": "markdown",
      "metadata": {
        "id": "view-in-github",
        "colab_type": "text"
      },
      "source": [
        "<a href=\"https://colab.research.google.com/github/seanreed1111/colab-demos/blob/master/llama_index_test.ipynb\" target=\"_parent\"><img src=\"https://colab.research.google.com/assets/colab-badge.svg\" alt=\"Open In Colab\"/></a>"
      ]
    },
    {
      "cell_type": "code",
      "source": [
        "!pip install -qqq llama-index-retrievers-bm25 chromadb llama-index llama-index-vector-stores-chroma"
      ],
      "metadata": {
        "colab": {
          "base_uri": "https://localhost:8080/"
        },
        "id": "2QSka4zkSUu-",
        "outputId": "298e40af-3136-4abd-d855-4dc94e26b6b5"
      },
      "execution_count": 52,
      "outputs": [
        {
          "output_type": "stream",
          "name": "stdout",
          "text": [
            "\u001b[?25l     \u001b[90m━━━━━━━━━━━━━━━━━━━━━━━━━━━━━━━━━━━━━━━━\u001b[0m \u001b[32m0.0/67.3 kB\u001b[0m \u001b[31m?\u001b[0m eta \u001b[36m-:--:--\u001b[0m\r\u001b[2K     \u001b[90m━━━━━━━━━━━━━━━━━━━━━━━━━━━━━━━━━━━━━━━━\u001b[0m \u001b[32m67.3/67.3 kB\u001b[0m \u001b[31m3.8 MB/s\u001b[0m eta \u001b[36m0:00:00\u001b[0m\n",
            "\u001b[?25h  Installing build dependencies ... \u001b[?25l\u001b[?25hdone\n",
            "  Getting requirements to build wheel ... \u001b[?25l\u001b[?25hdone\n",
            "  Preparing metadata (pyproject.toml) ... \u001b[?25l\u001b[?25hdone\n",
            "\u001b[2K     \u001b[90m━━━━━━━━━━━━━━━━━━━━━━━━━━━━━━━━━━━━━━━━\u001b[0m \u001b[32m50.4/50.4 kB\u001b[0m \u001b[31m3.3 MB/s\u001b[0m eta \u001b[36m0:00:00\u001b[0m\n",
            "\u001b[2K   \u001b[90m━━━━━━━━━━━━━━━━━━━━━━━━━━━━━━━━━━━━━━━━\u001b[0m \u001b[32m604.0/604.0 kB\u001b[0m \u001b[31m22.7 MB/s\u001b[0m eta \u001b[36m0:00:00\u001b[0m\n",
            "\u001b[2K   \u001b[90m━━━━━━━━━━━━━━━━━━━━━━━━━━━━━━━━━━━━━━━━\u001b[0m \u001b[32m2.4/2.4 MB\u001b[0m \u001b[31m64.3 MB/s\u001b[0m eta \u001b[36m0:00:00\u001b[0m\n",
            "\u001b[2K   \u001b[90m━━━━━━━━━━━━━━━━━━━━━━━━━━━━━━━━━━━━━━━━\u001b[0m \u001b[32m273.8/273.8 kB\u001b[0m \u001b[31m19.2 MB/s\u001b[0m eta \u001b[36m0:00:00\u001b[0m\n",
            "\u001b[2K   \u001b[90m━━━━━━━━━━━━━━━━━━━━━━━━━━━━━━━━━━━━━━━━\u001b[0m \u001b[32m94.6/94.6 kB\u001b[0m \u001b[31m7.2 MB/s\u001b[0m eta \u001b[36m0:00:00\u001b[0m\n",
            "\u001b[2K   \u001b[90m━━━━━━━━━━━━━━━━━━━━━━━━━━━━━━━━━━━━━━━━\u001b[0m \u001b[32m1.9/1.9 MB\u001b[0m \u001b[31m62.4 MB/s\u001b[0m eta \u001b[36m0:00:00\u001b[0m\n",
            "\u001b[2K   \u001b[90m━━━━━━━━━━━━━━━━━━━━━━━━━━━━━━━━━━━━━━━━\u001b[0m \u001b[32m93.2/93.2 kB\u001b[0m \u001b[31m7.5 MB/s\u001b[0m eta \u001b[36m0:00:00\u001b[0m\n",
            "\u001b[2K   \u001b[90m━━━━━━━━━━━━━━━━━━━━━━━━━━━━━━━━━━━━━━━━\u001b[0m \u001b[32m13.2/13.2 MB\u001b[0m \u001b[31m67.8 MB/s\u001b[0m eta \u001b[36m0:00:00\u001b[0m\n",
            "\u001b[2K   \u001b[90m━━━━━━━━━━━━━━━━━━━━━━━━━━━━━━━━━━━━━━━━\u001b[0m \u001b[32m52.5/52.5 kB\u001b[0m \u001b[31m3.6 MB/s\u001b[0m eta \u001b[36m0:00:00\u001b[0m\n",
            "\u001b[2K   \u001b[90m━━━━━━━━━━━━━━━━━━━━━━━━━━━━━━━━━━━━━━━━\u001b[0m \u001b[32m141.9/141.9 kB\u001b[0m \u001b[31m7.8 MB/s\u001b[0m eta \u001b[36m0:00:00\u001b[0m\n",
            "\u001b[2K   \u001b[90m━━━━━━━━━━━━━━━━━━━━━━━━━━━━━━━━━━━━━━━━\u001b[0m \u001b[32m54.4/54.4 kB\u001b[0m \u001b[31m3.6 MB/s\u001b[0m eta \u001b[36m0:00:00\u001b[0m\n",
            "\u001b[2K   \u001b[90m━━━━━━━━━━━━━━━━━━━━━━━━━━━━━━━━━━━━━━━━\u001b[0m \u001b[32m63.7/63.7 kB\u001b[0m \u001b[31m4.8 MB/s\u001b[0m eta \u001b[36m0:00:00\u001b[0m\n",
            "\u001b[2K   \u001b[90m━━━━━━━━━━━━━━━━━━━━━━━━━━━━━━━━━━━━━━━━\u001b[0m \u001b[32m341.4/341.4 kB\u001b[0m \u001b[31m20.0 MB/s\u001b[0m eta \u001b[36m0:00:00\u001b[0m\n",
            "\u001b[2K   \u001b[90m━━━━━━━━━━━━━━━━━━━━━━━━━━━━━━━━━━━━━━━━\u001b[0m \u001b[32m294.6/294.6 kB\u001b[0m \u001b[31m14.9 MB/s\u001b[0m eta \u001b[36m0:00:00\u001b[0m\n",
            "\u001b[2K   \u001b[90m━━━━━━━━━━━━━━━━━━━━━━━━━━━━━━━━━━━━━━━━\u001b[0m \u001b[32m71.5/71.5 kB\u001b[0m \u001b[31m5.1 MB/s\u001b[0m eta \u001b[36m0:00:00\u001b[0m\n",
            "\u001b[2K   \u001b[90m━━━━━━━━━━━━━━━━━━━━━━━━━━━━━━━━━━━━━━━━\u001b[0m \u001b[32m3.4/3.4 MB\u001b[0m \u001b[31m60.7 MB/s\u001b[0m eta \u001b[36m0:00:00\u001b[0m\n",
            "\u001b[2K   \u001b[90m━━━━━━━━━━━━━━━━━━━━━━━━━━━━━━━━━━━━━━━━\u001b[0m \u001b[32m425.7/425.7 kB\u001b[0m \u001b[31m26.2 MB/s\u001b[0m eta \u001b[36m0:00:00\u001b[0m\n",
            "\u001b[2K   \u001b[90m━━━━━━━━━━━━━━━━━━━━━━━━━━━━━━━━━━━━━━━━\u001b[0m \u001b[32m164.1/164.1 kB\u001b[0m \u001b[31m11.7 MB/s\u001b[0m eta \u001b[36m0:00:00\u001b[0m\n",
            "\u001b[2K   \u001b[90m━━━━━━━━━━━━━━━━━━━━━━━━━━━━━━━━━━━━━━━━\u001b[0m \u001b[32m46.0/46.0 kB\u001b[0m \u001b[31m2.3 MB/s\u001b[0m eta \u001b[36m0:00:00\u001b[0m\n",
            "\u001b[2K   \u001b[90m━━━━━━━━━━━━━━━━━━━━━━━━━━━━━━━━━━━━━━━━\u001b[0m \u001b[32m86.8/86.8 kB\u001b[0m \u001b[31m6.3 MB/s\u001b[0m eta \u001b[36m0:00:00\u001b[0m\n",
            "\u001b[?25h  Building wheel for pypika (pyproject.toml) ... \u001b[?25l\u001b[?25hdone\n",
            "\u001b[31mERROR: pip's dependency resolver does not currently take into account all the packages that are installed. This behaviour is the source of the following dependency conflicts.\n",
            "grpcio-tools 1.66.2 requires protobuf<6.0dev,>=5.26.1, but you have protobuf 4.25.5 which is incompatible.\n",
            "tensorflow-metadata 1.16.0 requires protobuf<4.21,>=3.20.3; python_version < \"3.11\", but you have protobuf 4.25.5 which is incompatible.\u001b[0m\u001b[31m\n",
            "\u001b[0m"
          ]
        }
      ]
    },
    {
      "cell_type": "code",
      "source": [
        "!pip install -qqq llama-index llama-index-vector-stores-qdrant llama-index-readers-file llama-index-readers-web"
      ],
      "metadata": {
        "colab": {
          "base_uri": "https://localhost:8080/"
        },
        "collapsed": true,
        "id": "cdZAu5cPBKkB",
        "outputId": "49bca17a-5a6c-472e-ea28-e23f6efcec71"
      },
      "execution_count": 6,
      "outputs": [
        {
          "output_type": "stream",
          "name": "stdout",
          "text": [
            "\u001b[?25l     \u001b[90m━━━━━━━━━━━━━━━━━━━━━━━━━━━━━━━━━━━━━━━━\u001b[0m \u001b[32m0.0/56.5 kB\u001b[0m \u001b[31m?\u001b[0m eta \u001b[36m-:--:--\u001b[0m\r\u001b[2K     \u001b[90m━━━━━━━━━━━━━━━━━━━━━━━━━━━━━━━━━━━━━━━━\u001b[0m \u001b[32m56.5/56.5 kB\u001b[0m \u001b[31m2.7 MB/s\u001b[0m eta \u001b[36m0:00:00\u001b[0m\n",
            "\u001b[?25h  Preparing metadata (setup.py) ... \u001b[?25l\u001b[?25hdone\n",
            "  Preparing metadata (setup.py) ... \u001b[?25l\u001b[?25hdone\n",
            "  Preparing metadata (setup.py) ... \u001b[?25l\u001b[?25hdone\n",
            "\u001b[2K     \u001b[90m━━━━━━━━━━━━━━━━━━━━━━━━━━━━━━━━━━━━━━━━\u001b[0m \u001b[32m7.4/7.4 MB\u001b[0m \u001b[31m54.1 MB/s\u001b[0m eta \u001b[36m0:00:00\u001b[0m\n",
            "\u001b[?25h  Preparing metadata (setup.py) ... \u001b[?25l\u001b[?25hdone\n",
            "  Preparing metadata (setup.py) ... \u001b[?25l\u001b[?25hdone\n",
            "  Preparing metadata (setup.py) ... \u001b[?25l\u001b[?25hdone\n",
            "\u001b[2K   \u001b[90m━━━━━━━━━━━━━━━━━━━━━━━━━━━━━━━━━━━━━━━━\u001b[0m \u001b[32m76.4/76.4 kB\u001b[0m \u001b[31m5.0 MB/s\u001b[0m eta \u001b[36m0:00:00\u001b[0m\n",
            "\u001b[2K   \u001b[90m━━━━━━━━━━━━━━━━━━━━━━━━━━━━━━━━━━━━━━━━\u001b[0m \u001b[32m211.1/211.1 kB\u001b[0m \u001b[31m15.9 MB/s\u001b[0m eta \u001b[36m0:00:00\u001b[0m\n",
            "\u001b[2K   \u001b[90m━━━━━━━━━━━━━━━━━━━━━━━━━━━━━━━━━━━━━━━━\u001b[0m \u001b[32m38.1/38.1 MB\u001b[0m \u001b[31m27.3 MB/s\u001b[0m eta \u001b[36m0:00:00\u001b[0m\n",
            "\u001b[2K   \u001b[90m━━━━━━━━━━━━━━━━━━━━━━━━━━━━━━━━━━━━━━━━\u001b[0m \u001b[32m616.0/616.0 kB\u001b[0m \u001b[31m32.8 MB/s\u001b[0m eta \u001b[36m0:00:00\u001b[0m\n",
            "\u001b[2K   \u001b[90m━━━━━━━━━━━━━━━━━━━━━━━━━━━━━━━━━━━━━━━━\u001b[0m \u001b[32m258.9/258.9 kB\u001b[0m \u001b[31m17.5 MB/s\u001b[0m eta \u001b[36m0:00:00\u001b[0m\n",
            "\u001b[2K   \u001b[90m━━━━━━━━━━━━━━━━━━━━━━━━━━━━━━━━━━━━━━━━\u001b[0m \u001b[32m9.7/9.7 MB\u001b[0m \u001b[31m101.2 MB/s\u001b[0m eta \u001b[36m0:00:00\u001b[0m\n",
            "\u001b[2K   \u001b[90m━━━━━━━━━━━━━━━━━━━━━━━━━━━━━━━━━━━━━━━━\u001b[0m \u001b[32m81.3/81.3 kB\u001b[0m \u001b[31m5.8 MB/s\u001b[0m eta \u001b[36m0:00:00\u001b[0m\n",
            "\u001b[2K   \u001b[90m━━━━━━━━━━━━━━━━━━━━━━━━━━━━━━━━━━━━━━━━\u001b[0m \u001b[32m2.4/2.4 MB\u001b[0m \u001b[31m66.1 MB/s\u001b[0m eta \u001b[36m0:00:00\u001b[0m\n",
            "\u001b[2K   \u001b[90m━━━━━━━━━━━━━━━━━━━━━━━━━━━━━━━━━━━━━━━━\u001b[0m \u001b[32m5.8/5.8 MB\u001b[0m \u001b[31m78.1 MB/s\u001b[0m eta \u001b[36m0:00:00\u001b[0m\n",
            "\u001b[2K   \u001b[90m━━━━━━━━━━━━━━━━━━━━━━━━━━━━━━━━━━━━━━━━\u001b[0m \u001b[32m97.6/97.6 kB\u001b[0m \u001b[31m7.0 MB/s\u001b[0m eta \u001b[36m0:00:00\u001b[0m\n",
            "\u001b[2K   \u001b[90m━━━━━━━━━━━━━━━━━━━━━━━━━━━━━━━━━━━━━━━━\u001b[0m \u001b[32m476.0/476.0 kB\u001b[0m \u001b[31m26.3 MB/s\u001b[0m eta \u001b[36m0:00:00\u001b[0m\n",
            "\u001b[2K   \u001b[90m━━━━━━━━━━━━━━━━━━━━━━━━━━━━━━━━━━━━━━━━\u001b[0m \u001b[32m57.5/57.5 kB\u001b[0m \u001b[31m3.6 MB/s\u001b[0m eta \u001b[36m0:00:00\u001b[0m\n",
            "\u001b[2K   \u001b[90m━━━━━━━━━━━━━━━━━━━━━━━━━━━━━━━━━━━━━━━━\u001b[0m \u001b[32m316.6/316.6 kB\u001b[0m \u001b[31m21.5 MB/s\u001b[0m eta \u001b[36m0:00:00\u001b[0m\n",
            "\u001b[?25h  Building wheel for html2text (setup.py) ... \u001b[?25l\u001b[?25hdone\n",
            "  Building wheel for tinysegmenter (setup.py) ... \u001b[?25l\u001b[?25hdone\n",
            "  Building wheel for spider-client (setup.py) ... \u001b[?25l\u001b[?25hdone\n",
            "  Building wheel for feedfinder2 (setup.py) ... \u001b[?25l\u001b[?25hdone\n",
            "  Building wheel for jieba3k (setup.py) ... \u001b[?25l\u001b[?25hdone\n",
            "  Building wheel for sgmllib3k (setup.py) ... \u001b[?25l\u001b[?25hdone\n",
            "\u001b[31mERROR: pip's dependency resolver does not currently take into account all the packages that are installed. This behaviour is the source of the following dependency conflicts.\n",
            "google-ai-generativelanguage 0.6.6 requires protobuf!=3.20.0,!=3.20.1,!=4.21.0,!=4.21.1,!=4.21.2,!=4.21.3,!=4.21.4,!=4.21.5,<5.0.0dev,>=3.19.5, but you have protobuf 5.28.2 which is incompatible.\n",
            "google-cloud-datastore 2.19.0 requires protobuf!=3.20.0,!=3.20.1,!=4.21.0,!=4.21.1,!=4.21.2,!=4.21.3,!=4.21.4,!=4.21.5,<5.0.0dev,>=3.19.5, but you have protobuf 5.28.2 which is incompatible.\n",
            "google-cloud-firestore 2.16.1 requires protobuf!=3.20.0,!=3.20.1,!=4.21.0,!=4.21.1,!=4.21.2,!=4.21.3,!=4.21.4,!=4.21.5,<5.0.0dev,>=3.19.5, but you have protobuf 5.28.2 which is incompatible.\n",
            "tensorboard 2.17.0 requires protobuf!=4.24.0,<5.0.0,>=3.19.6, but you have protobuf 5.28.2 which is incompatible.\n",
            "tensorflow 2.17.0 requires protobuf!=4.21.0,!=4.21.1,!=4.21.2,!=4.21.3,!=4.21.4,!=4.21.5,<5.0.0dev,>=3.20.3, but you have protobuf 5.28.2 which is incompatible.\n",
            "tensorflow-metadata 1.16.0 requires protobuf<4.21,>=3.20.3; python_version < \"3.11\", but you have protobuf 5.28.2 which is incompatible.\u001b[0m\u001b[31m\n",
            "\u001b[0m"
          ]
        }
      ]
    },
    {
      "cell_type": "markdown",
      "source": [
        "#can make a CVE extractor (derived from BaseExtractor) that searches the text and adds  CVE URL to the metadata, e.g. CVE-2024-47076\n"
      ],
      "metadata": {
        "id": "tmAYHffrC-_Z"
      }
    },
    {
      "cell_type": "code",
      "source": [
        "from google.colab import userdata\n",
        "import nest_asyncio\n",
        "nest_asyncio.apply()\n",
        "from llama_index.core import SimpleDirectoryReader\n",
        "import os\n",
        "from llama_index.core import Document\n",
        "from llama_index.embeddings.openai import OpenAIEmbedding\n",
        "from llama_index.core.node_parser import TokenTextSplitter\n",
        "from llama_index.core.extractors import TitleExtractor\n",
        "from llama_index.core.ingestion import IngestionPipeline, IngestionCache\n",
        "from llama_index.llms.openai import OpenAI\n",
        "from llama_index.core.schema import MetadataMode\n",
        "from llama_index.core import Settings\n",
        "from llama_index.core.extractors import QuestionsAnsweredExtractor, SummaryExtractor\n",
        "from llama_index.readers.web import SimpleWebPageReader\n",
        "from llama_index.core import VectorStoreIndex\n",
        "from llama_index.core.response.notebook_utils import (\n",
        "    display_source_node,\n",
        "    display_response,\n",
        ")\n",
        "\n",
        "\n",
        "os.environ[\"OPENAI_API_KEY\"] = userdata.get('OPENAI_API_KEY')"
      ],
      "metadata": {
        "id": "iEL1Q3ruAsGu"
      },
      "execution_count": 34,
      "outputs": []
    },
    {
      "cell_type": "code",
      "source": [
        "llm = OpenAI(temperature=0.1, model=\"gpt-3.5-turbo\", max_tokens=512)\n",
        "Settings.llm = llm\n",
        "CHUNK_SIZE = 1024\n",
        "CHUNK_OVERLAP = 100\n",
        "NUM_QUESTIONS_TO_EXTRACT = 3"
      ],
      "metadata": {
        "id": "zCjSD9xtDQ-Y"
      },
      "execution_count": 13,
      "outputs": []
    },
    {
      "cell_type": "code",
      "source": [
        "!mkdir -p 'data/paul_graham/'\n",
        "!wget 'https://raw.githubusercontent.com/run-llama/llama_index/main/docs/docs/examples/data/paul_graham/paul_graham_essay.txt' -O 'data/paul_graham/paul_graham_essay.txt'\n",
        "documents = SimpleDirectoryReader(\"./data/paul_graham/\").load_data()"
      ],
      "metadata": {
        "id": "-Di7zwkRBCcT"
      },
      "execution_count": 7,
      "outputs": []
    },
    {
      "cell_type": "code",
      "execution_count": 14,
      "metadata": {
        "colab": {
          "base_uri": "https://localhost:8080/"
        },
        "id": "JuVS_42YAfpz",
        "outputId": "e88c6b55-fe93-4f1c-b405-c23ad80f5c64"
      },
      "outputs": [
        {
          "output_type": "stream",
          "name": "stdout",
          "text": [
            "--2024-10-07 22:22:26--  https://raw.githubusercontent.com/run-llama/llama_index/main/docs/docs/examples/data/paul_graham/paul_graham_essay.txt\n",
            "Resolving raw.githubusercontent.com (raw.githubusercontent.com)... 185.199.111.133, 185.199.110.133, 185.199.108.133, ...\n",
            "Connecting to raw.githubusercontent.com (raw.githubusercontent.com)|185.199.111.133|:443... connected.\n",
            "HTTP request sent, awaiting response... 200 OK\n",
            "Length: 75042 (73K) [text/plain]\n",
            "Saving to: ‘data/paul_graham/paul_graham_essay.txt’\n",
            "\n",
            "\r          data/paul   0%[                    ]       0  --.-KB/s               \rdata/paul_graham/pa 100%[===================>]  73.28K  --.-KB/s    in 0.01s   \n",
            "\n",
            "2024-10-07 22:22:26 (5.68 MB/s) - ‘data/paul_graham/paul_graham_essay.txt’ saved [75042/75042]\n",
            "\n"
          ]
        },
        {
          "output_type": "stream",
          "name": "stderr",
          "text": [
            "100%|██████████| 5/5 [00:01<00:00,  4.91it/s]\n",
            "100%|██████████| 19/19 [00:07<00:00,  2.61it/s]\n"
          ]
        }
      ],
      "source": [
        "pipeline = IngestionPipeline(\n",
        "    transformations=[\n",
        "        TokenTextSplitter(chunk_size=CHUNK_SIZE, chunk_overlap=CHUNK_OVERLAP),\n",
        "        TitleExtractor(),\n",
        "        QuestionsAnsweredExtractor(questions=NUM_QUESTIONS_TO_EXTRACT,\n",
        "                                   llm=llm,\n",
        "                                   metadata_mode=MetadataMode.EMBED),\n",
        "        OpenAIEmbedding(),\n",
        "\n",
        "    ]\n",
        ")\n",
        "nodes = pipeline.run(documents=documents)\n",
        "pipeline.cache.persist(\"./llama_cache.json\")\n",
        "new_cache = IngestionCache.from_persist_path(\"./llama_cache.json\")\n",
        "\n",
        "vector_index = VectorStoreIndex(nodes)\n",
        "vector_query_engine = vector_index.as_query_engine(similarity_top_k=10)\n",
        "query_str = (\"why should I care about Paul Graham\")  ################### INPUT\n",
        "response = vector_query_engine.query(query_str)\n",
        "display_response(\n",
        "    response, source_length=1000, show_source=True, show_source_metadata=True\n",
        ")"
      ]
    },
    {
      "cell_type": "markdown",
      "source": [
        "## Metadata Extraction Usage Pattern\n",
        "You can use LLMs to automate metadata extraction with our Metadata Extractor modules.\n",
        "\n",
        "Our metadata extractor modules include the following \"feature extractors\":\n",
        "\n",
        "- SummaryExtractor - automatically extracts a summary over a set of Nodes\n",
        "- QuestionsAnsweredExtractor - extracts a set of questions that each Node can answer\n",
        "- TitleExtractor - extracts a title over the context of each Node\n",
        "- EntityExtractor - extracts entities (i.e. names of places, people, things) mentioned in the content of each Node"
      ],
      "metadata": {
        "id": "Fkw4SrmMHC3_"
      }
    },
    {
      "cell_type": "code",
      "source": [
        "from llama_index.core.extractors import (\n",
        "    TitleExtractor,\n",
        "    QuestionsAnsweredExtractor,\n",
        "    SummaryExtractor,\n",
        "    KeywordExtractor\n",
        ")\n",
        "NUM_KEYWORDS_TO_EXTRACT = 10\n",
        "\n",
        "\n",
        "# assume documents are defined -> extract nodes\n",
        "\n",
        "\n",
        "pipeline = IngestionPipeline(\n",
        "    transformations=[\n",
        "        TokenTextSplitter(chunk_size=CHUNK_SIZE, chunk_overlap=CHUNK_OVERLAP),\n",
        "        TitleExtractor(),\n",
        "        KeywordExtractor(keywords = NUM_KEYWORDS_TO_EXTRACT),\n",
        "        QuestionsAnsweredExtractor(questions=NUM_QUESTIONS_TO_EXTRACT,\n",
        "                                   llm=llm,\n",
        "                                   metadata_mode=MetadataMode.EMBED),\n",
        "        SummaryExtractor(summaries=[\"self\", \"prev\", \"next\"]),\n",
        "        OpenAIEmbedding(),\n",
        "\n",
        "\n",
        "    ],\n",
        "#    cache=new_cache_1 # not defined until after you run it the first time\n",
        ")\n",
        "nodes1 = pipeline.run(\n",
        "    documents=documents,\n",
        "    in_place=True,\n",
        "    show_progress=True,\n",
        ")\n",
        "\n",
        "pipeline.cache.persist(\"./llama_cache_1.json\")\n",
        "new_cache_1 = IngestionCache.from_persist_path(\"./llama_cache_1.json\")\n",
        "\n",
        "vector_index_1 = VectorStoreIndex(nodes1)\n",
        "vector_query_engine_1 = vector_index_1.as_query_engine(similarity_top_k=10)\n",
        "query_str = (\"why should I care about Paul Graham\")  ################### INPUT\n",
        "response = vector_query_engine_1.query(query_str)\n",
        "display_response(\n",
        "    response, source_length=1000, show_source=True, show_source_metadata=True\n",
        ")"
      ],
      "metadata": {
        "colab": {
          "base_uri": "https://localhost:8080/",
          "height": 1000
        },
        "id": "0JQGAgwkI21-",
        "outputId": "993a0bc8-ce41-4820-d986-863847c33168"
      },
      "execution_count": 37,
      "outputs": [
        {
          "output_type": "display_data",
          "data": {
            "text/plain": [
              "<IPython.core.display.Markdown object>"
            ],
            "text/markdown": "**`Final Response:`** You should care about Paul Graham because he has a diverse background in both art and technology, transitioning from a successful career in the tech industry to pursue his passion for painting. His experiences in running a startup company, Viaweb, and later starting a new company focused on web applications showcase his entrepreneurial spirit and innovative ideas. Additionally, his insights into the growth rate of startups, the challenges faced during the Internet Bubble era, and the importance of user growth provide valuable lessons for aspiring entrepreneurs. Paul Graham's journey from technology to art and back again demonstrates his creativity, ambition, and ability to adapt to different fields, making his story both inspiring and informative."
          },
          "metadata": {}
        },
        {
          "output_type": "display_data",
          "data": {
            "text/plain": [
              "<IPython.core.display.Markdown object>"
            ],
            "text/markdown": "---"
          },
          "metadata": {}
        },
        {
          "output_type": "display_data",
          "data": {
            "text/plain": [
              "<IPython.core.display.Markdown object>"
            ],
            "text/markdown": "**`Source Node 1/10`**"
          },
          "metadata": {}
        },
        {
          "output_type": "display_data",
          "data": {
            "text/plain": [
              "<IPython.core.display.Markdown object>"
            ],
            "text/markdown": "**Node ID:** 85b8c3ee-0973-4a5c-aa7b-967322660fb7<br>**Similarity:** 0.8175345805522666<br>**Text:** they'd seem more like rants posted by nutjobs on their GeoCities sites than the genteel and beautifully typeset compositions published in The New Yorker. But by this point I knew enough to find that encouraging instead of discouraging.\n\nOne of the most conspicuous patterns I've noticed in my life is how well it has worked, for me at least, to work on things that weren't prestigious. Still life has always been the least prestigious form of painting. Viaweb and Y Combinator both seemed lame when we started them. I still get the glassy eye from strangers when they ask what I'm writing, and I explain that it's an essay I'm going to publish on my web site. Even Lisp, though prestigious intellectually in something like the way Latin is, also seems about as hip.\n\nIt's not that unprestigious types of work are good per se. But when you find yourself drawn to some kind of work despite its current lack of prestige, it's a sign both that there's something real to be discovered there, and that y...<br>**Metadata:** {'file_path': '/content/data/paul_graham/paul_graham_essay.txt', 'file_name': 'paul_graham_essay.txt', 'file_type': 'text/plain', 'file_size': 75042, 'creation_date': '2024-10-07', 'last_modified_date': '2024-10-07', 'document_title': 'The Evolution of Art and Technology: A Journey from Short Stories to AI Programming and Fine Arts', 'excerpt_keywords': 'art, technology, evolution, prestigious, painting, startup, investment, essays, venture capital, collaboration', 'questions_this_excerpt_can_answer': \"1. How did Paul Graham's experiences with working on unprestigious projects, such as still life painting and starting Viaweb and Y Combinator, shape his perspective on pursuing less prestigious work?\\n2. What led Jessica Livingston to compile a book of interviews with startup founders after realizing the differences between reality and the perceptions of startups held by the investment bank she worked for?\\n3. How did the convergence of Paul Graham's desire to stop procrastinating about angel investing, his collaboration with Robert and Trevor, and his frustration with VCs lead to the decision to start his own investment firm with Jessica Livingston?\", 'prev_section_summary': \"The section discusses Paul Graham's transition from working on Viaweb to starting a new company called Aspra and developing a new Lisp dialect called Arc. It also covers the evolution of technology, specifically the rise of the internet and online publishing, and how it influenced Graham's decision to focus on writing and sharing essays online. The section highlights the impact of open source projects, the concept of software as a service, and the changing landscape of publishing essays online. Key entities mentioned include Viaweb, Lisp, Y Combinator, open source projects, software as a service, application service provider, Arc, and online publishing infrastructure.\", 'next_section_summary': 'The section discusses the founding of Y Combinator, an investment firm started by Paul Graham, Jessica Livingston, Robert Morris, and Trevor Blackwell. It highlights their decision to start their own angel investment firm due to frustration with traditional VC firms and their desire to provide more support to startup founders. The section also mentions the unique batch model of Y Combinator, where multiple startups are funded at once and given intensive support over three months. Notable individuals and companies from the first batch funded by Y Combinator include reddit, Justin Kan, Emmett Shear, Aaron Swartz, and Sam Altman.', 'section_summary': \"The key topics of this section include Paul Graham's experiences with unprestigious work, such as still life painting and starting Viaweb and Y Combinator, as well as his collaboration with Jessica Livingston to start their own investment firm. Other topics mentioned are the evolution of Paul Graham's work from writing essays to working on spam filters and painting, Jessica Livingston's realization of the differences between reality and perceptions of startups, and the decision to start a new investment firm based on their frustrations with traditional venture capital firms. Key entities mentioned include Paul Graham, Jessica Livingston, Robert, Trevor, and various startup founders and VCs.\"}<br>"
          },
          "metadata": {}
        },
        {
          "output_type": "display_data",
          "data": {
            "text/plain": [
              "<IPython.core.display.Markdown object>"
            ],
            "text/markdown": "---"
          },
          "metadata": {}
        },
        {
          "output_type": "display_data",
          "data": {
            "text/plain": [
              "<IPython.core.display.Markdown object>"
            ],
            "text/markdown": "**`Source Node 2/10`**"
          },
          "metadata": {}
        },
        {
          "output_type": "display_data",
          "data": {
            "text/plain": [
              "<IPython.core.display.Markdown object>"
            ],
            "text/markdown": "**Node ID:** 40c522fc-5bbf-4ad7-a3cb-ed3836e8b9a8<br>**Similarity:** 0.7978163786372658<br>**Text:** problems. It was very engaging work, because their problems were quite varied, and the good founders were very effective. If you were trying to learn the most you could about startups in the shortest possible time, you couldn't have picked a better way to do it.\n\nThere were parts of the job I didn't like. Disputes between cofounders, figuring out when people were lying to us, fighting with people who maltreated the startups, and so on. But I worked hard even at the parts I didn't like. I was haunted by something Kevin Hale once said about companies: \"No one works harder than the boss.\" He meant it both descriptively and prescriptively, and it was the second part that scared me. I wanted YC to be good, so if how hard I worked set the upper bound on how hard everyone else worked, I'd better work very hard.\n\nOne day in 2010, when he was visiting California for interviews, Robert Morris did something astonishing: he offered me unsolicited advice. I can only remember him doing that once ...<br>**Metadata:** {'file_path': '/content/data/paul_graham/paul_graham_essay.txt', 'file_name': 'paul_graham_essay.txt', 'file_type': 'text/plain', 'file_size': 75042, 'creation_date': '2024-10-07', 'last_modified_date': '2024-10-07', 'document_title': 'The Evolution of Art and Technology: A Journey from Short Stories to AI Programming and Fine Arts', 'excerpt_keywords': 'startups, Y Combinator, founders, advice, painting, journey, technology, evolution, art, AI programming', 'questions_this_excerpt_can_answer': \"1. How did the advice from Robert Morris prompt a significant change in Paul Graham's career trajectory, leading him to eventually step down from Y Combinator and pursue a new passion in painting?\\n2. What personal circumstances and events, such as his mother's illness and eventual passing, influenced Paul Graham's decision to hand over control of Y Combinator to Sam Altman and focus on painting?\\n3. How did Paul Graham's experience of dedicating a significant amount of time to painting in 2014 impact his skills and passion for the art form, and what insights did he gain from this immersive experience that he may not have discovered otherwise?\", 'prev_section_summary': \"The section discusses the evolution of startup funding through Y Combinator's batch funding model, the role of community in the success of startups, Paul Graham's involvement in Hacker News, and the challenges he faced in balancing his various projects. Key entities mentioned include Paul Graham, Y Combinator, reddit, Justin Kan, Emmett Shear, Aaron Swartz, Sam Altman, Julian, Robert, and Hacker News. Key topics include startup funding, community support, technology, AI programming, fine arts, and the challenges of managing multiple projects.\", 'next_section_summary': \"The section discusses Paul Graham's transition from painting to writing essays and eventually working on Lisp programming. It highlights the significance of Lisp as a programming language and its evolution from a model of computation to a complete programming language. The challenges faced by Paul Graham while developing Bel, a new Lisp language, are also mentioned, along with his dedication to completing the project despite obstacles. The section emphasizes the complexity of working on an interpreter written in itself and the effort required to achieve the defined goal.\", 'section_summary': \"The key topics of the section include Paul Graham's experience at Y Combinator, the advice he received from Robert Morris prompting a change in his career trajectory, his decision to step down from Y Combinator to focus on painting, personal events influencing this decision such as his mother's illness and passing, and his immersive experience in painting in 2014. Other entities mentioned include Sam Altman, Jessica, Trevor, and the evolution of Y Combinator under new leadership.\"}<br>"
          },
          "metadata": {}
        },
        {
          "output_type": "display_data",
          "data": {
            "text/plain": [
              "<IPython.core.display.Markdown object>"
            ],
            "text/markdown": "---"
          },
          "metadata": {}
        },
        {
          "output_type": "display_data",
          "data": {
            "text/plain": [
              "<IPython.core.display.Markdown object>"
            ],
            "text/markdown": "**`Source Node 3/10`**"
          },
          "metadata": {}
        },
        {
          "output_type": "display_data",
          "data": {
            "text/plain": [
              "<IPython.core.display.Markdown object>"
            ],
            "text/markdown": "**Node ID:** ac05a897-8c64-4b1d-9a23-166f0ba7b763<br>**Similarity:** 0.7929527698975273<br>**Text:** They were an impressive group. That first batch included reddit, Justin Kan and Emmett Shear, who went on to found Twitch, Aaron Swartz, who had already helped write the RSS spec and would a few years later become a martyr for open access, and Sam Altman, who would later become the second president of YC. I don't think it was entirely luck that the first batch was so good. You had to be pretty bold to sign up for a weird thing like the Summer Founders Program instead of a summer job at a legit place like Microsoft or Goldman Sachs.\n\nThe deal for startups was based on a combination of the deal we did with Julian ($10k for 10%) and what Robert said MIT grad students got for the summer ($6k). We invested $6k per founder, which in the typical two-founder case was $12k, in return for 6%. That had to be fair, because it was twice as good as the deal we ourselves had taken. Plus that first summer, which was really hot, Jessica brought the founders free air conditioners. [16]\n\nFairly quickl...<br>**Metadata:** {'file_path': '/content/data/paul_graham/paul_graham_essay.txt', 'file_name': 'paul_graham_essay.txt', 'file_type': 'text/plain', 'file_size': 75042, 'creation_date': '2024-10-07', 'last_modified_date': '2024-10-07', 'document_title': 'The Evolution of Art and Technology: A Journey from Short Stories to AI Programming and Fine Arts', 'excerpt_keywords': 'Paul Graham, Y Combinator, startup funding, batch funding, technology, art, evolution, AI programming, fine arts, community', 'questions_this_excerpt_can_answer': \"1. How did Y Combinator's batch funding model revolutionize startup funding and address the issue of isolation faced by founders?\\n2. What role did the Y Combinator community play in the success and growth of the startups within the program?\\n3. How did Paul Graham's involvement in Hacker News impact his work at Y Combinator and contribute to his overall stress levels?\", 'prev_section_summary': 'The section discusses the founding of Y Combinator, an investment firm started by Paul Graham, Jessica Livingston, Robert Morris, and Trevor Blackwell. It highlights their decision to start their own angel investment firm due to frustration with traditional VC firms and their desire to provide more support to startup founders. The section also mentions the unique batch model of Y Combinator, where multiple startups are funded at once and given intensive support over three months. Notable individuals and companies from the first batch funded by Y Combinator include reddit, Justin Kan, Emmett Shear, Aaron Swartz, and Sam Altman.', 'next_section_summary': \"The key topics of the section include Paul Graham's experience at Y Combinator, the advice he received from Robert Morris prompting a change in his career trajectory, his decision to step down from Y Combinator to focus on painting, personal events influencing this decision such as his mother's illness and passing, and his immersive experience in painting in 2014. Other entities mentioned include Sam Altman, Jessica, Trevor, and the evolution of Y Combinator under new leadership.\", 'section_summary': \"The section discusses the evolution of startup funding through Y Combinator's batch funding model, the role of community in the success of startups, Paul Graham's involvement in Hacker News, and the challenges he faced in balancing his various projects. Key entities mentioned include Paul Graham, Y Combinator, reddit, Justin Kan, Emmett Shear, Aaron Swartz, Sam Altman, Julian, Robert, and Hacker News. Key topics include startup funding, community support, technology, AI programming, fine arts, and the challenges of managing multiple projects.\"}<br>"
          },
          "metadata": {}
        },
        {
          "output_type": "display_data",
          "data": {
            "text/plain": [
              "<IPython.core.display.Markdown object>"
            ],
            "text/markdown": "---"
          },
          "metadata": {}
        },
        {
          "output_type": "display_data",
          "data": {
            "text/plain": [
              "<IPython.core.display.Markdown object>"
            ],
            "text/markdown": "**`Source Node 4/10`**"
          },
          "metadata": {}
        },
        {
          "output_type": "display_data",
          "data": {
            "text/plain": [
              "<IPython.core.display.Markdown object>"
            ],
            "text/markdown": "**Node ID:** 7320d20a-d32d-4b0d-966b-2afb29550a93<br>**Similarity:** 0.7924347035595792<br>**Text:** track of what's happening at what level, and errors can be practically encrypted by the time you get them.\n\nSo I said no more essays till Bel was done. But I told few people about Bel while I was working on it. So for years it must have seemed that I was doing nothing, when in fact I was working harder than I'd ever worked on anything. Occasionally after wrestling for hours with some gruesome bug I'd check Twitter or HN and see someone asking \"Does Paul Graham still code?\"\n\nWorking on Bel was hard but satisfying. I worked on it so intensively that at any given time I had a decent chunk of the code in my head and could write more there. I remember taking the boys to the coast on a sunny day in 2015 and figuring out how to deal with some problem involving continuations while I watched them play in the tide pools. It felt like I was doing life right. I remember that because I was slightly dismayed at how novel it felt. The good news is that I had more moments like this over the next fe...<br>**Metadata:** {'file_path': '/content/data/paul_graham/paul_graham_essay.txt', 'file_name': 'paul_graham_essay.txt', 'file_type': 'text/plain', 'file_size': 75042, 'creation_date': '2024-10-07', 'last_modified_date': '2024-10-07', 'document_title': 'The Evolution of Art and Technology: A Journey from Short Stories to AI Programming and Fine Arts', 'excerpt_keywords': 'Evolution, Art, Technology, Short Stories, AI Programming, Fine Arts, Bel, McCarthy, England, Essays', 'questions_this_excerpt_can_answer': \"1. How did Paul Graham's experience living in England influence his work on the programming language Bel?\\n2. What factors led Paul Graham to write a detailed essay on how he chooses what projects to work on?\\n3. How did Paul Graham's transition from batch processing to microcomputers impact his perception of technology and innovation?\", 'prev_section_summary': \"The section discusses Paul Graham's transition from painting to writing essays and eventually working on Lisp programming. It highlights the significance of Lisp as a programming language and its evolution from a model of computation to a complete programming language. The challenges faced by Paul Graham while developing Bel, a new Lisp language, are also mentioned, along with his dedication to completing the project despite obstacles. The section emphasizes the complexity of working on an interpreter written in itself and the effort required to achieve the defined goal.\", 'next_section_summary': 'The key topics of this section include the evolution of technology and its impact on essay writing and publishing, the role of Y Combinator in challenging traditional venture capital practices, the unique culture and branding choices of Y Combinator, the constraints of customs in rapidly changing fields, the renaming of Y Combinator, the color and logo choices of Y Combinator, the funding status of Y Combinator, the concept of deal flow in startups, challenges of running a forum and writing essays, and the personal relationships within Y Combinator. Key entities mentioned include Viaweb, Lisp, Y Combinator, Cambridge Seed, Heroku, and Jessica.', 'section_summary': \"The section discusses Paul Graham's experience working on the programming language Bel, his decision to focus on Bel over writing essays, his move to England, the completion of Bel in 2019, and his return to writing essays in 2020. It also touches on his process of choosing projects to work on, his transition from batch processing to microcomputers, and his experiences living in Italy and New York. Key entities mentioned include Bel, McCarthy, England, Italy, RISD, Viaweb, and Moore's Law.\"}<br>"
          },
          "metadata": {}
        },
        {
          "output_type": "display_data",
          "data": {
            "text/plain": [
              "<IPython.core.display.Markdown object>"
            ],
            "text/markdown": "---"
          },
          "metadata": {}
        },
        {
          "output_type": "display_data",
          "data": {
            "text/plain": [
              "<IPython.core.display.Markdown object>"
            ],
            "text/markdown": "**`Source Node 5/10`**"
          },
          "metadata": {}
        },
        {
          "output_type": "display_data",
          "data": {
            "text/plain": [
              "<IPython.core.display.Markdown object>"
            ],
            "text/markdown": "**Node ID:** 528b6304-d2af-4df9-a0e2-489bb413023b<br>**Similarity:** 0.7924126709205328<br>**Text:** myself then. I recruited Dan Giffin, who had worked for Viaweb, and two undergrads who wanted summer jobs, and we got to work trying to build what it's now clear is about twenty companies and several open source projects worth of software. The language for defining applications would of course be a dialect of Lisp. But I wasn't so naive as to assume I could spring an overt Lisp on a general audience; we'd hide the parentheses, like Dylan did.\n\nBy then there was a name for the kind of company Viaweb was, an \"application service provider,\" or ASP. This name didn't last long before it was replaced by \"software as a service,\" but it was current for long enough that I named this new company after it: it was going to be called Aspra.\n\nI started working on the application builder, Dan worked on network infrastructure, and the two undergrads worked on the first two services (images and phone calls). But about halfway through the summer I realized I really didn't want to run a company — espe...<br>**Metadata:** {'file_path': '/content/data/paul_graham/paul_graham_essay.txt', 'file_name': 'paul_graham_essay.txt', 'file_type': 'text/plain', 'file_size': 75042, 'creation_date': '2024-10-07', 'last_modified_date': '2024-10-07', 'document_title': 'The Evolution of Art and Technology: A Journey from Short Stories to AI Programming and Fine Arts', 'excerpt_keywords': 'Viaweb, Lisp, Y Combinator, open source, software as a service, application service provider, Arc, essays, online publishing, infrastructure', 'questions_this_excerpt_can_answer': \"1. How did Paul Graham's experience working on Viaweb lead to the creation of a new company called Aspra and the development of a new Lisp dialect called Arc?\\n2. What was the turning point in Paul Graham's career that led him to focus on publishing essays online, and how did this decision shape his future work and projects?\\n3. How did the evolution of technology, specifically the rise of the internet and online publishing, impact Paul Graham's approach to writing and sharing his ideas with a wider audience?\", 'prev_section_summary': \"The section discusses the author's decision to leave a lucrative job at Yahoo to pursue painting, the challenges faced in transitioning from technology to painting, the influence of experiences in art and tech on starting a new company focused on web applications, and the excitement and development of the idea for a web app for making web apps. Key topics include ambition, creativity, entrepreneurship, software development, and the use of Lisp in programming. Key entities mentioned include Yahoo, Viaweb, Robert, Dan Giffin, and MIT.\", 'next_section_summary': \"The key topics of this section include Paul Graham's experiences with unprestigious work, such as still life painting and starting Viaweb and Y Combinator, as well as his collaboration with Jessica Livingston to start their own investment firm. Other topics mentioned are the evolution of Paul Graham's work from writing essays to working on spam filters and painting, Jessica Livingston's realization of the differences between reality and perceptions of startups, and the decision to start a new investment firm based on their frustrations with traditional venture capital firms. Key entities mentioned include Paul Graham, Jessica Livingston, Robert, Trevor, and various startup founders and VCs.\", 'section_summary': \"The section discusses Paul Graham's transition from working on Viaweb to starting a new company called Aspra and developing a new Lisp dialect called Arc. It also covers the evolution of technology, specifically the rise of the internet and online publishing, and how it influenced Graham's decision to focus on writing and sharing essays online. The section highlights the impact of open source projects, the concept of software as a service, and the changing landscape of publishing essays online. Key entities mentioned include Viaweb, Lisp, Y Combinator, open source projects, software as a service, application service provider, Arc, and online publishing infrastructure.\"}<br>"
          },
          "metadata": {}
        },
        {
          "output_type": "display_data",
          "data": {
            "text/plain": [
              "<IPython.core.display.Markdown object>"
            ],
            "text/markdown": "---"
          },
          "metadata": {}
        },
        {
          "output_type": "display_data",
          "data": {
            "text/plain": [
              "<IPython.core.display.Markdown object>"
            ],
            "text/markdown": "**`Source Node 6/10`**"
          },
          "metadata": {}
        },
        {
          "output_type": "display_data",
          "data": {
            "text/plain": [
              "<IPython.core.display.Markdown object>"
            ],
            "text/markdown": "**Node ID:** 74a2787e-3b4e-4f68-b00c-3d51ba7b63c9<br>**Similarity:** 0.7906964802876592<br>**Text:** angel investment.\n\nMeanwhile I had been scheming with Robert and Trevor about projects we could work on together. I missed working with them, and it seemed like there had to be something we could collaborate on.\n\nAs Jessica and I were walking home from dinner on March 11, at the corner of Garden and Walker streets, these three threads converged. Screw the VCs who were taking so long to make up their minds. We'd start our own investment firm and actually implement the ideas we'd been talking about. I'd fund it, and Jessica could quit her job and work for it, and we'd get Robert and Trevor as partners too. [13]\n\nOnce again, ignorance worked in our favor. We had no idea how to be angel investors, and in Boston in 2005 there were no Ron Conways to learn from. So we just made what seemed like the obvious choices, and some of the things we did turned out to be novel.\n\nThere are multiple components to Y Combinator, and we didn't figure them all out at once. The part we got first was to be ...<br>**Metadata:** {'file_path': '/content/data/paul_graham/paul_graham_essay.txt', 'file_name': 'paul_graham_essay.txt', 'file_type': 'text/plain', 'file_size': 75042, 'creation_date': '2024-10-07', 'last_modified_date': '2024-10-07', 'document_title': 'The Evolution of Art and Technology: A Journey from Short Stories to AI Programming and Fine Arts', 'excerpt_keywords': 'angel investment, collaboration, startup, Y Combinator, funding, innovation, technology, entrepreneurship, investment firm, founders', 'questions_this_excerpt_can_answer': '1. How did the idea for Y Combinator come about and what were the initial motivations behind starting the investment firm?\\n2. What unique approach did Y Combinator take in terms of funding startups and providing support to founders, and how did this differ from traditional VC firms?\\n3. Who were some of the notable individuals and companies that were part of the first batch of startups funded by Y Combinator, and what impact did they go on to have in the tech industry?', 'prev_section_summary': \"The key topics of this section include Paul Graham's experiences with unprestigious work, such as still life painting and starting Viaweb and Y Combinator, as well as his collaboration with Jessica Livingston to start their own investment firm. Other topics mentioned are the evolution of Paul Graham's work from writing essays to working on spam filters and painting, Jessica Livingston's realization of the differences between reality and perceptions of startups, and the decision to start a new investment firm based on their frustrations with traditional venture capital firms. Key entities mentioned include Paul Graham, Jessica Livingston, Robert, Trevor, and various startup founders and VCs.\", 'next_section_summary': \"The section discusses the evolution of startup funding through Y Combinator's batch funding model, the role of community in the success of startups, Paul Graham's involvement in Hacker News, and the challenges he faced in balancing his various projects. Key entities mentioned include Paul Graham, Y Combinator, reddit, Justin Kan, Emmett Shear, Aaron Swartz, Sam Altman, Julian, Robert, and Hacker News. Key topics include startup funding, community support, technology, AI programming, fine arts, and the challenges of managing multiple projects.\", 'section_summary': 'The section discusses the founding of Y Combinator, an investment firm started by Paul Graham, Jessica Livingston, Robert Morris, and Trevor Blackwell. It highlights their decision to start their own angel investment firm due to frustration with traditional VC firms and their desire to provide more support to startup founders. The section also mentions the unique batch model of Y Combinator, where multiple startups are funded at once and given intensive support over three months. Notable individuals and companies from the first batch funded by Y Combinator include reddit, Justin Kan, Emmett Shear, Aaron Swartz, and Sam Altman.'}<br>"
          },
          "metadata": {}
        },
        {
          "output_type": "display_data",
          "data": {
            "text/plain": [
              "<IPython.core.display.Markdown object>"
            ],
            "text/markdown": "---"
          },
          "metadata": {}
        },
        {
          "output_type": "display_data",
          "data": {
            "text/plain": [
              "<IPython.core.display.Markdown object>"
            ],
            "text/markdown": "**`Source Node 7/10`**"
          },
          "metadata": {}
        },
        {
          "output_type": "display_data",
          "data": {
            "text/plain": [
              "<IPython.core.display.Markdown object>"
            ],
            "text/markdown": "**Node ID:** 6e430c75-7380-40de-be3a-570997d6bd1b<br>**Similarity:** 0.7882333534877487<br>**Text:** it. So the day after I stopped working on YC, I started painting. I was rusty and it took a while to get back into shape, but it was at least completely engaging. [18]\n\nI spent most of the rest of 2014 painting. I'd never been able to work so uninterruptedly before, and I got to be better than I had been. Not good enough, but better. Then in November, right in the middle of a painting, I ran out of steam. Up till that point I'd always been curious to see how the painting I was working on would turn out, but suddenly finishing this one seemed like a chore. So I stopped working on it and cleaned my brushes and haven't painted since. So far anyway.\n\nI realize that sounds rather wimpy. But attention is a zero sum game. If you can choose what to work on, and you choose a project that's not the best one (or at least a good one) for you, then it's getting in the way of another project that is. And at 50 there was some opportunity cost to screwing around.\n\nI started writing essays again, an...<br>**Metadata:** {'file_path': '/content/data/paul_graham/paul_graham_essay.txt', 'file_name': 'paul_graham_essay.txt', 'file_type': 'text/plain', 'file_size': 75042, 'creation_date': '2024-10-07', 'last_modified_date': '2024-10-07', 'document_title': 'The Evolution of Art and Technology: A Journey from Short Stories to AI Programming and Fine Arts', 'excerpt_keywords': 'Art, Technology, Evolution, Painting, Lisp, Programming, Interpreter, Computation, Essays, Bel', 'questions_this_excerpt_can_answer': '1. How did Paul Graham transition from painting to writing essays and eventually working on Lisp programming?\\n2. What is the significance of Lisp as a programming language and how did it evolve from a model of computation to a complete programming language?\\n3. What challenges did Paul Graham face while working on developing Bel, a new Lisp language, and how did he overcome them to achieve his goal?', 'prev_section_summary': \"The key topics of the section include Paul Graham's experience at Y Combinator, the advice he received from Robert Morris prompting a change in his career trajectory, his decision to step down from Y Combinator to focus on painting, personal events influencing this decision such as his mother's illness and passing, and his immersive experience in painting in 2014. Other entities mentioned include Sam Altman, Jessica, Trevor, and the evolution of Y Combinator under new leadership.\", 'next_section_summary': \"The section discusses Paul Graham's experience working on the programming language Bel, his decision to focus on Bel over writing essays, his move to England, the completion of Bel in 2019, and his return to writing essays in 2020. It also touches on his process of choosing projects to work on, his transition from batch processing to microcomputers, and his experiences living in Italy and New York. Key entities mentioned include Bel, McCarthy, England, Italy, RISD, Viaweb, and Moore's Law.\", 'section_summary': \"The section discusses Paul Graham's transition from painting to writing essays and eventually working on Lisp programming. It highlights the significance of Lisp as a programming language and its evolution from a model of computation to a complete programming language. The challenges faced by Paul Graham while developing Bel, a new Lisp language, are also mentioned, along with his dedication to completing the project despite obstacles. The section emphasizes the complexity of working on an interpreter written in itself and the effort required to achieve the defined goal.\"}<br>"
          },
          "metadata": {}
        },
        {
          "output_type": "display_data",
          "data": {
            "text/plain": [
              "<IPython.core.display.Markdown object>"
            ],
            "text/markdown": "---"
          },
          "metadata": {}
        },
        {
          "output_type": "display_data",
          "data": {
            "text/plain": [
              "<IPython.core.display.Markdown object>"
            ],
            "text/markdown": "**`Source Node 8/10`**"
          },
          "metadata": {}
        },
        {
          "output_type": "display_data",
          "data": {
            "text/plain": [
              "<IPython.core.display.Markdown object>"
            ],
            "text/markdown": "**Node ID:** feb1adaf-49f7-44c4-8c12-e709956c0ff2<br>**Similarity:** 0.787682770693845<br>**Text:** last. Any program you wrote today, no matter how good, would be obsolete in a couple decades at best. People might mention your software in footnotes, but no one would actually use it. And indeed, it would seem very feeble work. Only people with a sense of the history of the field would even realize that, in its time, it had been good.\n\nThere were some surplus Xerox Dandelions floating around the computer lab at one point. Anyone who wanted one to play around with could have one. I was briefly tempted, but they were so slow by present standards; what was the point? No one else wanted one either, so off they went. That was what happened to systems work.\n\nI wanted not just to build things, but to build things that would last.\n\nIn this dissatisfied state I went in 1988 to visit Rich Draves at CMU, where he was in grad school. One day I went to visit the Carnegie Institute, where I'd spent a lot of time as a kid. While looking at a painting there I realized something that might seem obv...<br>**Metadata:** {'file_path': '/content/data/paul_graham/paul_graham_essay.txt', 'file_name': 'paul_graham_essay.txt', 'file_type': 'text/plain', 'file_size': 75042, 'creation_date': '2024-10-07', 'last_modified_date': '2024-10-07', 'document_title': 'The Evolution of Art and Technology: A Journey from Short Stories to AI Programming and Fine Arts', 'excerpt_keywords': 'Art, Technology, Evolution, Programming, Fine Arts, Grad School, Painting, Lisp Hacking, Dissertation, RISD', 'questions_this_excerpt_can_answer': \"1. How did Paul Graham's interest in art and painting influence his decision to pursue a career in fine arts after being involved in programming and computer science?\\n2. What was Paul Graham's experience like transitioning from a PhD program in computer science to studying art at RISD, and how did his age and background impact his academic journey?\\n3. How did Paul Graham's decision to write his dissertation on applications of continuations in computer science reflect his desire to quickly complete his PhD program and pursue a career in art?\", 'prev_section_summary': \"The section discusses the author's journey from teaching himself Lisp and reverse-engineering SHRDLU to his realization about the limitations of traditional AI approaches focused on explicit data structures. It covers his experiences at Cornell and Harvard, his decision to focus on Lisp and write a book about Lisp hacking, and his preference for building things over theoretical computer science concepts. The section also touches on the author's view on the uneasy alliance between theory and systems in computer science and the transient nature of systems work.\", 'next_section_summary': \"The key topics of the section include the author's experience at the Accademia in Florence, the traditional atelier model, the foundation classes in art schools, the entrance exam for the Accademia, painting still lives, visual perception in art, the information-theoretic sense in painting, and the author's exploration of art through painting. The entities mentioned include the Accademia, RISD, Cezanne, the painting department, the nude model, and the author's personal experiences and reflections on art education and practice.\", 'section_summary': \"The key topics of this section include Paul Graham's transition from a PhD program in computer science to studying art at RISD, his realization of the lasting impact of art compared to software, his decision to pursue art as a career, and his experience applying to art schools. The entities mentioned include Rich Draves, Tom Cheatham, Robert Morris, and the Accademia di Belli Arti in Florence.\"}<br>"
          },
          "metadata": {}
        },
        {
          "output_type": "display_data",
          "data": {
            "text/plain": [
              "<IPython.core.display.Markdown object>"
            ],
            "text/markdown": "---"
          },
          "metadata": {}
        },
        {
          "output_type": "display_data",
          "data": {
            "text/plain": [
              "<IPython.core.display.Markdown object>"
            ],
            "text/markdown": "**`Source Node 9/10`**"
          },
          "metadata": {}
        },
        {
          "output_type": "display_data",
          "data": {
            "text/plain": [
              "<IPython.core.display.Markdown object>"
            ],
            "text/markdown": "**Node ID:** f4ebc93b-28cc-45f0-8691-b957118fd0f0<br>**Similarity:** 0.7830693441261145<br>**Text:** d'etre of our software was that people could use it to make their own stores. But anything to get users.\n\nWe learned a lot more about retail than we wanted to know. For example, that if you could only have a small image of a man's shirt (and all images were small then by present standards), it was better to have a closeup of the collar than a picture of the whole shirt. The reason I remember learning this was that it meant I had to rescan about 30 images of men's shirts. My first set of scans were so beautiful too.\n\nThough this felt wrong, it was exactly the right thing to be doing. Building stores for users taught us about retail, and about how it felt to use our software. I was initially both mystified and repelled by \"business\" and thought we needed a \"business person\" to be in charge of it, but once we started to get users, I was converted, in much the same way I was converted to fatherhood once I had kids. Whatever users wanted, I was all theirs. Maybe one day we'd have so many...<br>**Metadata:** {'file_path': '/content/data/paul_graham/paul_graham_essay.txt', 'file_name': 'paul_graham_essay.txt', 'file_type': 'text/plain', 'file_size': 75042, 'creation_date': '2024-10-07', 'last_modified_date': '2024-10-07', 'document_title': 'The Evolution of Art and Technology: A Journey from Short Stories to AI Programming and Fine Arts', 'excerpt_keywords': 'art, technology, evolution, short stories, AI programming, fine arts, startup, growth rate, retail, investors', 'questions_this_excerpt_can_answer': \"1. How did the growth rate of the startup company impact its success and eventual acquisition by Yahoo?\\n2. What was the founder's initial perception of the importance of user growth versus the absolute number of users, and how did this perception change over time?\\n3. How did the founder's experience running a startup during the Internet Bubble era influence their decision-making, particularly in terms of hiring and responding to investor pressure?\", 'prev_section_summary': \"The section discusses the early stages of the Viaweb startup, founded by Paul Graham, Robert Morris, and Trevor Blackwell in the 1990s. Key topics include the challenges faced in launching the online store builder software, the importance of high production values in making users look legitimate, the role of the founders in developing different parts of the software, the strategy of offering low prices to attract customers, and the unconventional methods used to acquire users, such as building stores for them. The section also touches on the founders' backgrounds in art and programming, their individual strengths, and the early success of Viaweb despite being ahead of its time in the ecommerce market.\", 'next_section_summary': \"The section discusses the author's decision to leave a lucrative job at Yahoo to pursue painting, the challenges faced in transitioning from technology to painting, the influence of experiences in art and tech on starting a new company focused on web applications, and the excitement and development of the idea for a web app for making web apps. Key topics include ambition, creativity, entrepreneurship, software development, and the use of Lisp in programming. Key entities mentioned include Yahoo, Viaweb, Robert, Dan Giffin, and MIT.\", 'section_summary': \"The section discusses the evolution of a startup company, Viaweb, founded by the author, Paul Graham. It highlights the importance of user growth, the impact of the Internet Bubble era on decision-making, the significance of growth rate in a startup's success, and the eventual acquisition of Viaweb by Yahoo. The author reflects on the challenges faced, the pressure from investors, and the eventual relief of being acquired. The section also touches on the author's personal journey, from running a startup to transitioning to a more creative pursuit, such as painting, after becoming financially successful.\"}<br>"
          },
          "metadata": {}
        },
        {
          "output_type": "display_data",
          "data": {
            "text/plain": [
              "<IPython.core.display.Markdown object>"
            ],
            "text/markdown": "---"
          },
          "metadata": {}
        },
        {
          "output_type": "display_data",
          "data": {
            "text/plain": [
              "<IPython.core.display.Markdown object>"
            ],
            "text/markdown": "**`Source Node 10/10`**"
          },
          "metadata": {}
        },
        {
          "output_type": "display_data",
          "data": {
            "text/plain": [
              "<IPython.core.display.Markdown object>"
            ],
            "text/markdown": "**Node ID:** 4f752a77-f237-495a-b98e-911c014a869e<br>**Similarity:** 0.782277767220868<br>**Text:** But I had done this to get rich so I could paint, I reminded myself, and now I was rich, so I should go paint.\n\nWhen I said I was leaving, my boss at Yahoo had a long conversation with me about my plans. I told him all about the kinds of pictures I wanted to paint. At the time I was touched that he took such an interest in me. Now I realize it was because he thought I was lying. My options at that point were worth about $2 million a month. If I was leaving that kind of money on the table, it could only be to go and start some new startup, and if I did, I might take people with me. This was the height of the Internet Bubble, and Yahoo was ground zero of it. My boss was at that moment a billionaire. Leaving then to start a new startup must have seemed to him an insanely, and yet also plausibly, ambitious plan.\n\nBut I really was quitting to paint, and I started immediately. There was no time to lose. I'd already burned 4 years getting rich. Now when I talk to founders who are leaving a...<br>**Metadata:** {'file_path': '/content/data/paul_graham/paul_graham_essay.txt', 'file_name': 'paul_graham_essay.txt', 'file_type': 'text/plain', 'file_size': 75042, 'creation_date': '2024-10-07', 'last_modified_date': '2024-10-07', 'document_title': 'The Evolution of Art and Technology: A Journey from Short Stories to AI Programming and Fine Arts', 'excerpt_keywords': 'art, technology, painting, startup, web apps, entrepreneurship, creativity, ambition, software development, lisp', 'questions_this_excerpt_can_answer': \"1. How did the author's decision to leave a lucrative job at Yahoo to pursue painting lead to the creation of a new startup focused on web applications?\\n2. What challenges did the author face in transitioning from a successful career in technology to pursuing a passion for painting, and how did these challenges ultimately influence the direction of their future endeavors?\\n3. What role did the author's experiences in both the art world and the tech industry play in shaping their decision to start a new company focused on web applications, and how did these diverse influences contribute to the development of their innovative ideas and approach to software development?\", 'prev_section_summary': \"The section discusses the evolution of a startup company, Viaweb, founded by the author, Paul Graham. It highlights the importance of user growth, the impact of the Internet Bubble era on decision-making, the significance of growth rate in a startup's success, and the eventual acquisition of Viaweb by Yahoo. The author reflects on the challenges faced, the pressure from investors, and the eventual relief of being acquired. The section also touches on the author's personal journey, from running a startup to transitioning to a more creative pursuit, such as painting, after becoming financially successful.\", 'next_section_summary': \"The section discusses Paul Graham's transition from working on Viaweb to starting a new company called Aspra and developing a new Lisp dialect called Arc. It also covers the evolution of technology, specifically the rise of the internet and online publishing, and how it influenced Graham's decision to focus on writing and sharing essays online. The section highlights the impact of open source projects, the concept of software as a service, and the changing landscape of publishing essays online. Key entities mentioned include Viaweb, Lisp, Y Combinator, open source projects, software as a service, application service provider, Arc, and online publishing infrastructure.\", 'section_summary': \"The section discusses the author's decision to leave a lucrative job at Yahoo to pursue painting, the challenges faced in transitioning from technology to painting, the influence of experiences in art and tech on starting a new company focused on web applications, and the excitement and development of the idea for a web app for making web apps. Key topics include ambition, creativity, entrepreneurship, software development, and the use of Lisp in programming. Key entities mentioned include Yahoo, Viaweb, Robert, Dan Giffin, and MIT.\"}<br>"
          },
          "metadata": {}
        }
      ]
    },
    {
      "cell_type": "code",
      "source": [],
      "metadata": {
        "id": "ZiL_-pSLNARn"
      },
      "execution_count": null,
      "outputs": []
    },
    {
      "cell_type": "markdown",
      "source": [
        "### Set up a generalized retriever\n",
        "- https://docs.llamaindex.ai/en/stable/module_guides/querying/retriever/retrievers/\n"
      ],
      "metadata": {
        "id": "FbalH7swQ_yJ"
      }
    },
    {
      "cell_type": "code",
      "source": [],
      "metadata": {
        "id": "Gg5SyhTQR-q2"
      },
      "execution_count": null,
      "outputs": []
    },
    {
      "cell_type": "markdown",
      "source": [
        "## Set up hybrid BM25 retriever (see also router query engine)\n",
        "\n",
        "- https://colab.research.google.com/drive/1gISHKQ7xu-VDyEL7Lr9izemJO-_t1mKC?usp=sharing"
      ],
      "metadata": {
        "id": "9dfPAwGGR14R"
      }
    },
    {
      "cell_type": "code",
      "source": [
        "# https://docs.llamaindex.ai/en/stable/api_reference/retrievers/bm25/#llama_index.retrievers.bm25.BM25Retriever"
      ],
      "metadata": {
        "id": "RXSocRcmCYNf"
      },
      "execution_count": 39,
      "outputs": []
    },
    {
      "cell_type": "code",
      "source": [
        "# %pip install llama-index-retrievers-bm25\n",
        "Settings.llm = OpenAI(model=\"gpt-3.5-turbo\")\n",
        "Settings.embed_model = OpenAIEmbedding(model_name=\"text-embedding-3-small\")"
      ],
      "metadata": {
        "id": "nCvFINm5Rgl5"
      },
      "execution_count": 41,
      "outputs": []
    },
    {
      "cell_type": "code",
      "source": [
        "from llama_index.retrievers.bm25 import BM25Retriever\n",
        "import Stemmer\n",
        "\n",
        "bm25_retriever = BM25Retriever.from_defaults(\n",
        "    nodes=nodes,\n",
        "    similarity_top_k=10,\n",
        "    # Optional: We can pass in the stemmer and set the language for stopwords\n",
        "    # This is important for removing stopwords and stemming the query + text\n",
        "    # The default is english for both\n",
        "    stemmer=Stemmer.Stemmer(\"english\"),\n",
        "    language=\"english\",\n",
        ")"
      ],
      "metadata": {
        "colab": {
          "base_uri": "https://localhost:8080/"
        },
        "id": "T0wVBHD-Rgg3",
        "outputId": "c8981625-cfdf-4a39-9e23-829bc5a188ff"
      },
      "execution_count": 47,
      "outputs": [
        {
          "output_type": "stream",
          "name": "stderr",
          "text": [
            "DEBUG:bm25s:Building index from IDs objects\n"
          ]
        }
      ]
    },
    {
      "cell_type": "code",
      "source": [
        "bm25_retriever_1 = BM25Retriever.from_defaults(\n",
        "    nodes=nodes1,\n",
        "    similarity_top_k=10,\n",
        "    # Optional: We can pass in the stemmer and set the language for stopwords\n",
        "    # This is important for removing stopwords and stemming the query + text\n",
        "    # The default is english for both\n",
        "    stemmer=Stemmer.Stemmer(\"english\"),\n",
        "    language=\"english\",\n",
        ")"
      ],
      "metadata": {
        "colab": {
          "base_uri": "https://localhost:8080/"
        },
        "id": "gnhhWOKhRgby",
        "outputId": "4e39e2b2-bf53-48c1-8aa2-d417000fb727"
      },
      "execution_count": 46,
      "outputs": [
        {
          "output_type": "stream",
          "name": "stderr",
          "text": [
            "DEBUG:bm25s:Building index from IDs objects\n"
          ]
        }
      ]
    },
    {
      "cell_type": "code",
      "source": [
        "bm25_retriever.persist(\"./bm25_retriever\")\n",
        "bm25_retriever_1.persist(\"./bm25_retriever_1\")"
      ],
      "metadata": {
        "colab": {
          "base_uri": "https://localhost:8080/",
          "height": 81,
          "referenced_widgets": [
            "c8a01b4d50b74846887987adbb091de3",
            "71b6d7849cb746e0bd9eb3415b953b24",
            "b7784716171349d18c9bf92726d0b03a",
            "176acc3c5e8543d880ab217faea03af4",
            "e767ed45686742c083df0762b0f3a12e",
            "0e35f533393b4f9a8656646647d2654a",
            "b8e3d31920db4a68b57879deda904d47",
            "8d217eeaad6c44fe8e190e0e4a54b142",
            "877f6867a7a949368c16753127f86499",
            "d874bc7e99c4439f960ca838f0ab050f",
            "26e9cd2194724f60b9480a254ca24544",
            "eb935090ecfd48f7a5b614742ee1272f",
            "216c83e0bf324791a4a3e212b0fe82ae",
            "72ccf78283e34e77a827ab4b73562f86",
            "ad37caad23b9499d822dba32409579b9",
            "c75e52f91a3c4d7fa1d21c06e623ba3b",
            "3842704fd2b9400cbd2217b934ec9e1f",
            "0b36e3ff216c497a94e20e4f7883a461",
            "8c135adf367c413fa39ac4c19be5a836",
            "5fb54b19e99347fd877aa8cdc1a6c14a",
            "0168103baf6a44b5a785ed1830991e63",
            "9d6791cd9e8b4a37a2d3f6d5508f9fe4"
          ]
        },
        "id": "7Debhfk8DFKe",
        "outputId": "b7fc28f6-fcab-4418-a4df-91e75a4bb018"
      },
      "execution_count": 44,
      "outputs": [
        {
          "output_type": "display_data",
          "data": {
            "text/plain": [
              "Finding newlines for mmindex:   0%|          | 0.00/157k [00:00<?, ?B/s]"
            ],
            "application/vnd.jupyter.widget-view+json": {
              "version_major": 2,
              "version_minor": 0,
              "model_id": "c8a01b4d50b74846887987adbb091de3"
            }
          },
          "metadata": {}
        },
        {
          "output_type": "display_data",
          "data": {
            "text/plain": [
              "Finding newlines for mmindex:   0%|          | 0.00/228k [00:00<?, ?B/s]"
            ],
            "application/vnd.jupyter.widget-view+json": {
              "version_major": 2,
              "version_minor": 0,
              "model_id": "eb935090ecfd48f7a5b614742ee1272f"
            }
          },
          "metadata": {}
        }
      ]
    },
    {
      "cell_type": "markdown",
      "source": [
        "## Examine retrieved nodes"
      ],
      "metadata": {
        "id": "kA_ctMScVr8e"
      }
    },
    {
      "cell_type": "code",
      "source": [
        "# will retrieve context from specific companies\n",
        "retrieved_nodes = bm25_retriever.retrieve(\n",
        "    \"What happened at Viaweb and Interleaf?\"\n",
        ")\n",
        "for node in retrieved_nodes:\n",
        "    display_source_node(node, source_length=1000)"
      ],
      "metadata": {
        "colab": {
          "base_uri": "https://localhost:8080/",
          "height": 1000
        },
        "collapsed": true,
        "id": "GdsptbTBUxp2",
        "outputId": "b19a6ac1-4e79-4704-c007-527732f96a28"
      },
      "execution_count": 48,
      "outputs": [
        {
          "output_type": "display_data",
          "data": {
            "text/plain": [
              "<IPython.core.display.Markdown object>"
            ],
            "text/markdown": "**Node ID:** 2dd74cec-b159-4e9e-8329-854df1e5e7ab<br>**Similarity:** 1.3625849485397339<br>**Text:** without telling you the shape and position of every leaf. This is a feature of brains, not a bug. In everyday life it would be distracting to notice every leaf on every bush. But when you have to paint something, you have to look more closely, and when you do there's a lot to see. You can still be noticing new things after days of trying to paint something people usually take for granted, just as you can after days of trying to write an essay about something people usually take for granted.\n\nThis is not the only way to paint. I'm not 100% sure it's even a good way to paint. But it seemed a good enough bet to be worth trying.\n\nOur teacher, professor Ulivi, was a nice guy. He could see I worked hard, and gave me a good grade, which he wrote down in a sort of passport each student had. But the Accademia wasn't teaching me anything except Italian, and my money was running out, so at the end of the first year I went back to the US.\n\nI wanted to go back to RISD, but I was now broke and RI...<br>"
          },
          "metadata": {}
        },
        {
          "output_type": "display_data",
          "data": {
            "text/plain": [
              "<IPython.core.display.Markdown object>"
            ],
            "text/markdown": "**Node ID:** 990b8f7a-3ae3-43ab-9952-385269ce38c4<br>**Similarity:** 1.1546498537063599<br>**Text:** track of what's happening at what level, and errors can be practically encrypted by the time you get them.\n\nSo I said no more essays till Bel was done. But I told few people about Bel while I was working on it. So for years it must have seemed that I was doing nothing, when in fact I was working harder than I'd ever worked on anything. Occasionally after wrestling for hours with some gruesome bug I'd check Twitter or HN and see someone asking \"Does Paul Graham still code?\"\n\nWorking on Bel was hard but satisfying. I worked on it so intensively that at any given time I had a decent chunk of the code in my head and could write more there. I remember taking the boys to the coast on a sunny day in 2015 and figuring out how to deal with some problem involving continuations while I watched them play in the tide pools. It felt like I was doing life right. I remember that because I was slightly dismayed at how novel it felt. The good news is that I had more moments like this over the next fe...<br>"
          },
          "metadata": {}
        },
        {
          "output_type": "display_data",
          "data": {
            "text/plain": [
              "<IPython.core.display.Markdown object>"
            ],
            "text/markdown": "**Node ID:** 8f3d61f2-332d-4d7a-ace7-8e074fb22db4<br>**Similarity:** 1.154024600982666<br>**Text:** was more than counterbalanced by what I owed the government in taxes. (Had I diligently set aside the proper proportion of the money I'd made consulting for Interleaf? No, I had not.) So although Robert had his graduate student stipend, I needed that seed funding to live on.\n\nWe originally hoped to launch in September, but we got more ambitious about the software as we worked on it. Eventually we managed to build a WYSIWYG site builder, in the sense that as you were creating pages, they looked exactly like the static ones that would be generated later, except that instead of leading to static pages, the links all referred to closures stored in a hash table on the server.\n\nIt helped to have studied art, because the main goal of an online store builder is to make users look legit, and the key to looking legit is high production values. If you get page layouts and fonts and colors right, you can make a guy running a store out of his bedroom look more legit than a big company.\n\n(If you'...<br>"
          },
          "metadata": {}
        },
        {
          "output_type": "display_data",
          "data": {
            "text/plain": [
              "<IPython.core.display.Markdown object>"
            ],
            "text/markdown": "**Node ID:** 27e4c37a-d409-46ac-b613-1730d8acdb3e<br>**Similarity:** 1.1530497074127197<br>**Text:** about a famous fund manager. He wasn't that much older than me, and was super rich. The thought suddenly occurred to me: why don't I become rich? Then I'll be able to work on whatever I want.\n\nMeanwhile I'd been hearing more and more about this new thing called the World Wide Web. Robert Morris showed it to me when I visited him in Cambridge, where he was now in grad school at Harvard. It seemed to me that the web would be a big deal. I'd seen what graphical user interfaces had done for the popularity of microcomputers. It seemed like the web would do the same for the internet.\n\nIf I wanted to get rich, here was the next train leaving the station. I was right about that part. What I got wrong was the idea. I decided we should start a company to put art galleries online. I can't honestly say, after reading so many Y Combinator applications, that this was the worst startup idea ever, but it was up there. Art galleries didn't want to be online, and still don't, not the fancy ones. That...<br>"
          },
          "metadata": {}
        },
        {
          "output_type": "display_data",
          "data": {
            "text/plain": [
              "<IPython.core.display.Markdown object>"
            ],
            "text/markdown": "**Node ID:** 5e89cd40-e054-4364-a2e3-c0438a39e1a1<br>**Similarity:** 0.9732337594032288<br>**Text:** myself then. I recruited Dan Giffin, who had worked for Viaweb, and two undergrads who wanted summer jobs, and we got to work trying to build what it's now clear is about twenty companies and several open source projects worth of software. The language for defining applications would of course be a dialect of Lisp. But I wasn't so naive as to assume I could spring an overt Lisp on a general audience; we'd hide the parentheses, like Dylan did.\n\nBy then there was a name for the kind of company Viaweb was, an \"application service provider,\" or ASP. This name didn't last long before it was replaced by \"software as a service,\" but it was current for long enough that I named this new company after it: it was going to be called Aspra.\n\nI started working on the application builder, Dan worked on network infrastructure, and the two undergrads worked on the first two services (images and phone calls). But about halfway through the summer I realized I really didn't want to run a company — espe...<br>"
          },
          "metadata": {}
        },
        {
          "output_type": "display_data",
          "data": {
            "text/plain": [
              "<IPython.core.display.Markdown object>"
            ],
            "text/markdown": "**Node ID:** 3a9e6f6b-9925-435b-9c2e-1ad8cf2f3fd7<br>**Similarity:** 0.9066142439842224<br>**Text:** d'etre of our software was that people could use it to make their own stores. But anything to get users.\n\nWe learned a lot more about retail than we wanted to know. For example, that if you could only have a small image of a man's shirt (and all images were small then by present standards), it was better to have a closeup of the collar than a picture of the whole shirt. The reason I remember learning this was that it meant I had to rescan about 30 images of men's shirts. My first set of scans were so beautiful too.\n\nThough this felt wrong, it was exactly the right thing to be doing. Building stores for users taught us about retail, and about how it felt to use our software. I was initially both mystified and repelled by \"business\" and thought we needed a \"business person\" to be in charge of it, but once we started to get users, I was converted, in much the same way I was converted to fatherhood once I had kids. Whatever users wanted, I was all theirs. Maybe one day we'd have so many...<br>"
          },
          "metadata": {}
        },
        {
          "output_type": "display_data",
          "data": {
            "text/plain": [
              "<IPython.core.display.Markdown object>"
            ],
            "text/markdown": "**Node ID:** 08660c9b-7ef2-49f1-9adc-9fa572f615b1<br>**Similarity:** 0.7928295135498047<br>**Text:** as soon as it's done. But when the software is an online store builder and you're hosting the stores, if you don't have any users yet, that fact will be painfully obvious. So before we could launch publicly we had to launch privately, in the sense of recruiting an initial set of users and making sure they had decent-looking stores.\n\n[9] We'd had a code editor in Viaweb for users to define their own page styles. They didn't know it, but they were editing Lisp expressions underneath. But this wasn't an app editor, because the code ran when the merchants' sites were generated, not when shoppers visited them.\n\n[10] This was the first instance of what is now a familiar experience, and so was what happened next, when I read the comments and found they were full of angry people. How could I claim that Lisp was better than other languages? Weren't they all Turing complete? People who see the responses to essays I write sometimes tell me how sorry they feel for me, but I'm not exaggerating w...<br>"
          },
          "metadata": {}
        },
        {
          "output_type": "display_data",
          "data": {
            "text/plain": [
              "<IPython.core.display.Markdown object>"
            ],
            "text/markdown": "**Node ID:** 5ae76bb1-8bfb-44dd-b722-d9e45ae39ec2<br>**Similarity:** 0.7178156971931458<br>**Text:** Harsh Mistress, so I don't know how well it has aged, but when I read it I was drawn entirely into its world. It seemed only a matter of time before we'd have Mike, and when I saw Winograd using SHRDLU, it seemed like that time would be a few years at most. All you had to do was teach SHRDLU more words.\n\nThere weren't any classes in AI at Cornell then, not even graduate classes, so I started trying to teach myself. Which meant learning Lisp, since in those days Lisp was regarded as the language of AI. The commonly used programming languages then were pretty primitive, and programmers' ideas correspondingly so. The default language at Cornell was a Pascal-like language called PL/I, and the situation was similar elsewhere. Learning Lisp expanded my concept of a program so fast that it was years before I started to have a sense of where the new limits were. This was more like it; this was what I had expected college to do. It wasn't happening in a class, like it was supposed to, but th...<br>"
          },
          "metadata": {}
        },
        {
          "output_type": "display_data",
          "data": {
            "text/plain": [
              "<IPython.core.display.Markdown object>"
            ],
            "text/markdown": "**Node ID:** 7c6a0473-c10b-44e8-9d3e-6ab1145783a0<br>**Similarity:** 0.7082861065864563<br>**Text:** enthusiasts were an occupational hazard at Interleaf and I ignored him, but this HTML thing later became a big part of my life.\n\nIn the fall of 1992 I moved back to Providence to continue at RISD. The foundation had merely been intro stuff, and the Accademia had been a (very civilized) joke. Now I was going to see what real art school was like. But alas it was more like the Accademia than not. Better organized, certainly, and a lot more expensive, but it was now becoming clear that art school did not bear the same relationship to art that medical school bore to medicine. At least not the painting department. The textile department, which my next door neighbor belonged to, seemed to be pretty rigorous. No doubt illustration and architecture were too. But painting was post-rigorous. Painting students were supposed to express themselves, which to the more worldly ones meant to try to cook up some sort of distinctive signature style.\n\nA signature style is the visual equivalent of what i...<br>"
          },
          "metadata": {}
        },
        {
          "output_type": "display_data",
          "data": {
            "text/plain": [
              "<IPython.core.display.Markdown object>"
            ],
            "text/markdown": "**Node ID:** f05879e5-6d2e-48ca-8242-ac707c6ac480<br>**Similarity:** 0.4553092420101166<br>**Text:** What I Worked On\n\nFebruary 2021\n\nBefore college the two main things I worked on, outside of school, were writing and programming. I didn't write essays. I wrote what beginning writers were supposed to write then, and probably still are: short stories. My stories were awful. They had hardly any plot, just characters with strong feelings, which I imagined made them deep.\n\nThe first programs I tried writing were on the IBM 1401 that our school district used for what was then called \"data processing.\" This was in 9th grade, so I was 13 or 14. The school district's 1401 happened to be in the basement of our junior high school, and my friend Rich Draves and I got permission to use it. It was like a mini Bond villain's lair down there, with all these alien-looking machines — CPU, disk drives, printer, card reader — sitting up on a raised floor under bright fluorescent lights.\n\nThe language we used was an early version of Fortran. You had to type programs on punch cards, then stack them in ...<br>"
          },
          "metadata": {}
        }
      ]
    },
    {
      "cell_type": "code",
      "source": [
        "# will retrieve context from specific companies\n",
        "retrieved_nodes = bm25_retriever_1.retrieve(\n",
        "    \"What happened at Viaweb and Interleaf?\"\n",
        ")\n",
        "for node in retrieved_nodes:\n",
        "    display_source_node(node, source_length=1000)"
      ],
      "metadata": {
        "colab": {
          "base_uri": "https://localhost:8080/",
          "height": 1000
        },
        "collapsed": true,
        "id": "XHmDRVkXTobH",
        "outputId": "ef33bd70-9353-4674-86b4-c699b9227bef"
      },
      "execution_count": 49,
      "outputs": [
        {
          "output_type": "display_data",
          "data": {
            "text/plain": [
              "<IPython.core.display.Markdown object>"
            ],
            "text/markdown": "**Node ID:** 7320d20a-d32d-4b0d-966b-2afb29550a93<br>**Similarity:** 1.0150901079177856<br>**Text:** track of what's happening at what level, and errors can be practically encrypted by the time you get them.\n\nSo I said no more essays till Bel was done. But I told few people about Bel while I was working on it. So for years it must have seemed that I was doing nothing, when in fact I was working harder than I'd ever worked on anything. Occasionally after wrestling for hours with some gruesome bug I'd check Twitter or HN and see someone asking \"Does Paul Graham still code?\"\n\nWorking on Bel was hard but satisfying. I worked on it so intensively that at any given time I had a decent chunk of the code in my head and could write more there. I remember taking the boys to the coast on a sunny day in 2015 and figuring out how to deal with some problem involving continuations while I watched them play in the tide pools. It felt like I was doing life right. I remember that because I was slightly dismayed at how novel it felt. The good news is that I had more moments like this over the next fe...<br>"
          },
          "metadata": {}
        },
        {
          "output_type": "display_data",
          "data": {
            "text/plain": [
              "<IPython.core.display.Markdown object>"
            ],
            "text/markdown": "**Node ID:** 376df6df-1754-45b7-ad61-87677802fd47<br>**Similarity:** 1.00193452835083<br>**Text:** without telling you the shape and position of every leaf. This is a feature of brains, not a bug. In everyday life it would be distracting to notice every leaf on every bush. But when you have to paint something, you have to look more closely, and when you do there's a lot to see. You can still be noticing new things after days of trying to paint something people usually take for granted, just as you can after days of trying to write an essay about something people usually take for granted.\n\nThis is not the only way to paint. I'm not 100% sure it's even a good way to paint. But it seemed a good enough bet to be worth trying.\n\nOur teacher, professor Ulivi, was a nice guy. He could see I worked hard, and gave me a good grade, which he wrote down in a sort of passport each student had. But the Accademia wasn't teaching me anything except Italian, and my money was running out, so at the end of the first year I went back to the US.\n\nI wanted to go back to RISD, but I was now broke and RI...<br>"
          },
          "metadata": {}
        },
        {
          "output_type": "display_data",
          "data": {
            "text/plain": [
              "<IPython.core.display.Markdown object>"
            ],
            "text/markdown": "**Node ID:** c72eab80-3707-4cea-95c8-a4b00da2582e<br>**Similarity:** 0.8629586696624756<br>**Text:** enthusiasts were an occupational hazard at Interleaf and I ignored him, but this HTML thing later became a big part of my life.\n\nIn the fall of 1992 I moved back to Providence to continue at RISD. The foundation had merely been intro stuff, and the Accademia had been a (very civilized) joke. Now I was going to see what real art school was like. But alas it was more like the Accademia than not. Better organized, certainly, and a lot more expensive, but it was now becoming clear that art school did not bear the same relationship to art that medical school bore to medicine. At least not the painting department. The textile department, which my next door neighbor belonged to, seemed to be pretty rigorous. No doubt illustration and architecture were too. But painting was post-rigorous. Painting students were supposed to express themselves, which to the more worldly ones meant to try to cook up some sort of distinctive signature style.\n\nA signature style is the visual equivalent of what i...<br>"
          },
          "metadata": {}
        },
        {
          "output_type": "display_data",
          "data": {
            "text/plain": [
              "<IPython.core.display.Markdown object>"
            ],
            "text/markdown": "**Node ID:** 4f9b9b1b-c02a-45ff-be1f-d265110a3ece<br>**Similarity:** 0.8483482599258423<br>**Text:** was more than counterbalanced by what I owed the government in taxes. (Had I diligently set aside the proper proportion of the money I'd made consulting for Interleaf? No, I had not.) So although Robert had his graduate student stipend, I needed that seed funding to live on.\n\nWe originally hoped to launch in September, but we got more ambitious about the software as we worked on it. Eventually we managed to build a WYSIWYG site builder, in the sense that as you were creating pages, they looked exactly like the static ones that would be generated later, except that instead of leading to static pages, the links all referred to closures stored in a hash table on the server.\n\nIt helped to have studied art, because the main goal of an online store builder is to make users look legit, and the key to looking legit is high production values. If you get page layouts and fonts and colors right, you can make a guy running a store out of his bedroom look more legit than a big company.\n\n(If you'...<br>"
          },
          "metadata": {}
        },
        {
          "output_type": "display_data",
          "data": {
            "text/plain": [
              "<IPython.core.display.Markdown object>"
            ],
            "text/markdown": "**Node ID:** a8567914-d119-452d-905f-49c6406a6a7a<br>**Similarity:** 0.8393388986587524<br>**Text:** about a famous fund manager. He wasn't that much older than me, and was super rich. The thought suddenly occurred to me: why don't I become rich? Then I'll be able to work on whatever I want.\n\nMeanwhile I'd been hearing more and more about this new thing called the World Wide Web. Robert Morris showed it to me when I visited him in Cambridge, where he was now in grad school at Harvard. It seemed to me that the web would be a big deal. I'd seen what graphical user interfaces had done for the popularity of microcomputers. It seemed like the web would do the same for the internet.\n\nIf I wanted to get rich, here was the next train leaving the station. I was right about that part. What I got wrong was the idea. I decided we should start a company to put art galleries online. I can't honestly say, after reading so many Y Combinator applications, that this was the worst startup idea ever, but it was up there. Art galleries didn't want to be online, and still don't, not the fancy ones. That...<br>"
          },
          "metadata": {}
        },
        {
          "output_type": "display_data",
          "data": {
            "text/plain": [
              "<IPython.core.display.Markdown object>"
            ],
            "text/markdown": "**Node ID:** 528b6304-d2af-4df9-a0e2-489bb413023b<br>**Similarity:** 0.6890634298324585<br>**Text:** myself then. I recruited Dan Giffin, who had worked for Viaweb, and two undergrads who wanted summer jobs, and we got to work trying to build what it's now clear is about twenty companies and several open source projects worth of software. The language for defining applications would of course be a dialect of Lisp. But I wasn't so naive as to assume I could spring an overt Lisp on a general audience; we'd hide the parentheses, like Dylan did.\n\nBy then there was a name for the kind of company Viaweb was, an \"application service provider,\" or ASP. This name didn't last long before it was replaced by \"software as a service,\" but it was current for long enough that I named this new company after it: it was going to be called Aspra.\n\nI started working on the application builder, Dan worked on network infrastructure, and the two undergrads worked on the first two services (images and phone calls). But about halfway through the summer I realized I really didn't want to run a company — espe...<br>"
          },
          "metadata": {}
        },
        {
          "output_type": "display_data",
          "data": {
            "text/plain": [
              "<IPython.core.display.Markdown object>"
            ],
            "text/markdown": "**Node ID:** e6727066-9450-419e-8d26-f84987f61329<br>**Similarity:** 0.6723548769950867<br>**Text:** Harsh Mistress, so I don't know how well it has aged, but when I read it I was drawn entirely into its world. It seemed only a matter of time before we'd have Mike, and when I saw Winograd using SHRDLU, it seemed like that time would be a few years at most. All you had to do was teach SHRDLU more words.\n\nThere weren't any classes in AI at Cornell then, not even graduate classes, so I started trying to teach myself. Which meant learning Lisp, since in those days Lisp was regarded as the language of AI. The commonly used programming languages then were pretty primitive, and programmers' ideas correspondingly so. The default language at Cornell was a Pascal-like language called PL/I, and the situation was similar elsewhere. Learning Lisp expanded my concept of a program so fast that it was years before I started to have a sense of where the new limits were. This was more like it; this was what I had expected college to do. It wasn't happening in a class, like it was supposed to, but th...<br>"
          },
          "metadata": {}
        },
        {
          "output_type": "display_data",
          "data": {
            "text/plain": [
              "<IPython.core.display.Markdown object>"
            ],
            "text/markdown": "**Node ID:** f4ebc93b-28cc-45f0-8691-b957118fd0f0<br>**Similarity:** 0.6617716550827026<br>**Text:** d'etre of our software was that people could use it to make their own stores. But anything to get users.\n\nWe learned a lot more about retail than we wanted to know. For example, that if you could only have a small image of a man's shirt (and all images were small then by present standards), it was better to have a closeup of the collar than a picture of the whole shirt. The reason I remember learning this was that it meant I had to rescan about 30 images of men's shirts. My first set of scans were so beautiful too.\n\nThough this felt wrong, it was exactly the right thing to be doing. Building stores for users taught us about retail, and about how it felt to use our software. I was initially both mystified and repelled by \"business\" and thought we needed a \"business person\" to be in charge of it, but once we started to get users, I was converted, in much the same way I was converted to fatherhood once I had kids. Whatever users wanted, I was all theirs. Maybe one day we'd have so many...<br>"
          },
          "metadata": {}
        },
        {
          "output_type": "display_data",
          "data": {
            "text/plain": [
              "<IPython.core.display.Markdown object>"
            ],
            "text/markdown": "**Node ID:** 4d3eb473-6e90-4f07-8df7-586591d55d02<br>**Similarity:** 0.6486070156097412<br>**Text:** as soon as it's done. But when the software is an online store builder and you're hosting the stores, if you don't have any users yet, that fact will be painfully obvious. So before we could launch publicly we had to launch privately, in the sense of recruiting an initial set of users and making sure they had decent-looking stores.\n\n[9] We'd had a code editor in Viaweb for users to define their own page styles. They didn't know it, but they were editing Lisp expressions underneath. But this wasn't an app editor, because the code ran when the merchants' sites were generated, not when shoppers visited them.\n\n[10] This was the first instance of what is now a familiar experience, and so was what happened next, when I read the comments and found they were full of angry people. How could I claim that Lisp was better than other languages? Weren't they all Turing complete? People who see the responses to essays I write sometimes tell me how sorry they feel for me, but I'm not exaggerating w...<br>"
          },
          "metadata": {}
        },
        {
          "output_type": "display_data",
          "data": {
            "text/plain": [
              "<IPython.core.display.Markdown object>"
            ],
            "text/markdown": "**Node ID:** 27c0dd6f-e563-47e2-b5ba-1b72fd7befa9<br>**Similarity:** 0.5750001072883606<br>**Text:** This was not as strange as it sounds, because I was only 25, and art schools are full of people of different ages. RISD counted me as a transfer sophomore and said I had to do the foundation that summer. The foundation means the classes that everyone has to take in fundamental subjects like drawing, color, and design.\n\nToward the end of the summer I got a big surprise: a letter from the Accademia, which had been delayed because they'd sent it to Cambridge England instead of Cambridge Massachusetts, inviting me to take the entrance exam in Florence that fall. This was now only weeks away. My nice landlady let me leave my stuff in her attic. I had some money saved from consulting work I'd done in grad school; there was probably enough to last a year if I lived cheaply. Now all I had to do was learn Italian.\n\nOnly stranieri (foreigners) had to take this entrance exam. In retrospect it may well have been a way of excluding them, because there were so many stranieri attracted by the idea...<br>"
          },
          "metadata": {}
        }
      ]
    },
    {
      "cell_type": "code",
      "source": [
        "retrieved_nodes = bm25_retriever.retrieve(\"What did the author do after RISD?\")\n",
        "for node in retrieved_nodes:\n",
        "    display_source_node(node, source_length=1000)"
      ],
      "metadata": {
        "colab": {
          "base_uri": "https://localhost:8080/",
          "height": 1000
        },
        "collapsed": true,
        "id": "u6TDdCnrUhHL",
        "outputId": "79b11046-dacc-4584-acff-d3e2f22dbca7"
      },
      "execution_count": 50,
      "outputs": [
        {
          "output_type": "display_data",
          "data": {
            "text/plain": [
              "<IPython.core.display.Markdown object>"
            ],
            "text/markdown": "**Node ID:** 2dd74cec-b159-4e9e-8329-854df1e5e7ab<br>**Similarity:** 2.125831127166748<br>**Text:** without telling you the shape and position of every leaf. This is a feature of brains, not a bug. In everyday life it would be distracting to notice every leaf on every bush. But when you have to paint something, you have to look more closely, and when you do there's a lot to see. You can still be noticing new things after days of trying to paint something people usually take for granted, just as you can after days of trying to write an essay about something people usually take for granted.\n\nThis is not the only way to paint. I'm not 100% sure it's even a good way to paint. But it seemed a good enough bet to be worth trying.\n\nOur teacher, professor Ulivi, was a nice guy. He could see I worked hard, and gave me a good grade, which he wrote down in a sort of passport each student had. But the Accademia wasn't teaching me anything except Italian, and my money was running out, so at the end of the first year I went back to the US.\n\nI wanted to go back to RISD, but I was now broke and RI...<br>"
          },
          "metadata": {}
        },
        {
          "output_type": "display_data",
          "data": {
            "text/plain": [
              "<IPython.core.display.Markdown object>"
            ],
            "text/markdown": "**Node ID:** 7c6a0473-c10b-44e8-9d3e-6ab1145783a0<br>**Similarity:** 2.015061855316162<br>**Text:** enthusiasts were an occupational hazard at Interleaf and I ignored him, but this HTML thing later became a big part of my life.\n\nIn the fall of 1992 I moved back to Providence to continue at RISD. The foundation had merely been intro stuff, and the Accademia had been a (very civilized) joke. Now I was going to see what real art school was like. But alas it was more like the Accademia than not. Better organized, certainly, and a lot more expensive, but it was now becoming clear that art school did not bear the same relationship to art that medical school bore to medicine. At least not the painting department. The textile department, which my next door neighbor belonged to, seemed to be pretty rigorous. No doubt illustration and architecture were too. But painting was post-rigorous. Painting students were supposed to express themselves, which to the more worldly ones meant to try to cook up some sort of distinctive signature style.\n\nA signature style is the visual equivalent of what i...<br>"
          },
          "metadata": {}
        },
        {
          "output_type": "display_data",
          "data": {
            "text/plain": [
              "<IPython.core.display.Markdown object>"
            ],
            "text/markdown": "**Node ID:** 83733978-759f-4f89-b081-99971ca4a268<br>**Similarity:** 1.7712416648864746<br>**Text:** This was not as strange as it sounds, because I was only 25, and art schools are full of people of different ages. RISD counted me as a transfer sophomore and said I had to do the foundation that summer. The foundation means the classes that everyone has to take in fundamental subjects like drawing, color, and design.\n\nToward the end of the summer I got a big surprise: a letter from the Accademia, which had been delayed because they'd sent it to Cambridge England instead of Cambridge Massachusetts, inviting me to take the entrance exam in Florence that fall. This was now only weeks away. My nice landlady let me leave my stuff in her attic. I had some money saved from consulting work I'd done in grad school; there was probably enough to last a year if I lived cheaply. Now all I had to do was learn Italian.\n\nOnly stranieri (foreigners) had to take this entrance exam. In retrospect it may well have been a way of excluding them, because there were so many stranieri attracted by the idea...<br>"
          },
          "metadata": {}
        },
        {
          "output_type": "display_data",
          "data": {
            "text/plain": [
              "<IPython.core.display.Markdown object>"
            ],
            "text/markdown": "**Node ID:** 02a0709f-dffe-46bf-90d0-1dfc41dcfb20<br>**Similarity:** 1.1873326301574707<br>**Text:** last. Any program you wrote today, no matter how good, would be obsolete in a couple decades at best. People might mention your software in footnotes, but no one would actually use it. And indeed, it would seem very feeble work. Only people with a sense of the history of the field would even realize that, in its time, it had been good.\n\nThere were some surplus Xerox Dandelions floating around the computer lab at one point. Anyone who wanted one to play around with could have one. I was briefly tempted, but they were so slow by present standards; what was the point? No one else wanted one either, so off they went. That was what happened to systems work.\n\nI wanted not just to build things, but to build things that would last.\n\nIn this dissatisfied state I went in 1988 to visit Rich Draves at CMU, where he was in grad school. One day I went to visit the Carnegie Institute, where I'd spent a lot of time as a kid. While looking at a painting there I realized something that might seem obv...<br>"
          },
          "metadata": {}
        },
        {
          "output_type": "display_data",
          "data": {
            "text/plain": [
              "<IPython.core.display.Markdown object>"
            ],
            "text/markdown": "**Node ID:** 3a9e6f6b-9925-435b-9c2e-1ad8cf2f3fd7<br>**Similarity:** 1.026240587234497<br>**Text:** d'etre of our software was that people could use it to make their own stores. But anything to get users.\n\nWe learned a lot more about retail than we wanted to know. For example, that if you could only have a small image of a man's shirt (and all images were small then by present standards), it was better to have a closeup of the collar than a picture of the whole shirt. The reason I remember learning this was that it meant I had to rescan about 30 images of men's shirts. My first set of scans were so beautiful too.\n\nThough this felt wrong, it was exactly the right thing to be doing. Building stores for users taught us about retail, and about how it felt to use our software. I was initially both mystified and repelled by \"business\" and thought we needed a \"business person\" to be in charge of it, but once we started to get users, I was converted, in much the same way I was converted to fatherhood once I had kids. Whatever users wanted, I was all theirs. Maybe one day we'd have so many...<br>"
          },
          "metadata": {}
        },
        {
          "output_type": "display_data",
          "data": {
            "text/plain": [
              "<IPython.core.display.Markdown object>"
            ],
            "text/markdown": "**Node ID:** 79b9b909-205e-4105-9840-12fdef42641a<br>**Similarity:** 0.9665278792381287<br>**Text:** But I had done this to get rich so I could paint, I reminded myself, and now I was rich, so I should go paint.\n\nWhen I said I was leaving, my boss at Yahoo had a long conversation with me about my plans. I told him all about the kinds of pictures I wanted to paint. At the time I was touched that he took such an interest in me. Now I realize it was because he thought I was lying. My options at that point were worth about $2 million a month. If I was leaving that kind of money on the table, it could only be to go and start some new startup, and if I did, I might take people with me. This was the height of the Internet Bubble, and Yahoo was ground zero of it. My boss was at that moment a billionaire. Leaving then to start a new startup must have seemed to him an insanely, and yet also plausibly, ambitious plan.\n\nBut I really was quitting to paint, and I started immediately. There was no time to lose. I'd already burned 4 years getting rich. Now when I talk to founders who are leaving a...<br>"
          },
          "metadata": {}
        },
        {
          "output_type": "display_data",
          "data": {
            "text/plain": [
              "<IPython.core.display.Markdown object>"
            ],
            "text/markdown": "**Node ID:** 5ae76bb1-8bfb-44dd-b722-d9e45ae39ec2<br>**Similarity:** 0.8852230906486511<br>**Text:** Harsh Mistress, so I don't know how well it has aged, but when I read it I was drawn entirely into its world. It seemed only a matter of time before we'd have Mike, and when I saw Winograd using SHRDLU, it seemed like that time would be a few years at most. All you had to do was teach SHRDLU more words.\n\nThere weren't any classes in AI at Cornell then, not even graduate classes, so I started trying to teach myself. Which meant learning Lisp, since in those days Lisp was regarded as the language of AI. The commonly used programming languages then were pretty primitive, and programmers' ideas correspondingly so. The default language at Cornell was a Pascal-like language called PL/I, and the situation was similar elsewhere. Learning Lisp expanded my concept of a program so fast that it was years before I started to have a sense of where the new limits were. This was more like it; this was what I had expected college to do. It wasn't happening in a class, like it was supposed to, but th...<br>"
          },
          "metadata": {}
        },
        {
          "output_type": "display_data",
          "data": {
            "text/plain": [
              "<IPython.core.display.Markdown object>"
            ],
            "text/markdown": "**Node ID:** 990b8f7a-3ae3-43ab-9952-385269ce38c4<br>**Similarity:** 0.8482304215431213<br>**Text:** track of what's happening at what level, and errors can be practically encrypted by the time you get them.\n\nSo I said no more essays till Bel was done. But I told few people about Bel while I was working on it. So for years it must have seemed that I was doing nothing, when in fact I was working harder than I'd ever worked on anything. Occasionally after wrestling for hours with some gruesome bug I'd check Twitter or HN and see someone asking \"Does Paul Graham still code?\"\n\nWorking on Bel was hard but satisfying. I worked on it so intensively that at any given time I had a decent chunk of the code in my head and could write more there. I remember taking the boys to the coast on a sunny day in 2015 and figuring out how to deal with some problem involving continuations while I watched them play in the tide pools. It felt like I was doing life right. I remember that because I was slightly dismayed at how novel it felt. The good news is that I had more moments like this over the next fe...<br>"
          },
          "metadata": {}
        },
        {
          "output_type": "display_data",
          "data": {
            "text/plain": [
              "<IPython.core.display.Markdown object>"
            ],
            "text/markdown": "**Node ID:** 08660c9b-7ef2-49f1-9adc-9fa572f615b1<br>**Similarity:** 0.8291438221931458<br>**Text:** as soon as it's done. But when the software is an online store builder and you're hosting the stores, if you don't have any users yet, that fact will be painfully obvious. So before we could launch publicly we had to launch privately, in the sense of recruiting an initial set of users and making sure they had decent-looking stores.\n\n[9] We'd had a code editor in Viaweb for users to define their own page styles. They didn't know it, but they were editing Lisp expressions underneath. But this wasn't an app editor, because the code ran when the merchants' sites were generated, not when shoppers visited them.\n\n[10] This was the first instance of what is now a familiar experience, and so was what happened next, when I read the comments and found they were full of angry people. How could I claim that Lisp was better than other languages? Weren't they all Turing complete? People who see the responses to essays I write sometimes tell me how sorry they feel for me, but I'm not exaggerating w...<br>"
          },
          "metadata": {}
        },
        {
          "output_type": "display_data",
          "data": {
            "text/plain": [
              "<IPython.core.display.Markdown object>"
            ],
            "text/markdown": "**Node ID:** 27e4c37a-d409-46ac-b613-1730d8acdb3e<br>**Similarity:** 0.4008430242538452<br>**Text:** about a famous fund manager. He wasn't that much older than me, and was super rich. The thought suddenly occurred to me: why don't I become rich? Then I'll be able to work on whatever I want.\n\nMeanwhile I'd been hearing more and more about this new thing called the World Wide Web. Robert Morris showed it to me when I visited him in Cambridge, where he was now in grad school at Harvard. It seemed to me that the web would be a big deal. I'd seen what graphical user interfaces had done for the popularity of microcomputers. It seemed like the web would do the same for the internet.\n\nIf I wanted to get rich, here was the next train leaving the station. I was right about that part. What I got wrong was the idea. I decided we should start a company to put art galleries online. I can't honestly say, after reading so many Y Combinator applications, that this was the worst startup idea ever, but it was up there. Art galleries didn't want to be online, and still don't, not the fancy ones. That...<br>"
          },
          "metadata": {}
        }
      ]
    },
    {
      "cell_type": "code",
      "source": [
        "retrieved_nodes = bm25_retriever_1.retrieve(\"What did the author do after RISD?\")\n",
        "for node in retrieved_nodes:\n",
        "    display_source_node(node, source_length=5000)"
      ],
      "metadata": {
        "collapsed": true,
        "colab": {
          "base_uri": "https://localhost:8080/",
          "height": 1000
        },
        "id": "o5eoaB8NVdkJ",
        "outputId": "36a113d4-8154-48da-a19b-b948968c051a"
      },
      "execution_count": 51,
      "outputs": [
        {
          "output_type": "display_data",
          "data": {
            "text/plain": [
              "<IPython.core.display.Markdown object>"
            ],
            "text/markdown": "**Node ID:** 376df6df-1754-45b7-ad61-87677802fd47<br>**Similarity:** 1.3050086498260498<br>**Text:** without telling you the shape and position of every leaf. This is a feature of brains, not a bug. In everyday life it would be distracting to notice every leaf on every bush. But when you have to paint something, you have to look more closely, and when you do there's a lot to see. You can still be noticing new things after days of trying to paint something people usually take for granted, just as you can after days of trying to write an essay about something people usually take for granted.\n\nThis is not the only way to paint. I'm not 100% sure it's even a good way to paint. But it seemed a good enough bet to be worth trying.\n\nOur teacher, professor Ulivi, was a nice guy. He could see I worked hard, and gave me a good grade, which he wrote down in a sort of passport each student had. But the Accademia wasn't teaching me anything except Italian, and my money was running out, so at the end of the first year I went back to the US.\n\nI wanted to go back to RISD, but I was now broke and RISD was very expensive, so I decided to get a job for a year and then return to RISD the next fall. I got one at a company called Interleaf, which made software for creating documents. You mean like Microsoft Word? Exactly. That was how I learned that low end software tends to eat high end software. But Interleaf still had a few years to live yet. [5]\n\nInterleaf had done something pretty bold. Inspired by Emacs, they'd added a scripting language, and even made the scripting language a dialect of Lisp. Now they wanted a Lisp hacker to write things in it. This was the closest thing I've had to a normal job, and I hereby apologize to my boss and coworkers, because I was a bad employee. Their Lisp was the thinnest icing on a giant C cake, and since I didn't know C and didn't want to learn it, I never understood most of the software. Plus I was terribly irresponsible. This was back when a programming job meant showing up every day during certain working hours. That seemed unnatural to me, and on this point the rest of the world is coming around to my way of thinking, but at the time it caused a lot of friction. Toward the end of the year I spent much of my time surreptitiously working on On Lisp, which I had by this time gotten a contract to publish.\n\nThe good part was that I got paid huge amounts of money, especially by art student standards. In Florence, after paying my part of the rent, my budget for everything else had been $7 a day. Now I was getting paid more than 4 times that every hour, even when I was just sitting in a meeting. By living cheaply I not only managed to save enough to go back to RISD, but also paid off my college loans.\n\nI learned some useful things at Interleaf, though they were mostly about what not to do. I learned that it's better for technology companies to be run by product people than sales people (though sales is a real skill and people who are good at it are really good at it), that it leads to bugs when code is edited by too many people, that cheap office space is no bargain if it's depressing, that planned meetings are inferior to corridor conversations, that big, bureaucratic customers are a dangerous source of money, and that there's not much overlap between conventional office hours and the optimal time for hacking, or conventional offices and the optimal place for it.\n\nBut the most important thing I learned, and which I used in both Viaweb and Y Combinator, is that the low end eats the high end: that it's good to be the \"entry level\" option, even though that will be less prestigious, because if you're not, someone else will be, and will squash you against the ceiling. Which in turn means that prestige is a danger sign.\n\nWhen I left to go back to RISD the next fall, I arranged to do freelance work for the group that did projects for customers, and this was how I survived for the next several years. When I came back to visit for a project later on, someone told me about a new thing called HTML, which was, as he described it, a derivative of SGML. Markup language enthusiasts were an occupational hazard at Interleaf and I ignored him, but this HTML thing later became a big part of my life.\n\nIn the fall of 1992 I moved back to Providence to continue at RISD. The foundation had merely been intro stuff, and the Accademia had been a (very civilized) joke. Now I was going to see what real art school was like. But alas it was more like the Accademia than not. Better organized, certainly, and a<br>"
          },
          "metadata": {}
        },
        {
          "output_type": "display_data",
          "data": {
            "text/plain": [
              "<IPython.core.display.Markdown object>"
            ],
            "text/markdown": "**Node ID:** c72eab80-3707-4cea-95c8-a4b00da2582e<br>**Similarity:** 1.216735601425171<br>**Text:** enthusiasts were an occupational hazard at Interleaf and I ignored him, but this HTML thing later became a big part of my life.\n\nIn the fall of 1992 I moved back to Providence to continue at RISD. The foundation had merely been intro stuff, and the Accademia had been a (very civilized) joke. Now I was going to see what real art school was like. But alas it was more like the Accademia than not. Better organized, certainly, and a lot more expensive, but it was now becoming clear that art school did not bear the same relationship to art that medical school bore to medicine. At least not the painting department. The textile department, which my next door neighbor belonged to, seemed to be pretty rigorous. No doubt illustration and architecture were too. But painting was post-rigorous. Painting students were supposed to express themselves, which to the more worldly ones meant to try to cook up some sort of distinctive signature style.\n\nA signature style is the visual equivalent of what in show business is known as a \"schtick\": something that immediately identifies the work as yours and no one else's. For example, when you see a painting that looks like a certain kind of cartoon, you know it's by Roy Lichtenstein. So if you see a big painting of this type hanging in the apartment of a hedge fund manager, you know he paid millions of dollars for it. That's not always why artists have a signature style, but it's usually why buyers pay a lot for such work. [6]\n\nThere were plenty of earnest students too: kids who \"could draw\" in high school, and now had come to what was supposed to be the best art school in the country, to learn to draw even better. They tended to be confused and demoralized by what they found at RISD, but they kept going, because painting was what they did. I was not one of the kids who could draw in high school, but at RISD I was definitely closer to their tribe than the tribe of signature style seekers.\n\nI learned a lot in the color class I took at RISD, but otherwise I was basically teaching myself to paint, and I could do that for free. So in 1993 I dropped out. I hung around Providence for a bit, and then my college friend Nancy Parmet did me a big favor. A rent-controlled apartment in a building her mother owned in New York was becoming vacant. Did I want it? It wasn't much more than my current place, and New York was supposed to be where the artists were. So yes, I wanted it! [7]\n\nAsterix comics begin by zooming in on a tiny corner of Roman Gaul that turns out not to be controlled by the Romans. You can do something similar on a map of New York City: if you zoom in on the Upper East Side, there's a tiny corner that's not rich, or at least wasn't in 1993. It's called Yorkville, and that was my new home. Now I was a New York artist — in the strictly technical sense of making paintings and living in New York.\n\nI was nervous about money, because I could sense that Interleaf was on the way down. Freelance Lisp hacking work was very rare, and I didn't want to have to program in another language, which in those days would have meant C++ if I was lucky. So with my unerring nose for financial opportunity, I decided to write another book on Lisp. This would be a popular book, the sort of book that could be used as a textbook. I imagined myself living frugally off the royalties and spending all my time painting. (The painting on the cover of this book, ANSI Common Lisp, is one that I painted around this time.)\n\nThe best thing about New York for me was the presence of Idelle and Julian Weber. Idelle Weber was a painter, one of the early photorealists, and I'd taken her painting class at Harvard. I've never known a teacher more beloved by her students. Large numbers of former students kept in touch with her, including me. After I moved to New York I became her de facto studio assistant.\n\nShe liked to paint on big, square canvases, 4 to 5 feet on a side. One day in late 1994 as I was stretching one of these monsters there was something on the radio about a famous fund manager. He wasn't that much older than me, and was super rich. The thought suddenly occurred to me: why don't I become rich? Then I'll be able to work on whatever I want.\n\nMeanwhile I'd been hearing more and more about this new thing called the World Wide Web. Robert Morris showed it to me when I visited him in Cambridge, where he was now in grad school at Harvard. It seemed to me that the web would be a big deal.<br>"
          },
          "metadata": {}
        },
        {
          "output_type": "display_data",
          "data": {
            "text/plain": [
              "<IPython.core.display.Markdown object>"
            ],
            "text/markdown": "**Node ID:** 27c0dd6f-e563-47e2-b5ba-1b72fd7befa9<br>**Similarity:** 1.1877650022506714<br>**Text:** This was not as strange as it sounds, because I was only 25, and art schools are full of people of different ages. RISD counted me as a transfer sophomore and said I had to do the foundation that summer. The foundation means the classes that everyone has to take in fundamental subjects like drawing, color, and design.\n\nToward the end of the summer I got a big surprise: a letter from the Accademia, which had been delayed because they'd sent it to Cambridge England instead of Cambridge Massachusetts, inviting me to take the entrance exam in Florence that fall. This was now only weeks away. My nice landlady let me leave my stuff in her attic. I had some money saved from consulting work I'd done in grad school; there was probably enough to last a year if I lived cheaply. Now all I had to do was learn Italian.\n\nOnly stranieri (foreigners) had to take this entrance exam. In retrospect it may well have been a way of excluding them, because there were so many stranieri attracted by the idea of studying art in Florence that the Italian students would otherwise have been outnumbered. I was in decent shape at painting and drawing from the RISD foundation that summer, but I still don't know how I managed to pass the written exam. I remember that I answered the essay question by writing about Cezanne, and that I cranked up the intellectual level as high as I could to make the most of my limited vocabulary. [2]\n\nI'm only up to age 25 and already there are such conspicuous patterns. Here I was, yet again about to attend some august institution in the hopes of learning about some prestigious subject, and yet again about to be disappointed. The students and faculty in the painting department at the Accademia were the nicest people you could imagine, but they had long since arrived at an arrangement whereby the students wouldn't require the faculty to teach anything, and in return the faculty wouldn't require the students to learn anything. And at the same time all involved would adhere outwardly to the conventions of a 19th century atelier. We actually had one of those little stoves, fed with kindling, that you see in 19th century studio paintings, and a nude model sitting as close to it as possible without getting burned. Except hardly anyone else painted her besides me. The rest of the students spent their time chatting or occasionally trying to imitate things they'd seen in American art magazines.\n\nOur model turned out to live just down the street from me. She made a living from a combination of modelling and making fakes for a local antique dealer. She'd copy an obscure old painting out of a book, and then he'd take the copy and maltreat it to make it look old. [3]\n\nWhile I was a student at the Accademia I started painting still lives in my bedroom at night. These paintings were tiny, because the room was, and because I painted them on leftover scraps of canvas, which was all I could afford at the time. Painting still lives is different from painting people, because the subject, as its name suggests, can't move. People can't sit for more than about 15 minutes at a time, and when they do they don't sit very still. So the traditional m.o. for painting people is to know how to paint a generic person, which you then modify to match the specific person you're painting. Whereas a still life you can, if you want, copy pixel by pixel from what you're seeing. You don't want to stop there, of course, or you get merely photographic accuracy, and what makes a still life interesting is that it's been through a head. You want to emphasize the visual cues that tell you, for example, that the reason the color changes suddenly at a certain point is that it's the edge of an object. By subtly emphasizing such things you can make paintings that are more realistic than photographs not just in some metaphorical sense, but in the strict information-theoretic sense. [4]\n\nI liked painting still lives because I was curious about what I was seeing. In everyday life, we aren't consciously aware of much we're seeing. Most visual perception is handled by low-level processes that merely tell your brain \"that's a water droplet\" without telling you details like where the lightest and darkest points are, or \"that's a bush\" without telling you the shape and position of every leaf. This is a feature of brains, not a bug. In everyday life it would be distracting to notice every leaf on every bush. But when you have to paint something, you have to look more closely, and when you do there's a lot to see. You can still be noticing new things after days of trying to paint something people usually take for granted, just as you can after days of trying to write an essay about something people usually take<br>"
          },
          "metadata": {}
        },
        {
          "output_type": "display_data",
          "data": {
            "text/plain": [
              "<IPython.core.display.Markdown object>"
            ],
            "text/markdown": "**Node ID:** feb1adaf-49f7-44c4-8c12-e709956c0ff2<br>**Similarity:** 1.1676117181777954<br>**Text:** last. Any program you wrote today, no matter how good, would be obsolete in a couple decades at best. People might mention your software in footnotes, but no one would actually use it. And indeed, it would seem very feeble work. Only people with a sense of the history of the field would even realize that, in its time, it had been good.\n\nThere were some surplus Xerox Dandelions floating around the computer lab at one point. Anyone who wanted one to play around with could have one. I was briefly tempted, but they were so slow by present standards; what was the point? No one else wanted one either, so off they went. That was what happened to systems work.\n\nI wanted not just to build things, but to build things that would last.\n\nIn this dissatisfied state I went in 1988 to visit Rich Draves at CMU, where he was in grad school. One day I went to visit the Carnegie Institute, where I'd spent a lot of time as a kid. While looking at a painting there I realized something that might seem obvious, but was a big surprise to me. There, right on the wall, was something you could make that would last. Paintings didn't become obsolete. Some of the best ones were hundreds of years old.\n\nAnd moreover this was something you could make a living doing. Not as easily as you could by writing software, of course, but I thought if you were really industrious and lived really cheaply, it had to be possible to make enough to survive. And as an artist you could be truly independent. You wouldn't have a boss, or even need to get research funding.\n\nI had always liked looking at paintings. Could I make them? I had no idea. I'd never imagined it was even possible. I knew intellectually that people made art — that it didn't just appear spontaneously — but it was as if the people who made it were a different species. They either lived long ago or were mysterious geniuses doing strange things in profiles in Life magazine. The idea of actually being able to make art, to put that verb before that noun, seemed almost miraculous.\n\nThat fall I started taking art classes at Harvard. Grad students could take classes in any department, and my advisor, Tom Cheatham, was very easy going. If he even knew about the strange classes I was taking, he never said anything.\n\nSo now I was in a PhD program in computer science, yet planning to be an artist, yet also genuinely in love with Lisp hacking and working away at On Lisp. In other words, like many a grad student, I was working energetically on multiple projects that were not my thesis.\n\nI didn't see a way out of this situation. I didn't want to drop out of grad school, but how else was I going to get out? I remember when my friend Robert Morris got kicked out of Cornell for writing the internet worm of 1988, I was envious that he'd found such a spectacular way to get out of grad school.\n\nThen one day in April 1990 a crack appeared in the wall. I ran into professor Cheatham and he asked if I was far enough along to graduate that June. I didn't have a word of my dissertation written, but in what must have been the quickest bit of thinking in my life, I decided to take a shot at writing one in the 5 weeks or so that remained before the deadline, reusing parts of On Lisp where I could, and I was able to respond, with no perceptible delay \"Yes, I think so. I'll give you something to read in a few days.\"\n\nI picked applications of continuations as the topic. In retrospect I should have written about macros and embedded languages. There's a whole world there that's barely been explored. But all I wanted was to get out of grad school, and my rapidly written dissertation sufficed, just barely.\n\nMeanwhile I was applying to art schools. I applied to two: RISD in the US, and the Accademia di Belli Arti in Florence, which, because it was the oldest art school, I imagined would be good. RISD accepted me, and I never heard back from the Accademia, so off to Providence I went.\n\nI'd applied for the BFA program at RISD, which meant in effect that I had to go to college again. This was not as strange as it sounds, because I was only 25, and art schools are full of people of different ages. RISD counted me as a transfer sophomore and said I had to do the foundation that summer. The foundation means the classes that everyone has to take in fundamental subjects like drawing, color, and design.\n\nToward the end of the summer I got a big surprise: a letter from the Accademia, which had been delayed because they'd sent it to Cambridge<br>"
          },
          "metadata": {}
        },
        {
          "output_type": "display_data",
          "data": {
            "text/plain": [
              "<IPython.core.display.Markdown object>"
            ],
            "text/markdown": "**Node ID:** e6727066-9450-419e-8d26-f84987f61329<br>**Similarity:** 0.8190181255340576<br>**Text:** Harsh Mistress, so I don't know how well it has aged, but when I read it I was drawn entirely into its world. It seemed only a matter of time before we'd have Mike, and when I saw Winograd using SHRDLU, it seemed like that time would be a few years at most. All you had to do was teach SHRDLU more words.\n\nThere weren't any classes in AI at Cornell then, not even graduate classes, so I started trying to teach myself. Which meant learning Lisp, since in those days Lisp was regarded as the language of AI. The commonly used programming languages then were pretty primitive, and programmers' ideas correspondingly so. The default language at Cornell was a Pascal-like language called PL/I, and the situation was similar elsewhere. Learning Lisp expanded my concept of a program so fast that it was years before I started to have a sense of where the new limits were. This was more like it; this was what I had expected college to do. It wasn't happening in a class, like it was supposed to, but that was ok. For the next couple years I was on a roll. I knew what I was going to do.\n\nFor my undergraduate thesis, I reverse-engineered SHRDLU. My God did I love working on that program. It was a pleasing bit of code, but what made it even more exciting was my belief — hard to imagine now, but not unique in 1985 — that it was already climbing the lower slopes of intelligence.\n\nI had gotten into a program at Cornell that didn't make you choose a major. You could take whatever classes you liked, and choose whatever you liked to put on your degree. I of course chose \"Artificial Intelligence.\" When I got the actual physical diploma, I was dismayed to find that the quotes had been included, which made them read as scare-quotes. At the time this bothered me, but now it seems amusingly accurate, for reasons I was about to discover.\n\nI applied to 3 grad schools: MIT and Yale, which were renowned for AI at the time, and Harvard, which I'd visited because Rich Draves went there, and was also home to Bill Woods, who'd invented the type of parser I used in my SHRDLU clone. Only Harvard accepted me, so that was where I went.\n\nI don't remember the moment it happened, or if there even was a specific moment, but during the first year of grad school I realized that AI, as practiced at the time, was a hoax. By which I mean the sort of AI in which a program that's told \"the dog is sitting on the chair\" translates this into some formal representation and adds it to the list of things it knows.\n\nWhat these programs really showed was that there's a subset of natural language that's a formal language. But a very proper subset. It was clear that there was an unbridgeable gap between what they could do and actually understanding natural language. It was not, in fact, simply a matter of teaching SHRDLU more words. That whole way of doing AI, with explicit data structures representing concepts, was not going to work. Its brokenness did, as so often happens, generate a lot of opportunities to write papers about various band-aids that could be applied to it, but it was never going to get us Mike.\n\nSo I looked around to see what I could salvage from the wreckage of my plans, and there was Lisp. I knew from experience that Lisp was interesting for its own sake and not just for its association with AI, even though that was the main reason people cared about it at the time. So I decided to focus on Lisp. In fact, I decided to write a book about Lisp hacking. It's scary to think how little I knew about Lisp hacking when I started writing that book. But there's nothing like writing a book about something to help you learn it. The book, On Lisp, wasn't published till 1993, but I wrote much of it in grad school.\n\nComputer Science is an uneasy alliance between two halves, theory and systems. The theory people prove things, and the systems people build things. I wanted to build things. I had plenty of respect for theory — indeed, a sneaking suspicion that it was the more admirable of the two halves — but building things seemed so much more exciting.\n\nThe problem with systems work, though, was that it didn't last. Any program you wrote today, no matter how good, would be obsolete in a couple decades at best. People might mention your software in footnotes, but no one would actually use it. And indeed, it would seem very feeble work. Only people with a sense of the history of the field would even realize that, in its time, it had been good.\n\nThere were some surplus Xerox Dandelions floating around the computer lab at one point. Anyone who wanted one to play<br>"
          },
          "metadata": {}
        },
        {
          "output_type": "display_data",
          "data": {
            "text/plain": [
              "<IPython.core.display.Markdown object>"
            ],
            "text/markdown": "**Node ID:** a8567914-d119-452d-905f-49c6406a6a7a<br>**Similarity:** 0.7159621715545654<br>**Text:** about a famous fund manager. He wasn't that much older than me, and was super rich. The thought suddenly occurred to me: why don't I become rich? Then I'll be able to work on whatever I want.\n\nMeanwhile I'd been hearing more and more about this new thing called the World Wide Web. Robert Morris showed it to me when I visited him in Cambridge, where he was now in grad school at Harvard. It seemed to me that the web would be a big deal. I'd seen what graphical user interfaces had done for the popularity of microcomputers. It seemed like the web would do the same for the internet.\n\nIf I wanted to get rich, here was the next train leaving the station. I was right about that part. What I got wrong was the idea. I decided we should start a company to put art galleries online. I can't honestly say, after reading so many Y Combinator applications, that this was the worst startup idea ever, but it was up there. Art galleries didn't want to be online, and still don't, not the fancy ones. That's not how they sell. I wrote some software to generate web sites for galleries, and Robert wrote some to resize images and set up an http server to serve the pages. Then we tried to sign up galleries. To call this a difficult sale would be an understatement. It was difficult to give away. A few galleries let us make sites for them for free, but none paid us.\n\nThen some online stores started to appear, and I realized that except for the order buttons they were identical to the sites we'd been generating for galleries. This impressive-sounding thing called an \"internet storefront\" was something we already knew how to build.\n\nSo in the summer of 1995, after I submitted the camera-ready copy of ANSI Common Lisp to the publishers, we started trying to write software to build online stores. At first this was going to be normal desktop software, which in those days meant Windows software. That was an alarming prospect, because neither of us knew how to write Windows software or wanted to learn. We lived in the Unix world. But we decided we'd at least try writing a prototype store builder on Unix. Robert wrote a shopping cart, and I wrote a new site generator for stores — in Lisp, of course.\n\nWe were working out of Robert's apartment in Cambridge. His roommate was away for big chunks of time, during which I got to sleep in his room. For some reason there was no bed frame or sheets, just a mattress on the floor. One morning as I was lying on this mattress I had an idea that made me sit up like a capital L. What if we ran the software on the server, and let users control it by clicking on links? Then we'd never have to write anything to run on users' computers. We could generate the sites on the same server we'd serve them from. Users wouldn't need anything more than a browser.\n\nThis kind of software, known as a web app, is common now, but at the time it wasn't clear that it was even possible. To find out, we decided to try making a version of our store builder that you could control through the browser. A couple days later, on August 12, we had one that worked. The UI was horrible, but it proved you could build a whole store through the browser, without any client software or typing anything into the command line on the server.\n\nNow we felt like we were really onto something. I had visions of a whole new generation of software working this way. You wouldn't need versions, or ports, or any of that crap. At Interleaf there had been a whole group called Release Engineering that seemed to be at least as big as the group that actually wrote the software. Now you could just update the software right on the server.\n\nWe started a new company we called Viaweb, after the fact that our software worked via the web, and we got $10,000 in seed funding from Idelle's husband Julian. In return for that and doing the initial legal work and giving us business advice, we gave him 10% of the company. Ten years later this deal became the model for Y Combinator's. We knew founders needed something like this, because we'd needed it ourselves.\n\nAt this stage I had a negative net worth, because the thousand dollars or so I had in the bank was more than counterbalanced by what I owed the government in taxes. (Had I diligently set aside the proper proportion of the money I'd made consulting for Interleaf? No, I had not.) So although Robert had his graduate student stipend, I needed that seed funding to live on.\n\nWe originally hoped to launch in September, but we got more ambitious about the software as we worked on it. Eventually we managed to build a WYSIWYG site builder, in the sense that as you<br>"
          },
          "metadata": {}
        },
        {
          "output_type": "display_data",
          "data": {
            "text/plain": [
              "<IPython.core.display.Markdown object>"
            ],
            "text/markdown": "**Node ID:** 7320d20a-d32d-4b0d-966b-2afb29550a93<br>**Similarity:** 0.6634279489517212<br>**Text:** track of what's happening at what level, and errors can be practically encrypted by the time you get them.\n\nSo I said no more essays till Bel was done. But I told few people about Bel while I was working on it. So for years it must have seemed that I was doing nothing, when in fact I was working harder than I'd ever worked on anything. Occasionally after wrestling for hours with some gruesome bug I'd check Twitter or HN and see someone asking \"Does Paul Graham still code?\"\n\nWorking on Bel was hard but satisfying. I worked on it so intensively that at any given time I had a decent chunk of the code in my head and could write more there. I remember taking the boys to the coast on a sunny day in 2015 and figuring out how to deal with some problem involving continuations while I watched them play in the tide pools. It felt like I was doing life right. I remember that because I was slightly dismayed at how novel it felt. The good news is that I had more moments like this over the next few years.\n\nIn the summer of 2016 we moved to England. We wanted our kids to see what it was like living in another country, and since I was a British citizen by birth, that seemed the obvious choice. We only meant to stay for a year, but we liked it so much that we still live there. So most of Bel was written in England.\n\nIn the fall of 2019, Bel was finally finished. Like McCarthy's original Lisp, it's a spec rather than an implementation, although like McCarthy's Lisp it's a spec expressed as code.\n\nNow that I could write essays again, I wrote a bunch about topics I'd had stacked up. I kept writing essays through 2020, but I also started to think about other things I could work on. How should I choose what to do? Well, how had I chosen what to work on in the past? I wrote an essay for myself to answer that question, and I was surprised how long and messy the answer turned out to be. If this surprised me, who'd lived it, then I thought perhaps it would be interesting to other people, and encouraging to those with similarly messy lives. So I wrote a more detailed version for others to read, and this is the last sentence of it.\n\n\n\n\n\n\n\n\n\nNotes\n\n[1] My experience skipped a step in the evolution of computers: time-sharing machines with interactive OSes. I went straight from batch processing to microcomputers, which made microcomputers seem all the more exciting.\n\n[2] Italian words for abstract concepts can nearly always be predicted from their English cognates (except for occasional traps like polluzione). It's the everyday words that differ. So if you string together a lot of abstract concepts with a few simple verbs, you can make a little Italian go a long way.\n\n[3] I lived at Piazza San Felice 4, so my walk to the Accademia went straight down the spine of old Florence: past the Pitti, across the bridge, past Orsanmichele, between the Duomo and the Baptistery, and then up Via Ricasoli to Piazza San Marco. I saw Florence at street level in every possible condition, from empty dark winter evenings to sweltering summer days when the streets were packed with tourists.\n\n[4] You can of course paint people like still lives if you want to, and they're willing. That sort of portrait is arguably the apex of still life painting, though the long sitting does tend to produce pained expressions in the sitters.\n\n[5] Interleaf was one of many companies that had smart people and built impressive technology, and yet got crushed by Moore's Law. In the 1990s the exponential growth in the power of commodity (i.e. Intel) processors rolled up high-end, special-purpose hardware and software companies like a bulldozer.\n\n[6] The signature style seekers at RISD weren't specifically mercenary. In the art world, money and coolness are tightly coupled. Anything expensive comes to be seen as cool, and anything seen as cool will soon become equally expensive.\n\n[7] Technically the apartment wasn't rent-controlled but rent-stabilized, but this is a refinement only New Yorkers would know or care about. The point is that it was really cheap, less than half market price.\n\n[8] Most software you can launch as soon as it's done. But when the software is an online store builder and you're hosting the stores, if you don't have any users yet, that fact will be painfully obvious. So before we could launch publicly we had to launch privately, in the sense of recruiting an initial set of users and making sure they had decent-looking stores.\n\n[9] We'd had a code editor in Viaweb for users to define their own page styles. They didn't know it, but they<br>"
          },
          "metadata": {}
        },
        {
          "output_type": "display_data",
          "data": {
            "text/plain": [
              "<IPython.core.display.Markdown object>"
            ],
            "text/markdown": "**Node ID:** 4d3eb473-6e90-4f07-8df7-586591d55d02<br>**Similarity:** 0.609808087348938<br>**Text:** as soon as it's done. But when the software is an online store builder and you're hosting the stores, if you don't have any users yet, that fact will be painfully obvious. So before we could launch publicly we had to launch privately, in the sense of recruiting an initial set of users and making sure they had decent-looking stores.\n\n[9] We'd had a code editor in Viaweb for users to define their own page styles. They didn't know it, but they were editing Lisp expressions underneath. But this wasn't an app editor, because the code ran when the merchants' sites were generated, not when shoppers visited them.\n\n[10] This was the first instance of what is now a familiar experience, and so was what happened next, when I read the comments and found they were full of angry people. How could I claim that Lisp was better than other languages? Weren't they all Turing complete? People who see the responses to essays I write sometimes tell me how sorry they feel for me, but I'm not exaggerating when I reply that it has always been like this, since the very beginning. It comes with the territory. An essay must tell readers things they don't already know, and some people dislike being told such things.\n\n[11] People put plenty of stuff on the internet in the 90s of course, but putting something online is not the same as publishing it online. Publishing online means you treat the online version as the (or at least a) primary version.\n\n[12] There is a general lesson here that our experience with Y Combinator also teaches: Customs continue to constrain you long after the restrictions that caused them have disappeared. Customary VC practice had once, like the customs about publishing essays, been based on real constraints. Startups had once been much more expensive to start, and proportionally rare. Now they could be cheap and common, but the VCs' customs still reflected the old world, just as customs about writing essays still reflected the constraints of the print era.\n\nWhich in turn implies that people who are independent-minded (i.e. less influenced by custom) will have an advantage in fields affected by rapid change (where customs are more likely to be obsolete).\n\nHere's an interesting point, though: you can't always predict which fields will be affected by rapid change. Obviously software and venture capital will be, but who would have predicted that essay writing would be?\n\n[13] Y Combinator was not the original name. At first we were called Cambridge Seed. But we didn't want a regional name, in case someone copied us in Silicon Valley, so we renamed ourselves after one of the coolest tricks in the lambda calculus, the Y combinator.\n\nI picked orange as our color partly because it's the warmest, and partly because no VC used it. In 2005 all the VCs used staid colors like maroon, navy blue, and forest green, because they were trying to appeal to LPs, not founders. The YC logo itself is an inside joke: the Viaweb logo had been a white V on a red circle, so I made the YC logo a white Y on an orange square.\n\n[14] YC did become a fund for a couple years starting in 2009, because it was getting so big I could no longer afford to fund it personally. But after Heroku got bought we had enough money to go back to being self-funded.\n\n[15] I've never liked the term \"deal flow,\" because it implies that the number of new startups at any given time is fixed. This is not only false, but it's the purpose of YC to falsify it, by causing startups to be founded that would not otherwise have existed.\n\n[16] She reports that they were all different shapes and sizes, because there was a run on air conditioners and she had to get whatever she could, but that they were all heavier than she could carry now.\n\n[17] Another problem with HN was a bizarre edge case that occurs when you both write essays and run a forum. When you run a forum, you're assumed to see if not every conversation, at least every conversation involving you. And when you write essays, people post highly imaginative misinterpretations of them on forums. Individually these two phenomena are tedious but bearable, but the combination is disastrous. You actually have to respond to the misinterpretations, because the assumption that you're present in the conversation means that not responding to any sufficiently upvoted misinterpretation reads as a tacit admission that it's correct. But that in turn encourages more; anyone who wants to pick a fight with you senses that now is their chance.\n\n[18] The worst thing about leaving YC was not working with Jessica anymore. We'd been working on YC almost the whole time we'd known each other, and we'd neither tried nor wanted to<br>"
          },
          "metadata": {}
        },
        {
          "output_type": "display_data",
          "data": {
            "text/plain": [
              "<IPython.core.display.Markdown object>"
            ],
            "text/markdown": "**Node ID:** f4ebc93b-28cc-45f0-8691-b957118fd0f0<br>**Similarity:** 0.5810204744338989<br>**Text:** d'etre of our software was that people could use it to make their own stores. But anything to get users.\n\nWe learned a lot more about retail than we wanted to know. For example, that if you could only have a small image of a man's shirt (and all images were small then by present standards), it was better to have a closeup of the collar than a picture of the whole shirt. The reason I remember learning this was that it meant I had to rescan about 30 images of men's shirts. My first set of scans were so beautiful too.\n\nThough this felt wrong, it was exactly the right thing to be doing. Building stores for users taught us about retail, and about how it felt to use our software. I was initially both mystified and repelled by \"business\" and thought we needed a \"business person\" to be in charge of it, but once we started to get users, I was converted, in much the same way I was converted to fatherhood once I had kids. Whatever users wanted, I was all theirs. Maybe one day we'd have so many users that I couldn't scan their images for them, but in the meantime there was nothing more important to do.\n\nAnother thing I didn't get at the time is that growth rate is the ultimate test of a startup. Our growth rate was fine. We had about 70 stores at the end of 1996 and about 500 at the end of 1997. I mistakenly thought the thing that mattered was the absolute number of users. And that is the thing that matters in the sense that that's how much money you're making, and if you're not making enough, you might go out of business. But in the long term the growth rate takes care of the absolute number. If we'd been a startup I was advising at Y Combinator, I would have said: Stop being so stressed out, because you're doing fine. You're growing 7x a year. Just don't hire too many more people and you'll soon be profitable, and then you'll control your own destiny.\n\nAlas I hired lots more people, partly because our investors wanted me to, and partly because that's what startups did during the Internet Bubble. A company with just a handful of employees would have seemed amateurish. So we didn't reach breakeven until about when Yahoo bought us in the summer of 1998. Which in turn meant we were at the mercy of investors for the entire life of the company. And since both we and our investors were noobs at startups, the result was a mess even by startup standards.\n\nIt was a huge relief when Yahoo bought us. In principle our Viaweb stock was valuable. It was a share in a business that was profitable and growing rapidly. But it didn't feel very valuable to me; I had no idea how to value a business, but I was all too keenly aware of the near-death experiences we seemed to have every few months. Nor had I changed my grad student lifestyle significantly since we started. So when Yahoo bought us it felt like going from rags to riches. Since we were going to California, I bought a car, a yellow 1998 VW GTI. I remember thinking that its leather seats alone were by far the most luxurious thing I owned.\n\nThe next year, from the summer of 1998 to the summer of 1999, must have been the least productive of my life. I didn't realize it at the time, but I was worn out from the effort and stress of running Viaweb. For a while after I got to California I tried to continue my usual m.o. of programming till 3 in the morning, but fatigue combined with Yahoo's prematurely aged culture and grim cube farm in Santa Clara gradually dragged me down. After a few months it felt disconcertingly like working at Interleaf.\n\nYahoo had given us a lot of options when they bought us. At the time I thought Yahoo was so overvalued that they'd never be worth anything, but to my astonishment the stock went up 5x in the next year. I hung on till the first chunk of options vested, then in the summer of 1999 I left. It had been so long since I'd painted anything that I'd half forgotten why I was doing this. My brain had been entirely full of software and men's shirts for 4 years. But I had done this to get rich so I could paint, I reminded myself, and now I was rich, so I should go paint.\n\nWhen I said I was leaving, my boss at Yahoo had a long conversation with me about my plans. I told him all about the kinds of pictures I wanted to paint. At the time I was touched that he took such an interest in me. Now I realize it was because he thought I was lying. My options at that point were worth about<br>"
          },
          "metadata": {}
        },
        {
          "output_type": "display_data",
          "data": {
            "text/plain": [
              "<IPython.core.display.Markdown object>"
            ],
            "text/markdown": "**Node ID:** 4f752a77-f237-495a-b98e-911c014a869e<br>**Similarity:** 0.5782178640365601<br>**Text:** But I had done this to get rich so I could paint, I reminded myself, and now I was rich, so I should go paint.\n\nWhen I said I was leaving, my boss at Yahoo had a long conversation with me about my plans. I told him all about the kinds of pictures I wanted to paint. At the time I was touched that he took such an interest in me. Now I realize it was because he thought I was lying. My options at that point were worth about $2 million a month. If I was leaving that kind of money on the table, it could only be to go and start some new startup, and if I did, I might take people with me. This was the height of the Internet Bubble, and Yahoo was ground zero of it. My boss was at that moment a billionaire. Leaving then to start a new startup must have seemed to him an insanely, and yet also plausibly, ambitious plan.\n\nBut I really was quitting to paint, and I started immediately. There was no time to lose. I'd already burned 4 years getting rich. Now when I talk to founders who are leaving after selling their companies, my advice is always the same: take a vacation. That's what I should have done, just gone off somewhere and done nothing for a month or two, but the idea never occurred to me.\n\nSo I tried to paint, but I just didn't seem to have any energy or ambition. Part of the problem was that I didn't know many people in California. I'd compounded this problem by buying a house up in the Santa Cruz Mountains, with a beautiful view but miles from anywhere. I stuck it out for a few more months, then in desperation I went back to New York, where unless you understand about rent control you'll be surprised to hear I still had my apartment, sealed up like a tomb of my old life. Idelle was in New York at least, and there were other people trying to paint there, even though I didn't know any of them.\n\nWhen I got back to New York I resumed my old life, except now I was rich. It was as weird as it sounds. I resumed all my old patterns, except now there were doors where there hadn't been. Now when I was tired of walking, all I had to do was raise my hand, and (unless it was raining) a taxi would stop to pick me up. Now when I walked past charming little restaurants I could go in and order lunch. It was exciting for a while. Painting started to go better. I experimented with a new kind of still life where I'd paint one painting in the old way, then photograph it and print it, blown up, on canvas, and then use that as the underpainting for a second still life, painted from the same objects (which hopefully hadn't rotted yet).\n\nMeanwhile I looked for an apartment to buy. Now I could actually choose what neighborhood to live in. Where, I asked myself and various real estate agents, is the Cambridge of New York? Aided by occasional visits to actual Cambridge, I gradually realized there wasn't one. Huh.\n\nAround this time, in the spring of 2000, I had an idea. It was clear from our experience with Viaweb that web apps were the future. Why not build a web app for making web apps? Why not let people edit code on our server through the browser, and then host the resulting applications for them? [9] You could run all sorts of services on the servers that these applications could use just by making an API call: making and receiving phone calls, manipulating images, taking credit card payments, etc.\n\nI got so excited about this idea that I couldn't think about anything else. It seemed obvious that this was the future. I didn't particularly want to start another company, but it was clear that this idea would have to be embodied as one, so I decided to move to Cambridge and start it. I hoped to lure Robert into working on it with me, but there I ran into a hitch. Robert was now a postdoc at MIT, and though he'd made a lot of money the last time I'd lured him into working on one of my schemes, it had also been a huge time sink. So while he agreed that it sounded like a plausible idea, he firmly refused to work on it.\n\nHmph. Well, I'd do it myself then. I recruited Dan Giffin, who had worked for Viaweb, and two undergrads who wanted summer jobs, and we got to work trying to build what it's now clear is about twenty companies and several open source projects worth of software. The language for defining applications would of course be a dialect of Lisp. But I wasn't so naive as to assume I could spring an overt Lisp on a general audience; we'd hide the parentheses, like Dylan did.\n\nBy then there was<br>"
          },
          "metadata": {}
        }
      ]
    },
    {
      "cell_type": "code",
      "source": [],
      "metadata": {
        "id": "I2HUiJGTVfOk"
      },
      "execution_count": null,
      "outputs": []
    },
    {
      "cell_type": "markdown",
      "source": [
        "## Hybrid Retriever with BM25 + Chroma\n",
        "Now we will combine bm25 and chroma for sparse and dense retrieval.\n",
        "\n",
        "The results are combined using the `QueryFusionRetriever`.\n",
        "\n",
        "With the retriever, we can make a complete `RetrieverQueryEngine`."
      ],
      "metadata": {
        "id": "M5Q58JjAVvj9"
      }
    },
    {
      "cell_type": "code",
      "source": [
        "from llama_index.core import VectorStoreIndex, StorageContext\n",
        "from llama_index.core.storage.docstore import SimpleDocumentStore\n",
        "from llama_index.vector_stores.chroma import ChromaVectorStore\n",
        "import chromadb\n",
        "\n",
        "docstore = SimpleDocumentStore()\n",
        "docstore_1 = SimpleDocumentStore()\n",
        "docstore.add_documents(nodes)\n",
        "docstore_1.add_documents(nodes1)\n",
        "\n",
        "db = chromadb.PersistentClient(path=\"./chroma_db\")\n",
        "chroma_collection = db.get_or_create_collection(\"dense_vectors\")\n",
        "vector_store_chroma = ChromaVectorStore(chroma_collection=chroma_collection)\n",
        "\n",
        "storage_context_chroma = StorageContext.from_defaults(\n",
        "    docstore=docstore, vector_store=vector_store_chroma\n",
        ")\n",
        "\n",
        "storage_context_chroma_1 = StorageContext.from_defaults(\n",
        "    docstore=docstore_1, vector_store=vector_store_chroma\n",
        ")\n",
        "index_chroma = VectorStoreIndex(nodes=nodes, storage_context=storage_context_chroma)\n",
        "index_chroma_1 = VectorStoreIndex(nodes=nodes1, storage_context=storage_context_chroma_1)"
      ],
      "metadata": {
        "colab": {
          "base_uri": "https://localhost:8080/"
        },
        "collapsed": true,
        "id": "KLS0hWYqVxxW",
        "outputId": "a22bf0d1-10b5-4b3d-a60b-df20f812fd5c"
      },
      "execution_count": 54,
      "outputs": [
        {
          "output_type": "stream",
          "name": "stderr",
          "text": [
            "WARNING:chromadb.segment.impl.vector.local_persistent_hnsw:Add of existing embedding ID: f05879e5-6d2e-48ca-8242-ac707c6ac480\n",
            "WARNING:chromadb.segment.impl.vector.local_persistent_hnsw:Add of existing embedding ID: 5ae76bb1-8bfb-44dd-b722-d9e45ae39ec2\n",
            "WARNING:chromadb.segment.impl.vector.local_persistent_hnsw:Add of existing embedding ID: 02a0709f-dffe-46bf-90d0-1dfc41dcfb20\n",
            "WARNING:chromadb.segment.impl.vector.local_persistent_hnsw:Add of existing embedding ID: 83733978-759f-4f89-b081-99971ca4a268\n",
            "WARNING:chromadb.segment.impl.vector.local_persistent_hnsw:Add of existing embedding ID: 2dd74cec-b159-4e9e-8329-854df1e5e7ab\n",
            "WARNING:chromadb.segment.impl.vector.local_persistent_hnsw:Add of existing embedding ID: 7c6a0473-c10b-44e8-9d3e-6ab1145783a0\n",
            "WARNING:chromadb.segment.impl.vector.local_persistent_hnsw:Add of existing embedding ID: 27e4c37a-d409-46ac-b613-1730d8acdb3e\n",
            "WARNING:chromadb.segment.impl.vector.local_persistent_hnsw:Add of existing embedding ID: 8f3d61f2-332d-4d7a-ace7-8e074fb22db4\n",
            "WARNING:chromadb.segment.impl.vector.local_persistent_hnsw:Add of existing embedding ID: 3a9e6f6b-9925-435b-9c2e-1ad8cf2f3fd7\n",
            "WARNING:chromadb.segment.impl.vector.local_persistent_hnsw:Add of existing embedding ID: 79b9b909-205e-4105-9840-12fdef42641a\n",
            "WARNING:chromadb.segment.impl.vector.local_persistent_hnsw:Add of existing embedding ID: 5e89cd40-e054-4364-a2e3-c0438a39e1a1\n",
            "WARNING:chromadb.segment.impl.vector.local_persistent_hnsw:Add of existing embedding ID: 2d8f5dc9-deec-460b-a19b-024aefc331cf\n",
            "WARNING:chromadb.segment.impl.vector.local_persistent_hnsw:Add of existing embedding ID: f6161fbb-7930-44f2-9249-f3851d66ac00\n",
            "WARNING:chromadb.segment.impl.vector.local_persistent_hnsw:Add of existing embedding ID: 137d8390-93a1-496e-9c30-1b6651869f5d\n",
            "WARNING:chromadb.segment.impl.vector.local_persistent_hnsw:Add of existing embedding ID: 96be82a0-78a0-436f-88d3-8bafb572ed0f\n",
            "WARNING:chromadb.segment.impl.vector.local_persistent_hnsw:Add of existing embedding ID: dd4391ed-8e3e-4d70-a187-06da4c7c2464\n",
            "WARNING:chromadb.segment.impl.vector.local_persistent_hnsw:Add of existing embedding ID: 990b8f7a-3ae3-43ab-9952-385269ce38c4\n",
            "WARNING:chromadb.segment.impl.vector.local_persistent_hnsw:Add of existing embedding ID: 08660c9b-7ef2-49f1-9adc-9fa572f615b1\n",
            "WARNING:chromadb.segment.impl.vector.local_persistent_hnsw:Add of existing embedding ID: c3560f13-a829-40b1-a81c-b700d9ca65d0\n",
            "WARNING:chromadb.segment.impl.metadata.sqlite:Insert of existing embedding ID: f05879e5-6d2e-48ca-8242-ac707c6ac480\n",
            "WARNING:chromadb.segment.impl.metadata.sqlite:Insert of existing embedding ID: 5ae76bb1-8bfb-44dd-b722-d9e45ae39ec2\n",
            "WARNING:chromadb.segment.impl.metadata.sqlite:Insert of existing embedding ID: 02a0709f-dffe-46bf-90d0-1dfc41dcfb20\n",
            "WARNING:chromadb.segment.impl.metadata.sqlite:Insert of existing embedding ID: 83733978-759f-4f89-b081-99971ca4a268\n",
            "WARNING:chromadb.segment.impl.metadata.sqlite:Insert of existing embedding ID: 2dd74cec-b159-4e9e-8329-854df1e5e7ab\n",
            "WARNING:chromadb.segment.impl.metadata.sqlite:Insert of existing embedding ID: 7c6a0473-c10b-44e8-9d3e-6ab1145783a0\n",
            "WARNING:chromadb.segment.impl.metadata.sqlite:Insert of existing embedding ID: 27e4c37a-d409-46ac-b613-1730d8acdb3e\n",
            "WARNING:chromadb.segment.impl.metadata.sqlite:Insert of existing embedding ID: 8f3d61f2-332d-4d7a-ace7-8e074fb22db4\n",
            "WARNING:chromadb.segment.impl.metadata.sqlite:Insert of existing embedding ID: 3a9e6f6b-9925-435b-9c2e-1ad8cf2f3fd7\n",
            "WARNING:chromadb.segment.impl.metadata.sqlite:Insert of existing embedding ID: 79b9b909-205e-4105-9840-12fdef42641a\n",
            "WARNING:chromadb.segment.impl.metadata.sqlite:Insert of existing embedding ID: 5e89cd40-e054-4364-a2e3-c0438a39e1a1\n",
            "WARNING:chromadb.segment.impl.metadata.sqlite:Insert of existing embedding ID: 2d8f5dc9-deec-460b-a19b-024aefc331cf\n",
            "WARNING:chromadb.segment.impl.metadata.sqlite:Insert of existing embedding ID: f6161fbb-7930-44f2-9249-f3851d66ac00\n",
            "WARNING:chromadb.segment.impl.metadata.sqlite:Insert of existing embedding ID: 137d8390-93a1-496e-9c30-1b6651869f5d\n",
            "WARNING:chromadb.segment.impl.metadata.sqlite:Insert of existing embedding ID: 96be82a0-78a0-436f-88d3-8bafb572ed0f\n",
            "WARNING:chromadb.segment.impl.metadata.sqlite:Insert of existing embedding ID: dd4391ed-8e3e-4d70-a187-06da4c7c2464\n",
            "WARNING:chromadb.segment.impl.metadata.sqlite:Insert of existing embedding ID: 990b8f7a-3ae3-43ab-9952-385269ce38c4\n",
            "WARNING:chromadb.segment.impl.metadata.sqlite:Insert of existing embedding ID: 08660c9b-7ef2-49f1-9adc-9fa572f615b1\n",
            "WARNING:chromadb.segment.impl.metadata.sqlite:Insert of existing embedding ID: c3560f13-a829-40b1-a81c-b700d9ca65d0\n",
            "WARNING:chromadb.segment.impl.vector.local_persistent_hnsw:Add of existing embedding ID: f05879e5-6d2e-48ca-8242-ac707c6ac480\n",
            "WARNING:chromadb.segment.impl.vector.local_persistent_hnsw:Add of existing embedding ID: 5ae76bb1-8bfb-44dd-b722-d9e45ae39ec2\n",
            "WARNING:chromadb.segment.impl.vector.local_persistent_hnsw:Add of existing embedding ID: 02a0709f-dffe-46bf-90d0-1dfc41dcfb20\n",
            "WARNING:chromadb.segment.impl.vector.local_persistent_hnsw:Add of existing embedding ID: 83733978-759f-4f89-b081-99971ca4a268\n",
            "WARNING:chromadb.segment.impl.vector.local_persistent_hnsw:Add of existing embedding ID: 2dd74cec-b159-4e9e-8329-854df1e5e7ab\n",
            "WARNING:chromadb.segment.impl.vector.local_persistent_hnsw:Add of existing embedding ID: 7c6a0473-c10b-44e8-9d3e-6ab1145783a0\n",
            "WARNING:chromadb.segment.impl.vector.local_persistent_hnsw:Add of existing embedding ID: 27e4c37a-d409-46ac-b613-1730d8acdb3e\n",
            "WARNING:chromadb.segment.impl.vector.local_persistent_hnsw:Add of existing embedding ID: 8f3d61f2-332d-4d7a-ace7-8e074fb22db4\n",
            "WARNING:chromadb.segment.impl.vector.local_persistent_hnsw:Add of existing embedding ID: 3a9e6f6b-9925-435b-9c2e-1ad8cf2f3fd7\n",
            "WARNING:chromadb.segment.impl.vector.local_persistent_hnsw:Add of existing embedding ID: 79b9b909-205e-4105-9840-12fdef42641a\n",
            "WARNING:chromadb.segment.impl.vector.local_persistent_hnsw:Add of existing embedding ID: 5e89cd40-e054-4364-a2e3-c0438a39e1a1\n",
            "WARNING:chromadb.segment.impl.vector.local_persistent_hnsw:Add of existing embedding ID: 2d8f5dc9-deec-460b-a19b-024aefc331cf\n",
            "WARNING:chromadb.segment.impl.vector.local_persistent_hnsw:Add of existing embedding ID: f6161fbb-7930-44f2-9249-f3851d66ac00\n",
            "WARNING:chromadb.segment.impl.vector.local_persistent_hnsw:Add of existing embedding ID: 137d8390-93a1-496e-9c30-1b6651869f5d\n",
            "WARNING:chromadb.segment.impl.vector.local_persistent_hnsw:Add of existing embedding ID: 96be82a0-78a0-436f-88d3-8bafb572ed0f\n",
            "WARNING:chromadb.segment.impl.vector.local_persistent_hnsw:Add of existing embedding ID: dd4391ed-8e3e-4d70-a187-06da4c7c2464\n",
            "WARNING:chromadb.segment.impl.vector.local_persistent_hnsw:Add of existing embedding ID: 990b8f7a-3ae3-43ab-9952-385269ce38c4\n",
            "WARNING:chromadb.segment.impl.vector.local_persistent_hnsw:Add of existing embedding ID: 08660c9b-7ef2-49f1-9adc-9fa572f615b1\n",
            "WARNING:chromadb.segment.impl.vector.local_persistent_hnsw:Add of existing embedding ID: c3560f13-a829-40b1-a81c-b700d9ca65d0\n",
            "WARNING:chromadb.segment.impl.metadata.sqlite:Insert of existing embedding ID: f05879e5-6d2e-48ca-8242-ac707c6ac480\n",
            "WARNING:chromadb.segment.impl.metadata.sqlite:Insert of existing embedding ID: 5ae76bb1-8bfb-44dd-b722-d9e45ae39ec2\n",
            "WARNING:chromadb.segment.impl.metadata.sqlite:Insert of existing embedding ID: 02a0709f-dffe-46bf-90d0-1dfc41dcfb20\n",
            "WARNING:chromadb.segment.impl.metadata.sqlite:Insert of existing embedding ID: 83733978-759f-4f89-b081-99971ca4a268\n",
            "WARNING:chromadb.segment.impl.metadata.sqlite:Insert of existing embedding ID: 2dd74cec-b159-4e9e-8329-854df1e5e7ab\n",
            "WARNING:chromadb.segment.impl.metadata.sqlite:Insert of existing embedding ID: 7c6a0473-c10b-44e8-9d3e-6ab1145783a0\n",
            "WARNING:chromadb.segment.impl.metadata.sqlite:Insert of existing embedding ID: 27e4c37a-d409-46ac-b613-1730d8acdb3e\n",
            "WARNING:chromadb.segment.impl.metadata.sqlite:Insert of existing embedding ID: 8f3d61f2-332d-4d7a-ace7-8e074fb22db4\n",
            "WARNING:chromadb.segment.impl.metadata.sqlite:Insert of existing embedding ID: 3a9e6f6b-9925-435b-9c2e-1ad8cf2f3fd7\n",
            "WARNING:chromadb.segment.impl.metadata.sqlite:Insert of existing embedding ID: 79b9b909-205e-4105-9840-12fdef42641a\n",
            "WARNING:chromadb.segment.impl.metadata.sqlite:Insert of existing embedding ID: 5e89cd40-e054-4364-a2e3-c0438a39e1a1\n",
            "WARNING:chromadb.segment.impl.metadata.sqlite:Insert of existing embedding ID: 2d8f5dc9-deec-460b-a19b-024aefc331cf\n",
            "WARNING:chromadb.segment.impl.metadata.sqlite:Insert of existing embedding ID: f6161fbb-7930-44f2-9249-f3851d66ac00\n",
            "WARNING:chromadb.segment.impl.metadata.sqlite:Insert of existing embedding ID: 137d8390-93a1-496e-9c30-1b6651869f5d\n",
            "WARNING:chromadb.segment.impl.metadata.sqlite:Insert of existing embedding ID: 96be82a0-78a0-436f-88d3-8bafb572ed0f\n",
            "WARNING:chromadb.segment.impl.metadata.sqlite:Insert of existing embedding ID: dd4391ed-8e3e-4d70-a187-06da4c7c2464\n",
            "WARNING:chromadb.segment.impl.metadata.sqlite:Insert of existing embedding ID: 990b8f7a-3ae3-43ab-9952-385269ce38c4\n",
            "WARNING:chromadb.segment.impl.metadata.sqlite:Insert of existing embedding ID: 08660c9b-7ef2-49f1-9adc-9fa572f615b1\n",
            "WARNING:chromadb.segment.impl.metadata.sqlite:Insert of existing embedding ID: c3560f13-a829-40b1-a81c-b700d9ca65d0\n"
          ]
        }
      ]
    },
    {
      "cell_type": "markdown",
      "source": [
        "QueryFusionRetriver\n",
        "- https://docs.llamaindex.ai/en/stable/api_reference/retrievers/query_fusion/#llama_index.core.retrievers.QueryFusionRetriever"
      ],
      "metadata": {
        "id": "5HMSH4V1bhyZ"
      }
    },
    {
      "cell_type": "code",
      "source": [
        "import nest_asyncio\n",
        "\n",
        "nest_asyncio.apply()\n",
        "\n",
        "from llama_index.core.retrievers import QueryFusionRetriever\n",
        "from llama_index.core.retrievers.fusion_retriever import FUSION_MODES\n",
        "\n",
        "retriever = QueryFusionRetriever(\n",
        "    [\n",
        "        index_chroma.as_retriever(similarity_top_k=6),\n",
        "        BM25Retriever.from_defaults(\n",
        "            docstore=index_chroma.docstore, similarity_top_k=6\n",
        "        ),\n",
        "    ],\n",
        "    num_queries=10,\n",
        "    use_async=True,\n",
        "    retriever_weights=[0.5, 0.5],\n",
        "    mode=FUSION_MODES.RECIPROCAL_RANK # ** defaults to SIMPLE # https://github.com/run-llama/llama_index/blob/0b19dea0ef6ee8c1c5fb374c040ba42b527b393a/llama-index-core/llama_index/core/retrievers/fusion_retriever.py#L24\n",
        ")"
      ],
      "metadata": {
        "colab": {
          "base_uri": "https://localhost:8080/"
        },
        "id": "9GS-uewDX-tT",
        "outputId": "2ffa7c8d-e65a-4863-b0d7-832cecf587c5"
      },
      "execution_count": 66,
      "outputs": [
        {
          "output_type": "stream",
          "name": "stderr",
          "text": [
            "DEBUG:bm25s:Building index from IDs objects\n"
          ]
        }
      ]
    },
    {
      "cell_type": "markdown",
      "source": [
        "- FUSION_MODES.RECIPROCAL_RANK:\n",
        "- FUSION_MODES.RELATIVE_SCORE:\n",
        "- FUSION_MODES.DIST_BASED_SCORE:\n",
        "- FUSION_MODES.SIMPLE"
      ],
      "metadata": {
        "id": "8yNLSXlPfShV"
      }
    },
    {
      "cell_type": "code",
      "source": [
        "nodes = retriever.retrieve(\"What happened at Viaweb and Interleaf?\")\n",
        "for node in nodes:\n",
        "    display_source_node(node, source_length=5000)"
      ],
      "metadata": {
        "colab": {
          "base_uri": "https://localhost:8080/",
          "height": 1000
        },
        "collapsed": true,
        "id": "7Aty11wMYyDx",
        "outputId": "93469cae-9100-40d2-e16f-820d30544b3c"
      },
      "execution_count": 57,
      "outputs": [
        {
          "output_type": "display_data",
          "data": {
            "text/plain": [
              "<IPython.core.display.Markdown object>"
            ],
            "text/markdown": "**Node ID:** 2dd74cec-b159-4e9e-8329-854df1e5e7ab<br>**Similarity:** 1.3625849485397339<br>**Text:** without telling you the shape and position of every leaf. This is a feature of brains, not a bug. In everyday life it would be distracting to notice every leaf on every bush. But when you have to paint something, you have to look more closely, and when you do there's a lot to see. You can still be noticing new things after days of trying to paint something people usually take for granted, just as you can after days of trying to write an essay about something people usually take for granted.\n\nThis is not the only way to paint. I'm not 100% sure it's even a good way to paint. But it seemed a good enough bet to be worth trying.\n\nOur teacher, professor Ulivi, was a nice guy. He could see I worked hard, and gave me a good grade, which he wrote down in a sort of passport each student had. But the Accademia wasn't teaching me anything except Italian, and my money was running out, so at the end of the first year I went back to the US.\n\nI wanted to go back to RISD, but I was now broke and RISD was very expensive, so I decided to get a job for a year and then return to RISD the next fall. I got one at a company called Interleaf, which made software for creating documents. You mean like Microsoft Word? Exactly. That was how I learned that low end software tends to eat high end software. But Interleaf still had a few years to live yet. [5]\n\nInterleaf had done something pretty bold. Inspired by Emacs, they'd added a scripting language, and even made the scripting language a dialect of Lisp. Now they wanted a Lisp hacker to write things in it. This was the closest thing I've had to a normal job, and I hereby apologize to my boss and coworkers, because I was a bad employee. Their Lisp was the thinnest icing on a giant C cake, and since I didn't know C and didn't want to learn it, I never understood most of the software. Plus I was terribly irresponsible. This was back when a programming job meant showing up every day during certain working hours. That seemed unnatural to me, and on this point the rest of the world is coming around to my way of thinking, but at the time it caused a lot of friction. Toward the end of the year I spent much of my time surreptitiously working on On Lisp, which I had by this time gotten a contract to publish.\n\nThe good part was that I got paid huge amounts of money, especially by art student standards. In Florence, after paying my part of the rent, my budget for everything else had been $7 a day. Now I was getting paid more than 4 times that every hour, even when I was just sitting in a meeting. By living cheaply I not only managed to save enough to go back to RISD, but also paid off my college loans.\n\nI learned some useful things at Interleaf, though they were mostly about what not to do. I learned that it's better for technology companies to be run by product people than sales people (though sales is a real skill and people who are good at it are really good at it), that it leads to bugs when code is edited by too many people, that cheap office space is no bargain if it's depressing, that planned meetings are inferior to corridor conversations, that big, bureaucratic customers are a dangerous source of money, and that there's not much overlap between conventional office hours and the optimal time for hacking, or conventional offices and the optimal place for it.\n\nBut the most important thing I learned, and which I used in both Viaweb and Y Combinator, is that the low end eats the high end: that it's good to be the \"entry level\" option, even though that will be less prestigious, because if you're not, someone else will be, and will squash you against the ceiling. Which in turn means that prestige is a danger sign.\n\nWhen I left to go back to RISD the next fall, I arranged to do freelance work for the group that did projects for customers, and this was how I survived for the next several years. When I came back to visit for a project later on, someone told me about a new thing called HTML, which was, as he described it, a derivative of SGML. Markup language enthusiasts were an occupational hazard at Interleaf and I ignored him, but this HTML thing later became a big part of my life.\n\nIn the fall of 1992 I moved back to Providence to continue at RISD. The foundation had merely been intro stuff, and the Accademia had been a (very civilized) joke. Now I was going to see what real art school was like. But alas it was more like the Accademia than not. Better organized, certainly, and a<br>"
          },
          "metadata": {}
        },
        {
          "output_type": "display_data",
          "data": {
            "text/plain": [
              "<IPython.core.display.Markdown object>"
            ],
            "text/markdown": "**Node ID:** 990b8f7a-3ae3-43ab-9952-385269ce38c4<br>**Similarity:** 1.1546498537063599<br>**Text:** track of what's happening at what level, and errors can be practically encrypted by the time you get them.\n\nSo I said no more essays till Bel was done. But I told few people about Bel while I was working on it. So for years it must have seemed that I was doing nothing, when in fact I was working harder than I'd ever worked on anything. Occasionally after wrestling for hours with some gruesome bug I'd check Twitter or HN and see someone asking \"Does Paul Graham still code?\"\n\nWorking on Bel was hard but satisfying. I worked on it so intensively that at any given time I had a decent chunk of the code in my head and could write more there. I remember taking the boys to the coast on a sunny day in 2015 and figuring out how to deal with some problem involving continuations while I watched them play in the tide pools. It felt like I was doing life right. I remember that because I was slightly dismayed at how novel it felt. The good news is that I had more moments like this over the next few years.\n\nIn the summer of 2016 we moved to England. We wanted our kids to see what it was like living in another country, and since I was a British citizen by birth, that seemed the obvious choice. We only meant to stay for a year, but we liked it so much that we still live there. So most of Bel was written in England.\n\nIn the fall of 2019, Bel was finally finished. Like McCarthy's original Lisp, it's a spec rather than an implementation, although like McCarthy's Lisp it's a spec expressed as code.\n\nNow that I could write essays again, I wrote a bunch about topics I'd had stacked up. I kept writing essays through 2020, but I also started to think about other things I could work on. How should I choose what to do? Well, how had I chosen what to work on in the past? I wrote an essay for myself to answer that question, and I was surprised how long and messy the answer turned out to be. If this surprised me, who'd lived it, then I thought perhaps it would be interesting to other people, and encouraging to those with similarly messy lives. So I wrote a more detailed version for others to read, and this is the last sentence of it.\n\n\n\n\n\n\n\n\n\nNotes\n\n[1] My experience skipped a step in the evolution of computers: time-sharing machines with interactive OSes. I went straight from batch processing to microcomputers, which made microcomputers seem all the more exciting.\n\n[2] Italian words for abstract concepts can nearly always be predicted from their English cognates (except for occasional traps like polluzione). It's the everyday words that differ. So if you string together a lot of abstract concepts with a few simple verbs, you can make a little Italian go a long way.\n\n[3] I lived at Piazza San Felice 4, so my walk to the Accademia went straight down the spine of old Florence: past the Pitti, across the bridge, past Orsanmichele, between the Duomo and the Baptistery, and then up Via Ricasoli to Piazza San Marco. I saw Florence at street level in every possible condition, from empty dark winter evenings to sweltering summer days when the streets were packed with tourists.\n\n[4] You can of course paint people like still lives if you want to, and they're willing. That sort of portrait is arguably the apex of still life painting, though the long sitting does tend to produce pained expressions in the sitters.\n\n[5] Interleaf was one of many companies that had smart people and built impressive technology, and yet got crushed by Moore's Law. In the 1990s the exponential growth in the power of commodity (i.e. Intel) processors rolled up high-end, special-purpose hardware and software companies like a bulldozer.\n\n[6] The signature style seekers at RISD weren't specifically mercenary. In the art world, money and coolness are tightly coupled. Anything expensive comes to be seen as cool, and anything seen as cool will soon become equally expensive.\n\n[7] Technically the apartment wasn't rent-controlled but rent-stabilized, but this is a refinement only New Yorkers would know or care about. The point is that it was really cheap, less than half market price.\n\n[8] Most software you can launch as soon as it's done. But when the software is an online store builder and you're hosting the stores, if you don't have any users yet, that fact will be painfully obvious. So before we could launch publicly we had to launch privately, in the sense of recruiting an initial set of users and making sure they had decent-looking stores.\n\n[9] We'd had a code editor in Viaweb for users to define their own page styles. They didn't know it, but they<br>"
          },
          "metadata": {}
        }
      ]
    },
    {
      "cell_type": "code",
      "source": [
        "from llama_index.core.query_engine import RetrieverQueryEngine\n",
        "\n",
        "query_engine = RetrieverQueryEngine(retriever)\n",
        "response = query_engine.query(\"What did the author do after RISD?\")\n",
        "print(response)"
      ],
      "metadata": {
        "colab": {
          "base_uri": "https://localhost:8080/"
        },
        "id": "irt_68Akadpc",
        "outputId": "f73ae48f-407a-4369-e6a7-3ee5fb1d732c"
      },
      "execution_count": 67,
      "outputs": [
        {
          "output_type": "stream",
          "name": "stdout",
          "text": [
            "After RISD, the author got a job at a company called Interleaf, where they learned valuable lessons about technology companies, product development, office culture, customer relationships, and time management. They also did freelance work for a group that handled projects for customers, which helped them survive and succeed in the following years. Additionally, during a visit back to Interleaf, someone mentioned HTML to the author, which later became a significant part of their life.\n"
          ]
        }
      ]
    },
    {
      "cell_type": "markdown",
      "source": [],
      "metadata": {
        "id": "W2XsPH6ka57z"
      }
    },
    {
      "cell_type": "code",
      "source": [
        "retriever_1 = QueryFusionRetriever(\n",
        "    [\n",
        "        index_chroma_1.as_retriever(similarity_top_k=6),\n",
        "        BM25Retriever.from_defaults(\n",
        "            docstore=index_chroma_1.docstore, similarity_top_k=6\n",
        "        ),\n",
        "    ],\n",
        "    num_queries=10,\n",
        "    use_async=True,\n",
        "    retriever_weights=[0.5, 0.5] # change weighting as appropriate HYPERPARAM\n",
        "\n",
        ")\n",
        "# see also https://docs.llamaindex.ai/en/stable/module_guides/querying/response_synthesizers/\n",
        "# see also https://docs.llamaindex.ai/en/stable/module_guides/querying/node_postprocessors/node_postprocessors/\n",
        "\n",
        "query_engine_1 = RetrieverQueryEngine(retriever,\n",
        "                                      response_synthesizer=None,\n",
        "                                      node_postprocessors=None)\n",
        "response_1 = query_engine_1.query(\"What did the author do after RISD?\")\n",
        "print(response_1)"
      ],
      "metadata": {
        "colab": {
          "base_uri": "https://localhost:8080/"
        },
        "id": "_D4XqL3javKi",
        "outputId": "e4136ff6-9eb9-42ce-e384-2c1d0bc46fe6"
      },
      "execution_count": 71,
      "outputs": [
        {
          "output_type": "stream",
          "name": "stderr",
          "text": [
            "DEBUG:bm25s:Building index from IDs objects\n"
          ]
        },
        {
          "output_type": "stream",
          "name": "stdout",
          "text": [
            "After RISD, the author got a job at a company called Interleaf, where they learned valuable lessons about technology companies and product development. They also did freelance work for a group that handled projects for customers, which helped them survive for the next several years. Additionally, during a visit back to Interleaf, someone mentioned HTML to the author, which later became a significant part of their life.\n"
          ]
        }
      ]
    },
    {
      "cell_type": "markdown",
      "source": [
        "RAG"
      ],
      "metadata": {
        "id": "Asg_XrNOjTSI"
      }
    },
    {
      "cell_type": "markdown",
      "source": [
        "## Node Postprocessors\n",
        "- https://docs.llamaindex.ai/en/stable/module_guides/querying/node_postprocessors/node_postprocessors/\n",
        "- https://docs.llamaindex.ai/en/stable/examples/node_postprocessor/SentenceTransformerRerank/\n"
      ],
      "metadata": {
        "id": "l5iqeSILlsHi"
      }
    },
    {
      "cell_type": "code",
      "source": [
        "!pip install -U torch sentence-transformers"
      ],
      "metadata": {
        "colab": {
          "base_uri": "https://localhost:8080/"
        },
        "collapsed": true,
        "id": "gxpW-flZoDWE",
        "outputId": "b07044ff-562d-4691-ceec-88de12ba65ee"
      },
      "execution_count": 73,
      "outputs": [
        {
          "output_type": "stream",
          "name": "stdout",
          "text": [
            "Requirement already satisfied: torch in /usr/local/lib/python3.10/dist-packages (2.4.1+cu121)\n",
            "Collecting sentence-transformers\n",
            "  Downloading sentence_transformers-3.1.1-py3-none-any.whl.metadata (10 kB)\n",
            "Requirement already satisfied: filelock in /usr/local/lib/python3.10/dist-packages (from torch) (3.16.1)\n",
            "Requirement already satisfied: typing-extensions>=4.8.0 in /usr/local/lib/python3.10/dist-packages (from torch) (4.12.2)\n",
            "Requirement already satisfied: sympy in /usr/local/lib/python3.10/dist-packages (from torch) (1.13.3)\n",
            "Requirement already satisfied: networkx in /usr/local/lib/python3.10/dist-packages (from torch) (3.3)\n",
            "Requirement already satisfied: jinja2 in /usr/local/lib/python3.10/dist-packages (from torch) (3.1.4)\n",
            "Requirement already satisfied: fsspec in /usr/local/lib/python3.10/dist-packages (from torch) (2024.6.1)\n",
            "Requirement already satisfied: transformers<5.0.0,>=4.38.0 in /usr/local/lib/python3.10/dist-packages (from sentence-transformers) (4.44.2)\n",
            "Requirement already satisfied: tqdm in /usr/local/lib/python3.10/dist-packages (from sentence-transformers) (4.66.5)\n",
            "Requirement already satisfied: scikit-learn in /usr/local/lib/python3.10/dist-packages (from sentence-transformers) (1.5.2)\n",
            "Requirement already satisfied: scipy in /usr/local/lib/python3.10/dist-packages (from sentence-transformers) (1.13.1)\n",
            "Requirement already satisfied: huggingface-hub>=0.19.3 in /usr/local/lib/python3.10/dist-packages (from sentence-transformers) (0.24.7)\n",
            "Requirement already satisfied: Pillow in /usr/local/lib/python3.10/dist-packages (from sentence-transformers) (10.4.0)\n",
            "Requirement already satisfied: packaging>=20.9 in /usr/local/lib/python3.10/dist-packages (from huggingface-hub>=0.19.3->sentence-transformers) (24.1)\n",
            "Requirement already satisfied: pyyaml>=5.1 in /usr/local/lib/python3.10/dist-packages (from huggingface-hub>=0.19.3->sentence-transformers) (6.0.2)\n",
            "Requirement already satisfied: requests in /usr/local/lib/python3.10/dist-packages (from huggingface-hub>=0.19.3->sentence-transformers) (2.32.3)\n",
            "Requirement already satisfied: numpy>=1.17 in /usr/local/lib/python3.10/dist-packages (from transformers<5.0.0,>=4.38.0->sentence-transformers) (1.26.4)\n",
            "Requirement already satisfied: regex!=2019.12.17 in /usr/local/lib/python3.10/dist-packages (from transformers<5.0.0,>=4.38.0->sentence-transformers) (2024.9.11)\n",
            "Requirement already satisfied: safetensors>=0.4.1 in /usr/local/lib/python3.10/dist-packages (from transformers<5.0.0,>=4.38.0->sentence-transformers) (0.4.5)\n",
            "Requirement already satisfied: tokenizers<0.20,>=0.19 in /usr/local/lib/python3.10/dist-packages (from transformers<5.0.0,>=4.38.0->sentence-transformers) (0.19.1)\n",
            "Requirement already satisfied: MarkupSafe>=2.0 in /usr/local/lib/python3.10/dist-packages (from jinja2->torch) (2.1.5)\n",
            "Requirement already satisfied: joblib>=1.2.0 in /usr/local/lib/python3.10/dist-packages (from scikit-learn->sentence-transformers) (1.4.2)\n",
            "Requirement already satisfied: threadpoolctl>=3.1.0 in /usr/local/lib/python3.10/dist-packages (from scikit-learn->sentence-transformers) (3.5.0)\n",
            "Requirement already satisfied: mpmath<1.4,>=1.1.0 in /usr/local/lib/python3.10/dist-packages (from sympy->torch) (1.3.0)\n",
            "Requirement already satisfied: charset-normalizer<4,>=2 in /usr/local/lib/python3.10/dist-packages (from requests->huggingface-hub>=0.19.3->sentence-transformers) (3.3.2)\n",
            "Requirement already satisfied: idna<4,>=2.5 in /usr/local/lib/python3.10/dist-packages (from requests->huggingface-hub>=0.19.3->sentence-transformers) (3.10)\n",
            "Requirement already satisfied: urllib3<3,>=1.21.1 in /usr/local/lib/python3.10/dist-packages (from requests->huggingface-hub>=0.19.3->sentence-transformers) (2.2.3)\n",
            "Requirement already satisfied: certifi>=2017.4.17 in /usr/local/lib/python3.10/dist-packages (from requests->huggingface-hub>=0.19.3->sentence-transformers) (2024.8.30)\n",
            "Downloading sentence_transformers-3.1.1-py3-none-any.whl (245 kB)\n",
            "\u001b[2K   \u001b[90m━━━━━━━━━━━━━━━━━━━━━━━━━━━━━━━━━━━━━━━━\u001b[0m \u001b[32m245.3/245.3 kB\u001b[0m \u001b[31m6.5 MB/s\u001b[0m eta \u001b[36m0:00:00\u001b[0m\n",
            "\u001b[?25hInstalling collected packages: sentence-transformers\n",
            "Successfully installed sentence-transformers-3.1.1\n"
          ]
        }
      ]
    },
    {
      "cell_type": "code",
      "source": [
        "from llama_index.core.postprocessor import SentenceTransformerRerank\n",
        "\n",
        "# We choose a model with relatively high speed and decent accuracy.\n",
        "postprocessor = SentenceTransformerRerank(\n",
        "    model=\"cross-encoder/ms-marco-MiniLM-L-2-v2\", top_n=3\n",
        ")\n",
        "query_engine_2 = RetrieverQueryEngine(retriever,\n",
        "                                      response_synthesizer=None,\n",
        "                                      node_postprocessors=[postprocessor])\n"
      ],
      "metadata": {
        "colab": {
          "base_uri": "https://localhost:8080/",
          "height": 232,
          "referenced_widgets": [
            "a80f0682ec854ad386c656676bee6c7b",
            "ce4d3001d4574366868deb4320dd616a",
            "e01d4f45e74644d18cd666dc38f714b8",
            "82f3ea293d1641d6a8fa0d8eeef14a54",
            "ea5db2d3d7f147feb29191bed2d55888",
            "66390b78a7674646b4596355f527718e",
            "ae81ad9b29914641a65113b22ffbd67c",
            "85584baf09bf448893531623a7f6693a",
            "0dc3e4f23a034ed0a12b92fd9a8d07ea",
            "fb41f221e71d416590aebb788038cfd6",
            "a492087d84514cb8b6bbf398866ae0ef",
            "85dec2dbdcf14c8db2617bbafdceef78",
            "4359097385d74b6f92cbff07d55faeec",
            "af782c89ed0f46e1a6535e3bdd01755d",
            "f340fe6e643a4aa0a9171a1e04ea40bc",
            "34b532f5a31544aeaf7380c9208d6340",
            "abbfa92afdee47f983f2e0a3daf81c74",
            "1cda0712f95e4b97945ea3f07079b89e",
            "3e4c1d2d634e48a8a0cf82ec6b3f1063",
            "a90c89e443d14593aa1e68eebbcc7304",
            "ad2f686dd3bc4d4a9dad15af5348b680",
            "5dfccf08cc814576a6b2f5f9671abf5f",
            "a96115203d0c404787eadf6ec7720b55",
            "5dbf6a2ca03942cf9b7027be653069b4",
            "33606e3c977c4c5e9618a631b477ffeb",
            "358fdf8f52a6425799d768e3503e992e",
            "ca25dafb9e7f40d6b3fad40f2f6ce355",
            "aef6a2e0ef5c44fb8ab4c92e8590d268",
            "c3444fc6ffc04e4d8a0bcc9a9a19c610",
            "bf8bcbc3948140fdb10f56cae44b0b6d",
            "372b15cc53f1467c9000e0c53645a935",
            "3cbc084f14c840d1aa30645e3a14d966",
            "562d9e7755224d79b26f949341cb7a69",
            "e0c094479f154e3296ef0ef19ad76ff9",
            "433953042ffb4000a8de88b12bbedb8c",
            "0005ee8b322543b9a2837eaa162c4867",
            "f2ce04c4f7324969a641ca05bf04b981",
            "6292d80302db414bb8a6ec30954158e4",
            "3f02bfb82f5847b1a8e63557caaeb12c",
            "6033d78777aa4d1dafd669c99a975030",
            "bc0384e0da414c0d855a02c1bba7b465",
            "0f9bb73b77a14f20a404a8c243d13cb2",
            "b4ece0ebd87f42bab5a14c5c89370c3e",
            "e15610e92b9e49f18bc1f25a4750543b",
            "92c632dacab54249b030dff5358505aa",
            "018e899b605245f1b3549bd62f309d99",
            "d7a3ecb0fa8946af8e744370b9e61c5c",
            "b0d8373af3e348d7abdb8211b701d846",
            "86c97336bfe5461c915d3f2f55f60676",
            "467ea5e556a44aab8fc7840dcacec1f2",
            "a59eeb7f51b8482a87600cbc9094e167",
            "843e2218a40140b692a2fc1b6596a3d2",
            "3b313a5e8e64432eb41b5b22e93fe745",
            "c64fc033db0142609633ed36a69b58ea",
            "05816568fe30454cbcc9e4befc9e3dee"
          ]
        },
        "id": "OkoU0g8cbFtc",
        "outputId": "b8e81f64-5e00-49af-b751-63721f91feeb"
      },
      "execution_count": 74,
      "outputs": [
        {
          "output_type": "display_data",
          "data": {
            "text/plain": [
              "config.json:   0%|          | 0.00/794 [00:00<?, ?B/s]"
            ],
            "application/vnd.jupyter.widget-view+json": {
              "version_major": 2,
              "version_minor": 0,
              "model_id": "a80f0682ec854ad386c656676bee6c7b"
            }
          },
          "metadata": {}
        },
        {
          "output_type": "display_data",
          "data": {
            "text/plain": [
              "pytorch_model.bin:   0%|          | 0.00/62.5M [00:00<?, ?B/s]"
            ],
            "application/vnd.jupyter.widget-view+json": {
              "version_major": 2,
              "version_minor": 0,
              "model_id": "85dec2dbdcf14c8db2617bbafdceef78"
            }
          },
          "metadata": {}
        },
        {
          "output_type": "display_data",
          "data": {
            "text/plain": [
              "tokenizer_config.json:   0%|          | 0.00/316 [00:00<?, ?B/s]"
            ],
            "application/vnd.jupyter.widget-view+json": {
              "version_major": 2,
              "version_minor": 0,
              "model_id": "a96115203d0c404787eadf6ec7720b55"
            }
          },
          "metadata": {}
        },
        {
          "output_type": "display_data",
          "data": {
            "text/plain": [
              "vocab.txt:   0%|          | 0.00/232k [00:00<?, ?B/s]"
            ],
            "application/vnd.jupyter.widget-view+json": {
              "version_major": 2,
              "version_minor": 0,
              "model_id": "e0c094479f154e3296ef0ef19ad76ff9"
            }
          },
          "metadata": {}
        },
        {
          "output_type": "display_data",
          "data": {
            "text/plain": [
              "special_tokens_map.json:   0%|          | 0.00/112 [00:00<?, ?B/s]"
            ],
            "application/vnd.jupyter.widget-view+json": {
              "version_major": 2,
              "version_minor": 0,
              "model_id": "92c632dacab54249b030dff5358505aa"
            }
          },
          "metadata": {}
        },
        {
          "output_type": "stream",
          "name": "stderr",
          "text": [
            "/usr/local/lib/python3.10/dist-packages/transformers/tokenization_utils_base.py:1601: FutureWarning: `clean_up_tokenization_spaces` was not set. It will be set to `True` by default. This behavior will be depracted in transformers v4.45, and will be then set to `False` by default. For more details check this issue: https://github.com/huggingface/transformers/issues/31884\n",
            "  warnings.warn(\n"
          ]
        }
      ]
    },
    {
      "cell_type": "code",
      "source": [
        "response_1 = query_engine_1.query(\"Which grad schools did the author apply for and why?\")\n",
        "print(response_1)"
      ],
      "metadata": {
        "colab": {
          "base_uri": "https://localhost:8080/"
        },
        "id": "FN0ZFkiLnjFC",
        "outputId": "db2cf194-3898-4509-802b-6ea4aaaa4036"
      },
      "execution_count": 75,
      "outputs": [
        {
          "output_type": "stream",
          "name": "stdout",
          "text": [
            "The author applied to MIT, Yale, and Harvard for graduate school. He applied to MIT and Yale because they were renowned for AI at the time, and he applied to Harvard because he had visited the campus and it was home to Bill Woods, who had invented the type of parser the author used in his SHRDLU clone.\n"
          ]
        }
      ]
    },
    {
      "cell_type": "code",
      "source": [
        "response_2 = query_engine_2.query(\"Which grad schools did the author apply for and why?\");print(response_2)"
      ],
      "metadata": {
        "colab": {
          "base_uri": "https://localhost:8080/"
        },
        "id": "LlLjhPuxni8J",
        "outputId": "839c7bff-9005-49f3-8e1f-b6973cf79fb3"
      },
      "execution_count": 78,
      "outputs": [
        {
          "output_type": "stream",
          "name": "stdout",
          "text": [
            "The author applied to MIT, Yale, and Harvard for graduate school. The reason for applying to MIT and Yale was because they were renowned for AI at the time. The reason for applying to Harvard was due to a personal connection with someone who attended the school and because it was home to the inventor of the type of parser used in the author's SHRDLU clone.\n"
          ]
        }
      ]
    },
    {
      "cell_type": "code",
      "source": [
        "response_1"
      ],
      "metadata": {
        "colab": {
          "base_uri": "https://localhost:8080/"
        },
        "id": "hjlR9gHDo_tZ",
        "outputId": "6c35c065-b83a-4578-eef5-b898d8546c3d"
      },
      "execution_count": 79,
      "outputs": [
        {
          "output_type": "execute_result",
          "data": {
            "text/plain": [
              "Response(response='The author applied to MIT, Yale, and Harvard for graduate school. He applied to MIT and Yale because they were renowned for AI at the time, and he applied to Harvard because he had visited the campus and it was home to Bill Woods, who had invented the type of parser the author used in his SHRDLU clone.', source_nodes=[NodeWithScore(node=TextNode(id_='137d8390-93a1-496e-9c30-1b6651869f5d', embedding=[0.007004103157669306, -0.0024227704852819443, 0.021302420645952225, -0.03926165774464607, -0.011010395362973213, 0.0172270555049181, -0.018539460375905037, -0.0016448245150968432, -0.024065380915999413, -0.027325673028826714, 0.019009163603186607, 0.006745075806975365, -0.009580562822520733, -0.0037990696728229523, -0.007121528964489698, 0.008523731492459774, 0.022020790725946426, -0.0010896422900259495, -0.0006169171538203955, -0.009007249027490616, -0.0251981932669878, -0.018069757148623466, -0.004051189869642258, 0.006178669165819883, -0.005923095159232616, 0.03387388586997986, 0.03492381423711777, -0.014229243621230125, -0.009366434067487717, -0.0028268531896173954, 0.0195755697786808, 0.007729380391538143, -0.005367049481719732, 0.021081384271383286, -0.02890055999159813, -0.001424651127308607, -0.006030160002410412, 0.006351354066282511, 0.016190944239497185, -0.0058194841258227825, 0.032685816287994385, 0.008585897274315357, -0.015928464010357857, -0.00444145780056715, -0.009276637807488441, -0.0018442757427692413, 0.017461907118558884, -0.024231158196926117, 0.002465941710397601, 0.033846259117126465, 0.017489535734057426, 0.023222677409648895, -0.022062234580516815, 0.00951839704066515, -0.020542606711387634, 0.007197510451078415, 0.01201887521892786, -0.005353234708309174, 0.013870058581233025, 0.012516207993030548, 0.01624620333313942, 0.021039938554167747, 0.005287614185363054, 0.006886677350848913, -0.02294638194143772, -0.0013538503553718328, -0.014961428008973598, 0.0021741040982306004, 0.007114621810615063, -0.011825468391180038, 0.009877581149339676, -0.008834564127027988, 0.006023252382874489, 0.004962966777384281, 0.02461797185242176, 0.011942894198000431, -0.025336341932415962, -0.01892627403140068, -0.017821090295910835, -0.007266584318131208, -0.011231431737542152, 0.0003671714512165636, 0.009504581801593304, 0.00931808166205883, -0.006682909093797207, -0.011846190318465233, 0.0018080119043588638, 0.017461907118558884, -0.016121869906783104, -0.014906167984008789, 0.006776159163564444, 0.037106551229953766, 0.010975858196616173, 0.004154800903052092, -0.006821057293564081, 0.0005543188308365643, -0.007080084644258022, 0.0003706251736730337, 0.004890439100563526, -0.010920599102973938, 0.0033535424154251814, 0.009055600501596928, -0.003591847838833928, -0.028375597670674324, -0.036498699337244034, -0.0056019010953605175, 0.007667213678359985, -0.013186225667595863, 0.011860005557537079, -0.005432670004665852, 0.015900833532214165, 0.002243177965283394, -0.031055668368935585, -0.024341676384210587, -0.029536040499806404, -0.03865380957722664, 0.015458760783076286, -0.023775270208716393, -0.02106756903231144, -0.031746409833431244, 0.02854137495160103, 0.006876316387206316, 0.0013322647428140044, -0.012315893545746803, 0.010637395083904266, 0.023692380636930466, -0.028596634045243263, -0.004852448124438524, 0.020363014191389084, -0.02925974503159523, 0.01198433805257082, 0.007529065478593111, 0.03392914682626724, -0.006230474449694157, -0.03229900076985359, 0.025060046464204788, -0.0015558917075395584, 0.003985569346696138, -0.028845300897955894, -0.03691314533352852, 0.015997538343071938, 0.01758623868227005, -0.00697992742061615, 0.010036451742053032, -0.005474114324897528, 0.030033374205231667, 0.0125990966334939, 0.024769935756921768, 0.01943742297589779, 0.011376487091183662, 0.002384779741987586, 0.003481329418718815, -0.015500204637646675, 0.01245404127985239, 0.00841321237385273, 0.0013003179337829351, 0.008537545800209045, 0.012820133939385414, -0.0022863491903990507, -0.007812269032001495, 0.01439502090215683, 0.023374639451503754, 0.015292982570827007, -0.005626076832413673, -0.006969565991312265, 0.03810121491551399, 0.03868143633008003, -0.005816030316054821, -0.00010782018944155425, -0.021454382687807083, 0.0025453767739236355, 0.011390302330255508, -0.05912734195590019, 0.009725619107484818, 0.015113390050828457, 0.01892627403140068, -0.0009653090965002775, -0.004721207544207573, -0.04003528878092766, -0.03229900076985359, 0.005726234056055546, -0.004835179541260004, 0.027864450588822365, 0.0201281625777483, -0.00544648477807641, -0.010796265676617622, 0.011417931877076626, -0.009456230327486992, -0.006662186700850725, 0.010886061936616898, 0.00510456832125783, 0.0026990664191544056, -0.018981534987688065, -0.0130549855530262, -0.6379121541976929, -0.027601968497037888, 0.015403500758111477, -0.012005060911178589, 0.0005426625721156597, -0.006151039153337479, 0.018829571083188057, 0.014146354049444199, -0.009601285681128502, 0.02727041393518448, -0.004634865093976259, 0.012626726180315018, 0.013690466061234474, -0.005453391931951046, 0.002987450221553445, -0.017973054200410843, 0.03633292019367218, -0.01856709085404873, 0.012626726180315018, 0.013186225667595863, -0.028486115857958794, 0.007881343364715576, 0.000982577563263476, -0.002281168708577752, 0.0003760215768124908, 0.041168101131916046, 0.0027871357742697, -0.01823553442955017, -0.011134727858006954, 0.01863616332411766, -0.030116261914372444, 0.017738202586770058, 0.008019491098821163, 0.002063585678115487, 0.05188838765025139, 0.005235808901488781, -0.011756394058465958, 0.012875393033027649, 0.030613595619797707, 0.04017343744635582, -0.031746409833431244, -0.01794542372226715, 0.01711653545498848, 0.0029460059013217688, 0.002952913288027048, 0.002054951386526227, 0.019755162298679352, 0.0008379539358429611, -0.011176172643899918, -0.00528416084125638, -0.004071912262588739, -0.0004109902656637132, -0.014339761808514595, 0.003533134935423732, -0.0011043205158784986, -0.010962042957544327, 0.007014464121311903, -0.01609424129128456, -0.016909314319491386, 0.0008819886134006083, -0.005180549807846546, 0.02892819046974182, -0.03788017854094505, -0.008848379366099834, -0.010706469416618347, 0.00042869048775173724, -0.0035676718689501286, -0.002683524740859866, 0.014312132261693478, 0.004261865746229887, 0.014477909542620182, 0.03403966501355171, -0.015900833532214165, -0.004372383933514357, -0.0008763763471506536, 0.019244015216827393, 0.034564629197120667, -0.01303426269441843, -0.00681760348379612, 0.016743537038564682, 0.00029140591504983604, -0.007743195164948702, -0.008074750192463398, 0.0025850944221019745, 0.002901107771322131, -0.004679763223975897, -0.03415018320083618, 0.0018097386928275228, 0.005816030316054821, -0.02323649264872074, -0.017627684399485588, 0.006762344390153885, -0.010761728510260582, -0.01863616332411766, 0.008150731213390827, 0.01852564513683319, 0.008634249679744244, 0.012081041932106018, 0.025695526972413063, -0.04511913284659386, -0.0015533014666289091, -0.01370428130030632, 0.027574339881539345, -0.015486390329897404, 0.019161125645041466, 0.011445561423897743, 0.015472575090825558, 0.004842087160795927, 0.02153727225959301, -0.026897413656115532, 0.00046711289905942976, -0.0037127272225916386, -0.018221721053123474, -0.00293219112791121, -0.003149774158373475, -0.021343864500522614, 0.02070838399231434, -0.0018753589829429984, 0.0021982798352837563, -0.0016517319018021226, 0.011590616777539253, -0.009435507468879223, -0.007080084644258022, -0.011500820517539978, 0.017793461680412292, 0.0060681505128741264, 0.006265011616051197, -0.025350157171487808, -0.03428833186626434, 0.016411980614066124, -0.009753248654305935, -0.010153877548873425, 0.02523963898420334, -0.021343864500522614, -0.006389344576746225, 0.005163281224668026, -0.0050631240010261536, -0.01378026232123375, 0.018649978563189507, -0.03555929288268089, -0.03149774298071861, -0.019948570057749748, 0.020211052149534225, 0.008406305685639381, -0.01772438734769821, -0.007093899417668581, 0.0055293734185397625, -0.008951989933848381, -0.013151688501238823, -0.0044759949669241905, 0.003046163124963641, -0.005581178702414036, -0.02211749367415905, 0.023305566981434822, -0.007908972911536694, -0.006151039153337479, -0.0027733210008591413, -0.03876432776451111, -0.017392832785844803, -0.03970373421907425, -0.009746341034770012, 0.044290244579315186, -0.017102722078561783, -0.007881343364715576, -0.019133497029542923, 0.0018321877578273416, 0.002490117447450757, 0.017130350694060326, -0.006309909746050835, -0.01276487484574318, 0.012985911220312119, -0.0007762190070934594, -0.010816987603902817, 0.0003626384714152664, 0.00019642917322926223, 0.03169114887714386, -0.013020448386669159, -0.003262019483372569, -0.009539118967950344, 0.0024521269369870424, -0.01125906128436327, 0.012785596773028374, 0.017061276361346245, -0.022393789142370224, 0.010796265676617622, -0.0007818312733434141, 0.015279168263077736, 0.013130966573953629, 0.003678190289065242, 0.008654971607029438, -0.0008345002424903214, 0.0009635822498239577, -0.0065827518701553345, 0.00786752812564373, 0.006886677350848913, -0.006717446260154247, 0.0038508751895278692, 0.0035883940290659666, -0.008634249679744244, 0.012122486717998981, -0.004451819229871035, 0.012536929920315742, 0.023084528744220734, -0.020514976233243942, 0.010395636782050133, -0.03271344304084778, -0.003369084093719721, -0.01508576050400734, 0.013497059233486652, -0.013676650822162628, -0.007390917744487524, 0.0038163382560014725, -0.01758623868227005, -0.0344541110098362, 0.0005072621861472726, 0.003978662192821503, -0.025253452360630035, 0.02798878401517868, -0.03561455383896828, 0.008965804241597652, -0.007915879599750042, 0.007660306058824062, 0.0004207038145978004, -0.024590343236923218, 0.014187798835337162, 0.02581986039876938, 0.002013507066294551, -0.0011164085008203983, -0.0027940431609749794, -0.03354233130812645, 0.000497764500323683, 0.02334701083600521, 0.0034865099005401134, 0.0177658312022686, 0.03218848258256912, 0.01588701829314232, 0.03252003714442253, -0.021951716393232346, 0.04445602372288704, -0.006907399743795395, 0.005871289875358343, 0.026704007759690285, 0.011860005557537079, -0.006769251544028521, 0.012046504765748978, -0.010879154317080975, 0.03365284949541092, -0.007280399091541767, 0.0003004718746524304, 0.019658459350466728, 0.0046694022603333, -0.0014427830465137959, 0.014768020249903202, -0.011189986951649189, 0.021233346313238144, -0.003120417706668377, 0.009760155342519283, 0.0074530839920043945, 0.02309834398329258, 0.025640267878770828, -0.01747572049498558, 0.007535973098129034, -0.006303002126514912, 0.0012390147894620895, -0.009925933554768562, -0.00964272953569889, -0.005615715868771076, -0.008406305685639381, -0.025723155587911606, -0.024314045906066895, 0.008143824525177479, -0.02879004180431366, 0.006247743032872677, 0.008212897926568985, 0.01007789559662342, 0.027353301644325256, 0.020653124898672104, -0.006420427933335304, -0.012170838192105293, 0.008385582827031612, -0.039178770035505295, -0.02001764439046383, 0.019230199977755547, 6.383948493748903e-05, 0.0019461598712950945, -0.002552284160628915, 0.01504431664943695, 0.0028233996126800776, 0.012460948899388313, -0.0019133497262373567, -0.009801600128412247, -0.006451511289924383, -0.016038982197642326, -0.0036712829023599625, -0.004341300576925278, -0.0013046350795775652, 0.025612637400627136, -0.01928545907139778, -0.0013365817721933126, -0.009442415088415146, -0.004507078323513269, 0.01201887521892786, -0.021564900875091553, -0.004873170517385006, 0.04373765364289284, -0.016149500384926796, -0.017351387068629265, -0.013766447082161903, -0.012612911872565746, -0.01125906128436327, 0.028872929513454437, 0.0007585188141092658, -0.0023606037721037865, 0.02385815791785717, 0.014381205663084984, -0.003317278577014804, 0.02294638194143772, 0.002697339514270425, 0.021564900875091553, 0.009324989281594753, -0.01588701829314232, -0.012550745159387589, -0.04119573161005974, 0.01407037302851677, 0.10875009745359421, 0.04357187822461128, -0.029315004125237465, 0.023775270208716393, -0.012509300373494625, 0.0006523175397887826, -0.0063340854831039906, -0.03492381423711777, 0.017268499359488487, -0.01816646009683609, 0.02389960177242756, -0.0017993776127696037, 0.023761454969644547, 0.010955135338008404, 0.022435234859585762, 0.00036112748784944415, -0.011853097938001156, -0.01838749833405018, 0.0019582477398216724, -0.00586438225582242, 0.012467856518924236, 0.003895773319527507, 0.005926548969000578, 0.036747366189956665, 0.011058746837079525, 0.0024124092888087034, 0.042908765375614166, 0.008067842572927475, 0.014892353676259518, -0.02131623588502407, -0.00859280489385128, -0.0066552795469760895, 0.023871973156929016, 0.0027715940959751606, -0.008316509425640106, 0.01303426269441843, 0.0035573109053075314, 0.023512788116931915, 0.005916187539696693, -0.007998769171535969, 0.0025039324536919594, 0.020874161273241043, 0.012751059606671333, -0.020901791751384735, -0.005843659862875938, -0.008682601153850555, -0.008862193673849106, 0.027146080508828163, -0.012681985273957253, -0.017821090295910835, -0.0038888659328222275, 0.001047334517352283, -0.0384327732026577, -0.0066483719274401665, -0.0038128846790641546, -0.008965804241597652, 0.023692380636930466, 0.001750162336975336, -0.005373957101255655, -0.010692654177546501, -0.0017631137743592262, -0.04288113862276077, 0.002013507066294551, -0.01125906128436327, 0.009269730187952518, -0.0233884546905756, -0.015817945823073387, -0.005660613998770714, -0.0023519694805145264, 0.008696416392922401, -0.01588701829314232, -0.015210093930363655, -0.03544877469539642, 0.0002950754715129733, 0.03439885005354881, 0.011058746837079525, 0.017530979588627815, 0.0010205683065578341, -0.005688243545591831, 0.00018757907673716545, -0.0037610791623592377, -0.023540418595075607, 0.0035262275487184525, -0.014270687475800514, 0.002559191547334194, -0.003116964129731059, -0.02030775509774685, -0.0035642182920128107, -0.0130549855530262, 0.00292355683632195, -0.0027128811925649643, 0.0036298385821282864, -0.016453426331281662, -0.03415018320083618, 0.018180275335907936, 0.01439502090215683, -0.004065004643052816, 0.008931268006563187, 0.01852564513683319, -0.031138557940721512, 0.0057469564490020275, -0.012557652778923512, -0.026565859094262123, -0.010651210322976112, -0.01602516695857048, 0.011210709810256958, 0.0174066461622715, 0.013469429686665535, -0.016702093183994293, -0.005605354905128479, 0.026773080229759216, -0.023043084889650345, 0.005840206518769264, 0.012827040627598763, 0.011998153291642666, 0.019768977537751198, 0.006579298060387373, 0.022172752767801285, 0.0028579365462064743, -0.008572082966566086, -0.013110244646668434, -0.04456654191017151, 0.03368047997355461, 0.01718560978770256, -0.017917795106768608, 0.006499863229691982, 0.006144131999462843, -0.025446860119700432, -0.019092053174972534, -0.012827040627598763, -0.02294638194143772, 0.02287730760872364, -0.017240868881344795, -0.013407262973487377, -0.03403966501355171, -0.01635672152042389, -0.030033374205231667, 0.01234352309256792, -0.00937334168702364, 0.009539118967950344, -0.012723430059850216, -0.004337846767157316, -0.006541307549923658, -0.033956777304410934, 0.006265011616051197, -0.03608425706624985, -0.01990712620317936, -0.0001525024272268638, 0.028016412630677223, 0.025474490597844124, 0.01245404127985239, 0.007280399091541767, -0.01925783045589924, -0.011569893918931484, -0.01111400593072176, -0.03006100282073021, 0.00542921619489789, -0.004710846580564976, 0.0362500324845314, 0.013386540114879608, 0.025101490318775177, 0.008509916253387928, 0.02349897287786007, 0.01508576050400734, 0.00922828633338213, 0.008606620132923126, -0.006562029477208853, 0.001652595354244113, 7.679085683776066e-05, 0.025985637679696083, 0.00891745276749134, 0.017669128254055977, 0.007466898765414953, -0.004786828067153692, 0.014325946569442749, 0.028651893138885498, -0.019589385017752647, 0.005771132186055183, -0.011424838565289974, -0.05122527480125427, -0.013538503088057041, 0.022034604102373123, -0.007225139997899532, -0.005170188844203949, -0.021730680018663406, -0.001725123031064868, 0.011770209297537804, -0.0032067601568996906, 0.0208465326577425, -0.01580413058400154, 0.019382163882255554, -0.00033781499951146543, -0.013476336374878883, 0.016260018572211266, 0.012281356379389763, -0.011645875871181488, 0.004534707870334387, -0.04274298995733261, 0.004921522457152605, 0.026496784761548042, 0.0012321074027568102, 0.02052879147231579, 0.005273799411952496, -0.03216085210442543, -0.010775543749332428, 0.0041789766401052475, -0.03202270343899727, -0.005760771222412586, 0.022531937807798386, -0.011632060632109642, 0.005135651677846909, -0.00668981671333313, -0.010160785168409348, 0.0037990696728229523, -0.0139598548412323, -0.019934754818677902, 0.02211749367415905, 0.0015438038390129805, -0.012108671478927135, -0.012191560119390488, -0.0015783407725393772, -0.01107946876436472, 0.051280535757541656, 0.0010706469183787704, 0.018069757148623466, 0.003830153029412031, 0.025032415986061096, 0.006054335739463568, 0.010126248002052307, -0.004579606000334024, -0.0008301830966956913, 0.02816837653517723, 0.024410750716924667, -0.019948570057749748, 0.01479564979672432, -0.013987484388053417, -0.0062132058665156364, -0.016577759757637978, -0.02291875146329403, 0.007404732517898083, 0.011231431737542152, -0.0015040863072499633, -0.0016085606766864657, -0.019133497029542923, -0.022960197180509567, 0.003909588325768709, 0.012115579098463058, 0.020211052149534225, -0.00613722437992692, -0.019409792497754097, -0.014726576395332813, 0.013870058581233025, 0.01154917199164629, 0.023222677409648895, 0.016757352277636528, -0.004969873931258917, -0.02146819792687893, -0.028845300897955894, 0.005045855417847633, 0.01660538837313652, -0.0059645394794642925, 0.014491724781692028, -0.024535084143280983, 0.013227670453488827, 0.016398167237639427, 0.009034878574311733, -0.001449690549634397, -0.010989672504365444, 0.006468779873102903, 0.03042018786072731, 0.004527800250798464, -0.005909280385822058, -0.00308588077314198, 0.0009514943230897188, 0.01950649730861187, -0.016411980614066124, 0.008247435092926025, -0.0029080151580274105, -0.024935713037848473, -0.015942277386784554, 0.02682833932340145, 0.005204725544899702, -0.010250581428408623, 0.018884830176830292, 0.013586855493485928, -0.00772247277200222, 0.007998769171535969, -0.008979619480669498, 0.009186841547489166, -0.034205444157123566, -0.009801600128412247, -0.022103678435087204, -0.002217275323346257, 0.0006095780408941209, -0.0020998495165258646, 0.007729380391538143, -0.008060934953391552, 0.008019491098821163, -0.002942552324384451, 0.018373683094978333, -0.0006605201051570475, 0.011480098590254784, -0.03218848258256912, 0.027781561017036438, -0.012965189293026924, -0.025170564651489258, 0.04343372955918312, -0.01830460876226425, -0.031746409833431244, -0.00015746711869724095, 0.012723430059850216, 0.03166351839900017, -0.0016862689517438412, -0.003947578836232424, 0.004956059157848358, 0.02914922684431076, -0.008005675859749317, -0.011100191622972488, -0.0208465326577425, -0.018649978563189507, -0.014312132261693478, -0.011735672131180763, 0.006251196842640638, -0.009394063614308834, 0.008330323733389378, -0.0014358756598085165, 0.03539351746439934, 0.008323416113853455, -0.04558883607387543, 0.011756394058465958, 0.008357953280210495, 0.003933764062821865, 0.010996580123901367, 0.011424838565289974, -0.008634249679744244, -0.024756120517849922, -0.029342632740736008, 0.006123409606516361, 0.014961428008973598, -0.005422308575361967, -0.0022656270302832127, 0.02160634659230709, -0.01256455946713686, 0.016909314319491386, 0.00026615074602887034, -0.011024209670722485, -0.021385308355093002, 0.001735484111122787, -0.043240319937467575, -0.0033328202553093433, -0.005132197868078947, 0.05362905189394951, 0.00951839704066515, -0.01194980088621378, -0.03285159170627594, -0.025225823745131493, -0.044980987906455994, -0.024162083864212036, 0.007080084644258022, 0.001909896032884717, 0.02167542092502117, -0.0015438038390129805, -0.01129359845072031, 0.020722199231386185, -0.03412255272269249, -0.00028773635858669877, 0.00714225135743618, -0.008841471746563911, 0.014381205663084984, -0.005498290061950684, 0.02738093212246895, -0.012094857171177864, -0.025253452360630035, -0.0005361869116313756, 0.010658117942512035, -0.000499923073220998, -0.018953904509544373, 0.012771781533956528, 0.015196278691291809, 0.017641497775912285, 0.0177658312022686, -0.009456230327486992, 0.007908972911536694, 0.007694843225181103, -0.0007170744356699288, -0.03683025389909744, -0.031414855271577835, 0.00873786024749279, -0.012868485413491726, -0.016411980614066124, 0.003933764062821865, -0.014367391355335712, 0.0009014156530611217, 0.004237689543515444, 0.002345062093809247, -0.018622349947690964, -2.1275331164360978e-05, 0.007480714004486799, 0.0333489254117012, -0.00035594694782048464, 0.004085727035999298, 0.02593037858605385, 0.038488030433654785, -0.005822937935590744, -0.015583093278110027, 0.019644644111394882, 0.011417931877076626, -0.003550403518602252, 0.006199391093105078, -0.02698030322790146, -0.0005379137583076954, 0.007922787219285965, 0.040560249239206314, -0.007073177024722099, -0.005494836252182722, -0.013137874193489552, -0.010720284655690193, -0.0018667246913537383, 0.02218656800687313, 0.003160135354846716, 0.004817911423742771, 0.014408835209906101, -0.015141019597649574, -0.0038370604161173105, 0.007915879599750042, -0.024852823466062546, -0.012184652499854565, -0.02389960177242756, 0.013911502435803413, 0.024424565955996513, -0.00015239451022353023, -0.010084803216159344, -0.019423607736825943, 0.04793735221028328, -0.030503077432513237, -0.00948385987430811, 0.22181041538715363, -0.0030029918998479843, -0.0027819552924484015, 0.011645875871181488, -0.0027974967379122972, -0.009262822568416595, 0.01707509160041809, 0.017558610066771507, -0.014381205663084984, 0.02479756437242031, -0.011024209670722485, 0.03356996178627014, -0.027353301644325256, -0.006337539292871952, 0.011093284003436565, -0.009456230327486992, -0.02669019252061844, -0.025073859840631485, -0.026994118466973305, -0.016729721799492836, 0.016232389956712723, 0.00877239741384983, -0.0215787161141634, -0.021772123873233795, 0.02164779044687748, 0.017558610066771507, -0.010450895875692368, -0.017558610066771507, 0.024756120517849922, 0.0058194841258227825, 0.005111475940793753, 0.004306763876229525, 0.0034001674503087997, -0.01035419199615717, -0.004631411284208298, 0.006413520313799381, 0.003892319742590189, -0.002315705642104149, 0.010105526074767113, -0.0046694022603333, -0.0038266994524747133, -0.0045554302632808685, -0.003964847419410944, -0.006088872905820608, 0.007342565804719925, 0.01122452411800623, -0.009055600501596928, -0.005629530642181635, -0.019893310964107513, 0.011735672131180763, -0.0251981932669878, -0.00539467902854085, 0.046030912548303604, 0.021260976791381836, -0.010561414062976837, 0.004362022969871759, 0.006486048456281424, 0.006185576319694519, -0.0015705699333921075, 0.034758035093545914, 0.00613722437992692, 0.024769935756921768, -0.011590616777539253, 0.03077937290072441, 0.014768020249903202, 0.007093899417668581, -0.014381205663084984, 0.015610722824931145, -0.0006687226123176515, -0.013296743854880333, -0.0024504000321030617, -0.020514976233243942, -0.024604156613349915, -0.005498290061950684, -0.025916563346982002, -0.016190944239497185, 0.0270079318434, 0.01067883986979723, 0.013856243342161179, 0.023485159501433372, 0.01082389522343874, 0.017821090295910835, 0.01671590656042099, -0.010872246697545052, -0.007929694838821888, -0.037659142166376114, 0.01598372310400009, 0.0022846225183457136, 0.0010922325309365988, -0.01566598191857338, -0.011024209670722485, 0.001072373823262751, -0.02508767507970333, -0.027532894164323807, -0.0050942073576152325, -0.026593487709760666, -0.0032810147386044264, 0.02236616052687168, -0.012467856518924236, 0.023982491344213486, -0.02146819792687893, 0.04031158238649368, 0.020805086940526962, 0.02106756903231144, -0.010920599102973938, -0.01805594190955162, -0.012516207993030548, 0.017199425026774406, 0.010899876244366169, -0.009649637155234814, -0.0013944313395768404, -0.011065654456615448, 0.01475420594215393, 0.0048766243271529675, 0.01038872916251421, 0.025695526972413063, -0.006941936444491148, -0.024244973435997963, 0.017793461680412292, -0.0010663297725841403, -0.030226780101656914, -0.01649487018585205, -0.009476952254772186, 0.016439611092209816, -0.012398782186210155, -0.018608534708619118, -0.0248390082269907, 0.0010343830799683928, -0.02327793650329113, -0.02758815325796604, 0.03177403658628464, -0.005111475940793753, 0.0120534123852849, -0.012792504392564297, -0.010547598823904991, -0.035227738320827484, 0.005712419282644987, -0.02738093212246895, 0.0034122553188353777, 0.002500478643923998, -0.017448091879487038, 0.016688277944922447, -0.0015308524016290903, 0.010595951229333878, -0.0022345436736941338, -0.032906852662563324, 0.013828613795340061, 0.004973327741026878, -0.0017216693377122283, -0.02171686477959156, -0.010202229022979736, 0.02709082141518593, -0.008724045939743519, -0.005854021292179823, 0.01216393057256937, -0.02081890217959881, -0.014111817814409733, -0.04920831322669983, -0.016881683841347694, 0.02153727225959301, -0.04340609908103943, 0.030337298288941383, 0.024272602051496506, -0.021744493395090103, -0.00757741741836071, -0.016619203612208366, -0.17716097831726074, 0.013206948526203632, 0.0073149362578988075, -0.012101763859391212, 0.03249240666627884, 0.014125632122159004, 0.03160826116800308, 0.0029598206747323275, -0.007584324572235346, -0.002353696385398507, 0.010160785168409348, -0.013441799208521843, -0.019022978842258453, -0.017130350694060326, -0.019202571362257004, 0.018940089270472527, -0.01515483483672142, 0.01479564979672432, 0.04782683402299881, 0.00906250812113285, 0.026704007759690285, -0.04451128467917442, 0.022614825516939163, 0.03028203919529915, -0.004859355743974447, 0.009905210696160793, -0.008240527473390102, -0.0071629732847213745, -5.3208561439532787e-05, -0.022089863196015358, -0.00541194761171937, 0.0204873476177454, 0.021661605685949326, -0.016743537038564682, 0.025032415986061096, 0.001548984320834279, 0.002239724388346076, 0.0007123255636543036, -0.01885720156133175, 0.0063340854831039906, 0.038957733660936356, 0.0172270555049181, 0.016550129279494286, 0.02226945571601391, -0.027284229174256325, 0.013980576768517494, 0.006047428585588932, -0.02774011716246605, -0.002704246900975704, -0.002921829931437969, 0.014270687475800514, -0.03550403565168381, 0.03274107351899147, 0.01617712900042534, -0.02200697548687458, -0.002847575582563877, 0.017420461401343346, 0.018194090574979782, -0.008005675859749317, -0.0027508719358593225, 0.004196245223283768, 0.006113048642873764, 0.02367856539785862, 0.008993434719741344, -0.007480714004486799, -0.04393106326460838, -0.02465941570699215, 0.01027821097522974, -0.038239363580942154, 0.020611681044101715, -0.011265968903899193, -0.005874743219465017, 0.008212897926568985, 0.0022846225183457136, -0.013759540393948555, 0.01696457341313362, -0.016121869906783104, 0.02167542092502117, 0.0034761489368975163, 0.01689549908041954, 0.006686362903565168, 0.025336341932415962, 0.004545068833976984, 0.00034493827843107283, -0.016522500663995743, -0.0037748939357697964, 0.016591573134064674, 0.009753248654305935, -0.007763917092233896, -0.02305690012872219, 0.0009117767331190407, 0.0010335196275264025, -0.01261981949210167, 0.01997620053589344, -0.01103802490979433, -0.00460378173738718, 0.004956059157848358, -0.008454657159745693, -0.001677634660154581, -0.02059786580502987, 0.0255573783069849, 0.00042933804797939956, -0.02541923150420189, 0.00830269418656826, 0.03898536413908005, 0.019589385017752647, -0.013013540767133236, 0.02454889751970768, 0.04031158238649368, -0.005349780898541212, -0.02269771508872509, 0.024231158196926117, 0.014809465035796165, 0.020639309659600258, 0.002842394867911935, 0.018788127228617668, 0.020335383713245392, -0.02323649264872074, 0.01515483483672142, -0.014022021554410458, 0.05387771874666214, -0.009152304381132126, -0.003168769646435976, 0.005923095159232616, 0.0023692380636930466, -0.020860346034169197, -0.12853288650512695, 0.007881343364715576, 0.008806934580206871, -0.0004429369873832911, 0.014450279995799065, 0.01943742297589779, -0.013856243342161179, 0.013579947873950005, -0.022324714809656143, 0.04520202428102493, -0.018498016521334648, -0.03644344210624695, 0.008489194326102734, -0.012315893545746803, 0.007349473424255848, -0.014671316370368004, 0.026413897052407265, -0.020390642806887627, -0.020335383713245392, 0.017917795106768608, -0.014201614074409008, -0.01366974413394928, 0.010485433042049408, 0.00815763883292675, -0.006403159350156784, 0.0012830494670197368, -0.03285159170627594, 0.005999076645821333, 0.01725468412041664, 0.014533168636262417, -0.006624196190387011, -0.007080084644258022, 0.03680262342095375, -0.03741047531366348, 0.02704937756061554, -0.028403228148818016, -0.005757317412644625, -0.02305690012872219, 0.03312788903713226, -0.013835521414875984, -0.0021084838081151247, 0.015859389677643776, 0.04105758294463158, -0.016342908143997192, -0.0047971890307962894, 0.007349473424255848, -0.02640008181333542, 0.03254766762256622, 0.02204841934144497, -0.011562987230718136, -0.04434550553560257, 0.00668981671333313, -0.029867595061659813, -0.014339761808514595, 0.01089296955615282, -0.006568937096744776, 0.013165503740310669, -0.00042372578172944486, -0.01569361239671707, -0.013697373680770397, 0.004462180193513632, -0.009297359734773636, -0.005857475101947784, -0.013041170313954353, 0.02892819046974182, -0.017171794548630714, -0.0215787161141634, -0.014056557789444923, 0.00028039724566042423, -0.019078237935900688, -0.007225139997899532, 0.029536040499806404, -0.025212008506059647, 0.012972096912562847, -0.009297359734773636, -0.013552318327128887, -0.023954862728714943, -0.005999076645821333, 0.02284967713057995, -0.0047730132937431335, 0.0024745760019868612, -0.007055908907204866, -6.644324912485899e-07, -0.009159212000668049, 0.007363288197666407, -0.009069415740668774, 0.008054028265178204, 0.013690466061234474, -0.0032361166086047888, -0.01751716621220112, -0.007273491937667131, 0.013690466061234474, 0.01863616332411766, 0.020100532099604607, 0.0026092701591551304, -0.010768636129796505, -0.010623580776154995, -0.0050942073576152325, -0.014367391355335712, -0.0010758275166153908, -0.03276870399713516, 0.02196553163230419, -0.05492764338850975, 0.012930652126669884, -0.0063340854831039906, -0.004096087999641895, 0.007915879599750042, -0.005584632512181997, 0.007929694838821888, 0.005805669352412224, -0.023429900407791138, -0.010285117663443089, -0.036388181149959564, 0.020045273005962372, -0.019478866830468178, -0.027615783736109734, 0.00265071471221745, -0.0002739215560723096, -0.0007442723144777119, -0.005498290061950684, 0.005146012641489506, 0.018760496750473976, 0.0248390082269907, -0.012067226693034172, 0.011238339357078075, -0.012868485413491726, -0.00804712064564228, 0.00980850774794817, -0.026151414960622787, 0.019492682069540024, -0.005177095998078585, -0.023830529302358627, 0.005415401421487331, -0.007183695677667856, 0.017130350694060326, 0.0016923128860071301, -0.005646799225360155, 0.005805669352412224, 0.002312252065166831, 0.02577841468155384, 0.001005890080705285, 0.033155519515275955, -0.04235617443919182, -0.014712761156260967, -0.003626384772360325, 0.005111475940793753, -0.0036540143191814423, -0.006078511476516724, -0.0049905963242053986, -0.00341743603348732, 0.0010041631758213043, 0.02787826396524906, 0.009732525795698166, 0.004762651864439249, -0.017903979867696762, -0.028292708098888397, -0.002868297742679715, -0.009476952254772186, 0.0166744627058506, -0.01308952271938324, -0.007881343364715576, -0.011466283351182938, 0.017379017546772957, -0.015707427635788918, 0.024535084143280983, -0.013538503088057041, 0.01838749833405018, -0.03296210989356041, -0.022780604660511017, -0.008406305685639381, 0.002819945802912116, -0.019520310685038567, -0.015596908517181873, -0.012039597146213055, 0.007266584318131208, 0.030254410579800606, 0.0020618587732315063, -0.004092634189873934, 0.005760771222412586, -0.0049905963242053986, -0.02276678942143917, 0.010955135338008404, 0.0015066765481606126, 0.009836137294769287, 0.008744767867028713, 0.01588701829314232, 0.026662562042474747, 0.0014073826605454087, 0.0008673103875480592, -0.002559191547334194, -0.005066577810794115, 0.03111092746257782, 0.019948570057749748, -0.0013072253204882145, 0.010734098963439465, -0.001460051629692316, 0.007038640324026346, 0.01664683222770691, -0.0014479636447504163, 0.010754820890724659, 0.011196894571185112, 0.010837710462510586, -0.005470660515129566, 0.00473156850785017, -0.014256873168051243, -0.016729721799492836, -0.027104636654257774, 0.019879495725035667, -0.005646799225360155, -0.02606852538883686, 0.00437929155305028, 0.020970866084098816, 0.008081657811999321, -0.0015973361441865563, -0.0024624879006296396, 0.01323457807302475, -0.020832717418670654, 0.0032671999651938677, 0.008164546452462673, -0.003224028740078211, -0.008185268379747868, 0.017379017546772957, 0.013172411359846592, -0.002170650288462639, 0.031083298847079277, -0.023623306304216385, 0.03265818580985069, 0.00032939662924036384, 0.010941321030259132, 0.005570817738771439, -0.007674120832234621, -0.020100532099604607, 0.009090137667953968, 0.007936602458357811, -0.007480714004486799, 0.0005007864674553275, 0.00714225135743618, -0.027905894443392754, 0.003044436452910304, 0.03254766762256622, -0.0071698809042572975, 0.0580221563577652, 0.011880727484822273, 0.0040408289059996605, -0.006765797734260559, -0.0011224524350836873, 0.011611338704824448, 0.027574339881539345, -0.024521268904209137, -0.012101763859391212, -0.0344541110098362, 0.0032516582868993282, -0.00801258347928524, 0.010153877548873425, -0.041140470653772354, -0.011784023605287075, -0.0076119545847177505, 0.027242783457040787, 0.048462316393852234, -0.009428600780665874, -0.0007662896532565355, 0.028596634045243263, 0.0201281625777483, 0.020722199231386185, -0.00962891522794962, -0.013434892520308495, -0.004268772900104523, 0.005443030968308449, -0.024631787091493607, -0.0195755697786808, -0.024479825049638748, -0.0017052643233910203, 0.0025471036788076162, -0.05713801085948944, -0.008081657811999321, -0.01071337703615427, -0.0008824202814139426, -0.005221994128078222, -0.013303651474416256, 0.023084528744220734, 0.021620159968733788, -0.011784023605287075, -0.009697988629341125, -0.007487621158361435, -0.03862617909908295, -0.004769559483975172, 0.008371768519282341, -0.019824236631393433, -0.004286041483283043, -0.030696483328938484], metadata={'file_path': '/content/data/paul_graham/paul_graham_essay.txt', 'file_name': 'paul_graham_essay.txt', 'file_type': 'text/plain', 'file_size': 75042, 'creation_date': '2024-10-07', 'last_modified_date': '2024-10-07', 'document_title': 'The Intersection of Art, Technology, and Programming: A Journey from Short Stories to AI and Fine Arts', 'questions_this_excerpt_can_answer': \"1. How did Paul Graham's Summer Founders Program contribute to the success of notable startups like reddit, Twitch, and others?\\n2. What advantages did Paul Graham notice as Y Combinator (YC) grew, particularly in terms of creating a tight-knit community among startup founders?\\n3. How did Paul Graham's involvement in creating Hacker News (HN) impact his work at Y Combinator and contribute to his overall stress levels?\"}, excluded_embed_metadata_keys=['file_name', 'file_type', 'file_size', 'creation_date', 'last_modified_date', 'last_accessed_date'], excluded_llm_metadata_keys=['file_name', 'file_type', 'file_size', 'creation_date', 'last_modified_date', 'last_accessed_date'], relationships={<NodeRelationship.SOURCE: '1'>: RelatedNodeInfo(node_id='78197505-6bc4-4e79-87c9-42ddd4687c33', node_type=<ObjectType.DOCUMENT: '4'>, metadata={'file_path': '/content/data/paul_graham/paul_graham_essay.txt', 'file_name': 'paul_graham_essay.txt', 'file_type': 'text/plain', 'file_size': 75042, 'creation_date': '2024-10-07', 'last_modified_date': '2024-10-07'}, hash='96f60feb6f7aab064fb76a627268cb628e937b8930471477222422257f4920d5'), <NodeRelationship.PREVIOUS: '2'>: RelatedNodeInfo(node_id='f6161fbb-7930-44f2-9249-f3851d66ac00', node_type=<ObjectType.TEXT: '1'>, metadata={'file_path': '/content/data/paul_graham/paul_graham_essay.txt', 'file_name': 'paul_graham_essay.txt', 'file_type': 'text/plain', 'file_size': 75042, 'creation_date': '2024-10-07', 'last_modified_date': '2024-10-07'}, hash='d0e46c5d1df12583278ee235c7a88e65034eb7ad37f246fd7a94c347658e60fb'), <NodeRelationship.NEXT: '3'>: RelatedNodeInfo(node_id='96be82a0-78a0-436f-88d3-8bafb572ed0f', node_type=<ObjectType.TEXT: '1'>, metadata={}, hash='3b09367bab76fbf6224aaf824820ab0e14fddfb4216a9415ae2e737f0089f40f')}, text='They were an impressive group. That first batch included reddit, Justin Kan and Emmett Shear, who went on to found Twitch, Aaron Swartz, who had already helped write the RSS spec and would a few years later become a martyr for open access, and Sam Altman, who would later become the second president of YC. I don\\'t think it was entirely luck that the first batch was so good. You had to be pretty bold to sign up for a weird thing like the Summer Founders Program instead of a summer job at a legit place like Microsoft or Goldman Sachs.\\n\\nThe deal for startups was based on a combination of the deal we did with Julian ($10k for 10%) and what Robert said MIT grad students got for the summer ($6k). We invested $6k per founder, which in the typical two-founder case was $12k, in return for 6%. That had to be fair, because it was twice as good as the deal we ourselves had taken. Plus that first summer, which was really hot, Jessica brought the founders free air conditioners. [16]\\n\\nFairly quickly I realized that we had stumbled upon the way to scale startup funding. Funding startups in batches was more convenient for us, because it meant we could do things for a lot of startups at once, but being part of a batch was better for the startups too. It solved one of the biggest problems faced by founders: the isolation. Now you not only had colleagues, but colleagues who understood the problems you were facing and could tell you how they were solving them.\\n\\nAs YC grew, we started to notice other advantages of scale. The alumni became a tight community, dedicated to helping one another, and especially the current batch, whose shoes they remembered being in. We also noticed that the startups were becoming one another\\'s customers. We used to refer jokingly to the \"YC GDP,\" but as YC grows this becomes less and less of a joke. Now lots of startups get their initial set of customers almost entirely from among their batchmates.\\n\\nI had not originally intended YC to be a full-time job. I was going to do three things: hack, write essays, and work on YC. As YC grew, and I grew more excited about it, it started to take up a lot more than a third of my attention. But for the first few years I was still able to work on other things.\\n\\nIn the summer of 2006, Robert and I started working on a new version of Arc. This one was reasonably fast, because it was compiled into Scheme. To test this new Arc, I wrote Hacker News in it. It was originally meant to be a news aggregator for startup founders and was called Startup News, but after a few months I got tired of reading about nothing but startups. Plus it wasn\\'t startup founders we wanted to reach. It was future startup founders. So I changed the name to Hacker News and the topic to whatever engaged one\\'s intellectual curiosity.\\n\\nHN was no doubt good for YC, but it was also by far the biggest source of stress for me. If all I\\'d had to do was select and help founders, life would have been so easy. And that implies that HN was a mistake. Surely the biggest source of stress in one\\'s work should at least be something close to the core of the work. Whereas I was like someone who was in pain while running a marathon not from the exertion of running, but because I had a blister from an ill-fitting shoe. When I was dealing with some urgent problem during YC, there was about a 60% chance it had to do with HN, and a 40% chance it had do with everything else combined. [17]\\n\\nAs well as HN, I wrote all of YC\\'s internal software in Arc. But while I continued to work a good deal in Arc, I gradually stopped working on Arc, partly because I didn\\'t have time to, and partly because it was a lot less attractive to mess around with the language now that we had all this infrastructure depending on it. So now my three projects were reduced to two: writing essays and working on YC.\\n\\nYC was different from other kinds of work I\\'ve done. Instead of deciding for myself what to work on, the problems came to me. Every 6 months there was a new batch of startups, and their problems, whatever they were, became our problems. It was very engaging work, because their problems were quite varied, and the good founders were very effective. If you were trying to learn the most you could about startups in the shortest possible time, you couldn\\'t have picked a better way to do it.\\n\\nThere were parts of the job I didn\\'t like. Disputes between cofounders, figuring out when people were lying to us, fighting with people who maltreated the startups, and so on. But I worked hard even at', mimetype='text/plain', start_char_idx=53304, end_char_idx=57840, text_template='[Excerpt from document]\\n{metadata_str}\\nExcerpt:\\n-----\\n{content}\\n-----\\n', metadata_template='{key}: {value}', metadata_seperator='\\n'), score=0.016666666666666666), NodeWithScore(node=TextNode(id_='5ae76bb1-8bfb-44dd-b722-d9e45ae39ec2', embedding=None, metadata={'file_path': '/content/data/paul_graham/paul_graham_essay.txt', 'file_name': 'paul_graham_essay.txt', 'file_type': 'text/plain', 'file_size': 75042, 'creation_date': '2024-10-07', 'last_modified_date': '2024-10-07', 'document_title': 'The Intersection of Art, Technology, and Programming: A Journey from Short Stories to AI and Fine Arts', 'questions_this_excerpt_can_answer': \"1. How did the author's experience with teaching himself Lisp and reverse-engineering SHRDLU shape his understanding of artificial intelligence and programming?\\n2. What realization did the author come to during his first year of grad school regarding the limitations of AI as practiced at the time?\\n3. How did the author's decision to focus on Lisp and write a book about Lisp hacking contribute to his career in computer science and programming?\"}, excluded_embed_metadata_keys=['file_name', 'file_type', 'file_size', 'creation_date', 'last_modified_date', 'last_accessed_date'], excluded_llm_metadata_keys=['file_name', 'file_type', 'file_size', 'creation_date', 'last_modified_date', 'last_accessed_date'], relationships={<NodeRelationship.SOURCE: '1'>: RelatedNodeInfo(node_id='78197505-6bc4-4e79-87c9-42ddd4687c33', node_type=<ObjectType.DOCUMENT: '4'>, metadata={'file_path': '/content/data/paul_graham/paul_graham_essay.txt', 'file_name': 'paul_graham_essay.txt', 'file_type': 'text/plain', 'file_size': 75042, 'creation_date': '2024-10-07', 'last_modified_date': '2024-10-07'}, hash='96f60feb6f7aab064fb76a627268cb628e937b8930471477222422257f4920d5'), <NodeRelationship.PREVIOUS: '2'>: RelatedNodeInfo(node_id='f05879e5-6d2e-48ca-8242-ac707c6ac480', node_type=<ObjectType.TEXT: '1'>, metadata={'file_path': '/content/data/paul_graham/paul_graham_essay.txt', 'file_name': 'paul_graham_essay.txt', 'file_type': 'text/plain', 'file_size': 75042, 'creation_date': '2024-10-07', 'last_modified_date': '2024-10-07'}, hash='c5eb3e5cc1ef424f8fc8345aad069c1dafcd1aad20754f0a946f6ee39eb74a1e'), <NodeRelationship.NEXT: '3'>: RelatedNodeInfo(node_id='02a0709f-dffe-46bf-90d0-1dfc41dcfb20', node_type=<ObjectType.TEXT: '1'>, metadata={}, hash='ce3700c5b42ea07568ddf6612162c6d0b878e3a30eeb3238bfeb006b1b1ab99f')}, text='Harsh Mistress, so I don\\'t know how well it has aged, but when I read it I was drawn entirely into its world. It seemed only a matter of time before we\\'d have Mike, and when I saw Winograd using SHRDLU, it seemed like that time would be a few years at most. All you had to do was teach SHRDLU more words.\\n\\nThere weren\\'t any classes in AI at Cornell then, not even graduate classes, so I started trying to teach myself. Which meant learning Lisp, since in those days Lisp was regarded as the language of AI. The commonly used programming languages then were pretty primitive, and programmers\\' ideas correspondingly so. The default language at Cornell was a Pascal-like language called PL/I, and the situation was similar elsewhere. Learning Lisp expanded my concept of a program so fast that it was years before I started to have a sense of where the new limits were. This was more like it; this was what I had expected college to do. It wasn\\'t happening in a class, like it was supposed to, but that was ok. For the next couple years I was on a roll. I knew what I was going to do.\\n\\nFor my undergraduate thesis, I reverse-engineered SHRDLU. My God did I love working on that program. It was a pleasing bit of code, but what made it even more exciting was my belief — hard to imagine now, but not unique in 1985 — that it was already climbing the lower slopes of intelligence.\\n\\nI had gotten into a program at Cornell that didn\\'t make you choose a major. You could take whatever classes you liked, and choose whatever you liked to put on your degree. I of course chose \"Artificial Intelligence.\" When I got the actual physical diploma, I was dismayed to find that the quotes had been included, which made them read as scare-quotes. At the time this bothered me, but now it seems amusingly accurate, for reasons I was about to discover.\\n\\nI applied to 3 grad schools: MIT and Yale, which were renowned for AI at the time, and Harvard, which I\\'d visited because Rich Draves went there, and was also home to Bill Woods, who\\'d invented the type of parser I used in my SHRDLU clone. Only Harvard accepted me, so that was where I went.\\n\\nI don\\'t remember the moment it happened, or if there even was a specific moment, but during the first year of grad school I realized that AI, as practiced at the time, was a hoax. By which I mean the sort of AI in which a program that\\'s told \"the dog is sitting on the chair\" translates this into some formal representation and adds it to the list of things it knows.\\n\\nWhat these programs really showed was that there\\'s a subset of natural language that\\'s a formal language. But a very proper subset. It was clear that there was an unbridgeable gap between what they could do and actually understanding natural language. It was not, in fact, simply a matter of teaching SHRDLU more words. That whole way of doing AI, with explicit data structures representing concepts, was not going to work. Its brokenness did, as so often happens, generate a lot of opportunities to write papers about various band-aids that could be applied to it, but it was never going to get us Mike.\\n\\nSo I looked around to see what I could salvage from the wreckage of my plans, and there was Lisp. I knew from experience that Lisp was interesting for its own sake and not just for its association with AI, even though that was the main reason people cared about it at the time. So I decided to focus on Lisp. In fact, I decided to write a book about Lisp hacking. It\\'s scary to think how little I knew about Lisp hacking when I started writing that book. But there\\'s nothing like writing a book about something to help you learn it. The book, On Lisp, wasn\\'t published till 1993, but I wrote much of it in grad school.\\n\\nComputer Science is an uneasy alliance between two halves, theory and systems. The theory people prove things, and the systems people build things. I wanted to build things. I had plenty of respect for theory — indeed, a sneaking suspicion that it was the more admirable of the two halves — but building things seemed so much more exciting.\\n\\nThe problem with systems work, though, was that it didn\\'t last. Any program you wrote today, no matter how good, would be obsolete in a couple decades at best. People might mention your software in footnotes, but no one would actually use it. And indeed, it would seem very feeble work. Only people with a sense of the history of the field would even realize that, in its time, it had been good.\\n\\nThere were some surplus Xerox Dandelions floating around the computer lab at one point. Anyone who wanted one to play', mimetype='text/plain', start_char_idx=4063, end_char_idx=8642, text_template='[Excerpt from document]\\n{metadata_str}\\nExcerpt:\\n-----\\n{content}\\n-----\\n', metadata_template='{key}: {value}', metadata_seperator='\\n'), score=0.016666666666666666)], metadata={'137d8390-93a1-496e-9c30-1b6651869f5d': {'file_path': '/content/data/paul_graham/paul_graham_essay.txt', 'file_name': 'paul_graham_essay.txt', 'file_type': 'text/plain', 'file_size': 75042, 'creation_date': '2024-10-07', 'last_modified_date': '2024-10-07', 'document_title': 'The Intersection of Art, Technology, and Programming: A Journey from Short Stories to AI and Fine Arts', 'questions_this_excerpt_can_answer': \"1. How did Paul Graham's Summer Founders Program contribute to the success of notable startups like reddit, Twitch, and others?\\n2. What advantages did Paul Graham notice as Y Combinator (YC) grew, particularly in terms of creating a tight-knit community among startup founders?\\n3. How did Paul Graham's involvement in creating Hacker News (HN) impact his work at Y Combinator and contribute to his overall stress levels?\"}, '5ae76bb1-8bfb-44dd-b722-d9e45ae39ec2': {'file_path': '/content/data/paul_graham/paul_graham_essay.txt', 'file_name': 'paul_graham_essay.txt', 'file_type': 'text/plain', 'file_size': 75042, 'creation_date': '2024-10-07', 'last_modified_date': '2024-10-07', 'document_title': 'The Intersection of Art, Technology, and Programming: A Journey from Short Stories to AI and Fine Arts', 'questions_this_excerpt_can_answer': \"1. How did the author's experience with teaching himself Lisp and reverse-engineering SHRDLU shape his understanding of artificial intelligence and programming?\\n2. What realization did the author come to during his first year of grad school regarding the limitations of AI as practiced at the time?\\n3. How did the author's decision to focus on Lisp and write a book about Lisp hacking contribute to his career in computer science and programming?\"}})"
            ]
          },
          "metadata": {},
          "execution_count": 79
        }
      ]
    },
    {
      "cell_type": "code",
      "source": [
        "response_2"
      ],
      "metadata": {
        "colab": {
          "base_uri": "https://localhost:8080/"
        },
        "id": "iW2dG2UGo_b-",
        "outputId": "ffc948f9-94d9-4c21-c2d5-8041fa01afc0"
      },
      "execution_count": 80,
      "outputs": [
        {
          "output_type": "execute_result",
          "data": {
            "text/plain": [
              "Response(response=\"The author applied to MIT, Yale, and Harvard for graduate school. The reason for applying to MIT and Yale was because they were renowned for AI at the time. The reason for applying to Harvard was due to a personal connection with someone who attended the school and because it was home to the inventor of the type of parser used in the author's SHRDLU clone.\", source_nodes=[NodeWithScore(node=TextNode(id_='5ae76bb1-8bfb-44dd-b722-d9e45ae39ec2', embedding=None, metadata={'file_path': '/content/data/paul_graham/paul_graham_essay.txt', 'file_name': 'paul_graham_essay.txt', 'file_type': 'text/plain', 'file_size': 75042, 'creation_date': '2024-10-07', 'last_modified_date': '2024-10-07', 'document_title': 'The Intersection of Art, Technology, and Programming: A Journey from Short Stories to AI and Fine Arts', 'questions_this_excerpt_can_answer': \"1. How did the author's experience with teaching himself Lisp and reverse-engineering SHRDLU shape his understanding of artificial intelligence and programming?\\n2. What realization did the author come to during his first year of grad school regarding the limitations of AI as practiced at the time?\\n3. How did the author's decision to focus on Lisp and write a book about Lisp hacking contribute to his career in computer science and programming?\"}, excluded_embed_metadata_keys=['file_name', 'file_type', 'file_size', 'creation_date', 'last_modified_date', 'last_accessed_date'], excluded_llm_metadata_keys=['file_name', 'file_type', 'file_size', 'creation_date', 'last_modified_date', 'last_accessed_date'], relationships={<NodeRelationship.SOURCE: '1'>: RelatedNodeInfo(node_id='78197505-6bc4-4e79-87c9-42ddd4687c33', node_type=<ObjectType.DOCUMENT: '4'>, metadata={'file_path': '/content/data/paul_graham/paul_graham_essay.txt', 'file_name': 'paul_graham_essay.txt', 'file_type': 'text/plain', 'file_size': 75042, 'creation_date': '2024-10-07', 'last_modified_date': '2024-10-07'}, hash='96f60feb6f7aab064fb76a627268cb628e937b8930471477222422257f4920d5'), <NodeRelationship.PREVIOUS: '2'>: RelatedNodeInfo(node_id='f05879e5-6d2e-48ca-8242-ac707c6ac480', node_type=<ObjectType.TEXT: '1'>, metadata={'file_path': '/content/data/paul_graham/paul_graham_essay.txt', 'file_name': 'paul_graham_essay.txt', 'file_type': 'text/plain', 'file_size': 75042, 'creation_date': '2024-10-07', 'last_modified_date': '2024-10-07'}, hash='c5eb3e5cc1ef424f8fc8345aad069c1dafcd1aad20754f0a946f6ee39eb74a1e'), <NodeRelationship.NEXT: '3'>: RelatedNodeInfo(node_id='02a0709f-dffe-46bf-90d0-1dfc41dcfb20', node_type=<ObjectType.TEXT: '1'>, metadata={}, hash='ce3700c5b42ea07568ddf6612162c6d0b878e3a30eeb3238bfeb006b1b1ab99f')}, text='Harsh Mistress, so I don\\'t know how well it has aged, but when I read it I was drawn entirely into its world. It seemed only a matter of time before we\\'d have Mike, and when I saw Winograd using SHRDLU, it seemed like that time would be a few years at most. All you had to do was teach SHRDLU more words.\\n\\nThere weren\\'t any classes in AI at Cornell then, not even graduate classes, so I started trying to teach myself. Which meant learning Lisp, since in those days Lisp was regarded as the language of AI. The commonly used programming languages then were pretty primitive, and programmers\\' ideas correspondingly so. The default language at Cornell was a Pascal-like language called PL/I, and the situation was similar elsewhere. Learning Lisp expanded my concept of a program so fast that it was years before I started to have a sense of where the new limits were. This was more like it; this was what I had expected college to do. It wasn\\'t happening in a class, like it was supposed to, but that was ok. For the next couple years I was on a roll. I knew what I was going to do.\\n\\nFor my undergraduate thesis, I reverse-engineered SHRDLU. My God did I love working on that program. It was a pleasing bit of code, but what made it even more exciting was my belief — hard to imagine now, but not unique in 1985 — that it was already climbing the lower slopes of intelligence.\\n\\nI had gotten into a program at Cornell that didn\\'t make you choose a major. You could take whatever classes you liked, and choose whatever you liked to put on your degree. I of course chose \"Artificial Intelligence.\" When I got the actual physical diploma, I was dismayed to find that the quotes had been included, which made them read as scare-quotes. At the time this bothered me, but now it seems amusingly accurate, for reasons I was about to discover.\\n\\nI applied to 3 grad schools: MIT and Yale, which were renowned for AI at the time, and Harvard, which I\\'d visited because Rich Draves went there, and was also home to Bill Woods, who\\'d invented the type of parser I used in my SHRDLU clone. Only Harvard accepted me, so that was where I went.\\n\\nI don\\'t remember the moment it happened, or if there even was a specific moment, but during the first year of grad school I realized that AI, as practiced at the time, was a hoax. By which I mean the sort of AI in which a program that\\'s told \"the dog is sitting on the chair\" translates this into some formal representation and adds it to the list of things it knows.\\n\\nWhat these programs really showed was that there\\'s a subset of natural language that\\'s a formal language. But a very proper subset. It was clear that there was an unbridgeable gap between what they could do and actually understanding natural language. It was not, in fact, simply a matter of teaching SHRDLU more words. That whole way of doing AI, with explicit data structures representing concepts, was not going to work. Its brokenness did, as so often happens, generate a lot of opportunities to write papers about various band-aids that could be applied to it, but it was never going to get us Mike.\\n\\nSo I looked around to see what I could salvage from the wreckage of my plans, and there was Lisp. I knew from experience that Lisp was interesting for its own sake and not just for its association with AI, even though that was the main reason people cared about it at the time. So I decided to focus on Lisp. In fact, I decided to write a book about Lisp hacking. It\\'s scary to think how little I knew about Lisp hacking when I started writing that book. But there\\'s nothing like writing a book about something to help you learn it. The book, On Lisp, wasn\\'t published till 1993, but I wrote much of it in grad school.\\n\\nComputer Science is an uneasy alliance between two halves, theory and systems. The theory people prove things, and the systems people build things. I wanted to build things. I had plenty of respect for theory — indeed, a sneaking suspicion that it was the more admirable of the two halves — but building things seemed so much more exciting.\\n\\nThe problem with systems work, though, was that it didn\\'t last. Any program you wrote today, no matter how good, would be obsolete in a couple decades at best. People might mention your software in footnotes, but no one would actually use it. And indeed, it would seem very feeble work. Only people with a sense of the history of the field would even realize that, in its time, it had been good.\\n\\nThere were some surplus Xerox Dandelions floating around the computer lab at one point. Anyone who wanted one to play', mimetype='text/plain', start_char_idx=4063, end_char_idx=8642, text_template='[Excerpt from document]\\n{metadata_str}\\nExcerpt:\\n-----\\n{content}\\n-----\\n', metadata_template='{key}: {value}', metadata_seperator='\\n'), score=0.24625832), NodeWithScore(node=TextNode(id_='137d8390-93a1-496e-9c30-1b6651869f5d', embedding=[0.007004103157669306, -0.0024227704852819443, 0.021302420645952225, -0.03926165774464607, -0.011010395362973213, 0.0172270555049181, -0.018539460375905037, -0.0016448245150968432, -0.024065380915999413, -0.027325673028826714, 0.019009163603186607, 0.006745075806975365, -0.009580562822520733, -0.0037990696728229523, -0.007121528964489698, 0.008523731492459774, 0.022020790725946426, -0.0010896422900259495, -0.0006169171538203955, -0.009007249027490616, -0.0251981932669878, -0.018069757148623466, -0.004051189869642258, 0.006178669165819883, -0.005923095159232616, 0.03387388586997986, 0.03492381423711777, -0.014229243621230125, -0.009366434067487717, -0.0028268531896173954, 0.0195755697786808, 0.007729380391538143, -0.005367049481719732, 0.021081384271383286, -0.02890055999159813, -0.001424651127308607, -0.006030160002410412, 0.006351354066282511, 0.016190944239497185, -0.0058194841258227825, 0.032685816287994385, 0.008585897274315357, -0.015928464010357857, -0.00444145780056715, -0.009276637807488441, -0.0018442757427692413, 0.017461907118558884, -0.024231158196926117, 0.002465941710397601, 0.033846259117126465, 0.017489535734057426, 0.023222677409648895, -0.022062234580516815, 0.00951839704066515, -0.020542606711387634, 0.007197510451078415, 0.01201887521892786, -0.005353234708309174, 0.013870058581233025, 0.012516207993030548, 0.01624620333313942, 0.021039938554167747, 0.005287614185363054, 0.006886677350848913, -0.02294638194143772, -0.0013538503553718328, -0.014961428008973598, 0.0021741040982306004, 0.007114621810615063, -0.011825468391180038, 0.009877581149339676, -0.008834564127027988, 0.006023252382874489, 0.004962966777384281, 0.02461797185242176, 0.011942894198000431, -0.025336341932415962, -0.01892627403140068, -0.017821090295910835, -0.007266584318131208, -0.011231431737542152, 0.0003671714512165636, 0.009504581801593304, 0.00931808166205883, -0.006682909093797207, -0.011846190318465233, 0.0018080119043588638, 0.017461907118558884, -0.016121869906783104, -0.014906167984008789, 0.006776159163564444, 0.037106551229953766, 0.010975858196616173, 0.004154800903052092, -0.006821057293564081, 0.0005543188308365643, -0.007080084644258022, 0.0003706251736730337, 0.004890439100563526, -0.010920599102973938, 0.0033535424154251814, 0.009055600501596928, -0.003591847838833928, -0.028375597670674324, -0.036498699337244034, -0.0056019010953605175, 0.007667213678359985, -0.013186225667595863, 0.011860005557537079, -0.005432670004665852, 0.015900833532214165, 0.002243177965283394, -0.031055668368935585, -0.024341676384210587, -0.029536040499806404, -0.03865380957722664, 0.015458760783076286, -0.023775270208716393, -0.02106756903231144, -0.031746409833431244, 0.02854137495160103, 0.006876316387206316, 0.0013322647428140044, -0.012315893545746803, 0.010637395083904266, 0.023692380636930466, -0.028596634045243263, -0.004852448124438524, 0.020363014191389084, -0.02925974503159523, 0.01198433805257082, 0.007529065478593111, 0.03392914682626724, -0.006230474449694157, -0.03229900076985359, 0.025060046464204788, -0.0015558917075395584, 0.003985569346696138, -0.028845300897955894, -0.03691314533352852, 0.015997538343071938, 0.01758623868227005, -0.00697992742061615, 0.010036451742053032, -0.005474114324897528, 0.030033374205231667, 0.0125990966334939, 0.024769935756921768, 0.01943742297589779, 0.011376487091183662, 0.002384779741987586, 0.003481329418718815, -0.015500204637646675, 0.01245404127985239, 0.00841321237385273, 0.0013003179337829351, 0.008537545800209045, 0.012820133939385414, -0.0022863491903990507, -0.007812269032001495, 0.01439502090215683, 0.023374639451503754, 0.015292982570827007, -0.005626076832413673, -0.006969565991312265, 0.03810121491551399, 0.03868143633008003, -0.005816030316054821, -0.00010782018944155425, -0.021454382687807083, 0.0025453767739236355, 0.011390302330255508, -0.05912734195590019, 0.009725619107484818, 0.015113390050828457, 0.01892627403140068, -0.0009653090965002775, -0.004721207544207573, -0.04003528878092766, -0.03229900076985359, 0.005726234056055546, -0.004835179541260004, 0.027864450588822365, 0.0201281625777483, -0.00544648477807641, -0.010796265676617622, 0.011417931877076626, -0.009456230327486992, -0.006662186700850725, 0.010886061936616898, 0.00510456832125783, 0.0026990664191544056, -0.018981534987688065, -0.0130549855530262, -0.6379121541976929, -0.027601968497037888, 0.015403500758111477, -0.012005060911178589, 0.0005426625721156597, -0.006151039153337479, 0.018829571083188057, 0.014146354049444199, -0.009601285681128502, 0.02727041393518448, -0.004634865093976259, 0.012626726180315018, 0.013690466061234474, -0.005453391931951046, 0.002987450221553445, -0.017973054200410843, 0.03633292019367218, -0.01856709085404873, 0.012626726180315018, 0.013186225667595863, -0.028486115857958794, 0.007881343364715576, 0.000982577563263476, -0.002281168708577752, 0.0003760215768124908, 0.041168101131916046, 0.0027871357742697, -0.01823553442955017, -0.011134727858006954, 0.01863616332411766, -0.030116261914372444, 0.017738202586770058, 0.008019491098821163, 0.002063585678115487, 0.05188838765025139, 0.005235808901488781, -0.011756394058465958, 0.012875393033027649, 0.030613595619797707, 0.04017343744635582, -0.031746409833431244, -0.01794542372226715, 0.01711653545498848, 0.0029460059013217688, 0.002952913288027048, 0.002054951386526227, 0.019755162298679352, 0.0008379539358429611, -0.011176172643899918, -0.00528416084125638, -0.004071912262588739, -0.0004109902656637132, -0.014339761808514595, 0.003533134935423732, -0.0011043205158784986, -0.010962042957544327, 0.007014464121311903, -0.01609424129128456, -0.016909314319491386, 0.0008819886134006083, -0.005180549807846546, 0.02892819046974182, -0.03788017854094505, -0.008848379366099834, -0.010706469416618347, 0.00042869048775173724, -0.0035676718689501286, -0.002683524740859866, 0.014312132261693478, 0.004261865746229887, 0.014477909542620182, 0.03403966501355171, -0.015900833532214165, -0.004372383933514357, -0.0008763763471506536, 0.019244015216827393, 0.034564629197120667, -0.01303426269441843, -0.00681760348379612, 0.016743537038564682, 0.00029140591504983604, -0.007743195164948702, -0.008074750192463398, 0.0025850944221019745, 0.002901107771322131, -0.004679763223975897, -0.03415018320083618, 0.0018097386928275228, 0.005816030316054821, -0.02323649264872074, -0.017627684399485588, 0.006762344390153885, -0.010761728510260582, -0.01863616332411766, 0.008150731213390827, 0.01852564513683319, 0.008634249679744244, 0.012081041932106018, 0.025695526972413063, -0.04511913284659386, -0.0015533014666289091, -0.01370428130030632, 0.027574339881539345, -0.015486390329897404, 0.019161125645041466, 0.011445561423897743, 0.015472575090825558, 0.004842087160795927, 0.02153727225959301, -0.026897413656115532, 0.00046711289905942976, -0.0037127272225916386, -0.018221721053123474, -0.00293219112791121, -0.003149774158373475, -0.021343864500522614, 0.02070838399231434, -0.0018753589829429984, 0.0021982798352837563, -0.0016517319018021226, 0.011590616777539253, -0.009435507468879223, -0.007080084644258022, -0.011500820517539978, 0.017793461680412292, 0.0060681505128741264, 0.006265011616051197, -0.025350157171487808, -0.03428833186626434, 0.016411980614066124, -0.009753248654305935, -0.010153877548873425, 0.02523963898420334, -0.021343864500522614, -0.006389344576746225, 0.005163281224668026, -0.0050631240010261536, -0.01378026232123375, 0.018649978563189507, -0.03555929288268089, -0.03149774298071861, -0.019948570057749748, 0.020211052149534225, 0.008406305685639381, -0.01772438734769821, -0.007093899417668581, 0.0055293734185397625, -0.008951989933848381, -0.013151688501238823, -0.0044759949669241905, 0.003046163124963641, -0.005581178702414036, -0.02211749367415905, 0.023305566981434822, -0.007908972911536694, -0.006151039153337479, -0.0027733210008591413, -0.03876432776451111, -0.017392832785844803, -0.03970373421907425, -0.009746341034770012, 0.044290244579315186, -0.017102722078561783, -0.007881343364715576, -0.019133497029542923, 0.0018321877578273416, 0.002490117447450757, 0.017130350694060326, -0.006309909746050835, -0.01276487484574318, 0.012985911220312119, -0.0007762190070934594, -0.010816987603902817, 0.0003626384714152664, 0.00019642917322926223, 0.03169114887714386, -0.013020448386669159, -0.003262019483372569, -0.009539118967950344, 0.0024521269369870424, -0.01125906128436327, 0.012785596773028374, 0.017061276361346245, -0.022393789142370224, 0.010796265676617622, -0.0007818312733434141, 0.015279168263077736, 0.013130966573953629, 0.003678190289065242, 0.008654971607029438, -0.0008345002424903214, 0.0009635822498239577, -0.0065827518701553345, 0.00786752812564373, 0.006886677350848913, -0.006717446260154247, 0.0038508751895278692, 0.0035883940290659666, -0.008634249679744244, 0.012122486717998981, -0.004451819229871035, 0.012536929920315742, 0.023084528744220734, -0.020514976233243942, 0.010395636782050133, -0.03271344304084778, -0.003369084093719721, -0.01508576050400734, 0.013497059233486652, -0.013676650822162628, -0.007390917744487524, 0.0038163382560014725, -0.01758623868227005, -0.0344541110098362, 0.0005072621861472726, 0.003978662192821503, -0.025253452360630035, 0.02798878401517868, -0.03561455383896828, 0.008965804241597652, -0.007915879599750042, 0.007660306058824062, 0.0004207038145978004, -0.024590343236923218, 0.014187798835337162, 0.02581986039876938, 0.002013507066294551, -0.0011164085008203983, -0.0027940431609749794, -0.03354233130812645, 0.000497764500323683, 0.02334701083600521, 0.0034865099005401134, 0.0177658312022686, 0.03218848258256912, 0.01588701829314232, 0.03252003714442253, -0.021951716393232346, 0.04445602372288704, -0.006907399743795395, 0.005871289875358343, 0.026704007759690285, 0.011860005557537079, -0.006769251544028521, 0.012046504765748978, -0.010879154317080975, 0.03365284949541092, -0.007280399091541767, 0.0003004718746524304, 0.019658459350466728, 0.0046694022603333, -0.0014427830465137959, 0.014768020249903202, -0.011189986951649189, 0.021233346313238144, -0.003120417706668377, 0.009760155342519283, 0.0074530839920043945, 0.02309834398329258, 0.025640267878770828, -0.01747572049498558, 0.007535973098129034, -0.006303002126514912, 0.0012390147894620895, -0.009925933554768562, -0.00964272953569889, -0.005615715868771076, -0.008406305685639381, -0.025723155587911606, -0.024314045906066895, 0.008143824525177479, -0.02879004180431366, 0.006247743032872677, 0.008212897926568985, 0.01007789559662342, 0.027353301644325256, 0.020653124898672104, -0.006420427933335304, -0.012170838192105293, 0.008385582827031612, -0.039178770035505295, -0.02001764439046383, 0.019230199977755547, 6.383948493748903e-05, 0.0019461598712950945, -0.002552284160628915, 0.01504431664943695, 0.0028233996126800776, 0.012460948899388313, -0.0019133497262373567, -0.009801600128412247, -0.006451511289924383, -0.016038982197642326, -0.0036712829023599625, -0.004341300576925278, -0.0013046350795775652, 0.025612637400627136, -0.01928545907139778, -0.0013365817721933126, -0.009442415088415146, -0.004507078323513269, 0.01201887521892786, -0.021564900875091553, -0.004873170517385006, 0.04373765364289284, -0.016149500384926796, -0.017351387068629265, -0.013766447082161903, -0.012612911872565746, -0.01125906128436327, 0.028872929513454437, 0.0007585188141092658, -0.0023606037721037865, 0.02385815791785717, 0.014381205663084984, -0.003317278577014804, 0.02294638194143772, 0.002697339514270425, 0.021564900875091553, 0.009324989281594753, -0.01588701829314232, -0.012550745159387589, -0.04119573161005974, 0.01407037302851677, 0.10875009745359421, 0.04357187822461128, -0.029315004125237465, 0.023775270208716393, -0.012509300373494625, 0.0006523175397887826, -0.0063340854831039906, -0.03492381423711777, 0.017268499359488487, -0.01816646009683609, 0.02389960177242756, -0.0017993776127696037, 0.023761454969644547, 0.010955135338008404, 0.022435234859585762, 0.00036112748784944415, -0.011853097938001156, -0.01838749833405018, 0.0019582477398216724, -0.00586438225582242, 0.012467856518924236, 0.003895773319527507, 0.005926548969000578, 0.036747366189956665, 0.011058746837079525, 0.0024124092888087034, 0.042908765375614166, 0.008067842572927475, 0.014892353676259518, -0.02131623588502407, -0.00859280489385128, -0.0066552795469760895, 0.023871973156929016, 0.0027715940959751606, -0.008316509425640106, 0.01303426269441843, 0.0035573109053075314, 0.023512788116931915, 0.005916187539696693, -0.007998769171535969, 0.0025039324536919594, 0.020874161273241043, 0.012751059606671333, -0.020901791751384735, -0.005843659862875938, -0.008682601153850555, -0.008862193673849106, 0.027146080508828163, -0.012681985273957253, -0.017821090295910835, -0.0038888659328222275, 0.001047334517352283, -0.0384327732026577, -0.0066483719274401665, -0.0038128846790641546, -0.008965804241597652, 0.023692380636930466, 0.001750162336975336, -0.005373957101255655, -0.010692654177546501, -0.0017631137743592262, -0.04288113862276077, 0.002013507066294551, -0.01125906128436327, 0.009269730187952518, -0.0233884546905756, -0.015817945823073387, -0.005660613998770714, -0.0023519694805145264, 0.008696416392922401, -0.01588701829314232, -0.015210093930363655, -0.03544877469539642, 0.0002950754715129733, 0.03439885005354881, 0.011058746837079525, 0.017530979588627815, 0.0010205683065578341, -0.005688243545591831, 0.00018757907673716545, -0.0037610791623592377, -0.023540418595075607, 0.0035262275487184525, -0.014270687475800514, 0.002559191547334194, -0.003116964129731059, -0.02030775509774685, -0.0035642182920128107, -0.0130549855530262, 0.00292355683632195, -0.0027128811925649643, 0.0036298385821282864, -0.016453426331281662, -0.03415018320083618, 0.018180275335907936, 0.01439502090215683, -0.004065004643052816, 0.008931268006563187, 0.01852564513683319, -0.031138557940721512, 0.0057469564490020275, -0.012557652778923512, -0.026565859094262123, -0.010651210322976112, -0.01602516695857048, 0.011210709810256958, 0.0174066461622715, 0.013469429686665535, -0.016702093183994293, -0.005605354905128479, 0.026773080229759216, -0.023043084889650345, 0.005840206518769264, 0.012827040627598763, 0.011998153291642666, 0.019768977537751198, 0.006579298060387373, 0.022172752767801285, 0.0028579365462064743, -0.008572082966566086, -0.013110244646668434, -0.04456654191017151, 0.03368047997355461, 0.01718560978770256, -0.017917795106768608, 0.006499863229691982, 0.006144131999462843, -0.025446860119700432, -0.019092053174972534, -0.012827040627598763, -0.02294638194143772, 0.02287730760872364, -0.017240868881344795, -0.013407262973487377, -0.03403966501355171, -0.01635672152042389, -0.030033374205231667, 0.01234352309256792, -0.00937334168702364, 0.009539118967950344, -0.012723430059850216, -0.004337846767157316, -0.006541307549923658, -0.033956777304410934, 0.006265011616051197, -0.03608425706624985, -0.01990712620317936, -0.0001525024272268638, 0.028016412630677223, 0.025474490597844124, 0.01245404127985239, 0.007280399091541767, -0.01925783045589924, -0.011569893918931484, -0.01111400593072176, -0.03006100282073021, 0.00542921619489789, -0.004710846580564976, 0.0362500324845314, 0.013386540114879608, 0.025101490318775177, 0.008509916253387928, 0.02349897287786007, 0.01508576050400734, 0.00922828633338213, 0.008606620132923126, -0.006562029477208853, 0.001652595354244113, 7.679085683776066e-05, 0.025985637679696083, 0.00891745276749134, 0.017669128254055977, 0.007466898765414953, -0.004786828067153692, 0.014325946569442749, 0.028651893138885498, -0.019589385017752647, 0.005771132186055183, -0.011424838565289974, -0.05122527480125427, -0.013538503088057041, 0.022034604102373123, -0.007225139997899532, -0.005170188844203949, -0.021730680018663406, -0.001725123031064868, 0.011770209297537804, -0.0032067601568996906, 0.0208465326577425, -0.01580413058400154, 0.019382163882255554, -0.00033781499951146543, -0.013476336374878883, 0.016260018572211266, 0.012281356379389763, -0.011645875871181488, 0.004534707870334387, -0.04274298995733261, 0.004921522457152605, 0.026496784761548042, 0.0012321074027568102, 0.02052879147231579, 0.005273799411952496, -0.03216085210442543, -0.010775543749332428, 0.0041789766401052475, -0.03202270343899727, -0.005760771222412586, 0.022531937807798386, -0.011632060632109642, 0.005135651677846909, -0.00668981671333313, -0.010160785168409348, 0.0037990696728229523, -0.0139598548412323, -0.019934754818677902, 0.02211749367415905, 0.0015438038390129805, -0.012108671478927135, -0.012191560119390488, -0.0015783407725393772, -0.01107946876436472, 0.051280535757541656, 0.0010706469183787704, 0.018069757148623466, 0.003830153029412031, 0.025032415986061096, 0.006054335739463568, 0.010126248002052307, -0.004579606000334024, -0.0008301830966956913, 0.02816837653517723, 0.024410750716924667, -0.019948570057749748, 0.01479564979672432, -0.013987484388053417, -0.0062132058665156364, -0.016577759757637978, -0.02291875146329403, 0.007404732517898083, 0.011231431737542152, -0.0015040863072499633, -0.0016085606766864657, -0.019133497029542923, -0.022960197180509567, 0.003909588325768709, 0.012115579098463058, 0.020211052149534225, -0.00613722437992692, -0.019409792497754097, -0.014726576395332813, 0.013870058581233025, 0.01154917199164629, 0.023222677409648895, 0.016757352277636528, -0.004969873931258917, -0.02146819792687893, -0.028845300897955894, 0.005045855417847633, 0.01660538837313652, -0.0059645394794642925, 0.014491724781692028, -0.024535084143280983, 0.013227670453488827, 0.016398167237639427, 0.009034878574311733, -0.001449690549634397, -0.010989672504365444, 0.006468779873102903, 0.03042018786072731, 0.004527800250798464, -0.005909280385822058, -0.00308588077314198, 0.0009514943230897188, 0.01950649730861187, -0.016411980614066124, 0.008247435092926025, -0.0029080151580274105, -0.024935713037848473, -0.015942277386784554, 0.02682833932340145, 0.005204725544899702, -0.010250581428408623, 0.018884830176830292, 0.013586855493485928, -0.00772247277200222, 0.007998769171535969, -0.008979619480669498, 0.009186841547489166, -0.034205444157123566, -0.009801600128412247, -0.022103678435087204, -0.002217275323346257, 0.0006095780408941209, -0.0020998495165258646, 0.007729380391538143, -0.008060934953391552, 0.008019491098821163, -0.002942552324384451, 0.018373683094978333, -0.0006605201051570475, 0.011480098590254784, -0.03218848258256912, 0.027781561017036438, -0.012965189293026924, -0.025170564651489258, 0.04343372955918312, -0.01830460876226425, -0.031746409833431244, -0.00015746711869724095, 0.012723430059850216, 0.03166351839900017, -0.0016862689517438412, -0.003947578836232424, 0.004956059157848358, 0.02914922684431076, -0.008005675859749317, -0.011100191622972488, -0.0208465326577425, -0.018649978563189507, -0.014312132261693478, -0.011735672131180763, 0.006251196842640638, -0.009394063614308834, 0.008330323733389378, -0.0014358756598085165, 0.03539351746439934, 0.008323416113853455, -0.04558883607387543, 0.011756394058465958, 0.008357953280210495, 0.003933764062821865, 0.010996580123901367, 0.011424838565289974, -0.008634249679744244, -0.024756120517849922, -0.029342632740736008, 0.006123409606516361, 0.014961428008973598, -0.005422308575361967, -0.0022656270302832127, 0.02160634659230709, -0.01256455946713686, 0.016909314319491386, 0.00026615074602887034, -0.011024209670722485, -0.021385308355093002, 0.001735484111122787, -0.043240319937467575, -0.0033328202553093433, -0.005132197868078947, 0.05362905189394951, 0.00951839704066515, -0.01194980088621378, -0.03285159170627594, -0.025225823745131493, -0.044980987906455994, -0.024162083864212036, 0.007080084644258022, 0.001909896032884717, 0.02167542092502117, -0.0015438038390129805, -0.01129359845072031, 0.020722199231386185, -0.03412255272269249, -0.00028773635858669877, 0.00714225135743618, -0.008841471746563911, 0.014381205663084984, -0.005498290061950684, 0.02738093212246895, -0.012094857171177864, -0.025253452360630035, -0.0005361869116313756, 0.010658117942512035, -0.000499923073220998, -0.018953904509544373, 0.012771781533956528, 0.015196278691291809, 0.017641497775912285, 0.0177658312022686, -0.009456230327486992, 0.007908972911536694, 0.007694843225181103, -0.0007170744356699288, -0.03683025389909744, -0.031414855271577835, 0.00873786024749279, -0.012868485413491726, -0.016411980614066124, 0.003933764062821865, -0.014367391355335712, 0.0009014156530611217, 0.004237689543515444, 0.002345062093809247, -0.018622349947690964, -2.1275331164360978e-05, 0.007480714004486799, 0.0333489254117012, -0.00035594694782048464, 0.004085727035999298, 0.02593037858605385, 0.038488030433654785, -0.005822937935590744, -0.015583093278110027, 0.019644644111394882, 0.011417931877076626, -0.003550403518602252, 0.006199391093105078, -0.02698030322790146, -0.0005379137583076954, 0.007922787219285965, 0.040560249239206314, -0.007073177024722099, -0.005494836252182722, -0.013137874193489552, -0.010720284655690193, -0.0018667246913537383, 0.02218656800687313, 0.003160135354846716, 0.004817911423742771, 0.014408835209906101, -0.015141019597649574, -0.0038370604161173105, 0.007915879599750042, -0.024852823466062546, -0.012184652499854565, -0.02389960177242756, 0.013911502435803413, 0.024424565955996513, -0.00015239451022353023, -0.010084803216159344, -0.019423607736825943, 0.04793735221028328, -0.030503077432513237, -0.00948385987430811, 0.22181041538715363, -0.0030029918998479843, -0.0027819552924484015, 0.011645875871181488, -0.0027974967379122972, -0.009262822568416595, 0.01707509160041809, 0.017558610066771507, -0.014381205663084984, 0.02479756437242031, -0.011024209670722485, 0.03356996178627014, -0.027353301644325256, -0.006337539292871952, 0.011093284003436565, -0.009456230327486992, -0.02669019252061844, -0.025073859840631485, -0.026994118466973305, -0.016729721799492836, 0.016232389956712723, 0.00877239741384983, -0.0215787161141634, -0.021772123873233795, 0.02164779044687748, 0.017558610066771507, -0.010450895875692368, -0.017558610066771507, 0.024756120517849922, 0.0058194841258227825, 0.005111475940793753, 0.004306763876229525, 0.0034001674503087997, -0.01035419199615717, -0.004631411284208298, 0.006413520313799381, 0.003892319742590189, -0.002315705642104149, 0.010105526074767113, -0.0046694022603333, -0.0038266994524747133, -0.0045554302632808685, -0.003964847419410944, -0.006088872905820608, 0.007342565804719925, 0.01122452411800623, -0.009055600501596928, -0.005629530642181635, -0.019893310964107513, 0.011735672131180763, -0.0251981932669878, -0.00539467902854085, 0.046030912548303604, 0.021260976791381836, -0.010561414062976837, 0.004362022969871759, 0.006486048456281424, 0.006185576319694519, -0.0015705699333921075, 0.034758035093545914, 0.00613722437992692, 0.024769935756921768, -0.011590616777539253, 0.03077937290072441, 0.014768020249903202, 0.007093899417668581, -0.014381205663084984, 0.015610722824931145, -0.0006687226123176515, -0.013296743854880333, -0.0024504000321030617, -0.020514976233243942, -0.024604156613349915, -0.005498290061950684, -0.025916563346982002, -0.016190944239497185, 0.0270079318434, 0.01067883986979723, 0.013856243342161179, 0.023485159501433372, 0.01082389522343874, 0.017821090295910835, 0.01671590656042099, -0.010872246697545052, -0.007929694838821888, -0.037659142166376114, 0.01598372310400009, 0.0022846225183457136, 0.0010922325309365988, -0.01566598191857338, -0.011024209670722485, 0.001072373823262751, -0.02508767507970333, -0.027532894164323807, -0.0050942073576152325, -0.026593487709760666, -0.0032810147386044264, 0.02236616052687168, -0.012467856518924236, 0.023982491344213486, -0.02146819792687893, 0.04031158238649368, 0.020805086940526962, 0.02106756903231144, -0.010920599102973938, -0.01805594190955162, -0.012516207993030548, 0.017199425026774406, 0.010899876244366169, -0.009649637155234814, -0.0013944313395768404, -0.011065654456615448, 0.01475420594215393, 0.0048766243271529675, 0.01038872916251421, 0.025695526972413063, -0.006941936444491148, -0.024244973435997963, 0.017793461680412292, -0.0010663297725841403, -0.030226780101656914, -0.01649487018585205, -0.009476952254772186, 0.016439611092209816, -0.012398782186210155, -0.018608534708619118, -0.0248390082269907, 0.0010343830799683928, -0.02327793650329113, -0.02758815325796604, 0.03177403658628464, -0.005111475940793753, 0.0120534123852849, -0.012792504392564297, -0.010547598823904991, -0.035227738320827484, 0.005712419282644987, -0.02738093212246895, 0.0034122553188353777, 0.002500478643923998, -0.017448091879487038, 0.016688277944922447, -0.0015308524016290903, 0.010595951229333878, -0.0022345436736941338, -0.032906852662563324, 0.013828613795340061, 0.004973327741026878, -0.0017216693377122283, -0.02171686477959156, -0.010202229022979736, 0.02709082141518593, -0.008724045939743519, -0.005854021292179823, 0.01216393057256937, -0.02081890217959881, -0.014111817814409733, -0.04920831322669983, -0.016881683841347694, 0.02153727225959301, -0.04340609908103943, 0.030337298288941383, 0.024272602051496506, -0.021744493395090103, -0.00757741741836071, -0.016619203612208366, -0.17716097831726074, 0.013206948526203632, 0.0073149362578988075, -0.012101763859391212, 0.03249240666627884, 0.014125632122159004, 0.03160826116800308, 0.0029598206747323275, -0.007584324572235346, -0.002353696385398507, 0.010160785168409348, -0.013441799208521843, -0.019022978842258453, -0.017130350694060326, -0.019202571362257004, 0.018940089270472527, -0.01515483483672142, 0.01479564979672432, 0.04782683402299881, 0.00906250812113285, 0.026704007759690285, -0.04451128467917442, 0.022614825516939163, 0.03028203919529915, -0.004859355743974447, 0.009905210696160793, -0.008240527473390102, -0.0071629732847213745, -5.3208561439532787e-05, -0.022089863196015358, -0.00541194761171937, 0.0204873476177454, 0.021661605685949326, -0.016743537038564682, 0.025032415986061096, 0.001548984320834279, 0.002239724388346076, 0.0007123255636543036, -0.01885720156133175, 0.0063340854831039906, 0.038957733660936356, 0.0172270555049181, 0.016550129279494286, 0.02226945571601391, -0.027284229174256325, 0.013980576768517494, 0.006047428585588932, -0.02774011716246605, -0.002704246900975704, -0.002921829931437969, 0.014270687475800514, -0.03550403565168381, 0.03274107351899147, 0.01617712900042534, -0.02200697548687458, -0.002847575582563877, 0.017420461401343346, 0.018194090574979782, -0.008005675859749317, -0.0027508719358593225, 0.004196245223283768, 0.006113048642873764, 0.02367856539785862, 0.008993434719741344, -0.007480714004486799, -0.04393106326460838, -0.02465941570699215, 0.01027821097522974, -0.038239363580942154, 0.020611681044101715, -0.011265968903899193, -0.005874743219465017, 0.008212897926568985, 0.0022846225183457136, -0.013759540393948555, 0.01696457341313362, -0.016121869906783104, 0.02167542092502117, 0.0034761489368975163, 0.01689549908041954, 0.006686362903565168, 0.025336341932415962, 0.004545068833976984, 0.00034493827843107283, -0.016522500663995743, -0.0037748939357697964, 0.016591573134064674, 0.009753248654305935, -0.007763917092233896, -0.02305690012872219, 0.0009117767331190407, 0.0010335196275264025, -0.01261981949210167, 0.01997620053589344, -0.01103802490979433, -0.00460378173738718, 0.004956059157848358, -0.008454657159745693, -0.001677634660154581, -0.02059786580502987, 0.0255573783069849, 0.00042933804797939956, -0.02541923150420189, 0.00830269418656826, 0.03898536413908005, 0.019589385017752647, -0.013013540767133236, 0.02454889751970768, 0.04031158238649368, -0.005349780898541212, -0.02269771508872509, 0.024231158196926117, 0.014809465035796165, 0.020639309659600258, 0.002842394867911935, 0.018788127228617668, 0.020335383713245392, -0.02323649264872074, 0.01515483483672142, -0.014022021554410458, 0.05387771874666214, -0.009152304381132126, -0.003168769646435976, 0.005923095159232616, 0.0023692380636930466, -0.020860346034169197, -0.12853288650512695, 0.007881343364715576, 0.008806934580206871, -0.0004429369873832911, 0.014450279995799065, 0.01943742297589779, -0.013856243342161179, 0.013579947873950005, -0.022324714809656143, 0.04520202428102493, -0.018498016521334648, -0.03644344210624695, 0.008489194326102734, -0.012315893545746803, 0.007349473424255848, -0.014671316370368004, 0.026413897052407265, -0.020390642806887627, -0.020335383713245392, 0.017917795106768608, -0.014201614074409008, -0.01366974413394928, 0.010485433042049408, 0.00815763883292675, -0.006403159350156784, 0.0012830494670197368, -0.03285159170627594, 0.005999076645821333, 0.01725468412041664, 0.014533168636262417, -0.006624196190387011, -0.007080084644258022, 0.03680262342095375, -0.03741047531366348, 0.02704937756061554, -0.028403228148818016, -0.005757317412644625, -0.02305690012872219, 0.03312788903713226, -0.013835521414875984, -0.0021084838081151247, 0.015859389677643776, 0.04105758294463158, -0.016342908143997192, -0.0047971890307962894, 0.007349473424255848, -0.02640008181333542, 0.03254766762256622, 0.02204841934144497, -0.011562987230718136, -0.04434550553560257, 0.00668981671333313, -0.029867595061659813, -0.014339761808514595, 0.01089296955615282, -0.006568937096744776, 0.013165503740310669, -0.00042372578172944486, -0.01569361239671707, -0.013697373680770397, 0.004462180193513632, -0.009297359734773636, -0.005857475101947784, -0.013041170313954353, 0.02892819046974182, -0.017171794548630714, -0.0215787161141634, -0.014056557789444923, 0.00028039724566042423, -0.019078237935900688, -0.007225139997899532, 0.029536040499806404, -0.025212008506059647, 0.012972096912562847, -0.009297359734773636, -0.013552318327128887, -0.023954862728714943, -0.005999076645821333, 0.02284967713057995, -0.0047730132937431335, 0.0024745760019868612, -0.007055908907204866, -6.644324912485899e-07, -0.009159212000668049, 0.007363288197666407, -0.009069415740668774, 0.008054028265178204, 0.013690466061234474, -0.0032361166086047888, -0.01751716621220112, -0.007273491937667131, 0.013690466061234474, 0.01863616332411766, 0.020100532099604607, 0.0026092701591551304, -0.010768636129796505, -0.010623580776154995, -0.0050942073576152325, -0.014367391355335712, -0.0010758275166153908, -0.03276870399713516, 0.02196553163230419, -0.05492764338850975, 0.012930652126669884, -0.0063340854831039906, -0.004096087999641895, 0.007915879599750042, -0.005584632512181997, 0.007929694838821888, 0.005805669352412224, -0.023429900407791138, -0.010285117663443089, -0.036388181149959564, 0.020045273005962372, -0.019478866830468178, -0.027615783736109734, 0.00265071471221745, -0.0002739215560723096, -0.0007442723144777119, -0.005498290061950684, 0.005146012641489506, 0.018760496750473976, 0.0248390082269907, -0.012067226693034172, 0.011238339357078075, -0.012868485413491726, -0.00804712064564228, 0.00980850774794817, -0.026151414960622787, 0.019492682069540024, -0.005177095998078585, -0.023830529302358627, 0.005415401421487331, -0.007183695677667856, 0.017130350694060326, 0.0016923128860071301, -0.005646799225360155, 0.005805669352412224, 0.002312252065166831, 0.02577841468155384, 0.001005890080705285, 0.033155519515275955, -0.04235617443919182, -0.014712761156260967, -0.003626384772360325, 0.005111475940793753, -0.0036540143191814423, -0.006078511476516724, -0.0049905963242053986, -0.00341743603348732, 0.0010041631758213043, 0.02787826396524906, 0.009732525795698166, 0.004762651864439249, -0.017903979867696762, -0.028292708098888397, -0.002868297742679715, -0.009476952254772186, 0.0166744627058506, -0.01308952271938324, -0.007881343364715576, -0.011466283351182938, 0.017379017546772957, -0.015707427635788918, 0.024535084143280983, -0.013538503088057041, 0.01838749833405018, -0.03296210989356041, -0.022780604660511017, -0.008406305685639381, 0.002819945802912116, -0.019520310685038567, -0.015596908517181873, -0.012039597146213055, 0.007266584318131208, 0.030254410579800606, 0.0020618587732315063, -0.004092634189873934, 0.005760771222412586, -0.0049905963242053986, -0.02276678942143917, 0.010955135338008404, 0.0015066765481606126, 0.009836137294769287, 0.008744767867028713, 0.01588701829314232, 0.026662562042474747, 0.0014073826605454087, 0.0008673103875480592, -0.002559191547334194, -0.005066577810794115, 0.03111092746257782, 0.019948570057749748, -0.0013072253204882145, 0.010734098963439465, -0.001460051629692316, 0.007038640324026346, 0.01664683222770691, -0.0014479636447504163, 0.010754820890724659, 0.011196894571185112, 0.010837710462510586, -0.005470660515129566, 0.00473156850785017, -0.014256873168051243, -0.016729721799492836, -0.027104636654257774, 0.019879495725035667, -0.005646799225360155, -0.02606852538883686, 0.00437929155305028, 0.020970866084098816, 0.008081657811999321, -0.0015973361441865563, -0.0024624879006296396, 0.01323457807302475, -0.020832717418670654, 0.0032671999651938677, 0.008164546452462673, -0.003224028740078211, -0.008185268379747868, 0.017379017546772957, 0.013172411359846592, -0.002170650288462639, 0.031083298847079277, -0.023623306304216385, 0.03265818580985069, 0.00032939662924036384, 0.010941321030259132, 0.005570817738771439, -0.007674120832234621, -0.020100532099604607, 0.009090137667953968, 0.007936602458357811, -0.007480714004486799, 0.0005007864674553275, 0.00714225135743618, -0.027905894443392754, 0.003044436452910304, 0.03254766762256622, -0.0071698809042572975, 0.0580221563577652, 0.011880727484822273, 0.0040408289059996605, -0.006765797734260559, -0.0011224524350836873, 0.011611338704824448, 0.027574339881539345, -0.024521268904209137, -0.012101763859391212, -0.0344541110098362, 0.0032516582868993282, -0.00801258347928524, 0.010153877548873425, -0.041140470653772354, -0.011784023605287075, -0.0076119545847177505, 0.027242783457040787, 0.048462316393852234, -0.009428600780665874, -0.0007662896532565355, 0.028596634045243263, 0.0201281625777483, 0.020722199231386185, -0.00962891522794962, -0.013434892520308495, -0.004268772900104523, 0.005443030968308449, -0.024631787091493607, -0.0195755697786808, -0.024479825049638748, -0.0017052643233910203, 0.0025471036788076162, -0.05713801085948944, -0.008081657811999321, -0.01071337703615427, -0.0008824202814139426, -0.005221994128078222, -0.013303651474416256, 0.023084528744220734, 0.021620159968733788, -0.011784023605287075, -0.009697988629341125, -0.007487621158361435, -0.03862617909908295, -0.004769559483975172, 0.008371768519282341, -0.019824236631393433, -0.004286041483283043, -0.030696483328938484], metadata={'file_path': '/content/data/paul_graham/paul_graham_essay.txt', 'file_name': 'paul_graham_essay.txt', 'file_type': 'text/plain', 'file_size': 75042, 'creation_date': '2024-10-07', 'last_modified_date': '2024-10-07', 'document_title': 'The Intersection of Art, Technology, and Programming: A Journey from Short Stories to AI and Fine Arts', 'questions_this_excerpt_can_answer': \"1. How did Paul Graham's Summer Founders Program contribute to the success of notable startups like reddit, Twitch, and others?\\n2. What advantages did Paul Graham notice as Y Combinator (YC) grew, particularly in terms of creating a tight-knit community among startup founders?\\n3. How did Paul Graham's involvement in creating Hacker News (HN) impact his work at Y Combinator and contribute to his overall stress levels?\"}, excluded_embed_metadata_keys=['file_name', 'file_type', 'file_size', 'creation_date', 'last_modified_date', 'last_accessed_date'], excluded_llm_metadata_keys=['file_name', 'file_type', 'file_size', 'creation_date', 'last_modified_date', 'last_accessed_date'], relationships={<NodeRelationship.SOURCE: '1'>: RelatedNodeInfo(node_id='78197505-6bc4-4e79-87c9-42ddd4687c33', node_type=<ObjectType.DOCUMENT: '4'>, metadata={'file_path': '/content/data/paul_graham/paul_graham_essay.txt', 'file_name': 'paul_graham_essay.txt', 'file_type': 'text/plain', 'file_size': 75042, 'creation_date': '2024-10-07', 'last_modified_date': '2024-10-07'}, hash='96f60feb6f7aab064fb76a627268cb628e937b8930471477222422257f4920d5'), <NodeRelationship.PREVIOUS: '2'>: RelatedNodeInfo(node_id='f6161fbb-7930-44f2-9249-f3851d66ac00', node_type=<ObjectType.TEXT: '1'>, metadata={'file_path': '/content/data/paul_graham/paul_graham_essay.txt', 'file_name': 'paul_graham_essay.txt', 'file_type': 'text/plain', 'file_size': 75042, 'creation_date': '2024-10-07', 'last_modified_date': '2024-10-07'}, hash='d0e46c5d1df12583278ee235c7a88e65034eb7ad37f246fd7a94c347658e60fb'), <NodeRelationship.NEXT: '3'>: RelatedNodeInfo(node_id='96be82a0-78a0-436f-88d3-8bafb572ed0f', node_type=<ObjectType.TEXT: '1'>, metadata={}, hash='3b09367bab76fbf6224aaf824820ab0e14fddfb4216a9415ae2e737f0089f40f')}, text='They were an impressive group. That first batch included reddit, Justin Kan and Emmett Shear, who went on to found Twitch, Aaron Swartz, who had already helped write the RSS spec and would a few years later become a martyr for open access, and Sam Altman, who would later become the second president of YC. I don\\'t think it was entirely luck that the first batch was so good. You had to be pretty bold to sign up for a weird thing like the Summer Founders Program instead of a summer job at a legit place like Microsoft or Goldman Sachs.\\n\\nThe deal for startups was based on a combination of the deal we did with Julian ($10k for 10%) and what Robert said MIT grad students got for the summer ($6k). We invested $6k per founder, which in the typical two-founder case was $12k, in return for 6%. That had to be fair, because it was twice as good as the deal we ourselves had taken. Plus that first summer, which was really hot, Jessica brought the founders free air conditioners. [16]\\n\\nFairly quickly I realized that we had stumbled upon the way to scale startup funding. Funding startups in batches was more convenient for us, because it meant we could do things for a lot of startups at once, but being part of a batch was better for the startups too. It solved one of the biggest problems faced by founders: the isolation. Now you not only had colleagues, but colleagues who understood the problems you were facing and could tell you how they were solving them.\\n\\nAs YC grew, we started to notice other advantages of scale. The alumni became a tight community, dedicated to helping one another, and especially the current batch, whose shoes they remembered being in. We also noticed that the startups were becoming one another\\'s customers. We used to refer jokingly to the \"YC GDP,\" but as YC grows this becomes less and less of a joke. Now lots of startups get their initial set of customers almost entirely from among their batchmates.\\n\\nI had not originally intended YC to be a full-time job. I was going to do three things: hack, write essays, and work on YC. As YC grew, and I grew more excited about it, it started to take up a lot more than a third of my attention. But for the first few years I was still able to work on other things.\\n\\nIn the summer of 2006, Robert and I started working on a new version of Arc. This one was reasonably fast, because it was compiled into Scheme. To test this new Arc, I wrote Hacker News in it. It was originally meant to be a news aggregator for startup founders and was called Startup News, but after a few months I got tired of reading about nothing but startups. Plus it wasn\\'t startup founders we wanted to reach. It was future startup founders. So I changed the name to Hacker News and the topic to whatever engaged one\\'s intellectual curiosity.\\n\\nHN was no doubt good for YC, but it was also by far the biggest source of stress for me. If all I\\'d had to do was select and help founders, life would have been so easy. And that implies that HN was a mistake. Surely the biggest source of stress in one\\'s work should at least be something close to the core of the work. Whereas I was like someone who was in pain while running a marathon not from the exertion of running, but because I had a blister from an ill-fitting shoe. When I was dealing with some urgent problem during YC, there was about a 60% chance it had to do with HN, and a 40% chance it had do with everything else combined. [17]\\n\\nAs well as HN, I wrote all of YC\\'s internal software in Arc. But while I continued to work a good deal in Arc, I gradually stopped working on Arc, partly because I didn\\'t have time to, and partly because it was a lot less attractive to mess around with the language now that we had all this infrastructure depending on it. So now my three projects were reduced to two: writing essays and working on YC.\\n\\nYC was different from other kinds of work I\\'ve done. Instead of deciding for myself what to work on, the problems came to me. Every 6 months there was a new batch of startups, and their problems, whatever they were, became our problems. It was very engaging work, because their problems were quite varied, and the good founders were very effective. If you were trying to learn the most you could about startups in the shortest possible time, you couldn\\'t have picked a better way to do it.\\n\\nThere were parts of the job I didn\\'t like. Disputes between cofounders, figuring out when people were lying to us, fighting with people who maltreated the startups, and so on. But I worked hard even at', mimetype='text/plain', start_char_idx=53304, end_char_idx=57840, text_template='[Excerpt from document]\\n{metadata_str}\\nExcerpt:\\n-----\\n{content}\\n-----\\n', metadata_template='{key}: {value}', metadata_seperator='\\n'), score=-6.7803183)], metadata={'5ae76bb1-8bfb-44dd-b722-d9e45ae39ec2': {'file_path': '/content/data/paul_graham/paul_graham_essay.txt', 'file_name': 'paul_graham_essay.txt', 'file_type': 'text/plain', 'file_size': 75042, 'creation_date': '2024-10-07', 'last_modified_date': '2024-10-07', 'document_title': 'The Intersection of Art, Technology, and Programming: A Journey from Short Stories to AI and Fine Arts', 'questions_this_excerpt_can_answer': \"1. How did the author's experience with teaching himself Lisp and reverse-engineering SHRDLU shape his understanding of artificial intelligence and programming?\\n2. What realization did the author come to during his first year of grad school regarding the limitations of AI as practiced at the time?\\n3. How did the author's decision to focus on Lisp and write a book about Lisp hacking contribute to his career in computer science and programming?\"}, '137d8390-93a1-496e-9c30-1b6651869f5d': {'file_path': '/content/data/paul_graham/paul_graham_essay.txt', 'file_name': 'paul_graham_essay.txt', 'file_type': 'text/plain', 'file_size': 75042, 'creation_date': '2024-10-07', 'last_modified_date': '2024-10-07', 'document_title': 'The Intersection of Art, Technology, and Programming: A Journey from Short Stories to AI and Fine Arts', 'questions_this_excerpt_can_answer': \"1. How did Paul Graham's Summer Founders Program contribute to the success of notable startups like reddit, Twitch, and others?\\n2. What advantages did Paul Graham notice as Y Combinator (YC) grew, particularly in terms of creating a tight-knit community among startup founders?\\n3. How did Paul Graham's involvement in creating Hacker News (HN) impact his work at Y Combinator and contribute to his overall stress levels?\"}})"
            ]
          },
          "metadata": {},
          "execution_count": 80
        }
      ]
    },
    {
      "cell_type": "code",
      "source": [
        "from llama_index.core.postprocessor import LLMRerank\n",
        "\n",
        "postprocessor = LLMRerank(top_n=2, service_context=service_context)\n",
        "\n",
        "postprocessor.postprocess_nodes(nodes)"
      ],
      "metadata": {
        "id": "LbAq4lBGl2SK"
      },
      "execution_count": null,
      "outputs": []
    },
    {
      "cell_type": "markdown",
      "source": [
        "### This postproccesor returns the top K nodes sorted by date. This assumes there is a date field to parse in the metadata of each node."
      ],
      "metadata": {
        "id": "iHY_iU0ameo9"
      }
    },
    {
      "cell_type": "code",
      "source": [
        "# https://docs.llamaindex.ai/en/stable/module_guides/querying/node_postprocessors/node_postprocessors/#fixedrecencypostprocessor\n",
        "from llama_index.core.postprocessor import FixedRecencyPostprocessor\n",
        "\n",
        "postprocessor = FixedRecencyPostprocessor(\n",
        "    tok_k=1, date_key=\"date\"  # the key in the metadata to find the date\n",
        ")\n",
        "\n",
        "postprocessor.postprocess_nodes(nodes)"
      ],
      "metadata": {
        "id": "vdHbTiWCmNV4"
      },
      "execution_count": null,
      "outputs": []
    },
    {
      "cell_type": "code",
      "source": [],
      "metadata": {
        "id": "YvpqyP51miX0"
      },
      "execution_count": null,
      "outputs": []
    }
  ]
}
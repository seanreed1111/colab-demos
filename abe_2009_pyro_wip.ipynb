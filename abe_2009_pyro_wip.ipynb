{
  "metadata": {
    "kernelspec": {
      "language": "python",
      "display_name": "Python 3",
      "name": "python3"
    },
    "language_info": {
      "pygments_lexer": "ipython3",
      "nbconvert_exporter": "python",
      "version": "3.6.4",
      "file_extension": ".py",
      "codemirror_mode": {
        "name": "ipython",
        "version": 3
      },
      "name": "python",
      "mimetype": "text/x-python"
    },
    "colab": {
      "name": "abe_2009_pyro_wip.ipynb",
      "provenance": [],
      "collapsed_sections": [],
      "include_colab_link": true
    }
  },
  "nbformat_minor": 0,
  "nbformat": 4,
  "cells": [
    {
      "cell_type": "markdown",
      "metadata": {
        "id": "view-in-github",
        "colab_type": "text"
      },
      "source": [
        "<a href=\"https://colab.research.google.com/github/seanreed1111/colab-demos/blob/master/abe_2009_pyro_wip.ipynb\" target=\"_parent\"><img src=\"https://colab.research.google.com/assets/colab-badge.svg\" alt=\"Open In Colab\"/></a>"
      ]
    },
    {
      "cell_type": "markdown",
      "source": [
        "see also: \n",
        "- \"COUNTING YOUR CUSTOMERS” ONE BY ONE: A Hierarchical Bayes Extension to the Pareto/NBD Model Abe 2009 http://citeseerx.ist.psu.edu/viewdoc/download?doi=10.1.1.687.3554&rep=rep1&type=pdf\n",
        "\n",
        "- https://github.com/mplatzer/BTYDplus\n",
        "\n",
        "- Numpyro adventures in covariance https://colab.research.google.com/drive/1pQptn66Ir-Jesph-1CRf5OZ-TmaiZWH5#scrollTo=mDJFmLo8ZUKz\n"
      ],
      "metadata": {
        "id": "eQA5kIjjxpuy"
      }
    },
    {
      "cell_type": "code",
      "source": [
        "# installlation required\n",
        "!pip install -q pyro-ppl=='1.8.0'\n"
      ],
      "metadata": {
        "id": "uY7dTQrGT7o2",
        "colab": {
          "base_uri": "https://localhost:8080/"
        },
        "outputId": "f81928d7-1fa6-4700-c59b-3b37f4444a33"
      },
      "execution_count": 1,
      "outputs": [
        {
          "output_type": "stream",
          "name": "stdout",
          "text": [
            "\u001b[?25l\r\u001b[K     |▌                               | 10 kB 15.9 MB/s eta 0:00:01\r\u001b[K     |█                               | 20 kB 11.0 MB/s eta 0:00:01\r\u001b[K     |█▍                              | 30 kB 6.6 MB/s eta 0:00:01\r\u001b[K     |█▉                              | 40 kB 6.3 MB/s eta 0:00:01\r\u001b[K     |██▎                             | 51 kB 4.2 MB/s eta 0:00:01\r\u001b[K     |██▊                             | 61 kB 4.9 MB/s eta 0:00:01\r\u001b[K     |███▏                            | 71 kB 4.9 MB/s eta 0:00:01\r\u001b[K     |███▊                            | 81 kB 4.8 MB/s eta 0:00:01\r\u001b[K     |████▏                           | 92 kB 5.3 MB/s eta 0:00:01\r\u001b[K     |████▋                           | 102 kB 4.9 MB/s eta 0:00:01\r\u001b[K     |█████                           | 112 kB 4.9 MB/s eta 0:00:01\r\u001b[K     |█████▌                          | 122 kB 4.9 MB/s eta 0:00:01\r\u001b[K     |██████                          | 133 kB 4.9 MB/s eta 0:00:01\r\u001b[K     |██████▍                         | 143 kB 4.9 MB/s eta 0:00:01\r\u001b[K     |███████                         | 153 kB 4.9 MB/s eta 0:00:01\r\u001b[K     |███████▍                        | 163 kB 4.9 MB/s eta 0:00:01\r\u001b[K     |███████▉                        | 174 kB 4.9 MB/s eta 0:00:01\r\u001b[K     |████████▎                       | 184 kB 4.9 MB/s eta 0:00:01\r\u001b[K     |████████▊                       | 194 kB 4.9 MB/s eta 0:00:01\r\u001b[K     |█████████▏                      | 204 kB 4.9 MB/s eta 0:00:01\r\u001b[K     |█████████▋                      | 215 kB 4.9 MB/s eta 0:00:01\r\u001b[K     |██████████                      | 225 kB 4.9 MB/s eta 0:00:01\r\u001b[K     |██████████▋                     | 235 kB 4.9 MB/s eta 0:00:01\r\u001b[K     |███████████                     | 245 kB 4.9 MB/s eta 0:00:01\r\u001b[K     |███████████▌                    | 256 kB 4.9 MB/s eta 0:00:01\r\u001b[K     |████████████                    | 266 kB 4.9 MB/s eta 0:00:01\r\u001b[K     |████████████▍                   | 276 kB 4.9 MB/s eta 0:00:01\r\u001b[K     |████████████▉                   | 286 kB 4.9 MB/s eta 0:00:01\r\u001b[K     |█████████████▎                  | 296 kB 4.9 MB/s eta 0:00:01\r\u001b[K     |█████████████▉                  | 307 kB 4.9 MB/s eta 0:00:01\r\u001b[K     |██████████████▎                 | 317 kB 4.9 MB/s eta 0:00:01\r\u001b[K     |██████████████▊                 | 327 kB 4.9 MB/s eta 0:00:01\r\u001b[K     |███████████████▏                | 337 kB 4.9 MB/s eta 0:00:01\r\u001b[K     |███████████████▋                | 348 kB 4.9 MB/s eta 0:00:01\r\u001b[K     |████████████████                | 358 kB 4.9 MB/s eta 0:00:01\r\u001b[K     |████████████████▌               | 368 kB 4.9 MB/s eta 0:00:01\r\u001b[K     |█████████████████               | 378 kB 4.9 MB/s eta 0:00:01\r\u001b[K     |█████████████████▌              | 389 kB 4.9 MB/s eta 0:00:01\r\u001b[K     |██████████████████              | 399 kB 4.9 MB/s eta 0:00:01\r\u001b[K     |██████████████████▍             | 409 kB 4.9 MB/s eta 0:00:01\r\u001b[K     |██████████████████▉             | 419 kB 4.9 MB/s eta 0:00:01\r\u001b[K     |███████████████████▎            | 430 kB 4.9 MB/s eta 0:00:01\r\u001b[K     |███████████████████▊            | 440 kB 4.9 MB/s eta 0:00:01\r\u001b[K     |████████████████████▏           | 450 kB 4.9 MB/s eta 0:00:01\r\u001b[K     |████████████████████▊           | 460 kB 4.9 MB/s eta 0:00:01\r\u001b[K     |█████████████████████▏          | 471 kB 4.9 MB/s eta 0:00:01\r\u001b[K     |█████████████████████▋          | 481 kB 4.9 MB/s eta 0:00:01\r\u001b[K     |██████████████████████          | 491 kB 4.9 MB/s eta 0:00:01\r\u001b[K     |██████████████████████▌         | 501 kB 4.9 MB/s eta 0:00:01\r\u001b[K     |███████████████████████         | 512 kB 4.9 MB/s eta 0:00:01\r\u001b[K     |███████████████████████▍        | 522 kB 4.9 MB/s eta 0:00:01\r\u001b[K     |████████████████████████        | 532 kB 4.9 MB/s eta 0:00:01\r\u001b[K     |████████████████████████▍       | 542 kB 4.9 MB/s eta 0:00:01\r\u001b[K     |████████████████████████▉       | 552 kB 4.9 MB/s eta 0:00:01\r\u001b[K     |█████████████████████████▎      | 563 kB 4.9 MB/s eta 0:00:01\r\u001b[K     |█████████████████████████▊      | 573 kB 4.9 MB/s eta 0:00:01\r\u001b[K     |██████████████████████████▏     | 583 kB 4.9 MB/s eta 0:00:01\r\u001b[K     |██████████████████████████▋     | 593 kB 4.9 MB/s eta 0:00:01\r\u001b[K     |███████████████████████████     | 604 kB 4.9 MB/s eta 0:00:01\r\u001b[K     |███████████████████████████▋    | 614 kB 4.9 MB/s eta 0:00:01\r\u001b[K     |████████████████████████████    | 624 kB 4.9 MB/s eta 0:00:01\r\u001b[K     |████████████████████████████▌   | 634 kB 4.9 MB/s eta 0:00:01\r\u001b[K     |█████████████████████████████   | 645 kB 4.9 MB/s eta 0:00:01\r\u001b[K     |█████████████████████████████▍  | 655 kB 4.9 MB/s eta 0:00:01\r\u001b[K     |█████████████████████████████▉  | 665 kB 4.9 MB/s eta 0:00:01\r\u001b[K     |██████████████████████████████▎ | 675 kB 4.9 MB/s eta 0:00:01\r\u001b[K     |██████████████████████████████▉ | 686 kB 4.9 MB/s eta 0:00:01\r\u001b[K     |███████████████████████████████▎| 696 kB 4.9 MB/s eta 0:00:01\r\u001b[K     |███████████████████████████████▊| 706 kB 4.9 MB/s eta 0:00:01\r\u001b[K     |████████████████████████████████| 713 kB 4.9 MB/s \n",
            "\u001b[?25h"
          ]
        }
      ]
    },
    {
      "cell_type": "markdown",
      "source": [
        "<a id = \"7\"></a><br>\n",
        "# LIBRARIES"
      ],
      "metadata": {
        "id": "FGj7ZXnYisy4"
      }
    },
    {
      "cell_type": "code",
      "source": [
        "import os\n",
        "import datetime as dt\n",
        "import pandas as pd\n",
        "pd.set_option('display.max_rows', 50)\n",
        "import seaborn as sns\n",
        "import numpy as np\n",
        "import matplotlib.pyplot as plt\n",
        "import logging\n",
        "from scipy.stats import expon, poisson, uniform, lognorm\n",
        "\n",
        "from numpy.random import Generator, PCG64\n",
        "numpy_randomGen = Generator(PCG64(seed=1))\n",
        "\n",
        "\n",
        "import torch\n",
        "from torch.distributions import constraints\n",
        "from torch import tensor\n",
        "\n",
        "import pyro\n",
        "import pyro.distributions as dist\n",
        "from pyro.optim import ClippedAdam\n",
        "\n",
        "# Set matplotlib settings\n",
        "%matplotlib inline\n",
        "plt.style.use('default')\n",
        "plt.rcParams['figure.figsize'] = [8, 4]\n"
      ],
      "metadata": {
        "execution": {
          "iopub.status.busy": "2021-09-15T11:59:37.295326Z",
          "iopub.execute_input": "2021-09-15T11:59:37.295724Z",
          "iopub.status.idle": "2021-09-15T11:59:53.721615Z",
          "shell.execute_reply.started": "2021-09-15T11:59:37.295626Z",
          "shell.execute_reply": "2021-09-15T11:59:53.720577Z"
        },
        "trusted": true,
        "id": "aKznBx1oisy5"
      },
      "execution_count": 2,
      "outputs": []
    },
    {
      "cell_type": "code",
      "source": [
        "logging.basicConfig(level=logging.DEBUG)"
      ],
      "metadata": {
        "id": "b1udn8WoU1pb"
      },
      "execution_count": 3,
      "outputs": []
    },
    {
      "cell_type": "markdown",
      "source": [
        "## Helper Functions"
      ],
      "metadata": {
        "id": "xOEFEnIuUsD1"
      }
    },
    {
      "cell_type": "markdown",
      "source": [
        "### Truncated Exponential"
      ],
      "metadata": {
        "id": "4EDYPk5lU8qi"
      }
    },
    {
      "cell_type": "code",
      "source": [
        "import pyro.distributions as dist\n",
        "from torch.distributions.utils import broadcast_all\n",
        "\n",
        "def TruncatedExponential(low, high, rate=1.0):\n",
        "    '''\n",
        "    Usage: \n",
        "    d = TruncatedExponential(3, 10, 1.0).sample([1000])\n",
        "    sns.displot(data=d)\n",
        "    '''\n",
        "    low, high, rate = broadcast_all(low, high, rate)\n",
        "    return dist.TransformedDistribution(\n",
        "        dist.Uniform((-rate * high).exp(), (-rate * low).exp()),\n",
        "        [dist.transforms.ExpTransform().inv,\n",
        "         dist.transforms.AffineTransform(loc=0, scale=-1/rate)]\n",
        "    )\n"
      ],
      "metadata": {
        "id": "cz1Rlue-UtxR"
      },
      "execution_count": null,
      "outputs": []
    },
    {
      "cell_type": "code",
      "source": [
        "covs = torch.tensor([[2., -1.], [-1.,3.]])\n",
        "dist.MultivariateNormal(tensor([0.,0.]),covariance_matrix=covs).sample([5])"
      ],
      "metadata": {
        "colab": {
          "base_uri": "https://localhost:8080/"
        },
        "id": "sXFlBUVeBWt3",
        "outputId": "05f3e633-0fe6-422a-fadb-171b1ee5a7eb"
      },
      "execution_count": null,
      "outputs": [
        {
          "output_type": "execute_result",
          "data": {
            "text/plain": [
              "tensor([[-0.7182, -1.3469],\n",
              "        [ 1.5743, -2.6597],\n",
              "        [-1.9787,  1.5368],\n",
              "        [-0.7229, -2.2143],\n",
              "        [ 0.3651, -2.2745]])"
            ]
          },
          "metadata": {},
          "execution_count": 15
        }
      ]
    },
    {
      "cell_type": "code",
      "source": [
        "sigma = dist.Exponential(1).expand([2]).sample()\n",
        "rho = dist.LKJ(2, 2).sample()\n",
        "cov = torch.outer(sigma, sigma)*rho"
      ],
      "metadata": {
        "colab": {
          "base_uri": "https://localhost:8080/"
        },
        "id": "uTEXKRuRDQeo",
        "outputId": "833f24c4-1940-4820-fee9-6c16bdb52a18"
      },
      "execution_count": null,
      "outputs": [
        {
          "output_type": "execute_result",
          "data": {
            "text/plain": [
              "tensor([[0.0013, 0.0066],\n",
              "        [0.0066, 0.6447]])"
            ]
          },
          "metadata": {},
          "execution_count": 20
        }
      ]
    },
    {
      "cell_type": "code",
      "source": [
        "dist.Normal(0,3).expand([2]).to_event(1).sample()"
      ],
      "metadata": {
        "colab": {
          "base_uri": "https://localhost:8080/"
        },
        "id": "qg_qVVRoVfCd",
        "outputId": "8c27d02d-f1e4-44c6-c84b-8afb7541cbbf"
      },
      "execution_count": null,
      "outputs": [
        {
          "output_type": "execute_result",
          "data": {
            "text/plain": [
              "tensor([ 0.1741, -8.4035])"
            ]
          },
          "metadata": {},
          "execution_count": 52
        }
      ]
    },
    {
      "cell_type": "code",
      "source": [
        "mu_covariates = torch.ones([1,3])\n",
        "beta_mus = dist.Normal(0,5).expand([mu_covariates.size(1)]).to_event(1).sample().unsqueeze(-1)\n",
        "\n",
        "lambda_covariates = torch.ones([1,3])\n",
        "beta_lambdas = dist.Normal(0,3).expand([lambda_covariates.size(1)]).to_event(1).sample().unsqueeze(-1)"
      ],
      "metadata": {
        "id": "VSFwwv6aWOq0"
      },
      "execution_count": null,
      "outputs": []
    },
    {
      "cell_type": "code",
      "source": [
        "lambda_covariates, beta_lambdas, torch.mm(lambda_covariates, beta_lambdas)"
      ],
      "metadata": {
        "colab": {
          "base_uri": "https://localhost:8080/"
        },
        "id": "kQQJRmerW9U9",
        "outputId": "0c4119b7-0db4-48d1-c5b7-007e07195256"
      },
      "execution_count": null,
      "outputs": [
        {
          "output_type": "execute_result",
          "data": {
            "text/plain": [
              "(tensor([[1., 1., 1.]]),\n",
              " tensor([ 1.1304, -2.6500, -2.1475]),\n",
              " tensor([-3.6671]))"
            ]
          },
          "metadata": {},
          "execution_count": 86
        }
      ]
    },
    {
      "cell_type": "code",
      "source": [
        "mu_covariates, beta_mus, torch.mm(mu_covariates ,beta_mus)"
      ],
      "metadata": {
        "colab": {
          "base_uri": "https://localhost:8080/"
        },
        "id": "-SWDGsn4arNS",
        "outputId": "c548a612-2cc2-4785-c8f2-20a52a9190ce"
      },
      "execution_count": null,
      "outputs": [
        {
          "output_type": "execute_result",
          "data": {
            "text/plain": [
              "(tensor([[1., 1., 1.]]), tensor([[ 2.5492],\n",
              "         [-1.9735],\n",
              "         [ 3.8888]]), tensor([[4.4645]]))"
            ]
          },
          "metadata": {},
          "execution_count": 87
        }
      ]
    },
    {
      "cell_type": "code",
      "source": [
        "beta_mus.size()"
      ],
      "metadata": {
        "colab": {
          "base_uri": "https://localhost:8080/"
        },
        "id": "ezshMfmXgMXZ",
        "outputId": "c5322222-c20b-4f56-8337-ae77901ef166"
      },
      "execution_count": null,
      "outputs": [
        {
          "output_type": "execute_result",
          "data": {
            "text/plain": [
              "torch.Size([3])"
            ]
          },
          "metadata": {},
          "execution_count": 83
        }
      ]
    },
    {
      "cell_type": "code",
      "source": [
        "torch.ones([10,3])"
      ],
      "metadata": {
        "colab": {
          "base_uri": "https://localhost:8080/"
        },
        "id": "Lf13r63tbNui",
        "outputId": "e688ebbb-149f-4ff9-c3ae-9c61b566eb7d"
      },
      "execution_count": null,
      "outputs": [
        {
          "output_type": "execute_result",
          "data": {
            "text/plain": [
              "tensor([[1., 1., 1.],\n",
              "        [1., 1., 1.],\n",
              "        [1., 1., 1.],\n",
              "        [1., 1., 1.],\n",
              "        [1., 1., 1.],\n",
              "        [1., 1., 1.],\n",
              "        [1., 1., 1.],\n",
              "        [1., 1., 1.],\n",
              "        [1., 1., 1.],\n",
              "        [1., 1., 1.]])"
            ]
          },
          "metadata": {},
          "execution_count": 73
        }
      ]
    },
    {
      "cell_type": "code",
      "source": [
        "torch.ones([1,1]), torch.ones(1)"
      ],
      "metadata": {
        "colab": {
          "base_uri": "https://localhost:8080/"
        },
        "id": "CS4wOX8mhyQL",
        "outputId": "2903b15d-7648-41b0-9dae-e77cf178dac9"
      },
      "execution_count": null,
      "outputs": [
        {
          "output_type": "execute_result",
          "data": {
            "text/plain": [
              "(tensor([[1.]]), tensor([1.]))"
            ]
          },
          "metadata": {},
          "execution_count": 89
        }
      ]
    },
    {
      "cell_type": "code",
      "source": [
        "#parameters from RFM (x, tx, Tcal)\n",
        "#for each customer we will have: repeat_purchases x, date of last purchase tx, period of observation Tcal from first purchase to time of measurement ]  \n",
        "\n",
        "def btyd_abe_model(*, x, tx, Tcal, lambda_covariates = None, mu_covariates = None, prior_only=True):\n",
        "  '''\n",
        "  x: number of REPEAT purchases after the first. Must be > 0.\n",
        "  tx: date of last purchase\n",
        "  Tcal: observation date\n",
        "  lambda_covariates: \n",
        "  mu_covariates:\n",
        "  prior_only:\n",
        "\n",
        "  returns: Not a pure function, needed for sampling and pyro param store\n",
        "  '''\n",
        "  N = x.size(0) #num of customers\n",
        "\n",
        "  if lambda_covariates is None:\n",
        "    lambda_covariates = torch.ones([N,1]) #intercept only\n",
        "  else:#TODO might need to unsqueeze the lambda_covariates if it is not 2D\n",
        "    lambda_covariates = torch.hstack((torch.ones([N,1], lambda_covariates)))\n",
        "\n",
        "  if mu_covariates is None:\n",
        "    mu_covariates = torch.ones([N,1]) #intercept only\n",
        "  else: #TODO might need to unsqueeze the lambda_covariates if it is not 2D\n",
        "    mu_covariates = torch.hstack((torch.ones([N,1], lambda_covariates)))\n",
        "\n",
        "  z = None #TODO FIX\n",
        "  y = None #TODO FIX\n",
        "\n",
        "  #TODO Convert original pareto/NBD loglik function :==> non-centered Pareto/NBD Abe 2009 formulation\n",
        "  def loglik(*, lambda_, mu, x, tx, Tcal, y, z):\n",
        "    target = x * torch.log(lambda_) - torch.log(lambda_ + mu)\n",
        "    n = lambda_.size(0)\n",
        "    for i in range(n):\n",
        "      target  = target + torch.logaddexp(torch.log(lambda_[i]) - (lambda_[i] + mu[i]) * Tcal[i],\n",
        "                                        torch.log(mu[i]) - (lambda_[i] + mu[i]) * tx[i]\n",
        "                                        )\n",
        "    return target\n",
        "  \n",
        "  sigmas = pyro.sample('sigmas', dist.Exponential(1).expand([2]))\n",
        "  rho = pyro.sample('rho', dist.LKJ(2, 2))\n",
        "  cov = torch.outer(sigmas, sigmas)*rho\n",
        "\n",
        "  # mu_mean # TODO can initialize w/informed prior using average computed from data\n",
        "  # lambda_mean # TODO can initialize w/informed prior using average computed from data\n",
        "\n",
        "\n",
        "  beta_mus = pyro.sample('beta_mus', dist.Normal(0,3).expand([N, mu_covariates.size(1)]))\n",
        "  beta_lambdas = pyro.sample('beta_lambdas', dist.Normal(0,3).expand([N, lambda_covariates.size(1)]))\n",
        "  mu_mean, lambda_mean = 0., 0. #TODO fix #mu_mean, lambda_mean = torch.mm(torch.t(mu_covariates), beta_mus), torch.mm(torch.t(lambda_covariates), beta_lambdas)\n",
        "  with pyro.plate('data', N):\n",
        "    mu_lambda = pyro.sample('mu_lambda', dist.MultivariateNormal(tensor([mu_mean, lambda_mean]), cov)).exp()\n",
        "\n",
        "  mu, lambda_ = mu_lambda[:,0], mu_lambda[:,1]\n",
        "  mu_plus_lambda = mu + lambda_\n",
        "\n",
        "  if not prior_only:\n",
        "    # sample z\n",
        "    # sample dropout time y from double truncated exponential if z == 0\n",
        "    # compute loglik using mu, lambda_, z, and y . Note z and y are same shape as x, tx, and Tcal\n",
        "    pyro.factor('loglik', loglik(lambda_, mu,x, tx, Tcal)\n"
      ],
      "metadata": {
        "id": "3hKCYkocTPTs"
      },
      "execution_count": null,
      "outputs": []
    },
    {
      "cell_type": "code",
      "source": [
        "x, tx, Tcal = tensor([2.,3., 4., 5.]), tensor([2.,3., 4., 5.]), tensor([2.,3., 4., 5.])\n",
        "dat = {'x':x, 'tx':tx, 'Tcal':Tcal}\n",
        "\n",
        "from pyro.infer import MCMC, NUTS\n",
        "model = btyd_abe_model\n",
        "mcmc = MCMC(NUTS(model), num_samples=100, warmup_steps=200)\n",
        "\n",
        "mcmc.run(**dat, prior_only=True)"
      ],
      "metadata": {
        "id": "X8F2v7_JV1V4",
        "colab": {
          "base_uri": "https://localhost:8080/"
        },
        "outputId": "416096bb-7d65-40f0-e8b3-1483bd70a8b9"
      },
      "execution_count": null,
      "outputs": [
        {
          "output_type": "stream",
          "name": "stderr",
          "text": [
            "Warmup:   0%|          | 0/300 [02:55, ?it/s]\n",
            "Warmup:   0%|          | 0/300 [02:13, ?it/s]\n",
            "Sample: 100%|██████████| 300/300 [02:10,  2.29it/s, step size=9.76e-02, acc. prob=0.927]\n"
          ]
        }
      ]
    },
    {
      "cell_type": "code",
      "source": [
        "samples = mcmc.get_samples()\n",
        "hmc_samples = {k: v.detach().cpu().numpy() for k, v in samples.items()}\n",
        "hmc_samples.keys()"
      ],
      "metadata": {
        "colab": {
          "base_uri": "https://localhost:8080/"
        },
        "id": "53QNRl8FJU9H",
        "outputId": "91057551-b207-494b-dab0-1039458f1209"
      },
      "execution_count": null,
      "outputs": [
        {
          "output_type": "execute_result",
          "data": {
            "text/plain": [
              "dict_keys(['beta_lambdas', 'beta_mus', 'mu_lambda', 'rho', 'sigmas'])"
            ]
          },
          "metadata": {},
          "execution_count": 111
        }
      ]
    },
    {
      "cell_type": "code",
      "source": [
        "hmc_samples['sigmas'].shape"
      ],
      "metadata": {
        "colab": {
          "base_uri": "https://localhost:8080/"
        },
        "id": "7bLrY2ESLgve",
        "outputId": "144fe9a7-dab4-410f-df00-6700a578cfde"
      },
      "execution_count": null,
      "outputs": [
        {
          "output_type": "execute_result",
          "data": {
            "text/plain": [
              "(100, 2)"
            ]
          },
          "metadata": {},
          "execution_count": 112
        }
      ]
    },
    {
      "cell_type": "code",
      "source": [
        "sns.scatterplot(x=hmc_samples['sigmas'][:, 0], y=hmc_samples['sigmas'][:,1]);"
      ],
      "metadata": {
        "colab": {
          "base_uri": "https://localhost:8080/",
          "height": 368
        },
        "id": "eNbDKhwRMRPF",
        "outputId": "6505d955-1b4d-4592-c058-637f8b757a6d"
      },
      "execution_count": null,
      "outputs": [
        {
          "output_type": "display_data",
          "data": {
            "text/plain": [
              "<Figure size 800x400 with 1 Axes>"
            ],
            "image/png": "[encoded data removed]"
          },
          "metadata": {}
        }
      ]
    },
    {
      "cell_type": "markdown",
      "source": [
        "### Text1"
      ],
      "metadata": {
        "id": "od0WqsMcV15Y"
      }
    },
    {
      "cell_type": "markdown",
      "source": [
        "### Text2"
      ],
      "metadata": {
        "id": "ImIg-6JdV2yZ"
      }
    },
    {
      "cell_type": "code",
      "source": [
        ""
      ],
      "metadata": {
        "id": "eamOx2BUV0Yq"
      },
      "execution_count": null,
      "outputs": []
    },
    {
      "cell_type": "markdown",
      "source": [
        "### Text3"
      ],
      "metadata": {
        "id": "kLUB8UFUV0Iv"
      }
    },
    {
      "cell_type": "markdown",
      "source": [
        "### Description of the simulation model"
      ],
      "metadata": {
        "id": "a6JaJcggVwVH"
      }
    },
    {
      "cell_type": "markdown",
      "source": [
        "Let’s describe the model first by simulation. \n",
        "\n",
        "Suppose we have a company that is 2 years old and a total of 2000 customers, C, that have made at least one purchase from us. \n",
        "\n",
        "We’ll assume a linear rate of customer acquisition, so that the first purchase date is simply a uniform random variable over the 2 years of the company existance. These assumptions are just to keep the example concrete, and are not so important for understanding the model."
      ],
      "metadata": {
        "id": "M8XPw-evgBdu"
      }
    },
    {
      "cell_type": "markdown",
      "source": [
        "Each customer c∈C is assumed to have a certain lifetime, τc, starting on their join-date. \n",
        "\n",
        "During their lifetime, they will purchase at a constant rate, λc, so that they will make k∼Poisson(tλc) purchases over a time-interval t. \n",
        "\n",
        "Once their lifetime is over, they will stop purchasing. We only observe the customer for Tc units of time, and this observation time can be either larger or smaller than the lifetime, τc. \n",
        "\n",
        "Since we don’t observe τc itself, we will assume it follows an exponential distribution, i.e. τc∼Exp(μc)."
      ],
      "metadata": {
        "id": "MjtZTqtPgajd"
      }
    },
    {
      "cell_type": "code",
      "source": [
        ""
      ],
      "metadata": {
        "id": "BvV5LWUU8kNr"
      },
      "execution_count": null,
      "outputs": []
    },
    {
      "cell_type": "code",
      "source": [
        "def create_start_dates(n, max_number_of_periods):\n",
        "  '''\n",
        "  returns an array of n start dates in interval [0, max_number_of_periods)\n",
        "  \n",
        "  inputs \n",
        "  int n: number of customers to generate\n",
        "  int max_number_of_periods: max number of periods customer can be observed in simulation\n",
        "\n",
        "  output: \n",
        "  start_date[n]: starting period of customer n, starting from 0\n",
        "  '''\n",
        "  return np.random.default_rng(1).integers(low=0, high=max_number_of_periods, size=n)"
      ],
      "metadata": {
        "id": "C5YZkVe7-WwF"
      },
      "execution_count": null,
      "outputs": []
    },
    {
      "cell_type": "code",
      "source": [
        "def simulate_purchases(*,T, mean_customer_lifetime, \n",
        "                       mean_period_between_purchases,\n",
        "                       max_number_of_periods,\n",
        "                       var_customer_lifetime = None, \n",
        "                       var_period_between_purchases = None \n",
        "                        ):\n",
        "  '''\n",
        "  input: \n",
        "  T: customer enrollment date\n",
        "\n",
        "  mean_customer_lifetime: mean of customer lifetime, in periods\n",
        "  var_customer_lifetime: var of customer lifetime\n",
        "  mean_period_between_purchases: mean period between purchases\n",
        "  var_period_between_purchases: var of period between purchases\n",
        "\n",
        "  output:\n",
        "  k: number of purchases\n",
        "  T: customer enrollment date\n",
        "  obs_time = This is the length of time they have been a customer, max_number_of_periods - T\n",
        "  tau: actual (latent) lifetime for this customer (drawn from exponential distribution with scale=mean_customer_lifetime)\n",
        "  mean_customer_lifetime: mean_customer_lifetime\n",
        "  1./mean_customer_lifetime :  reciprocal of mean customer lifetime\n",
        "  '''\n",
        "  from scipy.stats import expon\n",
        "  \n",
        "  obs_time = max_number_of_periods - T\n",
        "  assert obs_time > 0, \"time as enrolled customer cannot be negative\"\n",
        "  assert mean_customer_lifetime > 0 , \"mean customer lifetime must be > 0\"\n",
        "  assert mean_period_between_purchases > 0, \"mean period between purchases must be > 0\"\n",
        "  \n",
        "  tau = expon.rvs(scale=mean_customer_lifetime) # actual lifetime for this customer\n",
        "  t, k = T, 0 \n",
        "  wait = expon.rvs(scale=mean_period_between_purchases) # waiting time between purchases\n",
        "  while ((t + wait) < min(max_number_of_periods, T + tau)): \n",
        "    t = t + wait\n",
        "    k = k + 1\n",
        "    wait = expon.rvs(scale=mean_period_between_purchases)\n",
        "\n",
        "  return  T,  obs_time, k, tau, t, mean_customer_lifetime, 1./mean_customer_lifetime  #final value of t is time of last purchased\n",
        "\n",
        "simulate_purchases_vec = np.vectorize(simulate_purchases)\n",
        "\n",
        "\n"
      ],
      "metadata": {
        "id": "wYOxTjogN8C0"
      },
      "execution_count": null,
      "outputs": []
    },
    {
      "cell_type": "code",
      "source": [
        "simulate_purchases(T=20.,\n",
        "                   max_number_of_periods=100.,\n",
        "                   mean_customer_lifetime=30.,\n",
        "                   mean_period_between_purchases=8.\n",
        "                   )"
      ],
      "metadata": {
        "id": "D-w1zEvjgV7j"
      },
      "execution_count": null,
      "outputs": []
    },
    {
      "cell_type": "code",
      "source": [
        ""
      ],
      "metadata": {
        "id": "9ysonmT1iA_k"
      },
      "execution_count": null,
      "outputs": []
    },
    {
      "cell_type": "code",
      "source": [
        "def create_customer_df(*,\n",
        "                       n, \n",
        "                       mean_customer_lifetime, \n",
        "                       mean_period_between_purchases, \n",
        "                       max_number_of_periods, \n",
        "                       var_customer_lifetime = None, \n",
        "                       var_period_between_purchases = None\n",
        "                       ):\n",
        "  '''\n",
        "  output: \n",
        "    dataframe[['enrollment_date', \n",
        "    'T_observed',\n",
        "    'purchases', \n",
        "    'tau', : lifetime for this simulated customer drawn from exponential distribution with scale=mean_customer_lifetime\n",
        "    'date_of_last_purchase', \n",
        "    'mean_customer_lifetime',\n",
        "    '1/mean_customer_lifetime'\n",
        "\n",
        "  '''\n",
        "  T =  create_start_dates(n=n, max_number_of_periods=max_number_of_periods)\n",
        "  result = np.round(\n",
        "      simulate_purchases_vec(T=T, \n",
        "                             mean_customer_lifetime=mean_customer_lifetime, \n",
        "                             mean_period_between_purchases=mean_period_between_purchases,\n",
        "                             max_number_of_periods=max_number_of_periods\n",
        "\n",
        "                             )\n",
        "          ,2)\n",
        "  return pd.DataFrame(result, index=['enrollment_date', \n",
        "                                     'T_observed',\n",
        "                                     'purchases', \n",
        "                                     'tau', \n",
        "                                     'date_of_last_purchase', \n",
        "                                     'mean_customer_lifetime',\n",
        "                                     '1/mean_customer_lifetime']).T\n"
      ],
      "metadata": {
        "id": "QkKlXzQDaJu0"
      },
      "execution_count": null,
      "outputs": []
    },
    {
      "cell_type": "code",
      "source": [
        "max_number_of_periods=60\n",
        "customers = create_customer_df(n=20, \n",
        "                               mean_customer_lifetime=30, \n",
        "                               mean_period_between_purchases=8, \n",
        "                               max_number_of_periods=max_number_of_periods)\n",
        "customers"
      ],
      "metadata": {
        "id": "ekLLY1qnfxB2"
      },
      "execution_count": null,
      "outputs": []
    },
    {
      "cell_type": "code",
      "source": [
        "customers.describe().T"
      ],
      "metadata": {
        "id": "SZEHV2sLmRhA"
      },
      "execution_count": null,
      "outputs": []
    },
    {
      "cell_type": "code",
      "source": [
        "data = customers[customers['purchases'] >= 2.].copy()\n",
        "data.describe().T"
      ],
      "metadata": {
        "id": "ECYID91fqVOp"
      },
      "execution_count": null,
      "outputs": []
    },
    {
      "cell_type": "code",
      "source": [
        "t, T, k = tensor(data['date_of_last_purchase'].values), tensor(data['T_observed'].values), tensor(data['purchases'].values)"
      ],
      "metadata": {
        "id": "2rTilK_-miyI"
      },
      "execution_count": null,
      "outputs": []
    },
    {
      "cell_type": "code",
      "source": [
        "data=dist.Gamma(concentration=2, rate=1).expand([1000]).sample()\n",
        "print(data.min(),  data.median(), data.mean(),data.max(), data.var())\n",
        "sns.displot(data=data);"
      ],
      "metadata": {
        "id": "xzUMFa0KlXXN"
      },
      "execution_count": null,
      "outputs": []
    },
    {
      "cell_type": "code",
      "source": [
        ""
      ],
      "metadata": {
        "id": "h2VDWTeNOYr1"
      },
      "execution_count": null,
      "outputs": []
    },
    {
      "cell_type": "code",
      "source": [
        "# Inverse Gamma: for concentration > 2, \n",
        "#     mean = rate/(concentration - 1)\n",
        "#      var ~ concentration^2 / rate ^3\n",
        "#     MEDIAN  ~ rate / concentration\n",
        "\n",
        "# Gamma:\n",
        "# mean = concentration / rate\n",
        "# var = concentration / rate ^2\n",
        "\n",
        "data=dist.InverseGamma(concentration=7,rate=70.).expand([10000]).sample()\n",
        "\n",
        "print(data.min(),  data.median(), data.mean(), data.max(), data.var())\n",
        "sns.displot(data=data);"
      ],
      "metadata": {
        "id": "hnPI9A1aFuSP"
      },
      "execution_count": null,
      "outputs": []
    },
    {
      "cell_type": "code",
      "source": [
        "data=dist.HalfNormal(scale=200).expand([10000]).sample()\n",
        "\n",
        "print(data.min(),  data.median(), data.mean(), data.max(), data.var())\n",
        "sns.displot(data=data);"
      ],
      "metadata": {
        "id": "SUjDQGEGLI9k"
      },
      "execution_count": null,
      "outputs": []
    },
    {
      "cell_type": "markdown",
      "source": [
        "## Model Definition"
      ],
      "metadata": {
        "id": "GetrCeCLlpN6"
      }
    },
    {
      "cell_type": "code",
      "source": [
        "# def model_half_normal_priors(t, T, k, prior_only=False):\n",
        "#   '''\n",
        "#   input:\n",
        "#   vector t (nx1)  = time since most recent purchase (recency)\n",
        "#   vector T (nx1) = total observation time\n",
        "#   vector k (nx1) = number of purchases observed (k must be >= 2)\n",
        "\n",
        "#   n, etau_alpha, etau_beta, Lambda_alpha, Lambda_beta are scalars\n",
        "#   n = number of customers\n",
        "#   etau_alpha, etau_beta are priors for etau\n",
        "#   Lambda_alpha, Lambda_beta are priors for Lambda\n",
        "#   '''\n",
        "#   assert torch.all(k >=2.), \"There are illegal values of k. k must be >= 2\"\n",
        "\n",
        "#   def loglik(Lambda, mu, t, T, k):\n",
        "#     target = k * torch.log(Lambda) - torch.log(Lambda + mu)\n",
        "#     n = Lambda.size(0)\n",
        "#     for i in range(n):\n",
        "#       target  = target + torch.logaddexp(torch.log(Lambda[i]) - (Lambda[i] + mu[i]) * T[i],\n",
        "#                                         torch.log(mu[i]) - (Lambda[i] + mu[i]) * t[i]\n",
        "#                                         )\n",
        "#     return target\n",
        "  \n",
        "#   etau_alpha = pyro.sample('tau_alpha', dist.HalfNormal(scale=1))\n",
        "#   etau_beta = pyro.sample('tau_beta', dist.HalfNormal(scale=200))\n",
        "#   Lambda_alpha = pyro.sample('Lambda_alpha', dist.HalfNormal(scale=1))\n",
        "#   Lambda_beta = pyro.sample('Lambda_beta', dist.HalfNormal(scale=200))\n",
        "\n",
        "#   if not prior_only:\n",
        "#     with pyro.plate(\"data\", t.size(0)):\n",
        "#       etau  = pyro.sample('etau', dist.InverseGamma(etau_alpha, etau_beta)) #mean lifetime\n",
        "#       mu = pyro.deterministic('mu', 1./tau)\n",
        "#       Lambda = pyro.sample('Lambda', dist.Gamma(Lambda_alpha, Lambda_beta))\n",
        "#       one_over_Lambda = pyro.deterministic('one_over_Lambda', 1./Lambda)\n",
        "#     pyro.factor('loglik', loglik(Lambda, mu, t, T, k))"
      ],
      "metadata": {
        "id": "5XMcuD0pLynK"
      },
      "execution_count": null,
      "outputs": []
    },
    {
      "cell_type": "code",
      "source": [
        ""
      ],
      "metadata": {
        "id": "5j9uqfkpPhM5"
      },
      "execution_count": null,
      "outputs": []
    },
    {
      "cell_type": "code",
      "source": [
        ""
      ],
      "metadata": {
        "id": "bfB7Jr3nPg_m"
      },
      "execution_count": null,
      "outputs": []
    },
    {
      "cell_type": "code",
      "source": [
        "# def model_test(t, T, k, prior_only=False):\n",
        "#   '''\n",
        "#   input:\n",
        "#   vector t (nx1)  = time since most recent purchase (recency)\n",
        "#   vector T (nx1) = total observation time\n",
        "#   vector k (nx1) = number of purchases observed (k must be >= 2)\n",
        "\n",
        "#   n, etau_alpha, etau_beta, Lambda_alpha, Lambda_beta are scalars\n",
        "#   n = number of customers\n",
        "#   etau_alpha, etau_beta are priors for etau\n",
        "#   Lambda_alpha, Lambda_beta are priors for Lambda\n",
        "#   '''\n",
        "#   assert torch.all(k >=2.), \"There are illegal values of k. k must be >= 2\"\n",
        "\n",
        "#   def loglik(Lambda, mu, t, T, k):\n",
        "#     target = k * torch.log(Lambda) - torch.log(Lambda + mu)\n",
        "#     n = Lambda.size(0)\n",
        "#     for i in range(n):\n",
        "#       target  = target + torch.logaddexp(torch.log(Lambda[i]) - (Lambda[i] + mu[i]) * T[i],\n",
        "#                                         torch.log(mu[i]) - (Lambda[i] + mu[i]) * t[i]\n",
        "#                                         )\n",
        "#     return target\n",
        "  \n",
        "#   etau_alpha = pyro.sample('tau_alpha', dist.HalfCauchy(scale=2))\n",
        "#   etau_beta = pyro.sample('tau_beta', dist.HalfCauchy(scale=2), constraint=constraints.positive)\n",
        "#   Lambda_alpha = pyro.sample('Lambda_alpha', dist.HalfCauchy(scale=2), constraint=constraints.positive)\n",
        "#   Lambda_beta = pyro.sample('Lambda_beta', dist.HalfCauchy(scale=2), constraint=constraints.positive)\n",
        "\n",
        "#   if not prior_only:\n",
        "#     with pyro.plate(\"data\", t.size(0)):\n",
        "#       etau  = pyro.sample('etau', dist.InverseGamma(etau_alpha, etau_beta)) #mean lifetime\n",
        "#       mu = pyro.deterministic('mu', 1./tau)\n",
        "#       Lambda = pyro.sample('Lambda', dist.Gamma(Lambda_alpha, Lambda_beta))\n",
        "#       one_over_Lambda = pyro.deterministic('one_over_Lambda', 1./Lambda)\n",
        "#     pyro.factor('loglik', loglik(Lambda, mu, t, T, k))"
      ],
      "metadata": {
        "id": "I8ImhM3cicce"
      },
      "execution_count": null,
      "outputs": []
    },
    {
      "cell_type": "code",
      "source": [
        "from pyro.infer import MCMC, NUTS\n",
        "model = model_half_normal_priors\n",
        "nuts_kernel = NUTS(model)\n",
        "mcmc = MCMC(nuts_kernel, num_samples=1000, warmup_steps=250)\n",
        "\n",
        "mcmc.run(t, T, k, prior_only=True)"
      ],
      "metadata": {
        "id": "XQm0KyHKiJAz"
      },
      "execution_count": null,
      "outputs": []
    },
    {
      "cell_type": "code",
      "source": [
        "samples = mcmc.get_samples()\n",
        "hmc_samples = {k: v.detach().cpu().numpy() for k, v in samples.items()}\n",
        "hmc_samples.keys()"
      ],
      "metadata": {
        "id": "1WcRheyciI4D"
      },
      "execution_count": null,
      "outputs": []
    },
    {
      "cell_type": "code",
      "source": [
        "model = model_test\n",
        "nuts_kernel = NUTS(model, jit_compile=False)\n",
        "mcmc = MCMC(nuts_kernel, num_samples=1000, warmup_steps=250)\n",
        "\n",
        "mcmc.run(t, T, k, prior_only=False)"
      ],
      "metadata": {
        "id": "6JJWTUk-k0aq"
      },
      "execution_count": null,
      "outputs": []
    },
    {
      "cell_type": "code",
      "source": [
        "samples = mcmc.get_samples()\n",
        "hmc_samples = {k: v.detach().cpu().numpy() for k, v in samples.items()}\n",
        "keys = hmc_samples.keys()"
      ],
      "metadata": {
        "id": "Fyod-BaOo_yA"
      },
      "execution_count": null,
      "outputs": []
    },
    {
      "cell_type": "code",
      "source": [
        "for key in keys:\n",
        "  print(key, hmc_samples[key].shape)"
      ],
      "metadata": {
        "id": "IRDKxerQpcX7"
      },
      "execution_count": null,
      "outputs": []
    },
    {
      "cell_type": "code",
      "source": [
        "store = pyro.get_param_store()\n",
        "for key in store.keys():\n",
        "  print(key, store[key])"
      ],
      "metadata": {
        "id": "08BSgwhXsrIp"
      },
      "execution_count": null,
      "outputs": []
    },
    {
      "cell_type": "code",
      "source": [
        ""
      ],
      "metadata": {
        "id": "Wqw3kfN_vHp9"
      },
      "execution_count": null,
      "outputs": []
    },
    {
      "cell_type": "code",
      "source": [
        ""
      ],
      "metadata": {
        "id": "Suj2SGxMvHjU"
      },
      "execution_count": null,
      "outputs": []
    },
    {
      "cell_type": "code",
      "source": [
        ""
      ],
      "metadata": {
        "id": "_665Z_rcvHZO"
      },
      "execution_count": null,
      "outputs": []
    },
    {
      "cell_type": "markdown",
      "source": [
        "## sidebar"
      ],
      "metadata": {
        "id": "JcOz43EYu7vH"
      }
    },
    {
      "cell_type": "code",
      "source": [
        "Lambda = pd.DataFrame(hmc_samples['Lambda'])\n",
        "mu = pd.DataFrame(1. /hmc_samples['Lambda'])\n",
        "tau = pd.DataFrame(hmc_samples['tau'])"
      ],
      "metadata": {
        "id": "s8IMOlzvqujh"
      },
      "execution_count": null,
      "outputs": []
    },
    {
      "cell_type": "code",
      "source": [
        "pd.set_option('display.max_rows', 20)"
      ],
      "metadata": {
        "id": "JucK90v8r2il"
      },
      "execution_count": null,
      "outputs": []
    },
    {
      "cell_type": "code",
      "source": [
        "Lambda.describe().T"
      ],
      "metadata": {
        "id": "KpNP99nIrOV1"
      },
      "execution_count": null,
      "outputs": []
    },
    {
      "cell_type": "code",
      "source": [
        "mu.describe().T"
      ],
      "metadata": {
        "id": "aoTxN1qFseDE"
      },
      "execution_count": null,
      "outputs": []
    },
    {
      "cell_type": "code",
      "source": [
        "tau.describe().T"
      ],
      "metadata": {
        "id": "wXlBQhhmrWsW"
      },
      "execution_count": null,
      "outputs": []
    },
    {
      "cell_type": "code",
      "source": [
        "data"
      ],
      "metadata": {
        "id": "RFUvG1vTpENC"
      },
      "execution_count": null,
      "outputs": []
    },
    {
      "cell_type": "code",
      "source": [
        "data.shape"
      ],
      "metadata": {
        "id": "22HRZIYet0-q"
      },
      "execution_count": null,
      "outputs": []
    },
    {
      "cell_type": "code",
      "source": [
        "data.head()"
      ],
      "metadata": {
        "id": "qkG_jJPot5yM"
      },
      "execution_count": null,
      "outputs": []
    },
    {
      "cell_type": "code",
      "source": [
        "pd.concat([data.reset_index(),mu.describe().T ], axis=1) # is this valid? IDK"
      ],
      "metadata": {
        "id": "71P4dCg4tUW8"
      },
      "execution_count": null,
      "outputs": []
    },
    {
      "cell_type": "code",
      "source": [
        "pd.concat([data.reset_index(),tau.describe().T ], axis=1)"
      ],
      "metadata": {
        "id": "Qlb88hDjthmY"
      },
      "execution_count": null,
      "outputs": []
    },
    {
      "cell_type": "code",
      "source": [
        "# model = model_test\n",
        "# nuts_kernel_jit = NUTS(model, jit_compile=True, ignore_jit_warnings=True)\n",
        "# mcmc_jit = MCMC(nuts_kernel_jit, num_samples=1000, warmup_steps=250)\n",
        "\n",
        "# mcmc_jit.run(t, T, k, prior_only=False)"
      ],
      "metadata": {
        "id": "GeAROPQYk0Nu"
      },
      "execution_count": null,
      "outputs": []
    },
    {
      "cell_type": "code",
      "source": [
        ""
      ],
      "metadata": {
        "id": "RoO9RIb5k0E2"
      },
      "execution_count": null,
      "outputs": []
    },
    {
      "cell_type": "code",
      "source": [
        ""
      ],
      "metadata": {
        "id": "Ccpp47XJkz8k"
      },
      "execution_count": null,
      "outputs": []
    },
    {
      "cell_type": "code",
      "source": [
        ""
      ],
      "metadata": {
        "id": "2-SYeEgZkzyx"
      },
      "execution_count": null,
      "outputs": []
    },
    {
      "cell_type": "markdown",
      "source": [
        "## original model"
      ],
      "metadata": {
        "id": "oIsYOACkk45H"
      }
    },
    {
      "cell_type": "code",
      "source": [
        "def model_one(t, T, k, prior_only=False):\n",
        "  '''\n",
        "  input:\n",
        "  vector t (nx1)  = time since most recent purchase (recency)\n",
        "  vector T (nx1) = total observation time\n",
        "  vector k (nx1) = number of purchases observed (k must be >= 2)\n",
        "\n",
        "  n, etau_alpha, etau_beta, Lambda_alpha, Lambda_beta are scalars\n",
        "  n = number of customers\n",
        "  etau_alpha, etau_beta are priors for etau\n",
        "  Lambda_alpha, Lambda_beta are priors for Lambda\n",
        "  '''\n",
        "  assert torch.all(k >=2.), \"There are illegal values of k. k must be >= 2\"\n",
        "\n",
        "  def loglik(Lambda, mu, t, T, k):\n",
        "    target = k * torch.log(Lambda) - torch.log(Lambda + mu)\n",
        "    n = Lambda.size(0)\n",
        "    for i in range(n):\n",
        "      target  = target + torch.logaddexp(torch.log(Lambda[i]) - (Lambda[i] + mu[i]) * T[i],\n",
        "                                        torch.log(mu[i]) - (Lambda[i] + mu[i]) * t[i]\n",
        "                                        )\n",
        "    return target\n",
        "  \n",
        "  # etau_alpha = pyro.sample('etau_alpha', dist.)\n",
        "  # etau_beta = pyro.sample('etau_beta', dist)\n",
        "  # Lambda_alpha = pyro.sample('Lambda_alpha', dist)\n",
        "  # Lambda_beta = pyro.sample('Lambda_beta', dist)\n",
        "\n",
        "  with pyro.plate(\"data\", t.size(0)):\n",
        "    etau  = pyro.sample('etau', dist.InverseGamma(etau_alpha, etau_beta))\n",
        "    mu = 1./etau\n",
        "    Lambda = pyro.sample('Lambda', dist.Gamma(Lambda_alpha, Lambda_beta))\n",
        "\n",
        "  if prior_only:\n",
        "    pyro.factor('loglik', loglik(Lambda, mu, t, T, k))\n",
        "  else:\n",
        "    pyro.factor('zero', 0)"
      ],
      "metadata": {
        "id": "UbZZAZQJfbb-"
      },
      "execution_count": null,
      "outputs": []
    },
    {
      "cell_type": "code",
      "source": [
        ""
      ],
      "metadata": {
        "id": "zJX96GcqiaRp"
      },
      "execution_count": null,
      "outputs": []
    },
    {
      "cell_type": "markdown",
      "source": [
        "## create data"
      ],
      "metadata": {
        "id": "IdaeP-s_k_zr"
      }
    },
    {
      "cell_type": "markdown",
      "source": [
        "## Perform MCMC"
      ],
      "metadata": {
        "id": "VA5Aa_Q1fkE6"
      }
    },
    {
      "cell_type": "code",
      "source": [
        "from pyro.infer import MCMC, NUTS\n",
        "model = model_test\n",
        "nuts_kernel = NUTS(model)\n",
        "mcmc = MCMC(nuts_kernel, num_samples=1000, warmup_steps=250)\n",
        "\n",
        "mcmc.run(t, T, k, prior_only=True)"
      ],
      "metadata": {
        "id": "qN0a8ZjMa4H4"
      },
      "execution_count": null,
      "outputs": []
    },
    {
      "cell_type": "code",
      "source": [
        "samples = mcmc.get_samples()\n",
        "hmc_samples = {k: v.detach().cpu().numpy() for k, v in samples.items()}\n",
        "hmc_samples.keys()"
      ],
      "metadata": {
        "id": "k5sSaGJthRW1"
      },
      "execution_count": null,
      "outputs": []
    },
    {
      "cell_type": "code",
      "source": [
        "for key in hmc_samples.keys():\n",
        "  sns.kdeplot(data = hmc_samples[key])"
      ],
      "metadata": {
        "id": "7CBnPcwahRS7"
      },
      "execution_count": null,
      "outputs": []
    },
    {
      "cell_type": "markdown",
      "source": [
        "## Centered BTYD"
      ],
      "metadata": {
        "id": "XZxpKYo-fWZU"
      }
    },
    {
      "cell_type": "code",
      "source": [
        "\n",
        "# https://www.briancallander.com/posts/customer_lifetime_value/models/rf.stan\n",
        "# data_hyperpriors <- list(\n",
        "#   log_life_mean_mu = log(31),\n",
        "#   log_life_mean_sigma = 0.7,\n",
        "#   log_life_scale_sigma = 0.8,\n",
        "\n",
        "#   log_lambda_mean_mu = log(1 / 14),\n",
        "#   log_lambda_mean_sigma = 0.3,\n",
        "#   log_lambda_scale_sigma = 0.5\n",
        "# )\n",
        "data {\n",
        "  int<lower = 1> n;       // number of customers\n",
        "  vector<lower = 0>[n] t; // time to most recent purchase\n",
        "  vector<lower = 0>[n] T; // total observation time\n",
        "  vector<lower = 0>[n] k; // number of purchases observed\n",
        "\n",
        "  // user-specified parameters\n",
        "  real<lower = 0> etau_mean_alpha;\n",
        "  real<lower = 0> etau_mean_beta;\n",
        "  real<lower = 0> etau_sd_alpha;\n",
        "  real<lower = 0> etau_sd_beta;\n",
        "\n",
        "  real<lower = 0> lambda_mean_alpha;\n",
        "  real<lower = 0> lambda_mean_beta;\n",
        "  real<lower = 0> lambda_sd_alpha;\n",
        "  real<lower = 0> lambda_sd_beta;\n",
        "}\n",
        "\n",
        "parameters {\n",
        "  vector<lower = 0>[n] lambda; // purchase rate\n",
        "  vector<lower = 0>[n] etau;   // expected mean lifetime\n",
        "\n",
        "  vector<lower = 0>[n] etau_mean; // mean expected life span\n",
        "  vector<lower = 0>[n] etau_sd;\n",
        "  vector<lower = 0>[n] lambda_mean; // mean purchase rate\n",
        "  vector<lower = 0>[n] lambda_sd;\n",
        "\n",
        "}\n",
        "\n",
        "transformed parameters {\n",
        "  vector<lower = 0>[n] etau_beta = etau_mean;\n",
        "  vector<lower = 0>[n] etau_alpha = etau_sd;\n",
        "  vector<lower = 0>[n] lambda_beta = lambda_mean ./ (lambda_sd .* lambda_sd);\n",
        "  vector<lower = 0>[n] lambda_alpha = lambda_beta .* lambda_mean;\n",
        "\n",
        "  vector<lower = 0>[n] mu = 1.0 ./ etau;\n",
        "}\n",
        "\n",
        "model {\n",
        "  // hyperpriors\n",
        "  etau_mean ~ gamma(etau_mean_alpha, etau_mean_beta);\n",
        "  etau_sd ~ gamma(etau_sd_alpha, etau_sd_beta);\n",
        "\n",
        "  lambda_mean ~ gamma(lambda_mean_alpha, lambda_mean_beta);\n",
        "  lambda_sd ~ gamma(lambda_sd_alpha, lambda_sd_beta);\n",
        "\n",
        "  // priors\n",
        "  etau ~ inv_gamma(etau_alpha, etau_beta);\n",
        "  lambda ~ gamma(lambda_alpha, lambda_beta);\n",
        "\n",
        "  // likelihood\n",
        "  target += k .* log(lambda) - log(lambda + mu);\n",
        "  for (i in 1:n) {\n",
        "    target += log_sum_exp(\n",
        "      log(lambda[i]) - (lambda[i] + mu[i]) .* T[i],\n",
        "      log(mu[i]) - (lambda[i] + mu[i]) .* t[i]\n",
        "    );\n",
        "  }\n",
        "}\n"
      ],
      "metadata": {
        "id": "Sme-1n-EhRG8"
      },
      "execution_count": null,
      "outputs": []
    },
    {
      "cell_type": "markdown",
      "source": [
        "## Non-centered BTYD"
      ],
      "metadata": {
        "id": "nUSy4aCHfbpl"
      }
    },
    {
      "cell_type": "code",
      "source": [
        "# non-centered BTYD\n",
        "# https://www.briancallander.com/posts/customer_lifetime_value/recency_frequency.html\n",
        "# https://www.briancallander.com/posts/customer_lifetime_value/models/rf_noncentred.stan\n",
        "\n",
        "data {\n",
        "  int<lower = 1> n;       // number of customers\n",
        "  vector<lower = 0>[n] t; // time between first and last purchase\n",
        "  vector<lower = 0>[n] T; // total observation time\n",
        "  vector<lower = 0>[n] k; // number of purchases\n",
        "\n",
        "  // hyperparameters for the expected lifetime\n",
        "  real log_life_mean_mu;\n",
        "  real<lower = 0> log_life_mean_sigma;\n",
        "  // hyperparameter for scale of customer-level lifetime effects\n",
        "  real<lower = 0> log_life_scale_sigma;\n",
        "\n",
        "  // hyperparameters for the expected purchase rate\n",
        "  real log_lambda_mean_mu;\n",
        "  real<lower = 0> log_lambda_mean_sigma;\n",
        "  // hyperparameter for scale of customer-level purchase-rate effects\n",
        "  real<lower = 0> log_lambda_scale_sigma;\n",
        "\n",
        "  // flag whether to only sample from the prior\n",
        "  // to draw from the prior-predictive distribution: prior_only = 1\n",
        "  // to draw from the posterior distribution: prior_only = 0\n",
        "  int<lower = 0, upper = 1> prior_only;\n",
        "}\n",
        "\n",
        "transformed data {\n",
        "  vector<lower = 0, upper = 0>[2] zero = rep_vector(0, 2);\n",
        "  vector[2] J = [-1, 1]';\n",
        "  vector[2] m = [log_life_mean_mu, log_lambda_mean_mu]';\n",
        "  matrix<lower = 0>[2, 2] m_sigma = diag_matrix([log_life_mean_sigma, log_lambda_mean_sigma]');\n",
        "  matrix<lower = 0>[2, 2] s_sigma = diag_matrix([log_life_scale_sigma, log_lambda_scale_sigma]');\n",
        "}\n",
        "\n",
        "parameters {\n",
        "  row_vector[2] log_centres;\n",
        "  vector<lower = 0>[2] scales;\n",
        "  matrix[n, 2] customer; // customer-level effects\n",
        "}\n",
        "\n",
        "transformed parameters {\n",
        "  matrix<lower = 0>[n, 2] theta = exp(\n",
        "    diag_post_multiply(\n",
        "      rep_matrix(log_centres, n) + diag_post_multiply(customer, scales),\n",
        "      J\n",
        "    )\n",
        "  ); // (mu, lambda)\n",
        "}\n",
        "\n",
        "model {\n",
        "  // priors\n",
        "  log_centres ~ multi_normal_cholesky(m, m_sigma);\n",
        "  scales ~ multi_normal_cholesky(zero, s_sigma);\n",
        "\n",
        "  for (i in 1:n) {\n",
        "\n",
        "    customer[i, ] ~ std_normal();\n",
        "\n",
        "    // likelihood\n",
        "    if (prior_only == 0) {\n",
        "      target += log_sum_exp(\n",
        "        log(theta[i, 2]) - (theta[i, 2] + theta[i, 1]) .* T[i],\n",
        "        log(theta[i, 1]) - (theta[i, 2] + theta[i, 1]) .* t[i]\n",
        "      );\n",
        "    }\n",
        "  }\n",
        "\n",
        "  if (prior_only == 0) {\n",
        "    target += k .* log(theta[, 2]) - log(theta[, 2] + theta[, 1]);\n",
        "  }\n",
        "\n",
        "}\n"
      ],
      "metadata": {
        "id": "Ro27nMERhRC0"
      },
      "execution_count": null,
      "outputs": []
    },
    {
      "cell_type": "code",
      "source": [
        ""
      ],
      "metadata": {
        "id": "Z0rsJXyYhQ-l"
      },
      "execution_count": null,
      "outputs": []
    },
    {
      "cell_type": "code",
      "source": [
        ""
      ],
      "metadata": {
        "id": "FH8phAQghQ6M"
      },
      "execution_count": null,
      "outputs": []
    },
    {
      "cell_type": "code",
      "source": [
        ""
      ],
      "metadata": {
        "id": "zEmNp40EhQ08"
      },
      "execution_count": null,
      "outputs": []
    },
    {
      "cell_type": "code",
      "source": [
        ""
      ],
      "metadata": {
        "id": "flVVOL4xhQv1"
      },
      "execution_count": null,
      "outputs": []
    },
    {
      "cell_type": "code",
      "source": [
        ""
      ],
      "metadata": {
        "id": "wdwtKGxghQoZ"
      },
      "execution_count": null,
      "outputs": []
    },
    {
      "cell_type": "code",
      "source": [
        ""
      ],
      "metadata": {
        "id": "z-qcdufPhQd4"
      },
      "execution_count": null,
      "outputs": []
    }
  ]
}
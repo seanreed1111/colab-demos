{
  "cells": [
    {
      "cell_type": "code",
      "execution_count": null,
      "metadata": {
        "colab": {
          "base_uri": "https://localhost:8080/"
        },
        "id": "nVP7xmlom-Kr",
        "outputId": "c16a7910-3dcc-46ce-8dbd-4a50067e8793"
      },
      "outputs": [],
      "source": [
        "pip install pyro-ppl"
      ]
    },
    {
      "cell_type": "code",
      "execution_count": null,
      "metadata": {
        "id": "mR4g5s1HnUsy"
      },
      "outputs": [],
      "source": [
        "import torch\n",
        "import matplotlib.pyplot as plt\n",
        "import numpy as np\n",
        "import pandas as pd\n",
        "import seaborn as sns\n",
        "\n",
        "from torch.distributions import constraints\n",
        "from torch import tensor\n",
        "\n",
        "import pyro\n",
        "import pyro.distributions as dist\n",
        "from pyro.infer import Predictive, SVI, Trace_ELBO, NUTS, MCMC\n",
        "from pyro.infer.autoguide import AutoNormal, AutoMultivariateNormal, init_to_mean\n",
        "from pyro.optim import Adam\n",
        "\n",
        "\n",
        "pyro.set_rng_seed(1)\n",
        "\n",
        "torch.manual_seed(1)\n",
        "plt.rcParams['figure.figsize'] = [12, 8]"
      ]
    },
    {
      "cell_type": "code",
      "execution_count": null,
      "metadata": {
        "id": "GJgILQzCtycu"
      },
      "outputs": [],
      "source": [
        "from sklearn.datasets import load_iris\n",
        "\n",
        "X, y = load_iris(as_frame=True, return_X_y=True)\n",
        "X['type'] = y\n",
        "# type_names = ['setosa', 'versicolor', 'virginica']"
      ]
    },
    {
      "cell_type": "code",
      "execution_count": null,
      "metadata": {
        "colab": {
          "base_uri": "https://localhost:8080/",
          "height": 744
        },
        "id": "W_P6wxAXvumc",
        "outputId": "750733df-7db0-49a4-b431-309bae6177b3"
      },
      "outputs": [],
      "source": [
        "sns.pairplot(data=X, hue='type', palette=\"colorblind\")"
      ]
    },
    {
      "cell_type": "markdown",
      "metadata": {},
      "source": [
        "## Linear Regression with Iris Data"
      ]
    },
    {
      "cell_type": "code",
      "execution_count": null,
      "metadata": {},
      "outputs": [],
      "source": [
        "### So this dataset gives us a lot of different data to model\n",
        "\n",
        "### Let's start off with a simple linear regression and let's model petal width as a function of petal length\n",
        "# convert to torch tensors\n",
        "\n",
        "# Performing a Linear Regression 'petal width ~ petal length'\n",
        "X_ = tensor(X.values)\n",
        "data = X_[:,2]\n",
        "target = X_[:,4]\n",
        "data_column_names = X.columns[2]\n",
        "data_column_names"
      ]
    },
    {
      "cell_type": "code",
      "execution_count": null,
      "metadata": {},
      "outputs": [],
      "source": [
        "# We are going to make a Bayesian Linear Regression Model using Pyro, and solve it using the PyTorch infra"
      ]
    },
    {
      "cell_type": "code",
      "execution_count": null,
      "metadata": {
        "id": "e4jH2EfQm6zo"
      },
      "outputs": [],
      "source": [
        "def model_1(data, target):\n",
        "    intercept_prior = 0.0 # goes through the origin. If it didn't, add a dist for the intercept prior\n",
        "\n",
        "    beta = pyro.sample(\"beta\", dist.Uniform(0., 2.)) #beta prior. Determined by data scientist\n",
        "\n",
        "    mean = intercept_prior + (data * beta)\n",
        "    \n",
        "    sigma_1 = pyro.sample('sigma',dist.Exponential(0.25)) #sigma prior. Determined by data scientist\n",
        "\n",
        "    with pyro.plate('data', target.size(0)): #plate makes one draw for each data point\n",
        "      pyro.sample('obs', dist.Normal(mean, sigma_1), obs=target)\n",
        "\n"
      ]
    },
    {
      "cell_type": "code",
      "execution_count": null,
      "metadata": {
        "colab": {
          "base_uri": "https://localhost:8080/",
          "height": 500
        },
        "id": "ButaTYUg1Cgf",
        "outputId": "775170e1-718e-41c7-d9d7-57bd7630db27"
      },
      "outputs": [],
      "source": [
        "#Aside Why Exponential(0.25) for the sigma prior?\n",
        "\n",
        "sns.kdeplot(dist.Exponential(0.25).sample([1000]))"
      ]
    },
    {
      "cell_type": "code",
      "execution_count": null,
      "metadata": {
        "id": "nQ6xwiGt5XIM"
      },
      "outputs": [],
      "source": [
        "guide = AutoMultivariateNormal(model_1) #Pyro has a convenient set of autoguides available. One can also write custom guides.\n",
        "\n",
        "def train(model, guide, lr=0.01, n_steps=1500):\n",
        "    pyro.set_rng_seed(1)\n",
        "    pyro.clear_param_store()\n",
        "    \n",
        "    gamma = 0.1  # final learning rate will be gamma * initial_lr\n",
        "    lrd = gamma ** (1 / n_steps)\n",
        "    adam = pyro.optim.ClippedAdam({'lr': lr, 'lrd': lrd})\n",
        "\n",
        "    svi = SVI(model, guide, adam, loss=Trace_ELBO())\n",
        "\n",
        "    for i in range(n_steps):\n",
        "        elbo = svi.step(data, target)\n",
        "        if i % 500 == 0:\n",
        "          print(f\"Elbo loss: {elbo}\")"
      ]
    },
    {
      "cell_type": "code",
      "execution_count": null,
      "metadata": {
        "colab": {
          "base_uri": "https://localhost:8080/"
        },
        "id": "1PTlhDqE3eRp",
        "outputId": "b21112f5-884b-4da6-d4d1-f2240f969453"
      },
      "outputs": [],
      "source": [
        "%%time\n",
        "train(model_1, guide) #Question: Should I train my guide for more steps? Why or why not?"
      ]
    },
    {
      "cell_type": "code",
      "execution_count": null,
      "metadata": {
        "id": "DGtt4I8nMxBb"
      },
      "outputs": [],
      "source": [
        "from pyro.infer import Predictive\n",
        "\n",
        "num_samples = 1000\n",
        "predictive = Predictive(model_1, guide=guide, num_samples=num_samples)\n",
        "\n",
        "svi_samples = {k: v.reshape(num_samples).detach().cpu().numpy()\n",
        "               for k, v in predictive(data, target, data_column_names).items()\n",
        "               if k != \"obs\"}"
      ]
    },
    {
      "cell_type": "code",
      "execution_count": null,
      "metadata": {
        "colab": {
          "base_uri": "https://localhost:8080/"
        },
        "id": "ioaYB_0tMw4u",
        "outputId": "290ad16c-61b0-43b9-86f1-92ca5f321592"
      },
      "outputs": [],
      "source": [
        "svi_samples.keys()"
      ]
    },
    {
      "cell_type": "code",
      "execution_count": null,
      "metadata": {
        "colab": {
          "base_uri": "https://localhost:8080/",
          "height": 500
        },
        "id": "Rryb6uXyMw1O",
        "outputId": "809c4ad5-e7f6-47bb-f1e9-a0aa2eacdae8"
      },
      "outputs": [],
      "source": [
        "sns.kdeplot(svi_samples['beta'])"
      ]
    },
    {
      "cell_type": "code",
      "execution_count": null,
      "metadata": {
        "colab": {
          "base_uri": "https://localhost:8080/",
          "height": 500
        },
        "id": "yPeK1D1rMwvC",
        "outputId": "f2ca10fa-324c-4e7b-f49c-1d2652fc6021"
      },
      "outputs": [],
      "source": [
        "sns.kdeplot(svi_samples['sigma'])"
      ]
    },
    {
      "cell_type": "code",
      "execution_count": null,
      "metadata": {
        "colab": {
          "base_uri": "https://localhost:8080/",
          "height": 515
        },
        "id": "BANRK4H5Ry3m",
        "outputId": "2db85915-27af-4c53-bea9-c1612d184b92"
      },
      "outputs": [],
      "source": [
        "xx = np.linspace(1,7,50)\n",
        "yy = (svi_samples['beta'].mean()) * xx #draw a line through the mean of the predicted slope estimates\n",
        "ax = sns.scatterplot(x='petal length (cm)', y='petal width (cm)', palette='colorblind', hue='target', data=X)\n",
        "sns.lineplot(x=xx, y=yy, ax=ax)\n",
        "plt.xlim(0,7)"
      ]
    },
    {
      "cell_type": "code",
      "execution_count": null,
      "metadata": {
        "id": "0ON4V2ToOVCK"
      },
      "outputs": [],
      "source": [
        "# What about MCMC?\n",
        "from pyro.infer import MCMC, NUTS\n",
        "nuts_kernel = NUTS(model_1)\n",
        "mcmc = MCMC(nuts_kernel, num_samples=1000, warmup_steps=200)"
      ]
    },
    {
      "cell_type": "code",
      "execution_count": null,
      "metadata": {
        "colab": {
          "base_uri": "https://localhost:8080/"
        },
        "id": "z-Xa8UgpsOwm",
        "outputId": "19e8a134-7f79-4228-d4f9-5eec1349969f"
      },
      "outputs": [],
      "source": [
        "%%time\n",
        "mcmc.run(data, target, data_column_names)"
      ]
    },
    {
      "cell_type": "code",
      "execution_count": null,
      "metadata": {
        "id": "GDdS0mW6PUVH"
      },
      "outputs": [],
      "source": [
        "hmc_samples = {k: v.detach().cpu().numpy() for k, v in mcmc.get_samples().items()}"
      ]
    },
    {
      "cell_type": "code",
      "execution_count": null,
      "metadata": {
        "colab": {
          "base_uri": "https://localhost:8080/"
        },
        "id": "jgUv4jX_WjPO",
        "outputId": "9298284f-4696-41f9-baf5-98c7a10f7e0c"
      },
      "outputs": [],
      "source": [
        "hmc_samples.keys()"
      ]
    },
    {
      "cell_type": "code",
      "execution_count": null,
      "metadata": {
        "colab": {
          "base_uri": "https://localhost:8080/",
          "height": 515
        },
        "id": "ZUsX7LfqWqgV",
        "outputId": "e22dc536-3b77-48e4-8d74-50a6e5d4c582"
      },
      "outputs": [],
      "source": [
        "xx = np.linspace(1,7,50)\n",
        "yy_mean = (hmc_samples['beta'].mean()) * xx\n",
        "sns.scatterplot(x='petal length (cm)', y='petal width (cm)', palette='colorblind', hue='target', data=X)\n",
        "sns.lineplot(x=xx, y=yy_mean)\n",
        "plt.xlim(0,7)"
      ]
    },
    {
      "cell_type": "markdown",
      "metadata": {
        "id": "ISuaGndqkcMg"
      },
      "source": [
        "## Footnotes\n",
        "### Notice that I did not center the data. This is a no-no! \n",
        "*Always center your data*! Do as I say, not as I do.\n",
        "Centering the data helps you properly interpret the parameters of the (multiple) linear regression. \n",
        "Centering might also help model convergence in general, although since the variables are all the same order of magnitude, probably would not matter in this case\n",
        "\n",
        "### Notice that I calculated the MEAN slope of the posterior samples. \n",
        "If you re-did this using scikit learn or statsmodels OLS, you would retrieve the **maximium likelihood estimate** of the slope. The answer retrieved would be 'close' to our answer above, but different! "
      ]
    },
    {
      "cell_type": "code",
      "execution_count": null,
      "metadata": {
        "id": "0imkTurfW0ET"
      },
      "outputs": [],
      "source": [
        "#Final Note:  there is no free lunch! MCMC is generally much slower for big data.\n",
        "\n",
        "#HOWEVER, If you need a more exact answer of where the posterior lies, use MCMC, since MCMC does a better job than SVI and the autoguides.\n",
        "# If you want to use SVI you're going to have to pay close attention to the construction of your guide!\n",
        "# That's all I'll say about SVI and guides for now. Come back in a few weeks when I know more!"
      ]
    },
    {
      "cell_type": "markdown",
      "metadata": {},
      "source": [
        "## Logistic Regression with Iris Data"
      ]
    },
    {
      "cell_type": "markdown",
      "metadata": {},
      "source": [
        "see [logistic regression notebook]('pyro_logistic_regression_iris.ipynb')"
      ]
    },
    {
      "cell_type": "code",
      "execution_count": null,
      "metadata": {
        "id": "YW5zbZ50aavQ"
      },
      "outputs": [],
      "source": []
    }
  ],
  "metadata": {
    "colab": {
      "name": "iris-pyro.ipynb",
      "provenance": []
    },
    "kernelspec": {
      "display_name": "Python 3",
      "name": "python3"
    },
    "language_info": {
      "name": "python"
    }
  },
  "nbformat": 4,
  "nbformat_minor": 0
}

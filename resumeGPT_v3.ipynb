{
  "nbformat": 4,
  "nbformat_minor": 0,
  "metadata": {
    "colab": {
      "provenance": [],
      "authorship_tag": "ABX9TyMhz+IejBPY+WUZqWyuzI+J",
      "include_colab_link": true
    },
    "kernelspec": {
      "name": "python3",
      "display_name": "Python 3"
    },
    "language_info": {
      "name": "python"
    }
  },
  "cells": [
    {
      "cell_type": "markdown",
      "metadata": {
        "id": "view-in-github",
        "colab_type": "text"
      },
      "source": [
        "<a href=\"https://colab.research.google.com/github/seanreed1111/colab-demos/blob/master/resumeGPT_v3.ipynb\" target=\"_parent\"><img src=\"https://colab.research.google.com/assets/colab-badge.svg\" alt=\"Open In Colab\"/></a>"
      ]
    },
    {
      "cell_type": "markdown",
      "source": [
        "## TODO  \n",
        "- Return a link to the full original resume instead of to chunks\n",
        "- Run experiments to find optimal chunking size of resume text\n",
        "- Figure out how to use Ada, and Babbage to reduce costs\n",
        "- port to Azure Platform\n",
        "\n"
      ],
      "metadata": {
        "id": "58pU0G9FGWyG"
      }
    },
    {
      "cell_type": "code",
      "source": [
        "%pip install -qqq loguru textract tiktoken openai azure-ai-ml mlflow azureml-sdk azureml-mlflow"
      ],
      "metadata": {
        "colab": {
          "base_uri": "https://localhost:8080/"
        },
        "id": "poRnH-oftTPb",
        "outputId": "63803dc1-ba00-41d8-e429-3aeb76a48f33",
        "collapsed": true
      },
      "execution_count": 1,
      "outputs": [
        {
          "output_type": "stream",
          "name": "stdout",
          "text": [
            "\u001b[2K     \u001b[90m━━━━━━━━━━━━━━━━━━━━━━━━━━━━━━━━━━━━━━━━\u001b[0m \u001b[32m60.0/60.0 kB\u001b[0m \u001b[31m1.1 MB/s\u001b[0m eta \u001b[36m0:00:00\u001b[0m\n",
            "\u001b[2K     \u001b[90m━━━━━━━━━━━━━━━━━━━━━━━━━━━━━━━━━━━━━━━━\u001b[0m \u001b[32m1.7/1.7 MB\u001b[0m \u001b[31m25.0 MB/s\u001b[0m eta \u001b[36m0:00:00\u001b[0m\n",
            "\u001b[2K     \u001b[90m━━━━━━━━━━━━━━━━━━━━━━━━━━━━━━━━━━━━━━━━\u001b[0m \u001b[32m71.9/71.9 kB\u001b[0m \u001b[31m3.0 MB/s\u001b[0m eta \u001b[36m0:00:00\u001b[0m\n",
            "\u001b[2K     \u001b[90m━━━━━━━━━━━━━━━━━━━━━━━━━━━━━━━━━━━━━━━━\u001b[0m \u001b[32m6.1/6.1 MB\u001b[0m \u001b[31m18.8 MB/s\u001b[0m eta \u001b[36m0:00:00\u001b[0m\n",
            "\u001b[2K     \u001b[90m━━━━━━━━━━━━━━━━━━━━━━━━━━━━━━━━━━━━━━━━\u001b[0m \u001b[32m17.7/17.7 MB\u001b[0m \u001b[31m17.3 MB/s\u001b[0m eta \u001b[36m0:00:00\u001b[0m\n",
            "\u001b[2K     \u001b[90m━━━━━━━━━━━━━━━━━━━━━━━━━━━━━━━━━━━━━━\u001b[0m \u001b[32m814.0/814.0 kB\u001b[0m \u001b[31m20.9 MB/s\u001b[0m eta \u001b[36m0:00:00\u001b[0m\n",
            "\u001b[2K     \u001b[90m━━━━━━━━━━━━━━━━━━━━━━━━━━━━━━━━━━━━━━━━\u001b[0m \u001b[32m69.0/69.0 kB\u001b[0m \u001b[31m4.2 MB/s\u001b[0m eta \u001b[36m0:00:00\u001b[0m\n",
            "\u001b[2K     \u001b[90m━━━━━━━━━━━━━━━━━━━━━━━━━━━━━━━━━━━━━━━━\u001b[0m \u001b[32m32.8/32.8 MB\u001b[0m \u001b[31m9.6 MB/s\u001b[0m eta \u001b[36m0:00:00\u001b[0m\n",
            "\u001b[2K     \u001b[90m━━━━━━━━━━━━━━━━━━━━━━━━━━━━━━━━━━━━━━━\u001b[0m \u001b[32m106.9/106.9 kB\u001b[0m \u001b[31m1.6 MB/s\u001b[0m eta \u001b[36m0:00:00\u001b[0m\n",
            "\u001b[2K     \u001b[90m━━━━━━━━━━━━━━━━━━━━━━━━━━━━━━━━━━━━━━━━\u001b[0m \u001b[32m5.6/5.6 MB\u001b[0m \u001b[31m25.7 MB/s\u001b[0m eta \u001b[36m0:00:00\u001b[0m\n",
            "\u001b[2K     \u001b[90m━━━━━━━━━━━━━━━━━━━━━━━━━━━━━━━━━━━━━━━━\u001b[0m \u001b[32m10.1/10.1 MB\u001b[0m \u001b[31m33.2 MB/s\u001b[0m eta \u001b[36m0:00:00\u001b[0m\n",
            "\u001b[?25h  Preparing metadata (setup.py) ... \u001b[?25l\u001b[?25hdone\n",
            "  Preparing metadata (setup.py) ... \u001b[?25l\u001b[?25hdone\n",
            "\u001b[2K     \u001b[90m━━━━━━━━━━━━━━━━━━━━━━━━━━━━━━━━━━━━━━━\u001b[0m \u001b[32m133.4/133.4 kB\u001b[0m \u001b[31m7.4 MB/s\u001b[0m eta \u001b[36m0:00:00\u001b[0m\n",
            "\u001b[2K     \u001b[90m━━━━━━━━━━━━━━━━━━━━━━━━━━━━━━━━━━━━━━━\u001b[0m \u001b[32m103.3/103.3 kB\u001b[0m \u001b[31m6.1 MB/s\u001b[0m eta \u001b[36m0:00:00\u001b[0m\n",
            "\u001b[2K     \u001b[90m━━━━━━━━━━━━━━━━━━━━━━━━━━━━━━━━━━━━━━━━\u001b[0m \u001b[32m2.1/2.1 MB\u001b[0m \u001b[31m41.6 MB/s\u001b[0m eta \u001b[36m0:00:00\u001b[0m\n",
            "\u001b[2K     \u001b[90m━━━━━━━━━━━━━━━━━━━━━━━━━━━━━━━━━━━━━━━━\u001b[0m \u001b[32m1.0/1.0 MB\u001b[0m \u001b[31m8.1 MB/s\u001b[0m eta \u001b[36m0:00:00\u001b[0m\n",
            "\u001b[2K     \u001b[90m━━━━━━━━━━━━━━━━━━━━━━━━━━━━━━━━━━━━━━━━\u001b[0m \u001b[32m49.1/49.1 kB\u001b[0m \u001b[31m2.4 MB/s\u001b[0m eta \u001b[36m0:00:00\u001b[0m\n",
            "\u001b[2K     \u001b[90m━━━━━━━━━━━━━━━━━━━━━━━━━━━━━━━━━━━━━━━━\u001b[0m \u001b[32m41.7/41.7 kB\u001b[0m \u001b[31m1.9 MB/s\u001b[0m eta \u001b[36m0:00:00\u001b[0m\n",
            "\u001b[2K     \u001b[90m━━━━━━━━━━━━━━━━━━━━━━━━━━━━━━━━━━━━━━\u001b[0m \u001b[32m173.9/173.9 kB\u001b[0m \u001b[31m10.8 MB/s\u001b[0m eta \u001b[36m0:00:00\u001b[0m\n",
            "\u001b[2K     \u001b[90m━━━━━━━━━━━━━━━━━━━━━━━━━━━━━━━━━━━━━━\u001b[0m \u001b[32m247.8/247.8 kB\u001b[0m \u001b[31m16.6 MB/s\u001b[0m eta \u001b[36m0:00:00\u001b[0m\n",
            "\u001b[2K     \u001b[90m━━━━━━━━━━━━━━━━━━━━━━━━━━━━━━━━━━━━━━━━\u001b[0m \u001b[32m85.4/85.4 kB\u001b[0m \u001b[31m5.8 MB/s\u001b[0m eta \u001b[36m0:00:00\u001b[0m\n",
            "\u001b[2K     \u001b[90m━━━━━━━━━━━━━━━━━━━━━━━━━━━━━━━━━━━━━━━━\u001b[0m \u001b[32m85.0/85.0 kB\u001b[0m \u001b[31m4.4 MB/s\u001b[0m eta \u001b[36m0:00:00\u001b[0m\n",
            "\u001b[2K     \u001b[90m━━━━━━━━━━━━━━━━━━━━━━━━━━━━━━━━━━━━━━━━\u001b[0m \u001b[32m43.0/43.0 kB\u001b[0m \u001b[31m1.5 MB/s\u001b[0m eta \u001b[36m0:00:00\u001b[0m\n",
            "\u001b[2K     \u001b[90m━━━━━━━━━━━━━━━━━━━━━━━━━━━━━━━━━━━━━━━\u001b[0m \u001b[32m265.7/265.7 kB\u001b[0m \u001b[31m9.8 MB/s\u001b[0m eta \u001b[36m0:00:00\u001b[0m\n",
            "\u001b[2K     \u001b[90m━━━━━━━━━━━━━━━━━━━━━━━━━━━━━━━━━━━━━━━\u001b[0m \u001b[32m123.9/123.9 kB\u001b[0m \u001b[31m5.4 MB/s\u001b[0m eta \u001b[36m0:00:00\u001b[0m\n",
            "\u001b[2K     \u001b[90m━━━━━━━━━━━━━━━━━━━━━━━━━━━━━━━━━━━━━━\u001b[0m \u001b[32m388.0/388.0 kB\u001b[0m \u001b[31m18.4 MB/s\u001b[0m eta \u001b[36m0:00:00\u001b[0m\n",
            "\u001b[2K     \u001b[90m━━━━━━━━━━━━━━━━━━━━━━━━━━━━━━━━━━━━━━━\u001b[0m \u001b[32m212.9/212.9 kB\u001b[0m \u001b[31m9.5 MB/s\u001b[0m eta \u001b[36m0:00:00\u001b[0m\n",
            "\u001b[2K     \u001b[90m━━━━━━━━━━━━━━━━━━━━━━━━━━━━━━━━━━━━━━\u001b[0m \u001b[32m184.3/184.3 kB\u001b[0m \u001b[31m12.4 MB/s\u001b[0m eta \u001b[36m0:00:00\u001b[0m\n",
            "\u001b[2K     \u001b[90m━━━━━━━━━━━━━━━━━━━━━━━━━━━━━━━━━━━━━━━━\u001b[0m \u001b[32m79.5/79.5 kB\u001b[0m \u001b[31m4.6 MB/s\u001b[0m eta \u001b[36m0:00:00\u001b[0m\n",
            "\u001b[2K     \u001b[90m━━━━━━━━━━━━━━━━━━━━━━━━━━━━━━━━━━━━━━━\u001b[0m \u001b[32m147.9/147.9 kB\u001b[0m \u001b[31m6.6 MB/s\u001b[0m eta \u001b[36m0:00:00\u001b[0m\n",
            "\u001b[2K     \u001b[90m━━━━━━━━━━━━━━━━━━━━━━━━━━━━━━━━━━━━━━━━\u001b[0m \u001b[32m83.5/83.5 kB\u001b[0m \u001b[31m4.6 MB/s\u001b[0m eta \u001b[36m0:00:00\u001b[0m\n",
            "\u001b[?25h  Preparing metadata (setup.py) ... \u001b[?25l\u001b[?25hdone\n",
            "\u001b[2K     \u001b[90m━━━━━━━━━━━━━━━━━━━━━━━━━━━━━━━━━━━━━━━\u001b[0m \u001b[32m136.2/136.2 kB\u001b[0m \u001b[31m8.3 MB/s\u001b[0m eta \u001b[36m0:00:00\u001b[0m\n",
            "\u001b[2K     \u001b[90m━━━━━━━━━━━━━━━━━━━━━━━━━━━━━━━━━━━━━━━━\u001b[0m \u001b[32m8.6/8.6 MB\u001b[0m \u001b[31m43.0 MB/s\u001b[0m eta \u001b[36m0:00:00\u001b[0m\n",
            "\u001b[2K     \u001b[90m━━━━━━━━━━━━━━━━━━━━━━━━━━━━━━━━━━━━━━━━\u001b[0m \u001b[32m3.3/3.3 MB\u001b[0m \u001b[31m31.6 MB/s\u001b[0m eta \u001b[36m0:00:00\u001b[0m\n",
            "\u001b[2K     \u001b[90m━━━━━━━━━━━━━━━━━━━━━━━━━━━━━━━━━━━━━━━\u001b[0m \u001b[32m135.5/135.5 kB\u001b[0m \u001b[31m7.2 MB/s\u001b[0m eta \u001b[36m0:00:00\u001b[0m\n",
            "\u001b[2K     \u001b[90m━━━━━━━━━━━━━━━━━━━━━━━━━━━━━━━━━━━━━━━━\u001b[0m \u001b[32m4.1/4.1 MB\u001b[0m \u001b[31m40.5 MB/s\u001b[0m eta \u001b[36m0:00:00\u001b[0m\n",
            "\u001b[2K     \u001b[90m━━━━━━━━━━━━━━━━━━━━━━━━━━━━━━━━━━━━━━\u001b[0m \u001b[32m377.3/377.3 kB\u001b[0m \u001b[31m15.2 MB/s\u001b[0m eta \u001b[36m0:00:00\u001b[0m\n",
            "\u001b[2K     \u001b[90m━━━━━━━━━━━━━━━━━━━━━━━━━━━━━━━━━━━━━━━━\u001b[0m \u001b[32m78.7/78.7 kB\u001b[0m \u001b[31m3.3 MB/s\u001b[0m eta \u001b[36m0:00:00\u001b[0m\n",
            "\u001b[2K     \u001b[90m━━━━━━━━━━━━━━━━━━━━━━━━━━━━━━━━━━━━━━━\u001b[0m \u001b[32m245.7/245.7 kB\u001b[0m \u001b[31m9.7 MB/s\u001b[0m eta \u001b[36m0:00:00\u001b[0m\n",
            "\u001b[2K     \u001b[90m━━━━━━━━━━━━━━━━━━━━━━━━━━━━━━━━━━━━━━\u001b[0m \u001b[32m245.7/245.7 kB\u001b[0m \u001b[31m12.7 MB/s\u001b[0m eta \u001b[36m0:00:00\u001b[0m\n",
            "\u001b[2K     \u001b[90m━━━━━━━━━━━━━━━━━━━━━━━━━━━━━━━━━━━━━━━\u001b[0m \u001b[32m238.8/238.8 kB\u001b[0m \u001b[31m6.6 MB/s\u001b[0m eta \u001b[36m0:00:00\u001b[0m\n",
            "\u001b[2K     \u001b[90m━━━━━━━━━━━━━━━━━━━━━━━━━━━━━━━━━━━━━━━\u001b[0m \u001b[32m238.8/238.8 kB\u001b[0m \u001b[31m8.5 MB/s\u001b[0m eta \u001b[36m0:00:00\u001b[0m\n",
            "\u001b[2K     \u001b[90m━━━━━━━━━━━━━━━━━━━━━━━━━━━━━━━━━━━━━━\u001b[0m \u001b[32m225.1/225.1 kB\u001b[0m \u001b[31m12.4 MB/s\u001b[0m eta \u001b[36m0:00:00\u001b[0m\n",
            "\u001b[2K     \u001b[90m━━━━━━━━━━━━━━━━━━━━━━━━━━━━━━━━━━━━━━━━\u001b[0m \u001b[32m1.7/1.7 MB\u001b[0m \u001b[31m61.7 MB/s\u001b[0m eta \u001b[36m0:00:00\u001b[0m\n",
            "\u001b[2K     \u001b[90m━━━━━━━━━━━━━━━━━━━━━━━━━━━━━━━━━━━━━━━━\u001b[0m \u001b[32m40.5/40.5 kB\u001b[0m \u001b[31m3.6 MB/s\u001b[0m eta \u001b[36m0:00:00\u001b[0m\n",
            "\u001b[2K     \u001b[90m━━━━━━━━━━━━━━━━━━━━━━━━━━━━━━━━━━━━━━━━\u001b[0m \u001b[32m57.9/57.9 kB\u001b[0m \u001b[31m5.7 MB/s\u001b[0m eta \u001b[36m0:00:00\u001b[0m\n",
            "\u001b[2K     \u001b[90m━━━━━━━━━━━━━━━━━━━━━━━━━━━━━━━━━━━━━━\u001b[0m \u001b[32m211.2/211.2 kB\u001b[0m \u001b[31m16.5 MB/s\u001b[0m eta \u001b[36m0:00:00\u001b[0m\n",
            "\u001b[2K     \u001b[90m━━━━━━━━━━━━━━━━━━━━━━━━━━━━━━━━━━━━━━━━\u001b[0m \u001b[32m55.5/55.5 kB\u001b[0m \u001b[31m5.3 MB/s\u001b[0m eta \u001b[36m0:00:00\u001b[0m\n",
            "\u001b[2K     \u001b[90m━━━━━━━━━━━━━━━━━━━━━━━━━━━━━━━━━━━━━━━━\u001b[0m \u001b[32m42.7/42.7 kB\u001b[0m \u001b[31m4.0 MB/s\u001b[0m eta \u001b[36m0:00:00\u001b[0m\n",
            "\u001b[2K     \u001b[90m━━━━━━━━━━━━━━━━━━━━━━━━━━━━━━━━━━━━━━\u001b[0m \u001b[32m141.4/141.4 kB\u001b[0m \u001b[31m14.0 MB/s\u001b[0m eta \u001b[36m0:00:00\u001b[0m\n",
            "\u001b[2K     \u001b[90m━━━━━━━━━━━━━━━━━━━━━━━━━━━━━━━━━━━━━━━━\u001b[0m \u001b[32m2.8/2.8 MB\u001b[0m \u001b[31m71.9 MB/s\u001b[0m eta \u001b[36m0:00:00\u001b[0m\n",
            "\u001b[2K     \u001b[90m━━━━━━━━━━━━━━━━━━━━━━━━━━━━━━━━━━━━━━━━\u001b[0m \u001b[32m86.8/86.8 kB\u001b[0m \u001b[31m8.7 MB/s\u001b[0m eta \u001b[36m0:00:00\u001b[0m\n",
            "\u001b[2K     \u001b[90m━━━━━━━━━━━━━━━━━━━━━━━━━━━━━━━━━━━━━━━━\u001b[0m \u001b[32m2.4/2.4 MB\u001b[0m \u001b[31m66.3 MB/s\u001b[0m eta \u001b[36m0:00:00\u001b[0m\n",
            "\u001b[2K     \u001b[90m━━━━━━━━━━━━━━━━━━━━━━━━━━━━━━━━━━━━━━━━\u001b[0m \u001b[32m90.0/90.0 kB\u001b[0m \u001b[31m7.9 MB/s\u001b[0m eta \u001b[36m0:00:00\u001b[0m\n",
            "\u001b[2K     \u001b[90m━━━━━━━━━━━━━━━━━━━━━━━━━━━━━━━━━━━━━━\u001b[0m \u001b[32m965.9/965.9 kB\u001b[0m \u001b[31m50.0 MB/s\u001b[0m eta \u001b[36m0:00:00\u001b[0m\n",
            "\u001b[2K     \u001b[90m━━━━━━━━━━━━━━━━━━━━━━━━━━━━━━━━━━━━━━\u001b[0m \u001b[32m779.4/779.4 kB\u001b[0m \u001b[31m30.3 MB/s\u001b[0m eta \u001b[36m0:00:00\u001b[0m\n",
            "\u001b[2K     \u001b[90m━━━━━━━━━━━━━━━━━━━━━━━━━━━━━━━━━━━━━━━━\u001b[0m \u001b[32m61.1/61.1 kB\u001b[0m \u001b[31m5.4 MB/s\u001b[0m eta \u001b[36m0:00:00\u001b[0m\n",
            "\u001b[2K     \u001b[90m━━━━━━━━━━━━━━━━━━━━━━━━━━━━━━━━━━━━━━━━\u001b[0m \u001b[32m38.2/38.2 MB\u001b[0m \u001b[31m10.8 MB/s\u001b[0m eta \u001b[36m0:00:00\u001b[0m\n",
            "\u001b[?25h  Preparing metadata (setup.py) ... \u001b[?25l\u001b[?25hdone\n",
            "\u001b[2K     \u001b[90m━━━━━━━━━━━━━━━━━━━━━━━━━━━━━━━━━━━━━━\u001b[0m \u001b[32m312.9/312.9 kB\u001b[0m \u001b[31m25.2 MB/s\u001b[0m eta \u001b[36m0:00:00\u001b[0m\n",
            "\u001b[2K     \u001b[90m━━━━━━━━━━━━━━━━━━━━━━━━━━━━━━━━━━━━━━━━\u001b[0m \u001b[32m69.5/69.5 kB\u001b[0m \u001b[31m6.2 MB/s\u001b[0m eta \u001b[36m0:00:00\u001b[0m\n",
            "\u001b[2K     \u001b[90m━━━━━━━━━━━━━━━━━━━━━━━━━━━━━━━━━━━━━━━\u001b[0m \u001b[32m245.4/245.4 kB\u001b[0m \u001b[31m8.7 MB/s\u001b[0m eta \u001b[36m0:00:00\u001b[0m\n",
            "\u001b[2K     \u001b[90m━━━━━━━━━━━━━━━━━━━━━━━━━━━━━━━━━━━━━━━━\u001b[0m \u001b[32m74.0/74.0 kB\u001b[0m \u001b[31m7.6 MB/s\u001b[0m eta \u001b[36m0:00:00\u001b[0m\n",
            "\u001b[2K     \u001b[90m━━━━━━━━━━━━━━━━━━━━━━━━━━━━━━━━━━━━━━\u001b[0m \u001b[32m112.2/112.2 kB\u001b[0m \u001b[31m11.2 MB/s\u001b[0m eta \u001b[36m0:00:00\u001b[0m\n",
            "\u001b[?25h  Preparing metadata (setup.py) ... \u001b[?25l\u001b[?25hdone\n",
            "  Preparing metadata (setup.py) ... \u001b[?25l\u001b[?25hdone\n",
            "\u001b[2K     \u001b[90m━━━━━━━━━━━━━━━━━━━━━━━━━━━━━━━━━━━━━━\u001b[0m \u001b[32m128.5/128.5 kB\u001b[0m \u001b[31m13.2 MB/s\u001b[0m eta \u001b[36m0:00:00\u001b[0m\n",
            "\u001b[2K     \u001b[90m━━━━━━━━━━━━━━━━━━━━━━━━━━━━━━━━━━━━━━━━\u001b[0m \u001b[32m62.7/62.7 kB\u001b[0m \u001b[31m6.5 MB/s\u001b[0m eta \u001b[36m0:00:00\u001b[0m\n",
            "\u001b[2K     \u001b[90m━━━━━━━━━━━━━━━━━━━━━━━━━━━━━━━━━━━━━━\u001b[0m \u001b[32m128.2/128.2 kB\u001b[0m \u001b[31m14.4 MB/s\u001b[0m eta \u001b[36m0:00:00\u001b[0m\n",
            "\u001b[2K     \u001b[90m━━━━━━━━━━━━━━━━━━━━━━━━━━━━━━━━━━━━━━\u001b[0m \u001b[32m152.7/152.7 kB\u001b[0m \u001b[31m14.1 MB/s\u001b[0m eta \u001b[36m0:00:00\u001b[0m\n",
            "\u001b[2K     \u001b[90m━━━━━━━━━━━━━━━━━━━━━━━━━━━━━━━━━━━━━━\u001b[0m \u001b[32m114.5/114.5 kB\u001b[0m \u001b[31m12.1 MB/s\u001b[0m eta \u001b[36m0:00:00\u001b[0m\n",
            "\u001b[2K     \u001b[90m━━━━━━━━━━━━━━━━━━━━━━━━━━━━━━━━━━━━━━\u001b[0m \u001b[32m149.6/149.6 kB\u001b[0m \u001b[31m14.8 MB/s\u001b[0m eta \u001b[36m0:00:00\u001b[0m\n",
            "\u001b[2K     \u001b[90m━━━━━━━━━━━━━━━━━━━━━━━━━━━━━━━━━━━━━━\u001b[0m \u001b[32m268.8/268.8 kB\u001b[0m \u001b[31m21.0 MB/s\u001b[0m eta \u001b[36m0:00:00\u001b[0m\n",
            "\u001b[2K     \u001b[90m━━━━━━━━━━━━━━━━━━━━━━━━━━━━━━━━━━━━━━\u001b[0m \u001b[32m191.7/191.7 kB\u001b[0m \u001b[31m16.1 MB/s\u001b[0m eta \u001b[36m0:00:00\u001b[0m\n",
            "\u001b[2K     \u001b[90m━━━━━━━━━━━━━━━━━━━━━━━━━━━━━━━━━━━━━━━━\u001b[0m \u001b[32m20.2/20.2 MB\u001b[0m \u001b[31m49.3 MB/s\u001b[0m eta \u001b[36m0:00:00\u001b[0m\n",
            "\u001b[2K     \u001b[90m━━━━━━━━━━━━━━━━━━━━━━━━━━━━━━━━━━━━━━━━\u001b[0m \u001b[32m31.1/31.1 MB\u001b[0m \u001b[31m28.4 MB/s\u001b[0m eta \u001b[36m0:00:00\u001b[0m\n",
            "\u001b[2K     \u001b[90m━━━━━━━━━━━━━━━━━━━━━━━━━━━━━━━━━━━━━━━━\u001b[0m \u001b[32m55.1/55.1 kB\u001b[0m \u001b[31m5.7 MB/s\u001b[0m eta \u001b[36m0:00:00\u001b[0m\n",
            "\u001b[2K     \u001b[90m━━━━━━━━━━━━━━━━━━━━━━━━━━━━━━━━━━━━━━\u001b[0m \u001b[32m593.7/593.7 kB\u001b[0m \u001b[31m35.6 MB/s\u001b[0m eta \u001b[36m0:00:00\u001b[0m\n",
            "\u001b[2K     \u001b[90m━━━━━━━━━━━━━━━━━━━━━━━━━━━━━━━━━━━━━━\u001b[0m \u001b[32m856.7/856.7 kB\u001b[0m \u001b[31m42.7 MB/s\u001b[0m eta \u001b[36m0:00:00\u001b[0m\n",
            "\u001b[2K     \u001b[90m━━━━━━━━━━━━━━━━━━━━━━━━━━━━━━━━━━━━━━━━\u001b[0m \u001b[32m48.4/48.4 kB\u001b[0m \u001b[31m4.1 MB/s\u001b[0m eta \u001b[36m0:00:00\u001b[0m\n",
            "\u001b[?25h  Building wheel for databricks-cli (setup.py) ... \u001b[?25l\u001b[?25hdone\n",
            "  Building wheel for docx2txt (setup.py) ... \u001b[?25l\u001b[?25hdone\n",
            "  Building wheel for python-pptx (setup.py) ... \u001b[?25l\u001b[?25hdone\n",
            "  Building wheel for compressed-rtf (setup.py) ... \u001b[?25l\u001b[?25hdone\n",
            "  Building wheel for fusepy (setup.py) ... \u001b[?25l\u001b[?25hdone\n",
            "  Building wheel for olefile (setup.py) ... \u001b[?25l\u001b[?25hdone\n",
            "\u001b[31mERROR: pip's dependency resolver does not currently take into account all the packages that are installed. This behaviour is the source of the following dependency conflicts.\n",
            "yfinance 0.2.18 requires beautifulsoup4>=4.11.1, but you have beautifulsoup4 4.8.2 which is incompatible.\u001b[0m\u001b[31m\n",
            "\u001b[0m"
          ]
        }
      ]
    },
    {
      "cell_type": "markdown",
      "source": [
        "# before running this notebook, UPLOAD these files\n",
        "- openai.env\n",
        "- azure.env"
      ],
      "metadata": {
        "id": "gqPb-Nn776tn"
      }
    },
    {
      "cell_type": "code",
      "source": [
        "import os,argparse,loguru, json, time, datetime, openai\n",
        "from pathlib import Path\n",
        "from loguru import logger"
      ],
      "metadata": {
        "id": "scY-DzUJquiS"
      },
      "execution_count": 2,
      "outputs": []
    },
    {
      "cell_type": "code",
      "source": [
        "def maybe_load_aml_env_vars(env_path=None):\n",
        "  import os, json\n",
        "  try:\n",
        "    with open(env_path, \"r\") as f:\n",
        "      env_vars = json.load(f)\n",
        "    os.environ[\"resource_group\"] = env_vars[\"resource_group\"]\n",
        "    os.environ[\"workspace_name\"] = env_vars[\"workspace_name\"]\n",
        "    os.environ[\"subscription_id\"] = env_vars[\"subscription_id\"]\n",
        "    if (os.getenv(\"resource_group\") and os.getenv(\"workspace_name\")\n",
        "    and os.getenv(\"subscription_id\")):\n",
        "      return True\n",
        "  except Exception as e:\n",
        "    logger.error(f\"{e}\")\n",
        "    return False"
      ],
      "metadata": {
        "id": "A1d_9gbMZ78f"
      },
      "execution_count": 3,
      "outputs": []
    },
    {
      "cell_type": "code",
      "source": [
        "def set_open_ai_key(env_path=None):\n",
        "  import json, os\n",
        "  from pathlib import Path\n",
        "  try:\n",
        "    with open(env_path, \"r\") as f:\n",
        "        env_vars = json.load(f)\n",
        "    os.environ[\"OPENAI_API_KEY\"] = env_vars[\"OPENAI_API_KEY\"]\n",
        "    openai.api_key = os.environ[\"OPENAI_API_KEY\"]\n",
        "    openai.Model.list() #test a random command on the openai API\n",
        "    return True\n",
        "  except Exception as e:\n",
        "    logger.error(f\"{e}\")\n",
        "  return False\n",
        "\n",
        "def test_set_open_ai_key(key_path=None):\n",
        "  openai.api_key = None #disconnect from api key if already registered\n",
        "  try:\n",
        "    set_open_ai_key(key_path)\n",
        "    openai.Model.list()\n",
        "    return True\n",
        "  except Exception as e:\n",
        "    logger.error(f\"{e}\")\n",
        "  return False\n"
      ],
      "metadata": {
        "id": "wwZXC6jUTLvh"
      },
      "execution_count": 4,
      "outputs": []
    },
    {
      "cell_type": "code",
      "source": [
        "def maybe_get_ml_client(env_path=None):\n",
        "  # this is a mix of sdk v1 and v2. Try to consolidate \n",
        "  import json, os, mlflow\n",
        "  from pathlib import Path\n",
        "  from azureml.core import Workspace \n",
        "  from azure.identity import DefaultAzureCredential, InteractiveBrowserCredential\n",
        "  from azure.ai.ml import MLClient\n",
        "\n",
        "  if not env_path: return None\n",
        "\n",
        "  ws = Workspace.from_config(env_path)\n",
        "  tracking_uri = ws.get_mlflow_tracking_uri()\n",
        "  mlflow.set_tracking_uri(tracking_uri)\n",
        "\n",
        "  try:\n",
        "      credential = DefaultAzureCredential()\n",
        "  except Exception as ex:\n",
        "      # Fall back to InteractiveBrowserCredential in case DefaultAzureCredential not working\n",
        "      credential = InteractiveBrowserCredential()\n",
        "\n",
        "  is_loaded = maybe_load_aml_env_vars(env_path)\n",
        "  if is_loaded:\n",
        "    try:\n",
        "      ml_client = MLClient(\n",
        "          subscription_id=os.getenv(\"subscription_id\"),\n",
        "          resource_group_name=os.getenv(\"resource_group\"),\n",
        "          workspace_name=os.getenv(\"workspace_name\"),\n",
        "          credential=credential,\n",
        "      )\n",
        "      return ml_client\n",
        "    except Exception as e:\n",
        "      logger.error(f\"{e}\")\n",
        "      return None"
      ],
      "metadata": {
        "id": "zNLN8FKHzlAB"
      },
      "execution_count": 5,
      "outputs": []
    },
    {
      "cell_type": "code",
      "source": [
        "def maybe_setup_azure_env(azure_env_path=None):\n",
        "  # setup azure ml env if azure credentials are available.\n",
        "  if azure_env_path and azure_env_path.is_file() and maybe_load_aml_env_vars(azure_env_path):\n",
        "    ml_client = maybe_get_ml_client(azure_env_path)\n",
        "    if ml_client:\n",
        "      #do a random test to check that ml_client and mlflow are playing nicely together\n",
        "      import mlflow\n",
        "      experiment_name = 'mlflow-2'\n",
        "      mlflow.set_experiment(experiment_name)\n",
        "      from random import random\n",
        "\n",
        "      with mlflow.start_run() as mlflow_test_run:\n",
        "          mlflow.log_param(\"hello_param\", \"world\")\n",
        "          mlflow.log_metric(\"hello_metric2\", random())\n",
        "          os.system(f\"echo 'hello world2' > helloworld2.txt\")\n",
        "          mlflow.log_artifact(\"helloworld2.txt\")\n",
        "      return True\n",
        "  return False"
      ],
      "metadata": {
        "id": "pzzqgJ9k9f34"
      },
      "execution_count": 6,
      "outputs": []
    },
    {
      "cell_type": "code",
      "source": [
        "# setup\n",
        "azure_env_path, openai_env_path, ml_client, openai.api_key = None, None, None , None\n",
        "cwd = Path.cwd()\n",
        "resume_path = cwd / \"Resumes\"\n",
        "resume_path.mkdir(exist_ok=True)\n",
        "\n",
        "azure_env_path = cwd / \"azure.env\" ##uncomment if providing azure env\n",
        "openai_env_path = cwd/ \"openai.env\"\n",
        "maybe_setup_azure_env(azure_env_path)\n",
        "set_open_ai_key(openai_env_path)"
      ],
      "metadata": {
        "colab": {
          "base_uri": "https://localhost:8080/"
        },
        "id": "uCqHlEmz8CsZ",
        "outputId": "e5818269-41c1-4128-b08f-876104f3f59f"
      },
      "execution_count": 7,
      "outputs": [
        {
          "output_type": "stream",
          "name": "stdout",
          "text": [
            "Performing interactive authentication. Please follow the instructions on the terminal.\n"
          ]
        },
        {
          "output_type": "stream",
          "name": "stderr",
          "text": [
            "WARNING:azureml._vendor.azure_cli_core.auth.identity:To sign in, use a web browser to open the page https://microsoft.com/devicelogin and enter the code FZELC3EYH to authenticate.\n"
          ]
        },
        {
          "output_type": "stream",
          "name": "stdout",
          "text": [
            "Interactive authentication successfully completed.\n"
          ]
        },
        {
          "output_type": "stream",
          "name": "stderr",
          "text": [
            "Class FeatureStoreOperations: This is an experimental class, and may change at any time. Please see https://aka.ms/azuremlexperimental for more information.\n",
            "Class FeatureSetOperations: This is an experimental class, and may change at any time. Please see https://aka.ms/azuremlexperimental for more information.\n",
            "Class FeatureStoreEntityOperations: This is an experimental class, and may change at any time. Please see https://aka.ms/azuremlexperimental for more information.\n"
          ]
        },
        {
          "output_type": "execute_result",
          "data": {
            "text/plain": [
              "True"
            ]
          },
          "metadata": {},
          "execution_count": 7
        }
      ]
    },
    {
      "cell_type": "markdown",
      "source": [
        "# SPLIT SECTIONS\n",
        "source: Embedding_Wikipedia_articles_for_search.ipynb \n",
        "https://colab.research.google.com/drive/1EJMtCmF8jZc2Y-c1RaBxFSCTPcjzjJf4#scrollTo=TOVSYkDur9zA"
      ],
      "metadata": {
        "id": "5kUr4TQLdnRw"
      }
    },
    {
      "cell_type": "markdown",
      "source": [
        "Next, we'll recursively split long sections into smaller sections.\n",
        "\n",
        "There's no perfect recipe for splitting text into sections.\n",
        "\n",
        "Some tradeoffs include:\n",
        "- Longer sections may be better for questions that require more context\n",
        "- Longer sections may be worse for retrieval, as they may have more topics muddled together\n",
        "- Shorter sections are better for reducing costs (which are proportional to the number of tokens)\n",
        "- Shorter sections allow more sections to be retrieved, which may help with recall\n",
        "- Overlapping sections may help prevent answers from being cut by section boundaries\n",
        "\n",
        "Here, we'll use a simple approach and limit sections to 1,000 tokens each by default, recursively halving any sections that are too long. To avoid cutting in the middle of useful sentences, we'll split along paragraph boundaries when possible."
      ],
      "metadata": {
        "id": "NVpjUKLwenCg"
      }
    },
    {
      "cell_type": "markdown",
      "source": [
        "### extract text from pdf"
      ],
      "metadata": {
        "id": "pK5mrZ8PJ4L_"
      }
    },
    {
      "cell_type": "code",
      "source": [
        "import textract, os, openai, tiktoken"
      ],
      "metadata": {
        "id": "fJ-sflJ77VjU"
      },
      "execution_count": 8,
      "outputs": []
    },
    {
      "cell_type": "code",
      "source": [
        "# #TODO walk the directory to get all the filenames, use as names of the people in tagging and document retrieval\n",
        "# #TODO use regex to get rid of excess spaces and new lines. only one new line needed per line.\n",
        "# file_names = [\"Jesse_Jayant.pdf\", \"Nadia_Smythe.pdf\"]\n",
        "# file_paths = [(resume_path / file) for file in file_names];print(file_paths)\n",
        "# names = [path.stem.lower() for path in file_paths];\n",
        "\n",
        "# # Extract the raw text from each PDF using textract\n",
        "\n",
        "# texts =[textract.process((file_path), method='pdfminer').decode('utf-8') for file_path in file_paths]\n",
        "\n",
        "# #TODO Do more cleaning with regex\n",
        "# texts = [text.strip().replace(\"  \", \" \") for text in texts]\n",
        "# #create tuple[list[str],str]\n",
        "# clean_texts = [(['NameOnResume: '+ item1], item2) for item1,item2 in zip(names,texts)] "
      ],
      "metadata": {
        "id": "d5EkHdPqircB"
      },
      "execution_count": 98,
      "outputs": []
    },
    {
      "cell_type": "code",
      "source": [
        "GPT_MODEL = 'gpt-3.5-turbo'  # only matters insofar as it selects which tokenizer to use\n",
        "\n",
        "def num_tokens(text: str, model: str = GPT_MODEL) -> int:\n",
        "    \"\"\"Return the number of tokens in a string.\"\"\"\n",
        "    encoding = tiktoken.encoding_for_model(model)\n",
        "    return len(encoding.encode(text))\n",
        "\n",
        "## TODO This needs more sophistication in the use of a delimiter\n",
        "def halved_by_delimiter(string: str, delimiter: str = \"\\n\") -> list[str, str]:\n",
        "    \"\"\"Split a string in two, on a delimiter, trying to balance tokens on each side.\"\"\"\n",
        "    chunks = string.split(delimiter)\n",
        "    if len(chunks) == 1:\n",
        "        return [string, \"\"]  # no delimiter found\n",
        "    elif len(chunks) == 2:\n",
        "        return chunks  # no need to search for halfway point\n",
        "    else:\n",
        "        total_tokens = num_tokens(string)\n",
        "        halfway = total_tokens // 2\n",
        "        best_diff = halfway\n",
        "        for i, chunk in enumerate(chunks):\n",
        "            left = delimiter.join(chunks[: i + 1])\n",
        "            left_tokens = num_tokens(left)\n",
        "            diff = abs(halfway - left_tokens)\n",
        "            if diff >= best_diff:\n",
        "                break\n",
        "            else:\n",
        "                best_diff = diff\n",
        "        left = delimiter.join(chunks[:i])\n",
        "        right = delimiter.join(chunks[i:])\n",
        "        return [left, right]\n",
        "\n",
        "\n",
        "def truncated_string(\n",
        "    string: str,\n",
        "    model: str,\n",
        "    max_tokens: int,\n",
        "    print_warning: bool = True,\n",
        ") -> str:\n",
        "    \"\"\"Truncate a string to a maximum number of tokens.\"\"\"\n",
        "    encoding = tiktoken.encoding_for_model(model)\n",
        "    encoded_string = encoding.encode(string)\n",
        "    truncated_string = encoding.decode(encoded_string[:max_tokens])\n",
        "    if print_warning and len(encoded_string) > max_tokens:\n",
        "        logger.warning(f\"Warning: Truncated string from {len(encoded_string)} tokens to {max_tokens} tokens. \\nOriginalString:{string} \\n\")\n",
        "\n",
        "    return truncated_string"
      ],
      "metadata": {
        "id": "u3CZ5MwnnspR"
      },
      "execution_count": 99,
      "outputs": []
    },
    {
      "cell_type": "code",
      "source": [
        "def split_strings_from_subsection(\n",
        "    subsection: tuple[list[str], str],\n",
        "    max_tokens: int = 1000,\n",
        "    model: str = GPT_MODEL,\n",
        "    max_recursion: int = 8,\n",
        ") -> list[str]:\n",
        "    \"\"\"\n",
        "    Split a subsection into a list of subsections, each with no more than max_tokens.\n",
        "    Each subsection is a tuple of parent titles [H1, H2, ...] and text (str).\n",
        "    \"\"\"\n",
        "    titles, text = subsection\n",
        "    string = \"\\n\\n\".join(titles + [text])\n",
        "    num_tokens_in_string = num_tokens(string)\n",
        "    # if length is fine, return string\n",
        "    if num_tokens_in_string <= max_tokens:\n",
        "        return [string]\n",
        "    # if recursion hasn't found a split after X iterations, just truncate\n",
        "    elif max_recursion == 0:\n",
        "        return [truncated_string(string, model=model, max_tokens=max_tokens)]\n",
        "    # otherwise, split in half and recurse\n",
        "    else:\n",
        "        titles, text = subsection\n",
        "        for delimiter in [\"\\n\\n\", \"\\n\", \". \"]:\n",
        "            left, right = halved_by_delimiter(text, delimiter=delimiter)\n",
        "            if left == \"\" or right == \"\":\n",
        "                # if either half is empty, retry with a more fine-grained delimiter\n",
        "                continue\n",
        "            else:\n",
        "                # recurse on each half\n",
        "                results = []\n",
        "                for half in [left, right]:\n",
        "                    half_subsection = (titles, half)\n",
        "                    half_strings = split_strings_from_subsection(\n",
        "                        half_subsection,\n",
        "                        max_tokens=max_tokens,\n",
        "                        model=model,\n",
        "                        max_recursion=max_recursion - 1,\n",
        "                    )\n",
        "                    results.extend(half_strings)\n",
        "                return results\n",
        "    # otherwise no split was found, so just truncate (should be very rare)\n",
        "    return [truncated_string(string, model=model, max_tokens=max_tokens)]\n",
        " "
      ],
      "metadata": {
        "id": "9JmwS-cZdlvp"
      },
      "execution_count": 75,
      "outputs": []
    },
    {
      "cell_type": "code",
      "source": [
        "#load resumes from csv file made by my pdf parser and then split and create embeddings.\n",
        "import pandas as pd\n",
        "df = pd.read_csv(\"/content/resume_books.csv\",usecols=[\"text\", \"source\"]);df.head()\n",
        "df = df.dropna()\n",
        "df.loc[:,\"name\"] = [f\"Name: {i}\" for i in df.index]\n",
        "df.loc[:,\"text2\"] = list(zip(df[\"name\"].to_list(), df[\"text\"].to_list()))\n",
        "df = df[[\"name\",\"text2\"]];df.head()\n",
        "df.to_csv(\"resume_books_v2.csv\")\n",
        "clean_texts = df[\"text2\"].to_list()\n",
        "clean_texts = [([x1],x2) for x1, x2 in clean_texts]"
      ],
      "metadata": {
        "id": "VAtkxHnlD6YQ"
      },
      "execution_count": 100,
      "outputs": []
    },
    {
      "cell_type": "code",
      "source": [
        "# split resumes into chunks. Small chunks probably better when searching for skills? \n",
        "# maybe even shrink to individual sentences\n",
        "MAX_TOKENS = 100\n",
        "resume_strings = []\n",
        "for section in clean_texts:\n",
        "    resume_strings.extend(split_strings_from_subsection(section, max_tokens=MAX_TOKENS))\n",
        "\n",
        "print(f\"{len(clean_texts)} resumes split into {len(resume_strings)} strings.\")\n"
      ],
      "metadata": {
        "colab": {
          "base_uri": "https://localhost:8080/"
        },
        "id": "nOlixxaYpCRC",
        "outputId": "caac482a-7f65-4012-c443-6e763df9801f"
      },
      "execution_count": 79,
      "outputs": [
        {
          "output_type": "stream",
          "name": "stderr",
          "text": [
            "\u001b[32m2023-05-09 16:25:14.583\u001b[0m | \u001b[33m\u001b[1mWARNING \u001b[0m | \u001b[36m__main__\u001b[0m:\u001b[36mtruncated_string\u001b[0m:\u001b[36m43\u001b[0m - \u001b[33m\u001b[1mWarning: Truncated string from 507 tokens to 100 tokens. \n",
            "OriginalString:Name: 16\n",
            "\n",
            "in Applied Mathematics ● Coursework: linear algebra, ODEs, PDEs, stochastic process, numerical analysis, mathematics of machine learning, econometrics ● Awards: Mathematical Modeling Context (honorable mention) 2021, Mathorcup Mathematical Modeling Challenge 2020 (group won 1st place) EXPERIENCE 07/22 - present ENHANCED HEALTHCARE PARTNERS (Healthcare-focused private equity firm)                              New York, NY (remote) Investment Research & Data Analytics Intern (Python, SQL, Excel, Tableau) ● Researched macro trends, industry drivers, and market segments of plastic surgery industry ● Profiled 16 prospective pre-assigned investment targets by investigating locations, business descriptions, ownership, revenues, ratings, and rationales ● Used Python and SQL to manage data; calculated and analyzed it with Excel and SQL to find summary values and trends; correlated data using Tableau ● Presented market landscape research summary and recommended investment targets to manager 12/20 - 05/22 DUKE KUNSHAN UNIVERSITY               Kunshan, China Research Assistant, Data Science Research Center (Python) ● Developed web crawler to collect first-hand data for translated books from 3 online libraries; performed data cleaning and conducted analysis and visualizations; wrote and presented reports ● Sorted and merged information for Shanghai Library database 05/21 - 08/21 Research Scholar (Python, R, STATA) ● Conducted literature review on healthy lifestyles using PubMed, WHO, and UN databases ● Accessed Yinzhou, China, databases collaboratively, and calculated influenza vaccine effectiveness using static decision tree model PROJECTS 03/20 - 04/20 DUKE KUNSHAN UNIVERSITY               Kunshan, China Air Transportation Overbooking and Revenue Management (Python) ● Conducted literature reviews on overbooking and cabin control during COVID ● Created web crawler to collect demand and daily ticket sales data ● Developed pricing and SIR models 05/21 - 08/21 CHINA UNIVERSITY OF MING & TECHNOLOGY              Xuzhou, China Link Prediction With Deep Learning For Weighted Symmetric Graph in Undirected Graphs ● Reviewed latest research on social network analysis, specifically for recommender systems ● Contributed to proposing and testing weighted symmetric graph embedding approach based on deep learning for link prediction COMPUTATIONAL SKILLS / OTHER Programming Languages: Python, Java, MATLAB, SQL, Stata, R Languages: English (fluent); Mandarin (native); Japanese (fluent)  \n",
            "\u001b[0m\n",
            "\u001b[32m2023-05-09 16:25:14.609\u001b[0m | \u001b[33m\u001b[1mWARNING \u001b[0m | \u001b[36m__main__\u001b[0m:\u001b[36mtruncated_string\u001b[0m:\u001b[36m43\u001b[0m - \u001b[33m\u001b[1mWarning: Truncated string from 472 tokens to 100 tokens. \n",
            "OriginalString:Name: 18\n",
            "\n",
            "in Mathematics and Applied Mathematics ● Coursework: calculus, linear algebra, ordinary and partial differential equations, real analysis, probability, hypothesis testing, Markov chain, Black-Scholes-Merton, time series analysis, econometrics, programming in C/C++, Java, data structures ● Award: First Prize Scholarship (top 5% in college) EXPERIENCE 07/20 - 08/20       SINOLINK SECURITIES                                                                               Chengdu, China               Settlement Officer Intern ● Collected data daily on customer margins, net transfer of bank securities accounts, and total number of transactions; generated charts for management’s review and monitoring ● Inspected settlement statements from Shanghai Stock Exchange ● Compiled intraday securities delivery list PROJECTS 04/22 - 05/22       SOUTHERN UNIVERSITY OF SCIENCE AND TECHNOLOGY               Shenzhen, China     Financial Crash Forecasting Using LPPL (Python) ● Retrieved monthly Shanghai Composite Index data and implemented log-periodic power law (LPPL) model ● Applied generic algorithm to estimate model parameters based on data collected; forecasted date of Shanghai stock market’s next crash ● Assessed LPPL model and identified sources of possible inaccuracies 11/21 - 12/21       Matrix Multiplication and Convolutional Neural Network (C++) ● Implemented standard matrix multiplication and Strassen’s algorithm; theoretically proved time complexity of both  ● Established that below a certain threshold, one method was more efficient than the other; analyzed influencing factors for evaluating threshold (e.g., multithreading, matrix properties) ● Parsed images using OpenCV; implemented convolutional neural network (CNN) model 07/21 - 08/21 NORTH CAROLINA STATE UNIVERSITY                                                            Raleigh, NC Computational and Financial Mathematics and Simulations (Java) ● Implemented least-squares Monte Carlo simulation and finite difference method on valuation of American options  ● Applied weighted least squares to decrease estimation bias, and used forward Monte Carlo simulation to improve computational speed ● Compared accuracy and computational speed of enhanced methods with traditional ones COMPUTATIONAL SKILLS / OTHER Programming Languages: Java, C/C++, R, MATLAB, Python Languages: English (fluent); Mandarin (native) Interests: Badminton (captain of varsity team; Guangdong Badminton Championships, 2nd place in men’s singles)  \n",
            "\u001b[0m\n",
            "\u001b[32m2023-05-09 16:25:15.227\u001b[0m | \u001b[33m\u001b[1mWARNING \u001b[0m | \u001b[36m__main__\u001b[0m:\u001b[36mtruncated_string\u001b[0m:\u001b[36m43\u001b[0m - \u001b[33m\u001b[1mWarning: Truncated string from 151 tokens to 100 tokens. \n",
            "OriginalString:Name: 46\n",
            "\n",
            "Apt 5T, Bayside NY 11360 | (917) 780 5688 | mfukushima@fordham.edu EDUCATION Fordham University, Gabelli School of Business                                                                         Bronx, New York Bachelor of Science, Finance, Global Business  Expected May 2025 GPA: 3.8/4.0  Honors: Global Business Honors Program: 19 students with stellar academic records in a four-year extensive program  Awards: Woolworth Academic Award, Dean’s List  Relevant Coursework: Financial Accounting, Honors Business Math, Global Business Readings, Honors Macroeconomics EXPERIENCE Ahne & Ji., LLP                                                                                   New York City, New York Summer Intern Jun \n",
            "\u001b[0m\n",
            "\u001b[32m2023-05-09 16:25:15.235\u001b[0m | \u001b[33m\u001b[1mWARNING \u001b[0m | \u001b[36m__main__\u001b[0m:\u001b[36mtruncated_string\u001b[0m:\u001b[36m43\u001b[0m - \u001b[33m\u001b[1mWarning: Truncated string from 104 tokens to 100 tokens. \n",
            "OriginalString:Name: 46\n",
            "\n",
            "2020  •Collaborated with a non-profit community organization to advocate for the concerns of Asian Americans during the height of the pandemic by providing COVID-19 relief, tenant concerns, and establishing the #cancel rent petition  •Directed and initiated Flushing Rezoning campaigns, and worked with local businesses to reduce food shortages by setting up a donation fridge where donations and retrievals were encouraged LEADERSHIP AND EXTRACURRICULAR Smart Woman Securities Club Bronx, New York Associate Sept \n",
            "\u001b[0m\n",
            "\u001b[32m2023-05-09 16:25:15.282\u001b[0m | \u001b[33m\u001b[1mWARNING \u001b[0m | \u001b[36m__main__\u001b[0m:\u001b[36mtruncated_string\u001b[0m:\u001b[36m43\u001b[0m - \u001b[33m\u001b[1mWarning: Truncated string from 107 tokens to 100 tokens. \n",
            "OriginalString:Name: 48\n",
            "\n",
            "OFFICE MANAGER 2007-2010 Barker Capital, LLC, NYC •Spearheaded and supervised HR systems: payroll, beneﬁts, expense reimbursement  •Conceptualized a framework for IT services; ordered equipment and supervised repairs  •Orchestrated correspondence and interfaced with a plethora of clients; scheduled meetings; managed CEO calendar and correspondence •Performed industry research to determine trends; designed ﬁling systems; new-client due diligence SAMANTHA IVES Ethical Leadership for Growth \n",
            "\u001b[0m\n",
            "\u001b[32m2023-05-09 16:25:15.286\u001b[0m | \u001b[33m\u001b[1mWARNING \u001b[0m | \u001b[36m__main__\u001b[0m:\u001b[36mtruncated_string\u001b[0m:\u001b[36m43\u001b[0m - \u001b[33m\u001b[1mWarning: Truncated string from 504 tokens to 100 tokens. \n",
            "OriginalString:Name: 48\n",
            "\n",
            "EDUCATION  MA Ethics and Society BA Organizational Leadership Fordham University, current New York, NY Deans List, 4.0 GPA Alpha Sigma Nu Alpha Sigma Lambda Chynn Ethics Prize, 1st Place 2021 Theater University of Northern CO Greeley, CO Acting, Directing, Stage Management Deans List, 3.86 GPA PROFESSIONAL EXPERIENCE FILM/TV/STAGE/COMMERCIAL PERFORMER  1997-Present Self Employed, NY •Award-winning, conservatory trained performer  •Expertise in acting, directing, editing •Extensive experience in project management, public speaking,  team building, conﬂict resolution, change management, resource management, cultural competence •Client and VIP collaboration for commercial success •Performed with T ony, Oscar, and Emmy winners •Launched an original production from page to international stage to screen •Helmed successful productions as a director and as an award-winning editor •Off-Broadway; multiple independent feature ﬁlms; Cannes, Prime Time TV, on-camera commercial and print MANAGER OF VOLUNTEER STAFF 2010-2012 All Stars Project, NYC •Outreach, Recruitment,Training, and Management of 1200+ volunteer staff  •Mentored 30 volunteer supervisors as effective leaders •Initiated and produced volunteer-recognition events •Expanded company’s sphere of inﬂuence throughout the volunteer ﬂeet in the spirit of servant leadership •Created and led database-training seminars for volunteer supervisors •Event Production: 2010/2011 Bowl-A-Thon •Secured donations, contracts, and volunteer participants •Recruited and trained volunteer event staff •Established fundraising web portal and trained staff to utilize effectively •House Management, Castillo Theatre  •Produced, ran, and supervised quarterly leadership training seminars for volunteers •Scheduled volunteer managers and volunteer staff for 3 theaters in production simultaneously, as well as on- and off-campus events TECHNICAL SKILLS Final Cut Pro X Database: Memberhub, Vol2 MS Ofﬁce: Word, Excel, Powerpoint, Outlook  Google Drive: Docs, Sheets, Forms, Slides Email: Filters, folder, merge  Social Media: Facebook, Insta, LinkedIn, groups, outreach  Video Creation: shooting, writing/improvisation, editing, uploading IMDB.com/SamanthaIvesIves_Samantha \n",
            "\u001b[0m\n",
            "\u001b[32m2023-05-09 16:25:15.482\u001b[0m | \u001b[33m\u001b[1mWARNING \u001b[0m | \u001b[36m__main__\u001b[0m:\u001b[36mtruncated_string\u001b[0m:\u001b[36m43\u001b[0m - \u001b[33m\u001b[1mWarning: Truncated string from 499 tokens to 100 tokens. \n",
            "OriginalString:Name: 54\n",
            "\n",
            "Mineola, NY 11501 • (516) 304-8630 • slarrea@fordham.edu EDUCATION Fordham University, New York, NY          May 2025  Pre-Law Bachelor of Arts in International Political Economy, GPA: 3.06 RELEV ANT COURSEWORK Introduction to International Politics, Basic Macroeconomics, Basic Microeconomics, Italian Language and Literature AWARDS AND HONORS Jogues Scholarship, Manresa Scholar RELA V ANT EXPERIENCE Mid Nassau Medical Center, Receptionist, Westbury, NY    June 2021 – January 2022 •Assists in examination and treatment of patients •Performed miscellaneous delegated duties under the direction of physician •Triage patient, measure vital signs, such as pulse rate, temperature, blood pressure, weight, and height, and recorded information on patients’ charts •Prepares treatment rooms for examination of patients •Enters all historical medical information and update medical records as directed •Called patients with laboratory results and follow-up after consult report as directed by doctor •Scheduled appointments •Verified patient insurance eligibility •Collected money for co-payments, bills, and other medical records •Performed secretarial tasks •Confirmed at every appointment: patient demographics, insurance plan, pharmacy, complete referrals/school forms •Typed data into various medical programs to maintain office and patient records •Responsible for providing clerical and telephone support to the office •Maintains and updates patients’ demographics and informs any changes to billing departments for updates made to patient insurance plan ADDITIONAL EXPERIENCE  Girl Scouts, Member, Bethpage, NY                                                                                              September 2013-June 2021 •V olunteered in community service projects Athletes Helping Athletes Leadership Program, Member, Bethpage, NY                         September 2019-June 2021 •Actively participated in training sessions, meetings, and program activities for fifth grade elementary school children •Interacted with students and prepared materials focused on teaching sportsmanship and academic/athletic integrity National Honor Society, Member, Bethpage, NY       September 2020-June 2021 •Tutored underclassmen students •V olunteered in community service projects  •Showed courtesy by assisting visitors, students, and teachers SKILLS AND LANGUAGES •Microsoft Word, Excel, PowerPoint, Mac and Windows Operating Systems  •Fluent Spanish, Conversational Italian INTERESTS Legal field, International Politics, Traveling  \n",
            "\u001b[0m\n",
            "\u001b[32m2023-05-09 16:25:15.524\u001b[0m | \u001b[33m\u001b[1mWARNING \u001b[0m | \u001b[36m__main__\u001b[0m:\u001b[36mtruncated_string\u001b[0m:\u001b[36m43\u001b[0m - \u001b[33m\u001b[1mWarning: Truncated string from 105 tokens to 100 tokens. \n",
            "OriginalString:Name: 56\n",
            "\n",
            "KONATEHNew York, NY | (646) 255-6941 | akonateh@fordham.eduEDUCATIONFordham University,Bronx NYBachelor of Arts in Anthropology, Minor: African StudiesExpected: May 2023Relevant Coursework:Culture and Culture Change, Introto Archaeology, Biological Anthropology, Gender, Race, andClass, African History, Being and Becoming Black in the Atlantic World,  Ethics in Action, Undocumented Migration \n",
            "\u001b[0m\n",
            "\u001b[32m2023-05-09 16:25:15.706\u001b[0m | \u001b[33m\u001b[1mWARNING \u001b[0m | \u001b[36m__main__\u001b[0m:\u001b[36mtruncated_string\u001b[0m:\u001b[36m43\u001b[0m - \u001b[33m\u001b[1mWarning: Truncated string from 126 tokens to 100 tokens. \n",
            "OriginalString:Name: 61\n",
            "\n",
            "S o c i a l  M e d i a  I n i t i a t i v e  s t a r t e d  t o  g i v e  l e s s  f o r t u n a t e  s t u d e n t s  a c c e s s  t o  r e s o u r c e s  t o  l e a r n  m o r e  a b o u t  t h e  m e d i c a l  f i e l d \n",
            "\u001b[0m\n",
            "\u001b[32m2023-05-09 16:25:15.719\u001b[0m | \u001b[33m\u001b[1mWARNING \u001b[0m | \u001b[36m__main__\u001b[0m:\u001b[36mtruncated_string\u001b[0m:\u001b[36m43\u001b[0m - \u001b[33m\u001b[1mWarning: Truncated string from 111 tokens to 100 tokens. \n",
            "OriginalString:Name: 61\n",
            "\n",
            "A  s m a l l  s e l e c t i o n  o f  s t u d e n t s  f r o m  h i g h  s c h o o l s  a r o u n d  t h e  d i s t r i c t  w h o  w e r e  s e l e c t e d  b y  t h e i r  p r i n c i p a l s  \n",
            "\u001b[0m\n",
            "\u001b[32m2023-05-09 16:25:15.723\u001b[0m | \u001b[33m\u001b[1mWARNING \u001b[0m | \u001b[36m__main__\u001b[0m:\u001b[36mtruncated_string\u001b[0m:\u001b[36m43\u001b[0m - \u001b[33m\u001b[1mWarning: Truncated string from 108 tokens to 100 tokens. \n",
            "OriginalString:Name: 61\n",
            "\n",
            "R e s p o n s i b l e  f o r  a d v o c a t i n g  t h e  n e e d s  o f  t h e i r  p e e r s  a b o u t  t h e  a l l o c a t i o n  o f  s t a t e  f u n d s  t o w a r d s  s c h o o l s \n",
            "\u001b[0m\n",
            "\u001b[32m2023-05-09 16:25:15.738\u001b[0m | \u001b[33m\u001b[1mWARNING \u001b[0m | \u001b[36m__main__\u001b[0m:\u001b[36mtruncated_string\u001b[0m:\u001b[36m43\u001b[0m - \u001b[33m\u001b[1mWarning: Truncated string from 113 tokens to 100 tokens. \n",
            "OriginalString:Name: 61\n",
            "\n",
            "O r g a n i z e d  a n d  l e a d  t h e  b u i l d i n g  o f  t w o  t e m p o r a r y  h o r s e  s h e l t e r s  f o r  t h e  o r g a n i z a t i o n ,  H o r s e s  H e a l i n g  H e r o e s , \n",
            "\u001b[0m\n",
            "\u001b[32m2023-05-09 16:25:15.741\u001b[0m | \u001b[33m\u001b[1mWARNING \u001b[0m | \u001b[36m__main__\u001b[0m:\u001b[36mtruncated_string\u001b[0m:\u001b[36m43\u001b[0m - \u001b[33m\u001b[1mWarning: Truncated string from 119 tokens to 100 tokens. \n",
            "OriginalString:Name: 61\n",
            "\n",
            "w h i c h  s p e c i a l i z e s  i n  e q u i n e - a s s i s t e d  t h e r a p y  f o r  v e t e r a n s  w h o  d e a l  w i t h  v a r i o u s  m e n t a l  h e a l t h  d i s o r d e r s  l i k e  ( P T S D \n",
            "\u001b[0m\n",
            "\u001b[32m2023-05-09 16:25:15.753\u001b[0m | \u001b[33m\u001b[1mWARNING \u001b[0m | \u001b[36m__main__\u001b[0m:\u001b[36mtruncated_string\u001b[0m:\u001b[36m43\u001b[0m - \u001b[33m\u001b[1mWarning: Truncated string from 113 tokens to 100 tokens. \n",
            "OriginalString:Name: 61\n",
            "\n",
            "C o l l a b o r a t e d  w i t h  t h e  c o u n s e l o r  t e a m  t o  c r e a t e  a  f u n ,  e n g a g i n g ,  a n d  m e m o r a b l e  s u m m e r  t h a t  c a m p e r s  w i l l  n e v e r \n",
            "\u001b[0m\n",
            "\u001b[32m2023-05-09 16:25:15.782\u001b[0m | \u001b[33m\u001b[1mWARNING \u001b[0m | \u001b[36m__main__\u001b[0m:\u001b[36mtruncated_string\u001b[0m:\u001b[36m43\u001b[0m - \u001b[33m\u001b[1mWarning: Truncated string from 110 tokens to 100 tokens. \n",
            "OriginalString:Name: 63\n",
            "\n",
            "Sofia Miller Bronx, New York 10458 (347) 233-0756 | smiller120@fordham.edu EDUCATION Fordham University, Gabelli School of Business Bronx, New York Bachelor of Science, Finance, Minor Environmental Studies Expected May 2025 GPA: 3.6/4.0 Honors: Dean’s List Relevant Coursework: Financial Accounting, Statistical Decision Making, Marketing Principles, Management  EXPERIENCE Gabelli School of Business Consulting Cup Challenge Bronx, New York Team Member Sept \n",
            "\u001b[0m\n",
            "\u001b[32m2023-05-09 16:25:15.832\u001b[0m | \u001b[33m\u001b[1mWARNING \u001b[0m | \u001b[36m__main__\u001b[0m:\u001b[36mtruncated_string\u001b[0m:\u001b[36m43\u001b[0m - \u001b[33m\u001b[1mWarning: Truncated string from 158 tokens to 100 tokens. \n",
            "OriginalString:Name: 66\n",
            "\n",
            "Sivesh Mohan 140 West 62nd Street, New York, NY 10023 5169027579 | smohan8@fordham.edu  EDUCATION             Fordham University                    New York, NY Bachelor of Science in Global Business Expected Fall 2022 Global Finance and Business Economics Dean's List for the 2020-2021 and 2022-2023 academic year GPA of 3.7 •Relevant Coursework: Financial Modeling, Global Financial Management, Modern Operations Management, Business Law & Legal Framework, Global Financial Statements Analysis, Investments & Security Analysis, Real Estate Finance, Global Investments, IFRS •Study Abroad in London: Gained a holistic view of the operations of global businesses from financial and marketing perspectives \n",
            "\u001b[0m\n",
            "\u001b[32m2023-05-09 16:25:15.944\u001b[0m | \u001b[33m\u001b[1mWARNING \u001b[0m | \u001b[36m__main__\u001b[0m:\u001b[36mtruncated_string\u001b[0m:\u001b[36m43\u001b[0m - \u001b[33m\u001b[1mWarning: Truncated string from 128 tokens to 100 tokens. \n",
            "OriginalString:Name: 70\n",
            "\n",
            "Marc Monteys  marc@mmonteys.com - (917) 818-5050  EDUCATION  Fordham University (New York, NY)                                                                              Graduating 2024 Gabelli Business School: Bachelor of Arts Finance Major   •GPA: 4.0 / 4.0 Yale University (New Haven, CT)                                                                                       Jan - May 2020 Online Certificate in Financial Markets  Grace Church High School (New York, NY)                                                                         Class of 2020 WORK EXPERIENCE  Gabelli Funds (GAMCO) - Summer and Fall Analyst (Rye, NY) \n",
            "\u001b[0m\n",
            "\u001b[32m2023-05-09 16:25:15.949\u001b[0m | \u001b[33m\u001b[1mWARNING \u001b[0m | \u001b[36m__main__\u001b[0m:\u001b[36mtruncated_string\u001b[0m:\u001b[36m43\u001b[0m - \u001b[33m\u001b[1mWarning: Truncated string from 344 tokens to 100 tokens. \n",
            "OriginalString:Name: 70\n",
            "\n",
            "     Jan 2020 - Jun 2022 •Managed HubSpot CRM program and lead outreach efforts with key influencers from TikTok, Twitch, Instagram & YouTube in order to grow the creator economy on the YouNow platform •Managed network premiers and ongoing relationships with creators / influencers to generate value and retention on platform •Created the agency playbook and took lead on acquisitions for key users of the industry Ovation Travel - Marketing Associate (New York, NY)                                                   May - Sep 2018 •Client outreach - over 200 client for updated information and and sales of new products •Wrote and sent a weekly research and innovation driven News-Letter to clients and associates  OceanView Landscaping (Water Mill, NY)                                             Jun - Sep 2017 •Joined team of seasonal landscapers providing detailed gardening and architectural landscape  improvements EXTRACURRICULAR ACTIVITIES Founder of the Investment Club at grace church school (New York, NY)                        Sep 2018  •Grew the account’s value over 890% in overall returns within the past four years with a long term value outlook for growth  NYSAISAA - Swim Team Capitan for Grace Church School (New York, NY)             Sep 2019 - 2020 •Developing teamwork, communication and leadership skills while balancing practice and academic coursework Jesuit Sarrià Sant-Ignasi Class Rep (Barcelona, Spain)                   Sep 2014 - 2016 SKILLS  Language Fluency: English, Spanish, Catalan, ASL  Skills: Proficient in Bloomberg, Refinitiv, Salesforce, HubSpot, Microsoft Office (Excel, Outlook, PowerPoint, Word, Teams) \n",
            "\u001b[0m\n",
            "\u001b[32m2023-05-09 16:25:16.076\u001b[0m | \u001b[33m\u001b[1mWARNING \u001b[0m | \u001b[36m__main__\u001b[0m:\u001b[36mtruncated_string\u001b[0m:\u001b[36m43\u001b[0m - \u001b[33m\u001b[1mWarning: Truncated string from 145 tokens to 100 tokens. \n",
            "OriginalString:Name: 74\n",
            "\n",
            " MADINA NOORZAI New York, NY 10023 · +1(703)622-9495 mnoorzai@fordham.edu · LinkedIn Profile  EXPERIENCE JULY 2021 – PRESENT BARISTA, STARBUCKS • Certified barista serving full coffee and food menu, including espresso and novelty coffee beverages, focused on providing quality customer service that exceeds client expectations and improves the overall store experience • Record orders, operate cash register and oversee transactions, and interact with customers • Reduce inventory spoilage by an estimated 10% after successfully implementing first-in, first-out (FIFO) inventory practices • Deliver excellent customer service in a fast paced and challenging environment NOV \n",
            "\u001b[0m\n",
            "\u001b[32m2023-05-09 16:25:16.081\u001b[0m | \u001b[33m\u001b[1mWARNING \u001b[0m | \u001b[36m__main__\u001b[0m:\u001b[36mtruncated_string\u001b[0m:\u001b[36m43\u001b[0m - \u001b[33m\u001b[1mWarning: Truncated string from 230 tokens to 100 tokens. \n",
            "OriginalString:Name: 74\n",
            "\n",
            "2019 LOAN OFFICER ASSISTANT, JG WENTWORTH HOME LENDING • Assisted loan officer with preparation and distribution of marketing materials • Calculated income from various streams to determine clients’ maximum monthly housing payment and pre-approval amount • Collaborated with real estate agents and title companies to ensure a smooth transaction from all parties • Prepared legally compliant disclosure documents throughout the loan process from purchase agreement to closing disclosure EDUCATION MAY 2025 FORDHAM UNIVERSITY AT LINCOLN CENTER • GPA: 3.22 • Relevant Coursework: Introduction to Communications, Approaches to Literature (in Spanish), Linear Algebra, Discrete Structures, Intermediate Arabic, Trends in Latin American Film (in Spanish) • Activities and societies: Treasurer of Muslim Students Association, Pre-Law Society, Undergraduate Women in Business, Student Organization of Latinxs, Environmental Club SKILLS • Spanish – fluent in speaking, reading, and writing • Farsi – fluent in speaking, reading, and writing • Basic proficiency in programming (Java) • Proficiency in Microsoft Office • Proficiency in Encompass (loan processing system)  \n",
            "\u001b[0m\n",
            "\u001b[32m2023-05-09 16:25:16.332\u001b[0m | \u001b[33m\u001b[1mWARNING \u001b[0m | \u001b[36m__main__\u001b[0m:\u001b[36mtruncated_string\u001b[0m:\u001b[36m43\u001b[0m - \u001b[33m\u001b[1mWarning: Truncated string from 207 tokens to 100 tokens. \n",
            "OriginalString:Name: 84\n",
            "\n",
            "Sonia Topi (203) 722-5588 | stopi@fordham.edu | www.linkedin.com/in/soniatopi  EDUCATION Fordham University, Gabelli School of Business                                                                                        Bronx, NY Bachelor of Science, Applied Accounting & Finance, Cybersecurity                                                                 Expected May 2025 GPA: 3.6/4.0 Honors: Fordham University Emerging Leaders (FUEL) Program, Dean’s List (academic year 2021-2022)   Envestnet Institute On-Campus Program                                                                                                   Bronx, NY Private Wealth Management                                                                                                                                          Spring 2022 • Broad-based training in asset and wealth management with an emphasis on managed solutions   • Learned the essential language of investment management as well as its ever-changing products and technologies    KPMG                                                                                                                                                              New York City Ace The Case                                                                                                                                                                        July 2022  • Business case analysis workshop aimed at advancing my analytical, case writing and presentation skills \n",
            "\u001b[0m\n",
            "\u001b[32m2023-05-09 16:25:16.338\u001b[0m | \u001b[33m\u001b[1mWARNING \u001b[0m | \u001b[36m__main__\u001b[0m:\u001b[36mtruncated_string\u001b[0m:\u001b[36m43\u001b[0m - \u001b[33m\u001b[1mWarning: Truncated string from 476 tokens to 100 tokens. \n",
            "OriginalString:Name: 84\n",
            "\n",
            "2021 - Present • Mentor and train new employees on procedures to run farm’s stands • Greet and serve 500-1,000 customers within a 5-hour window and building relationships with customers  • Execute cash and POS transactions quickly and accurately and responsible in reconciling day’s end sale spreadsheet Topi Restoration & Cleaning Services                                                                                                               Rome, Italy Assistant Bookkeeper (Remote)                                                                                                                      May 2014 - Present • Create billing statements and invoices for approximately 50 clients  • Record and post transactions such as income and expenses to accounts • Conduct daily banking activities and reconciliations and generate various financial reports on a monthly base Stile 1975                     Elbasan, Albania Social Media Manager and Inventory Control Clerk                  April 2016 – August 2021 • Oversaw the company’s interaction with the public by implementing content strategies • Monitor and maintain current inventory levels; maintain databases, perform count of inventory and reconcile actual stock count to computer-generated reports  LEADERSHIP AND EXTRACURRICULAR Fordham University United Student Government                           Bronx, NY International Integration Committee Member                                                                                         Spring 2022 – Fall 2023 • Create opportunities and events for the international community at Fordham University and build support and guidance for students adjusting to living in the US • Brainstorm, plan, and coordinate events to host for international students and non-international students to learn more about different cultures and communities to achieve a more diverse and accepting community at Fordham   Goldman Sachs                                                                                                                                                             Virtual 2022 Virtual Insight Series                                                                                                                                           June 2022  • Identified and strengthened professional skills DEI lens, articulated a personal narrative, explored Goldman Sachs divisions, immersed in their culture, and prepared for the recruiting process and consequently, personalized a digital curriculum  Bank of New York Mellon                                                                                                                                           Virtual Freshmen JumpStart Program                                                                                                                   June 2022 – August 2022 • Participated in professional development workshops to build business skills, improve resume writing and create a personal brand  SKILLS, CERTIFICATIONS AND INTERESTS Skills: Microsoft Excel, Social Media, QuickBooks, Adaptability, Work Ethics, Teamwork and Time Management Certifications: Bloomberg Market Concepts, TOEFL Language: Italian (Native), Albanian (Native), English (Fluent)  Interests: Volleyball, cooking and baking, traveling and exploring new cultures  \n",
            "\u001b[0m\n",
            "\u001b[32m2023-05-09 16:25:16.390\u001b[0m | \u001b[33m\u001b[1mWARNING \u001b[0m | \u001b[36m__main__\u001b[0m:\u001b[36mtruncated_string\u001b[0m:\u001b[36m43\u001b[0m - \u001b[33m\u001b[1mWarning: Truncated string from 132 tokens to 100 tokens. \n",
            "OriginalString:Name: 86\n",
            "\n",
            " EDUCATION                                 FORDHAM UNIVERSITY AT LINCOLN CENTER                                                                                                                                                     New York, New York  Bachelor of Arts in Political Science & Marketing & Russian GPA: 3.4                                                                                  Expected Graduation: May 2023  ACTIVITIES: FOUNDER AND EXECUTIVE CHAIR OF RUSSIAN STUDENTS’ ASSOCIATION (2021 – PRESENT)       HONORABLE MEMBER OF MODEL UN (2019 – 2020)   NEW UTRECHT HIGH SCHOOL GPA: 3.4 Brooklyn, New York AP Courses: Psychology, United States History, Government and Politics, Computer Science Principles \n",
            "\u001b[0m\n",
            "\u001b[32m2023-05-09 16:25:16.396\u001b[0m | \u001b[33m\u001b[1mWARNING \u001b[0m | \u001b[36m__main__\u001b[0m:\u001b[36mtruncated_string\u001b[0m:\u001b[36m43\u001b[0m - \u001b[33m\u001b[1mWarning: Truncated string from 203 tokens to 100 tokens. \n",
            "OriginalString:Name: 86\n",
            "\n",
            "                            Graduated: June 2019 Activities: Legal Studies Academy (2015 – 2019)                    NUHS Honors Society (2017 – 2019)                   NYU High School Law Institute (2017 – 2019)                   College Now: John Jay College of Criminal Justice (2018 – 2019)                   Moot Court/Mock Trial Team (2015 – 2019)                   Varsity Girls’ Volleyball Team (2017 – 2019)                   Varsity Boys’ Volleyball Team Manager (2018)                                                     WORK EXPERIENCE  FORDHAM SCHOOL OF LAW / LINCOLN SQUARE LEGAL SERVICES   New York, New York Law Clinic Assistant  January 2022 – Present • Assisting faculty and students in all clinics to prepare legal documents and maintain client files – including opening files, closing files, archiving, legal mail, use of Time Matters case management software, Outlook e-mail, Teams, and other clinic specific applications \n",
            "\u001b[0m\n",
            "\u001b[32m2023-05-09 16:25:16.411\u001b[0m | \u001b[33m\u001b[1mWARNING \u001b[0m | \u001b[36m__main__\u001b[0m:\u001b[36mtruncated_string\u001b[0m:\u001b[36m43\u001b[0m - \u001b[33m\u001b[1mWarning: Truncated string from 149 tokens to 100 tokens. \n",
            "OriginalString:Name: 86\n",
            "\n",
            "  FORDHAM UNIVERSITY FACILITIES OPERATIONS                                                                                                                                            New York, New York  Administrative Assistant  September 2019 – May 2022 • Responsible for answering calls, routing calls, informed and directed students of the resources available, monitoring contracts and communicating with contractors, team members, taking messages, filing, organizing, developing detailed spreadsheets • Assigning work orders and communicating with facilities’ employees using eWorkOrders, CMMS software UNICEF                                                                                                                                                                                                        New York, New York  Performance Management and Career Development Intern June 2021 – December 2021 • Conduct research and analysis of relevant best practices, trends, and market standards including Rewards and Recognition programme, and other activities to support any further PMCD interventions \n",
            "\u001b[0m\n",
            "\u001b[32m2023-05-09 16:25:16.415\u001b[0m | \u001b[33m\u001b[1mWARNING \u001b[0m | \u001b[36m__main__\u001b[0m:\u001b[36mtruncated_string\u001b[0m:\u001b[36m43\u001b[0m - \u001b[33m\u001b[1mWarning: Truncated string from 214 tokens to 100 tokens. \n",
            "OriginalString:Name: 86\n",
            "\n",
            "Collaborate to review and update PMCD materials housed on UNICEF SharePoint • Coordinate and liaise within team and with Communication team in DHR to collate and publish human interest stories globally in UNICEF and OneHR newsletter CHINESE AMERICAN PLANNING COUNCIL                                                                                                                                                            New York, New York  Administrative Assistant  October 2018 – March 2019 • Provided administrative support to maintain and improve the workflow level and efficiency  • Coordinated weekly meetings and generated flyers for resourceful events to increase number of attended students • Assisted with special events planning, performed general clerical duties (photocopy, fax, mails, and files, etc.) KINGS COUNTY CRIMINAL COURT                                                                                                                                                                             Brooklyn, New York  Judicial Intern   July 2018 – August 2018 • Accompanied Judge Baron to court to assist during arraignments • Performed general clerical duties, filed, and organized legal documents, checked summons to ensure that the correct charges were filed, read motions and case briefs \n",
            "\u001b[0m\n",
            "\u001b[32m2023-05-09 16:25:16.419\u001b[0m | \u001b[33m\u001b[1mWARNING \u001b[0m | \u001b[36m__main__\u001b[0m:\u001b[36mtruncated_string\u001b[0m:\u001b[36m43\u001b[0m - \u001b[33m\u001b[1mWarning: Truncated string from 126 tokens to 100 tokens. \n",
            "OriginalString:Name: 86\n",
            "\n",
            "Assisted customers to file RJI’s, NOI’s, and Certificating documents • Conducted research, provided basic reports of finding, performed general clerical duties  VOLUNTEER EXPERIENCE   • MAHALLA USA New York, New York                   Volunteer   September 2022 – Present • THE HONORABLE JUDGE ELENA BARON New York, New York                   Campaign Volunteer  May 2019 – June 2019  SKILLS    Fluent in Uzbek, Conversational Russian, Basic Korean, Microsoft Office, Photoshop, Social Media Platforms, Proficient in HTML  \n",
            "\u001b[0m\n",
            "\u001b[32m2023-05-09 16:25:16.495\u001b[0m | \u001b[33m\u001b[1mWARNING \u001b[0m | \u001b[36m__main__\u001b[0m:\u001b[36mtruncated_string\u001b[0m:\u001b[36m43\u001b[0m - \u001b[33m\u001b[1mWarning: Truncated string from 276 tokens to 100 tokens. \n",
            "OriginalString:Name: 90\n",
            "\n",
            "Crystal Wu Brooklyn, NY | (347)-273-7390 | cwu109@fordham.edu  EDUCATION Fordham University, Gabelli School of Business                                                                                              Bronx, New York Bachelor of Science, Business Administration concentrated in Business in Healthcare, Minor in Marketing                                    Expected May 2025 GPA: 3.8 / 4.0 Honors: Jogues Scholarship, Gabelli School of Business Woolworth Award, Dean’s List Relevant Coursework: The Ground Floor, Basic Microeconomics, Statistics, Principles of Management, Marketing Principles,  Consulting Cup, Information Systems, Principles of Financial Accounting, Business Communications  EXPERIENCE Maimonides Medical Center Department of Surgery                                                                                              Brooklyn, NY Admin Intern                                                                                                                                                      July 2022 – August 2022 ! Oversaw 35 surgical residents and formulated day assignment sheet and monthly attestation from an Excel block schedule  ! Evaluated 35 surgical residents’ files weekly on New Innovations for missing certifications and recertifications  ! Updated surgical residents’ and faculty’s PubMed academic activity  ! Emailed 10-15 medical students their acceptance email to elective surgeries weekly and confirmed their elective surgeries   Gabelli Consulting Cup                                                                                                                                            New York, NY Team Member                                                                                                                                                        September 2022 –present ! Member of a six-person team who is performing a study of Wendy’s Co \n",
            "\u001b[0m\n",
            "\u001b[32m2023-05-09 16:25:16.499\u001b[0m | \u001b[33m\u001b[1mWARNING \u001b[0m | \u001b[36m__main__\u001b[0m:\u001b[36mtruncated_string\u001b[0m:\u001b[36m43\u001b[0m - \u001b[33m\u001b[1mWarning: Truncated string from 109 tokens to 100 tokens. \n",
            "OriginalString:Name: 90\n",
            "\n",
            "and developing a thorough financial, operational, and strategic analysis ! Develop solutions in the form of project deliverables and presentations  Leukemia and Lymphoma Society                                                                                                                          New York, NY Team Member                                                                                                                                                  October 2020 – June 2021 ! Attended weekly meetings to oversee our progress and trajectories and developed fundraising strategies to fund allocations  ! Recruited and advised a NYC Student of the Year team toward their fundraising goal  LEADERSHIP AND EXTRACURRICULAR Marketing With a Purpose - St \n",
            "\u001b[0m\n",
            "\u001b[32m2023-05-09 16:25:16.506\u001b[0m | \u001b[33m\u001b[1mWARNING \u001b[0m | \u001b[36m__main__\u001b[0m:\u001b[36mtruncated_string\u001b[0m:\u001b[36m43\u001b[0m - \u001b[33m\u001b[1mWarning: Truncated string from 418 tokens to 100 tokens. \n",
            "OriginalString:Name: 90\n",
            "\n",
            "Barnabas Hospital Gabelli Marketing Project                                                         Bronx, NY  Project Manager                                                                                                                                                    September 2022 – present ! Visited SBH Health & Wellness Center to find strategies to promote the wellness center to the local Bronx community  ! Debrief weekly with the head supervisor on project status and delegated project tasks based on team members’ competencies  ! Researched and developed a full communications program, including B.R.A.G Boxing Tournament and Holiday Cooking       Competition, to highlight the Fitness Center’s and Teaching Kitchen’s impact on a healthy lifestyle                   Fordham Commuting Students Association                                                                                                                 Bronx, NY Sophomore Program Coordinator                                                                                                                                 September 2022-present • Update the CSA board on a weekly basis regarding the implementation of policies, events, and services to help resolve student         commuter students’ concerns  • Planned Fall event, “Apple in Our Eyes,” with a $300 budget to give commuters a chance to connect with others    Fordham ASCEND                                                                                                                                                          Bronx, NY Member                                                                                                                                                                September 2021 – present  • Attended weekly career-building workshops to advance personal goal planning and networking skills • Interviewed e-board members to learn about their academic and internship experiences    Fordham Asian Cultural Exchange                                                                                                                                Bronx, NY Member                                                                                                                                                                  September 2021-present • Engaged in social events that raised awareness about the cultural, historical, and academic pursuits of the Asian community   Champions Tae Kwon Do                                                                                                                                          Brooklyn, NY Junior Staff/Member                                                                                                                                               January 2018 – present ! Achieved 1st Dan Black Belt and won Gold in the Champions’ Tournament for Poomsae and Sparring  ! Train students in Taekwondo techniques, Poomsae, and disciplinaries   SKILLS, CERTIFICATIONS, LANGUAGES, AND INTERESTS Skills: Google Suite, PubMed, New Innovations, Instagram, TikTok Video Editing Certifications: New York Confronting Sexual Harassment Language: Fluent in Cantonese Interests: Piano, Violin, Art, Photography, Baking, Social Media Content  \n",
            "\u001b[0m\n",
            "\u001b[32m2023-05-09 16:25:17.218\u001b[0m | \u001b[33m\u001b[1mWARNING \u001b[0m | \u001b[36m__main__\u001b[0m:\u001b[36mtruncated_string\u001b[0m:\u001b[36m43\u001b[0m - \u001b[33m\u001b[1mWarning: Truncated string from 151 tokens to 100 tokens. \n",
            "OriginalString:Name: 126\n",
            "\n",
            "Apt 5T, Bayside NY 11360 | (917) 780 5688 | mfukushima@fordham.edu EDUCATION Fordham University, Gabelli School of Business                                                                         Bronx, New York Bachelor of Science, Finance, Global Business  Expected May 2025 GPA: 3.8/4.0  Honors: Global Business Honors Program: 19 students with stellar academic records in a four-year extensive program  Awards: Woolworth Academic Award, Dean’s List  Relevant Coursework: Financial Accounting, Honors Business Math, Global Business Readings, Honors Macroeconomics EXPERIENCE Ahne & Ji., LLP                                                                                   New York City, New York Summer Intern Jun \n",
            "\u001b[0m\n",
            "\u001b[32m2023-05-09 16:25:17.226\u001b[0m | \u001b[33m\u001b[1mWARNING \u001b[0m | \u001b[36m__main__\u001b[0m:\u001b[36mtruncated_string\u001b[0m:\u001b[36m43\u001b[0m - \u001b[33m\u001b[1mWarning: Truncated string from 104 tokens to 100 tokens. \n",
            "OriginalString:Name: 126\n",
            "\n",
            "2020  •Collaborated with a non-profit community organization to advocate for the concerns of Asian Americans during the height of the pandemic by providing COVID-19 relief, tenant concerns, and establishing the #cancel rent petition  •Directed and initiated Flushing Rezoning campaigns, and worked with local businesses to reduce food shortages by setting up a donation fridge where donations and retrievals were encouraged LEADERSHIP AND EXTRACURRICULAR Smart Woman Securities Club Bronx, New York Associate Sept \n",
            "\u001b[0m\n",
            "\u001b[32m2023-05-09 16:25:17.268\u001b[0m | \u001b[33m\u001b[1mWARNING \u001b[0m | \u001b[36m__main__\u001b[0m:\u001b[36mtruncated_string\u001b[0m:\u001b[36m43\u001b[0m - \u001b[33m\u001b[1mWarning: Truncated string from 107 tokens to 100 tokens. \n",
            "OriginalString:Name: 128\n",
            "\n",
            "OFFICE MANAGER 2007-2010 Barker Capital, LLC, NYC •Spearheaded and supervised HR systems: payroll, beneﬁts, expense reimbursement  •Conceptualized a framework for IT services; ordered equipment and supervised repairs  •Orchestrated correspondence and interfaced with a plethora of clients; scheduled meetings; managed CEO calendar and correspondence •Performed industry research to determine trends; designed ﬁling systems; new-client due diligence SAMANTHA IVES Ethical Leadership for Growth \n",
            "\u001b[0m\n",
            "\u001b[32m2023-05-09 16:25:17.272\u001b[0m | \u001b[33m\u001b[1mWARNING \u001b[0m | \u001b[36m__main__\u001b[0m:\u001b[36mtruncated_string\u001b[0m:\u001b[36m43\u001b[0m - \u001b[33m\u001b[1mWarning: Truncated string from 504 tokens to 100 tokens. \n",
            "OriginalString:Name: 128\n",
            "\n",
            "EDUCATION  MA Ethics and Society BA Organizational Leadership Fordham University, current New York, NY Deans List, 4.0 GPA Alpha Sigma Nu Alpha Sigma Lambda Chynn Ethics Prize, 1st Place 2021 Theater University of Northern CO Greeley, CO Acting, Directing, Stage Management Deans List, 3.86 GPA PROFESSIONAL EXPERIENCE FILM/TV/STAGE/COMMERCIAL PERFORMER  1997-Present Self Employed, NY •Award-winning, conservatory trained performer  •Expertise in acting, directing, editing •Extensive experience in project management, public speaking,  team building, conﬂict resolution, change management, resource management, cultural competence •Client and VIP collaboration for commercial success •Performed with T ony, Oscar, and Emmy winners •Launched an original production from page to international stage to screen •Helmed successful productions as a director and as an award-winning editor •Off-Broadway; multiple independent feature ﬁlms; Cannes, Prime Time TV, on-camera commercial and print MANAGER OF VOLUNTEER STAFF 2010-2012 All Stars Project, NYC •Outreach, Recruitment,Training, and Management of 1200+ volunteer staff  •Mentored 30 volunteer supervisors as effective leaders •Initiated and produced volunteer-recognition events •Expanded company’s sphere of inﬂuence throughout the volunteer ﬂeet in the spirit of servant leadership •Created and led database-training seminars for volunteer supervisors •Event Production: 2010/2011 Bowl-A-Thon •Secured donations, contracts, and volunteer participants •Recruited and trained volunteer event staff •Established fundraising web portal and trained staff to utilize effectively •House Management, Castillo Theatre  •Produced, ran, and supervised quarterly leadership training seminars for volunteers •Scheduled volunteer managers and volunteer staff for 3 theaters in production simultaneously, as well as on- and off-campus events TECHNICAL SKILLS Final Cut Pro X Database: Memberhub, Vol2 MS Ofﬁce: Word, Excel, Powerpoint, Outlook  Google Drive: Docs, Sheets, Forms, Slides Email: Filters, folder, merge  Social Media: Facebook, Insta, LinkedIn, groups, outreach  Video Creation: shooting, writing/improvisation, editing, uploading IMDB.com/SamanthaIvesIves_Samantha \n",
            "\u001b[0m\n",
            "\u001b[32m2023-05-09 16:25:17.446\u001b[0m | \u001b[33m\u001b[1mWARNING \u001b[0m | \u001b[36m__main__\u001b[0m:\u001b[36mtruncated_string\u001b[0m:\u001b[36m43\u001b[0m - \u001b[33m\u001b[1mWarning: Truncated string from 499 tokens to 100 tokens. \n",
            "OriginalString:Name: 134\n",
            "\n",
            "Mineola, NY 11501 • (516) 304-8630 • slarrea@fordham.edu EDUCATION Fordham University, New York, NY          May 2025  Pre-Law Bachelor of Arts in International Political Economy, GPA: 3.06 RELEV ANT COURSEWORK Introduction to International Politics, Basic Macroeconomics, Basic Microeconomics, Italian Language and Literature AWARDS AND HONORS Jogues Scholarship, Manresa Scholar RELA V ANT EXPERIENCE Mid Nassau Medical Center, Receptionist, Westbury, NY    June 2021 – January 2022 •Assists in examination and treatment of patients •Performed miscellaneous delegated duties under the direction of physician •Triage patient, measure vital signs, such as pulse rate, temperature, blood pressure, weight, and height, and recorded information on patients’ charts •Prepares treatment rooms for examination of patients •Enters all historical medical information and update medical records as directed •Called patients with laboratory results and follow-up after consult report as directed by doctor •Scheduled appointments •Verified patient insurance eligibility •Collected money for co-payments, bills, and other medical records •Performed secretarial tasks •Confirmed at every appointment: patient demographics, insurance plan, pharmacy, complete referrals/school forms •Typed data into various medical programs to maintain office and patient records •Responsible for providing clerical and telephone support to the office •Maintains and updates patients’ demographics and informs any changes to billing departments for updates made to patient insurance plan ADDITIONAL EXPERIENCE  Girl Scouts, Member, Bethpage, NY                                                                                              September 2013-June 2021 •V olunteered in community service projects Athletes Helping Athletes Leadership Program, Member, Bethpage, NY                         September 2019-June 2021 •Actively participated in training sessions, meetings, and program activities for fifth grade elementary school children •Interacted with students and prepared materials focused on teaching sportsmanship and academic/athletic integrity National Honor Society, Member, Bethpage, NY       September 2020-June 2021 •Tutored underclassmen students •V olunteered in community service projects  •Showed courtesy by assisting visitors, students, and teachers SKILLS AND LANGUAGES •Microsoft Word, Excel, PowerPoint, Mac and Windows Operating Systems  •Fluent Spanish, Conversational Italian INTERESTS Legal field, International Politics, Traveling  \n",
            "\u001b[0m\n",
            "\u001b[32m2023-05-09 16:25:17.488\u001b[0m | \u001b[33m\u001b[1mWARNING \u001b[0m | \u001b[36m__main__\u001b[0m:\u001b[36mtruncated_string\u001b[0m:\u001b[36m43\u001b[0m - \u001b[33m\u001b[1mWarning: Truncated string from 105 tokens to 100 tokens. \n",
            "OriginalString:Name: 136\n",
            "\n",
            "KONATEHNew York, NY | (646) 255-6941 | akonateh@fordham.eduEDUCATIONFordham University,Bronx NYBachelor of Arts in Anthropology, Minor: African StudiesExpected: May 2023Relevant Coursework:Culture and Culture Change, Introto Archaeology, Biological Anthropology, Gender, Race, andClass, African History, Being and Becoming Black in the Atlantic World,  Ethics in Action, Undocumented Migration \n",
            "\u001b[0m\n",
            "\u001b[32m2023-05-09 16:25:17.670\u001b[0m | \u001b[33m\u001b[1mWARNING \u001b[0m | \u001b[36m__main__\u001b[0m:\u001b[36mtruncated_string\u001b[0m:\u001b[36m43\u001b[0m - \u001b[33m\u001b[1mWarning: Truncated string from 126 tokens to 100 tokens. \n",
            "OriginalString:Name: 141\n",
            "\n",
            "S o c i a l  M e d i a  I n i t i a t i v e  s t a r t e d  t o  g i v e  l e s s  f o r t u n a t e  s t u d e n t s  a c c e s s  t o  r e s o u r c e s  t o  l e a r n  m o r e  a b o u t  t h e  m e d i c a l  f i e l d \n",
            "\u001b[0m\n",
            "\u001b[32m2023-05-09 16:25:17.682\u001b[0m | \u001b[33m\u001b[1mWARNING \u001b[0m | \u001b[36m__main__\u001b[0m:\u001b[36mtruncated_string\u001b[0m:\u001b[36m43\u001b[0m - \u001b[33m\u001b[1mWarning: Truncated string from 111 tokens to 100 tokens. \n",
            "OriginalString:Name: 141\n",
            "\n",
            "A  s m a l l  s e l e c t i o n  o f  s t u d e n t s  f r o m  h i g h  s c h o o l s  a r o u n d  t h e  d i s t r i c t  w h o  w e r e  s e l e c t e d  b y  t h e i r  p r i n c i p a l s  \n",
            "\u001b[0m\n",
            "\u001b[32m2023-05-09 16:25:17.685\u001b[0m | \u001b[33m\u001b[1mWARNING \u001b[0m | \u001b[36m__main__\u001b[0m:\u001b[36mtruncated_string\u001b[0m:\u001b[36m43\u001b[0m - \u001b[33m\u001b[1mWarning: Truncated string from 108 tokens to 100 tokens. \n",
            "OriginalString:Name: 141\n",
            "\n",
            "R e s p o n s i b l e  f o r  a d v o c a t i n g  t h e  n e e d s  o f  t h e i r  p e e r s  a b o u t  t h e  a l l o c a t i o n  o f  s t a t e  f u n d s  t o w a r d s  s c h o o l s \n",
            "\u001b[0m\n",
            "\u001b[32m2023-05-09 16:25:17.702\u001b[0m | \u001b[33m\u001b[1mWARNING \u001b[0m | \u001b[36m__main__\u001b[0m:\u001b[36mtruncated_string\u001b[0m:\u001b[36m43\u001b[0m - \u001b[33m\u001b[1mWarning: Truncated string from 113 tokens to 100 tokens. \n",
            "OriginalString:Name: 141\n",
            "\n",
            "O r g a n i z e d  a n d  l e a d  t h e  b u i l d i n g  o f  t w o  t e m p o r a r y  h o r s e  s h e l t e r s  f o r  t h e  o r g a n i z a t i o n ,  H o r s e s  H e a l i n g  H e r o e s , \n",
            "\u001b[0m\n",
            "\u001b[32m2023-05-09 16:25:17.705\u001b[0m | \u001b[33m\u001b[1mWARNING \u001b[0m | \u001b[36m__main__\u001b[0m:\u001b[36mtruncated_string\u001b[0m:\u001b[36m43\u001b[0m - \u001b[33m\u001b[1mWarning: Truncated string from 119 tokens to 100 tokens. \n",
            "OriginalString:Name: 141\n",
            "\n",
            "w h i c h  s p e c i a l i z e s  i n  e q u i n e - a s s i s t e d  t h e r a p y  f o r  v e t e r a n s  w h o  d e a l  w i t h  v a r i o u s  m e n t a l  h e a l t h  d i s o r d e r s  l i k e  ( P T S D \n",
            "\u001b[0m\n",
            "\u001b[32m2023-05-09 16:25:17.718\u001b[0m | \u001b[33m\u001b[1mWARNING \u001b[0m | \u001b[36m__main__\u001b[0m:\u001b[36mtruncated_string\u001b[0m:\u001b[36m43\u001b[0m - \u001b[33m\u001b[1mWarning: Truncated string from 113 tokens to 100 tokens. \n",
            "OriginalString:Name: 141\n",
            "\n",
            "C o l l a b o r a t e d  w i t h  t h e  c o u n s e l o r  t e a m  t o  c r e a t e  a  f u n ,  e n g a g i n g ,  a n d  m e m o r a b l e  s u m m e r  t h a t  c a m p e r s  w i l l  n e v e r \n",
            "\u001b[0m\n",
            "\u001b[32m2023-05-09 16:25:17.747\u001b[0m | \u001b[33m\u001b[1mWARNING \u001b[0m | \u001b[36m__main__\u001b[0m:\u001b[36mtruncated_string\u001b[0m:\u001b[36m43\u001b[0m - \u001b[33m\u001b[1mWarning: Truncated string from 110 tokens to 100 tokens. \n",
            "OriginalString:Name: 143\n",
            "\n",
            "Sofia Miller Bronx, New York 10458 (347) 233-0756 | smiller120@fordham.edu EDUCATION Fordham University, Gabelli School of Business Bronx, New York Bachelor of Science, Finance, Minor Environmental Studies Expected May 2025 GPA: 3.6/4.0 Honors: Dean’s List Relevant Coursework: Financial Accounting, Statistical Decision Making, Marketing Principles, Management  EXPERIENCE Gabelli School of Business Consulting Cup Challenge Bronx, New York Team Member Sept \n",
            "\u001b[0m\n",
            "\u001b[32m2023-05-09 16:25:17.804\u001b[0m | \u001b[33m\u001b[1mWARNING \u001b[0m | \u001b[36m__main__\u001b[0m:\u001b[36mtruncated_string\u001b[0m:\u001b[36m43\u001b[0m - \u001b[33m\u001b[1mWarning: Truncated string from 158 tokens to 100 tokens. \n",
            "OriginalString:Name: 146\n",
            "\n",
            "Sivesh Mohan 140 West 62nd Street, New York, NY 10023 5169027579 | smohan8@fordham.edu  EDUCATION             Fordham University                    New York, NY Bachelor of Science in Global Business Expected Fall 2022 Global Finance and Business Economics Dean's List for the 2020-2021 and 2022-2023 academic year GPA of 3.7 •Relevant Coursework: Financial Modeling, Global Financial Management, Modern Operations Management, Business Law & Legal Framework, Global Financial Statements Analysis, Investments & Security Analysis, Real Estate Finance, Global Investments, IFRS •Study Abroad in London: Gained a holistic view of the operations of global businesses from financial and marketing perspectives \n",
            "\u001b[0m\n",
            "\u001b[32m2023-05-09 16:25:17.910\u001b[0m | \u001b[33m\u001b[1mWARNING \u001b[0m | \u001b[36m__main__\u001b[0m:\u001b[36mtruncated_string\u001b[0m:\u001b[36m43\u001b[0m - \u001b[33m\u001b[1mWarning: Truncated string from 128 tokens to 100 tokens. \n",
            "OriginalString:Name: 150\n",
            "\n",
            "Marc Monteys  marc@mmonteys.com - (917) 818-5050  EDUCATION  Fordham University (New York, NY)                                                                              Graduating 2024 Gabelli Business School: Bachelor of Arts Finance Major   •GPA: 4.0 / 4.0 Yale University (New Haven, CT)                                                                                       Jan - May 2020 Online Certificate in Financial Markets  Grace Church High School (New York, NY)                                                                         Class of 2020 WORK EXPERIENCE  Gabelli Funds (GAMCO) - Summer and Fall Analyst (Rye, NY) \n",
            "\u001b[0m\n",
            "\u001b[32m2023-05-09 16:25:17.914\u001b[0m | \u001b[33m\u001b[1mWARNING \u001b[0m | \u001b[36m__main__\u001b[0m:\u001b[36mtruncated_string\u001b[0m:\u001b[36m43\u001b[0m - \u001b[33m\u001b[1mWarning: Truncated string from 344 tokens to 100 tokens. \n",
            "OriginalString:Name: 150\n",
            "\n",
            "     Jan 2020 - Jun 2022 •Managed HubSpot CRM program and lead outreach efforts with key influencers from TikTok, Twitch, Instagram & YouTube in order to grow the creator economy on the YouNow platform •Managed network premiers and ongoing relationships with creators / influencers to generate value and retention on platform •Created the agency playbook and took lead on acquisitions for key users of the industry Ovation Travel - Marketing Associate (New York, NY)                                                   May - Sep 2018 •Client outreach - over 200 client for updated information and and sales of new products •Wrote and sent a weekly research and innovation driven News-Letter to clients and associates  OceanView Landscaping (Water Mill, NY)                                             Jun - Sep 2017 •Joined team of seasonal landscapers providing detailed gardening and architectural landscape  improvements EXTRACURRICULAR ACTIVITIES Founder of the Investment Club at grace church school (New York, NY)                        Sep 2018  •Grew the account’s value over 890% in overall returns within the past four years with a long term value outlook for growth  NYSAISAA - Swim Team Capitan for Grace Church School (New York, NY)             Sep 2019 - 2020 •Developing teamwork, communication and leadership skills while balancing practice and academic coursework Jesuit Sarrià Sant-Ignasi Class Rep (Barcelona, Spain)                   Sep 2014 - 2016 SKILLS  Language Fluency: English, Spanish, Catalan, ASL  Skills: Proficient in Bloomberg, Refinitiv, Salesforce, HubSpot, Microsoft Office (Excel, Outlook, PowerPoint, Word, Teams) \n",
            "\u001b[0m\n",
            "\u001b[32m2023-05-09 16:25:18.032\u001b[0m | \u001b[33m\u001b[1mWARNING \u001b[0m | \u001b[36m__main__\u001b[0m:\u001b[36mtruncated_string\u001b[0m:\u001b[36m43\u001b[0m - \u001b[33m\u001b[1mWarning: Truncated string from 145 tokens to 100 tokens. \n",
            "OriginalString:Name: 154\n",
            "\n",
            " MADINA NOORZAI New York, NY 10023 · +1(703)622-9495 mnoorzai@fordham.edu · LinkedIn Profile  EXPERIENCE JULY 2021 – PRESENT BARISTA, STARBUCKS • Certified barista serving full coffee and food menu, including espresso and novelty coffee beverages, focused on providing quality customer service that exceeds client expectations and improves the overall store experience • Record orders, operate cash register and oversee transactions, and interact with customers • Reduce inventory spoilage by an estimated 10% after successfully implementing first-in, first-out (FIFO) inventory practices • Deliver excellent customer service in a fast paced and challenging environment NOV \n",
            "\u001b[0m\n",
            "\u001b[32m2023-05-09 16:25:18.036\u001b[0m | \u001b[33m\u001b[1mWARNING \u001b[0m | \u001b[36m__main__\u001b[0m:\u001b[36mtruncated_string\u001b[0m:\u001b[36m43\u001b[0m - \u001b[33m\u001b[1mWarning: Truncated string from 230 tokens to 100 tokens. \n",
            "OriginalString:Name: 154\n",
            "\n",
            "2019 LOAN OFFICER ASSISTANT, JG WENTWORTH HOME LENDING • Assisted loan officer with preparation and distribution of marketing materials • Calculated income from various streams to determine clients’ maximum monthly housing payment and pre-approval amount • Collaborated with real estate agents and title companies to ensure a smooth transaction from all parties • Prepared legally compliant disclosure documents throughout the loan process from purchase agreement to closing disclosure EDUCATION MAY 2025 FORDHAM UNIVERSITY AT LINCOLN CENTER • GPA: 3.22 • Relevant Coursework: Introduction to Communications, Approaches to Literature (in Spanish), Linear Algebra, Discrete Structures, Intermediate Arabic, Trends in Latin American Film (in Spanish) • Activities and societies: Treasurer of Muslim Students Association, Pre-Law Society, Undergraduate Women in Business, Student Organization of Latinxs, Environmental Club SKILLS • Spanish – fluent in speaking, reading, and writing • Farsi – fluent in speaking, reading, and writing • Basic proficiency in programming (Java) • Proficiency in Microsoft Office • Proficiency in Encompass (loan processing system)  \n",
            "\u001b[0m\n",
            "\u001b[32m2023-05-09 16:25:18.292\u001b[0m | \u001b[33m\u001b[1mWARNING \u001b[0m | \u001b[36m__main__\u001b[0m:\u001b[36mtruncated_string\u001b[0m:\u001b[36m43\u001b[0m - \u001b[33m\u001b[1mWarning: Truncated string from 207 tokens to 100 tokens. \n",
            "OriginalString:Name: 164\n",
            "\n",
            "Sonia Topi (203) 722-5588 | stopi@fordham.edu | www.linkedin.com/in/soniatopi  EDUCATION Fordham University, Gabelli School of Business                                                                                        Bronx, NY Bachelor of Science, Applied Accounting & Finance, Cybersecurity                                                                 Expected May 2025 GPA: 3.6/4.0 Honors: Fordham University Emerging Leaders (FUEL) Program, Dean’s List (academic year 2021-2022)   Envestnet Institute On-Campus Program                                                                                                   Bronx, NY Private Wealth Management                                                                                                                                          Spring 2022 • Broad-based training in asset and wealth management with an emphasis on managed solutions   • Learned the essential language of investment management as well as its ever-changing products and technologies    KPMG                                                                                                                                                              New York City Ace The Case                                                                                                                                                                        July 2022  • Business case analysis workshop aimed at advancing my analytical, case writing and presentation skills \n",
            "\u001b[0m\n",
            "\u001b[32m2023-05-09 16:25:18.298\u001b[0m | \u001b[33m\u001b[1mWARNING \u001b[0m | \u001b[36m__main__\u001b[0m:\u001b[36mtruncated_string\u001b[0m:\u001b[36m43\u001b[0m - \u001b[33m\u001b[1mWarning: Truncated string from 476 tokens to 100 tokens. \n",
            "OriginalString:Name: 164\n",
            "\n",
            "2021 - Present • Mentor and train new employees on procedures to run farm’s stands • Greet and serve 500-1,000 customers within a 5-hour window and building relationships with customers  • Execute cash and POS transactions quickly and accurately and responsible in reconciling day’s end sale spreadsheet Topi Restoration & Cleaning Services                                                                                                               Rome, Italy Assistant Bookkeeper (Remote)                                                                                                                      May 2014 - Present • Create billing statements and invoices for approximately 50 clients  • Record and post transactions such as income and expenses to accounts • Conduct daily banking activities and reconciliations and generate various financial reports on a monthly base Stile 1975                     Elbasan, Albania Social Media Manager and Inventory Control Clerk                  April 2016 – August 2021 • Oversaw the company’s interaction with the public by implementing content strategies • Monitor and maintain current inventory levels; maintain databases, perform count of inventory and reconcile actual stock count to computer-generated reports  LEADERSHIP AND EXTRACURRICULAR Fordham University United Student Government                           Bronx, NY International Integration Committee Member                                                                                         Spring 2022 – Fall 2023 • Create opportunities and events for the international community at Fordham University and build support and guidance for students adjusting to living in the US • Brainstorm, plan, and coordinate events to host for international students and non-international students to learn more about different cultures and communities to achieve a more diverse and accepting community at Fordham   Goldman Sachs                                                                                                                                                             Virtual 2022 Virtual Insight Series                                                                                                                                           June 2022  • Identified and strengthened professional skills DEI lens, articulated a personal narrative, explored Goldman Sachs divisions, immersed in their culture, and prepared for the recruiting process and consequently, personalized a digital curriculum  Bank of New York Mellon                                                                                                                                           Virtual Freshmen JumpStart Program                                                                                                                   June 2022 – August 2022 • Participated in professional development workshops to build business skills, improve resume writing and create a personal brand  SKILLS, CERTIFICATIONS AND INTERESTS Skills: Microsoft Excel, Social Media, QuickBooks, Adaptability, Work Ethics, Teamwork and Time Management Certifications: Bloomberg Market Concepts, TOEFL Language: Italian (Native), Albanian (Native), English (Fluent)  Interests: Volleyball, cooking and baking, traveling and exploring new cultures  \n",
            "\u001b[0m\n",
            "\u001b[32m2023-05-09 16:25:18.347\u001b[0m | \u001b[33m\u001b[1mWARNING \u001b[0m | \u001b[36m__main__\u001b[0m:\u001b[36mtruncated_string\u001b[0m:\u001b[36m43\u001b[0m - \u001b[33m\u001b[1mWarning: Truncated string from 132 tokens to 100 tokens. \n",
            "OriginalString:Name: 166\n",
            "\n",
            " EDUCATION                                 FORDHAM UNIVERSITY AT LINCOLN CENTER                                                                                                                                                     New York, New York  Bachelor of Arts in Political Science & Marketing & Russian GPA: 3.4                                                                                  Expected Graduation: May 2023  ACTIVITIES: FOUNDER AND EXECUTIVE CHAIR OF RUSSIAN STUDENTS’ ASSOCIATION (2021 – PRESENT)       HONORABLE MEMBER OF MODEL UN (2019 – 2020)   NEW UTRECHT HIGH SCHOOL GPA: 3.4 Brooklyn, New York AP Courses: Psychology, United States History, Government and Politics, Computer Science Principles \n",
            "\u001b[0m\n",
            "\u001b[32m2023-05-09 16:25:18.353\u001b[0m | \u001b[33m\u001b[1mWARNING \u001b[0m | \u001b[36m__main__\u001b[0m:\u001b[36mtruncated_string\u001b[0m:\u001b[36m43\u001b[0m - \u001b[33m\u001b[1mWarning: Truncated string from 203 tokens to 100 tokens. \n",
            "OriginalString:Name: 166\n",
            "\n",
            "                            Graduated: June 2019 Activities: Legal Studies Academy (2015 – 2019)                    NUHS Honors Society (2017 – 2019)                   NYU High School Law Institute (2017 – 2019)                   College Now: John Jay College of Criminal Justice (2018 – 2019)                   Moot Court/Mock Trial Team (2015 – 2019)                   Varsity Girls’ Volleyball Team (2017 – 2019)                   Varsity Boys’ Volleyball Team Manager (2018)                                                     WORK EXPERIENCE  FORDHAM SCHOOL OF LAW / LINCOLN SQUARE LEGAL SERVICES   New York, New York Law Clinic Assistant  January 2022 – Present • Assisting faculty and students in all clinics to prepare legal documents and maintain client files – including opening files, closing files, archiving, legal mail, use of Time Matters case management software, Outlook e-mail, Teams, and other clinic specific applications \n",
            "\u001b[0m\n",
            "\u001b[32m2023-05-09 16:25:18.366\u001b[0m | \u001b[33m\u001b[1mWARNING \u001b[0m | \u001b[36m__main__\u001b[0m:\u001b[36mtruncated_string\u001b[0m:\u001b[36m43\u001b[0m - \u001b[33m\u001b[1mWarning: Truncated string from 149 tokens to 100 tokens. \n",
            "OriginalString:Name: 166\n",
            "\n",
            "  FORDHAM UNIVERSITY FACILITIES OPERATIONS                                                                                                                                            New York, New York  Administrative Assistant  September 2019 – May 2022 • Responsible for answering calls, routing calls, informed and directed students of the resources available, monitoring contracts and communicating with contractors, team members, taking messages, filing, organizing, developing detailed spreadsheets • Assigning work orders and communicating with facilities’ employees using eWorkOrders, CMMS software UNICEF                                                                                                                                                                                                        New York, New York  Performance Management and Career Development Intern June 2021 – December 2021 • Conduct research and analysis of relevant best practices, trends, and market standards including Rewards and Recognition programme, and other activities to support any further PMCD interventions \n",
            "\u001b[0m\n",
            "\u001b[32m2023-05-09 16:25:18.369\u001b[0m | \u001b[33m\u001b[1mWARNING \u001b[0m | \u001b[36m__main__\u001b[0m:\u001b[36mtruncated_string\u001b[0m:\u001b[36m43\u001b[0m - \u001b[33m\u001b[1mWarning: Truncated string from 214 tokens to 100 tokens. \n",
            "OriginalString:Name: 166\n",
            "\n",
            "Collaborate to review and update PMCD materials housed on UNICEF SharePoint • Coordinate and liaise within team and with Communication team in DHR to collate and publish human interest stories globally in UNICEF and OneHR newsletter CHINESE AMERICAN PLANNING COUNCIL                                                                                                                                                            New York, New York  Administrative Assistant  October 2018 – March 2019 • Provided administrative support to maintain and improve the workflow level and efficiency  • Coordinated weekly meetings and generated flyers for resourceful events to increase number of attended students • Assisted with special events planning, performed general clerical duties (photocopy, fax, mails, and files, etc.) KINGS COUNTY CRIMINAL COURT                                                                                                                                                                             Brooklyn, New York  Judicial Intern   July 2018 – August 2018 • Accompanied Judge Baron to court to assist during arraignments • Performed general clerical duties, filed, and organized legal documents, checked summons to ensure that the correct charges were filed, read motions and case briefs \n",
            "\u001b[0m\n",
            "\u001b[32m2023-05-09 16:25:18.375\u001b[0m | \u001b[33m\u001b[1mWARNING \u001b[0m | \u001b[36m__main__\u001b[0m:\u001b[36mtruncated_string\u001b[0m:\u001b[36m43\u001b[0m - \u001b[33m\u001b[1mWarning: Truncated string from 126 tokens to 100 tokens. \n",
            "OriginalString:Name: 166\n",
            "\n",
            "Assisted customers to file RJI’s, NOI’s, and Certificating documents • Conducted research, provided basic reports of finding, performed general clerical duties  VOLUNTEER EXPERIENCE   • MAHALLA USA New York, New York                   Volunteer   September 2022 – Present • THE HONORABLE JUDGE ELENA BARON New York, New York                   Campaign Volunteer  May 2019 – June 2019  SKILLS    Fluent in Uzbek, Conversational Russian, Basic Korean, Microsoft Office, Photoshop, Social Media Platforms, Proficient in HTML  \n",
            "\u001b[0m\n",
            "\u001b[32m2023-05-09 16:25:18.453\u001b[0m | \u001b[33m\u001b[1mWARNING \u001b[0m | \u001b[36m__main__\u001b[0m:\u001b[36mtruncated_string\u001b[0m:\u001b[36m43\u001b[0m - \u001b[33m\u001b[1mWarning: Truncated string from 276 tokens to 100 tokens. \n",
            "OriginalString:Name: 170\n",
            "\n",
            "Crystal Wu Brooklyn, NY | (347)-273-7390 | cwu109@fordham.edu  EDUCATION Fordham University, Gabelli School of Business                                                                                              Bronx, New York Bachelor of Science, Business Administration concentrated in Business in Healthcare, Minor in Marketing                                    Expected May 2025 GPA: 3.8 / 4.0 Honors: Jogues Scholarship, Gabelli School of Business Woolworth Award, Dean’s List Relevant Coursework: The Ground Floor, Basic Microeconomics, Statistics, Principles of Management, Marketing Principles,  Consulting Cup, Information Systems, Principles of Financial Accounting, Business Communications  EXPERIENCE Maimonides Medical Center Department of Surgery                                                                                              Brooklyn, NY Admin Intern                                                                                                                                                      July 2022 – August 2022 ! Oversaw 35 surgical residents and formulated day assignment sheet and monthly attestation from an Excel block schedule  ! Evaluated 35 surgical residents’ files weekly on New Innovations for missing certifications and recertifications  ! Updated surgical residents’ and faculty’s PubMed academic activity  ! Emailed 10-15 medical students their acceptance email to elective surgeries weekly and confirmed their elective surgeries   Gabelli Consulting Cup                                                                                                                                            New York, NY Team Member                                                                                                                                                        September 2022 –present ! Member of a six-person team who is performing a study of Wendy’s Co \n",
            "\u001b[0m\n",
            "\u001b[32m2023-05-09 16:25:18.456\u001b[0m | \u001b[33m\u001b[1mWARNING \u001b[0m | \u001b[36m__main__\u001b[0m:\u001b[36mtruncated_string\u001b[0m:\u001b[36m43\u001b[0m - \u001b[33m\u001b[1mWarning: Truncated string from 109 tokens to 100 tokens. \n",
            "OriginalString:Name: 170\n",
            "\n",
            "and developing a thorough financial, operational, and strategic analysis ! Develop solutions in the form of project deliverables and presentations  Leukemia and Lymphoma Society                                                                                                                          New York, NY Team Member                                                                                                                                                  October 2020 – June 2021 ! Attended weekly meetings to oversee our progress and trajectories and developed fundraising strategies to fund allocations  ! Recruited and advised a NYC Student of the Year team toward their fundraising goal  LEADERSHIP AND EXTRACURRICULAR Marketing With a Purpose - St \n",
            "\u001b[0m\n",
            "\u001b[32m2023-05-09 16:25:18.463\u001b[0m | \u001b[33m\u001b[1mWARNING \u001b[0m | \u001b[36m__main__\u001b[0m:\u001b[36mtruncated_string\u001b[0m:\u001b[36m43\u001b[0m - \u001b[33m\u001b[1mWarning: Truncated string from 418 tokens to 100 tokens. \n",
            "OriginalString:Name: 170\n",
            "\n",
            "Barnabas Hospital Gabelli Marketing Project                                                         Bronx, NY  Project Manager                                                                                                                                                    September 2022 – present ! Visited SBH Health & Wellness Center to find strategies to promote the wellness center to the local Bronx community  ! Debrief weekly with the head supervisor on project status and delegated project tasks based on team members’ competencies  ! Researched and developed a full communications program, including B.R.A.G Boxing Tournament and Holiday Cooking       Competition, to highlight the Fitness Center’s and Teaching Kitchen’s impact on a healthy lifestyle                   Fordham Commuting Students Association                                                                                                                 Bronx, NY Sophomore Program Coordinator                                                                                                                                 September 2022-present • Update the CSA board on a weekly basis regarding the implementation of policies, events, and services to help resolve student         commuter students’ concerns  • Planned Fall event, “Apple in Our Eyes,” with a $300 budget to give commuters a chance to connect with others    Fordham ASCEND                                                                                                                                                          Bronx, NY Member                                                                                                                                                                September 2021 – present  • Attended weekly career-building workshops to advance personal goal planning and networking skills • Interviewed e-board members to learn about their academic and internship experiences    Fordham Asian Cultural Exchange                                                                                                                                Bronx, NY Member                                                                                                                                                                  September 2021-present • Engaged in social events that raised awareness about the cultural, historical, and academic pursuits of the Asian community   Champions Tae Kwon Do                                                                                                                                          Brooklyn, NY Junior Staff/Member                                                                                                                                               January 2018 – present ! Achieved 1st Dan Black Belt and won Gold in the Champions’ Tournament for Poomsae and Sparring  ! Train students in Taekwondo techniques, Poomsae, and disciplinaries   SKILLS, CERTIFICATIONS, LANGUAGES, AND INTERESTS Skills: Google Suite, PubMed, New Innovations, Instagram, TikTok Video Editing Certifications: New York Confronting Sexual Harassment Language: Fluent in Cantonese Interests: Piano, Violin, Art, Photography, Baking, Social Media Content  \n",
            "\u001b[0m\n"
          ]
        },
        {
          "output_type": "stream",
          "name": "stdout",
          "text": [
            "191 resumes split into 2008 strings.\n"
          ]
        }
      ]
    },
    {
      "cell_type": "markdown",
      "source": [
        "# calculate embeddings and store in dataframe"
      ],
      "metadata": {
        "id": "Izi2RX_O1u0v"
      }
    },
    {
      "cell_type": "code",
      "source": [
        "import pandas as pd\n",
        "EMBEDDING_MODEL = \"text-embedding-ada-002\"  # OpenAI's best embeddings as of Apr 2023\n",
        "MAX_BATCH_SIZE = 1000 # you can submit up to 2048 embedding inputs per request\n",
        "NUMBER_OF_STRINGS_TO_EMBED = len(resume_strings)\n",
        "\n",
        "if NUMBER_OF_STRINGS_TO_EMBED < MAX_BATCH_SIZE:\n",
        "  BATCH_SIZE = NUMBER_OF_STRINGS_TO_EMBED\n",
        "else: \n",
        "  BATCH_SIZE = MAX_BATCH_SIZE \n",
        "\n",
        "embeddings = []\n",
        "for batch_start in range(0, NUMBER_OF_STRINGS_TO_EMBED, BATCH_SIZE):\n",
        "    batch_end = batch_start + BATCH_SIZE\n",
        "    batch = resume_strings[batch_start:batch_end]\n",
        "    print(f\"Batch {batch_start} to {batch_end-1}\")\n",
        "    response = openai.Embedding.create(model=EMBEDDING_MODEL, input=batch)\n",
        "    for i, be in enumerate(response[\"data\"]):\n",
        "        assert i == be[\"index\"]  # double check embeddings are in same order as input\n",
        "    batch_embeddings = [e[\"embedding\"] for e in response[\"data\"]]\n",
        "    embeddings.extend(batch_embeddings)\n",
        "\n",
        "df = pd.DataFrame({\"text\": resume_strings, \"embedding\": embeddings})"
      ],
      "metadata": {
        "colab": {
          "base_uri": "https://localhost:8080/"
        },
        "id": "hciff-Ul1t1B",
        "outputId": "3638c858-1095-49a1-f6c3-856bfeb4162f"
      },
      "execution_count": 80,
      "outputs": [
        {
          "output_type": "stream",
          "name": "stdout",
          "text": [
            "Batch 0 to 999\n",
            "Batch 1000 to 1999\n",
            "Batch 2000 to 2999\n"
          ]
        }
      ]
    },
    {
      "cell_type": "code",
      "source": [
        "# Store embeddings\n",
        "df.to_csv(\"embeddings_v2.csv\", index=False)"
      ],
      "metadata": {
        "id": "4WOqGbzmViZc"
      },
      "execution_count": 82,
      "outputs": []
    },
    {
      "cell_type": "markdown",
      "source": [
        "# search documents using query and text embeddings and and retrieve relevant consultant name from resume information using GPT"
      ],
      "metadata": {
        "id": "BMXkZkHWJE_Q"
      }
    },
    {
      "cell_type": "markdown",
      "source": [
        "1. Search (once per query) - Given a user question, generate an embedding for the query from the OpenAI API\n",
        "1. Using the embeddings, rank the text sections by relevance to the query\n",
        "1. Ask (once per query)\n",
        "  1. Insert the question and the most relevant sections into a message to GPT\n",
        "  1. Return GPT's answer"
      ],
      "metadata": {
        "id": "ZF5Y0pILMG_l"
      }
    },
    {
      "cell_type": "code",
      "source": [
        "from scipy import spatial"
      ],
      "metadata": {
        "id": "Qwu5742ONHQ5"
      },
      "execution_count": 83,
      "outputs": []
    },
    {
      "cell_type": "code",
      "source": [
        "EMBEDDING_MODEL = \"text-embedding-ada-002\""
      ],
      "metadata": {
        "id": "q7z5Ji5uJOUV"
      },
      "execution_count": 101,
      "outputs": []
    },
    {
      "cell_type": "code",
      "source": [
        "# search function\n",
        "def strings_ranked_by_relatedness(\n",
        "    query: str,\n",
        "    df: pd.DataFrame,\n",
        "    relatedness_fn=lambda x, y: 1 - spatial.distance.cosine(x, y),\n",
        "    top_n: int = 3\n",
        ") -> tuple[list[str], list[float]]:\n",
        "    \"\"\"Returns a list of strings and relatednesses, sorted from most related to least.\"\"\"\n",
        "    query_embedding_response = openai.Embedding.create(\n",
        "        model=EMBEDDING_MODEL,\n",
        "        input=query,\n",
        "    )\n",
        "    query_embedding = query_embedding_response[\"data\"][0][\"embedding\"]\n",
        "    strings_and_relatednesses = [\n",
        "        (row[\"text\"], relatedness_fn(query_embedding, row[\"embedding\"]))\n",
        "        for i, row in df.iterrows()\n",
        "    ]\n",
        "    strings_and_relatednesses.sort(key=lambda x: x[1], reverse=True)\n",
        "    strings, relatednesses = zip(*strings_and_relatednesses)\n",
        "    return strings[:top_n], relatednesses[:top_n]"
      ],
      "metadata": {
        "id": "DCLYKb9iUpab"
      },
      "execution_count": 85,
      "outputs": []
    },
    {
      "cell_type": "code",
      "source": [
        "def test_strings_ranked_by_relatedness(query, df, top_n=10):\n",
        "  strings, relatednesses = strings_ranked_by_relatedness(query, df, top_n)\n",
        "  for string, relatedness in zip(strings, relatednesses):\n",
        "      print(f\"{relatedness=:.3f}\")\n",
        "      display(string)"
      ],
      "metadata": {
        "id": "TIhPySTfWR0v"
      },
      "execution_count": 87,
      "outputs": []
    },
    {
      "cell_type": "code",
      "source": [
        "query = \"strong in math\"\n",
        "strings_ranked_by_relatedness(query, df)\n"
      ],
      "metadata": {
        "colab": {
          "base_uri": "https://localhost:8080/"
        },
        "id": "VMpxgKyBJOHN",
        "outputId": "d371ea4e-c74d-464a-882b-71907bb0a183"
      },
      "execution_count": 88,
      "outputs": [
        {
          "output_type": "execute_result",
          "data": {
            "text/plain": [
              "((\"Name: 8\\n\\nlinear algebra, partial differential equations,\\nItô's lemma, real analysis, Bayesian\\nstatistics, CAPM, WACC, options, data structure (Python), stochastic processes, linear regression \\n●\\nHonors:\\nDean’s Honors (top 5% of GPA in department),\\nPresident’s Scholarship\",\n",
              "  'Name: 2\\n\\n● Coursework:  linear algebra, ordinary differential equations, real analysis, stochastic processes, \\nprobability theory, linear regression, mean-variance optimization, corporate finance \\n● Honors/Awards:  Dean’s List (3 years), Cum Laude, Beta Gamma Sigma Honor Society ',\n",
              "  'Name: 14\\n\\nCoursework:\\nlinear algebra, mathematical statistics,\\nBrownian motion, law of large numbers, \\nmachine learning, data structures, algorithms, databases \\n●\\nHonors/Awards:\\nDean’s list for 4 years, Latin Honors\\nCum Laude'),\n",
              " (0.8062711795862255, 0.7996338658385634, 0.7995175364806416))"
            ]
          },
          "metadata": {},
          "execution_count": 88
        }
      ]
    },
    {
      "cell_type": "code",
      "source": [
        "query = \"understands pytorch\"\n",
        "strings_ranked_by_relatedness(query, df)"
      ],
      "metadata": {
        "id": "gCWRzTkWJN_7",
        "colab": {
          "base_uri": "https://localhost:8080/"
        },
        "outputId": "b9d2aa42-4631-46c9-a55a-a7d5db437c8c"
      },
      "execution_count": 89,
      "outputs": [
        {
          "output_type": "execute_result",
          "data": {
            "text/plain": [
              "(('Name: 6\\n\\n08/16 - 02/17\\nINDIAN INSTITUTE OF TECHNOLOGY ROORKEE\\nRoorkee, India \\nText-Image Synthesis with Uni-Skip Vectors (Python, Deep Learning) \\n●\\nUsed natural language understanding; designed model that learned image generation from \\ntext data with 1M-word vocabulary, producing high-level generic sentence representations \\n●\\nImproved model by employing distributed text encoder conditioned with generative ',\n",
              "  'Name: 21\\n\\nProgramming Languages:\\nPython (NumPy, Pandas, Sklearn,\\nSciPy), SQL, Java, R, MATLAB\\nLanguages:\\nEnglish (fluent); Mandarin (native)',\n",
              "  'Name: 7\\n\\nC O M P U T A T I O N A L  S K I L L S  /  O T H E R\\nProgramming Languages:\\nPython (Numpy, Pandas, Scikit-learn,\\nMatplotlib), Java, SQL, R\\nLanguages:\\nEnglish (fluent), Mandarin (native)\\nPublication:\\nOption Mispricing & Arbitrage Opportunity\\n,\\nICSET 2021 Taiwan\\nActivities:\\nDiscrete Structure Teaching Assistant\\nat Northeastern University'),\n",
              " (0.7885447575940931, 0.7751890320298489, 0.7745399880406452))"
            ]
          },
          "metadata": {},
          "execution_count": 89
        }
      ]
    },
    {
      "cell_type": "code",
      "source": [
        "query = \" understands law\"\n",
        "strings_ranked_by_relatedness(query, df)"
      ],
      "metadata": {
        "id": "Cz-KCpslJN0j",
        "colab": {
          "base_uri": "https://localhost:8080/"
        },
        "outputId": "bce05421-b949-4d32-e96f-934c5f903754"
      },
      "execution_count": 90,
      "outputs": [
        {
          "output_type": "execute_result",
          "data": {
            "text/plain": [
              "(('Name: 110\\n\\nIntroduction to the American Legal System, Constitutional Law, American Constitution, Eur opean Politics  \\n \\nRELEVANT EXPERIENCE Whitestone Chambers, Legal Intern London, UK             January -April 2022  ',\n",
              "  'Name: 190\\n\\nIntroduction to the American Legal System, Constitutional Law, American Constitution, Eur opean Politics  \\n \\nRELEVANT EXPERIENCE Whitestone Chambers, Legal Intern London, UK             January -April 2022  ',\n",
              "  'Name: 110\\n\\n● Conducted in depth legal research and prepared arguments for active data breach cases  \\n● Worked directly with head barrister to prepare for various stages of commercial and civil litigation  \\n● Attended court hearings involving, commercial law, traffic violation, family law, and data breach cases  '),\n",
              " (0.8022047376928069, 0.8016164332607587, 0.7965876491636508))"
            ]
          },
          "metadata": {},
          "execution_count": 90
        }
      ]
    },
    {
      "cell_type": "code",
      "source": [
        "query = \" azure databricks\"\n",
        "strings_ranked_by_relatedness(query, df)"
      ],
      "metadata": {
        "colab": {
          "base_uri": "https://localhost:8080/"
        },
        "id": "xN6Gyb11m65U",
        "outputId": "8b314c90-6933-4bcd-a1c1-593ba187276b"
      },
      "execution_count": 91,
      "outputs": [
        {
          "output_type": "execute_result",
          "data": {
            "text/plain": [
              "(('Name: 13\\n\\nwith Azure HDInsight; prepared data visualization for industry report\\n●\\nBuilt large-scale database  from daily news and data for 3,000 clean energy automobile stocks\\nfrom 2018 to 2019, using R and SQL\\n●\\nUsed  feature extraction on news about 1,000 selected stocks in 2019; improved stock prediction\\nbased on sentiment analysis with RNN; average accuracy increased by 7%\\nP R O J E C T',\n",
              "  'Name: 122\\n\\nTools: Jupyter Notebook, Tableau, Lucid Chart, Anaconda Navigator and Android Studio. Big Data and Cloud: Heroku, AWS.  WORK EXPERIENCE Research Assistant in Quantum Computing at Fordham University                   (August 2022 – Present) Tools: Python, Qiskit',\n",
              "  'Name: 42\\n\\nTools: Jupyter Notebook, Tableau, Lucid Chart, Anaconda Navigator and Android Studio. Big Data and Cloud: Heroku, AWS.  WORK EXPERIENCE Research Assistant in Quantum Computing at Fordham University                   (August 2022 – Present) Tools: Python, Qiskit'),\n",
              " (0.7623053836758877, 0.7443740487810785, 0.7410629886184242))"
            ]
          },
          "metadata": {},
          "execution_count": 91
        }
      ]
    },
    {
      "cell_type": "code",
      "source": [
        "query = \" azure AND databricks\"\n",
        "strings_ranked_by_relatedness(query, df)\n"
      ],
      "metadata": {
        "colab": {
          "base_uri": "https://localhost:8080/"
        },
        "id": "k17cktBSnNuz",
        "outputId": "b53228c7-f4d4-4796-a196-65836f5d9c00"
      },
      "execution_count": null,
      "outputs": [
        {
          "output_type": "execute_result",
          "data": {
            "text/plain": [
              "(('NameOnResume: seanreed\\n\\n2009 \\n\\n1990 \\n\\nDatabricks, Azure ML, Python, Pandas, Spark, PyTorch, TensorFlow, Keras, Git, Computer Vision, \\nNatural Language Processing, Medical Image Segmentation, Deep Learning, Machine Learning, \\nGLMs, SQL, Linux, Bayesian Statistics, Data Pipelines, GCP, AWS, Docker, Kubernetes, Pandas, \\nNumPy, Random Forests, Gradient Boosting, SVMs, GLMs, Recommender Systems, Graph \\nDatabases, Neo4j',\n",
              "  'NameOnResume: seanreed\\n\\n● Built distributed Swin-UNETR encoder-decoder model using Azure ML, PyTorch, Docker, and \\nLightning AI that can pretrain on unlabeled 3D CT scans, eliminating substantial future labeling \\ntime and expense incurred by company radiologists. \\nImplemented computer vision model from innovative academic research paper and completely \\nrefactored model’s existing Python code to solve client’s business problem. \\n\\n● ',\n",
              "  'NameOnResume: seanreed\\n\\nPython model to production environment and usage with Ray, Python, and PySpark on Azure \\nDatabricks. \\n\\n \\nGalvanize, New York, NY \\nSenior Data Scientist \\n● Served as Customer Data Scientist, tasked to identify new markets and clients most likely to \\n\\n2018 - 2021 \\n\\nqualify and benefit from company’s educational program. '),\n",
              " (0.7617906803714984, 0.7449896278855399, 0.7420735098729273))"
            ]
          },
          "metadata": {},
          "execution_count": 23
        }
      ]
    },
    {
      "cell_type": "markdown",
      "source": [
        "## 3. Ask\n",
        "\n",
        "With the search function above, we can now automatically retrieve relevant knowledge and insert it into messages to GPT.\n",
        "\n",
        "Below, we define a function `ask` that:\n",
        "- Takes a user query\n",
        "- Searches for text relevant to the query\n",
        "- Stuffs that text into a message for GPT\n",
        "- Sends the message to GPT\n",
        "- Returns GPT's answer"
      ],
      "metadata": {
        "id": "MvV6e7bZno4o"
      }
    },
    {
      "cell_type": "code",
      "source": [
        "GPT_MODEL = 'gpt-3.5-turbo'\n",
        "def num_tokens(text: str, model: str = 'gpt-3.5-turbo') -> int:\n",
        "    \"\"\"Return the number of tokens in a string.\"\"\"\n",
        "    encoding = tiktoken.encoding_for_model(model)\n",
        "    return len(encoding.encode(text))\n",
        "\n",
        "\n",
        "#using v1 search function\n",
        "def query_message(\n",
        "    query: str,\n",
        "    df: pd.DataFrame,\n",
        "    model: str,\n",
        "    token_budget: int\n",
        ") -> str:\n",
        "    \"\"\"Return a message for GPT, with relevant source texts pulled from a dataframe.\"\"\"\n",
        "    strings, relatednesses = strings_ranked_by_relatedness(query, df)\n",
        "    logger.info(f\"Strings Found From Search\\n:{strings}\\n Relatednesses:{relatednesses}\\n\")\n",
        "    introduction = ' You are a Human Resources agent looking for skills in resumes'\n",
        "    question = f\"\\n\\nQuestion: {query}\"\n",
        "    message = introduction\n",
        "    for string in strings:\n",
        "        next_article = f'\\n\\nresume section:\\n\"\"\"\\n{string}\\n\"\"\"'\n",
        "        if (\n",
        "            num_tokens(message + next_article + question, model=model)\n",
        "            > token_budget\n",
        "        ):\n",
        "            break\n",
        "        else:\n",
        "            message += next_article\n",
        "    return message + question\n",
        "\n",
        "@logger.catch\n",
        "def ask(\n",
        "    query: str,\n",
        "    df: pd.DataFrame = df,\n",
        "    model: str = GPT_MODEL,\n",
        "    token_budget: int = 4096 - 500,\n",
        "    print_message: bool = False,\n",
        ") -> str:\n",
        "    \"\"\"Answers a query using GPT and a dataframe of relevant texts and embeddings.\"\"\"\n",
        "    message = query_message(query, df, model=model, token_budget=token_budget)\n",
        "    logger.info(f\"{message}\")\n",
        "    content = \"Construct a list of Name fields from the documents given. Remove all duplicates from the list\"\n",
        "    messages = [\n",
        "        {\"role\": \"system\", \"content\": content},\n",
        "        {\"role\": \"user\", \"content\": message},\n",
        "    ]\n",
        "    response = openai.ChatCompletion.create(\n",
        "        model=model,\n",
        "        messages=messages,\n",
        "        temperature=0\n",
        "    )\n",
        "    response_message = response[\"choices\"][0][\"message\"][\"content\"]\n",
        "    return response_message\n",
        "\n"
      ],
      "metadata": {
        "id": "HwIQfHT5ncvI"
      },
      "execution_count": 94,
      "outputs": []
    },
    {
      "cell_type": "code",
      "source": [
        "ask('who knows law')"
      ],
      "metadata": {
        "colab": {
          "base_uri": "https://localhost:8080/",
          "height": 785
        },
        "id": "H4_3qNXCpLhV",
        "outputId": "591a7be5-3303-4584-f991-7374d1000d10"
      },
      "execution_count": 95,
      "outputs": [
        {
          "output_type": "stream",
          "name": "stderr",
          "text": [
            "\u001b[32m2023-05-09 16:35:14.433\u001b[0m | \u001b[1mINFO    \u001b[0m | \u001b[36m__main__\u001b[0m:\u001b[36mquery_message\u001b[0m:\u001b[36m17\u001b[0m - \u001b[1mStrings Found From Search\n",
            ":('Name: 110\\n\\nIntroduction to the American Legal System, Constitutional Law, American Constitution, Eur opean Politics  \\n \\nRELEVANT EXPERIENCE Whitestone Chambers, Legal Intern London, UK             January -April 2022  ', 'Name: 190\\n\\nIntroduction to the American Legal System, Constitutional Law, American Constitution, Eur opean Politics  \\n \\nRELEVANT EXPERIENCE Whitestone Chambers, Legal Intern London, UK             January -April 2022  ', 'Name: 81\\n\\nCompeted as a pre-trial attorney in a mock criminal law case \\n●\\nAnalyzed legal documents pertaining to the case and argued for the permittance of evidence \\nutilizing Supreme Court cases \\nLeapStart\\nCupertino, CA \\nTeacher\\nJune 2020- June 2022 \\n●')\n",
            " Relatednesses:(0.7921320362469393, 0.7905199568274273, 0.7850107571639804)\n",
            "\u001b[0m\n",
            "\u001b[32m2023-05-09 16:35:14.437\u001b[0m | \u001b[1mINFO    \u001b[0m | \u001b[36m__main__\u001b[0m:\u001b[36mask\u001b[0m:\u001b[36m42\u001b[0m - \u001b[1m You are a Human Resources agent looking for skills in resumes\n",
            "\n",
            "resume section:\n",
            "\"\"\"\n",
            "Name: 110\n",
            "\n",
            "Introduction to the American Legal System, Constitutional Law, American Constitution, Eur opean Politics  \n",
            " \n",
            "RELEVANT EXPERIENCE Whitestone Chambers, Legal Intern London, UK             January -April 2022  \n",
            "\"\"\"\n",
            "\n",
            "resume section:\n",
            "\"\"\"\n",
            "Name: 190\n",
            "\n",
            "Introduction to the American Legal System, Constitutional Law, American Constitution, Eur opean Politics  \n",
            " \n",
            "RELEVANT EXPERIENCE Whitestone Chambers, Legal Intern London, UK             January -April 2022  \n",
            "\"\"\"\n",
            "\n",
            "resume section:\n",
            "\"\"\"\n",
            "Name: 81\n",
            "\n",
            "Competed as a pre-trial attorney in a mock criminal law case \n",
            "●\n",
            "Analyzed legal documents pertaining to the case and argued for the permittance of evidence \n",
            "utilizing Supreme Court cases \n",
            "LeapStart\n",
            "Cupertino, CA \n",
            "Teacher\n",
            "June 2020- June 2022 \n",
            "●\n",
            "\"\"\"\n",
            "\n",
            "Question: who knows law\u001b[0m\n"
          ]
        },
        {
          "output_type": "execute_result",
          "data": {
            "text/plain": [
              "'The following individuals have knowledge of law based on their resumes:\\n\\n- 110\\n- 190\\n- 81'"
            ],
            "application/vnd.google.colaboratory.intrinsic+json": {
              "type": "string"
            }
          },
          "metadata": {},
          "execution_count": 95
        }
      ]
    },
    {
      "cell_type": "code",
      "source": [
        "ask('who majored in physics')"
      ],
      "metadata": {
        "id": "0Gvwt0TZpS-R",
        "colab": {
          "base_uri": "https://localhost:8080/",
          "height": 981
        },
        "outputId": "8904af22-4ab7-453d-db7a-fe17aef7509f"
      },
      "execution_count": 97,
      "outputs": [
        {
          "output_type": "stream",
          "name": "stderr",
          "text": [
            "\u001b[32m2023-05-09 16:37:22.998\u001b[0m | \u001b[1mINFO    \u001b[0m | \u001b[36m__main__\u001b[0m:\u001b[36mquery_message\u001b[0m:\u001b[36m17\u001b[0m - \u001b[1mStrings Found From Search\n",
            ":('Name: 5\\n\\nB.S. in Physics and B.S. in Financial Math & Statistics \\n●\\nCoursework:\\nmultivariable calculus,\\nprobability and\\nstatistics,\\nlinear algebra,\\nODE&PDEs,\\ncomplex analysis, numerical methods, regression, stochastic process, machine learning \\n●\\nHonors/Awards:', \"Name: 30\\n\\nB.S. in Material Science and Engineering, Minor in Economics \\n●\\nCoursework:\\nstochastic process, probability theory,\\nlinear algebra, MLE, machine learning,\\npartial differential equation, corporate finance, game theory, Hamilton's equations,\", 'Name: 130\\n\\nBachelor of Science in General Science, Minor in Business Administration, GPA: 3.42\\nHigh School Diploma:\\nSt. Jean Baptiste High School\\nJune 2017\\nRelevant Coursework\\nGeneral Chemistry, Macroeconomics, Computer Science, Philosophical Ethics\\nAwards\\nFordham Jogues Scholarship, Fordham ASPIRES Scholarship\\nExperience')\n",
            " Relatednesses:(0.8035927163360886, 0.7955498162198213, 0.7939262468168876)\n",
            "\u001b[0m\n",
            "\u001b[32m2023-05-09 16:37:23.002\u001b[0m | \u001b[1mINFO    \u001b[0m | \u001b[36m__main__\u001b[0m:\u001b[36mask\u001b[0m:\u001b[36m42\u001b[0m - \u001b[1m You are a Human Resources agent looking for skills in resumes\n",
            "\n",
            "resume section:\n",
            "\"\"\"\n",
            "Name: 5\n",
            "\n",
            "B.S. in Physics and B.S. in Financial Math & Statistics \n",
            "●\n",
            "Coursework:\n",
            "multivariable calculus,\n",
            "probability and\n",
            "statistics,\n",
            "linear algebra,\n",
            "ODE&PDEs,\n",
            "complex analysis, numerical methods, regression, stochastic process, machine learning \n",
            "●\n",
            "Honors/Awards:\n",
            "\"\"\"\n",
            "\n",
            "resume section:\n",
            "\"\"\"\n",
            "Name: 30\n",
            "\n",
            "B.S. in Material Science and Engineering, Minor in Economics \n",
            "●\n",
            "Coursework:\n",
            "stochastic process, probability theory,\n",
            "linear algebra, MLE, machine learning,\n",
            "partial differential equation, corporate finance, game theory, Hamilton's equations,\n",
            "\"\"\"\n",
            "\n",
            "resume section:\n",
            "\"\"\"\n",
            "Name: 130\n",
            "\n",
            "Bachelor of Science in General Science, Minor in Business Administration, GPA: 3.42\n",
            "High School Diploma:\n",
            "St. Jean Baptiste High School\n",
            "June 2017\n",
            "Relevant Coursework\n",
            "General Chemistry, Macroeconomics, Computer Science, Philosophical Ethics\n",
            "Awards\n",
            "Fordham Jogues Scholarship, Fordham ASPIRES Scholarship\n",
            "Experience\n",
            "\"\"\"\n",
            "\n",
            "Question: who majored in physics\u001b[0m\n"
          ]
        },
        {
          "output_type": "execute_result",
          "data": {
            "text/plain": [
              "'The first resume section mentions a B.S. in Physics, so the person in that section majored in physics.'"
            ],
            "application/vnd.google.colaboratory.intrinsic+json": {
              "type": "string"
            }
          },
          "metadata": {},
          "execution_count": 97
        }
      ]
    },
    {
      "cell_type": "code",
      "source": [],
      "metadata": {
        "id": "PyVhRVwlX0Qk"
      },
      "execution_count": null,
      "outputs": []
    }
  ]
}
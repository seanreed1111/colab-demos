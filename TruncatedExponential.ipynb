{
  "nbformat": 4,
  "nbformat_minor": 0,
  "metadata": {
    "colab": {
      "name": "TruncatedExponential.ipynb",
      "provenance": [],
      "collapsed_sections": [],
      "authorship_tag": "ABX9TyN9Oto0yOT3NgurkyWxjibx",
      "include_colab_link": true
    },
    "kernelspec": {
      "name": "python3",
      "display_name": "Python 3"
    },
    "language_info": {
      "name": "python"
    }
  },
  "cells": [
    {
      "cell_type": "markdown",
      "metadata": {
        "id": "view-in-github",
        "colab_type": "text"
      },
      "source": [
        "<a href=\"https://colab.research.google.com/github/seanreed1111/colab-demos/blob/master/TruncatedExponential.ipynb\" target=\"_parent\"><img src=\"https://colab.research.google.com/assets/colab-badge.svg\" alt=\"Open In Colab\"/></a>"
      ]
    },
    {
      "cell_type": "code",
      "execution_count": 1,
      "metadata": {
        "colab": {
          "base_uri": "https://localhost:8080/"
        },
        "id": "_j_SbnHt50jT",
        "outputId": "0d5a3021-49e3-435b-d92d-0a1fd003c52d"
      },
      "outputs": [
        {
          "output_type": "stream",
          "name": "stdout",
          "text": [
            "Collecting pyro-ppl==1.8.0\n",
            "  Downloading pyro_ppl-1.8.0-py3-none-any.whl (713 kB)\n",
            "\u001b[?25l\r\u001b[K     |▌                               | 10 kB 24.5 MB/s eta 0:00:01\r\u001b[K     |█                               | 20 kB 24.8 MB/s eta 0:00:01\r\u001b[K     |█▍                              | 30 kB 22.0 MB/s eta 0:00:01\r\u001b[K     |█▉                              | 40 kB 17.5 MB/s eta 0:00:01\r\u001b[K     |██▎                             | 51 kB 10.4 MB/s eta 0:00:01\r\u001b[K     |██▊                             | 61 kB 12.0 MB/s eta 0:00:01\r\u001b[K     |███▏                            | 71 kB 11.7 MB/s eta 0:00:01\r\u001b[K     |███▊                            | 81 kB 11.7 MB/s eta 0:00:01\r\u001b[K     |████▏                           | 92 kB 12.9 MB/s eta 0:00:01\r\u001b[K     |████▋                           | 102 kB 13.2 MB/s eta 0:00:01\r\u001b[K     |█████                           | 112 kB 13.2 MB/s eta 0:00:01\r\u001b[K     |█████▌                          | 122 kB 13.2 MB/s eta 0:00:01\r\u001b[K     |██████                          | 133 kB 13.2 MB/s eta 0:00:01\r\u001b[K     |██████▍                         | 143 kB 13.2 MB/s eta 0:00:01\r\u001b[K     |███████                         | 153 kB 13.2 MB/s eta 0:00:01\r\u001b[K     |███████▍                        | 163 kB 13.2 MB/s eta 0:00:01\r\u001b[K     |███████▉                        | 174 kB 13.2 MB/s eta 0:00:01\r\u001b[K     |████████▎                       | 184 kB 13.2 MB/s eta 0:00:01\r\u001b[K     |████████▊                       | 194 kB 13.2 MB/s eta 0:00:01\r\u001b[K     |█████████▏                      | 204 kB 13.2 MB/s eta 0:00:01\r\u001b[K     |█████████▋                      | 215 kB 13.2 MB/s eta 0:00:01\r\u001b[K     |██████████                      | 225 kB 13.2 MB/s eta 0:00:01\r\u001b[K     |██████████▋                     | 235 kB 13.2 MB/s eta 0:00:01\r\u001b[K     |███████████                     | 245 kB 13.2 MB/s eta 0:00:01\r\u001b[K     |███████████▌                    | 256 kB 13.2 MB/s eta 0:00:01\r\u001b[K     |████████████                    | 266 kB 13.2 MB/s eta 0:00:01\r\u001b[K     |████████████▍                   | 276 kB 13.2 MB/s eta 0:00:01\r\u001b[K     |████████████▉                   | 286 kB 13.2 MB/s eta 0:00:01\r\u001b[K     |█████████████▎                  | 296 kB 13.2 MB/s eta 0:00:01\r\u001b[K     |█████████████▉                  | 307 kB 13.2 MB/s eta 0:00:01\r\u001b[K     |██████████████▎                 | 317 kB 13.2 MB/s eta 0:00:01\r\u001b[K     |██████████████▊                 | 327 kB 13.2 MB/s eta 0:00:01\r\u001b[K     |███████████████▏                | 337 kB 13.2 MB/s eta 0:00:01\r\u001b[K     |███████████████▋                | 348 kB 13.2 MB/s eta 0:00:01\r\u001b[K     |████████████████                | 358 kB 13.2 MB/s eta 0:00:01\r\u001b[K     |████████████████▌               | 368 kB 13.2 MB/s eta 0:00:01\r\u001b[K     |█████████████████               | 378 kB 13.2 MB/s eta 0:00:01\r\u001b[K     |█████████████████▌              | 389 kB 13.2 MB/s eta 0:00:01\r\u001b[K     |██████████████████              | 399 kB 13.2 MB/s eta 0:00:01\r\u001b[K     |██████████████████▍             | 409 kB 13.2 MB/s eta 0:00:01\r\u001b[K     |██████████████████▉             | 419 kB 13.2 MB/s eta 0:00:01\r\u001b[K     |███████████████████▎            | 430 kB 13.2 MB/s eta 0:00:01\r\u001b[K     |███████████████████▊            | 440 kB 13.2 MB/s eta 0:00:01\r\u001b[K     |████████████████████▏           | 450 kB 13.2 MB/s eta 0:00:01\r\u001b[K     |████████████████████▊           | 460 kB 13.2 MB/s eta 0:00:01\r\u001b[K     |█████████████████████▏          | 471 kB 13.2 MB/s eta 0:00:01\r\u001b[K     |█████████████████████▋          | 481 kB 13.2 MB/s eta 0:00:01\r\u001b[K     |██████████████████████          | 491 kB 13.2 MB/s eta 0:00:01\r\u001b[K     |██████████████████████▌         | 501 kB 13.2 MB/s eta 0:00:01\r\u001b[K     |███████████████████████         | 512 kB 13.2 MB/s eta 0:00:01\r\u001b[K     |███████████████████████▍        | 522 kB 13.2 MB/s eta 0:00:01\r\u001b[K     |████████████████████████        | 532 kB 13.2 MB/s eta 0:00:01\r\u001b[K     |████████████████████████▍       | 542 kB 13.2 MB/s eta 0:00:01\r\u001b[K     |████████████████████████▉       | 552 kB 13.2 MB/s eta 0:00:01\r\u001b[K     |█████████████████████████▎      | 563 kB 13.2 MB/s eta 0:00:01\r\u001b[K     |█████████████████████████▊      | 573 kB 13.2 MB/s eta 0:00:01\r\u001b[K     |██████████████████████████▏     | 583 kB 13.2 MB/s eta 0:00:01\r\u001b[K     |██████████████████████████▋     | 593 kB 13.2 MB/s eta 0:00:01\r\u001b[K     |███████████████████████████     | 604 kB 13.2 MB/s eta 0:00:01\r\u001b[K     |███████████████████████████▋    | 614 kB 13.2 MB/s eta 0:00:01\r\u001b[K     |████████████████████████████    | 624 kB 13.2 MB/s eta 0:00:01\r\u001b[K     |████████████████████████████▌   | 634 kB 13.2 MB/s eta 0:00:01\r\u001b[K     |█████████████████████████████   | 645 kB 13.2 MB/s eta 0:00:01\r\u001b[K     |█████████████████████████████▍  | 655 kB 13.2 MB/s eta 0:00:01\r\u001b[K     |█████████████████████████████▉  | 665 kB 13.2 MB/s eta 0:00:01\r\u001b[K     |██████████████████████████████▎ | 675 kB 13.2 MB/s eta 0:00:01\r\u001b[K     |██████████████████████████████▉ | 686 kB 13.2 MB/s eta 0:00:01\r\u001b[K     |███████████████████████████████▎| 696 kB 13.2 MB/s eta 0:00:01\r\u001b[K     |███████████████████████████████▊| 706 kB 13.2 MB/s eta 0:00:01\r\u001b[K     |████████████████████████████████| 713 kB 13.2 MB/s \n",
            "\u001b[?25hRequirement already satisfied: tqdm>=4.36 in /usr/local/lib/python3.7/dist-packages (from pyro-ppl==1.8.0) (4.64.0)\n",
            "Requirement already satisfied: numpy>=1.7 in /usr/local/lib/python3.7/dist-packages (from pyro-ppl==1.8.0) (1.21.6)\n",
            "Collecting pyro-api>=0.1.1\n",
            "  Downloading pyro_api-0.1.2-py3-none-any.whl (11 kB)\n",
            "Requirement already satisfied: opt-einsum>=2.3.2 in /usr/local/lib/python3.7/dist-packages (from pyro-ppl==1.8.0) (3.3.0)\n",
            "Requirement already satisfied: torch>=1.9.0 in /usr/local/lib/python3.7/dist-packages (from pyro-ppl==1.8.0) (1.11.0+cu113)\n",
            "Requirement already satisfied: typing-extensions in /usr/local/lib/python3.7/dist-packages (from torch>=1.9.0->pyro-ppl==1.8.0) (4.2.0)\n",
            "Installing collected packages: pyro-api, pyro-ppl\n",
            "Successfully installed pyro-api-0.1.2 pyro-ppl-1.8.0\n"
          ]
        }
      ],
      "source": [
        "!pip install pyro-ppl=='1.8.0'"
      ]
    },
    {
      "cell_type": "markdown",
      "source": [
        "modeled on: \n",
        "- https://github.com/pyro-ppl/pyro/blob/dev/pyro/distributions/multivariate_studentt.py\n",
        "- https://github.com/pyro-ppl/pyro/blob/dev/pyro/distributions/logistic.py\n",
        "- https://github.com/pyro-ppl/pyro/blob/dev/pyro/distributions/inverse_gamma.py\n",
        "- https://stats.stackexchange.com/questions/508749/generating-random-samples-obeying-the-exponential-distribution-with-a-given-min"
      ],
      "metadata": {
        "id": "dlJ-aMPn558b"
      }
    },
    {
      "cell_type": "code",
      "source": [
        "import pyro.distributions as dist\n",
        "from torch.distributions.utils import broadcast_all\n",
        "import matplotlib.pyplot as plt\n",
        "import seaborn as sns\n",
        "\n",
        "def TruncatedExponential(lb, ub, rate=1.0):\n",
        "    lb, ub, rate = broadcast_all(lb, ub, rate)\n",
        "    return dist.TransformedDistribution(\n",
        "        dist.Uniform((-rate * ub).exp(), (-rate * lb).exp()),\n",
        "        [dist.transforms.ExpTransform().inv,\n",
        "         dist.transforms.AffineTransform(loc=0, scale=-1/rate)]\n",
        "    )\n"
      ],
      "metadata": {
        "id": "jCq3wizb5HJQ"
      },
      "execution_count": 2,
      "outputs": []
    },
    {
      "cell_type": "code",
      "source": [
        "d = TruncatedExponential(3, 10, 1.0).sample([1000])\n",
        "sns.displot(data=d)"
      ],
      "metadata": {
        "colab": {
          "base_uri": "https://localhost:8080/",
          "height": 386
        },
        "id": "0D9K32bi5HFk",
        "outputId": "3f986179-8686-4507-bf4a-acb1759f4e0b"
      },
      "execution_count": 3,
      "outputs": [
        {
          "output_type": "execute_result",
          "data": {
            "text/plain": [
              "<seaborn.axisgrid.FacetGrid at 0x7f9d37fc1350>"
            ]
          },
          "metadata": {},
          "execution_count": 3
        },
        {
          "output_type": "display_data",
          "data": {
            "text/plain": [
              "<Figure size 360x360 with 1 Axes>"
            ],
            "image/png": "[encoded data removed]"
          },
          "metadata": {
            "needs_background": "light"
          }
        }
      ]
    },
    {
      "cell_type": "code",
      "source": [
        "d = TruncatedExponential(3, 10, 1.0).rsample([1000])\n",
        "sns.displot(data=d);"
      ],
      "metadata": {
        "colab": {
          "base_uri": "https://localhost:8080/",
          "height": 369
        },
        "outputId": "5a323c65-a8ea-4b8d-ec55-2b692db93b82",
        "id": "CcjFfNUJ6ELJ"
      },
      "execution_count": 5,
      "outputs": [
        {
          "output_type": "display_data",
          "data": {
            "text/plain": [
              "<Figure size 360x360 with 1 Axes>"
            ],
            "image/png": "[encoded data removed]"
          },
          "metadata": {
            "needs_background": "light"
          }
        }
      ]
    },
    {
      "cell_type": "code",
      "source": [
        ""
      ],
      "metadata": {
        "id": "EQY5WIH06bQI"
      },
      "execution_count": 7,
      "outputs": []
    },
    {
      "cell_type": "code",
      "source": [
        ""
      ],
      "metadata": {
        "id": "HYyAUErS6dOx"
      },
      "execution_count": null,
      "outputs": []
    }
  ]
}
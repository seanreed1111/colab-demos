{
  "nbformat": 4,
  "nbformat_minor": 0,
  "metadata": {
    "colab": {
      "provenance": [],
      "authorship_tag": "ABX9TyPOmKDL6X8hY8tCEpPViUXI",
      "include_colab_link": true
    },
    "kernelspec": {
      "name": "python3",
      "display_name": "Python 3"
    },
    "language_info": {
      "name": "python"
    }
  },
  "cells": [
    {
      "cell_type": "markdown",
      "metadata": {
        "id": "view-in-github",
        "colab_type": "text"
      },
      "source": [
        "<a href=\"https://colab.research.google.com/github/seanreed1111/colab-demos/blob/master/test_jmespath_deephash_deepdiff.ipynb\" target=\"_parent\"><img src=\"https://colab.research.google.com/assets/colab-badge.svg\" alt=\"Open In Colab\"/></a>"
      ]
    },
    {
      "cell_type": "code",
      "execution_count": 2,
      "metadata": {
        "id": "8CXJHv7UljuY"
      },
      "outputs": [],
      "source": [
        "%pip install -qq jmespath deepdiff python-jsonschema-objects"
      ]
    },
    {
      "cell_type": "code",
      "source": [
        "import jmespath\n",
        "from deepdiff import DeepDiff\n",
        "from deepdiff import DeepHash\n",
        "import python_jsonschema_objects as pjs"
      ],
      "metadata": {
        "id": "DFKJXN8DmYKM"
      },
      "execution_count": 3,
      "outputs": []
    },
    {
      "cell_type": "code",
      "source": [
        "deepdiff_options = dict(ignore_order=True, report_repetition=True)\n",
        "# deephash_options = dict(ignore_iterable_order=True, ignore_repetition=True)"
      ],
      "metadata": {
        "id": "Cswt_dG6o3vb"
      },
      "execution_count": null,
      "outputs": []
    },
    {
      "cell_type": "code",
      "source": [
        "valid_category_json ={\n",
        "   \"categories\":[\n",
        "      {\n",
        "         \"items\":[\n",
        "            {\n",
        "               \"item_aliases\":[\n",
        "\n",
        "               ],\n",
        "               \"item_name\":\"Sourdough Jack\",\n",
        "               \"modifications\":[\n",
        "                  \"No pickles\",\n",
        "                  \"No ketchup\"\n",
        "               ],\n",
        "               \"quantity\":1,\n",
        "               \"special_requests\":[\n",
        "\n",
        "               ]\n",
        "            },\n",
        "            {\n",
        "               \"item_aliases\":[\n",
        "\n",
        "               ],\n",
        "               \"item_name\":\"Sourdough Jack\",\n",
        "               \"modifications\":[\n",
        "\n",
        "               ],\n",
        "               \"quantity\":2,\n",
        "               \"special_requests\":[\n",
        "\n",
        "               ]\n",
        "            }\n",
        "         ],\n",
        "         \"name\":\"Burger\"\n",
        "      }\n",
        "   ],\n",
        "   \"combos\":[\n",
        "\n",
        "   ]\n",
        "}"
      ],
      "metadata": {
        "colab": {
          "base_uri": "https://localhost:8080/"
        },
        "id": "AcVyIi7xluAh",
        "outputId": "274f070b-970c-4dc2-f2db-1c2ba9f43b01"
      },
      "execution_count": null,
      "outputs": [
        {
          "output_type": "execute_result",
          "data": {
            "text/plain": [
              "{'categories': [{'items': [{'item_aliases': [],\n",
              "     'item_name': 'Sourdough Jack',\n",
              "     'modifications': ['No pickles', 'No ketchup'],\n",
              "     'quantity': 1,\n",
              "     'special_requests': []},\n",
              "    {'item_aliases': [],\n",
              "     'item_name': 'Sourdough Jack',\n",
              "     'modifications': [],\n",
              "     'quantity': 2,\n",
              "     'special_requests': []}],\n",
              "   'name': 'Burger'}],\n",
              " 'combos': []}"
            ]
          },
          "metadata": {},
          "execution_count": 2
        }
      ]
    },
    {
      "cell_type": "markdown",
      "source": [
        "# let's work on items first"
      ],
      "metadata": {
        "id": "dXWRVpkvTfNI"
      }
    },
    {
      "cell_type": "markdown",
      "source": [
        "## before json formatter"
      ],
      "metadata": {
        "id": "HqAXKVZfTAe8"
      }
    },
    {
      "cell_type": "code",
      "source": [
        "items = {\n",
        "    \"title\": \"Item Schema\",\n",
        "    \"type\": \"object\",\n",
        "      \"properties\":{\n",
        "        \"item_aliases\":{\n",
        "            \"type\":\"array\",\n",
        "            \"items\":{\"type\":\"string\"},\n",
        "            \"maxItems\":1\n",
        "        },\n",
        "        \"item_name\":{\n",
        "            \"type\":\"string\"\n",
        "        },\n",
        "        \"modifications\":{\n",
        "            \"type\":\"array\",\n",
        "            \"items\":{\"type\":\"string\"}\n",
        "        },\n",
        "        \"quantity\":{\n",
        "            \"type\":\"integer\",\n",
        "            \"minimum\" : 1\n",
        "        },\n",
        "        \"special_requests\":{\n",
        "            \"type\":\"array\",\n",
        "            \"items\":{\"type\":\"string\"}\n",
        "        }\n",
        "      },\n",
        "    \"required\": [\"item_name\",\"quantity\",\"\"]\n",
        "}"
      ],
      "metadata": {
        "id": "dTU3anBSOrWc"
      },
      "execution_count": 4,
      "outputs": []
    },
    {
      "cell_type": "markdown",
      "source": [
        "### after json formatter"
      ],
      "metadata": {
        "id": "2UDpgTHcS9EY"
      }
    },
    {
      "cell_type": "code",
      "source": [
        "items = {\n",
        "   \"title\":\"Item Schema\",\n",
        "   \"type\":\"object\",\n",
        "   \"properties\":{\n",
        "      \"item_aliases\":{\n",
        "         \"type\":\"array\",\n",
        "         \"items\":{\n",
        "            \"type\":\"string\"\n",
        "         },\n",
        "         \"maxItems\":1\n",
        "      },\n",
        "      \"item_name\":{\n",
        "         \"type\":\"string\"\n",
        "      },\n",
        "      \"modifications\":{\n",
        "         \"type\":\"array\",\n",
        "         \"items\":{\n",
        "            \"type\":\"string\"\n",
        "         }\n",
        "      },\n",
        "      \"quantity\":{\n",
        "         \"type\":\"integer\",\n",
        "         \"minimum\":1\n",
        "      },\n",
        "      \"special_requests\":{\n",
        "         \"type\":\"array\",\n",
        "         \"items\":{\n",
        "            \"type\":\"string\"\n",
        "         }\n",
        "      }\n",
        "   },\n",
        "   \"required\":[\n",
        "      \"item_name\",\n",
        "      \"quantity\",\n",
        "      \"\"\n",
        "   ]\n",
        "}"
      ],
      "metadata": {
        "id": "BfSFr_7dS47w"
      },
      "execution_count": null,
      "outputs": []
    },
    {
      "cell_type": "code",
      "source": [
        "DeepHash(a)"
      ],
      "metadata": {
        "colab": {
          "base_uri": "https://localhost:8080/"
        },
        "id": "D13yrB9moQYo",
        "outputId": "18566c5d-9b7f-4af3-eb56-4d7a4fb0811c"
      },
      "execution_count": null,
      "outputs": [
        {
          "output_type": "execute_result",
          "data": {
            "text/plain": [
              "{'categories': '3b0d1d4a7ac46c6b1be649bf9256b3d539abd87dbf3d17bc355b7163a15e4364', 'items': 'd4e2071bc7b6d012f0201cf51c8aa310dc9db296c1f83249c3e8ff7eb4d9e115', 'item_aliases': '4b07fb451f5123031605096b7721290f0a02101a56d5242d8ff57204294a46d8', '!>*id140713540788224': 'e78b481f6a5083ac6d266e434fd0da3dc14bf48ac1376d0476b6e310c721e6d9', 'item_name': '47918fa1360c61a55aa73eba968ca0fcc5391c848ee4b919b5875495f5656a02', 'Sourdough Jack': 'dedbf4fb6e726b488544c1cc2c1544508b0216d3a70b3c51f2ee8ce31107f...}"
            ]
          },
          "metadata": {},
          "execution_count": 11
        }
      ]
    },
    {
      "cell_type": "code",
      "source": [
        "two_double_jacks_no_pickles_no_onions = {'categories': [{'items': [{'item_aliases': [], 'item_name': 'Double Jack', 'modifications': [\"no pickles\", \"no onions\"], 'quantity': 2, 'special_requests': []}], 'name': 'Burger'}], 'combos': []}; two_double_jacks_no_pickles_no_onions"
      ],
      "metadata": {
        "colab": {
          "base_uri": "https://localhost:8080/"
        },
        "id": "2NRWgxFno560",
        "outputId": "5bd64435-b4d9-4395-e2bc-c041b5937c4b"
      },
      "execution_count": null,
      "outputs": [
        {
          "output_type": "execute_result",
          "data": {
            "text/plain": [
              "{'categories': [{'items': [{'item_aliases': [],\n",
              "     'item_name': 'Double Jack',\n",
              "     'modifications': ['no pickles', 'no onions'],\n",
              "     'quantity': 2,\n",
              "     'special_requests': []}],\n",
              "   'name': 'Burger'}],\n",
              " 'combos': []}"
            ]
          },
          "metadata": {},
          "execution_count": 13
        }
      ]
    },
    {
      "cell_type": "code",
      "source": [
        "two_double_jacks_no_onions_no_pickles = {'categories': [{'items': [{'item_aliases': [], 'item_name': 'Double Jack', 'modifications': [\"no onions\", \"no pickles\"], 'quantity': 2, 'special_requests': []}], 'name': 'Burger'}], 'combos': []}; two_double_jacks_no_onions_no_pickles"
      ],
      "metadata": {
        "colab": {
          "base_uri": "https://localhost:8080/"
        },
        "id": "TkrZBDPdpEH_",
        "outputId": "c3bc55c9-6058-4e25-881e-c795a5aa3b49"
      },
      "execution_count": null,
      "outputs": [
        {
          "output_type": "execute_result",
          "data": {
            "text/plain": [
              "{'categories': [{'items': [{'item_aliases': [],\n",
              "     'item_name': 'Double Jack',\n",
              "     'modifications': ['no onions', 'no pickles'],\n",
              "     'quantity': 2,\n",
              "     'special_requests': []}],\n",
              "   'name': 'Burger'}],\n",
              " 'combos': []}"
            ]
          },
          "metadata": {},
          "execution_count": 14
        }
      ]
    },
    {
      "cell_type": "code",
      "source": [
        "DeepHash(two_double_jacks_no_pickles_no_onions) == DeepHash(two_double_jacks_no_onions_no_pickles) #FAIL"
      ],
      "metadata": {
        "colab": {
          "base_uri": "https://localhost:8080/"
        },
        "id": "qGFkUCjFo5iH",
        "outputId": "69a56b84-31a0-4638-99cb-9204cfafe8b4"
      },
      "execution_count": null,
      "outputs": [
        {
          "output_type": "execute_result",
          "data": {
            "text/plain": [
              "False"
            ]
          },
          "metadata": {},
          "execution_count": 22
        }
      ]
    },
    {
      "cell_type": "code",
      "source": [
        "DeepHash(two_double_jacks_no_pickles_no_onions)[two_double_jacks_no_pickles_no_onions] == DeepHash(two_double_jacks_no_onions_no_pickles)[two_double_jacks_no_onions_no_pickles] #SUCCEED"
      ],
      "metadata": {
        "colab": {
          "base_uri": "https://localhost:8080/"
        },
        "id": "enc5y4NGsrZB",
        "outputId": "a3c73260-a67f-491c-f4a5-e5bf0c55e7cf"
      },
      "execution_count": null,
      "outputs": [
        {
          "output_type": "execute_result",
          "data": {
            "text/plain": [
              "True"
            ]
          },
          "metadata": {},
          "execution_count": 28
        }
      ]
    },
    {
      "cell_type": "code",
      "source": [
        "DeepDiff(two_double_jacks_no_onions_no_pickles, two_double_jacks_no_pickles_no_onions, **deepdiff_options) #SUCCESS"
      ],
      "metadata": {
        "colab": {
          "base_uri": "https://localhost:8080/"
        },
        "id": "9mId8waepOE3",
        "outputId": "fc81d610-c04d-4363-eb12-3b1629ba4ed3"
      },
      "execution_count": null,
      "outputs": [
        {
          "output_type": "execute_result",
          "data": {
            "text/plain": [
              "{}"
            ]
          },
          "metadata": {},
          "execution_count": 24
        }
      ]
    },
    {
      "cell_type": "code",
      "source": [
        "# reminder\n",
        "\n",
        "actual = dict(a=1, b=2, c=3, d=4)\n",
        "expected = dict(a=1, b=3, c=3)\n",
        "DeepDiff(actual, expected, **deepdiff_options)\n"
      ],
      "metadata": {
        "colab": {
          "base_uri": "https://localhost:8080/"
        },
        "id": "QB7tQgOJtLd9",
        "outputId": "05ce821f-90ee-41d6-930b-ebe428498177"
      },
      "execution_count": null,
      "outputs": [
        {
          "output_type": "execute_result",
          "data": {
            "text/plain": [
              "{'dictionary_item_removed': [root['d']],\n",
              " 'values_changed': {\"root['b']\": {'new_value': 3, 'old_value': 2}}}"
            ]
          },
          "metadata": {},
          "execution_count": 32
        }
      ]
    },
    {
      "cell_type": "code",
      "source": [
        "DeepDiff(expected, actual, **deepdiff_options) # this is the correct order!!!"
      ],
      "metadata": {
        "colab": {
          "base_uri": "https://localhost:8080/"
        },
        "id": "lnAxsScbtLPa",
        "outputId": "c45b798d-814e-46b3-9c51-81b38e95b6f6"
      },
      "execution_count": null,
      "outputs": [
        {
          "output_type": "execute_result",
          "data": {
            "text/plain": [
              "{'dictionary_item_added': [root['d']],\n",
              " 'values_changed': {\"root['b']\": {'new_value': 2, 'old_value': 3}}}"
            ]
          },
          "metadata": {},
          "execution_count": 33
        }
      ]
    },
    {
      "cell_type": "code",
      "source": [
        "jmespath.search('categories[*].name',a)"
      ],
      "metadata": {
        "colab": {
          "base_uri": "https://localhost:8080/"
        },
        "id": "S4ew16kxlzs9",
        "outputId": "1d78c39e-36dd-4643-c958-29ab746741aa"
      },
      "execution_count": null,
      "outputs": [
        {
          "output_type": "execute_result",
          "data": {
            "text/plain": [
              "['Burger']"
            ]
          },
          "metadata": {},
          "execution_count": 5
        }
      ]
    },
    {
      "cell_type": "code",
      "source": [
        "jmespath.search('categories[*].items',a)"
      ],
      "metadata": {
        "colab": {
          "base_uri": "https://localhost:8080/"
        },
        "id": "SN1ITyEumlUr",
        "outputId": "8fe18cb0-ee26-4b04-9a52-c204b818bb9f"
      },
      "execution_count": null,
      "outputs": [
        {
          "output_type": "execute_result",
          "data": {
            "text/plain": [
              "[[{'item_aliases': [],\n",
              "   'item_name': 'Sourdough Jack',\n",
              "   'modifications': ['No pickles', 'No ketchup'],\n",
              "   'quantity': 1,\n",
              "   'special_requests': []},\n",
              "  {'item_aliases': [],\n",
              "   'item_name': 'Sourdough Jack',\n",
              "   'modifications': [],\n",
              "   'quantity': 2,\n",
              "   'special_requests': []}]]"
            ]
          },
          "metadata": {},
          "execution_count": 6
        }
      ]
    },
    {
      "cell_type": "code",
      "source": [
        "uccombo = {\"categories\":[],\"combos\":[{\"combo_aliases\":[\"#6\"],\"items\":[{\"item_aliases\":[],\"item_name\":\"Ultimate Cheeseburger\",\"modifications\":[\"No ketchup\"],\"quantity\":1,\"special_requests\":[]},{\"item_aliases\":[],\"item_name\":\"French Fries Small\",\"modifications\":[],\"quantity\":1,\"special_requests\":[]},{\"item_aliases\":[],\"item_name\":\"Small Coca-Cola\",\"modifications\":[],\"quantity\":1,\"special_requests\":[]}],\"name\":\"Ultimate Cheeseburger Combo\"}]};uccombo"
      ],
      "metadata": {
        "colab": {
          "base_uri": "https://localhost:8080/"
        },
        "id": "ZJBlhaDfmv5g",
        "outputId": "a9ddbc36-6914-486c-d17e-d7d8b4f12d0f"
      },
      "execution_count": null,
      "outputs": [
        {
          "output_type": "execute_result",
          "data": {
            "text/plain": [
              "{'categories': [],\n",
              " 'combos': [{'combo_aliases': ['#6'],\n",
              "   'items': [{'item_aliases': [],\n",
              "     'item_name': 'Ultimate Cheeseburger',\n",
              "     'modifications': ['No ketchup'],\n",
              "     'quantity': 1,\n",
              "     'special_requests': []},\n",
              "    {'item_aliases': [],\n",
              "     'item_name': 'French Fries Small',\n",
              "     'modifications': [],\n",
              "     'quantity': 1,\n",
              "     'special_requests': []},\n",
              "    {'item_aliases': [],\n",
              "     'item_name': 'Small Coca-Cola',\n",
              "     'modifications': [],\n",
              "     'quantity': 1,\n",
              "     'special_requests': []}],\n",
              "   'name': 'Ultimate Cheeseburger Combo'}]}"
            ]
          },
          "metadata": {},
          "execution_count": 7
        }
      ]
    },
    {
      "cell_type": "code",
      "source": [],
      "metadata": {
        "id": "DMn7AlgNnR7-"
      },
      "execution_count": null,
      "outputs": []
    }
  ]
}
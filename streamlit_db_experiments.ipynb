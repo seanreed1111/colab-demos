{
  "cells": [
    {
      "cell_type": "markdown",
      "metadata": {
        "id": "view-in-github",
        "colab_type": "text"
      },
      "source": [
        "<a href=\"https://colab.research.google.com/github/seanreed1111/colab-demos/blob/master/streamlit_db_experiments.ipynb\" target=\"_parent\"><img src=\"https://colab.research.google.com/assets/colab-badge.svg\" alt=\"Open In Colab\"/></a>"
      ]
    },
    {
      "cell_type": "markdown",
      "metadata": {
        "id": "hA2qPZe9Uk9C"
      },
      "source": [
        "<a href=\"https://colab.research.google.com/github/colinmcnamara/austin_langchain/blob/main/labs/LangChain_101/101-1-streamlit_streaming.ipynb\" target=\"_parent\"><img src=\"https://colab.research.google.com/assets/colab-badge.svg\" alt=\"Open In Colab\"/></a>"
      ]
    },
    {
      "cell_type": "code",
      "source": [
        "# upload Chinook.DB, allconfig.json, dbconfig.json, DDL_for_LLM_upload.sql"
      ],
      "metadata": {
        "id": "NWMAuo7V1Rmm"
      },
      "execution_count": null,
      "outputs": []
    },
    {
      "cell_type": "code",
      "execution_count": 6,
      "metadata": {
        "id": "TLMrWVStFdAx",
        "colab": {
          "base_uri": "https://localhost:8080/"
        },
        "outputId": "68025826-e07e-45e9-e988-d19f161cb35d"
      },
      "outputs": [
        {
          "output_type": "stream",
          "name": "stdout",
          "text": [
            "\u001b[?25l     \u001b[90m━━━━━━━━━━━━━━━━━━━━━━━━━━━━━━━━━━━━━━━━\u001b[0m \u001b[32m0.0/334.7 kB\u001b[0m \u001b[31m?\u001b[0m eta \u001b[36m-:--:--\u001b[0m\r\u001b[2K     \u001b[91m━━━━━━━━━━━━━━━━━\u001b[0m\u001b[90m╺\u001b[0m\u001b[90m━━━━━━━━━━━━━━━━━━━━━━\u001b[0m \u001b[32m143.4/334.7 kB\u001b[0m \u001b[31m4.2 MB/s\u001b[0m eta \u001b[36m0:00:01\u001b[0m\r\u001b[2K     \u001b[90m━━━━━━━━━━━━━━━━━━━━━━━━━━━━━━━━━━━━━━━━\u001b[0m \u001b[32m334.7/334.7 kB\u001b[0m \u001b[31m5.1 MB/s\u001b[0m eta \u001b[36m0:00:00\u001b[0m\n",
            "\u001b[?25h"
          ]
        }
      ],
      "source": [
        "%pip install -q langchain langchain_community langchain_openai streamlit loguru sqlalchemy pyodbc"
      ]
    },
    {
      "cell_type": "code",
      "source": [
        "# !bash install_drivers.sh > /dev/null"
      ],
      "metadata": {
        "id": "gCUr3N5wvD_4"
      },
      "execution_count": 7,
      "outputs": []
    },
    {
      "cell_type": "code",
      "execution_count": 8,
      "metadata": {
        "id": "lAm3euIZFLSB",
        "colab": {
          "base_uri": "https://localhost:8080/"
        },
        "outputId": "42c91508-199e-4870-ee11-cfae39ff10fe"
      },
      "outputs": [
        {
          "output_type": "stream",
          "name": "stdout",
          "text": [
            "Overwriting streaming_app.py\n"
          ]
        }
      ],
      "source": [
        "%%writefile streaming_app.py\n",
        "# reference docs https://python.langchain.com/docs/integrations/toolkits/sql_database#use-sqldatabasetoolkit-within-an-agenthttps://python.langchain.com/docs/expression_language/cookbook/sql_db\n",
        "# https://python.langchain.com/docs/expression_language/cookbook/sql_db\n",
        "\n",
        "import streamlit as st\n",
        "from pathlib import Path\n",
        "import os, json\n",
        "from langchain_community.chat_models.azure_openai import AzureChatOpenAI #deprecated class, fix later\n",
        "from langchain.agents import create_sql_agent\n",
        "from langchain.sql_database import SQLDatabase\n",
        "#from langchain_community.utilities.sql_database import SQLDatabase is updated import statement\n",
        "from langchain.agents.agent_types import AgentType\n",
        "from langchain.callbacks import StreamlitCallbackHandler\n",
        "from langchain.agents.agent_toolkits import SQLDatabaseToolkit\n",
        "from sqlalchemy import create_engine\n",
        "import sqlite3\n",
        "import sqlalchemy\n",
        "# from sqlalchemy import create_engine\n",
        "import urllib\n",
        "\n",
        "LANGCHAIN_PROJECT = \"Experiment #4 Chat With SQL DB - GPT35\"\n",
        "st.set_page_config(page_title=LANGCHAIN_PROJECT, page_icon=\"\")\n",
        "st.title(LANGCHAIN_PROJECT)\n",
        "\n",
        "# RUN install_drivers.sh in bash\n",
        "\n",
        "def run_azure_config():\n",
        "    config_dir = Path.cwd()\n",
        "    openai_config_file_path = config_dir / \"allconfig.json\"\n",
        "    config_files = [openai_config_file_path]\n",
        "    config = {}\n",
        "    for file in config_files:\n",
        "        with open(file) as json_config:\n",
        "            config.update(json.load(json_config))\n",
        "    for k in config:\n",
        "        os.environ[k] = config[k]\n",
        "\n",
        "    os.environ[\"LANGCHAIN_PROJECT\"] = LANGCHAIN_PROJECT\n",
        "\n",
        "def get_wab_connection_string(db_config_file=\"dbconfig.json\"):\n",
        "    driver= '{ODBC Driver 18 for SQL Server}'\n",
        "    db_config_path = Path.cwd() / db_config_file\n",
        "\n",
        "    with open(db_config_path) as json_file:\n",
        "        dbconfig = json.load(json_file)\n",
        "\n",
        "    server = dbconfig['server']\n",
        "    database = dbconfig['database']\n",
        "    uid = dbconfig['username']\n",
        "    pwd = dbconfig['password']\n",
        "    port = int(dbconfig.get(\"port\",1433))\n",
        "    pyodbc_connection_string = f\"DRIVER={driver};SERVER={server};PORT={port};DATABASE={database};UID={uid};PWD={pwd};Encrypt=yes;Connection Timeout=30;READONLY=True;\"\n",
        "    params = urllib.parse.quote_plus(pyodbc_connection_string)\n",
        "    sqlalchemy_connection_string = f\"mssql+pyodbc:///?odbc_connect={params}\"\n",
        "    return sqlalchemy_connection_string\n",
        "\n",
        "\n",
        "run_azure_config()\n",
        "# RUN install_drivers.sh in bash\n",
        "\n",
        "LOCALDB = \"CHINOOKDB\"\n",
        "\n",
        "# User inputs\n",
        "radio_opt = [\"Use sample Chinook database\", \"Connect to WAB Database\"]\n",
        "selected_opt = st.sidebar.radio(label=\"Choose suitable option\", options=radio_opt)\n",
        "if radio_opt.index(selected_opt) == 1:\n",
        "    db_uri = st.sidebar.text_input(\n",
        "        label=\"Database URI\", placeholder=\"azsqldb-genai-dataanalytics-sb\"\n",
        "    )\n",
        "else:\n",
        "    db_uri = \"CHINOOKDB\"\n",
        "\n",
        "# Setup agent\n",
        "llm = AzureChatOpenAI(\n",
        "            temperature=0,\n",
        "            streaming=True,\n",
        "            max_tokens=1000,\n",
        "            azure_deployment=os.environ[\"AZURE_OPENAI_API_DEPLOYMENT_NAME_GPT35\"],\n",
        "            azure_endpoint=os.environ[\"AZURE_OPENAI_API_ENDPOINT\"],\n",
        "            model_name=os.environ[\"MODEL_NAME_GPT35\"],\n",
        "            openai_api_version=os.environ[\"AZURE_OPENAI_API_VERSION\"],\n",
        "            request_timeout=45,\n",
        "            verbose=True,\n",
        "            # callbacks=[stream_handler] PUSH THE HANDLING OF CALLBACKS TO THE AGENT\n",
        "        )\n",
        "\n",
        "\n",
        "@st.cache_resource(ttl=\"2h\")\n",
        "def configure_db(db_uri):\n",
        "    if db_uri == \"CHINOOKDB\":\n",
        "        # Make the DB connection read-only to reduce risk of injection attacks\n",
        "        # See: https://python.langchain.com/docs/security\n",
        "        db_filepath = Path.cwd() / \"Chinook.db\"\n",
        "        creator = lambda: sqlite3.connect(f\"file:{db_filepath}?mode=ro\", uri=True)\n",
        "        return SQLDatabase(create_engine(\"sqlite:///\", creator=creator))\n",
        "    else:\n",
        "        return SQLDatabase.from_uri(database_uri=get_wab_connection_string())\n",
        "\n",
        "\n",
        "db = configure_db(db_uri)\n",
        "\n",
        "toolkit = SQLDatabaseToolkit(db=db, llm=llm)\n",
        "\n",
        "agent = create_sql_agent(\n",
        "    llm=llm,\n",
        "    toolkit=toolkit,\n",
        "    verbose=True,\n",
        "    agent_type=AgentType.ZERO_SHOT_REACT_DESCRIPTION,\n",
        ")\n",
        "\n",
        "if \"messages\" not in st.session_state or st.sidebar.button(\"Clear message history\"):\n",
        "    st.session_state[\"messages\"] = [{\"role\": \"assistant\", \"content\": \"How can I help you?\"}]\n",
        "\n",
        "for msg in st.session_state.messages:\n",
        "    st.chat_message(msg[\"role\"]).write(msg[\"content\"])\n",
        "\n",
        "user_query = st.chat_input(placeholder=\"Ask me anything!\")\n",
        "\n",
        "if user_query:\n",
        "    st.session_state.messages.append({\"role\": \"user\", \"content\": user_query})\n",
        "    st.chat_message(\"user\").write(user_query)\n",
        "\n",
        "    with st.chat_message(\"assistant\"):\n",
        "        st_cb = StreamlitCallbackHandler(st.container())\n",
        "        response = agent.run(user_query, callbacks=[st_cb])\n",
        "        st.session_state.messages.append({\"role\": \"assistant\", \"content\": response})\n",
        "        st.write(response)\n"
      ]
    },
    {
      "cell_type": "markdown",
      "metadata": {
        "id": "ifux-mmzcTQK"
      },
      "source": [
        "## Find the IP of your instance"
      ]
    },
    {
      "cell_type": "code",
      "execution_count": 10,
      "metadata": {
        "id": "nQz0WaTTcTQK",
        "colab": {
          "base_uri": "https://localhost:8080/"
        },
        "outputId": "c92c459f-43fb-4a7b-8c57-ce43519e1a84"
      },
      "outputs": [
        {
          "output_type": "stream",
          "name": "stdout",
          "text": [
            "34.90.210.182\n"
          ]
        }
      ],
      "source": [
        "!streamlit run streaming_app.py &>/content/logs.txt &\n",
        "!curl ipv4.icanhazip.com\n"
      ]
    },
    {
      "cell_type": "code",
      "source": [
        "!echo \"Copy the IP above into the webpage that opens below\"\n",
        "!echo \"you also need to allow the port access to the database\"\n",
        "!npx localtunnel --port 8501"
      ],
      "metadata": {
        "id": "HTHeT-689TLE",
        "colab": {
          "base_uri": "https://localhost:8080/"
        },
        "outputId": "655ceade-935f-47e1-9004-928e4688eaed"
      },
      "execution_count": null,
      "outputs": [
        {
          "output_type": "stream",
          "name": "stdout",
          "text": [
            "Copy the IP above into the webpage that opens below\n",
            "you also need to allow the port access to the database\n",
            "\u001b[K\u001b[?25hnpx: installed 22 in 2.593s\n",
            "your url is: https://tender-moments-burn.loca.lt\n"
          ]
        }
      ]
    },
    {
      "cell_type": "code",
      "source": [],
      "metadata": {
        "id": "l-ufEzEa1bGR"
      },
      "execution_count": null,
      "outputs": []
    }
  ],
  "metadata": {
    "colab": {
      "provenance": [],
      "include_colab_link": true
    },
    "kernelspec": {
      "display_name": "Python 3",
      "name": "python3"
    },
    "language_info": {
      "codemirror_mode": {
        "name": "ipython",
        "version": 3
      },
      "file_extension": ".py",
      "mimetype": "text/x-python",
      "name": "python",
      "nbconvert_exporter": "python",
      "pygments_lexer": "ipython3",
      "version": "3.9.6"
    }
  },
  "nbformat": 4,
  "nbformat_minor": 0
}
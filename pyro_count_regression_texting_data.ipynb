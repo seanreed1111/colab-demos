{
  "cells": [
    {
      "cell_type": "markdown",
      "source": [
        "source: https://github.com/CamDavidsonPilon/Probabilistic-Programming-and-Bayesian-Methods-for-Hackers/blob/master/Chapter1_Introduction/Ch1_Introduction_Pyro.ipynb\n"
      ],
      "metadata": {
        "id": "agI4ToZPmQc_"
      }
    },
    {
      "cell_type": "code",
      "execution_count": null,
      "metadata": {
        "id": "nVP7xmlom-Kr",
        "colab": {
          "base_uri": "https://localhost:8080/"
        },
        "outputId": "eae1ee6e-028f-4332-9fdf-ce6c02d62c54"
      },
      "outputs": [
        {
          "output_type": "stream",
          "name": "stdout",
          "text": [
            "Collecting pyro-ppl\n",
            "  Downloading pyro_ppl-1.8.1-py3-none-any.whl (718 kB)\n",
            "\u001b[?25l\r\u001b[K     |▌                               | 10 kB 24.4 MB/s eta 0:00:01\r\u001b[K     |█                               | 20 kB 30.4 MB/s eta 0:00:01\r\u001b[K     |█▍                              | 30 kB 35.2 MB/s eta 0:00:01\r\u001b[K     |█▉                              | 40 kB 30.6 MB/s eta 0:00:01\r\u001b[K     |██▎                             | 51 kB 20.7 MB/s eta 0:00:01\r\u001b[K     |██▊                             | 61 kB 23.2 MB/s eta 0:00:01\r\u001b[K     |███▏                            | 71 kB 23.2 MB/s eta 0:00:01\r\u001b[K     |███▋                            | 81 kB 24.1 MB/s eta 0:00:01\r\u001b[K     |████                            | 92 kB 26.0 MB/s eta 0:00:01\r\u001b[K     |████▋                           | 102 kB 25.3 MB/s eta 0:00:01\r\u001b[K     |█████                           | 112 kB 25.3 MB/s eta 0:00:01\r\u001b[K     |█████▌                          | 122 kB 25.3 MB/s eta 0:00:01\r\u001b[K     |██████                          | 133 kB 25.3 MB/s eta 0:00:01\r\u001b[K     |██████▍                         | 143 kB 25.3 MB/s eta 0:00:01\r\u001b[K     |██████▉                         | 153 kB 25.3 MB/s eta 0:00:01\r\u001b[K     |███████▎                        | 163 kB 25.3 MB/s eta 0:00:01\r\u001b[K     |███████▊                        | 174 kB 25.3 MB/s eta 0:00:01\r\u001b[K     |████████▏                       | 184 kB 25.3 MB/s eta 0:00:01\r\u001b[K     |████████▊                       | 194 kB 25.3 MB/s eta 0:00:01\r\u001b[K     |█████████▏                      | 204 kB 25.3 MB/s eta 0:00:01\r\u001b[K     |█████████▋                      | 215 kB 25.3 MB/s eta 0:00:01\r\u001b[K     |██████████                      | 225 kB 25.3 MB/s eta 0:00:01\r\u001b[K     |██████████▌                     | 235 kB 25.3 MB/s eta 0:00:01\r\u001b[K     |███████████                     | 245 kB 25.3 MB/s eta 0:00:01\r\u001b[K     |███████████▍                    | 256 kB 25.3 MB/s eta 0:00:01\r\u001b[K     |███████████▉                    | 266 kB 25.3 MB/s eta 0:00:01\r\u001b[K     |████████████▎                   | 276 kB 25.3 MB/s eta 0:00:01\r\u001b[K     |████████████▊                   | 286 kB 25.3 MB/s eta 0:00:01\r\u001b[K     |█████████████▎                  | 296 kB 25.3 MB/s eta 0:00:01\r\u001b[K     |█████████████▊                  | 307 kB 25.3 MB/s eta 0:00:01\r\u001b[K     |██████████████▏                 | 317 kB 25.3 MB/s eta 0:00:01\r\u001b[K     |██████████████▋                 | 327 kB 25.3 MB/s eta 0:00:01\r\u001b[K     |███████████████                 | 337 kB 25.3 MB/s eta 0:00:01\r\u001b[K     |███████████████▌                | 348 kB 25.3 MB/s eta 0:00:01\r\u001b[K     |████████████████                | 358 kB 25.3 MB/s eta 0:00:01\r\u001b[K     |████████████████▍               | 368 kB 25.3 MB/s eta 0:00:01\r\u001b[K     |████████████████▉               | 378 kB 25.3 MB/s eta 0:00:01\r\u001b[K     |█████████████████▍              | 389 kB 25.3 MB/s eta 0:00:01\r\u001b[K     |█████████████████▉              | 399 kB 25.3 MB/s eta 0:00:01\r\u001b[K     |██████████████████▎             | 409 kB 25.3 MB/s eta 0:00:01\r\u001b[K     |██████████████████▊             | 419 kB 25.3 MB/s eta 0:00:01\r\u001b[K     |███████████████████▏            | 430 kB 25.3 MB/s eta 0:00:01\r\u001b[K     |███████████████████▋            | 440 kB 25.3 MB/s eta 0:00:01\r\u001b[K     |████████████████████            | 450 kB 25.3 MB/s eta 0:00:01\r\u001b[K     |████████████████████▌           | 460 kB 25.3 MB/s eta 0:00:01\r\u001b[K     |█████████████████████           | 471 kB 25.3 MB/s eta 0:00:01\r\u001b[K     |█████████████████████▍          | 481 kB 25.3 MB/s eta 0:00:01\r\u001b[K     |██████████████████████          | 491 kB 25.3 MB/s eta 0:00:01\r\u001b[K     |██████████████████████▍         | 501 kB 25.3 MB/s eta 0:00:01\r\u001b[K     |██████████████████████▉         | 512 kB 25.3 MB/s eta 0:00:01\r\u001b[K     |███████████████████████▎        | 522 kB 25.3 MB/s eta 0:00:01\r\u001b[K     |███████████████████████▊        | 532 kB 25.3 MB/s eta 0:00:01\r\u001b[K     |████████████████████████▏       | 542 kB 25.3 MB/s eta 0:00:01\r\u001b[K     |████████████████████████▋       | 552 kB 25.3 MB/s eta 0:00:01\r\u001b[K     |█████████████████████████       | 563 kB 25.3 MB/s eta 0:00:01\r\u001b[K     |█████████████████████████▌      | 573 kB 25.3 MB/s eta 0:00:01\r\u001b[K     |██████████████████████████      | 583 kB 25.3 MB/s eta 0:00:01\r\u001b[K     |██████████████████████████▌     | 593 kB 25.3 MB/s eta 0:00:01\r\u001b[K     |███████████████████████████     | 604 kB 25.3 MB/s eta 0:00:01\r\u001b[K     |███████████████████████████▍    | 614 kB 25.3 MB/s eta 0:00:01\r\u001b[K     |███████████████████████████▉    | 624 kB 25.3 MB/s eta 0:00:01\r\u001b[K     |████████████████████████████▎   | 634 kB 25.3 MB/s eta 0:00:01\r\u001b[K     |████████████████████████████▊   | 645 kB 25.3 MB/s eta 0:00:01\r\u001b[K     |█████████████████████████████▏  | 655 kB 25.3 MB/s eta 0:00:01\r\u001b[K     |█████████████████████████████▋  | 665 kB 25.3 MB/s eta 0:00:01\r\u001b[K     |██████████████████████████████  | 675 kB 25.3 MB/s eta 0:00:01\r\u001b[K     |██████████████████████████████▋ | 686 kB 25.3 MB/s eta 0:00:01\r\u001b[K     |███████████████████████████████ | 696 kB 25.3 MB/s eta 0:00:01\r\u001b[K     |███████████████████████████████▌| 706 kB 25.3 MB/s eta 0:00:01\r\u001b[K     |████████████████████████████████| 716 kB 25.3 MB/s eta 0:00:01\r\u001b[K     |████████████████████████████████| 718 kB 25.3 MB/s \n",
            "\u001b[?25hRequirement already satisfied: numpy>=1.7 in /usr/local/lib/python3.7/dist-packages (from pyro-ppl) (1.21.5)\n",
            "Requirement already satisfied: opt-einsum>=2.3.2 in /usr/local/lib/python3.7/dist-packages (from pyro-ppl) (3.3.0)\n",
            "Collecting torch>=1.11.0\n",
            "  Downloading torch-1.11.0-cp37-cp37m-manylinux1_x86_64.whl (750.6 MB)\n",
            "\u001b[K     |████████████████████████████████| 750.6 MB 11 kB/s \n",
            "\u001b[?25hRequirement already satisfied: tqdm>=4.36 in /usr/local/lib/python3.7/dist-packages (from pyro-ppl) (4.63.0)\n",
            "Collecting pyro-api>=0.1.1\n",
            "  Downloading pyro_api-0.1.2-py3-none-any.whl (11 kB)\n",
            "Requirement already satisfied: typing-extensions in /usr/local/lib/python3.7/dist-packages (from torch>=1.11.0->pyro-ppl) (3.10.0.2)\n",
            "Installing collected packages: torch, pyro-api, pyro-ppl\n",
            "  Attempting uninstall: torch\n",
            "    Found existing installation: torch 1.10.0+cu111\n",
            "    Uninstalling torch-1.10.0+cu111:\n",
            "      Successfully uninstalled torch-1.10.0+cu111\n",
            "\u001b[31mERROR: pip's dependency resolver does not currently take into account all the packages that are installed. This behaviour is the source of the following dependency conflicts.\n",
            "torchvision 0.11.1+cu111 requires torch==1.10.0, but you have torch 1.11.0 which is incompatible.\n",
            "torchtext 0.11.0 requires torch==1.10.0, but you have torch 1.11.0 which is incompatible.\n",
            "torchaudio 0.10.0+cu111 requires torch==1.10.0, but you have torch 1.11.0 which is incompatible.\u001b[0m\n",
            "Successfully installed pyro-api-0.1.2 pyro-ppl-1.8.1 torch-1.11.0\n"
          ]
        }
      ],
      "source": [
        "pip install pyro-ppl"
      ]
    },
    {
      "cell_type": "code",
      "source": [
        "import os\n",
        "import numpy as np\n",
        "import pandas as pd\n",
        "import seaborn as sns\n",
        "import matplotlib.pyplot as plt\n",
        "import statsmodels.api as sm\n",
        "\n",
        "import torch\n",
        "from torch.distributions import constraints\n",
        "from torch import tensor\n",
        "\n",
        "import pyro\n",
        "import pyro.distributions as dist\n",
        "from pyro.infer import SVI,Trace_ELBO\n",
        "from pyro.infer import MCMC, NUTS, HMC\n",
        "from pyro.infer.autoguide  import AutoMultivariateNormal, AutoNormal, init_to_mean\n",
        "from pyro.optim import ClippedAdam\n",
        "\n",
        "assert pyro.__version__.startswith('1.8')\n",
        "pyro.set_rng_seed(1)\n",
        "torch.manual_seed(1)\n",
        "\n",
        "# Set matplotlib settings\n",
        "%matplotlib inline\n",
        "plt.style.use('default')\n",
        "plt.rcParams['figure.figsize'] = [15, 5]"
      ],
      "metadata": {
        "id": "MVthELNLlX1u"
      },
      "execution_count": null,
      "outputs": []
    },
    {
      "cell_type": "markdown",
      "source": [
        ""
      ],
      "metadata": {
        "id": "1AFcQHEGpQdC"
      }
    },
    {
      "cell_type": "code",
      "source": [
        ""
      ],
      "metadata": {
        "id": "XbpEZql8o43P"
      },
      "execution_count": null,
      "outputs": []
    },
    {
      "cell_type": "code",
      "source": [
        "df = pd.read_csv(\"https://raw.githubusercontent.com/CamDavidsonPilon/Probabilistic-Programming-and-Bayesian-Methods-for-Hackers/master/Chapter1_Introduction/data/txtdata.csv\", header=None)\n",
        "df.columns = ['messages_received']\n",
        "df.loc[:,'day'] = df.index +1\n",
        "df.head()"
      ],
      "metadata": {
        "id": "Mimm-QWkG4zL",
        "colab": {
          "base_uri": "https://localhost:8080/",
          "height": 206
        },
        "outputId": "c8238540-9a9b-40bb-f24f-02334a0843f3"
      },
      "execution_count": null,
      "outputs": [
        {
          "output_type": "execute_result",
          "data": {
            "text/plain": [
              "   messages_received  day\n",
              "0               13.0    1\n",
              "1               24.0    2\n",
              "2                8.0    3\n",
              "3               24.0    4\n",
              "4                7.0    5"
            ],
            "text/html": [
              "\n",
              "  <div id=\"df-c68330f2-4df5-419d-87b8-9ad5947c33e1\">\n",
              "    <div class=\"colab-df-container\">\n",
              "      <div>\n",
              "<style scoped>\n",
              "    .dataframe tbody tr th:only-of-type {\n",
              "        vertical-align: middle;\n",
              "    }\n",
              "\n",
              "    .dataframe tbody tr th {\n",
              "        vertical-align: top;\n",
              "    }\n",
              "\n",
              "    .dataframe thead th {\n",
              "        text-align: right;\n",
              "    }\n",
              "</style>\n",
              "<table border=\"1\" class=\"dataframe\">\n",
              "  <thead>\n",
              "    <tr style=\"text-align: right;\">\n",
              "      <th></th>\n",
              "      <th>messages_received</th>\n",
              "      <th>day</th>\n",
              "    </tr>\n",
              "  </thead>\n",
              "  <tbody>\n",
              "    <tr>\n",
              "      <th>0</th>\n",
              "      <td>13.0</td>\n",
              "      <td>1</td>\n",
              "    </tr>\n",
              "    <tr>\n",
              "      <th>1</th>\n",
              "      <td>24.0</td>\n",
              "      <td>2</td>\n",
              "    </tr>\n",
              "    <tr>\n",
              "      <th>2</th>\n",
              "      <td>8.0</td>\n",
              "      <td>3</td>\n",
              "    </tr>\n",
              "    <tr>\n",
              "      <th>3</th>\n",
              "      <td>24.0</td>\n",
              "      <td>4</td>\n",
              "    </tr>\n",
              "    <tr>\n",
              "      <th>4</th>\n",
              "      <td>7.0</td>\n",
              "      <td>5</td>\n",
              "    </tr>\n",
              "  </tbody>\n",
              "</table>\n",
              "</div>\n",
              "      <button class=\"colab-df-convert\" onclick=\"convertToInteractive('df-c68330f2-4df5-419d-87b8-9ad5947c33e1')\"\n",
              "              title=\"Convert this dataframe to an interactive table.\"\n",
              "              style=\"display:none;\">\n",
              "        \n",
              "  <svg xmlns=\"http://www.w3.org/2000/svg\" height=\"24px\"viewBox=\"0 0 24 24\"\n",
              "       width=\"24px\">\n",
              "    <path d=\"M0 0h24v24H0V0z\" fill=\"none\"/>\n",
              "    <path d=\"M18.56 5.44l.94 2.06.94-2.06 2.06-.94-2.06-.94-.94-2.06-.94 2.06-2.06.94zm-11 1L8.5 8.5l.94-2.06 2.06-.94-2.06-.94L8.5 2.5l-.94 2.06-2.06.94zm10 10l.94 2.06.94-2.06 2.06-.94-2.06-.94-.94-2.06-.94 2.06-2.06.94z\"/><path d=\"M17.41 7.96l-1.37-1.37c-.4-.4-.92-.59-1.43-.59-.52 0-1.04.2-1.43.59L10.3 9.45l-7.72 7.72c-.78.78-.78 2.05 0 2.83L4 21.41c.39.39.9.59 1.41.59.51 0 1.02-.2 1.41-.59l7.78-7.78 2.81-2.81c.8-.78.8-2.07 0-2.86zM5.41 20L4 18.59l7.72-7.72 1.47 1.35L5.41 20z\"/>\n",
              "  </svg>\n",
              "      </button>\n",
              "      \n",
              "  <style>\n",
              "    .colab-df-container {\n",
              "      display:flex;\n",
              "      flex-wrap:wrap;\n",
              "      gap: 12px;\n",
              "    }\n",
              "\n",
              "    .colab-df-convert {\n",
              "      background-color: #E8F0FE;\n",
              "      border: none;\n",
              "      border-radius: 50%;\n",
              "      cursor: pointer;\n",
              "      display: none;\n",
              "      fill: #1967D2;\n",
              "      height: 32px;\n",
              "      padding: 0 0 0 0;\n",
              "      width: 32px;\n",
              "    }\n",
              "\n",
              "    .colab-df-convert:hover {\n",
              "      background-color: #E2EBFA;\n",
              "      box-shadow: 0px 1px 2px rgba(60, 64, 67, 0.3), 0px 1px 3px 1px rgba(60, 64, 67, 0.15);\n",
              "      fill: #174EA6;\n",
              "    }\n",
              "\n",
              "    [theme=dark] .colab-df-convert {\n",
              "      background-color: #3B4455;\n",
              "      fill: #D2E3FC;\n",
              "    }\n",
              "\n",
              "    [theme=dark] .colab-df-convert:hover {\n",
              "      background-color: #434B5C;\n",
              "      box-shadow: 0px 1px 3px 1px rgba(0, 0, 0, 0.15);\n",
              "      filter: drop-shadow(0px 1px 2px rgba(0, 0, 0, 0.3));\n",
              "      fill: #FFFFFF;\n",
              "    }\n",
              "  </style>\n",
              "\n",
              "      <script>\n",
              "        const buttonEl =\n",
              "          document.querySelector('#df-c68330f2-4df5-419d-87b8-9ad5947c33e1 button.colab-df-convert');\n",
              "        buttonEl.style.display =\n",
              "          google.colab.kernel.accessAllowed ? 'block' : 'none';\n",
              "\n",
              "        async function convertToInteractive(key) {\n",
              "          const element = document.querySelector('#df-c68330f2-4df5-419d-87b8-9ad5947c33e1');\n",
              "          const dataTable =\n",
              "            await google.colab.kernel.invokeFunction('convertToInteractive',\n",
              "                                                     [key], {});\n",
              "          if (!dataTable) return;\n",
              "\n",
              "          const docLinkHtml = 'Like what you see? Visit the ' +\n",
              "            '<a target=\"_blank\" href=https://colab.research.google.com/notebooks/data_table.ipynb>data table notebook</a>'\n",
              "            + ' to learn more about interactive tables.';\n",
              "          element.innerHTML = '';\n",
              "          dataTable['output_type'] = 'display_data';\n",
              "          await google.colab.output.renderOutput(dataTable, element);\n",
              "          const docLink = document.createElement('div');\n",
              "          docLink.innerHTML = docLinkHtml;\n",
              "          element.appendChild(docLink);\n",
              "        }\n",
              "      </script>\n",
              "    </div>\n",
              "  </div>\n",
              "  "
            ]
          },
          "metadata": {},
          "execution_count": 4
        }
      ]
    },
    {
      "cell_type": "code",
      "source": [
        "df.describe().T"
      ],
      "metadata": {
        "id": "hep8Jn2hdEpa",
        "colab": {
          "base_uri": "https://localhost:8080/",
          "height": 112
        },
        "outputId": "b869b54f-bee3-42a4-b21d-73879cee6fff"
      },
      "execution_count": null,
      "outputs": [
        {
          "output_type": "execute_result",
          "data": {
            "text/plain": [
              "                   count       mean        std  min    25%   50%    75%   max\n",
              "messages_received   74.0  19.743243  14.141226  0.0  11.00  17.0  23.00  72.0\n",
              "day                 74.0  37.500000  21.505813  1.0  19.25  37.5  55.75  74.0"
            ],
            "text/html": [
              "\n",
              "  <div id=\"df-9aaa7783-46a9-4a1f-8afe-032b1506b0de\">\n",
              "    <div class=\"colab-df-container\">\n",
              "      <div>\n",
              "<style scoped>\n",
              "    .dataframe tbody tr th:only-of-type {\n",
              "        vertical-align: middle;\n",
              "    }\n",
              "\n",
              "    .dataframe tbody tr th {\n",
              "        vertical-align: top;\n",
              "    }\n",
              "\n",
              "    .dataframe thead th {\n",
              "        text-align: right;\n",
              "    }\n",
              "</style>\n",
              "<table border=\"1\" class=\"dataframe\">\n",
              "  <thead>\n",
              "    <tr style=\"text-align: right;\">\n",
              "      <th></th>\n",
              "      <th>count</th>\n",
              "      <th>mean</th>\n",
              "      <th>std</th>\n",
              "      <th>min</th>\n",
              "      <th>25%</th>\n",
              "      <th>50%</th>\n",
              "      <th>75%</th>\n",
              "      <th>max</th>\n",
              "    </tr>\n",
              "  </thead>\n",
              "  <tbody>\n",
              "    <tr>\n",
              "      <th>messages_received</th>\n",
              "      <td>74.0</td>\n",
              "      <td>19.743243</td>\n",
              "      <td>14.141226</td>\n",
              "      <td>0.0</td>\n",
              "      <td>11.00</td>\n",
              "      <td>17.0</td>\n",
              "      <td>23.00</td>\n",
              "      <td>72.0</td>\n",
              "    </tr>\n",
              "    <tr>\n",
              "      <th>day</th>\n",
              "      <td>74.0</td>\n",
              "      <td>37.500000</td>\n",
              "      <td>21.505813</td>\n",
              "      <td>1.0</td>\n",
              "      <td>19.25</td>\n",
              "      <td>37.5</td>\n",
              "      <td>55.75</td>\n",
              "      <td>74.0</td>\n",
              "    </tr>\n",
              "  </tbody>\n",
              "</table>\n",
              "</div>\n",
              "      <button class=\"colab-df-convert\" onclick=\"convertToInteractive('df-9aaa7783-46a9-4a1f-8afe-032b1506b0de')\"\n",
              "              title=\"Convert this dataframe to an interactive table.\"\n",
              "              style=\"display:none;\">\n",
              "        \n",
              "  <svg xmlns=\"http://www.w3.org/2000/svg\" height=\"24px\"viewBox=\"0 0 24 24\"\n",
              "       width=\"24px\">\n",
              "    <path d=\"M0 0h24v24H0V0z\" fill=\"none\"/>\n",
              "    <path d=\"M18.56 5.44l.94 2.06.94-2.06 2.06-.94-2.06-.94-.94-2.06-.94 2.06-2.06.94zm-11 1L8.5 8.5l.94-2.06 2.06-.94-2.06-.94L8.5 2.5l-.94 2.06-2.06.94zm10 10l.94 2.06.94-2.06 2.06-.94-2.06-.94-.94-2.06-.94 2.06-2.06.94z\"/><path d=\"M17.41 7.96l-1.37-1.37c-.4-.4-.92-.59-1.43-.59-.52 0-1.04.2-1.43.59L10.3 9.45l-7.72 7.72c-.78.78-.78 2.05 0 2.83L4 21.41c.39.39.9.59 1.41.59.51 0 1.02-.2 1.41-.59l7.78-7.78 2.81-2.81c.8-.78.8-2.07 0-2.86zM5.41 20L4 18.59l7.72-7.72 1.47 1.35L5.41 20z\"/>\n",
              "  </svg>\n",
              "      </button>\n",
              "      \n",
              "  <style>\n",
              "    .colab-df-container {\n",
              "      display:flex;\n",
              "      flex-wrap:wrap;\n",
              "      gap: 12px;\n",
              "    }\n",
              "\n",
              "    .colab-df-convert {\n",
              "      background-color: #E8F0FE;\n",
              "      border: none;\n",
              "      border-radius: 50%;\n",
              "      cursor: pointer;\n",
              "      display: none;\n",
              "      fill: #1967D2;\n",
              "      height: 32px;\n",
              "      padding: 0 0 0 0;\n",
              "      width: 32px;\n",
              "    }\n",
              "\n",
              "    .colab-df-convert:hover {\n",
              "      background-color: #E2EBFA;\n",
              "      box-shadow: 0px 1px 2px rgba(60, 64, 67, 0.3), 0px 1px 3px 1px rgba(60, 64, 67, 0.15);\n",
              "      fill: #174EA6;\n",
              "    }\n",
              "\n",
              "    [theme=dark] .colab-df-convert {\n",
              "      background-color: #3B4455;\n",
              "      fill: #D2E3FC;\n",
              "    }\n",
              "\n",
              "    [theme=dark] .colab-df-convert:hover {\n",
              "      background-color: #434B5C;\n",
              "      box-shadow: 0px 1px 3px 1px rgba(0, 0, 0, 0.15);\n",
              "      filter: drop-shadow(0px 1px 2px rgba(0, 0, 0, 0.3));\n",
              "      fill: #FFFFFF;\n",
              "    }\n",
              "  </style>\n",
              "\n",
              "      <script>\n",
              "        const buttonEl =\n",
              "          document.querySelector('#df-9aaa7783-46a9-4a1f-8afe-032b1506b0de button.colab-df-convert');\n",
              "        buttonEl.style.display =\n",
              "          google.colab.kernel.accessAllowed ? 'block' : 'none';\n",
              "\n",
              "        async function convertToInteractive(key) {\n",
              "          const element = document.querySelector('#df-9aaa7783-46a9-4a1f-8afe-032b1506b0de');\n",
              "          const dataTable =\n",
              "            await google.colab.kernel.invokeFunction('convertToInteractive',\n",
              "                                                     [key], {});\n",
              "          if (!dataTable) return;\n",
              "\n",
              "          const docLinkHtml = 'Like what you see? Visit the ' +\n",
              "            '<a target=\"_blank\" href=https://colab.research.google.com/notebooks/data_table.ipynb>data table notebook</a>'\n",
              "            + ' to learn more about interactive tables.';\n",
              "          element.innerHTML = '';\n",
              "          dataTable['output_type'] = 'display_data';\n",
              "          await google.colab.output.renderOutput(dataTable, element);\n",
              "          const docLink = document.createElement('div');\n",
              "          docLink.innerHTML = docLinkHtml;\n",
              "          element.appendChild(docLink);\n",
              "        }\n",
              "      </script>\n",
              "    </div>\n",
              "  </div>\n",
              "  "
            ]
          },
          "metadata": {},
          "execution_count": 5
        }
      ]
    },
    {
      "cell_type": "code",
      "source": [
        "sns.displot(x = df['messages_received']);"
      ],
      "metadata": {
        "colab": {
          "base_uri": "https://localhost:8080/",
          "height": 506
        },
        "id": "HPgRzxnJnmai",
        "outputId": "91a8f577-b90a-4e41-f142-a83791a31b1b"
      },
      "execution_count": null,
      "outputs": [
        {
          "output_type": "display_data",
          "data": {
            "text/plain": [
              "<Figure size 500x500 with 1 Axes>"
            ],
            "image/png": "[encoded data removed]"
          },
          "metadata": {}
        }
      ]
    },
    {
      "cell_type": "markdown",
      "source": [
        "You are given a series of daily text-message counts from a user of your system. The data, plotted over time, appears in the chart below. How would you model this data"
      ],
      "metadata": {
        "id": "5HLowq6RsZ75"
      }
    },
    {
      "cell_type": "code",
      "source": [
        "sns.barplot(y='messages_received', x='day', data=df, palette='colorblind')\n",
        "plt.xticks(fontsize=8);"
      ],
      "metadata": {
        "colab": {
          "base_uri": "https://localhost:8080/",
          "height": 446
        },
        "id": "hTn8Ope0oupO",
        "outputId": "ea475a72-473a-4450-dcd2-630e395d3b0a"
      },
      "execution_count": null,
      "outputs": [
        {
          "output_type": "display_data",
          "data": {
            "text/plain": [
              "<Figure size 1500x500 with 1 Axes>"
            ],
            "image/png": "[encoded data removed]"
          },
          "metadata": {}
        }
      ]
    },
    {
      "cell_type": "code",
      "source": [
        "X = df.copy()"
      ],
      "metadata": {
        "id": "KzNsRFNu3oDk"
      },
      "execution_count": null,
      "outputs": []
    },
    {
      "cell_type": "code",
      "source": [
        "X['messages_received'].mean(), X['messages_received'].std()"
      ],
      "metadata": {
        "id": "CrnKvqrQJoO9",
        "colab": {
          "base_uri": "https://localhost:8080/"
        },
        "outputId": "d7daa9c9-5a8b-4253-dfde-04e95594ba44"
      },
      "execution_count": null,
      "outputs": [
        {
          "output_type": "execute_result",
          "data": {
            "text/plain": [
              "(19.743243243243242, 14.14122585879093)"
            ]
          },
          "metadata": {},
          "execution_count": 9
        }
      ]
    },
    {
      "cell_type": "code",
      "source": [
        "# Let's look at an actual poisson distribution fit to the mean of the data\n",
        "samples = dist.Poisson(X['messages_received'].mean()).sample(tensor([74])) # create sample distribution where Poisson mean = data mean\n",
        "sample_df = pd.DataFrame({'sample_texts_received':samples.numpy(), 'day':X['day'].copy()})"
      ],
      "metadata": {
        "id": "BfcZyuzbci8r"
      },
      "execution_count": null,
      "outputs": []
    },
    {
      "cell_type": "code",
      "source": [
        "sns.displot(x = sample_df['sample_texts_received']);"
      ],
      "metadata": {
        "colab": {
          "base_uri": "https://localhost:8080/",
          "height": 506
        },
        "id": "cOX166O-dnYN",
        "outputId": "f990d8b2-1dd4-4635-f8e3-31a3167e12d2"
      },
      "execution_count": null,
      "outputs": [
        {
          "output_type": "display_data",
          "data": {
            "text/plain": [
              "<Figure size 500x500 with 1 Axes>"
            ],
            "image/png": "[encoded data removed]"
          },
          "metadata": {}
        }
      ]
    },
    {
      "cell_type": "markdown",
      "source": [
        "### So, comparing the actual data with the above two poisson sampling distributions above, it appears our data is overdispersed. Our data is heavily skewed to the right, ie., it has many more texts received far away from the mean, and much greater variability spikes much bigger than a poisson distribution would suggest."
      ],
      "metadata": {
        "id": "5gZzNA2DSaaW"
      }
    },
    {
      "cell_type": "markdown",
      "source": [
        "### Despite the fact that we know the poisson is not the 'correct' distribution to handle the outliers here, let's continue with the analysis now, and we can try other distributions in future work"
      ],
      "metadata": {
        "id": "zywWoOx7xFk2"
      }
    },
    {
      "cell_type": "code",
      "source": [
        "data = tensor(X['messages_received'].values, dtype=torch.float)"
      ],
      "metadata": {
        "id": "WexhpjMOopGp"
      },
      "execution_count": null,
      "outputs": []
    },
    {
      "cell_type": "code",
      "source": [
        "data.size(0)"
      ],
      "metadata": {
        "id": "zPrUKt-RA5sQ",
        "outputId": "75c840ca-d195-4c94-8410-c3dc722399f6",
        "colab": {
          "base_uri": "https://localhost:8080/"
        }
      },
      "execution_count": null,
      "outputs": [
        {
          "output_type": "execute_result",
          "data": {
            "text/plain": [
              "74"
            ]
          },
          "metadata": {},
          "execution_count": 27
        }
      ]
    },
    {
      "cell_type": "code",
      "source": [
        "# this is a trick to marginalize over all 74 days of the discrete variable\n",
        "def model(data):\n",
        "    alpha = 1.0 / data.mean()\n",
        "    lambda_1 = pyro.sample(\"lambda_1\", dist.Exponential(alpha))\n",
        "    lambda_2 = pyro.sample(\"lambda_2\", dist.Exponential(alpha))\n",
        "    \n",
        "    tau = pyro.sample(\"tau\", dist.Uniform(0, 1))\n",
        "    lambda1_size = (tau * data.size(0) + 1).long()\n",
        "    lambda2_size = data.size(0) - lambda1_size\n",
        "    lambda_ = torch.cat([lambda_1.expand((lambda1_size,)),\n",
        "                         lambda_2.expand((lambda2_size,))])\n",
        "\n",
        "    with pyro.plate(\"data\", data.size(0)):\n",
        "        pyro.sample(\"obs\", dist.Poisson(lambda_), obs=data)"
      ],
      "metadata": {
        "id": "3XY-snfZCKM8"
      },
      "execution_count": null,
      "outputs": []
    },
    {
      "cell_type": "code",
      "source": [
        "from pyro.infer.autoguide import AutoMultivariateNormal\n",
        "\n",
        "guide = AutoMultivariateNormal(model, init_loc_fn=init_to_mean)"
      ],
      "metadata": {
        "id": "CHi8kA5IjnJP"
      },
      "execution_count": null,
      "outputs": []
    },
    {
      "cell_type": "code",
      "source": [
        "def train(model, guide, lr=0.01, n_steps=4000):\n",
        "    pyro.set_rng_seed(1)\n",
        "    pyro.clear_param_store()\n",
        "    \n",
        "    gamma = 0.01  # final learning rate will be gamma * initial_lr\n",
        "    lrd = gamma ** (1 / n_steps)\n",
        "    adam = pyro.optim.ClippedAdam({'lr': lr, 'lrd': lrd})\n",
        "\n",
        "    svi = SVI(model, guide, adam, loss=Trace_ELBO())\n",
        "\n",
        "    for i in range(n_steps):\n",
        "        elbo = svi.step(data)\n",
        "        if i % 500 == 0:\n",
        "          print(f\"Elbo loss: {elbo}\")\n",
        "    print(f\"Final Elbo loss: {elbo}\")"
      ],
      "metadata": {
        "id": "WD5qX-XqjnFe"
      },
      "execution_count": null,
      "outputs": []
    },
    {
      "cell_type": "code",
      "source": [
        "%%time\n",
        "train(model, guide)"
      ],
      "metadata": {
        "colab": {
          "base_uri": "https://localhost:8080/"
        },
        "id": "ksAgS-PSjm99",
        "outputId": "8b049bb2-30d7-459a-caab-7eb9c275bc4d"
      },
      "execution_count": null,
      "outputs": [
        {
          "output_type": "stream",
          "name": "stdout",
          "text": [
            "Elbo loss: 502.6074719429016\n",
            "Elbo loss: 498.8151116371155\n",
            "Elbo loss: 497.65202021598816\n",
            "Elbo loss: 496.98076605796814\n",
            "Elbo loss: 497.57296097278595\n",
            "Elbo loss: 499.85331213474274\n",
            "Elbo loss: 498.7296109199524\n",
            "Elbo loss: 494.6103148460388\n",
            "Final Elbo loss: 498.78914296627045\n",
            "CPU times: user 21.7 s, sys: 54.2 ms, total: 21.7 s\n",
            "Wall time: 26.3 s\n"
          ]
        }
      ]
    },
    {
      "cell_type": "code",
      "source": [
        "from pyro.infer import Predictive\n",
        "\n",
        "num_samples = 1000\n",
        "predictive = Predictive(model, guide=guide, num_samples=num_samples)\n",
        "\n",
        "svi_samples = {k: v.reshape((num_samples,-1)).detach().cpu().numpy()\n",
        "               for k, v in predictive(data).items()\n",
        "               if k != \"obs\"}"
      ],
      "metadata": {
        "id": "U9yCC7NWlpp6"
      },
      "execution_count": null,
      "outputs": []
    },
    {
      "cell_type": "code",
      "source": [
        "svi_samples.keys()"
      ],
      "metadata": {
        "colab": {
          "base_uri": "https://localhost:8080/"
        },
        "id": "GFy-1qjzlpjb",
        "outputId": "51852880-b135-47c1-c28d-ac02b2bcbfad"
      },
      "execution_count": null,
      "outputs": [
        {
          "output_type": "execute_result",
          "data": {
            "text/plain": [
              "dict_keys(['lambda_1', 'lambda_2', 'tau'])"
            ]
          },
          "metadata": {},
          "execution_count": 19
        }
      ]
    },
    {
      "cell_type": "code",
      "source": [
        "guide.quantiles([0.05,0.50,0.95])"
      ],
      "metadata": {
        "colab": {
          "base_uri": "https://localhost:8080/"
        },
        "id": "h2YvlMdvlpee",
        "outputId": "6fb8e0d7-37ee-4887-f275-fc5b064280b5"
      },
      "execution_count": null,
      "outputs": [
        {
          "output_type": "execute_result",
          "data": {
            "text/plain": [
              "{'lambda_1': tensor([18.1802, 19.3330, 20.5589]),\n",
              " 'lambda_2': tensor([18.5888, 19.7519, 20.9878]),\n",
              " 'tau': tensor([0.0522, 0.4893, 0.9434])}"
            ]
          },
          "metadata": {},
          "execution_count": 20
        }
      ]
    },
    {
      "cell_type": "markdown",
      "source": [
        "Can see that SVI does not work in this instance, lambda_1 and lambda_2 overlap substantially."
      ],
      "metadata": {
        "id": "-1-96uEioiT6"
      }
    },
    {
      "cell_type": "code",
      "source": [
        ""
      ],
      "metadata": {
        "id": "B163uuzMoy9f"
      },
      "execution_count": null,
      "outputs": []
    },
    {
      "cell_type": "code",
      "source": [
        "## Let's do MCMC instead"
      ],
      "metadata": {
        "id": "pOV2fXNoogOx"
      },
      "execution_count": null,
      "outputs": []
    },
    {
      "cell_type": "code",
      "source": [
        "kernel = NUTS(model, jit_compile=True, ignore_jit_warnings=True, max_tree_depth=3)\n",
        "posterior = MCMC(kernel, num_samples=5000, warmup_steps=500)\n",
        "posterior.run(data);"
      ],
      "metadata": {
        "colab": {
          "base_uri": "https://localhost:8080/"
        },
        "id": "nHSjIG1ikwHT",
        "outputId": "b3570695-d1c5-4ca4-fb88-721621f7da5a"
      },
      "execution_count": null,
      "outputs": [
        {
          "output_type": "stream",
          "name": "stderr",
          "text": [
            "Sample: 100%|██████████| 5500/5500 [00:47, 115.25it/s, step size=3.17e-01, acc. prob=0.750]\n"
          ]
        }
      ]
    },
    {
      "cell_type": "code",
      "source": [
        "hmc_samples = {k: v.detach().cpu().numpy() for k, v in posterior.get_samples().items()}\n",
        "lambda_1_samples = hmc_samples['lambda_1']\n",
        "lambda_2_samples = hmc_samples['lambda_2']\n",
        "tau_samples = (hmc_samples['tau'] * data.size(0) + 1).astype(int)"
      ],
      "metadata": {
        "id": "3GUdrzFokwD1"
      },
      "execution_count": null,
      "outputs": []
    },
    {
      "cell_type": "code",
      "source": [
        "data.size(0)"
      ],
      "metadata": {
        "colab": {
          "base_uri": "https://localhost:8080/"
        },
        "id": "QbT28ur7mFLK",
        "outputId": "2be0730c-bcdf-49c1-f31d-61bb322e83b2"
      },
      "execution_count": null,
      "outputs": [
        {
          "output_type": "execute_result",
          "data": {
            "text/plain": [
              "74"
            ]
          },
          "metadata": {},
          "execution_count": 24
        }
      ]
    },
    {
      "cell_type": "code",
      "source": [
        "# plt.figsize(12.5, 10)\n",
        "#histogram of the samples:\n",
        "\n",
        "ax = plt.subplot(311)\n",
        "ax.set_autoscaley_on(False)\n",
        "\n",
        "plt.hist(lambda_1_samples, histtype='stepfilled', bins=30, alpha=0.85,\n",
        "         label=\"posterior of $\\lambda_1$\", color=\"#A60628\", density=True)\n",
        "plt.legend(loc=\"upper left\")\n",
        "plt.title(r\"\"\"Posterior distributions of the variables\n",
        "    $\\lambda_1,\\;\\lambda_2,\\;\\tau$\"\"\")\n",
        "plt.xlim([15, 30])\n",
        "plt.xlabel(\"$\\lambda_1$ value\")\n",
        "\n",
        "ax = plt.subplot(312)\n",
        "ax.set_autoscaley_on(False)\n",
        "plt.hist(lambda_2_samples, histtype='stepfilled', bins=30, alpha=0.85,\n",
        "         label=\"posterior of $\\lambda_2$\", color=\"#7A68A6\", density=True)\n",
        "plt.legend(loc=\"upper left\")\n",
        "plt.xlim([15, 30])\n",
        "plt.xlabel(\"$\\lambda_2$ value\")\n",
        "\n",
        "plt.subplot(313)\n",
        "w = 1.0 / tau_samples.shape[0] * np.ones_like(tau_samples)\n",
        "plt.hist(tau_samples, bins=data.size(0), alpha=1,\n",
        "         label=r\"posterior of $\\tau$\",\n",
        "         color=\"#467821\", weights=w, rwidth=2.)\n",
        "plt.xticks(np.arange(data.size(0)))\n",
        "\n",
        "plt.legend(loc=\"upper left\")\n",
        "plt.ylim([0, .75])\n",
        "# plt.xlim([35, len(data.size(0))-20])\n",
        "plt.xlabel(r\"$\\tau$ (in days)\")\n",
        "plt.ylabel(\"probability\");"
      ],
      "metadata": {
        "colab": {
          "base_uri": "https://localhost:8080/",
          "height": 492
        },
        "id": "Uf4XX4pwkwAG",
        "outputId": "2e69fd51-d1c0-41e6-cefb-834f2515508f"
      },
      "execution_count": null,
      "outputs": [
        {
          "output_type": "display_data",
          "data": {
            "text/plain": [
              "<Figure size 1500x500 with 3 Axes>"
            ],
            "image/png": "[encoded data removed]"
          },
          "metadata": {}
        }
      ]
    },
    {
      "cell_type": "markdown",
      "source": [
        "### Interpretation\n",
        "Recall that Bayesian methodology returns a distribution. Hence we now have distributions to describe the unknown s and . What have we gained? Immediately, we can see the uncertainty in our estimates: the wider the distribution, the less certain our posterior belief should be. We can also see what the plausible values for the parameters are: \n",
        " is around 18 and \n",
        " is around 23. The posterior distributions of the two s are clearly distinct, indicating that it is indeed likely that there was a change in the user's text-message behaviour.\n",
        "\n",
        "What other observations can you make? If you look at the original data again, do these results seem reasonable?\n",
        "\n",
        "Notice also that the posterior distributions for the s do not look like exponential distributions, even though our priors for these variables were exponential. In fact, the posterior distributions are not really of any form that we recognize from the original model. But that's OK! This is one of the benefits of taking a computational point of view. If we had instead done this analysis using mathematical approaches, we would have been stuck with an analytically intractable (and messy) distribution. Our use of a computational approach makes us indifferent to mathematical tractability.\n",
        "\n",
        "Our analysis also returned a distribution for . Its posterior distribution looks a little different from the other two because it is a discrete random variable, so it doesn't assign probabilities to intervals. We can see that near day 45, there was a 50% chance that the user's behaviour changed. Had no change occurred, or had the change been gradual over time, the posterior distribution of  would have been more spread out, reflecting that many days were plausible candidates for . By contrast, in the actual results we see that only three or four days make any sense as potential transition points."
      ],
      "metadata": {
        "id": "AtOM99Vkmpd4"
      }
    },
    {
      "cell_type": "code",
      "source": [
        "# The switchpoint analysis done above would be considerably more difficult to do without Bayesian calculations"
      ],
      "metadata": {
        "id": "JvrL_UQto9Bm"
      },
      "execution_count": null,
      "outputs": []
    }
  ],
  "metadata": {
    "colab": {
      "name": "pyro-count-regression-texting-data.ipynb",
      "provenance": [],
      "collapsed_sections": [
        "w3dU4UT4Ymhk"
      ]
    },
    "kernelspec": {
      "display_name": "Python 3",
      "name": "python3"
    },
    "language_info": {
      "name": "python"
    }
  },
  "nbformat": 4,
  "nbformat_minor": 0
}
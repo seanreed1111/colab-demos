{
  "cells": [
    {
      "cell_type": "code",
      "execution_count": null,
      "metadata": {
        "colab": {
          "base_uri": "https://localhost:8080/"
        },
        "id": "nVP7xmlom-Kr",
        "outputId": "409fae94-31e0-4ac1-bdee-42599f2616b9"
      },
      "outputs": [],
      "source": [
        "pip install pyro-ppl"
      ]
    },
    {
      "cell_type": "code",
      "execution_count": null,
      "metadata": {
        "id": "MVthELNLlX1u"
      },
      "outputs": [],
      "source": [
        "import os\n",
        "import torch\n",
        "from torch.distributions import constraints\n",
        "from torch import tensor\n",
        "\n",
        "import numpy as np\n",
        "import pandas as pd\n",
        "import seaborn as sns\n",
        "import matplotlib.pyplot as plt\n",
        "\n",
        "import pyro\n",
        "import pyro.distributions as dist\n",
        "from pyro.infer import SVI,Trace_ELBO\n",
        "from pyro.infer.autoguide  import AutoMultivariateNormal, AutoNormal, init_to_mean\n",
        "from pyro.optim import ClippedAdam\n",
        "\n",
        "assert pyro.__version__.startswith('1.8')\n",
        "pyro.set_rng_seed(1)\n",
        "torch.manual_seed(1)\n",
        "\n",
        "# Set matplotlib settings\n",
        "%matplotlib inline\n",
        "plt.style.use('default')\n",
        "plt.rcParams['figure.figsize'] = [12, 8]"
      ]
    },
    {
      "cell_type": "code",
      "execution_count": null,
      "metadata": {
        "id": "GJgILQzCtycu"
      },
      "outputs": [],
      "source": [
        "from sklearn.datasets import load_iris\n",
        "\n",
        "X_df, y = load_iris(as_frame=True, return_X_y=True)"
      ]
    },
    {
      "cell_type": "code",
      "execution_count": null,
      "metadata": {
        "id": "dIiDKLAqowl2"
      },
      "outputs": [],
      "source": [
        "target_names = ['setosa', 'versicolor', 'virginica']"
      ]
    },
    {
      "cell_type": "code",
      "execution_count": null,
      "metadata": {
        "colab": {
          "base_uri": "https://localhost:8080/"
        },
        "id": "lbzxNab5oeZY",
        "outputId": "8e1c8d88-a2eb-4d5c-9933-3539d77c380b"
      },
      "outputs": [],
      "source": [
        "# standardize X\n",
        "X_df.columns = ['sepal_length', 'sepal_width', 'petal_length', 'petal_width']\n",
        "X = X_df.apply(lambda x: (x - x.mean())/x.std(), axis=0)\n",
        "X.columns = ['sepal_length', 'sepal_width', 'petal_length', 'petal_width']\n",
        "\n",
        "X['iris_type'] = y\n",
        "X['is_setosa'] = np.where(X['iris_type'].values == 0, 1,0)\n",
        "X.info()"
      ]
    },
    {
      "cell_type": "code",
      "execution_count": null,
      "metadata": {
        "colab": {
          "base_uri": "https://localhost:8080/",
          "height": 206
        },
        "id": "1PcAw02ctsVj",
        "outputId": "f6c4d813-ea3f-47e2-8a84-b68c54994309"
      },
      "outputs": [],
      "source": [
        "X.head()"
      ]
    },
    {
      "cell_type": "code",
      "execution_count": null,
      "metadata": {
        "colab": {
          "base_uri": "https://localhost:8080/",
          "height": 1000
        },
        "id": "W_P6wxAXvumc",
        "outputId": "7b15341d-de1f-45b6-8ae6-7bb589f22342"
      },
      "outputs": [],
      "source": [
        "sns.pairplot(data=X, hue='iris_type', palette=\"colorblind\", corner=True); #setosa is easy to distinguish, versicolor and virginica are harder"
      ]
    },
    {
      "cell_type": "markdown",
      "metadata": {
        "id": "t_6zRxyzP1MX"
      },
      "source": [
        "## Make a logistic regression model of \n",
        "is_setosa ~ 'petal_width'"
      ]
    },
    {
      "cell_type": "markdown",
      "metadata": {
        "id": "zrs1jvZCy7ic"
      },
      "source": [
        "### Using sklearn"
      ]
    },
    {
      "cell_type": "code",
      "execution_count": null,
      "metadata": {
        "colab": {
          "base_uri": "https://localhost:8080/"
        },
        "id": "PLFkKuG6_OFq",
        "outputId": "90eddd2a-3bb2-4a86-cf05-0a52ec9f5a46"
      },
      "outputs": [],
      "source": [
        "X['petal_width'].shape, X['is_setosa'].shape"
      ]
    },
    {
      "cell_type": "code",
      "execution_count": null,
      "metadata": {
        "id": "4kV-xz-wtUJ5"
      },
      "outputs": [],
      "source": [
        "from sklearn.linear_model import LogisticRegression\n",
        "#C = 1e9 means no L2 regularization\n",
        "clf = LogisticRegression(C=1e9, random_state=0).fit(X['petal_width'].values.reshape(-1,1), X['is_setosa'])\n"
      ]
    },
    {
      "cell_type": "code",
      "execution_count": null,
      "metadata": {
        "colab": {
          "base_uri": "https://localhost:8080/"
        },
        "id": "o_PQGFEXy6Bp",
        "outputId": "b0f8f717-6e9d-43c3-fe30-786e8894729e"
      },
      "outputs": [],
      "source": [
        "# these are the parameters we expect to recover\n",
        "print(clf.coef_)\n",
        "print(clf.intercept_)"
      ]
    },
    {
      "cell_type": "code",
      "execution_count": null,
      "metadata": {
        "id": "6BwKnybr1wFa"
      },
      "outputs": [],
      "source": []
    },
    {
      "cell_type": "code",
      "execution_count": null,
      "metadata": {
        "id": "97FTRDzKrImY"
      },
      "outputs": [],
      "source": [
        "data = tensor(X[['petal_width']].values, dtype=torch.float)\n",
        "target = tensor(X['is_setosa'].values, dtype=torch.float)"
      ]
    },
    {
      "cell_type": "code",
      "execution_count": null,
      "metadata": {
        "colab": {
          "base_uri": "https://localhost:8080/"
        },
        "id": "a1XSEqilvqmf",
        "outputId": "b6d14516-6405-4d39-ca62-f12c291d280d"
      },
      "outputs": [],
      "source": [
        "data.size(), target.size()"
      ]
    },
    {
      "cell_type": "markdown",
      "metadata": {
        "id": "QoYCYHCiq-nM"
      },
      "source": [
        "## Using Pyro"
      ]
    },
    {
      "cell_type": "code",
      "execution_count": null,
      "metadata": {
        "id": "m_M2RXFIRr2S"
      },
      "outputs": [],
      "source": [
        "from torch import nn\n",
        "from pyro.nn import PyroSample, PyroModule\n",
        "\n",
        "class BayesianLogisticRegression(PyroModule):\n",
        "    def __init__(self, in_features, out_features = 1, bias = True):\n",
        "        super().__init__()\n",
        "        self.linear = PyroModule[nn.Linear](in_features, out_features)\n",
        "        self.linear.weight = PyroSample(dist.Normal(-35., 5.).expand([out_features, in_features]).to_event(2))\n",
        "        if bias:\n",
        "          self.linear.bias = PyroSample(dist.Uniform(-25., 5.).expand([out_features]).to_event(1))\n",
        "        \n",
        "    def forward(self, x, y=None):\n",
        "        logits = self.linear(x).squeeze(-1)\n",
        "\n",
        "        with pyro.plate(\"data\", x.shape[0]):\n",
        "            obs = pyro.sample(\"obs\", dist.Bernoulli(logits=logits), obs=y)\n",
        "        return logits"
      ]
    },
    {
      "cell_type": "code",
      "execution_count": null,
      "metadata": {
        "colab": {
          "base_uri": "https://localhost:8080/"
        },
        "id": "jLJ-d6U-CZYq",
        "outputId": "d870b0ee-3908-45cb-c23a-6363bd63eaa0"
      },
      "outputs": [],
      "source": [
        "data.size(1)"
      ]
    },
    {
      "cell_type": "code",
      "execution_count": null,
      "metadata": {
        "id": "LmDLgORbTVj4"
      },
      "outputs": [],
      "source": [
        "model = BayesianLogisticRegression(data.size(1))"
      ]
    },
    {
      "cell_type": "code",
      "execution_count": null,
      "metadata": {
        "id": "8pIi_GNhRrnv"
      },
      "outputs": [],
      "source": [
        "from pyro.infer.autoguide import AutoMultivariateNormal\n",
        "\n",
        "guide = AutoMultivariateNormal(model, init_loc_fn=init_to_mean)"
      ]
    },
    {
      "cell_type": "code",
      "execution_count": null,
      "metadata": {
        "id": "nQ6xwiGt5XIM"
      },
      "outputs": [],
      "source": [
        "def train(model, guide, lr=0.01, n_steps=2000):\n",
        "    pyro.set_rng_seed(1)\n",
        "    pyro.clear_param_store()\n",
        "    \n",
        "    gamma = 0.01  # final learning rate will be gamma * initial_lr\n",
        "    lrd = gamma ** (1 / n_steps)\n",
        "    adam = pyro.optim.ClippedAdam({'lr': lr, 'lrd': lrd})\n",
        "\n",
        "    svi = SVI(model, guide, adam, loss=Trace_ELBO())\n",
        "\n",
        "    for i in range(n_steps):\n",
        "        elbo = svi.step(data, target)\n",
        "        if i % 500 == 0:\n",
        "          print(f\"Elbo loss: {elbo}\")"
      ]
    },
    {
      "cell_type": "code",
      "execution_count": null,
      "metadata": {
        "colab": {
          "base_uri": "https://localhost:8080/"
        },
        "id": "1PTlhDqE3eRp",
        "outputId": "91b0bf36-13f3-4950-f082-23c9d2a394ed"
      },
      "outputs": [],
      "source": [
        "%%time\n",
        "train(model, guide)"
      ]
    },
    {
      "cell_type": "code",
      "execution_count": null,
      "metadata": {
        "id": "DGtt4I8nMxBb"
      },
      "outputs": [],
      "source": [
        "from pyro.infer import Predictive\n",
        "\n",
        "num_samples = 1000\n",
        "predictive = Predictive(model, guide=guide, num_samples=num_samples)\n",
        "\n",
        "svi_samples = {k: v.reshape((num_samples,-1)).detach().cpu().numpy()\n",
        "               for k, v in predictive(data, target).items()\n",
        "               if k != \"obs\"}"
      ]
    },
    {
      "cell_type": "code",
      "execution_count": null,
      "metadata": {
        "colab": {
          "base_uri": "https://localhost:8080/"
        },
        "id": "ioaYB_0tMw4u",
        "outputId": "0e73e063-6859-4cc1-cdcc-3582251a82fd"
      },
      "outputs": [],
      "source": [
        "svi_samples.keys()"
      ]
    },
    {
      "cell_type": "code",
      "execution_count": null,
      "metadata": {
        "colab": {
          "base_uri": "https://localhost:8080/"
        },
        "id": "i1JqzBDW67F8",
        "outputId": "402c9e7e-f82b-4d54-ac51-6a477cfdf302"
      },
      "outputs": [],
      "source": [
        "svi_samples['linear.bias'].mean()"
      ]
    },
    {
      "cell_type": "code",
      "execution_count": null,
      "metadata": {
        "colab": {
          "base_uri": "https://localhost:8080/"
        },
        "id": "WZHdWed57SSj",
        "outputId": "8e10f18e-11d9-4e7d-fb10-c9c242a19424"
      },
      "outputs": [],
      "source": [
        "svi_samples['linear.weight'].mean(axis=0)"
      ]
    },
    {
      "cell_type": "code",
      "execution_count": null,
      "metadata": {
        "colab": {
          "base_uri": "https://localhost:8080/"
        },
        "id": "VBS7Estr81yB",
        "outputId": "d4474bbd-510b-4c6f-d353-13ace0b7f698"
      },
      "outputs": [],
      "source": [
        "guide.quantiles([0.05,0.50,0.95])"
      ]
    },
    {
      "cell_type": "code",
      "execution_count": null,
      "metadata": {
        "colab": {
          "base_uri": "https://localhost:8080/",
          "height": 513
        },
        "id": "IG07EAz4rmMb",
        "outputId": "2eeb9c97-d6cc-4b8f-f169-bc46fa7c8ec8"
      },
      "outputs": [],
      "source": [
        "samples = pd.DataFrame({'bias':svi_samples['linear.bias'].squeeze(), 'weight':svi_samples['linear.weight'].squeeze()})\n",
        "sns.pairplot(data=samples, corner=True);"
      ]
    },
    {
      "cell_type": "code",
      "execution_count": null,
      "metadata": {
        "colab": {
          "base_uri": "https://localhost:8080/"
        },
        "id": "KemMUmMV7nbm",
        "outputId": "0b3afa45-f51f-4668-b517-aae92f15e9e2"
      },
      "outputs": [],
      "source": [
        "print(clf.intercept_)\n",
        "print(clf.coef_)"
      ]
    },
    {
      "cell_type": "markdown",
      "metadata": {
        "id": "w3dU4UT4Ymhk"
      },
      "source": [
        "# What about MCMC?"
      ]
    },
    {
      "cell_type": "code",
      "execution_count": null,
      "metadata": {
        "id": "0ON4V2ToOVCK"
      },
      "outputs": [],
      "source": [
        "from pyro.infer import MCMC, NUTS\n",
        "nuts_kernel = NUTS(model)\n",
        "mcmc = MCMC(nuts_kernel, num_samples=3000, warmup_steps=1000)"
      ]
    },
    {
      "cell_type": "code",
      "execution_count": null,
      "metadata": {
        "colab": {
          "base_uri": "https://localhost:8080/"
        },
        "id": "z-Xa8UgpsOwm",
        "outputId": "9bb67bab-2c56-4c0c-f3cf-e5882ce2ec3d"
      },
      "outputs": [],
      "source": [
        "%%time\n",
        "mcmc.run(data, target)"
      ]
    },
    {
      "cell_type": "code",
      "execution_count": null,
      "metadata": {
        "id": "GDdS0mW6PUVH"
      },
      "outputs": [],
      "source": [
        "hmc_samples = {k: v.detach().cpu().numpy() for k, v in mcmc.get_samples().items()}"
      ]
    },
    {
      "cell_type": "code",
      "execution_count": null,
      "metadata": {
        "colab": {
          "base_uri": "https://localhost:8080/"
        },
        "id": "jgUv4jX_WjPO",
        "outputId": "8df06ab8-1e0d-435f-9e57-7ed6a91fc112"
      },
      "outputs": [],
      "source": [
        "hmc_samples.keys()"
      ]
    },
    {
      "cell_type": "code",
      "execution_count": null,
      "metadata": {
        "colab": {
          "base_uri": "https://localhost:8080/"
        },
        "id": "pvlD0L2H8hC1",
        "outputId": "bc9f9bb0-5572-4800-e7c6-c22ee4de9a7f"
      },
      "outputs": [],
      "source": [
        "np.median(hmc_samples['linear.bias'])"
      ]
    },
    {
      "cell_type": "code",
      "execution_count": null,
      "metadata": {
        "colab": {
          "base_uri": "https://localhost:8080/",
          "height": 506
        },
        "id": "obo6IMguApKe",
        "outputId": "c1ff07d7-da4e-405f-ecc6-a7686086ec07"
      },
      "outputs": [],
      "source": [
        "sns.displot(hmc_samples['linear.bias']);"
      ]
    },
    {
      "cell_type": "code",
      "execution_count": null,
      "metadata": {
        "colab": {
          "base_uri": "https://localhost:8080/"
        },
        "id": "TEi7dAzr8WaB",
        "outputId": "ed2909cd-aca5-46fe-9cb7-799c44e6f888"
      },
      "outputs": [],
      "source": [
        "np.median(hmc_samples['linear.weight'])"
      ]
    },
    {
      "cell_type": "code",
      "execution_count": null,
      "metadata": {
        "colab": {
          "base_uri": "https://localhost:8080/",
          "height": 676
        },
        "id": "hRmKEGeCAlme",
        "outputId": "de5d405e-c488-4f32-ffba-34594a25a45c"
      },
      "outputs": [],
      "source": [
        "sns.kdeplot(hmc_samples['linear.weight'][:,0,0]);"
      ]
    },
    {
      "cell_type": "code",
      "execution_count": null,
      "metadata": {
        "colab": {
          "base_uri": "https://localhost:8080/"
        },
        "id": "eds3vCp28oWL",
        "outputId": "3a01bfb0-930f-4956-a5e8-4c86fbf1a08a"
      },
      "outputs": [],
      "source": [
        "print(clf.coef_)\n",
        "print(clf.intercept_)"
      ]
    },
    {
      "cell_type": "code",
      "execution_count": null,
      "metadata": {
        "id": "JN0DMxf_8oTg"
      },
      "outputs": [],
      "source": []
    },
    {
      "cell_type": "markdown",
      "metadata": {
        "id": "1gg4PLreERvz"
      },
      "source": [
        "## So, this appears to work in 1D \n",
        "## Let's try predicting the multinomial logit\n",
        "\n",
        "### note: due to perfect separation of setosa, this fails to converge for frequentist solution"
      ]
    },
    {
      "cell_type": "code",
      "execution_count": null,
      "metadata": {
        "colab": {
          "base_uri": "https://localhost:8080/"
        },
        "id": "I1KTGWN-8oQl",
        "outputId": "79e2a0c0-5708-4864-ff76-d340d5134315"
      },
      "outputs": [],
      "source": [
        "import statsmodels.formula.api as smf"
      ]
    },
    {
      "cell_type": "code",
      "execution_count": null,
      "metadata": {
        "id": "Fi7QjX3XE_R9"
      },
      "outputs": [],
      "source": [
        "mod = smf.mnlogit(formula='iris_type ~ sepal_length + sepal_width + petal_length + petal_width', data=X)"
      ]
    },
    {
      "cell_type": "code",
      "execution_count": null,
      "metadata": {
        "colab": {
          "base_uri": "https://localhost:8080/"
        },
        "id": "1WohXpf9FnuV",
        "outputId": "9b6d59f4-2e0c-4a78-cfaa-3b4ada29a4e6"
      },
      "outputs": [],
      "source": [
        "result = mod.fit()\n",
        "print(result.summary())"
      ]
    },
    {
      "cell_type": "code",
      "execution_count": null,
      "metadata": {
        "id": "QcKMXXSNE0kp"
      },
      "outputs": [],
      "source": []
    },
    {
      "cell_type": "code",
      "execution_count": null,
      "metadata": {
        "id": "AoRnwuN6JOY8"
      },
      "outputs": [],
      "source": [
        "from torch import nn\n",
        "from pyro.nn import PyroSample, PyroModule\n",
        "\n",
        "class BayesianMultinomialLogisticRegression(PyroModule):\n",
        "    def __init__(self, in_features, out_features = 1, bias = True):\n",
        "        super().__init__()\n",
        "        self.linear = PyroModule[nn.Linear](in_features, out_features)\n",
        "        self.linear.weight = PyroSample(dist.Normal(-10., 5.).expand([out_features, in_features]).to_event(2))\n",
        "        if bias:\n",
        "          self.linear.bias = PyroSample(dist.Normal(-1., 2.).expand([out_features]).to_event(1))\n",
        "        \n",
        "    def forward(self, x, y=None):\n",
        "        logits = self.linear(x).squeeze(-1)\n",
        "\n",
        "        with pyro.plate(\"data\", x.shape[0]):\n",
        "            obs = pyro.sample(\"obs\", dist.Categorical(logits=logits), obs=y)\n",
        "        return logits"
      ]
    },
    {
      "cell_type": "code",
      "execution_count": null,
      "metadata": {
        "id": "HxgAXzqrKPR4"
      },
      "outputs": [],
      "source": [
        "model_2 = BayesianMultinomialLogisticRegression(4,1)"
      ]
    },
    {
      "cell_type": "code",
      "execution_count": null,
      "metadata": {
        "id": "QwF4vaRcKU3g"
      },
      "outputs": [],
      "source": [
        "guide_2 = AutoMultivariateNormal(model_2, init_loc_fn=init_to_mean)"
      ]
    },
    {
      "cell_type": "code",
      "execution_count": null,
      "metadata": {
        "id": "FzsrvIoMKe0C"
      },
      "outputs": [],
      "source": [
        "def train(model, guide, lr=0.1, n_steps=4000):\n",
        "    pyro.set_rng_seed(1)\n",
        "    pyro.clear_param_store()\n",
        "    \n",
        "    gamma = 0.01  # final learning rate will be gamma * initial_lr\n",
        "    lrd = gamma ** (1 / n_steps)\n",
        "    adam = pyro.optim.ClippedAdam({'lr': lr, 'lrd': lrd})\n",
        "\n",
        "    svi = SVI(model, guide, adam, loss=Trace_ELBO())\n",
        "\n",
        "    for i in range(n_steps):\n",
        "        elbo = svi.step(data, target)\n",
        "        if i % 500 == 0:\n",
        "          print(f\"Elbo loss: {elbo}\")\n"
      ]
    },
    {
      "cell_type": "code",
      "execution_count": null,
      "metadata": {
        "colab": {
          "base_uri": "https://localhost:8080/"
        },
        "id": "P0HtQ40tLATO",
        "outputId": "63597826-3f4c-4b62-ad68-dcd00c1c6ad8"
      },
      "outputs": [],
      "source": [
        "data = tensor(X[['sepal_length', 'sepal_width', 'petal_length', 'petal_width']].values, dtype=torch.float)\n",
        "target = tensor(X['iris_type'].values, dtype=torch.float)\n",
        "\n",
        "data.size(), target.size()"
      ]
    },
    {
      "cell_type": "code",
      "execution_count": null,
      "metadata": {
        "colab": {
          "base_uri": "https://localhost:8080/"
        },
        "id": "J3st01xZKobU",
        "outputId": "1fbd29cf-a2a8-4eb2-8d49-db4a359a3c2a"
      },
      "outputs": [],
      "source": [
        "%%time\n",
        "train(model_2, guide_2)"
      ]
    },
    {
      "cell_type": "code",
      "execution_count": null,
      "metadata": {
        "id": "B5iFlI_fNxGV"
      },
      "outputs": [],
      "source": []
    },
    {
      "cell_type": "code",
      "execution_count": null,
      "metadata": {
        "colab": {
          "base_uri": "https://localhost:8080/"
        },
        "id": "AujpbFcxK0a5",
        "outputId": "0a82ffd1-4cf5-4456-c837-02b565251d8b"
      },
      "outputs": [],
      "source": [
        "from pyro.infer import MCMC, NUTS\n",
        "nuts_kernel = NUTS(model_2)\n",
        "mcmc = MCMC(nuts_kernel, num_samples=2000, warmup_steps=1500)\n",
        "mcmc.run(data, target)"
      ]
    },
    {
      "cell_type": "code",
      "execution_count": null,
      "metadata": {
        "id": "Ko3vQhyQL3u0"
      },
      "outputs": [],
      "source": [
        "hmc_samples = {k: v.detach().cpu().numpy() for k, v in mcmc.get_samples().items()}"
      ]
    },
    {
      "cell_type": "code",
      "execution_count": null,
      "metadata": {
        "colab": {
          "base_uri": "https://localhost:8080/"
        },
        "id": "rnrBRurfPz-b",
        "outputId": "76cb9bd4-be96-4275-d1ee-389eccfec313"
      },
      "outputs": [],
      "source": [
        "hmc_samples.keys()"
      ]
    },
    {
      "cell_type": "code",
      "execution_count": null,
      "metadata": {
        "colab": {
          "base_uri": "https://localhost:8080/",
          "height": 1000
        },
        "id": "Y4lhVjKYP6Ke",
        "outputId": "deeec0ad-144f-4404-a066-65af8dbfef65"
      },
      "outputs": [],
      "source": [
        "import arviz as az\n",
        "\n",
        "az_data = az.from_pyro(mcmc)\n",
        "az.plot_trace(az_data, compact=False);\n",
        "plt.tight_layout()"
      ]
    },
    {
      "cell_type": "code",
      "execution_count": null,
      "metadata": {
        "id": "ClXmJ1LSQmEY"
      },
      "outputs": [],
      "source": []
    }
  ],
  "metadata": {
    "colab": {
      "name": "pyro-logistic-regression-iris.ipynb",
      "provenance": []
    },
    "kernelspec": {
      "display_name": "Python 3",
      "name": "python3"
    },
    "language_info": {
      "name": "python"
    }
  },
  "nbformat": 4,
  "nbformat_minor": 0
}

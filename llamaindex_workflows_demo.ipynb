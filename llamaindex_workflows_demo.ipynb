{
  "nbformat": 4,
  "nbformat_minor": 0,
  "metadata": {
    "colab": {
      "provenance": [],
      "authorship_tag": "ABX9TyO93KZLLZYKhRjAoVfs7CZo",
      "include_colab_link": true
    },
    "kernelspec": {
      "name": "python3",
      "display_name": "Python 3"
    },
    "language_info": {
      "name": "python"
    }
  },
  "cells": [
    {
      "cell_type": "markdown",
      "metadata": {
        "id": "view-in-github",
        "colab_type": "text"
      },
      "source": [
        "<a href=\"https://colab.research.google.com/github/seanreed1111/colab-demos/blob/master/llamaindex_workflows_demo.ipynb\" target=\"_parent\"><img src=\"https://colab.research.google.com/assets/colab-badge.svg\" alt=\"Open In Colab\"/></a>"
      ]
    },
    {
      "cell_type": "code",
      "source": [
        "from google.colab import userdata\n",
        "import os\n",
        "os.environ['OPENAI_API_KEY']=userdata.get('OPENAI_API_KEY')"
      ],
      "metadata": {
        "id": "gWXjdi52BrmW"
      },
      "execution_count": 1,
      "outputs": []
    },
    {
      "cell_type": "code",
      "source": [
        "!pip install -qqq -U llama_index"
      ],
      "metadata": {
        "id": "uauXv9J0BhYd"
      },
      "execution_count": 2,
      "outputs": []
    },
    {
      "cell_type": "code",
      "execution_count": 4,
      "metadata": {
        "colab": {
          "base_uri": "https://localhost:8080/"
        },
        "id": "70UeQvToBf9w",
        "outputId": "851da15c-6fa7-4d9c-88e7-d89503849a5f"
      },
      "outputs": [
        {
          "output_type": "stream",
          "name": "stdout",
          "text": [
            "Why did the HR manager bring a ladder to work?\n",
            "Because they heard the company was looking to \"climb the corporate ladder\"!\n",
            "This joke plays on the double meaning of the phrase \"climbing the corporate ladder,\" which refers to advancing in a company's hierarchy as well as the literal act of climbing a ladder. The humor comes from the unexpected twist of the HR manager taking the phrase literally and bringing a ladder to work.\n",
            "\n",
            "One of the strengths of this joke is its clever wordplay and the way it subverts expectations. It takes a common expression and gives it a literal interpretation, creating a humorous image in the reader's mind. The joke also relies on the audience's familiarity with corporate jargon, making it relatable to those who work in a professional setting.\n",
            "\n",
            "However, one potential weakness of this joke is that it may be seen as somewhat predictable or cliché. The concept of \"climbing the corporate ladder\" is a well-worn trope in business humor, so the punchline may not feel particularly fresh or original to some readers. Additionally, the joke relies heavily on wordplay and may not elicit a strong reaction from all audiences.\n",
            "\n",
            "Overall, while this joke may not be groundbreaking or particularly innovative, it is a light-hearted and amusing play on words that is likely to resonate with those familiar with office culture. It is a simple and effective joke that can bring a smile to the face of anyone who has ever worked in a corporate environment.\n"
          ]
        }
      ],
      "source": [
        "from llama_index.core.workflow import (\n",
        "    Event,\n",
        "    StartEvent,\n",
        "    StopEvent,\n",
        "    Workflow,\n",
        "    step,\n",
        ")\n",
        "from llama_index.llms.openai import OpenAI\n",
        "from llama_index.core import Settings\n",
        "\n",
        "Settings.llm = OpenAI(temperature=0.3)\n",
        "\n",
        "class JokeEvent(Event):\n",
        "    joke: str\n",
        "\n",
        "class JokeFlow(Workflow):\n",
        "    llm = Settings.llm\n",
        "\n",
        "    @step\n",
        "    async def generate_joke(self, ev: StartEvent) -> JokeEvent:\n",
        "        topic = ev.topic\n",
        "\n",
        "        prompt = f\"Write your best joke about {topic}.\"\n",
        "        response = await self.llm.acomplete(prompt)\n",
        "        return JokeEvent(joke=str(response))\n",
        "\n",
        "    @step\n",
        "    async def critique_joke(self, ev: JokeEvent) -> StopEvent:\n",
        "        joke = ev.joke\n",
        "        print(joke)\n",
        "        prompt = f\"Give a thorough analysis and critique of the following joke: {joke}\"\n",
        "        response = await self.llm.acomplete(prompt)\n",
        "        return StopEvent(result=str(response))\n",
        "\n",
        "\n",
        "w = JokeFlow(timeout=60, verbose=False)\n",
        "result = await w.run(topic=\"human resources\")\n",
        "print(str(result))"
      ]
    },
    {
      "cell_type": "code",
      "source": [],
      "metadata": {
        "id": "sFlwqgHmB5Oj"
      },
      "execution_count": 3,
      "outputs": []
    }
  ]
}
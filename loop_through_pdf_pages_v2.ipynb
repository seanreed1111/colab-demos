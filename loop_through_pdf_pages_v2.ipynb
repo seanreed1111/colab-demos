{
  "nbformat": 4,
  "nbformat_minor": 0,
  "metadata": {
    "colab": {
      "provenance": [],
      "authorship_tag": "ABX9TyPhBdK8dQfSQCM/Z7xP7dDZ",
      "include_colab_link": true
    },
    "kernelspec": {
      "name": "python3",
      "display_name": "Python 3"
    },
    "language_info": {
      "name": "python"
    }
  },
  "cells": [
    {
      "cell_type": "markdown",
      "metadata": {
        "id": "view-in-github",
        "colab_type": "text"
      },
      "source": [
        "<a href=\"https://colab.research.google.com/github/seanreed1111/colab-demos/blob/master/loop_through_pdf_pages_v2.ipynb\" target=\"_parent\"><img src=\"https://colab.research.google.com/assets/colab-badge.svg\" alt=\"Open In Colab\"/></a>"
      ]
    },
    {
      "cell_type": "code",
      "execution_count": 1,
      "metadata": {
        "colab": {
          "base_uri": "https://localhost:8080/"
        },
        "id": "YLGWkEnoxc4q",
        "outputId": "090e0d61-32af-4c58-b34f-9298dfabca1e"
      },
      "outputs": [
        {
          "output_type": "stream",
          "name": "stdout",
          "text": [
            "\u001b[2K     \u001b[90m━━━━━━━━━━━━━━━━━━━━━━━━━━━━━━━━━━━━━━\u001b[0m \u001b[32m232.6/232.6 kB\u001b[0m \u001b[31m11.0 MB/s\u001b[0m eta \u001b[36m0:00:00\u001b[0m\n",
            "\u001b[2K     \u001b[90m━━━━━━━━━━━━━━━━━━━━━━━━━━━━━━━━━━━━━━━━\u001b[0m \u001b[32m60.0/60.0 kB\u001b[0m \u001b[31m3.7 MB/s\u001b[0m eta \u001b[36m0:00:00\u001b[0m\n",
            "\u001b[?25h"
          ]
        }
      ],
      "source": [
        "%pip install -q PyPDF2 loguru"
      ]
    },
    {
      "cell_type": "code",
      "source": [
        "from pathlib import Path\n",
        "import os, PyPDF2, typing\n",
        "from loguru import logger"
      ],
      "metadata": {
        "id": "70CeON2HxuuH"
      },
      "execution_count": 2,
      "outputs": []
    },
    {
      "cell_type": "code",
      "source": [
        "cwd = Path.cwd()\n",
        "output_path = cwd / \"Output\"\n",
        "output_path.mkdir(exist_ok=True)"
      ],
      "metadata": {
        "id": "H9UvZhjxx6qc"
      },
      "execution_count": 3,
      "outputs": []
    },
    {
      "cell_type": "code",
      "source": [
        "def extract_resumes_from_book(path_to_pdf, skip_pages=None):\n",
        "  from pathlib import Path\n",
        "  import os, PyPDF2\n",
        "\n",
        "  \"\"\" \n",
        "  skip pages expects a list of 1-indexed pages to skip. first page = page 1\n",
        "  Can also be a single integer or a list of integer pages to skip\n",
        "  skipping page ranges is not implemented.\n",
        "  \"\"\"\n",
        "  if not skip_pages: skip_pages = []\n",
        "  if isinstance(skip_pages, int): skip_pages = [skip_pages]\n",
        "  file_path = Path(path_to_pdf)\n",
        "  doc = PyPDF2.PdfReader(file_path)\n",
        "  # num_pages = len(doc.pages)\n",
        "  # extract text and do the search \n",
        "  # assumes everyone has one page resumes and only one resume per page\n",
        "  header = [(0,str(file_path))] # add zero indexed tuple to preserve file path info as string\n",
        "  logger.debug(f\"{header}\")\n",
        "  return header + [(i+1,obj.extract_text()) for (i,obj) in enumerate(doc.pages) if i not in skip_pages]\n"
      ],
      "metadata": {
        "id": "MjGpvm1o1SII"
      },
      "execution_count": 23,
      "outputs": []
    },
    {
      "cell_type": "code",
      "source": [
        "resumes = extract_resumes_from_book(\"/content/resume_book_2023_courant.pdf\")"
      ],
      "metadata": {
        "colab": {
          "base_uri": "https://localhost:8080/"
        },
        "id": "vpUa7antxpxU",
        "outputId": "5c7f5f1d-1acf-4976-8cb7-c2705e942d8e"
      },
      "execution_count": 24,
      "outputs": [
        {
          "output_type": "stream",
          "name": "stderr",
          "text": [
            "\u001b[32m2023-05-09 14:03:15.394\u001b[0m | \u001b[34m\u001b[1mDEBUG   \u001b[0m | \u001b[36m__main__\u001b[0m:\u001b[36mextract_resumes_from_book\u001b[0m:\u001b[36m18\u001b[0m - \u001b[34m\u001b[1m[(0, '/content/resume_book_2023_courant.pdf')]\u001b[0m\n"
          ]
        }
      ]
    },
    {
      "cell_type": "code",
      "source": [
        "resumes[0], resumes[1], resumes[2], resumes[3], resumes[4] # resumes start on 4th page. so, use skip_pages = [1,2,3]"
      ],
      "metadata": {
        "colab": {
          "base_uri": "https://localhost:8080/"
        },
        "id": "LWSAeka4wdbl",
        "outputId": "a2d76cf0-d9b1-4aef-fd89-9f35259832bd"
      },
      "execution_count": 30,
      "outputs": [
        {
          "output_type": "execute_result",
          "data": {
            "text/plain": [
              "((0, '/content/resume_book_2023_courant.pdf'),\n",
              " (1, 'RESUME BOOK\\nCLASS OF 2023'),\n",
              " (2,\n",
              "  'We are pleased to provide you with the resumes of the first semester students \\nin the Courant Institute’s Mathematics in Finance Master’s Program. They just \\nstarted the program this semester and will graduate from our Master’s program \\nin December 2023. We hope you will consider them for possible summer \\ninternship positions at your firm. \\nWe believe our students are the most astute, most capable, and best trained \\ngroup of students of any program. The resumes you find in the resume book \\ndescribe their distinguished backgrounds. For the past years we have one of \\nthe highest placement records for summer internships and full-time positions \\nof any program. Our students enter into front office roles such as trading, \\nportfolio or risk management, on the buy and the sell side. Their computing, \\nquantitative finance, and machine learning skills, as well as their hands-on \\npractical experience, makes them productive from day one. \\nOur curriculum is dynamic and challenging. For example, the first semester \\ninvestment course does not end with CAPM and APT, but is a serious data-\\ndriven course that, for example, examines the statistical principles and practical \\npitfalls of covariance matrix estimation and portfolio construction. As part of \\nour core curriculum, students learn the modern tools of machine learning and \\ndata science as they are used in the financial industry today. Our advanced \\nelectives cover cutting-edge topics in pricing, algorithmic trading, portfolio \\nmanagement and financial machine learning. Our instructors are high-level \\nindustry professionals and faculty from the Courant Institute, the top ranked \\ndepartment worldwide in applied mathematics. You can find more information \\nabout the curriculum and faculty at the end of this document, or at  \\nmath.nyu.edu/financial_mathematics .\\nSincerely yours,\\nNew York University\\nCourant Institute of Mathematical Sciences\\nMS in Mathematics in Finance251 Mercer Street\\nNew York, NY 10012-1185\\nPhone: (212) 998-3104  |  Fax: (212) 995-4195DEAR\\nCOLLEAGUE,\\nPetter Kolm\\nDIRECTORDeane Yang\\nCHAIRLeif Anderson\\nINDUSTRY ADVISOR'),\n",
              " (3,\n",
              "  'THE CURRICULUM HAS  \\nFOUR MAIN COMPONENTS\\n01.  FINANCIAL THEORY, STATISTICS, AND FINANCIAL \\nDATA\\xa0SCIENCE\\nThese courses form the core of the program, covering topics ranging \\nfrom equilibrium theory, Black-Scholes, Heath-Jarrow- Morton, linear \\nregressions, covariance matrix estimation to modern machine learning \\ntechniques and how they are used in quantitative finance.\\n02. PRACTICAL FINANCIAL APPLICATIONS\\nThese classes are taught by industry specialists from prominent \\nWall\\xa0Street firms. They emphasize the practical aspects of \\nquantitative\\xa0finance, drawing on the instructor’s subject matter \\nexperience and\\xa0expertise.\\n03. MATHEMATICAL TOOLS\\nThis component provides appropriate mathematical background \\nin\\xa0areas like stochastic calculus and partial differential equations.\\n04. COMPUTATIONAL SKILLS\\nThese classes provide students with a broad range of software  \\nskills in Java and Python, and facility with computational methods \\nsuch as optimization, Monte Carlo simulation, EM-type algorithms \\nand\\xa0the\\xa0numerical solution of partial differential equations.\\nPRACTICAL TRAINING\\nIn addition to coursework, the program emphasizes practical \\nexperience. All students do a capstone project (the Project \\nand\\xa0Presentation course), mentored by finance professionals.  \\nMost full-time students do internships during the summer \\nbetween\\xa0their second\\xa0and third semesters.For more information about the program curriculum and course descriptions, visit  \\nmath.nyu.edu/financial_mathematics/academics/courses'),\n",
              " (4,\n",
              "  'HUYI CHEN  \\n(551) 99 8-1181 // huyi.chen@ nyu.edu  // linkedin.com/in/huyi -chen/  \\nEDUCATION  \\nExpected 12/23  NEW YORK UNIVERSITY  New York, NY \\n The Courant Institute of Mathematical Sciences  \\n M.S. in Mathematics in Finance  \\n● Expected Coursework:  object -oriented programming (Java), algorithmic trading, Black– Scholes \\nmodel, VaR, covariance matrix estimation, Monte Carlo simulation, data -driven models  \\n09/16 - 06/20  WUHAN UNIVERSITY                                                                                    Wuhan, China  \\n B.S. in Mathematical Finance and B.S in Mathematics   \\n● Coursework:  linear algebra, probability theory, statistics, real analysis, optimization, stochastic \\nprocess, random forest , neural networks , differential equations, numerical analysis, derivatives \\npricing, volatility smile, regression, C++ programming, data structure s \\n● Honors/Awards:  national scholarship (top 5%), first prize of the 10th national college student \\nmathematics competition  \\n● Thesis:  The expected utility maximization problem with general asset dynamics  \\nEXPERIENCE  \\n10/19 - 01/20  ZMATE QUANTITATIVE TECHNOLOGY LTD        Shenzhen, China  \\n Quantitative Research Intern  \\n● Developed 6 trading strategies for cryptocurrency and stocks with Python  \\n● Used empirical stock data to update strategy implementation, database communication, and log \\nsystem for backtesting; wrote research reports    \\n● Improved performance of stock selection program based on CAPM by introducing mixed integer \\nprogramming, increasing Sharpe ratio by 6% and reducing max drawdown by 5%  \\n● Prepared technical aspects of presentation to security company clients to better demonstrate \\ntechnical implementation   \\n● Communicated final results to security company clients; succeeded in selling them stock selection program   \\nPROJECTS  \\n07/21 - 08/21  UBS SECURITIES CO. LIMITED                                                                        Remote  \\n Pair Trading Strategies Based on Cointegration Arbitrage  (Python)  \\n● Conducted data cleaning for government  bond futures using Python; applied co- integration tests   \\n● Wrote fully functional backtesting program with Python to implement statistical arbitrage \\nstrategies of Treasury bond futures based on residual deviation signal   \\n● Used moving average and Kalman filter to better fit time -varying strategy parameters, which \\nsignificantly improved strategy performance in most case s \\n● Optimized program by restricting data structure to pure numpy array and using vectorization \\nheavily; improved aver age running speed of backtest ing program 22 -fold \\n09/21 - 02/22  CALIFORNIA INSTITUTE OF TECHNOLOGY                                        Remot e \\n Performance Comparison of BS and Heston Models in Options Pricing  (Python , C++ )  \\n● Collected Apple Inc. stock and options data with Python; calibrate d market parameters and \\npriced options with Black -Scholes and Heston models  \\n● Fitted parameters by minimizing the prediction errors of option prices with hybrid schemes  \\n● Compared performance of Black -Scholes and Heston models by calculating prediction error on \\ntest set and conducting Delta hedging for specific portfolios  \\nCOMPUTATIONAL SKILLS / OTHER  \\nProgramming Languages:  Python, C++ , MATLAB , Java \\nLanguages: English (fluent), Mandarin (native)  '))"
            ]
          },
          "metadata": {},
          "execution_count": 30
        }
      ]
    },
    {
      "cell_type": "code",
      "source": [
        "resumes = extract_resumes_from_book(\"/content/resume_book_2023_courant.pdf\", skip_pages = [1,2,3])"
      ],
      "metadata": {
        "colab": {
          "base_uri": "https://localhost:8080/"
        },
        "id": "JwknPC7206sC",
        "outputId": "36f5c703-64dd-444b-cad4-5a4ac6748590"
      },
      "execution_count": 31,
      "outputs": [
        {
          "output_type": "stream",
          "name": "stderr",
          "text": [
            "\u001b[32m2023-05-09 14:07:27.932\u001b[0m | \u001b[34m\u001b[1mDEBUG   \u001b[0m | \u001b[36m__main__\u001b[0m:\u001b[36mextract_resumes_from_book\u001b[0m:\u001b[36m18\u001b[0m - \u001b[34m\u001b[1m[(0, '/content/resume_book_2023_courant.pdf')]\u001b[0m\n"
          ]
        }
      ]
    },
    {
      "cell_type": "code",
      "source": [
        "resumes[0], resumes[1], resumes[2], resumes[3], resumes[4]"
      ],
      "metadata": {
        "colab": {
          "base_uri": "https://localhost:8080/"
        },
        "id": "YGl-R2M_1qes",
        "outputId": "3c657818-9adc-48ab-8eb6-0dd9717138af"
      },
      "execution_count": 33,
      "outputs": [
        {
          "output_type": "execute_result",
          "data": {
            "text/plain": [
              "((0, '/content/resume_book_2023_courant.pdf'),\n",
              " (1, 'RESUME BOOK\\nCLASS OF 2023'),\n",
              " (5,\n",
              "  'RUIZE CHEN  \\n(585) 540-6418 // ruize.chen@nyu.edu  // linkedin.com/in/ ruize-chen  \\nEDUCATION  \\nExpected 12/23 NEW YORK UNIVERSITY                 New York, NY \\nThe Courant Institute of Mathematical Sciences \\nM.S. in Mathematics in Finance \\n● Expected Coursework:  object-oriented programming (Java), stochastic calculus, Brownian motion, \\nFama-French, Black-Scholes, risk and portfolio management , data-driven modeling \\n08/18 - 05/22 UNIVERSITY OF ROCHESTER                               Rochester, NY \\n  B.A. in Mathematics and Statistics & B.S in Finance \\n● Coursework:  linear algebra, ordinary differential equations, real analysis, stochastic processes, \\nprobability theory, linear regression, mean-variance optimization, corporate finance \\n● Honors/Awards:  Dean’s List (3 years), Cum Laude, Beta Gamma Sigma Honor Society \\nEXPERIENCE  \\n06/21 - 08/21 NORTHEAST SECURITIES              Shenzhen, China  \\n(Top 25 Chinese securities firm)  \\nQuantitative Research Intern   \\n● Identified factors, from firm’s database, that better predicted stock returns, by calculating  \\ninformation coefficients (i.e., correlation between factor value and stock yield) \\n● Constructed new stock selection factors using principal component and cluster analyses \\n● Applied Python to carry out web crawler for acquiring Chinese real estate data (e.g., construction  \\narea, floor area ratio) to support research on future housing trends; stored data using MongoDB \\n● Preprocessed acquired data with log transformation and performed exploratory data analysis and \\ngraphed time series plots to examine housing construction patterns over past 10 years \\n01/21 - 02/21 INDUSTRIAL SECURITIES                    Guangzhou, China \\n(Top 7 Chinese securities firm) \\nQuantitative Research Intern  \\n● Employed quantitative stock selection methodology to healthcare stocks \\n● Reproduced factor construction process with random forest model to extract most influential ones; \\nbuilt linear model based on selected factors \\n● Achieved annualized returns of 28% and Sharpe ratio of 1.5 from derived factor model  \\nPROJECTS  \\n04/22 - 05/22 UNIVERSITY OF ROCHESTER                  Rochester, NY \\nStudy on Factors Affecting Likelihood of Having Heart Disease (Python) \\n● Built logistic regression, random forest, and artificial neural network via NumPy, pandas, and  \\nscikit-learn packages to explore possible impact of factors such as blood pressure \\n● Evaluated performance of each model and achieved recall of 97% \\n04/21 - 05/21 Optimal Risk and Return Portfolio Construction (Excel)  \\n● Collected 60 years’ monthly returns of 3 types of Fama-French risky assets; measured their  \\nvariances, covariances, and correlations to derive mean-variance efficient portfolios \\n● Created CAPM linear regression model in Excel; evaluated excess return rate and influential  \\ndegree brought by the 3 Fama-French assets \\n03/21 - 04/21 Analysis of Rochester Housing Market (R)  \\n● Performed linear regression, stepwise regression, ANOVA test, and Tukey’s HSD test to  \\nexamine how factors (e.g., architectural style, location) could affect Rochester home sales  \\nprices; utilized ggplot2 package to create statistical plots \\n● Derived best fit linear model with metrics including AIC and R-squared; constructed confidence  \\nand prediction intervals \\nCOMPUTATIONAL SKILLS / OTHER  \\nProgramming Languages:  Java, Python, R, VBA, Excel, Tableau, MongoDB \\nLanguages: English (fluent), Mandarin (native), Cantonese (native), German (intermediate) '),\n",
              " (6,\n",
              "  'Y O N G Y A O  C H E N ,  F R M\\n(201) 286-8485 //\\nyongyao.chen@nyu.edu\\n//\\nlinkedin.com/in/yongyao-chen\\nE D U C A T I O N\\nExpected 12/23\\nNEW YORK UNIVERSITY\\nNew York, NY \\nThe Courant Institute of Mathematical Sciences \\nM.S. in Mathematics in Finance \\n●\\nExpected Coursework:\\nstochastic calculus, time series\\nanalysis, scientific computing, risk and \\nportfolio management, dynamic asset pricing, algorithmic trading, equity derivatives\\n08/16 - 06/20\\nNANYANG TECHNOLOGICAL UNIVERSITY\\nSingapore \\nB.ENG. in Electrical and Electronic Engineering \\n●\\nCoursework:\\nlinear algebra, probability & statistics,\\nnumerical methods, differential equations, \\ndata structure & algorithms, intelligent system design, business finance, accounting fundamentals \\n●\\nGraduated with Honors (Highest Distinction)\\n02/18 - 07/18\\nÉCOLE POLYTECHNIQUE FÉDÉRALE DE LAUSANNE\\n(EPFL)\\nLausanne, Switzerland \\nSemester Exchange \\n●\\nAward:\\nExchange Student Scholarship\\nE X P E R I E N C E\\nJPMORGAN CHASE & CO.\\nSingapore \\n09/20 - 07/22\\nAnalyst, Software Engineer\\n(Asset and\\nWealth Management) \\n●\\nCreated data-centric investment technology that facilitates portfolio management and trading \\ndecisions for private bank’s internal investors and financial advisors \\n●\\nContributed to development of new global strategic data framework that consolidates and \\nprocesses data from all accounting systems, using big data, cloud, and automation technologies \\n●\\nExpanded portfolio analytics space with new features (e.g., trending trades analysis, large cash \\nposition indicator, overdraft alert, client service communication, morning briefs, trade idea feeds) \\n●\\nDesigned and implemented novel automated monitoring system surveying data pipelines; it now \\nserves as primary platform for service-line agreement management internationally \\n06/19 - 08/19\\nSummer\\nAnalyst, Software Engineer\\n(Corporate\\nand Investment Banking) \\n●\\nCollaborated with London commodities team to develop new Python-based software for base \\nmetal post-trade customer information maintenance in firm’s cross-asset platform, Athena \\n●\\nAccelerated legacy system decommissions, saving time and effort as well as reducing expenses\\nERNST & YOUNG SOLUTIONS LLP\\nSingapore \\n01/19 - 05/19\\nIT Advisory Intern \\n●\\nFacilitated business design, implementation, and data migration of Sales & Distribution module \\nin largest global SAP S/4HANA ERP project at EY Singapore in 2019 for client, DyStar Group \\n●\\nConducted international localization workshops for franchises in 8 countries; communicated \\nbusiness demands with key stakeholders and produced requirement traceability matrices\\nP R O J E C T\\n08/19 - 04/20\\nNANYANG TECHNOLOGICAL UNIVERSITY\\nSingapore \\nOnboard 3D SLAM for AGV Localization\\n- With Delta\\nElectronics, Inc.\\n(C++, Linux) \\n●\\nDesigned Simultaneous Localization and Mapping (SLAM) system for automated guided\\nvehicles (AGVs), addressing dangers of human-robot collisions and human interference during\\nrobot positioning process in dynamic environments such as modern warehouses\\n●\\nProposed human classifier in complex 3D point clouds utilizing anthropometric geometry and\\nsupport vector machine model; implemented system with ROS in C++ in Linux environment\\nC O M P U T A T I O N A L  S K I L L S  /  O T H E R\\nProgramming Languages:\\nJava, Python, SCALA, C++, SQL,\\nUnix Shell \\nLanguages:\\nEnglish (fluent); Mandarin (native); Japanese\\nand French (elementary) \\nAffiliations/Certifications:\\nCertified Financial Risk\\nManager (FRM); Passed CFA Exam Level II (November 2021) \\nActivities:\\nNTU Chinese Orchestra, Two-String Fiddle\\nPerformer (Singapore, Taipei); Singapore Marathon (2017, 2019)'),\n",
              " (7,\n",
              "  'Z E L I N  D I N G\\n(814) 699-1810 //\\nzelin.ding@nyu.edu\\n//\\nlinkedin.com/in/zelin-ding/\\nE D U C A T I O N\\nExpected 12/23\\nNEW YORK UNIVERSITY\\nNew York, NY\\nThe Courant Institute of Mathematical Sciences\\nM.S. in Mathematics in Finance \\n●\\nExpected Coursework:\\nobject-oriented programming (Java),\\nBlack-Scholes, decision trees, linear\\nregression, stochastic processes, Monte Carlo method, data-driven modeling\\n08/18 - 05/22\\nPENN STATE UNIVERSITY\\nUniversity Park, PA\\nDual B.S. in Computational Statistic and Applied Mathematics \\n●\\nCoursework:\\ncalculus III, linear algebra, probabilities,\\nordinary differential equations, partial\\ndifferential equations, real analysis, time series analysis, Bayesian statistics, programming in R,\\nPython, Java and C++, data structure and algorithms, dynamic programming \\n●\\nHonors/Awards:\\nDean’s List for 7 semesters\\nE X P E R I E N C E\\n06/21 - 07/21\\nCHINA SECURITIES\\nBeijing, China\\nInvestment Banking Intern \\n●\\nConducted enterprise risk assessments for clients of Nanjing Metro from qualitative and\\nquantitative perspectives \\n●\\nPerformed due diligence to obtain comprehensive understanding of Nanjing Metro’s capital\\nstructure and credit risk \\n●\\nCalculated credit rating scores with China Securities’ model, using financial statistics such as\\nquick and working capital ratios for client companies \\n●\\nDeveloped KMV rating model, calibrated by historical default data of Chinese corporate bonds\\nover prior 5-year period; estimated probability of defaults and mapped to ratings buckets\\n03/21 - 06/21\\nHUAXI SECURITIES\\nShanghai, China\\nIndustry Research Intern \\n●\\nMonitored Chinese electronics industry business and financial news; produced daily reports by\\nquantifying effect of industry events on financial markets \\n●\\nWrote reports after completing in-depth analysis of semiconductor and electronics industry,\\nincluding deep dive into its current state and future trends \\n●\\nLed company and industry analysis for Chinese GPU sector; compared profitability and market\\nshares of leading companies; generated graphs to visualize research conclusions\\nP R O J E C T\\n09/21 - 11/21\\nMORGAN STANLEY\\nNew York, NY (remote)\\nQuantitative Research (Python) \\n●\\nAnalyzed SPY and risk-on/risk-off US sector ETFs’ correlations and dynamic co-movements\\nusing Pearson and Spearman correlations and ML algorithms (linear regression, cluster analysis) \\n●\\nEvaluated risk attributes of selected ETFs by studying their historical volatility \\n●\\nDesigned quantitative trading strategy that used risk attributes of each selected ETF by allocating\\nto different sectors under various market scenarios and volatile regimes \\n●\\nBacktested strategy over 20 years of data; achieved 7.2% annualized return and 0.4 Sharpe ratio,\\nbenchmarked against SPY\\nC O M P U T A T I O N A L  S K I L L S  /  O T H E R\\nProgramming Languages:\\nPython (Numpy, Pandas, Statsmodels,\\nSklearn, Tensorflow), R, Java, C++\\nLanguages:\\nEnglish (fluent), Mandarin (native)\\nInterests:\\nHonor of Kings multiplayer online battle\\narena game (ranked top 10 of 100M contestants in Season 11)'))"
            ]
          },
          "metadata": {},
          "execution_count": 33
        }
      ]
    },
    {
      "cell_type": "code",
      "source": [
        "resumes.pop() #delete the last page as it is not a resume"
      ],
      "metadata": {
        "colab": {
          "base_uri": "https://localhost:8080/"
        },
        "id": "kVh1MWJh2czU",
        "outputId": "70ade176-96b0-405e-fee6-bf655642b731"
      },
      "execution_count": 36,
      "outputs": [
        {
          "output_type": "execute_result",
          "data": {
            "text/plain": [
              "(36,\n",
              " 'THE MOST ASTUTE. THE MOST CAPABLE. THE MOST PREPARED.\\nOUR STUDENTS ARE READY \\nTO GET WORK.\\nConnect with the students directly, or contact  \\nMathFin’s Office of Career Services at:  \\ncims-mathfin-careerservices@nyu.edu')"
            ]
          },
          "metadata": {},
          "execution_count": 36
        }
      ]
    },
    {
      "cell_type": "markdown",
      "source": [
        "## Can extract the names by doing regex up to the first new line, and then changing two+ spaces to an underscore, then getting rid of all other spaces."
      ],
      "metadata": {
        "id": "ZrakpreN4GRS"
      }
    },
    {
      "cell_type": "code",
      "source": [
        "resumes "
      ],
      "metadata": {
        "colab": {
          "base_uri": "https://localhost:8080/"
        },
        "id": "u-IJSvm53A8H",
        "outputId": "f3ee93b3-209a-4f0e-845b-f190cf73bf3a"
      },
      "execution_count": 37,
      "outputs": [
        {
          "output_type": "execute_result",
          "data": {
            "text/plain": [
              "[(0, '/content/resume_book_2023_courant.pdf'),\n",
              " (1, 'RESUME BOOK\\nCLASS OF 2023'),\n",
              " (5,\n",
              "  'RUIZE CHEN  \\n(585) 540-6418 // ruize.chen@nyu.edu  // linkedin.com/in/ ruize-chen  \\nEDUCATION  \\nExpected 12/23 NEW YORK UNIVERSITY                 New York, NY \\nThe Courant Institute of Mathematical Sciences \\nM.S. in Mathematics in Finance \\n● Expected Coursework:  object-oriented programming (Java), stochastic calculus, Brownian motion, \\nFama-French, Black-Scholes, risk and portfolio management , data-driven modeling \\n08/18 - 05/22 UNIVERSITY OF ROCHESTER                               Rochester, NY \\n  B.A. in Mathematics and Statistics & B.S in Finance \\n● Coursework:  linear algebra, ordinary differential equations, real analysis, stochastic processes, \\nprobability theory, linear regression, mean-variance optimization, corporate finance \\n● Honors/Awards:  Dean’s List (3 years), Cum Laude, Beta Gamma Sigma Honor Society \\nEXPERIENCE  \\n06/21 - 08/21 NORTHEAST SECURITIES              Shenzhen, China  \\n(Top 25 Chinese securities firm)  \\nQuantitative Research Intern   \\n● Identified factors, from firm’s database, that better predicted stock returns, by calculating  \\ninformation coefficients (i.e., correlation between factor value and stock yield) \\n● Constructed new stock selection factors using principal component and cluster analyses \\n● Applied Python to carry out web crawler for acquiring Chinese real estate data (e.g., construction  \\narea, floor area ratio) to support research on future housing trends; stored data using MongoDB \\n● Preprocessed acquired data with log transformation and performed exploratory data analysis and \\ngraphed time series plots to examine housing construction patterns over past 10 years \\n01/21 - 02/21 INDUSTRIAL SECURITIES                    Guangzhou, China \\n(Top 7 Chinese securities firm) \\nQuantitative Research Intern  \\n● Employed quantitative stock selection methodology to healthcare stocks \\n● Reproduced factor construction process with random forest model to extract most influential ones; \\nbuilt linear model based on selected factors \\n● Achieved annualized returns of 28% and Sharpe ratio of 1.5 from derived factor model  \\nPROJECTS  \\n04/22 - 05/22 UNIVERSITY OF ROCHESTER                  Rochester, NY \\nStudy on Factors Affecting Likelihood of Having Heart Disease (Python) \\n● Built logistic regression, random forest, and artificial neural network via NumPy, pandas, and  \\nscikit-learn packages to explore possible impact of factors such as blood pressure \\n● Evaluated performance of each model and achieved recall of 97% \\n04/21 - 05/21 Optimal Risk and Return Portfolio Construction (Excel)  \\n● Collected 60 years’ monthly returns of 3 types of Fama-French risky assets; measured their  \\nvariances, covariances, and correlations to derive mean-variance efficient portfolios \\n● Created CAPM linear regression model in Excel; evaluated excess return rate and influential  \\ndegree brought by the 3 Fama-French assets \\n03/21 - 04/21 Analysis of Rochester Housing Market (R)  \\n● Performed linear regression, stepwise regression, ANOVA test, and Tukey’s HSD test to  \\nexamine how factors (e.g., architectural style, location) could affect Rochester home sales  \\nprices; utilized ggplot2 package to create statistical plots \\n● Derived best fit linear model with metrics including AIC and R-squared; constructed confidence  \\nand prediction intervals \\nCOMPUTATIONAL SKILLS / OTHER  \\nProgramming Languages:  Java, Python, R, VBA, Excel, Tableau, MongoDB \\nLanguages: English (fluent), Mandarin (native), Cantonese (native), German (intermediate) '),\n",
              " (6,\n",
              "  'Y O N G Y A O  C H E N ,  F R M\\n(201) 286-8485 //\\nyongyao.chen@nyu.edu\\n//\\nlinkedin.com/in/yongyao-chen\\nE D U C A T I O N\\nExpected 12/23\\nNEW YORK UNIVERSITY\\nNew York, NY \\nThe Courant Institute of Mathematical Sciences \\nM.S. in Mathematics in Finance \\n●\\nExpected Coursework:\\nstochastic calculus, time series\\nanalysis, scientific computing, risk and \\nportfolio management, dynamic asset pricing, algorithmic trading, equity derivatives\\n08/16 - 06/20\\nNANYANG TECHNOLOGICAL UNIVERSITY\\nSingapore \\nB.ENG. in Electrical and Electronic Engineering \\n●\\nCoursework:\\nlinear algebra, probability & statistics,\\nnumerical methods, differential equations, \\ndata structure & algorithms, intelligent system design, business finance, accounting fundamentals \\n●\\nGraduated with Honors (Highest Distinction)\\n02/18 - 07/18\\nÉCOLE POLYTECHNIQUE FÉDÉRALE DE LAUSANNE\\n(EPFL)\\nLausanne, Switzerland \\nSemester Exchange \\n●\\nAward:\\nExchange Student Scholarship\\nE X P E R I E N C E\\nJPMORGAN CHASE & CO.\\nSingapore \\n09/20 - 07/22\\nAnalyst, Software Engineer\\n(Asset and\\nWealth Management) \\n●\\nCreated data-centric investment technology that facilitates portfolio management and trading \\ndecisions for private bank’s internal investors and financial advisors \\n●\\nContributed to development of new global strategic data framework that consolidates and \\nprocesses data from all accounting systems, using big data, cloud, and automation technologies \\n●\\nExpanded portfolio analytics space with new features (e.g., trending trades analysis, large cash \\nposition indicator, overdraft alert, client service communication, morning briefs, trade idea feeds) \\n●\\nDesigned and implemented novel automated monitoring system surveying data pipelines; it now \\nserves as primary platform for service-line agreement management internationally \\n06/19 - 08/19\\nSummer\\nAnalyst, Software Engineer\\n(Corporate\\nand Investment Banking) \\n●\\nCollaborated with London commodities team to develop new Python-based software for base \\nmetal post-trade customer information maintenance in firm’s cross-asset platform, Athena \\n●\\nAccelerated legacy system decommissions, saving time and effort as well as reducing expenses\\nERNST & YOUNG SOLUTIONS LLP\\nSingapore \\n01/19 - 05/19\\nIT Advisory Intern \\n●\\nFacilitated business design, implementation, and data migration of Sales & Distribution module \\nin largest global SAP S/4HANA ERP project at EY Singapore in 2019 for client, DyStar Group \\n●\\nConducted international localization workshops for franchises in 8 countries; communicated \\nbusiness demands with key stakeholders and produced requirement traceability matrices\\nP R O J E C T\\n08/19 - 04/20\\nNANYANG TECHNOLOGICAL UNIVERSITY\\nSingapore \\nOnboard 3D SLAM for AGV Localization\\n- With Delta\\nElectronics, Inc.\\n(C++, Linux) \\n●\\nDesigned Simultaneous Localization and Mapping (SLAM) system for automated guided\\nvehicles (AGVs), addressing dangers of human-robot collisions and human interference during\\nrobot positioning process in dynamic environments such as modern warehouses\\n●\\nProposed human classifier in complex 3D point clouds utilizing anthropometric geometry and\\nsupport vector machine model; implemented system with ROS in C++ in Linux environment\\nC O M P U T A T I O N A L  S K I L L S  /  O T H E R\\nProgramming Languages:\\nJava, Python, SCALA, C++, SQL,\\nUnix Shell \\nLanguages:\\nEnglish (fluent); Mandarin (native); Japanese\\nand French (elementary) \\nAffiliations/Certifications:\\nCertified Financial Risk\\nManager (FRM); Passed CFA Exam Level II (November 2021) \\nActivities:\\nNTU Chinese Orchestra, Two-String Fiddle\\nPerformer (Singapore, Taipei); Singapore Marathon (2017, 2019)'),\n",
              " (7,\n",
              "  'Z E L I N  D I N G\\n(814) 699-1810 //\\nzelin.ding@nyu.edu\\n//\\nlinkedin.com/in/zelin-ding/\\nE D U C A T I O N\\nExpected 12/23\\nNEW YORK UNIVERSITY\\nNew York, NY\\nThe Courant Institute of Mathematical Sciences\\nM.S. in Mathematics in Finance \\n●\\nExpected Coursework:\\nobject-oriented programming (Java),\\nBlack-Scholes, decision trees, linear\\nregression, stochastic processes, Monte Carlo method, data-driven modeling\\n08/18 - 05/22\\nPENN STATE UNIVERSITY\\nUniversity Park, PA\\nDual B.S. in Computational Statistic and Applied Mathematics \\n●\\nCoursework:\\ncalculus III, linear algebra, probabilities,\\nordinary differential equations, partial\\ndifferential equations, real analysis, time series analysis, Bayesian statistics, programming in R,\\nPython, Java and C++, data structure and algorithms, dynamic programming \\n●\\nHonors/Awards:\\nDean’s List for 7 semesters\\nE X P E R I E N C E\\n06/21 - 07/21\\nCHINA SECURITIES\\nBeijing, China\\nInvestment Banking Intern \\n●\\nConducted enterprise risk assessments for clients of Nanjing Metro from qualitative and\\nquantitative perspectives \\n●\\nPerformed due diligence to obtain comprehensive understanding of Nanjing Metro’s capital\\nstructure and credit risk \\n●\\nCalculated credit rating scores with China Securities’ model, using financial statistics such as\\nquick and working capital ratios for client companies \\n●\\nDeveloped KMV rating model, calibrated by historical default data of Chinese corporate bonds\\nover prior 5-year period; estimated probability of defaults and mapped to ratings buckets\\n03/21 - 06/21\\nHUAXI SECURITIES\\nShanghai, China\\nIndustry Research Intern \\n●\\nMonitored Chinese electronics industry business and financial news; produced daily reports by\\nquantifying effect of industry events on financial markets \\n●\\nWrote reports after completing in-depth analysis of semiconductor and electronics industry,\\nincluding deep dive into its current state and future trends \\n●\\nLed company and industry analysis for Chinese GPU sector; compared profitability and market\\nshares of leading companies; generated graphs to visualize research conclusions\\nP R O J E C T\\n09/21 - 11/21\\nMORGAN STANLEY\\nNew York, NY (remote)\\nQuantitative Research (Python) \\n●\\nAnalyzed SPY and risk-on/risk-off US sector ETFs’ correlations and dynamic co-movements\\nusing Pearson and Spearman correlations and ML algorithms (linear regression, cluster analysis) \\n●\\nEvaluated risk attributes of selected ETFs by studying their historical volatility \\n●\\nDesigned quantitative trading strategy that used risk attributes of each selected ETF by allocating\\nto different sectors under various market scenarios and volatile regimes \\n●\\nBacktested strategy over 20 years of data; achieved 7.2% annualized return and 0.4 Sharpe ratio,\\nbenchmarked against SPY\\nC O M P U T A T I O N A L  S K I L L S  /  O T H E R\\nProgramming Languages:\\nPython (Numpy, Pandas, Statsmodels,\\nSklearn, Tensorflow), R, Java, C++\\nLanguages:\\nEnglish (fluent), Mandarin (native)\\nInterests:\\nHonor of Kings multiplayer online battle\\narena game (ranked top 10 of 100M contestants in Season 11)'),\n",
              " (8,\n",
              "  'I O N K E N G\\nH O\\n(626) 244-9700\\n//\\nionkengho@nyu.edu\\n//\\nlinkedin.com/in/ionkengho\\nE D U C A T I O N\\nExpected 12/23\\nNEW YORK UNIVERSITY\\nNew York, NY\\nThe Courant Institute of Mathematical Sciences\\nM.S. in Mathematics in Finance \\n●\\nExpected Coursework:\\nCurrency Derivatives, Interest\\nRate Models, Convex Optimization,\\nMarkowitz theory, Time Series, Credit Modeling, Almgren-Chriss, Black–Litterman–Bayes\\n09/18 - 06/22\\nUNIVERSITY OF CALIFORNIA SANTA BARBARA\\nSanta Barbara, CA\\nB.S. in Physics and B.S. in Financial Math & Statistics \\n●\\nCoursework:\\nmultivariable calculus,\\nprobability and\\nstatistics,\\nlinear algebra,\\nODE&PDEs,\\ncomplex analysis, numerical methods, regression, stochastic process, machine learning \\n●\\nHonors/Awards:\\nHonors (Top 8% GPA in College of Letters\\nand Science)\\nE X P E R I E N C E\\n01/22 - 03/22\\nUNIVERSITY OF CALIFORNIA SANTA BARBARA\\nSanta Barbara, CA\\nLearning Assistant, Special Relativity Class \\n●\\nHeld weekly office hours to answer students’ questions about course material and homework;\\ngraded 30 assignments and exams \\n●\\nDiscussed students’ performance with professor; participated in selecting homework problems\\n08/21 - 09/21\\nSHENZHEN TENGYIN INFORMATION CONSULTING\\nShenzhen, China\\nNews Department Assistant \\n●\\nResearched financial news daily; drafted 20 morning briefings to customers by summarizing\\nnews and predicting how it may affect global markets \\n●\\nOrganized and analyzed provincial government debt data; wrote comprehensive report on local\\ngovernments’ financial conditions for inclusion in company publication\\nP R O J E C T S\\n09/22 - 12/22\\nNEW YORK UNIVERSITY\\nNew York, NY\\nPricing an Exotic Option using Hull-White Model\\n(Python) \\n●\\nRetrieved past data of variables that define the option (e.g. Nikkei-225 index, USD LIBOR rate,\\nUS 10Y Treasury) using FRED API \\n●\\nDerived dynamics of Nikkei index, forward rate, and risk free rate and calculated parameters of\\nthe model using past data and calibration of the Hull-White Model \\n●\\nBuilt an automated program that visualizes predictions of future data (e.g. the Nikkei index) and\\noutputs the option price given inputs (e.g. relative strike prices, maturity date, settlement date)\\n04/22 - 06/22\\nUNIVERSITY OF CALIFORNIA SANTA BARBARA\\nSanta Barbara, CA\\nSolving Acoustic Wave Equations Using Crank-Nicolson Method\\n(Python) \\n●\\nProved stability of Crank-Nicolson Method; used it to write simulation of wave equation into\\nlinear system of equations in lexicographical order \\n●\\nApplied ADI algorithm to solve the linear system; obtained approximate solution, which\\nachieved less than 1% deviation from exact solution\\n09/21 - 12/21\\nApplying Machine Learning in\\nFinding Relationships Between Poverty and Education Level\\n(R)\\n●\\nPruned data from United States county-level census and education using PCA to 12 PCs while\\ncapturing 90% of variance \\n●\\nApplied decision tree and logistic regression to pruned data; observed that poverty level of\\ncounties was strongly related to number of people who had less than a high school diploma \\n●\\nUsed cross-validation to optimize parameters used in above models; reduced test mean square\\nerror by 20%\\nC O M P U T A T I O N A L  S K I L L S  /  O T H E R\\nProgramming Languages:\\nJava, Python, R\\nLanguages:\\nEnglish (fluent), Cantonese (native), Mandarin\\n(native)\\nActivities:\\n2018 International Physics Olympiad Macau\\nTeam; won 4th place in UCSB poker tournament'),\n",
              " (9,\n",
              "  'S A M A R  H O L K A R\\n(551) 344-6954 //\\nsamar.holkar@nyu.edu\\n//\\nlinkedin/samarholkar\\nE D U C A T I O N\\nExpected 12/23\\nNEW YORK UNIVERSITY\\nNew York,\\nNY \\nThe Courant Institute of Mathematical Sciences \\nM.S. in Mathematics in Finance \\n●\\nExpected Coursework:\\nobject oriented programming in\\nfinance, portfolio optimization, \\nderivatives pricing, econometrics, machine learning\\n08/13 - 05/17\\nINDIAN INSTITUTE OF TECHNOLOGY ROORKEE\\nRoorkee, India \\nB.Tech. in Computer Science and Engineering (awarded 09/17) \\n●\\nCoursework:\\nprobability (basics), linear algebra,\\nmachine learning, multi-variable calculus \\nand differential equations \\n●\\nHonors/Awards:\\nMCM (Merit-Cum-Means) Scholarship for\\nExemplary Performance (99.9 \\npercentile) in All India IIT Joint Entrance Examination\\nE X P E R I E N C E\\n04/19 - 06/22\\nGOLDMAN SACHS\\nBangalore, India \\nAssociate - Quantitative Strategist \\n●\\nModeled initial margin for U.S. equity derivatives flow desk’s portfolio, resulting in 14% \\nreduction in overall margin postings \\n●\\nCalibrated 5-day 99.7% GAP risk calculation for option hedges to offer clients optimal \\nmargins on their portfolios \\n●\\nCalculated credit risk benchmarks for U.S. equity derivatives clients trading single stock \\nportfolios using different strategies \\n●\\nStructured corporate trade models to optimize collateral and margin constraints for clients \\n●\\nOptimized CVA capital risk for clients, resulting in reduction in attributed equity (capital \\nconstraint) by about 4%\\n06/17 - 04/19\\nPAYTM\\nNew Delhi, India \\n(E-commerce and utility startup) \\nSoftware Engineer \\n●\\nBuilt language translation engine that accommodated 11 languages, enhancing user \\nexperience through interactive design flow \\n●\\nCreated rule-based engine that standardized product names, streamlining operational design, \\nas well as cutting expenses and time-intensive manual operations\\nP R O J E C T S\\n08/16 - 02/17\\nINDIAN INSTITUTE OF TECHNOLOGY ROORKEE\\nRoorkee, India \\nText-Image Synthesis with Uni-Skip Vectors (Python, Deep Learning) \\n●\\nUsed natural language understanding; designed model that learned image generation from \\ntext data with 1M-word vocabulary, producing high-level generic sentence representations \\n●\\nImproved model by employing distributed text encoder conditioned with generative \\nadversarial modeling to produce visual representations\\n04/16 - 05/16\\nINDIAN INSTITUTE OF TECHNOLOGY ROORKEE\\nRoorkee, India \\nObject Identification from Visual Data (Python) \\n●\\nFollowed hypothesis to optimize hyperparameters such as receptive fields and feature maps \\nto improve invariance and filtering in convolutional neural net architecture\\nC O M P U T A T I O N A L  S K I L L S  /  O T H E R\\nProgramming Languages:\\nC/C++, Python, Javascript,\\nSlang \\nLanguages:\\nEnglish (fluent), Hindi (native) \\nCertifications (Coursera):\\nFinancial Markets\\n,\\nIntroduction\\nof Financial Engineering and Risk Management\\n, \\nStatistics with Python\\n,\\nNumerical Methods \\nInterests:\\nProgramming (ranked top-4th percentile\\nin ACM ICPC), Public Speaking (President of GS Toastmasters)'),\n",
              " (10,\n",
              "  'J I A M I N G  H U\\n(617) 888-3569 //\\njiaming.hu@nyu.edu\\n//\\nlinkedin.com/in/jiaming-hu\\nE D U C A T I O N\\nExpected 12/23\\nNEW YORK UNIVERSITY\\nNew York, NY\\nThe Courant Institute of Mathematical Sciences\\nM.S. in Mathematics in Finance \\n●\\nExpected Coursework:\\nobjective-oriented programming\\n(Java), data-driven modeling in Python,\\nstochastic calculus, time series analysis, derivatives pricing, Fama-French, Monte Carlo\\nsimulation, portfolio optimization\\n09/18 - 05/22\\nNORTHEASTERN UNIVERSITY\\nBoston, MA\\nB.S. in Data Science & Mathematics \\n●\\nCoursework:\\nmultivariate calculus, linear algebra,\\nordinary differential equations, law of large\\nnumbers, Markov chain, numerical analysis, supervised/unsupervised machine learning, database\\ndesign (SQL and No-SQL), options pricing (binomial and Black-Scholes) \\n●\\nHonors/Awards:\\nCum Laude\\nE X P E R I E N C E\\n08/21 - 12/21\\nMOYI TECH\\nNew York,\\nNY \\n(Fintech company that automates market research and data analysis)\\nQuantitative Research Intern (Python) \\n●\\nConducted industry research on technology and financial sectors in US market \\n●\\nResearched quantitative aspects of financial crises to predict future ones by analyzing\\ntransactions and other historical financial metrics (e.g., GDP growth rate, real interest rate) \\n●\\nUsed existing full-fledged quantitative trading packages such as VNPY to perform backtesting,\\nand simulated live trading on proposed strategies using Python; analyzed and reported results\\nP R O J E C T S\\n01/21 - 04/21\\nNORTHEASTERN UNIVERSITY\\nBoston, MA\\nLoan Default Predictor (Machine Learning, Python) \\n●\\nCollected historical loan application data and performed PCA to reduce dimensionality \\n●\\nDeveloped probability-based Bayesian classification model to determine whether to issue loans \\n●\\nApplied linear and non-linear regression models to predict loan amount to be issued \\n●\\nPerformed cross-validation, and evaluated different models’ performance by interpreting R\\n2\\n,\\nRMSE, and profits under pre-set conditions (e.g., APR, default duration) \\n●\\nTranslated statistical results into business insights and created visualized dashboard in Tableau\\n07/20 - 10/20\\nOptions Pricing and CBOE Options Market\\nEfficiency (Python)\\n●\\nDetected $1M in arbitrage opportunities due to options mispricing; tested boundary condition\\nviolations, call-put-parity, and Black-Scholes model using Python \\n●\\nAnalyzed arbitrage by applying Black-Scholes model with delta-neutral strategy in different time\\nperiods and assessed its feasibility\\nC O M P U T A T I O N A L  S K I L L S  /  O T H E R\\nProgramming Languages:\\nPython (Numpy, Pandas, Scikit-learn,\\nMatplotlib), Java, SQL, R\\nLanguages:\\nEnglish (fluent), Mandarin (native)\\nPublication:\\nOption Mispricing & Arbitrage Opportunity\\n,\\nICSET 2021 Taiwan\\nActivities:\\nDiscrete Structure Teaching Assistant\\nat Northeastern University'),\n",
              " (11,\n",
              "  \"Y U E  ( R A Y )  H U\\n(551) 349-5568 //\\nrayhu@nyu.edu\\n//\\nlinkedin.com/in/yue-hu-ray\\nE D U C A T I O N\\nExpected 12/23\\nNEW YORK UNIVERSITY\\nNew York, NY\\nThe Courant Institute of Mathematical Sciences\\nM.S. in Mathematics in Finance \\n●\\nExpected Coursework:\\nobject-oriented programming (Java),\\nunsupervised learning, time series\\nanalysis, Monte Carlo, derivatives pricing, Fourier analysis, Black-Scholes, stochastic calculus\\n09/17 - 04/22\\nUNIVERSITY OF WATERLOO\\nWaterloo, Canada\\nB.Math. in Mathematical Finance \\n●\\nCoursework:\\nlinear algebra, partial differential equations,\\nItô's lemma, real analysis, Bayesian\\nstatistics, CAPM, WACC, options, data structure (Python), stochastic processes, linear regression \\n●\\nHonors:\\nDean’s Honors (top 5% of GPA in department),\\nPresident’s Scholarship\\nE X P E R I E N C E\\n03/22 - 04/22\\nCITIC SECURITIES\\nShenzhen, China (remote)\\nEquity Research Analyst Intern \\n●\\nAnalyzed target companies’ financial statements and industries’ business cycles and future trends \\n●\\nMade predictions in new-generation education industry (e.g., AI and new vocational learning)\\n09/21 - 12/21\\nAVIVA CANADA\\n(2nd largest property and casualty insurance company in Canada)\\nToronto, Canada\\nActuarial Intern, Group and High Net Worth \\n●\\nProvided actuarial pricing for high-net-worth clients with properties valued at more than $50M \\n●\\nDeveloped credit analysis for insurance brokers to determine whether to apply more risk factors \\n●\\nImproved efficiency of pricing tools built in Excel by 30% through automation and optimization \\n●\\nConsolidated group case database, with over 10K observations and 500K features, in Python \\n●\\nDrafted tier analysis for top corporate entities; prepared and presented rate adjustment strategies\\n09/20 - 12/20\\nGORE MUTUAL INSURANCE COMPANY\\n(Oldest property and casualty insurance company in Canada)                                                                 Cambridge, Canada\\nActuarial Analyst, Actuarial Transformation and Operations \\n●\\nRevamped rating structure model to transform actuarial pricing process from flat to multi-stage \\n●\\nRenovated data retrieving process with SQL and VBA; improved data flow efficiency by 40% \\n●\\nCreated reconciliation calculator to fit new modeling structure that replaced old pricing process \\n●\\nDeveloped calculator for underwriting in Excel for privately-owned automobiles in Ontario\\nP R O J E C T S\\n08/21 - 10/21\\nARTIFICIAL INTELLIGENCE FINANCE INSTITUTE\\n(AIFI)\\nNew York, NY\\nImpact of COVID-19 on Perth Housing Prices: A Machine Learning Perspective (Python) \\n●\\nConducted statistical analysis and model validation with TensorFlow and scikit-learn \\n●\\nIdentified several new and original parameters after testing hundreds of transformed ones \\n●\\nApplied CatBoost regression for price forecasting, and difference-in-difference (DID) methods\\nfor impact evaluation \\n●\\nWrote\\nmanuscript\\n(independently) that was published\\nby 7th International Conference on\\nFinancial Innovation and Economic Development (2022)\\n01/21 - 04/21\\nUNIVERSITY OF WATERLOO\\nWaterloo, Canada\\nApplications of Multi-Layer Perceptrons on Time Series Forecasting (R) \\n●\\nExamined real-life applications using MLPs, a class of feedforward artificial neural network \\n●\\nForecasted annual lynx trappings in Canada using efficient ADAM optimization algorithm\\nC O M P U T A T I O N A L  S K I L L S  /  O T H E R\\nProgramming Languages:\\nPython, Java, MATLAB, SQL,\\nR, C#\\nLanguages:\\nEnglish (fluent), Mandarin (native)\\nInterest:\\nChina Flight Simulation Competition (4th\\nplace out of 1K+)\"),\n",
              " (12,\n",
              "  'X I X I A N G  H U\\n(201) 290-3800 //\\nxixianghu@nyu.edu\\n//\\nlinkedin.com/in/xixiang-hu/\\nE D U C A T I O N\\nExpected 12/23\\nNEW YORK UNIVERSITY\\nNew York,\\nNY \\nThe Courant Institute of Mathematical Sciences \\nM.S. in Mathematics in Finance \\n●\\nExpected Coursework:\\nstochastic processes,\\nBlack-Scholes\\n& Greeks, Hull-White model, \\npenalized regression, linear regression, Fama-French, object-oriented programming (Java)\\n09/21 - 07/22\\nLONDON SCHOOL OF ECONOMICS (LSE)\\nLondon, UK \\nM.S. in Data Science \\n●\\nCoursework:\\ntime series, SVM, random forest, boosting,\\nlasso, ridge regression, principal \\ncomponent analysis, Q-learning, Sarsa, distributed computing\\n09/17 - 06/21\\nSOUTHWESTERN UNIVERSITY OF FINANCE AND\\nECONOMICS\\nChengdu, China \\nB.S. in Computer Science \\n●\\nCoursework:\\ncorporate finance, derivative financial\\ninstruments, Java, database, statistics, \\ndata structures, probability, algorithms, machine learning, linear algebra, Hadoop\\nE X P E R I E N C E\\n07/21 - 09/21\\nCAITONG SECURITY\\nChengdu, China \\nWealth Management Intern \\n●\\nResearched and identified stocks, fixed income, and bond products in China \\n●\\nGathered information about newly developed fund; analyzed it to facilitate sales to clients \\n●\\nProcessed and visualized fund and stock data for further survival analysis and presentation\\n07/19 - 09/19\\nHUAWEI TECHNOLOGIES\\nChengdu,\\nChina \\nProduct Manager and Service Engineer Assistant \\n●\\nCollaborated on 5G base station installation detection and late part signal debugging \\n●\\nCollected and organized signal information; marked poor signal areas and relevant base \\nstations; suggested adjustments for nearby base stations \\n●\\nResearched relevant theories for antenna feeder systems and 5G and technologies like \\nHadoop, Spark, and distributed computing for processing large-scale data\\nP R O J E C T S\\n12/21 - 08/22\\nLSE & SIEMENS ADVANTA CONSULTING\\nLondon, UK \\nInventory Optimization (Python) \\n●\\nApplied ARIMA and ARIMAX time series models and machine learning methods (Prophet, \\nLSTM) to simulate and predict product order demand over forthcoming 3 months \\n●\\nConstructed environment for inventory management process; compared reinforcement \\nlearning methods, DQN and Dueling DQN, to optimize reorder points\\n10/21 - 12/21\\nLONDON SCHOOL OF ECONOMICS\\nLondon, UK \\nMachine Learning Analysis of Songs on Spotify (R) \\n●\\nPreprocessed data, using one-hot encoding and lasso regression to adjust features \\n●\\nUsed logistic regression, random forest, and boosting to explore popularity of each song; \\naccuracy of final result reached 75% \\n●\\nImplemented QDA, KNN, and SVM to classify song genres; achieved 90% accuracy\\nC O M P U T A T I O N A L  S K I L L S  /  O T H E R\\nProgramming Languages:\\nJava, Python, R, C, SQL \\nLanguages:\\nEnglish (fluent), Mandarin (native)'),\n",
              " (13,\n",
              "  'HUA (HANA) JING  \\n(720) 431 -3760 // huahana.jing@nyu.edu  // linkedin.com/in/huahanajing   \\nEDUCATION  \\nExpected 12/23  NEW YORK UNIVERSITY                  New York, NY  \\nThe Courant Institute of Mathematical Sciences  \\nM.S. in Mathematics in Finance  \\nCoursework:  object -oriented programming (Java), regressions & time series, data -driven modeling, \\nportfolio optimization, Black -Scholes, Monte Carlo simulation, stochastic calculus  \\nExpected Coursework:  short  rate model , fx models, scientific computing, trading energy derivatives, \\nsecuritized  products, dynamic asset pricing  \\n08/18 - 05/22  UNIVERSITY OF COLORADO, DENVER          Beijing, China/Denver, CO  \\n  B.S. in Mathematics, B.A. in Economics, Minor in Data Sciences  \\n● Coursework:  ML, regression, probability, real analysis, ODE, linear algebra, econometrics  \\n● Honors/Awards:  Magna Cum Laude, Dean’s List every semester  \\n● Joint Program with China Agricultural University  \\nEXPERIENCE  \\n11/21 - 01/22  HUATAI SECURITIES                                                           Nanjing, China  \\nQuantitative Research Intern (Python)  \\n● Conducted time series analysis, projected crude oil prices for next quarter by aggregating data \\n(e.g., US Dollar Index, inflation expectation, cr ude oil production)  \\n● Used Monte Carlo to implement GBM stochastic pricing model and simulated returns of \\nsnowball autocallable options after identifying their structure  \\n09/20 - 12/20  DELOITTE  CONSULTING                   Beijing, China  \\nResearch Assistant (Python and R)  \\n● Used Python to analyze data to inform decisions about entering/expanding into 12 sub -sectors  \\n● Predicted net income of client’s parent company for forthcoming 5 years with regression in R  \\n01/20 - 03/20  SOOCHOW SECURITIES                   Beijing, China  \\nResearch Intern (Excel)  \\n● Analyzed 50+ communications compan ies by reviewing development budgets, technology \\nadvancement, and potential customers; published report with research results  \\n● Extracted P/E ratios from financial reports; compared fund positions with VLOOKUP  \\nPROJECTS  \\n NEW YORK UNIVERSITY COURANT                              New York, NY  \\n02/23 - Present  Trading WTI Futures (Excel)  \\n● Implemented Carry and Momentum Rolling Strategies on WTI Futures; calculated P&L, \\nmaximum drawdown, RoD; graphed equity line and drawdowns  \\n● Constructed mini -portfolio; optimized parameters with Solver, achieving higher Sharpe ratio  \\n11/22 - 12/22  Interest R ate-Equity Option Pricing (Python)  \\n● Built pricing model for LIBOR -Nikkei -225 hybrid option with Vasicek and Quanto models  \\n● Ran two -factor Monte Carlo; discounted payoff with domestic riskless numeraire to get price  \\nUNIVERSITY OF COLORADO, DENVER                     Denver, CO  \\n03/22 - 04/22  Email Spam Classifier with Machine Learning (Python)  \\n● Preprocessed email text strings using regular expression operations (re); extracted vectorized \\nfeatures; trained SVM for spam classification  \\n02/22 - 05/22  Computational A ccuracy and Efficiency in Solving Partial Differential Equations (Python)  \\n● Built finite difference and close -formed solutions for heat equations; compared speed and \\naccuracy of numerical calculations with GPU and CPU capabilities; depicted errors by grid si ze \\nCOMPUTATIONAL SKILLS / OTHER  \\nTechnical Skills:  Python, Java, R, SQL, LaTeX, Stata, Excel, GIS, Bloomberg  \\nLanguages:  English (fluent),  Mandarin (native)  \\nOther:  Undergraduate Development Economics Research Assistant; Volunteer Leader  '),\n",
              " (14,\n",
              "  'Z H E N Q I  ( H A R R Y )  J I N G\\n201-668-1456 //\\nzhenqi.harry.jing@nyu.edu\\n//\\nlinkedin.com/in/zhenqi-harry-jing/\\nE D U C A T I O N\\nExpected 12/23\\nNEW YORK UNIVERSITY\\nNew York, NY\\nThe Courant Institute of Mathematical Sciences\\nM.S. in Mathematics in Finance \\n●\\nExpected Coursework:\\nobject-oriented programming (Java),\\ndata-driven modeling,\\nFama-French, Black-Scholes, stochastic processes\\n01/19 - 04/21\\nUNIVERSITY OF MICHIGAN, ANN ARBOR\\nAnn Arbor, MI\\nB.S. in Mathematics, Economics \\n●\\nCoursework:\\nsimple linear regression, multiple regression\\nanalysis, probability, numerical\\nmethods, interest theory, term structure, CAPM, binomial model \\n●\\nHonors:\\nGraduation With Highest Distinction (top 3%\\nof class)\\n08/17 - 12/18\\nCASE WESTERN RESERVE UNIVERSITY\\nCleveland, OH\\nApplied Mathematics Studies\\nE X P E R I E N C E\\n02/22 - 07/22\\nHIGH HOPE WISDOM INVESTMENT\\n(Asset management firm with +\\n$1B in AUM\\n)\\nNanjing, China\\nQuantitative Research Intern \\n●\\nStudied “Likely gains from market timing” paper; developed math derivations; and explained\\nfindings to team to offer perspective for China A-share performance \\n●\\nAnalyzed intraday/interday prices and trading volumes of China A-shares; identified pattern\\nvariations; studied papers about explanations; assessed implications for investments \\n●\\nApplied research-based decomposition method to China A-shares; identified its potential\\nsignificance in constructing portfolios to outperform market \\n●\\nEvaluated performance of 6 financial factors during differently performing market periods;\\nidentified significant persistence of SML factor \\n●\\nConducted literature reviews on different topics (e.g., measures for economic policy uncertainty;\\npatterns in trading volume and return volatility)\\nP R O J E C T S\\n10/19 - 11/19\\nUNIVERSITY OF MICHIGAN, ANN ARBOR\\nAnn Arbor, MI\\nData Analytics (STATA) \\n●\\nReplicated Tennessee Student Teacher Achievement Ratio Project to study bias caused by reverse\\ncausality and benefits of random experiments \\n●\\nInvestigated effect of seatbelt law introduction in California with time series regression models;\\nused dummy variable to detect seasonal patterns in accidents\\n03/19 - 04/19\\nCreative AI Learning Models Based on\\nNLP (Python)\\n●\\nTrained Beatles song lyrics using n-grams language modeling\\nC O M P U T A T I O N A L  S K I L L S  /  O T H E R\\nProgramming Languages:\\nPython, Java, R, STATA\\nLanguages:\\nEnglish (fluent), Mandarin (native)\\nActivities:\\nModern Algebra and Numerical Methods Grader,\\nUniversity of Michigan'),\n",
              " (15,\n",
              "  'SUSHMANTH KAKULLA  \\n(267) 378 -1082 // sushmanthkakulla@nyu.edu  // www.linkedin.com/in/sushmanthkakulla  \\nEDUCATION  \\nExpected 12/23  NEW YORK UNIVERSITY                      New York, NY  \\nThe Courant Institute of Mathematical Sciences  \\nM.S. in Mathematics in Finance  \\n● Future Coursework:  stochastic calculus, machine learning , Black Scholes, monte carlo simulation, \\nCAPM, computing in finance  \\n06/18 - 03/20  INDIAN INSTITUTE OF MANAGEMENT AHMEDABAD             Ahmedabad, India  \\n  M.B.A.  \\n● Coursework:  stochastic calculus, data analysis, algorithmic trading, option pricing, blockchain  \\n07/12 - 05/16  INDIAN INSTITUTE OF TECHNOLOGY BOMBAY      Mumbai , India  \\n  B.Tech in Mechanical Engineering and Minor in Electrical Engineering  \\n● Coursework:  calculus, linear al gebra, computer programming  \\nEXPERIENCE  \\n07/20 - 05/22  FINIQ CONSULTING INDIA PVT. LTD.             Pune, India  \\nAVP - Derivatives Platform Consultant  \\n● Designed and implemented accumulator, decumulator pricing with back -solve functionality and \\nGreeks calculati ons \\n● Developed Monte Carlo pricing scripts for equity structured investment products; implemented \\npricer functionality on platform to showcase indicative prices on screen  \\n● Led team to create optimum underlying basket size calculator using Excel VBA; formulated \\nrecommendation to investors for higher yields  \\n● Implemented payoff scripts that OCBC Bank and RHB Bank use for pricing; developed system \\ninterfaces for RHB Bank using C# an d SQL – they are now live at RHB  \\n● Managed 15 people to develop and deliver customized products for client, JAR Capital  \\n04/19 - 05/19  AXIS BANK           Mumbai , India  \\nManagement Trainee  \\n● Devised go -to-market strategy for app to increase market penetration and build business volume  \\n● Recommended 7 new features on marketing and product fronts by identifying gaps in current \\nportfolio  \\n● Achieved 15% increase in transactions by implementing app; onboarded 130+ distributors of app  \\n08/16 - 06/18  VIRTUSA CONSULTING SERVICE S PVT. LTD.                Hyderabad, India  \\nEngineer – Technology  \\n● Rolled out 20 deliverables to production successfully in $2.5M transformation project  \\n● Received highest rating (10/10) as well as direct appreciation from client  in assigned project  \\n● Attained 25% reduction in weekly bug reporting rate by devising and formulating regression suite  \\n● Recognized as subject matter expert in development and implementation using Java, J2EE \\ntechnologies, and GWT  \\n● Resolved 100+ critical client  issues in production and reduced count by 70% in less than 1 year  \\nPROJECT  \\n09/19 - 12/19  INDIAN INSTITUTE OF MANAGEMENT AHMEDABAD             Ahmedabad, India  \\nPricing of Power  \\n● Researched valuation of power and weather derivatives using differential equations  \\n● Implemented model to solve price of derivatives with application of Ito’s lemma, PDE, and \\nboundary conditions  \\nCOMPUTATIONAL SKILLS / OTHER  \\nProgramming Languages:  Java, Python, C++, SQl, VBA, MATLAB, R  \\nLanguages: English (fluent), Hindi (fluent), Telugu (native), German (basic)  \\nCertification: Programming for Everybody (Python) from Coursera  '),\n",
              " (16,\n",
              "  'E R D I N G  L I A O\\n(858) 888-2605 //\\nerding.liao@nyu.edu\\n//\\nlinkedin.com/in/ErdingLiao\\nE D U C A T I O N\\nExpected 12/23\\nNEW YORK UNIVERSITY\\nNew York, NY \\nThe Courant Institute of Mathematical Sciences \\nM.S. in Mathematics in Finance \\n●\\nExpected Coursework:\\nhigh-level programming language\\n(Java, C++), stochastic process, \\npenalized regression, linear regression\\n09/18 - 06/22\\nUNIVERSITY OF CALIFORNIA, SAN DIEGO\\nSan Diego, CA \\nB.S. in Mathematics (Applied) \\n●\\nCoursework:\\nlinear algebra, partial differential equations,\\nmethod of moments, maximum \\nlikelihood estimation, Bayesian statistics, Markov chain, big data analysis, data mining, neural \\nnetworks, recommendation systems \\n●\\nHonors/Awards:\\nCum Laude (top 8%)\\nE X P E R I E N C E\\n08/19 - 10/19\\nDONGXING SECURITIES CHONGQING BRANCH\\nChongqing, China \\nData Analyst Summer Intern \\n●\\nCollected and processed clean energy industry data (e.g., from top 20 car companies in China),\\nwith Azure HDInsight; prepared data visualization for industry report\\n●\\nBuilt large-scale database  from daily news and data for 3,000 clean energy automobile stocks\\nfrom 2018 to 2019, using R and SQL\\n●\\nUsed  feature extraction on news about 1,000 selected stocks in 2019; improved stock prediction\\nbased on sentiment analysis with RNN; average accuracy increased by 7%\\nP R O J E C T\\n09/20 - 06/21\\nUNIVERSITY OF CALIFORNIA, SAN DIEGO\\nSan Diego, CA \\nMath Honors Research: Hidden Markov Model with Partially Missing Observations (C++, R) \\n●\\nEvaluated practicality of Hidden Markov model in financial market prediction with respect to \\nHMM-GMM algorithm and Monte-Carlo GMM \\n●\\nDeveloped alternative EM-algorithm for Hidden Markov model with discontinued observations; \\nmathematically proved and analyzed its potential implementation for HMM-GMM model\\n02/21 - 05/21\\nDeep-Learning AI - Poetry Generator\\n(Python)\\nSan Diego, CA \\n●\\nImplemented language model for RNN based on datasets of Shakespeare poetry; analyzed \\nperformance with respect to BIC and time/space complexity \\n●\\nDiscussed\\npotential improvements of N-gram model with\\nRNN Markov and possibility of \\nreducing complexity through pruning\\n09/20 - 12/20\\nPrediction Model - NYPD Allegations\\n(Python)\\nSan Diego, CA\\n●\\nConducted data cleaning on dataset of complaints and allegations against New York Police \\nDepartment; analyzed dependency of factors with Kolmogorov Smirnov Test\\n●\\nApplied feature\\nengineering on data; constructed prediction\\nmodel of allegation outcomes \\nusing random forest and SVM\\n●\\nAnalyzed performance of model through grid-search and evaluation on fairness\\nC O M P U T A T I O N A L  S K I L L S  /  O T H E R\\nProgramming Languages:\\nJava, C++, R, Python, SQL,\\nMATLAB \\nLanguages:\\nMandarin (native); English (fluent) \\nActivities:\\nVector calculus teaching assistant and\\ngrader at UCSD'),\n",
              " (17,\n",
              "  'S I H A N  L I U\\n(201) 238-3749 //\\nsihan.liu@nyu.edu\\n//\\nlinkedin.com/in/sihanliu643\\nE D U C A T I O N\\nExpected 12/23\\nNEW YORK UNIVERSITY\\nNew York, NY \\nThe Courant Institute of Mathematical Sciences \\nM.S. in Mathematics in Finance \\n●\\nForthcoming Coursework:\\nportfolio theory, risk management,\\nFama-French, Black Scholes, \\nMonte Carlo simulation, stochastic calculus, Hull-White model\\n09/18 - 06/22\\nNEW YORK UNIVERSITY SHANGHAI\\nShanghai, China \\nB.S.,\\nDouble Major in Honors Mathematics and Data\\nScience \\n●\\nCoursework:\\nlinear algebra, mathematical statistics,\\nBrownian motion, law of large numbers, \\nmachine learning, data structures, algorithms, databases \\n●\\nHonors/Awards:\\nDean’s list for 4 years, Latin Honors\\nCum Laude\\nE X P E R I E N C E\\n12/21 - 01/22\\nGUOTAI JUNAN SECURITIES\\nCO., LTD\\nShanghai, China (remote) \\nQuantitative Research Intern \\n●\\nEvaluated Chinese stock market’s key indicators (e.g., major indices, cross-sectional volatility, \\nstock turnover rate); wrote market overview report \\n●\\nBuilt backtest system using Python, with modules including data collection, data preprocessing, \\ntrading signal detection, data visualization and performance analysis \\n●\\nBacktested double moving average strategy and achieved 8.9% annualized return as well as 23% \\nmax drawdown\\n06/21 - 08/21\\nATOS INFORMATION TECHNOLOGY\\nChengdu, China \\nData Visualization Intern \\n●\\nCollected information from multiple web databases, cleaned and organized it into Excel tables, as \\nwell as generated frequent reports to facilitate manager’s monitoring of team productivity \\n●\\nCreated dashboards to display cleaned data clearly and concisely \\n●\\nUsed VBA and Power Query to automatically generate daily reports and send emails; results: \\nreductions to 25% of production time and 17% of computer memory used by data\\n08/20 - 09/20\\nSICHUAN WANYI ENERGY TECHNOLOGY CO.,\\nLTD.\\nChengdu, China \\nData Mining Intern \\n●\\nCollaborated with team to build ML model that helped clients extract information from images \\n●\\nUsed Python to generate synthetic optical character recognition dataset comprising images of \\nChinese character lines in various backgrounds \\n●\\nStandardized 300+ images in Python; corrected thousands of mismatched labels in image dataset\\nP R O J E C T S\\nNEW YORK UNIVERSITY SHANGHAI\\nShanghai,\\nChina \\n02/22 - 05/22\\nDerivatives Pricing: Options Price Fluctuation\\nSimulation with Black-Scholes Formula (Python) \\n●\\nImplemented Black-Scholes formula on European calls; collected contract information and \\nhistorical prices for 100+ Chinese options; simulated price fluctuations from list to maturity dates \\n●\\nApplied several models to estimate volatility of options, including moving average, exponentially \\nmoving average, and GARCH(1, 1) \\n05/21 - 06/21\\nMachine Learning: Music Classification\\nBased on Emotions (Python) \\n●\\nDesigned conventional machine learning models including SVM, decision trees, and random \\nforest, to classify musical pieces into 3 categories: sad, calm, energetic \\n●\\nImproved model performance with parameter tuning, PCA, oversampling, stacking, and \\ncross-validation; achieved precision score of 88%\\nC O M P U T A T I O N A L  S K I L L S  /  O T H E R\\nProgramming Languages:\\nProficient in Python, SQL,\\nJava, and Excel; basic in VBA \\nAffiliations/Certifications:\\nMicroeconomics and corporate\\nfinance from edX \\nLanguages:\\nEnglish (fluent), Mandarin (native)'),\n",
              " (18,\n",
              "  'Z I Y U  L I U\\n(551) 229-5554 //\\nziyu.liu@nyu.edu\\n//\\nlinkedin.com/in/ziyuliu476\\nE D U C A T I O N\\nExpected 12/23\\nNEW YORK UNIVERSITY\\nNew York, NY \\nThe Courant Institute of Mathematical Sciences \\nM.S. in Mathematics in Finance \\n●\\nExpected Coursework:\\nobject-oriented programming (Java),\\npenalized regression, decision \\ntrees, linear regression, Fama-French, Black-Scholes, stochastic processes\\n10/20 – 07/21\\nUNIVERSITY OF CAMBRIDGE\\nCambridge, UK \\nM.A.S. in Pure Mathematics \\n●\\nCoursework:\\nalgebraic number theory, commutative algebra,\\nWeyl algebra, profinite groups \\nand group cohomology, elliptic curves\\n09/16 - 05/20\\nMOUNT HOLYOKE COLLEGE\\nSouth Hadley, MA \\nB.A. in Mathematics \\n●\\nCoursework:\\nabstract algebra, real and complex analysis,\\ndifferential geometry, partial \\ndifferential equations, combinatorics\\nE X P E R I E N C E\\n01/22 - 06/22\\nFOSUN CAPITAL\\n($7.3B AUM)\\nShanghai, China \\nInvestor Relations Intern, Fosun Capital Flagship USD Fund \\n●\\nDrafted roadshow materials for growth stage USD fund targeting LPs in Asia, Europe, and \\nAustralia; participated in roadshows and communicated proactively on fundraising progress\\n●\\nConducted research on secondary funds\\nand completed\\nreport covering transaction structure, \\ndomestic and foreign market overview, and fundraising in Asia Pacific region \\n●\\nCollaborated with TMT, healthcare, and consumer project teams in connecting with potential \\ninvestors; participated in roadshows; gained insight into multiple sectors \\n●\\nPrepared summary report on fund due diligence questions; crafted monthly reports to update \\nLPS with latest developments in fund management\\n07/20 - 09/20\\nTOPSPERITY FUND\\n($4.7B AUM)\\nShanghai, China \\nResearch Analyst, Security Analysis / Consumer and TMT \\n●\\nCollected TMT and consumer industry trends through 20 expert calls and industry \\nconference calls; consolidated meeting memos and presented findings to fund managers \\n●\\nSelected stocks based on financial analysis, fundamentals, sector trends and shareholding \\nstructure in TMT and consumer industries based on financial reports and WIND \\n●\\nAnalyzed companies and stocks in TMT and consumer industries (e.g., RELX, Smoore Intl.) \\nthrough industry analysis and competitive strengths analysis as well as valuation \\n●\\nAutomated daily morning reports process with Python and Excel\\nP R O J E C T S\\n05/18 - 07/18\\nMUHLENBURG COLLEGE REU – REU Math\\nResearch\\nAllentown,\\nPA \\nInvestigation on Partitions with Equal Products \\n●\\nInitiated new approach to applying combinatorics and number theory; published\\npaper\\non \\ninteger partitions in International Journal of Number Theory \\nSums of Polygonal Numbers \\n●\\nConducted research and collaborated on report with team members\\nC O M P U T A T I O N A L  S K I L L S  /  O T H E R\\nProgramming Languages:\\nJava; Python \\nLanguages:\\nEnglish (fluent), Mandarin (native); German\\n(basic); Homeric Greek (basic) \\nActivities:\\nPresident of Association for Women in\\nMathematics at Mount Holyoke College chapter'),\n",
              " (19,\n",
              "  'YOURAN PAN (551) 325-8065 // youran.pan@nyu.edu // linkedin.com/in/youran-pan EDUCATION Expected 12/23 NEW YORK UNIVERSITY                 New York, NY The Courant Institute of Mathematical Sciences M.S. in Mathematics in Finance ● Expected Coursework: object-oriented programming (Java), decision trees, linear regression, Fama-French, Black-Scholes, derivative securities, quantitative portfolio theory, finite difference method, data-driven models, scientific computing regression 08/18 - 05/22 DUKE UNIVERSITY | DUKE KUNSHAN UNIVERSITY                Durham, NC | Kunshan, China B.S. in Applied Mathematics ● Coursework: linear algebra, ODEs, PDEs, stochastic process, numerical analysis, mathematics of machine learning, econometrics ● Awards: Mathematical Modeling Context (honorable mention) 2021, Mathorcup Mathematical Modeling Challenge 2020 (group won 1st place) EXPERIENCE 07/22 - present ENHANCED HEALTHCARE PARTNERS (Healthcare-focused private equity firm)                              New York, NY (remote) Investment Research & Data Analytics Intern (Python, SQL, Excel, Tableau) ● Researched macro trends, industry drivers, and market segments of plastic surgery industry ● Profiled 16 prospective pre-assigned investment targets by investigating locations, business descriptions, ownership, revenues, ratings, and rationales ● Used Python and SQL to manage data; calculated and analyzed it with Excel and SQL to find summary values and trends; correlated data using Tableau ● Presented market landscape research summary and recommended investment targets to manager 12/20 - 05/22 DUKE KUNSHAN UNIVERSITY               Kunshan, China Research Assistant, Data Science Research Center (Python) ● Developed web crawler to collect first-hand data for translated books from 3 online libraries; performed data cleaning and conducted analysis and visualizations; wrote and presented reports ● Sorted and merged information for Shanghai Library database 05/21 - 08/21 Research Scholar (Python, R, STATA) ● Conducted literature review on healthy lifestyles using PubMed, WHO, and UN databases ● Accessed Yinzhou, China, databases collaboratively, and calculated influenza vaccine effectiveness using static decision tree model PROJECTS 03/20 - 04/20 DUKE KUNSHAN UNIVERSITY               Kunshan, China Air Transportation Overbooking and Revenue Management (Python) ● Conducted literature reviews on overbooking and cabin control during COVID ● Created web crawler to collect demand and daily ticket sales data ● Developed pricing and SIR models 05/21 - 08/21 CHINA UNIVERSITY OF MING & TECHNOLOGY              Xuzhou, China Link Prediction With Deep Learning For Weighted Symmetric Graph in Undirected Graphs ● Reviewed latest research on social network analysis, specifically for recommender systems ● Contributed to proposing and testing weighted symmetric graph embedding approach based on deep learning for link prediction COMPUTATIONAL SKILLS / OTHER Programming Languages: Python, Java, MATLAB, SQL, Stata, R Languages: English (fluent); Mandarin (native); Japanese (fluent) '),\n",
              " (20,\n",
              "  'X I N Y U A N  ( F R A N K )  Q I U\\n(757) 332-3099 //\\nfrank.qiu@nyu.edu\\n//\\nlinkedin.com/in/xinyuan-frank-qiu\\nE D U C A T I O N\\nExpected 12/23\\nNEW YORK UNIVERSITY\\nNew York, NY \\nThe Courant Institute of Mathematical Sciences \\nM.S. in Mathematics in Finance \\n●\\nExpected Coursework:\\nstochastic calculus, Black-Scholes,\\nHull-White model, penalized \\nregression, object-oriented programming (Java)\\n08/18 - 05/22\\nWILLIAM & MARY\\nWilliamsburg,\\nVA \\nB.S. in Mathematics and Data Science \\n●\\nCoursework:\\nsingular value decomposition, positive\\ndefinite matrices, numerical differentiation \\nand integration, central limit theorem, method of moments, Markov chain, basic data structure, \\ndynamic programming, SQL database, support vector machine, Monte-Carlo simulation\\nE X P E R I E N C E\\n06/22 - 08/22\\nYINHUA FUND MANAGEMENT CO., LTD.\\nShenzhen, China (Remote) \\n(Chinese asset management firm with $8B AUM) \\nQuantitative Market Analysis Intern \\n●\\nSummarized and analyzed reports on relationship between investors’ emotions and Chinese stock \\nmarket indices \\n●\\nInvestigated history of CBOE’s VIX index and its negative correlation with S&P 500 \\n●\\nUsed visualization and ANOVA to determine whether VIX was correlated with NASDAQ and \\nUS Treasury Bond Index\\n06/21 - 08/21\\nWILLIAM & MARY’S\\nGLOBAL RESEARCH INSTITUTE\\nWilliamsburg, VA \\nGeospatial Analysis Researcher \\n●\\nCollaborated with another W&M undergraduate researcher to develop traffic simulation model \\nusing multi-agent transportation simulation (MATSim) \\n●\\nBuilt and tested geospatial agent-based model that used location data of 5,000 local residents to \\nsimulate traffic in Williamsburg area\\n05/19 - 07/19\\nPEOPLE’s BANK OF CHINA\\nBeijing, China \\nDigital Currency Intern \\n●\\nCollected and organized latest news on technological updates in cryptocurrency and blockchain \\n●\\nIntegrated and translated documents to track Facebook’s cryptocurrency, Libra\\nP R O J E C T\\n06/21 - 04/22\\nRESEARCH: FINDING EIGENVALUES WITH MATLAB\\nWilliamsburg, VA \\n●\\nDeveloped algorithm in MATLAB to calculate eigenvalues of matrices that satisfied certain \\nconditions of Gershgorin theorem \\n●\\nCollaborated with professor and other linear algebra experts to extend computational results to \\ntheoretical proof in published paper\\nC O M P U T A T I O N A L  S K I L L S  /  O T H E R\\nProgramming Languages:\\nPython, SQL, R, C, Java, C++,\\nMATLAB, LaTeX \\nLanguages:\\nEnglish (fluent); Mandarin (native)'),\n",
              " (21,\n",
              "  'TINGHAN (TIRRY) WANG (551) 337-1901 // tinghan.wang@nyu.edu // linkedin.com/in/tinghan-tirry-wang EDUCATION Expected 12/23 NEW YORK UNIVERSITY          New York, NY The Courant Institute of Mathematical Sciences M.S. in Mathematics in Finance ● Expected Coursework: object-oriented programming (Java), penalized regression, decision trees, linear regression, Fama-French, Black-Scholes, stochastic processes, Hull-White model  09/18 - 07/22 SOUTHERN UNIVERSITY OF SCIENCE AND TECHNOLOGY                 Shenzhen, China   B.S. in Mathematics and Applied Mathematics ● Coursework: calculus, linear algebra, ordinary and partial differential equations, real analysis, probability, hypothesis testing, Markov chain, Black-Scholes-Merton, time series analysis, econometrics, programming in C/C++, Java, data structures ● Award: First Prize Scholarship (top 5% in college) EXPERIENCE 07/20 - 08/20       SINOLINK SECURITIES                                                                               Chengdu, China               Settlement Officer Intern ● Collected data daily on customer margins, net transfer of bank securities accounts, and total number of transactions; generated charts for management’s review and monitoring ● Inspected settlement statements from Shanghai Stock Exchange ● Compiled intraday securities delivery list PROJECTS 04/22 - 05/22       SOUTHERN UNIVERSITY OF SCIENCE AND TECHNOLOGY               Shenzhen, China     Financial Crash Forecasting Using LPPL (Python) ● Retrieved monthly Shanghai Composite Index data and implemented log-periodic power law (LPPL) model ● Applied generic algorithm to estimate model parameters based on data collected; forecasted date of Shanghai stock market’s next crash ● Assessed LPPL model and identified sources of possible inaccuracies 11/21 - 12/21       Matrix Multiplication and Convolutional Neural Network (C++) ● Implemented standard matrix multiplication and Strassen’s algorithm; theoretically proved time complexity of both  ● Established that below a certain threshold, one method was more efficient than the other; analyzed influencing factors for evaluating threshold (e.g., multithreading, matrix properties) ● Parsed images using OpenCV; implemented convolutional neural network (CNN) model 07/21 - 08/21 NORTH CAROLINA STATE UNIVERSITY                                                            Raleigh, NC Computational and Financial Mathematics and Simulations (Java) ● Implemented least-squares Monte Carlo simulation and finite difference method on valuation of American options  ● Applied weighted least squares to decrease estimation bias, and used forward Monte Carlo simulation to improve computational speed ● Compared accuracy and computational speed of enhanced methods with traditional ones COMPUTATIONAL SKILLS / OTHER Programming Languages: Java, C/C++, R, MATLAB, Python Languages: English (fluent); Mandarin (native) Interests: Badminton (captain of varsity team; Guangdong Badminton Championships, 2nd place in men’s singles) '),\n",
              " (22,\n",
              "  'W E I  ( O L I V I A )  W A N G\\n(718) 864-1836 //\\nweiwang@nyu.edu\\n//\\nlinkedin.com/in/wei-olivia-wang\\nE D U C A T I O N\\nExpected 12/23\\nNEW YORK UNIVERSITY\\nNew York, NY \\nThe Courant Institute of Mathematical Sciences \\nM.S. in Mathematics in Finance \\n●\\nCoursework:\\nBlack-Scholes, Fama-French, Hull-White\\nmodel, object-oriented programming \\n(Java), statistical inference, algorithmic trading, deep learning, Monte Carlo simulation, portfolio \\noptimization, penalized regression, Ito’s lemma, risk-neutral valuation\\n09/18 - 06/22\\nTHE CHINESE UNIVERSITY OF HONG KONG,\\nSHENZHEN\\nShenzhen, China \\nB.B.A. in Financial Engineering \\n●\\nCoursework:\\nlinear algebra, ODEs, calculus, probability\\nand statistics, time series, stochastic \\nprocess, Python, discrete mathematics, data analysis, econometrics, microeconomics, finance \\n●\\nHonors/Awards:\\nDean’s List Honor (2019, 2020); Academic\\nPerformance Scholarship \\n2019-2020\\n10/20 - 06/21\\nUNIVERSITY OF OXFORD\\nOxford, UK \\nVisiting Program \\n●\\nCoursework:\\nprobability measures, mathematical models\\nof financial derivatives, statistical \\nmachine learning, game theory, macroeconomics\\nE X P E R I E N C E\\n11/21 - 12/21\\nUBS\\nBeijing, China (remote) \\nQuantitative Analyst Assistant (Python) \\n●\\nCoded pricing formulas using different methodologies (e.g., Black Scholes, Bachelier) \\n●\\nGenerated European and American options pricing formulas \\n●\\nFound implied volatility of each pricing formula; drew volatility smile curve and Greeks graph of \\neach option\\n10/21 - 11/21\\nGUANGFA SECURITIES CO., LTD\\nGuangzhou, China (remote) \\nQuantitative Analyst Assistant \\n●\\nResearched quantitative finance trading in China and characteristics of each strategy \\n●\\nIdentified several features with strong past performance; built models for feature combinations \\nusing data and fundamental factors\\nP R O J E C T S\\n09/21 - 10/21\\nNEW YORK UNIVERSITY\\nNew York, NY (remote) \\nValuation of Google’s Snowball Option \\n●\\nBuilt pricing model and created price expressions for variety of snowball option scenarios \\n●\\nSimulated 1,000 paths for Google’s stock price; calculated snowball option price for each one; \\nobtained average to determine snowball option price (using Monte Carlo simulation) \\n●\\nPresented sensitivity analysis about relationships among knock-out price, knock-in price, sigma, \\nand option price\\n12/19 - 05/20\\nTHE CHINESE UNIVERSITY OF HONG KONG,\\nSHENZHEN\\nShenzhen, China \\nEconometrics Model: Influence of Violent Films on Violent Behaviors (STATA) \\n●\\nBuilt econometrics model that determined causal effect of different levels of violence in movies \\non real-world assaults; used movie attendance in 1 week before and after as instrument variables \\n●\\nCalculated model parameters; tested multicollinearity, validity of instrument variables, and \\nautocorrelation of error terms \\n●\\nConcluded that moderately violent movies decrease number of assaults; articulated argument for \\nthat and policy recommendations in paper and presentation\\nC O M P U T A T I O N A L  S K I L L S  /  O T H E R\\nProgramming Languages:\\nPython, Java, R, STATA, Julia \\nLanguages:\\nEnglish (fluent); Mandarin (native)'),\n",
              " (23,\n",
              "  'X U A N  ( S E L I N A )  W A N G\\n(201) 885-9392 //\\nxuanselinawang@nyu.edu\\n//\\nlinkedin.com/in/xuanselinawang\\nE D U C A T I O N\\nExpected 12/23\\nNEW YORK UNIVERSITY\\nNew York, NY \\nThe Courant Institute of Mathematical Sciences \\nM.S. in Mathematics in Finance \\n●\\nCoursework:\\nobject-oriented programming (Java), penalized\\nregression, decision trees, \\nFama-French, Black-Scholes, stochastic processes, Hull-White model, machine learning\\n09/17 - 06/22\\nUNIVERSITY OF TORONTO\\nToronto, Canada \\nB.S. in Mathematics and Statistics \\n●\\nCoursework:\\nordinary/partial differential equations,\\nreal analysis, probability theory, corporate \\nfinance, financial economics, multiple linear regression, time series analysis \\n●\\nAwards:\\nDean’s List for 3 years, Merit-based New College\\nCouncil In-Course Scholarship\\nE X P E R I E N C E\\n05/21 - 07/21\\nBOC INTERNATIONAL (CHINA)\\nShanghai, China \\nQuantitative Research Intern \\n●\\nWrote SQL queries to monitor expiration dates of futures contracts, dramatically reducing labor \\ncosts and improving timeliness of rolling contracts \\n●\\nImplemented SQL queries, which increased stock dividend payment prediction accuracy \\n●\\nCollaborated with portfolio managers to conduct decomposition and analysis of portfolio \\nperformance measures, such as alpha, beta, drawdown, and return drivers \\n●\\nAggregated trading data and generated reports to facilitate team’s portfolio analysis \\n●\\nDeveloped thorough understanding of investment instruments and their competitive edges by \\nparticipating in roadshows for multiple high-profile funds \\n●\\nCreated onboarding procedures; designed learning materials for incoming analysts and interns\\n04/20 - 05/20\\nSHANDONG QUANLUKERUN SEED INDUSTRY\\nWeifang, China \\n(Vegetable seed producer and retailer) \\nAssistant Sales Associate \\n●\\nCreated pipeline to gather raw data from sales team; developed data cleaning and consolidation \\nprocess using Excel \\n●\\nDesigned reporting dashboards with processed data to automatically calculate and track revenue \\nmetrics and trends, which facilitated strategic decision-making processes \\n●\\nPresented results of sales analyses and communicated them clearly with crisp visualizations to \\nmanagement team\\nP R O J E C T S\\n02/22\\nUNIVERSITY OF TORONTO\\nToronto, Canada \\nConstruction of Bond YTM/Spot/Future Curve (R, Excel, LaTeX) \\n●\\nConsolidated raw Canadian government bond data from public sources with Excel \\n●\\nUsed bootstrapping, Newton’s method, and interpolation techniques to calculate rates; created \\nvisualization with R \\n●\\nSummarized results and algorithm explanations; composed final project report with LaTeX\\n04/21\\nUNIVERSITY OF TORONTO\\nToronto, Canada \\nValuation of Convertible Debt for AMC\\n●\\nGathered capital structure information for AMC\\nfrom\\npublic sources (e.g., Yahoo Finance)\\n●\\nUsed put-call parity and Black-Scholes-Merton theorem to calculate value of convertible bond \\nAMC had recently issues; cross-validated accuracy of estimations\\nC O M P U T A T I O N A L  S K I L L S  /  O T H E R\\nProgramming Languages:\\nR, Python, SAS, SQL,\\nLaTeX\\nLanguages:\\nEnglish (fluent); Mandarin (native) \\nCertifications:\\nBase SAS and SAS Advanced \\nInterests:\\nGuzheng and piano (highest level 10 player)'),\n",
              " (24,\n",
              "  'Y I F A N  ( M I C H A E L )  W A N G\\n347-429-2345 //\\nwang.yifan@nyu.edu\\n//\\nlinkedin.com/in/Yifan-Michael-Wang\\nE D U C A T I O N\\nExpected 12/23\\nNEW YORK UNIVERSITY\\nNew York, NY\\nThe Courant Institute of Mathematical Sciences\\nM.S. in Mathematics in Finance \\n●\\nExpected Coursework:\\nBlack-Scholes & Greeks, stochastic\\nprocesses, object-oriented\\nprogramming (Java), penalized regression and time series, decision trees, machine learning\\n09/20 - 05/22\\nCOLUMBIA UNIVERSITY\\nNew York, NY\\nB.S. in Applied Mathematics \\n●\\nCoursework:\\nlinear regression, partial differential\\nequations, statistical inference, Fourier analysis,\\nmodern algebra, numerical analysis, CAPM model, advanced linear algebra, options\\n09/17 - 05/22\\nDICKINSON COLLEGE\\nCarlisle, PA\\nB.A. in Mathematics \\n●\\nHonors\\n:\\nMajor Honor Society, Dean’s List, Pi Mu Epsilon\\nHonor Society\\nE X P E R I E N C E\\n06/22 - 07/22\\nDEUTSCHE BANK\\nShanghai,\\nChina\\nCapstone Project, Quantitative Research\\n●\\nConducted portfolio optimization on index ETFs and gold using mean-variance,\\nBlack-Litterman, and risk parity in Python; simulated asset weights to calculate efficient frontier \\n●\\nExtracted pricing from data APIs using Python; performed data cleaning and transformation \\n●\\nBacktested portfolio performance based on risk parity method that auto-adjusted its weights\\nmonthly; built functions to calculate annualized return, volatility, Sharpe ratio, max drawdown\\n05/21 - 08/21\\nDELOITTE CONSULTING CHINA\\nShanghai, China \\nFinance & Performance Consulting Intern \\n●\\nDeveloped talent scoring framework based on machine learning models such as linear regression,\\nrandom forest, and gradient boosting decision tree in Python \\n●\\nPerformed data collection, cleaning, and transformation of past employee evaluation data;\\nconducted feature engineering based on dimensions such as leadership and technical skills \\n●\\nCreated interactive data visualization dashboard in Tableau to perform comparative analyses\\nP R O J E C T S\\n03/22 - 05/22\\nCOLUMBIA UNIVERSITY\\nNew York, NY\\nMachine Learning Driven Sector Return Prediction (Python) \\n●\\nBuilt\\nmachine learning models such as linear regression,\\nridge regression, and random forest to\\npredict returns of sector ETFs such as US Technology and Financials iShares \\n●\\nConstructed\\nfeatures based on macro factors (e.g.,\\nCPI) and sector average fundamental ratios\\n09/21 - 12/21\\nStock Valuation Based on DCF and Black-Scholes\\nModel (Python)\\n●\\nBuilt web crawler to collect price and financial statement data from Yahoo Finance \\n●\\nApplied DCF model with growth-rate assumptions in high- and stable-growth periods;\\nperformed Monte Carlo simulations of company’s value and stock prices through 10K+ paths \\n●\\nCalculated intrinsic stock value using weighted average result from DCF, MCS, and B-S models\\n02/21 - 05/21\\nFuture Arbitrage Using Ornstein-Uhlenbeck\\nModel (MATLAB)\\n●\\nCrafted Ornstein-Uhlenbeck mean version model to predict spot-to-future price ratio for gold \\n●\\nBack-tested arbitrage trading strategy using ratio to test model’s efficacy\\nC O M P U T A T I O N A L  S K I L L S  /  O T H E R\\nProgramming Languages:\\nPython (NumPy, Pandas, Sklearn,\\nSciPy), SQL, Java, R, MATLAB\\nLanguages:\\nEnglish (fluent); Mandarin (native)'),\n",
              " (25,\n",
              "  'Z H A N G Y I  W A N G\\n(510) 988-3153  //\\nzhangyiwang@nyu.edu\\n//\\nl\\ninkedin.com/in/zhangyioliverwang\\nE D U C A T I O N\\nExpected 12/23\\nNEW YORK UNIVERSITY\\nNew York, NY\\nThe Courant Institute of Mathematical Sciences\\nM.S. in Mathematics in Finance \\n●\\nCoursework:\\nobject-oriented programming (Java), financial\\nmodeling, algorithmic trading\\n,\\nstochastic processes, machine learning, Fama-French, Black-Scholes\\n08/18 - 05/22\\nNEW YORK UNIVERSITY SHANGHAI\\nShanghai, China\\nB.S. in Data Science\\n,\\nB.A. in Economics \\n●\\nCoursework:\\ndeep learning, regression, causal inference,\\noptimization, databases, linear algebra,\\nmultivariable calculus, probability and statistics \\n●\\nHonors/Awards:\\nDean’s List for Academic Year 2020,\\n2021; NYU Shanghai Excellence Award;\\nMagna Cum Laude\\nE X P E R I E N C E\\n06/22 - 08/22\\nTURING FUND MANAGEMENT\\nShanghai, China\\nQuantitative Research Intern \\n●\\nReplicated and examined different versions of AlphaNet (factor mining network) with Keras \\n●\\nConducted single factor IC testing and multi-layer testing using latest daily trading data \\n●\\nAchieved annualized rate of return of 14% and Sharpe ratio of 3.00 in 7-year period \\n●\\nAdjusted inner operators and layers of AlphaNet and improved rank IC by 1%\\n10/21 - 01/22\\nGF SECURITIES\\nShanghai, China\\nInstitutional Sales Intern \\n●\\nParticipated in fund managers’ research and data compilation for institutional clients \\n●\\nConstructed database for targeted fund products and fund managers’ profiles \\n●\\nImplemented clustering analysis of fund products’ comprehensive capacities using Python, and\\ndivided targeted fund products into 5 tiers\\n07/21 - 08/21\\nINSTITUTE OF INTELLIGENT COMPUTING TECHNOLOGY,\\nCAS\\nSuzhou, China\\nFinancial Data Mining and Analysis Intern \\n●\\nCollected sector index data; examined potential sector linkage and rotation patterns for over 120\\nindustries from 2014 to 2021 \\n●\\nLabeled data as well as extracted and categorized information from financial news and reports\\nP R O J E C T S\\n02/22 - 05/22\\nNEW YORK UNIVERSITY SHANGHAI\\nShanghai, China\\nMomentum Strategy with Deep Reinforcement Learning in Chinese Stock Market \\n●\\nImplemented risk-adjusted momentum strategies using DDPG model, based on first open-source\\nDRL framework, FinRL \\n●\\nConducted backtesting for automatic trading with SSE 50 constituent stock portfolio \\n●\\nAchieved Sharpe ratio of 2.46 in backtesting across 12 months\\n10/21 - 12/21\\nNEW YORK UNIVERSITY SHANGHAI\\nShanghai, China\\nMusic Style Recombination and Interpolation \\n●\\nExtracted fundamental frequencies and chords from wav files using Python; quantified and\\nmapped fundamental frequencies to integer-level pitches \\n●\\nApplied EC2VAE trained with pop songs to conduct interpolation of information in latent space \\n●\\nGenerated new pieces using midi-level as well as wave-level synthesis methods\\nC O M P U T A T I O N A L  S K I L L S  /  O T H E R\\nProgramming Languages:\\nPython, Java, MySQL, Stata,\\nJavascript\\nLanguages:\\nEnglish (fluent); Mandarin (native)'),\n",
              " (26,\n",
              "  'D A J U N  X U\\n(949) 751-9575 //\\ndajun.xu@nyu.edu\\n//\\nlinkedin.com/in/dajunxu\\nE D U C A T I O N\\nExpected 12/23\\nNEW YORK UNIVERSITY\\nNew York, NY \\nThe Courant Institute of Mathematical Sciences \\nM.S. in Mathematics in Finance \\n●\\nExpected Coursework:\\nstochastic calculus, Black-Scholes\\nequation, fixed-income securities, \\nportfolio optimization, statistical inference, machine learning, object-oriented programming\\n09/17 - 03/22\\nUNIVERSITY OF CALIFORNIA, IRVINE\\nIrvine, CA \\nB.S. in Mathematics (Honors Program), B.S. in Neurobiology \\n●\\nCoursework:\\nreal analysis, linear algebra, numerical\\nanalysis, stochastic process, partial \\ndifferential equations, numerical differential equations, optimization, modeling in biology\\nE X P E R I E N C E\\nUNIVERSITY OF CALIFORNIA, IRVINE\\nIrvine, CA \\n06/20 - 08/20\\nMathBioU Research Assistant \\n●\\nCalculated and mapped electrostatic impacts of remdesivir nucleotide analogue on SARS-CoV-2 \\nRNA-dependent polymerase with Poisson-Boltzmann equation \\n●\\nVisualized and rendered calculated data and identified potentially interesting protein regions for \\nfurther molecular dynamics simulation \\n●\\nMentored 2 high school students on partial differential equations and academic writing \\n●\\nContributed to research, resulting in publication of\\nProbing remdesivir nucleotide analogue \\ninsertion to SARS-CoV-2 RNA dependent RNA polymerase in viral replication\\n03/19 - 03/22\\nMath Department Grader \\n●\\nGraded homework for more than 300 students in upper-division courses including real analysis, \\nlinear algebra, abstract algebra, and probability \\n●\\nProvided feedback to instructors and students, and wrote solutions for abstract algebra notes \\n●\\nHeld Q&A sessions with students on real analysis problems and exam reviews\\nA C A D E M I C  P R O J E C T S\\nUNIVERSITY OF CALIFORNIA, IRVINE\\nIrvine, CA \\n08/21 - 09/21\\nImage Steganography \\n●\\nUsed least significant bits method to conceal secret image within original one \\n●\\nCombined discrete cosine transform with neural network to reduce size of secret images \\n●\\nTrained encoder and decoder neural networks to encode secret images and scatter their \\ninformation in original images\\n03/20 - 06/20\\nEpidemic Modeling \\n●\\nImplemented delayed SIR model with MATLAB to fit and predict number of COVID-19 cases \\n●\\nAdded delayed differential equation and equation solver to Bayesian interference and Markov \\nchain Monte Carlo model to account for oscillation in daily COVID-19 case trend\\nC O M P U T A T I O N A L  S K I L L S  /  O T H E R\\nProgramming Languages:\\nPython, MATLAB, Java, Mathematica,\\nR \\nLanguages:\\nEnglish (fluent), Mandarin (native)'),\n",
              " (27,\n",
              "  'J I A X I N  ( J A C K S O N )  Y A N G\\n(551) 344-6049 //\\njiaxin.jackson.yang@nyu.edu\\n//\\nlinkedin.com/in/jiaxin-jackson-yang\\nE D U C A T I O N\\nExpected 12/23\\nNEW YORK UNIVERSITY\\nNew York, NY \\nThe Courant Institute of Mathematical Sciences \\nM.S. in Mathematics in Finance \\n●\\nExpected Coursework:\\nobject-oriented programming (Java),\\npenalized regression, decision trees, \\nlinear regression, Fama-French, Black-Scholes, stochastic processes, Hull-White model\\n09/18 - 06/22\\nUNIVERSITY OF INTERNATIONAL BUSINESS\\nAND ECONOMICS\\nBeijing, China \\nB.A. in Financial Mathematics \\n●\\nCoursework:\\nlinear algebra, real analysis, game theory,\\nordinary differential equations, Bayesian \\nstatistics, ARIMA model, financial derivatives, stochastic process, risk-neutral pricing \\n●\\nHonors/Awards:\\n1st-tier scholarship (top 5%); 1st\\nplace (2x), nationwide Chinese math modeling\\n08/21 - 12/21\\nUNIVERSITY OF CALIFORNIA, BERKELEY\\nBerkeley, CA \\nExchange Program \\n●\\nCoursework:\\nstatistical learning, time-series analysis,\\noptimization\\nE X P E R I E N C E\\n03/22 - 06/22\\nCHINA MERCHANTS SECURITIES\\nShenzhen, China \\nQuantitative and Fund Evaluation Research Intern \\n●\\nUsed compound logic to detect holdings of 1,000+ fund managers; achieved 0.96 sample \\naccuracy for their leading products \\n●\\nCalculated stock positions in funds using lasso; tracked industry coefficients that showed \\npreferred sectors for heavily weighting stocks in each fund \\n●\\nAnalyzed 200K+ quarterly fund reviews using natural language processing; conducted sentiment \\nanalysis and generated time-varying word clouds\\n11/20 - 05/21\\nFOUNDER SECURITIES\\nBeijing, China \\nQuantitative Analyst Intern \\n●\\nProcessed 3-minute data from IC and IF stock index futures contracts (2018 - 2020) in Python; \\nbuilt basic high-frequency timing strategy framework \\n●\\nUsed intra-day high-frequency indicator MACD to construct CTA timing strategy; conducted \\nbacktest timing strategy introducing threshold and peak breakthrough \\n●\\nAchieved 3-year excess returns of 95% on IC and 129% on IF backtests; maximum retractions \\nreached 24% and 26% and daily average win ratios were 59% and 60% on backtests\\nP R O J E C T S\\n03/22 - 05/22\\nUNIVERSITY OF INTERNATIONAL BUSINESS\\nAND ECONOMICS\\nBeijing, China \\nExamination of Relationships Among 50ETF IV, 50ETF, and Future Realized Volatility \\n●\\nCompared asymmetric effects of A-share and Hong Kong markets using Kalman filter; \\ndiscovered higher sensitivity to both positive and negative returns for investors in A-share market \\n●\\nPredicted future realized volatility with VIX using linear and dynamic models; identified VHSI \\n(VIX in HK) as unbiased estimate while 50ETF IV (VIX in China) was biased\\n09/19 - 09/20\\nUNIVERSITY OF INTERNATIONAL BUSINESS\\nAND ECONOMICS\\nBeijing, China \\nResearch on Investment Strategy Based on Text Mining and Natural Language Processing \\n●\\nAnalyzed news about individual stocks and constructed sentiment characteristics for it; \\ncalculated weighted average sentiment scores and constructed factors \\n●\\nProposed stock price prediction model based on news feature extraction with SVM model and \\nconducted empirical research; obtained regression coefficient of 0.16\\nC O M P U T A T I O N A L  S K I L L S  /  O T H E R\\nProgramming Languages:\\nPython, Java, R, MATLAB, SQL \\nLanguages:\\nEnglish (fluent); Mandarin (native) \\nActivity:\\nLinear algebra and real analysis teaching\\nassistant at University of International Business and Economics'),\n",
              " (28,\n",
              "  'J I A Q I  ( G E O R G E )  Y E\\n(347) 534-5818 //\\njiaqigeorgeye@nyu.edu\\n//\\nlinkedin.com/in/jiaqigeorgeye\\nE D U C A T I O N\\nExpected 12/23\\nNEW YORK UNIVERSITY\\nNew York, NY\\nThe Courant Institute of Mathematical Sciences\\nM.S. in Mathematics in Finance \\n●\\nExpected Coursework:\\nobject-oriented programming (Java),\\npenalized regression, decision trees,\\nlinear regression, Fama-French, Black-Scholes, stochastic processes, Hull-White model\\n08/19 - 05/22\\nNEW YORK UNIVERSITY\\nNew York, NY\\nB.A. in Mathematics \\n●\\nCoursework:\\nmultivariable calculus, linear algebra,\\nprobability, statistics, numerical analysis,\\nreal analysis, data structures, algorithms, financial accounting, economics \\n●\\nMinor:\\nComputer Science \\n●\\nHonors/Awards:\\nDegree with Distinction; Dean’s List\\nfor 5 semesters\\nE X P E R I E N C E\\n06/21 - 08/21\\nSHENWAN HONGYUAN CO., LTD\\n(Top 10 securities firm in China\\n)\\nQuantitative Research Intern\\nBeijing,\\nChina\\n●\\nPriced convertible bonds with Black-Scholes model and Monte Carlo simulation in Python; built\\nconvertible bond index in Excel \\n●\\nAudited 3 asset securitization investment projects; analyzed and integrated information and data\\naccording to clients’ promotional material; crafted reports and presented to manager\\n●\\nPredicted cash flow for asset securitization investment projects using Excel; created tables  to\\nvisualize data and ensured their accuracy\\n●\\nUpdated and supplemented research reports of clients China Railway, China Communications\\nConstruction, China Railway Construction, and China Power Construction\\n07/20 - 08/20\\nKPMG CHINA\\nShanghai,\\nChina\\nAudit Intern \\n●\\nAudited over 3,000 car replacement contracts; checked their accuracy and formatting \\n●\\nCollaborated with team members on creating and presenting audit reports to partners\\nP R O J E C T\\n11/20 - 12/20\\nNEW YORK UNIVERSITY SHANGHAI\\nShanghai, China\\nWelfare and Inequality in China \\n●\\nCollected data and analyzed relationship among the level of education, medical treatment, and\\ninequality in different provinces in China \\n●\\nApplied linear regression to calculate relationships among different provinces’ data; used\\nhypothesis testing to determine which data was relevant\\n●\\nSummarized data in Excel and applied GeoDa to make visualization about inequality; wrote\\nreports and presented findings\\nC O M P U T A T I O N A L  S K I L L S  /  O T H E R\\nProgramming Languages:\\nJava, Python, C, MATLAB, R\\nLanguages:\\nEnglish (fluent), Mandarin (native)\\nAffiliation/Certification:\\nCFA Level I candidate\\nOther Experience:\\nEnglish Language Teaching Assistant,\\nMartz Educational Institute in Soochow, China'),\n",
              " (29,\n",
              "  'B A I H E  Y U A N\\n781-869-0307 //\\nbaiheyuan\\n@nyu.edu\\n//\\nlinkedin.com/in/baihe-yuan\\nE D U C A T I O N\\nExpected 12/23\\nNEW YORK UNIVERSITY\\nNew York,\\nNY \\nThe Courant Institute of Mathematical Sciences \\nM.S. in Mathematics in Finance \\n●\\nExpected Coursework:\\nJava, option pricing models,\\nequilibrium asset pricing models, \\narbitrage pricing theory, risk neutral pricing, Black-Scholes theory, stochastic calculus \\n07/18 - 05/22\\nBRANDEIS UNIVERSITY\\nWaltham,\\nMA \\nB.S. in Economics & Mathematics Double Major; Business Minor \\n●\\nCoursework:\\nmachine learning with Python (numerical\\nlinear algebra), probability, statistics \\n●\\nHonors and Awards:\\nMagna Cum Laude\\nE X P E R I E N C E\\n05/21 - 07/21\\nTAIKANG PENSION & INSURANCE\\nBeijing, China \\nStrategic Planning Intern \\n●\\nConducted research and summarized results about public health policies in 6 regions \\n●\\nTabulated data on health conditions for 1,600+ employees; used Excel and MySQL to analyze \\nand visually present Chinese employees’ health in 17 industries \\n07/19 - 09/19\\nTOTO NORTH CHINA\\nBeijing, China \\nAdministrative and Data Analysis Intern \\n●\\nLearned and applied Excel functions to collect and verify new product information; gave \\nfactory suggestions for production planning based on new products’ sales volume \\n●\\nImproved colleagues’ work efficiency by taking inventory of office supplies and ranking \\nmaterials according to frequency of use\\nP R O J E C T S\\n09/21 - 11/21\\nRENMIN UNIVERSITY\\nBeijing, China \\nForecasting Chinese Stock Market (Shanghai Shenzhen CSI 300) \\n●\\nDeveloped and tested ARIMA models for analyzing Shanghai and Shenzhen stock exchange \\nreturns to forecast future returns \\n●\\nCreated GARCH models to compare the two stock markets; found volatility of markets to be \\nclosely correlated by analyzing models’ coefficients and conditional standard deviation \\n09/21- 12/21\\nBRANDEIS UNIVERSITY\\nWaltham, MA \\nMovie Recommendation Algorithm \\n●\\nCollaborated with team members to use algorithm that made movie recommendations based \\non users’ movie preferences \\n●\\nBuilt model with PCA, regression, and k-clustering based on 4,500 observations \\n09/19 - 11/19\\nInvestment Club - Analysis of US and\\nChina Energy Sectors \\n●\\nSpeculated future investment opportunities by collecting data on petroleum wholesaling, \\nsemiconductor, and energy industries, while analyzing impact of external factors \\n●\\nWrote paper on investment opportunities after collecting and analyzing information; predicted \\ncrude oil return decrease and natural gas and renewable energy increase after 2025\\nC O M P U T A T I O N A L  S K I L L S  /  O T H E R\\nProgramming Languages:\\nRStudio, Python, MySQL \\nLanguages:\\nEnglish (fluent), Mandarin (native) \\nCertification:\\nPassed CFA Level I'),\n",
              " (30,\n",
              "  'W E I  ( A N D Y )  Y U A N\\n(201) 993-9268 //\\nwei.andy.yuan@nyu.edu\\n//\\nlinkedin.com/in/weiandyyuan/\\nE D U C A T I O N\\nExpected 12/23\\nNEW YORK UNIVERSITY\\nNew York, NY \\nThe Courant Institute of Mathematical Sciences \\nM.S. in Mathematics in Finance \\n●\\nExpected Coursework:\\nderivatives pricing, stochastic\\nprocesses, time series analysis, \\nSupport Vector Machines, object-oriented programming (Java), linear regression, \\nFama-French, Black-Scholes & Greeks\\n, interest rate\\nmodels, optimization\\n08/18 - 05/21\\nINDIANA UNIVERSITY\\nBloomington, IN \\nB.S. in Mathematics, B.A. in Economics with High Distinction \\n●\\nCoursework:\\ncalculus, linear algebra, probability,\\nstatistics, ODEs, econometrics, \\nmulti-factor models, time series models \\n●\\nAward:\\nJames E. Moffat Scholarship (Highest GPA in\\nEconomics Department in 2020)\\nE X P E R I E N C E\\n09/21 - 03/22\\nGALAXY DERIVATIVES CAPITAL MANAGEMENT\\nShanghai, China \\nQuantitative Analyst Intern \\n●\\nDesigned and backtested futures trading strategy with Sharpe ratio of 2.1 by using \\nfundamental data and Backtrader library \\n●\\nConstructed multi-factor model and factor analysis structure that analyzed performance of \\nfundamental and technical factors of chemical commodities futures \\n●\\nApplied risk parity technique to optimize fund allocation for futures trading strategy, \\nwhich decreased maximum drawdown to 5% \\n09/20 - 10/20\\nALLIED MILLENNIALS PARTNERS\\nNew York, NY \\nQuantitative Analyst Intern \\n●\\nAnalyzed\\nCharles Schwab Corporation’s\\ncommon stock\\nreturns using AR(1) model; \\ntested whether those returns achieved weak efficient market criteria \\n●\\nCreated dummy variable model and examined seasonality in financial markets by \\nexploiting ordinary least squares regression \\n●\\nCharted data (e.g., PE ratio, ROE) of\\nSchwab compared\\nto other financial services firms’ \\n06/19 - 08/19\\nFOUNDER SECURITY\\nBeijing, China \\nSteel and Coal Industry Research Intern \\n●\\nAggregated Chinese steel and coal industry data; compiled it into daily reports \\n●\\nCollaborated with team members in building iron ore price analysis system \\n●\\nForecasted decline of iron ore prices during 2nd half of 2019 correctly\\nP R O J E C T S\\n03/22\\nBARUCH COLLEGE\\nNew York, NY \\nOptions Pricing System (C++) \\n●\\nApplied Boost, STL library, and OOP technique to build options pricing system \\n●\\nUsed exact pricing method for European and perpetual American options; built Greeks \\ncalculation functions \\n●\\nDeveloped numerical method pricing with Monte Carlo and finite difference methods for \\nEuropean options \\n04/21\\nINDIANA UNIVERSITY\\nBloomington, IN \\nPetroChina Company Limited Analysis (Python) \\n●\\nIdentified number of lags in time series models by using Bayesian information criterion \\n●\\nBuilt EGARCH and Markov switching models to analyze PetroChina on Shanghai Stock \\nExchange and New York Stock Exchange using Python \\n●\\nConcluded that basic volatility of PetroChina on Shanghai Stock Exchange was almost \\ndouble of its volatility on New York Stock Exchange\\nC O M P U T A T I O N A L  S K I L L S  /  O T H E R\\nProgramming Languages:\\nPython, Java, C++, MATLAB,\\nVBA, SQL \\nLanguages:\\nEnglish (fluent), Mandarin (native) \\nActivity:\\nNorth American Debate Contest for Chinese\\nUniversity Students (Team won 2nd place)'),\n",
              " (31,\n",
              "  'J I N M I N G  ( J I M )  Z H A N G\\n(608) 692-6164 //\\njinming-jim-zhang@nyu.edu\\n//\\nlinkedin.com/in/jinming-jim-zhang/\\nE D U C A T I O N\\nExpected 12/23\\nNEW YORK UNIVERSITY\\nNew York, NY \\nThe Courant Institute of Mathematical Sciences \\nM.S. in Mathematics in Finance \\n●\\nExpected Coursework:\\nobject-oriented programming (Java),\\npenalized regression, decision trees, \\nlinear regression, Fama-French, Black-Scholes, stochastic processes, Hull-White model\\n09/19 - 05/22\\nUNIVERSITY OF WISCONSIN-MADISON\\nMadison, WI \\nB.A. in Mathematics and B.A. in Economics \\n●\\nCoursework:\\nstochastic processes, probability, linear\\nalgebra, ordinary differential equations, \\ngame theory, Bayesian statistics, law of large numbers, econometrics \\n●\\nHonors/Awards:\\nDean’s list (top 2%)\\n09/17 - 06/19\\nSHANDONG UNIVERSITY\\nJi’nan, China \\nB.S. in Human Resource Management \\n●\\nCoursework:\\ncalculus, accounting, time series analysis,\\nstatistics, economics\\nE X P E R I E N C E\\n07/21 - 09/21\\nSHENWAN HONGYUAN SECURITIES\\nBeijing, China \\nInvestment Banking Intern \\n●\\nEvaluated property trust and its financial solvency, analyzed risks, and created investment \\nscheme including risk management suggestions \\n●\\nCollaborated with teammates in performing due diligence as well as drafting prospectus and \\ninvestment reports \\n●\\nAnalyzed financial statements released by top 30 sports teams worldwide; evaluated pandemic’s \\nimpact on them \\n●\\nCo-wrote research report on multiple aspects of ice-snow sports industry in China (e.g., clothing, \\ngear) over prior 10 years\\n04/21 - 07/21\\nMORGAN STANLEY\\nShanghai,\\nChina \\nQuantitative Analyst Intern \\n●\\nDeveloped Python programs based on FIX protocol to receive and store order information \\n●\\nUsed high-frequency algorithm to classify, time, and quantify orders; accelerated processing by \\n45%; retrieved and enriched FIX messages according to different trading strategies \\n●\\nOptimized VWAP and TWAP algorithms; simplified codes and sped up processing by 20%\\nP R O J E C T S\\n01/21 - 05/21\\nUNIVERSITY OF WISCONSIN-MADISON\\nMadison, WI \\nTracking Worldwide COVID-19 Vaccination (Python) \\n●\\nProgrammed database crawler that extracted information from 50 countries (e.g., HDI, GDP, and \\nnumber of new vaccinations) \\n●\\nAnalyzed collected data to define duration of pandemic’s phases in each country \\n●\\nPredicted COVID-19 vaccination development in those countries\\n09/20 - 12/20\\nLoose Monetary Policy in New Framework \\n●\\nAnalyzed how Taylor’s rule fit new objectives that Federal Reserve Board stated in 2020 \\n●\\nUsed IS-LM model to assess effectiveness of new conventional monetary policies during \\neconomic shocks \\n●\\nApplied\\nExpectations Hypothesis of Term Structure\\nmodel and Phillips Curve to assess impact \\nof unconventional monetary policies (e.g., credit easing) on market since 2018\\nC O M P U T A T I O N A L  S K I L L S  /  O T H E R\\nProgramming Languages:\\nPython, Java, Stata \\nLanguages:\\nEnglish (fluent); Korean (native); Mandarin\\n(native)'),\n",
              " (32,\n",
              "  \"Y U X U A N  ( L E X I E )  Z H A N G\\n(551) 349-4915 //\\nyuxuanlexie.zhang@nyu.edu\\n//\\nlinkedin.com/in/yuxuanlexiezhang\\nE D U C A T I O N\\nExpected 12/23\\nNEW YORK UNIVERSITY\\nNew York,\\nNY \\nThe Courant Institute of Mathematical Sciences \\nM.S. in Mathematics in Finance \\n●\\nExpected Coursework:\\nOOP in Java, LSTM model, Black-Scholes\\nformula, Ito’s lemma, options \\npricing, derivatives trading, risk-neutral valuation\\n09/18 - 06/22\\nBEIJING JIAOTONG UNIVERSITY\\nBeijing, China \\nB.S. in Statistics \\n●\\nCoursework:\\nprobability, linear regression, stochastic\\nprocess, machine learning, real analysis, \\nfunctional analysis, ordinary differential equations, time series analysis \\n●\\nHonors:\\nNational Recognition (team ranked top #65\\nof 844) in Bayesian Statistics, First Prize in \\nChinese Undergraduate Mathematical Contest in Modeling (team ranked in top 4% nationwide)\\nE X P E R I E N C E\\n07/21 - 09/21\\nCHINA GALAXY SECURITIES\\nBeijing, China \\nInvestment Banking Analyst Intern (Wind, Excel) \\n●\\nUsed\\nconditional stock selection function in Wind\\n(Chinese version of Bloomberg) to find \\nrelevant cases for due diligence and transaction evaluation \\n●\\nVisualized data with PivotChart; cleaned multiple fixed income securities’ data with VLOOKUP \\n●\\nWrote evaluation, referring to prior 3 years’ mergers, using precedent transaction analysis\\n12/20 - 02/21\\nACCENTURE\\nBeijing, China \\nTechnology Consulting Assistant (SAP) \\n●\\nCollaborated with business planning and consolidation consultant to construct expense budget \\ntable in SAP; created 23 logical carding diagrams of cost allocation configuration rules \\n●\\nMaintained weekly reports and meeting minutes; listed outstanding issues in group budget; \\npromoted customers’ user training progress and optimized speed of system implementation\\n07/20 - 08/20\\nPANGUWEB TECHNOLOGY \\n(Regional operator of China's largest search engine, Baidu) \\nData Analyst Intern (Power BI, Power Query)\\nShijiazhuang, China \\n●\\nProcessed data with Power Query to assess sales volume of different goods for prior 10 years \\n●\\nApplied Pareto's rule to analyze sales data; drew waterfall plot in Power BI to visualize changes \\n●\\nAnalyzed seasonal influence of different goods’ sales data for target customers; submitted report \\nto senior managers to facilitate their sales strategy\\nP R O J E C T S\\n06/20 - 04/21\\nBEIJING JIAOTONG UNIVERSITY\\nBeijing, China \\nEmpirical Bayesian Estimation in Generalized Censoring Scheme (R, MATLAB) \\n●\\nEstimated parameters of censored data with Bayesian and E-Bayesian methods based on LINEX \\nand SE loss functions (methods for\\nmodel optimization) \\n●\\nConducted KS test and implemented Metropolis-Hastings algorithm for simulation study \\n●\\nPublished two papers in SCI\\njournals:\\none i\\nn\\nEntropy\\nand one in\\nMathematical Problems in \\nEngineering\\n05/20 - 07/20\\nHARVARD BUSINESS SCHOOL\\nRemote \\nFintech and Asset Management (Python) \\n●\\nUtilized DCF model and DuPont analysis methods for Yangjie Technology Co., Ltd. \\n●\\nPredicted stock price trends in Python with ARIMA, GARCH, and Holt-Winter models; \\nintroduced SVM algorithm to process nonlinear parts of data \\n●\\nTested and removed outliers from ARIMA and SVM models \\n●\\nRecommended purchase of Yangjie Technology shares,; which achieved 148% return in \\nforthcoming 1.5 years compared to 6% from CSI 300 Index\\nC O M P U T A T I O N A L  S K I L L S  /  O T H E R\\nProgramming Languages:\\nPython, Java, R, MATLAB, SQL,\\nWind \\nLanguages:\\nEnglish (fluent); Mandarin (native)\"),\n",
              " (33,\n",
              "  \"C H E N  Z H A O\\n(412) 888-9306 // chen.zhao@nyu.edu //\\nlinkedin.com/in/chen-zhao-cz\\nE D U C A T I O N\\nExpected 12/23\\nNEW YORK UNIVERSITY\\nNew York, NY \\nThe Courant Institute of Mathematical Sciences\\nM.S. in Mathematics in Finance \\n●\\nExpected Coursework:\\nstochastic calculus, object-oriented\\nprogramming in Java, supervised and\\nunsupervised machine learning, portfolio optimization, Fama-French, time series analysis\\n09/18 - 04/22\\nUNIVERSITY OF PITTSBURGH\\nPittsburgh, PA \\nCompleted first two years at Sichuan University (China)\\nB.S. in Material Science and Engineering, Minor in Economics \\n●\\nCoursework:\\nstochastic process, probability theory,\\nlinear algebra, MLE, machine learning,\\npartial differential equation, corporate finance, game theory, Hamilton's equations,\\nthermodynamic modeling and numerical simulation,  time-independent Schrödinger equation \\n●\\nHonors/Awards:\\nTerm Honors, all semesters Dean's Honor,\\nall semesters\\nE X P E R I E N C E\\n06/21 - 08/21\\nJINRUI FUTURES \\n(Traditional commodity hedging and arbitrage research firm)                                                                      Shanghai, China\\nMarket Research Intern \\n●\\nInterpreted and qualitatively analyzed copper futures in China under carbon-neutral policies \\n●\\nCollaborated in writing report on using iron ore and coke futures in rebar industry, hedging\\nagainst adverse price movements \\n●\\nExplained logic of cross-hedging strategy in presentation to department\\n02/21 - 03/21\\nCHINA INTERNATIONAL CAPITAL CORPORATION\\n(CICC)\\nShanghai, China \\nQuantitative Analyst Intern \\n●\\nManaged large-scale datasets of Shanghai Stock Exchange 50 ETF Option in Python \\n●\\nCalculated synthetic forward prices and implied volatility of options using different market\\ndiscount factors in Python \\n●\\nCalculated implicit market discount factor of options by linear regression in Python \\n●\\nBuilt backtesting system and tracked daily profit and loss to verify accuracy of new implicit\\nmarket discount factor  and reliability of strategies in MATLAB\\nP R O J E C T S\\n09/22 - 10/22\\nNEW YORK UNIVERSITY\\nNew York, NY \\nStock Trading Platform Design (Python) \\n●\\nImplemented functions that users can bid buy/sell prices for a stock and view the real time price \\n●\\nDesigned match system by constructing new data structure according to price/time\\n03/21 - 05/22\\nUNIVERSITY OF PITTSBURGH\\nPittsburgh, PA \\nMath Research on Low-Dimensional Lotka-Volterra Models of Economic Growth (R, MATLAB) \\n●\\nContributed to developing new mathematical model to interpret different countries’ economic\\ngrowth trends; discovered nonlinear relationships among several variables; created new features \\n●\\nDeveloped algorithms that combined linear regression, sparse identification, and particle swarm\\noptimization to calculate model’s parameters; checked parameters’ convergence \\n●\\nAnalyzed model's Hamiltonian system and numerically simulated it \\n●\\nVisualized evolution equations and calculated the attractors of dynamic system\\n07/22 - 08/22\\nKaggle Competition: American Express\\n– Default Prediction (Python) \\n●\\nManaged large-scale dataset with time series and filled in missing data \\n●\\nImplemented several methods (e.g., QDA, PCA, SVM) to predict default probability \\n●\\nDesigned parallel computing algorithms to speed-up calculation\\nC O M P U T A T I O N A L  S K I L L S  /  O T H E R\\nProgramming Languages:\\nPython, JAVA, MATLAB, R\\nLanguages:\\nEnglish (fluent); Mandarin (native)\"),\n",
              " (34,\n",
              "  \"Y U Q I  ( Z O E )  Z H O U\\n(858) 230-4286 //\\nyuqizoe.zhou@nyu.edu\\n//\\nlinkedin.com/in/yuqizoezhou\\nE D U C A T I O N\\nExpected 12/23\\nNEW YORK UNIVERSITY\\nNew York, NY\\nThe Courant Institute of Mathematical Sciences\\nM.S. in Mathematics in Finance \\n●\\nExpected Coursework:\\nBlack-Scholes, risk management,\\nobject-oriented programming (Java)\\n09/18 - 06/22\\nUNIVERSITY OF CALIFORNIA, SAN DIEGO\\nSan Diego, CA\\nB.S. in Applied Mathematics and B.A. in Economics \\n●\\nCoursework:\\ncapital asset pricing model, arbitrage\\npricing theory, futures hedging techniques,\\noptions trading strategies, econometrics, probability, statistics, real analysis, regression models,\\nMonte Carlo simulation, decision trees, corporate finance\\nE X P E R I E N C E\\n03/21 - 05/21\\nZHESHANG SECURITIES\\n(Top 20 securities firm in China)\\nShanghai, China\\nSales & Trading Intern \\n●\\nResearched Chinese government bonds and US Treasury market, investigated macro drivers\\n(e.g., interest rates, inflation), and summarized key takeaways in research report \\n●\\nAnalyzed\\ncredit bonds for coal, steel, oil, and electricity\\nindustries, developed data analysis for\\nsteel industry using R, and produced carbon-neutral investment research report \\n●\\nDrafted weekly market summary; gathered 15 liquidity indicators (e.g., DR rates, OMO and UST\\nyields in rates market); assessed credit risk of defaulted bond entities \\n●\\nApproached ~200 financial institutions on Bloomberg, administered cross-border transactions for\\nnew clients, such as Deutsche Bank, and updated daily trading information and volumes\\n07/20 - 09/20\\nSHANGHAI PUDONG DEVELOPMENT BANK\\nGuangzhou, China\\nFund Custody Intern \\n●\\nTracked private equity funds, contacted ~300 portfolio managers, and updated custodian records \\n●\\nExamined funds' capital backgrounds and investment restrictions; conducted risk verification \\n●\\nConverted funds' paper files into digital ones and built 300 digital transfer records\\n08/19 - 09/19\\nGUANGFA SECURITIES\\nGuangzhou, China\\nDebt Capital Market Intern \\n●\\nCollaborated in drafting company's semi-annual report; sorted bond issuance documents and\\nsupplemented company and business introduction sections in offering memorandum \\n●\\nCreated status-tracking tables for bonds of 4 Chinese provinces in Excel spreadsheets and learned\\nissuance information for bonds from Wind Financial Terminal\\nP R O J E C T S\\n07/21 - 01/22\\nUNIVERSITY OF CALIFORNIA, LOS ANGELES\\nSan Diego, CA\\nHigh-frequency Stock Price Movements and Market Microstructure (R) \\n●\\nCalculated 4 US tech stock return rates by collecting 30-year price data; designed 3 types of\\nportfolios and efficient frontiers based on Markowitz portfolio theory \\n●\\nConstructed and backtested volatility-managed model portfolio\\n01/21 - 03/21\\nUNIVERSITY OF CALIFORNIA, SAN DIEGO\\nSan Diego, CA\\nData Analysis and Inference Projects (Python) \\n●\\nDesigned statistical analysis methods and investigated correlations among 5 topics \\n●\\nUsed data science techniques such as implementing Poisson Process model, Mixed-Effect model,\\nand single exponential smoothing to complete 5 research reports\\nC O M P U T A T I O N A L  S K I L L S  /  O T H E R\\nProgramming Languages:\\nR, Java, Python, MATLAB, STATA\\nLanguages:\\nEnglish (fluent), Mandarin (native), Cantonese\\n(basic)\"),\n",
              " (35,\n",
              "  'R U I H A N  Z H U A N G\\n(858) 568-0640 //\\nruihanzhuang@nyu.edu\\n//\\nlinkedin.com/in/RuihanZhuang\\nE D U C A T I O N\\nExpected 12/23\\nNEW YORK UNIVERSITY\\nNew York, NY \\nThe Courant Institute of Mathematical Sciences \\nM.S. in Mathematics in Finance \\n●\\nExpected Coursework:\\nMachine learning, risk management,\\nportfolio management, strategy \\nsimulations, data science, extreme-value theory, copulas, VaR, expected shortfall, stochastic \\ncalculus, Black-Scholes, arbitrage, risk-neutral valuation, log-normal hypothesis, derivatives, \\nFeynman-Kac equation\\n09/18 - 03/22\\nUNIVERSITY OF CALIFORNIA SAN DIEGO\\nSan Diego, CA \\nB.S. in Mathematics-Computer Science \\n●\\nCoursework:\\nOOP (Java, C++), data structures, agile\\nmethods, algorithms (e.g., greedy, graphs), \\nstatistics (hypothesis testing, MLE estimators, multivariate densities, Poisson process), \\neconometrics (linear regression, IV estimators), multivariate calculus, linear algebra \\n●\\nHonors/Awards:\\n2021-2022 UC San Diego Physical Science\\nDean’s Undergraduate Award for \\nExcellence, Cum Laude\\nE X P E R I E N C E\\n07/22 - 08/22\\nE FUND MANAGEMENT \\n(Largest public fund in China, AUM $236B)\\nGuangzhou, China \\nEquity Analyst Intern \\n●\\nAnalyzed Chinese automobile company BYD and effects of government policies on new-energy \\nvehicle industry \\n●\\nReviewed sell-side research reports and government statistics to determine causes of BYD’s \\nsuccess with its best-selling models \\n●\\nSummarized BYD’s advantages in battery and semiconductor production\\n07/21 - 08/21\\nCHENGQI ASSET MANAGEMENT \\n(AUM $4B)\\nShenzhen, China \\nQuantitative Research Intern \\n●\\nDeveloped alpha-generating trading strategies using Python by leveraging stock market data, \\nsell-side analytics forecasts, and company financial reports \\n●\\nBacktested alpha signals and analyzed their performance after risk factor and sector \\nneutralization; improved several alpha signals \\n●\\nExperimented generating alpha by extracting market sentiment using sell-side forecasts\\nP R O J E C T S\\n12/20 - 06/21\\nUNIVERSITY OF CALIFORNIA SAN DIEGO\\n(\\nJavascript, CSS)\\nSan Diego, CA \\nContribute to Research in Combinatorial Game Theory and App Development \\n●\\nConducted research and developed 2 mathematical games – as website and native app; created \\ninstallation packages for MacOS and Windows; designed games’ UI \\n●\\nAdded new modules to open-source toolkit commonly used in combinatorial game theory to \\ncompute games’ theoretic values\\n07/20 - 09/20\\nINDEPENDENT PROJECT (Python)\\nQingdao, China \\nApplication of Machine Learning Models \\n●\\nDesigned and built housekeeping robot that recognizes human figures and controls flashlight to \\ntrack and deter intruders \\n●\\nCustomized heavy-duty pan-tilt hat, ensuring sufficient torque and control of flashlight rotation \\n●\\nResearched different machine learning models to find human-shape-recognition model suitable \\nfor robot with limited processing power\\nC O M P U T A T I O N A L  S K I L L S  /  O T H E R\\nProgramming Languages:\\nC++, C, Java, Python \\nLanguages:\\nEnglish (fluent); Mandarin (native)')]"
            ]
          },
          "metadata": {},
          "execution_count": 37
        }
      ]
    },
    {
      "cell_type": "markdown",
      "source": [
        "### GDI Resume Book"
      ],
      "metadata": {
        "id": "IVDa5R-Y51_h"
      }
    },
    {
      "cell_type": "code",
      "source": [
        "resumes2 = extract_resumes_from_book(\"/content/GDI2022ResumeBook.pdf\", skip_pages=[1, 80, 81, 82])"
      ],
      "metadata": {
        "colab": {
          "base_uri": "https://localhost:8080/"
        },
        "id": "f3LaZ2UH3LVs",
        "outputId": "14090c49-30f4-4712-f6c4-a9ad3b821c91"
      },
      "execution_count": 49,
      "outputs": [
        {
          "output_type": "stream",
          "name": "stderr",
          "text": [
            "\u001b[32m2023-05-09 14:30:10.381\u001b[0m | \u001b[34m\u001b[1mDEBUG   \u001b[0m | \u001b[36m__main__\u001b[0m:\u001b[36mextract_resumes_from_book\u001b[0m:\u001b[36m18\u001b[0m - \u001b[34m\u001b[1m[(0, '/content/GDI2022ResumeBook.pdf')]\u001b[0m\n"
          ]
        }
      ]
    },
    {
      "cell_type": "code",
      "source": [
        "resumes2[:3]"
      ],
      "metadata": {
        "colab": {
          "base_uri": "https://localhost:8080/"
        },
        "id": "miu-WP6Z5kBb",
        "outputId": "ca0d8b1f-08b0-466d-ddbb-dfca2a8bfc09"
      },
      "execution_count": 44,
      "outputs": [
        {
          "output_type": "execute_result",
          "data": {
            "text/plain": [
              "[(0, '/content/GDI2022ResumeBook.pdf'),\n",
              " (1,\n",
              "  \"FORDHAM'S 2022\\nGLOBAL DIVERSITY\\n& INCLUSION\\nNETWORKING\\nBANQUET\\nCAREER CENTER\\n& INCLUSION GLOBAL DIVERSITY\\nE M P L O Y E R\\nR E S U M E  B O O K L E T  \\n\"),\n",
              " (3,\n",
              "  'Yuliya Akchurina  \\nHuntington, NY | 732-447-3823  | yakchurina@fordham.edu   \\n \\nEDUCATION   \\n \\n \\nFordham University , New York, NY   09/2020 - 05/2022  \\nMaster of Science in Data Science  \\nGPA: 3.65   \\n \\nBaruch College, CUNY , New York, NY      09/2010 - 02/2014  \\nBachelor of Arts in Actuarial Science  \\nMinor: Communication Studies  \\nGPA: 3.57  \\n \\nRELEVANT COURSEWORK   \\n \\n \\nCourses: Data Mining, Machine Learning, NLP, AI, Big Data Processing, Data Visualization , SQL Database  \\nMachine Learning:  Supervised and Unsupervised Learning, Regression, Classification, Clustering Models, Text \\nProcessing  \\nModels : Linear Regression, Logistic Regression, SVM, Decision Trees, Random Forest, Naïve Bayes Classifier, \\nEnsemble Learning, KNN, K -Means Clustering, Ti me Series Forecasting, Association Rule Mining, Neural \\nNetwork, CNN, RNN, LSTM  \\nCore Mathematics: Statistics, Probability, Linear Algebra, Calculus, Differential  \\n \\nEXPERIENCE   \\n \\n \\nPublic Consulting Group , Contact Tracer for New York State , Long Island Region , NY 12/2020 - 03/2022  \\n• Called NYS residents exposed to Covid -19 virus to educate about NYS guidelines for Covid -19 spread \\nprevention  \\n \\nImpakt Advisors , Data Analyst Intern , New York, NY                                      07/2021 - 09/202 1 \\n• Gathered, cleaned, analy zed data using SQL and Python  \\n• Created visualizations and dynamic dashboards using Tableau and Power BI  \\n• Communicated with clients to determine the KPIs, project goal s, and deadlines  \\n \\nInfoHedge Technologies , Procurement and Logistics Manager , New York, NY  09/2014 - 10/2017  \\n• Decreased the rate of client complaints by 90% by instituting operational standards  \\n• Standardized client equipment menu, reducing lead times by 30% \\n• Developed vendor relationships and elevated to partnership levels  \\n• Negotiated best pricing levels with vendors  \\n• Hired, trained, and managed the Procurement and Logistics team  \\n• Managed entire client order lifecycle for 130+ clients and provided timely stat us updates  \\n• Physical and virtual asset management for over 160 clients and 2 datacenters  \\n• Maintained in -house equipment inventory for fastest service to our clients  \\n• Interfaced daily with clients and all levels of internal teams to verify and obtain proper re sources for \\nvarious internal and client projects  \\n \\nPain Management of Borough Park , Office Manager , Brooklyn, NY  11/2013 – 08/2014  \\nAdvanced Cardio Diagnostic , Front Desk Receptionist , Brooklyn, NY   08/2009 – 09/2013  \\n \\nSKILLS AND LANGUAGES   \\n \\n \\nTech Skills: Python (Pandas, NumPy, Scikit -learn, Matplotlib, Plotly, Keras, TensorFlow), MySQL, Unix/Bash, \\nHadoop, Spark, Tableau, Google Charts  \\nLanguages: Fluent in Russian  \\nInterests : Machine Learning, AI, NLP, Stock Market, Decision Science, Blackjack, Art History  ')]"
            ]
          },
          "metadata": {},
          "execution_count": 44
        }
      ]
    },
    {
      "cell_type": "code",
      "source": [
        "resumes2[-3:]"
      ],
      "metadata": {
        "colab": {
          "base_uri": "https://localhost:8080/"
        },
        "id": "HGS1oKnh5pNO",
        "outputId": "a78680e2-842f-4a11-b400-a1ab11659987"
      },
      "execution_count": 45,
      "outputs": [
        {
          "output_type": "execute_result",
          "data": {
            "text/plain": [
              "[(78,\n",
              "  'AVA BARZOWSKAS  \\n(339) 236- 5248 · Hingham, MA · abarzowskas@fordham.edu · linkedin.com/in/ava -barzowskas -666844205  \\n  \\nEDUCATION   \\nFordham University                   May 2023  \\nBachelor of Arts in Political Science with a Minor in American Studies on a Pre Law Track , 3.797 GPA  \\n \\nRELEVANT COURSEWORK  \\nIntroduction to the American Legal System, Constitutional Law, American Constitution, Eur opean Politics  \\n \\nRELEVANT EXPERIENCE Whitestone Chambers, Legal Intern London, UK             January -April 2022  \\n● Conducted in depth legal research and prepared arguments for active data breach cases  \\n● Worked directly with head barrister to prepare for various stages of commercial and civil litigation  \\n● Attended court hearings involving, commercial law, traffic violation, family law, and data breach cases  \\n● Crafted correspondence between experts, clients and the head barrister via letter and email  \\n● Researched and drafted documents relating to environmental law and regarding businesses following \\nCOP26 regulations  \\nMorrissey, Wilson Zafiropoulos LLP, Legal Intern Braintree, MA                       June - August 2021, \\n2022  \\n● Assisted in trial preparation and attended hearings for involuntary bankruptcy  \\n● Organized and prepared in -depth legal research and legal documents on workers compensation and \\nbankruptcy cases  \\n● Attended and recorded notes at deposition hearings in the area of commercial bankruptcy litigation  \\n● Aided attorney in witness preparation and compiled exhibit books ahead of bankruptcy trial  \\n● Took part in workers compositions depositions  \\n \\nADDITIONAL EXPERIENCE Fordham Career Ambassador,  New York, NY Head           September 2022-  May 2023  \\n● Coordinated legal based professional development events for Fordham undergraduate students  \\n● Attended legal employment and law school panels on behalf of Fordham Career Ambassadors  \\n● Advised fellow students in the tailoring of legal based resumes  \\nLOCAL 02045,  Server Hull, MA         June- August 2020, 2021, 2022  \\n● Memorized both LOCAL 02045’s food and beverage menus to recommend superior pairings  \\n● Took orders, cleaned tables and dealt with the exchange of money in a faced paced restaurant setting  \\n● Teamed up with other employees to serve food and beverage that routinely exceeded guest \\nexpectations  \\n● Provided excellent service to patrons of the high qual ity establishment  \\nNew York Giants Fordham Case Study, New York, NY         November -March 2019 -2020  \\n● Designed a cohesive plan to attract Generation Z to the aging fanbase of the New York Giants  \\n● Collaborated with a team of five to generate and present our findings after two months  \\n● Analyzed social media trends to cultivate better interactions with young fans  \\n● Presented data findings and possible solutions in front of two panels of five judges  \\nMuddy Buddies 4 -H Pig Club, President, Hingham, MA                       January -August 2014- 2019  \\n● Organized and ran monthly meetings, club events, assisted with media public relations  \\n● Provided expertise and mentorship for junior swine competitors in regional fairs  \\n● Promoted citizenship, leadership, responsibility and life skil ls through experiential learning programs  \\n SKILLS \\nAdobe Creative Cloud, Microsoft Office, Mac and Windows Operating systems, Google Suites, \\nConversational Spanish  \\n \\nINTERESTS  \\n98.5 The Sports Hub, Hot Vinyasa Yoga, New England Patriots, the SYSK Podcast, Harlequins Rugby  '),\n",
              " (79,\n",
              "  'MICHELLE L. DEMOTTE  \\nBronx, NY 10458  | (203) -241-330 1 | mdemotte@fordham.edu | www.linkedin.com/in/michelle -demotte   \\n  \\nEDUCATION  \\nFordham University, Gabelli School of Business           Bronx, New York  \\nBachelor of Sc ience in Business Administration , Major in Finance     September 2022  – May 2024  \\nProject:  Gabelli School of Business Consulting Cup Challenge  (2022)  \\n• Collaborat ing with a five -person team to develop a thorough financial and strategic analysis of Nordstrom  by \\nidentifying challenges, analyzing previous financial reports, and developing a marketing/implementation strategy   \\n \\nWestern Connecticut State University, Ancell College of Business             Danbury, Connecticut  \\nKathwari Honors Program ,           September 2021 - May 202 2 \\nGPA:  3.93/4.0, Dean’s List               \\n \\nSacred Heart University , Thomas More Honors Program              Fairfield, Connecticut  \\nGPA: 3.86/4.0, Dean’s List           September 2020 - May 2021  \\n \\nEXPERIENCE  \\nBrand Ambassador                  Danbury, Connecticut  \\nAerie                       August 2021 – Present  \\n• Ensured safe and accurate transfer of depository documents including witnessing, verifying, and transporting cash \\n• Supported  management and completed  tasks such as shipment, post -season transfers, and floor set  as well as \\ncashiering activities including purchases, returns, and exchanges in keeping with store policies \\n• Amplified guests’ experiences  with superior custome r service skills and professionalism  \\n \\nHome Delivery Shopper                      Danbury, Connecticut  \\nStop and Shop                     May 2020 - June 2021  \\n• Adapted to ever -changing COVID guidelines while performing fast -paced and time -sensitive  tasks  \\n• Initiated a leadership position t o support and uplift coworkers and increase workplace productivity \\n• Assembled grocery orders with timeliness and accuracy while exceeding the hourly fulfillment expectation  \\n Childcare Provider                             Brewster, New York  \\nSelf-employed              September 2018  – September 2022  \\n• Developed  and maintained accurate payroll documents stating reimbursements, credit, and payment schedules  \\n• Cultivated  lifelong relationships with 2  girls and completed daily  household duties thoughtfully \\n• Communicated clearly on a weekly basis about satisfying and exceeding family expectations and needs  \\n \\nVOLUNTEER EXPERIENCE  \\nTails of Courage                                Danbury, Connecticut  \\nFounder  and President , Volunteer         September 2018 - May 2019  \\n• Pioneered a Tails of Courage high school club with the corresponding local animal shelter  \\n• Collected and hand-deliver ed supplies including hundreds of dollars’ worth  of cash donations to the shelter  \\n• Organized  and oversaw bake sales, Chipotle fundraisers, and school -wide collections for materials and funding  \\n \\nSacred Heart University Journey                 Fairfield, Connecticut \\nVolunteer                                     Summer 2018, 2019  \\n• Centralized efforts to support lo cal gardens, housing developments, and communities in the greater Bridgeport area  \\n• Assessed community needs and developed solutions followed by insightful reflection in small group settings  \\n \\nACTIVITIES/INTERESTS  \\nSkills: Advanced Microsoft Excel, PowerPoint, Word, and Outlook \\nRelevant Coursework: Financial Accounting, Information Systems, Statistical Decision Making, Business Statistics  \\nInterests: Cooking, self-improvement, spending time outside, diversity, Minecraft, and traveling  '),\n",
              " (80, '')]"
            ]
          },
          "metadata": {},
          "execution_count": 45
        }
      ]
    },
    {
      "cell_type": "code",
      "source": [
        "resumes2.pop()"
      ],
      "metadata": {
        "colab": {
          "base_uri": "https://localhost:8080/"
        },
        "id": "qL0rnXQ45-44",
        "outputId": "34de1193-c85e-48cf-cd73-4dd9b2e9b5b5"
      },
      "execution_count": 46,
      "outputs": [
        {
          "output_type": "execute_result",
          "data": {
            "text/plain": [
              "(80, '')"
            ]
          },
          "metadata": {},
          "execution_count": 46
        }
      ]
    },
    {
      "cell_type": "markdown",
      "source": [
        "### Courant 2022 Resumes Book"
      ],
      "metadata": {
        "id": "Fh_33-QM6n0c"
      }
    },
    {
      "cell_type": "code",
      "source": [
        "resumes3 = extract_resumes_from_book(\"/content/resume_book_2022_courant.pdf\", skip_pages=[1,2,3])"
      ],
      "metadata": {
        "colab": {
          "base_uri": "https://localhost:8080/"
        },
        "id": "7RbbFdED6jfm",
        "outputId": "606423de-8dc4-4165-ac4f-6cc4b9818e19"
      },
      "execution_count": 55,
      "outputs": [
        {
          "output_type": "stream",
          "name": "stderr",
          "text": [
            "\u001b[32m2023-05-09 14:31:49.329\u001b[0m | \u001b[34m\u001b[1mDEBUG   \u001b[0m | \u001b[36m__main__\u001b[0m:\u001b[36mextract_resumes_from_book\u001b[0m:\u001b[36m18\u001b[0m - \u001b[34m\u001b[1m[(0, '/content/resume_book_2022_courant.pdf')]\u001b[0m\n"
          ]
        }
      ]
    },
    {
      "cell_type": "code",
      "source": [
        "resumes3[:3]"
      ],
      "metadata": {
        "colab": {
          "base_uri": "https://localhost:8080/"
        },
        "id": "HcCHmGtT6w3x",
        "outputId": "e19568b9-832d-4891-ef21-18f75322d3e4"
      },
      "execution_count": 57,
      "outputs": [
        {
          "output_type": "execute_result",
          "data": {
            "text/plain": [
              "[(0, '/content/resume_book_2022_courant.pdf'),\n",
              " (1,\n",
              "  'Class of 2022 Resume Book \\nMathematics in Fin ance M.S. Program \\nCourant Institute of Mathematical Sciences \\nNew York University \\nFor the la test versio n, please go t o \\nhttp://math.nyu.edu/financial_mathematics \\nJob placement contact: mathfinjobs@cims.nyu.edu \\n'),\n",
              " (5,\n",
              "  'YEA JUN KIM  \\n(347) 533-0003  ■ yeajun.kim@nyu.edu  ■ linkedin.com/in/yeajun -kim/ \\nEDUCATION  \\nNEW YORK  UNIVERSITY  \\nThe Courant Institute of Mathematical Sciences  \\nM.S.  in Mathematics  in Finance  (Dec 2021  – Dec 2022 ) New York, NY  \\n• Coursework: Dynamic asset pricing, active portfolio management, market microstructure, advanced topics in \\nequity derivatives, time series analysis, advanced statistical inference  \\nNEW YORK  UNIVERSITY  \\nB.A. in Mathematics, Minor in Business Studies  (Sep 2014 – Dec 2021 ) New York, NY  \\n• Graduate Coursework:  Stochastic calculus, risk and portfolio management , financial securities and markets, Black \\nScholes, computing in finance, Monte Carlo simulation, data driven modeling, machine learning  \\n• Coursework:  Regression, mathematical statistics, PDEs, probability theory, numerical analysis, OOP, data \\nstructure, economics, financial accounting, information system, operations management  \\nEXPERIENCE  \\nHYPHEN  \\nQuantitative Analyst Intern  (May 2022 – Aug 2022 ) New York, NY  \\n• Constructed granular portfolios grouped by region and industry, using stocks from  MSCI ACWI Index ; screened \\nportfolios to satisfy rules of Islamic compliance  \\n• Implemented multivariable regression  to predict  U.S.  GDP and CPI; constructed point -in-time data  with vintage data  \\n• Conducted research on applications of  PCA to forecast correlations of multiple  assets \\n• Analyzed  auto- regressive factor model used to unsmooth and predict returns in private markets  \\n• Preprocess ed and handled various  time-series asset  data from multiple databases, such as Bloomberg, Factset  \\nMCC ECONOMICS & FINANCE  \\nFinance Intern (Nov 2020 – Feb 2021 ) London, UK  (remote ) \\n• Implemented beta estimation for UK energy companies using OLS, rolling OLS, and GARCH models; visualized \\ndata to enable competitive comparisons  \\n• Collaborated on financial analysis report on UK water companies’ performance  \\n• Constructed case studies on strategic planning as well as identifying and assessing financial risk  \\n• Researched a nd spot -checked gas companies’ financial reports for publications  \\nKOREA NATIONAL POLICE AGENCY  \\nSergeant , Analytical  Assistan t, Public Relations  (Aug 2015 – May 2017 ) Daegu, Korea  \\n• Conducted research on policing trends;  measured public reputation of national police; monitored media  \\n• Earned commissioner’s commendation;  for being #1 military police officer in public relations department  \\n• Led and represented team of 16 administrative police officers as squad leader  \\nPROJECTS  \\nMomentum Investment Strategy o n Cryptocurrency Portfolio (May 2021 – Aug 2021)  \\n• Constructed dynamic momentum strategy portfolio based on cryptocurrencies’ previous daily returns  \\n• Selected cryptocurrencies based on their market capitalization and daily traded volumes; predicted their price trends \\nby using divergence analysis  \\n• Set up specific indicators to decide when to stop loss or take profit; generated 16% returns  \\nKimchi Premium Trading Strategy (Feb 2021 – Mar 2021)  \\n• Implemented long/short trading s trategy using Kimchi Premium to determine price gap among cryptocurrencies in \\nSouth Korean Exchange and those outside Korea   \\n• Researched premium movements and constantly monitored premium rates for major cryptocurrencies  \\n• Constructed strategies for different  scenarios (e.g., when premium is high or low)  \\nEquity -Interest  Rate Hybrid Option Pricing (Nov 2020 – Dec 2020)  \\n• Designed option pricing model using geometric Brownian motion quantoed stock; also, Ho -Lee models that \\nsimulated LIBOR  \\n• Used two -factor Monte Carlo simulation to conduct time -dependent simulation of stocks and interest rates  \\nCOMPUTATIONAL SKILLS /OTHER  \\nProgramming Languages : Java, Python, MATLAB, R, SQL  \\nLanguage s: Korean  (native) , English  (fluent)  \\n ')]"
            ]
          },
          "metadata": {},
          "execution_count": 57
        }
      ]
    },
    {
      "cell_type": "code",
      "source": [
        "import pandas as pd\n",
        "all_resumes = resumes + resumes2 + resumes3"
      ],
      "metadata": {
        "id": "6gwjLH7969oN"
      },
      "execution_count": 58,
      "outputs": []
    },
    {
      "cell_type": "code",
      "source": [
        "len(all_resumes)"
      ],
      "metadata": {
        "colab": {
          "base_uri": "https://localhost:8080/"
        },
        "id": "AMOsXYph7yjz",
        "outputId": "5295f3d2-b021-4ec3-8378-0da5136c9f94"
      },
      "execution_count": 59,
      "outputs": [
        {
          "output_type": "execute_result",
          "data": {
            "text/plain": [
              "134"
            ]
          },
          "metadata": {},
          "execution_count": 59
        }
      ]
    },
    {
      "cell_type": "code",
      "source": [
        "df1 = pd.DataFrame(resumes, columns=[\"index\", \"text\"])\n",
        "df2 = pd.DataFrame(resumes2,columns=[\"index\", \"text\"])\n",
        "df3 = pd.DataFrame(resumes2,columns=[\"index\", \"text\"])\n",
        "df3.head()"
      ],
      "metadata": {
        "colab": {
          "base_uri": "https://localhost:8080/",
          "height": 206
        },
        "id": "E_rAVOhq74b2",
        "outputId": "eae6dae9-b45e-4421-9b85-cbb397d61430"
      },
      "execution_count": 62,
      "outputs": [
        {
          "output_type": "execute_result",
          "data": {
            "text/plain": [
              "   index                                               text\n",
              "0      0                     /content/GDI2022ResumeBook.pdf\n",
              "1      1  FORDHAM'S 2022\\nGLOBAL DIVERSITY\\n& INCLUSION\\...\n",
              "2      3  Yuliya Akchurina  \\nHuntington, NY | 732-447-3...\n",
              "3      4  Michael Crespo  \\n348 Houston Avenue, Mineola,...\n",
              "4      5  Naimal Chisti\\n2020 East 56 St, Brooklyn, NY, ..."
            ],
            "text/html": [
              "\n",
              "  <div id=\"df-304f2d42-ff00-4532-a260-c1dce7703535\">\n",
              "    <div class=\"colab-df-container\">\n",
              "      <div>\n",
              "<style scoped>\n",
              "    .dataframe tbody tr th:only-of-type {\n",
              "        vertical-align: middle;\n",
              "    }\n",
              "\n",
              "    .dataframe tbody tr th {\n",
              "        vertical-align: top;\n",
              "    }\n",
              "\n",
              "    .dataframe thead th {\n",
              "        text-align: right;\n",
              "    }\n",
              "</style>\n",
              "<table border=\"1\" class=\"dataframe\">\n",
              "  <thead>\n",
              "    <tr style=\"text-align: right;\">\n",
              "      <th></th>\n",
              "      <th>index</th>\n",
              "      <th>text</th>\n",
              "    </tr>\n",
              "  </thead>\n",
              "  <tbody>\n",
              "    <tr>\n",
              "      <th>0</th>\n",
              "      <td>0</td>\n",
              "      <td>/content/GDI2022ResumeBook.pdf</td>\n",
              "    </tr>\n",
              "    <tr>\n",
              "      <th>1</th>\n",
              "      <td>1</td>\n",
              "      <td>FORDHAM'S 2022\\nGLOBAL DIVERSITY\\n&amp; INCLUSION\\...</td>\n",
              "    </tr>\n",
              "    <tr>\n",
              "      <th>2</th>\n",
              "      <td>3</td>\n",
              "      <td>Yuliya Akchurina  \\nHuntington, NY | 732-447-3...</td>\n",
              "    </tr>\n",
              "    <tr>\n",
              "      <th>3</th>\n",
              "      <td>4</td>\n",
              "      <td>Michael Crespo  \\n348 Houston Avenue, Mineola,...</td>\n",
              "    </tr>\n",
              "    <tr>\n",
              "      <th>4</th>\n",
              "      <td>5</td>\n",
              "      <td>Naimal Chisti\\n2020 East 56 St, Brooklyn, NY, ...</td>\n",
              "    </tr>\n",
              "  </tbody>\n",
              "</table>\n",
              "</div>\n",
              "      <button class=\"colab-df-convert\" onclick=\"convertToInteractive('df-304f2d42-ff00-4532-a260-c1dce7703535')\"\n",
              "              title=\"Convert this dataframe to an interactive table.\"\n",
              "              style=\"display:none;\">\n",
              "        \n",
              "  <svg xmlns=\"http://www.w3.org/2000/svg\" height=\"24px\"viewBox=\"0 0 24 24\"\n",
              "       width=\"24px\">\n",
              "    <path d=\"M0 0h24v24H0V0z\" fill=\"none\"/>\n",
              "    <path d=\"M18.56 5.44l.94 2.06.94-2.06 2.06-.94-2.06-.94-.94-2.06-.94 2.06-2.06.94zm-11 1L8.5 8.5l.94-2.06 2.06-.94-2.06-.94L8.5 2.5l-.94 2.06-2.06.94zm10 10l.94 2.06.94-2.06 2.06-.94-2.06-.94-.94-2.06-.94 2.06-2.06.94z\"/><path d=\"M17.41 7.96l-1.37-1.37c-.4-.4-.92-.59-1.43-.59-.52 0-1.04.2-1.43.59L10.3 9.45l-7.72 7.72c-.78.78-.78 2.05 0 2.83L4 21.41c.39.39.9.59 1.41.59.51 0 1.02-.2 1.41-.59l7.78-7.78 2.81-2.81c.8-.78.8-2.07 0-2.86zM5.41 20L4 18.59l7.72-7.72 1.47 1.35L5.41 20z\"/>\n",
              "  </svg>\n",
              "      </button>\n",
              "      \n",
              "  <style>\n",
              "    .colab-df-container {\n",
              "      display:flex;\n",
              "      flex-wrap:wrap;\n",
              "      gap: 12px;\n",
              "    }\n",
              "\n",
              "    .colab-df-convert {\n",
              "      background-color: #E8F0FE;\n",
              "      border: none;\n",
              "      border-radius: 50%;\n",
              "      cursor: pointer;\n",
              "      display: none;\n",
              "      fill: #1967D2;\n",
              "      height: 32px;\n",
              "      padding: 0 0 0 0;\n",
              "      width: 32px;\n",
              "    }\n",
              "\n",
              "    .colab-df-convert:hover {\n",
              "      background-color: #E2EBFA;\n",
              "      box-shadow: 0px 1px 2px rgba(60, 64, 67, 0.3), 0px 1px 3px 1px rgba(60, 64, 67, 0.15);\n",
              "      fill: #174EA6;\n",
              "    }\n",
              "\n",
              "    [theme=dark] .colab-df-convert {\n",
              "      background-color: #3B4455;\n",
              "      fill: #D2E3FC;\n",
              "    }\n",
              "\n",
              "    [theme=dark] .colab-df-convert:hover {\n",
              "      background-color: #434B5C;\n",
              "      box-shadow: 0px 1px 3px 1px rgba(0, 0, 0, 0.15);\n",
              "      filter: drop-shadow(0px 1px 2px rgba(0, 0, 0, 0.3));\n",
              "      fill: #FFFFFF;\n",
              "    }\n",
              "  </style>\n",
              "\n",
              "      <script>\n",
              "        const buttonEl =\n",
              "          document.querySelector('#df-304f2d42-ff00-4532-a260-c1dce7703535 button.colab-df-convert');\n",
              "        buttonEl.style.display =\n",
              "          google.colab.kernel.accessAllowed ? 'block' : 'none';\n",
              "\n",
              "        async function convertToInteractive(key) {\n",
              "          const element = document.querySelector('#df-304f2d42-ff00-4532-a260-c1dce7703535');\n",
              "          const dataTable =\n",
              "            await google.colab.kernel.invokeFunction('convertToInteractive',\n",
              "                                                     [key], {});\n",
              "          if (!dataTable) return;\n",
              "\n",
              "          const docLinkHtml = 'Like what you see? Visit the ' +\n",
              "            '<a target=\"_blank\" href=https://colab.research.google.com/notebooks/data_table.ipynb>data table notebook</a>'\n",
              "            + ' to learn more about interactive tables.';\n",
              "          element.innerHTML = '';\n",
              "          dataTable['output_type'] = 'display_data';\n",
              "          await google.colab.output.renderOutput(dataTable, element);\n",
              "          const docLink = document.createElement('div');\n",
              "          docLink.innerHTML = docLinkHtml;\n",
              "          element.appendChild(docLink);\n",
              "        }\n",
              "      </script>\n",
              "    </div>\n",
              "  </div>\n",
              "  "
            ]
          },
          "metadata": {},
          "execution_count": 62
        }
      ]
    },
    {
      "cell_type": "code",
      "source": [
        "df1['text'].iloc[0]"
      ],
      "metadata": {
        "colab": {
          "base_uri": "https://localhost:8080/",
          "height": 35
        },
        "id": "JJrNFHTM84k_",
        "outputId": "5465e53c-7390-4775-ea2f-f6ab449bd1cd"
      },
      "execution_count": 64,
      "outputs": [
        {
          "output_type": "execute_result",
          "data": {
            "text/plain": [
              "'/content/resume_book_2023_courant.pdf'"
            ],
            "application/vnd.google.colaboratory.intrinsic+json": {
              "type": "string"
            }
          },
          "metadata": {},
          "execution_count": 64
        }
      ]
    },
    {
      "cell_type": "code",
      "source": [
        "df1.loc[:,\"source\"] = df1['text'].iloc[0]\n",
        "df2.loc[:,\"source\"] = df2['text'].iloc[0]\n",
        "df3.loc[:,\"source\"] = df3['text'].iloc[0]"
      ],
      "metadata": {
        "id": "Gab8jMFV8XN-"
      },
      "execution_count": 66,
      "outputs": []
    },
    {
      "cell_type": "code",
      "source": [
        "df1.head()"
      ],
      "metadata": {
        "colab": {
          "base_uri": "https://localhost:8080/",
          "height": 206
        },
        "id": "oqswVXUU9N-8",
        "outputId": "70914d04-57e1-4833-9989-24b165a4f4ad"
      },
      "execution_count": 67,
      "outputs": [
        {
          "output_type": "execute_result",
          "data": {
            "text/plain": [
              "   index                                               text  \\\n",
              "0      0              /content/resume_book_2023_courant.pdf   \n",
              "1      1                         RESUME BOOK\\nCLASS OF 2023   \n",
              "2      5  RUIZE CHEN  \\n(585) 540-6418 // ruize.chen@nyu...   \n",
              "3      6  Y O N G Y A O  C H E N ,  F R M\\n(201) 286-848...   \n",
              "4      7  Z E L I N  D I N G\\n(814) 699-1810 //\\nzelin.d...   \n",
              "\n",
              "                                  source  \n",
              "0  /content/resume_book_2023_courant.pdf  \n",
              "1  /content/resume_book_2023_courant.pdf  \n",
              "2  /content/resume_book_2023_courant.pdf  \n",
              "3  /content/resume_book_2023_courant.pdf  \n",
              "4  /content/resume_book_2023_courant.pdf  "
            ],
            "text/html": [
              "\n",
              "  <div id=\"df-5e543c13-4915-49c0-bef2-a7cd950ea51b\">\n",
              "    <div class=\"colab-df-container\">\n",
              "      <div>\n",
              "<style scoped>\n",
              "    .dataframe tbody tr th:only-of-type {\n",
              "        vertical-align: middle;\n",
              "    }\n",
              "\n",
              "    .dataframe tbody tr th {\n",
              "        vertical-align: top;\n",
              "    }\n",
              "\n",
              "    .dataframe thead th {\n",
              "        text-align: right;\n",
              "    }\n",
              "</style>\n",
              "<table border=\"1\" class=\"dataframe\">\n",
              "  <thead>\n",
              "    <tr style=\"text-align: right;\">\n",
              "      <th></th>\n",
              "      <th>index</th>\n",
              "      <th>text</th>\n",
              "      <th>source</th>\n",
              "    </tr>\n",
              "  </thead>\n",
              "  <tbody>\n",
              "    <tr>\n",
              "      <th>0</th>\n",
              "      <td>0</td>\n",
              "      <td>/content/resume_book_2023_courant.pdf</td>\n",
              "      <td>/content/resume_book_2023_courant.pdf</td>\n",
              "    </tr>\n",
              "    <tr>\n",
              "      <th>1</th>\n",
              "      <td>1</td>\n",
              "      <td>RESUME BOOK\\nCLASS OF 2023</td>\n",
              "      <td>/content/resume_book_2023_courant.pdf</td>\n",
              "    </tr>\n",
              "    <tr>\n",
              "      <th>2</th>\n",
              "      <td>5</td>\n",
              "      <td>RUIZE CHEN  \\n(585) 540-6418 // ruize.chen@nyu...</td>\n",
              "      <td>/content/resume_book_2023_courant.pdf</td>\n",
              "    </tr>\n",
              "    <tr>\n",
              "      <th>3</th>\n",
              "      <td>6</td>\n",
              "      <td>Y O N G Y A O  C H E N ,  F R M\\n(201) 286-848...</td>\n",
              "      <td>/content/resume_book_2023_courant.pdf</td>\n",
              "    </tr>\n",
              "    <tr>\n",
              "      <th>4</th>\n",
              "      <td>7</td>\n",
              "      <td>Z E L I N  D I N G\\n(814) 699-1810 //\\nzelin.d...</td>\n",
              "      <td>/content/resume_book_2023_courant.pdf</td>\n",
              "    </tr>\n",
              "  </tbody>\n",
              "</table>\n",
              "</div>\n",
              "      <button class=\"colab-df-convert\" onclick=\"convertToInteractive('df-5e543c13-4915-49c0-bef2-a7cd950ea51b')\"\n",
              "              title=\"Convert this dataframe to an interactive table.\"\n",
              "              style=\"display:none;\">\n",
              "        \n",
              "  <svg xmlns=\"http://www.w3.org/2000/svg\" height=\"24px\"viewBox=\"0 0 24 24\"\n",
              "       width=\"24px\">\n",
              "    <path d=\"M0 0h24v24H0V0z\" fill=\"none\"/>\n",
              "    <path d=\"M18.56 5.44l.94 2.06.94-2.06 2.06-.94-2.06-.94-.94-2.06-.94 2.06-2.06.94zm-11 1L8.5 8.5l.94-2.06 2.06-.94-2.06-.94L8.5 2.5l-.94 2.06-2.06.94zm10 10l.94 2.06.94-2.06 2.06-.94-2.06-.94-.94-2.06-.94 2.06-2.06.94z\"/><path d=\"M17.41 7.96l-1.37-1.37c-.4-.4-.92-.59-1.43-.59-.52 0-1.04.2-1.43.59L10.3 9.45l-7.72 7.72c-.78.78-.78 2.05 0 2.83L4 21.41c.39.39.9.59 1.41.59.51 0 1.02-.2 1.41-.59l7.78-7.78 2.81-2.81c.8-.78.8-2.07 0-2.86zM5.41 20L4 18.59l7.72-7.72 1.47 1.35L5.41 20z\"/>\n",
              "  </svg>\n",
              "      </button>\n",
              "      \n",
              "  <style>\n",
              "    .colab-df-container {\n",
              "      display:flex;\n",
              "      flex-wrap:wrap;\n",
              "      gap: 12px;\n",
              "    }\n",
              "\n",
              "    .colab-df-convert {\n",
              "      background-color: #E8F0FE;\n",
              "      border: none;\n",
              "      border-radius: 50%;\n",
              "      cursor: pointer;\n",
              "      display: none;\n",
              "      fill: #1967D2;\n",
              "      height: 32px;\n",
              "      padding: 0 0 0 0;\n",
              "      width: 32px;\n",
              "    }\n",
              "\n",
              "    .colab-df-convert:hover {\n",
              "      background-color: #E2EBFA;\n",
              "      box-shadow: 0px 1px 2px rgba(60, 64, 67, 0.3), 0px 1px 3px 1px rgba(60, 64, 67, 0.15);\n",
              "      fill: #174EA6;\n",
              "    }\n",
              "\n",
              "    [theme=dark] .colab-df-convert {\n",
              "      background-color: #3B4455;\n",
              "      fill: #D2E3FC;\n",
              "    }\n",
              "\n",
              "    [theme=dark] .colab-df-convert:hover {\n",
              "      background-color: #434B5C;\n",
              "      box-shadow: 0px 1px 3px 1px rgba(0, 0, 0, 0.15);\n",
              "      filter: drop-shadow(0px 1px 2px rgba(0, 0, 0, 0.3));\n",
              "      fill: #FFFFFF;\n",
              "    }\n",
              "  </style>\n",
              "\n",
              "      <script>\n",
              "        const buttonEl =\n",
              "          document.querySelector('#df-5e543c13-4915-49c0-bef2-a7cd950ea51b button.colab-df-convert');\n",
              "        buttonEl.style.display =\n",
              "          google.colab.kernel.accessAllowed ? 'block' : 'none';\n",
              "\n",
              "        async function convertToInteractive(key) {\n",
              "          const element = document.querySelector('#df-5e543c13-4915-49c0-bef2-a7cd950ea51b');\n",
              "          const dataTable =\n",
              "            await google.colab.kernel.invokeFunction('convertToInteractive',\n",
              "                                                     [key], {});\n",
              "          if (!dataTable) return;\n",
              "\n",
              "          const docLinkHtml = 'Like what you see? Visit the ' +\n",
              "            '<a target=\"_blank\" href=https://colab.research.google.com/notebooks/data_table.ipynb>data table notebook</a>'\n",
              "            + ' to learn more about interactive tables.';\n",
              "          element.innerHTML = '';\n",
              "          dataTable['output_type'] = 'display_data';\n",
              "          await google.colab.output.renderOutput(dataTable, element);\n",
              "          const docLink = document.createElement('div');\n",
              "          docLink.innerHTML = docLinkHtml;\n",
              "          element.appendChild(docLink);\n",
              "        }\n",
              "      </script>\n",
              "    </div>\n",
              "  </div>\n",
              "  "
            ]
          },
          "metadata": {},
          "execution_count": 67
        }
      ]
    },
    {
      "cell_type": "code",
      "source": [
        "df = pd.concat([df1,df2,df3], axis=0).drop(\"index\", axis=1)\n",
        "df.head()"
      ],
      "metadata": {
        "colab": {
          "base_uri": "https://localhost:8080/",
          "height": 206
        },
        "id": "0DxEUuSf9Yek",
        "outputId": "849d5ce1-20d5-4cde-df97-c0592bf9c5a2"
      },
      "execution_count": 72,
      "outputs": [
        {
          "output_type": "execute_result",
          "data": {
            "text/plain": [
              "                                                text  \\\n",
              "0              /content/resume_book_2023_courant.pdf   \n",
              "1                         RESUME BOOK\\nCLASS OF 2023   \n",
              "2  RUIZE CHEN  \\n(585) 540-6418 // ruize.chen@nyu...   \n",
              "3  Y O N G Y A O  C H E N ,  F R M\\n(201) 286-848...   \n",
              "4  Z E L I N  D I N G\\n(814) 699-1810 //\\nzelin.d...   \n",
              "\n",
              "                                  source  \n",
              "0  /content/resume_book_2023_courant.pdf  \n",
              "1  /content/resume_book_2023_courant.pdf  \n",
              "2  /content/resume_book_2023_courant.pdf  \n",
              "3  /content/resume_book_2023_courant.pdf  \n",
              "4  /content/resume_book_2023_courant.pdf  "
            ],
            "text/html": [
              "\n",
              "  <div id=\"df-d0a047c2-12b3-4bea-8968-9a1592f3dea5\">\n",
              "    <div class=\"colab-df-container\">\n",
              "      <div>\n",
              "<style scoped>\n",
              "    .dataframe tbody tr th:only-of-type {\n",
              "        vertical-align: middle;\n",
              "    }\n",
              "\n",
              "    .dataframe tbody tr th {\n",
              "        vertical-align: top;\n",
              "    }\n",
              "\n",
              "    .dataframe thead th {\n",
              "        text-align: right;\n",
              "    }\n",
              "</style>\n",
              "<table border=\"1\" class=\"dataframe\">\n",
              "  <thead>\n",
              "    <tr style=\"text-align: right;\">\n",
              "      <th></th>\n",
              "      <th>text</th>\n",
              "      <th>source</th>\n",
              "    </tr>\n",
              "  </thead>\n",
              "  <tbody>\n",
              "    <tr>\n",
              "      <th>0</th>\n",
              "      <td>/content/resume_book_2023_courant.pdf</td>\n",
              "      <td>/content/resume_book_2023_courant.pdf</td>\n",
              "    </tr>\n",
              "    <tr>\n",
              "      <th>1</th>\n",
              "      <td>RESUME BOOK\\nCLASS OF 2023</td>\n",
              "      <td>/content/resume_book_2023_courant.pdf</td>\n",
              "    </tr>\n",
              "    <tr>\n",
              "      <th>2</th>\n",
              "      <td>RUIZE CHEN  \\n(585) 540-6418 // ruize.chen@nyu...</td>\n",
              "      <td>/content/resume_book_2023_courant.pdf</td>\n",
              "    </tr>\n",
              "    <tr>\n",
              "      <th>3</th>\n",
              "      <td>Y O N G Y A O  C H E N ,  F R M\\n(201) 286-848...</td>\n",
              "      <td>/content/resume_book_2023_courant.pdf</td>\n",
              "    </tr>\n",
              "    <tr>\n",
              "      <th>4</th>\n",
              "      <td>Z E L I N  D I N G\\n(814) 699-1810 //\\nzelin.d...</td>\n",
              "      <td>/content/resume_book_2023_courant.pdf</td>\n",
              "    </tr>\n",
              "  </tbody>\n",
              "</table>\n",
              "</div>\n",
              "      <button class=\"colab-df-convert\" onclick=\"convertToInteractive('df-d0a047c2-12b3-4bea-8968-9a1592f3dea5')\"\n",
              "              title=\"Convert this dataframe to an interactive table.\"\n",
              "              style=\"display:none;\">\n",
              "        \n",
              "  <svg xmlns=\"http://www.w3.org/2000/svg\" height=\"24px\"viewBox=\"0 0 24 24\"\n",
              "       width=\"24px\">\n",
              "    <path d=\"M0 0h24v24H0V0z\" fill=\"none\"/>\n",
              "    <path d=\"M18.56 5.44l.94 2.06.94-2.06 2.06-.94-2.06-.94-.94-2.06-.94 2.06-2.06.94zm-11 1L8.5 8.5l.94-2.06 2.06-.94-2.06-.94L8.5 2.5l-.94 2.06-2.06.94zm10 10l.94 2.06.94-2.06 2.06-.94-2.06-.94-.94-2.06-.94 2.06-2.06.94z\"/><path d=\"M17.41 7.96l-1.37-1.37c-.4-.4-.92-.59-1.43-.59-.52 0-1.04.2-1.43.59L10.3 9.45l-7.72 7.72c-.78.78-.78 2.05 0 2.83L4 21.41c.39.39.9.59 1.41.59.51 0 1.02-.2 1.41-.59l7.78-7.78 2.81-2.81c.8-.78.8-2.07 0-2.86zM5.41 20L4 18.59l7.72-7.72 1.47 1.35L5.41 20z\"/>\n",
              "  </svg>\n",
              "      </button>\n",
              "      \n",
              "  <style>\n",
              "    .colab-df-container {\n",
              "      display:flex;\n",
              "      flex-wrap:wrap;\n",
              "      gap: 12px;\n",
              "    }\n",
              "\n",
              "    .colab-df-convert {\n",
              "      background-color: #E8F0FE;\n",
              "      border: none;\n",
              "      border-radius: 50%;\n",
              "      cursor: pointer;\n",
              "      display: none;\n",
              "      fill: #1967D2;\n",
              "      height: 32px;\n",
              "      padding: 0 0 0 0;\n",
              "      width: 32px;\n",
              "    }\n",
              "\n",
              "    .colab-df-convert:hover {\n",
              "      background-color: #E2EBFA;\n",
              "      box-shadow: 0px 1px 2px rgba(60, 64, 67, 0.3), 0px 1px 3px 1px rgba(60, 64, 67, 0.15);\n",
              "      fill: #174EA6;\n",
              "    }\n",
              "\n",
              "    [theme=dark] .colab-df-convert {\n",
              "      background-color: #3B4455;\n",
              "      fill: #D2E3FC;\n",
              "    }\n",
              "\n",
              "    [theme=dark] .colab-df-convert:hover {\n",
              "      background-color: #434B5C;\n",
              "      box-shadow: 0px 1px 3px 1px rgba(0, 0, 0, 0.15);\n",
              "      filter: drop-shadow(0px 1px 2px rgba(0, 0, 0, 0.3));\n",
              "      fill: #FFFFFF;\n",
              "    }\n",
              "  </style>\n",
              "\n",
              "      <script>\n",
              "        const buttonEl =\n",
              "          document.querySelector('#df-d0a047c2-12b3-4bea-8968-9a1592f3dea5 button.colab-df-convert');\n",
              "        buttonEl.style.display =\n",
              "          google.colab.kernel.accessAllowed ? 'block' : 'none';\n",
              "\n",
              "        async function convertToInteractive(key) {\n",
              "          const element = document.querySelector('#df-d0a047c2-12b3-4bea-8968-9a1592f3dea5');\n",
              "          const dataTable =\n",
              "            await google.colab.kernel.invokeFunction('convertToInteractive',\n",
              "                                                     [key], {});\n",
              "          if (!dataTable) return;\n",
              "\n",
              "          const docLinkHtml = 'Like what you see? Visit the ' +\n",
              "            '<a target=\"_blank\" href=https://colab.research.google.com/notebooks/data_table.ipynb>data table notebook</a>'\n",
              "            + ' to learn more about interactive tables.';\n",
              "          element.innerHTML = '';\n",
              "          dataTable['output_type'] = 'display_data';\n",
              "          await google.colab.output.renderOutput(dataTable, element);\n",
              "          const docLink = document.createElement('div');\n",
              "          docLink.innerHTML = docLinkHtml;\n",
              "          element.appendChild(docLink);\n",
              "        }\n",
              "      </script>\n",
              "    </div>\n",
              "  </div>\n",
              "  "
            ]
          },
          "metadata": {},
          "execution_count": 72
        }
      ]
    },
    {
      "cell_type": "code",
      "source": [
        "df.to_csv(\"resume_books.csv\")"
      ],
      "metadata": {
        "id": "D5s38Qsi9lK3"
      },
      "execution_count": 73,
      "outputs": []
    },
    {
      "cell_type": "code",
      "source": [],
      "metadata": {
        "id": "yXaCRUWW97SH"
      },
      "execution_count": null,
      "outputs": []
    }
  ]
}
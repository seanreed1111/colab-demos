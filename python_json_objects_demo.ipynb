{
  "nbformat": 4,
  "nbformat_minor": 0,
  "metadata": {
    "colab": {
      "provenance": [],
      "authorship_tag": "ABX9TyNIGHbdSrzkGuKMcwZFiT7b",
      "include_colab_link": true
    },
    "kernelspec": {
      "name": "python3",
      "display_name": "Python 3"
    },
    "language_info": {
      "name": "python"
    }
  },
  "cells": [
    {
      "cell_type": "markdown",
      "metadata": {
        "id": "view-in-github",
        "colab_type": "text"
      },
      "source": [
        "<a href=\"https://colab.research.google.com/github/seanreed1111/colab-demos/blob/master/python_json_objects_demo.ipynb\" target=\"_parent\"><img src=\"https://colab.research.google.com/assets/colab-badge.svg\" alt=\"Open In Colab\"/></a>"
      ]
    },
    {
      "cell_type": "code",
      "execution_count": 1,
      "metadata": {
        "colab": {
          "base_uri": "https://localhost:8080/"
        },
        "id": "LudKdRoylj0Y",
        "outputId": "91d1f275-52bf-4441-e206-8ddf26d72ed1"
      },
      "outputs": [
        {
          "output_type": "stream",
          "name": "stdout",
          "text": [
            "\u001b[?25l     \u001b[90m━━━━━━━━━━━━━━━━━━━━━━━━━━━━━━━━━━━━━━━━\u001b[0m \u001b[32m0.0/80.8 kB\u001b[0m \u001b[31m?\u001b[0m eta \u001b[36m-:--:--\u001b[0m\r\u001b[2K     \u001b[91m━━━━━━━━━━━━━━━━━━━━━━━━━━━━━━━━━━━\u001b[0m\u001b[90m╺\u001b[0m\u001b[90m━━━━\u001b[0m \u001b[32m71.7/80.8 kB\u001b[0m \u001b[31m10.0 MB/s\u001b[0m eta \u001b[36m0:00:01\u001b[0m\r\u001b[2K     \u001b[90m━━━━━━━━━━━━━━━━━━━━━━━━━━━━━━━━━━━━━━━━\u001b[0m \u001b[32m80.8/80.8 kB\u001b[0m \u001b[31m1.9 MB/s\u001b[0m eta \u001b[36m0:00:00\u001b[0m\n",
            "\u001b[?25h"
          ]
        }
      ],
      "source": [
        "%pip install -q python-jsonschema-objects deepdiff"
      ]
    },
    {
      "cell_type": "code",
      "source": [
        "from deepdiff import DeepDiff\n",
        "import python_jsonschema_objects as pjs\n",
        "import json\n",
        "from pathlib import Path\n"
      ],
      "metadata": {
        "id": "Y4erjUyv0sDE"
      },
      "execution_count": 13,
      "outputs": []
    },
    {
      "cell_type": "code",
      "source": [
        "example = {\n",
        "    \"title\": \"Example Schema\",\n",
        "    \"type\": \"object\",\n",
        "    \"properties\": {\n",
        "        \"firstName\": {\n",
        "            \"type\": \"string\"\n",
        "        },\n",
        "        \"lastName\": {\n",
        "            \"type\": \"string\"\n",
        "        },\n",
        "        \"age\": {\n",
        "            \"description\": \"Age in years\",\n",
        "            \"type\": \"integer\",\n",
        "            \"minimum\": 0\n",
        "        },\n",
        "        \"dogs\": {\n",
        "            \"type\": \"array\",\n",
        "            \"items\": {\"type\": \"string\"},\n",
        "            \"maxItems\": 4\n",
        "        },\n",
        "        \"address\": {\n",
        "            \"type\": \"object\",\n",
        "            \"properties\": {\n",
        "                \"street\": {\"type\": \"string\"},\n",
        "                \"city\": {\"type\": \"string\"},\n",
        "                \"state\": {\"type\": \"string\"}\n",
        "                },\n",
        "            \"required\":[\"street\", \"city\"]\n",
        "            },\n",
        "        \"gender\": {\n",
        "            \"type\": \"string\",\n",
        "            \"enum\": [\"male\", \"female\"]\n",
        "        },\n",
        "        \"deceased\": {\n",
        "            \"enum\": [\"yes\", \"no\", 1, 0, \"true\", \"false\"]\n",
        "            }\n",
        "    },\n",
        "    \"required\": [\"firstName\", \"lastName\"]\n",
        "}"
      ],
      "metadata": {
        "id": "-hgqNJOBlsI2"
      },
      "execution_count": 3,
      "outputs": []
    },
    {
      "cell_type": "code",
      "source": [
        "example.keys()"
      ],
      "metadata": {
        "colab": {
          "base_uri": "https://localhost:8080/"
        },
        "id": "kwPNZiyRnZ4F",
        "outputId": "391c7ffe-e18c-4954-ffc3-737b1ead34d4"
      },
      "execution_count": 4,
      "outputs": [
        {
          "output_type": "execute_result",
          "data": {
            "text/plain": [
              "dict_keys(['title', 'type', 'properties', 'required'])"
            ]
          },
          "metadata": {},
          "execution_count": 4
        }
      ]
    },
    {
      "cell_type": "code",
      "source": [
        "\n",
        "builder = pjs.ObjectBuilder(example)\n",
        "ns = builder.build_classes()\n",
        "Person = ns.ExampleSchema\n"
      ],
      "metadata": {
        "id": "_HR1OOQ4l5E1",
        "colab": {
          "base_uri": "https://localhost:8080/"
        },
        "outputId": "b8352adb-82bb-420c-8d4c-7b3c4c8e6ada"
      },
      "execution_count": 5,
      "outputs": [
        {
          "output_type": "stream",
          "name": "stderr",
          "text": [
            "/usr/local/lib/python3.10/dist-packages/python_jsonschema_objects/__init__.py:99: UserWarning: Schema version not specified. Defaulting to http://json-schema.org/draft-04/schema\n",
            "  warnings.warn(\n",
            "/usr/local/lib/python3.10/dist-packages/python_jsonschema_objects/__init__.py:112: UserWarning: Schema id not specified. Defaulting to 'self'\n",
            "  warnings.warn(\"Schema id not specified. Defaulting to 'self'\")\n"
          ]
        }
      ]
    },
    {
      "cell_type": "code",
      "source": [
        "[item for item in dir(Person) if not item.startswith(\"_\")]"
      ],
      "metadata": {
        "colab": {
          "base_uri": "https://localhost:8080/"
        },
        "id": "A6D3b8vrw_Zs",
        "outputId": "1a27ef13-4ce9-4ffa-97da-8e8e41fbfa0e"
      },
      "execution_count": 6,
      "outputs": [
        {
          "output_type": "execute_result",
          "data": {
            "text/plain": [
              "['address',\n",
              " 'age',\n",
              " 'as_dict',\n",
              " 'clear',\n",
              " 'deceased',\n",
              " 'dogs',\n",
              " 'firstName',\n",
              " 'for_json',\n",
              " 'from_json',\n",
              " 'gender',\n",
              " 'get',\n",
              " 'items',\n",
              " 'keys',\n",
              " 'lastName',\n",
              " 'missing_property_names',\n",
              " 'pop',\n",
              " 'popitem',\n",
              " 'propinfo',\n",
              " 'serialize',\n",
              " 'setdefault',\n",
              " 'update',\n",
              " 'validate',\n",
              " 'values']"
            ]
          },
          "metadata": {},
          "execution_count": 6
        }
      ]
    },
    {
      "cell_type": "code",
      "source": [
        "james = Person(firstName=\"James\", lastName=\"Bond\")\n",
        "\n",
        "james"
      ],
      "metadata": {
        "colab": {
          "base_uri": "https://localhost:8080/"
        },
        "id": "n6cGeTT-mtRs",
        "outputId": "c8e1f6e5-d733-4425-bb8f-93fa9883a28c"
      },
      "execution_count": 7,
      "outputs": [
        {
          "output_type": "execute_result",
          "data": {
            "text/plain": [
              "<example_schema address=None age=None deceased=None dogs=None firstName=<Literal<str> James> gender=None lastName=<Literal<str> Bond>>"
            ]
          },
          "metadata": {},
          "execution_count": 7
        }
      ]
    },
    {
      "cell_type": "code",
      "source": [
        "james.as_dict()"
      ],
      "metadata": {
        "colab": {
          "base_uri": "https://localhost:8080/"
        },
        "id": "IlltnCpKxy94",
        "outputId": "ac44905a-dd34-4e49-b07b-6315b26c2e75"
      },
      "execution_count": 8,
      "outputs": [
        {
          "output_type": "execute_result",
          "data": {
            "text/plain": [
              "{'firstName': 'James', 'lastName': 'Bond'}"
            ]
          },
          "metadata": {},
          "execution_count": 8
        }
      ]
    },
    {
      "cell_type": "code",
      "source": [
        "nigel_dict = {'firstName': 'Nigel', 'lastName': 'Bond'}"
      ],
      "metadata": {
        "id": "7J9mAA-UzJ6V"
      },
      "execution_count": 9,
      "outputs": []
    },
    {
      "cell_type": "code",
      "source": [
        "nigel = Person(**nigel_dict); nigel"
      ],
      "metadata": {
        "colab": {
          "base_uri": "https://localhost:8080/"
        },
        "id": "3ITQiM8uzPKJ",
        "outputId": "a93b0c92-eef4-451d-c220-e9d5082357ba"
      },
      "execution_count": 10,
      "outputs": [
        {
          "output_type": "execute_result",
          "data": {
            "text/plain": [
              "<example_schema address=None age=None deceased=None dogs=None firstName=<Literal<str> Nigel> gender=None lastName=<Literal<str> Bond>>"
            ]
          },
          "metadata": {},
          "execution_count": 10
        }
      ]
    },
    {
      "cell_type": "code",
      "source": [
        "DeepDiff(james.as_dict(), nigel_dict)"
      ],
      "metadata": {
        "colab": {
          "base_uri": "https://localhost:8080/"
        },
        "id": "LWZ3eX8o0lRW",
        "outputId": "af56f80f-e2c0-45d5-d8a8-d3d381bd9cd8"
      },
      "execution_count": 11,
      "outputs": [
        {
          "output_type": "execute_result",
          "data": {
            "text/plain": [
              "{'values_changed': {\"root['firstName']\": {'new_value': 'Nigel',\n",
              "   'old_value': 'James'}}}"
            ]
          },
          "metadata": {},
          "execution_count": 11
        }
      ]
    },
    {
      "cell_type": "code",
      "source": [
        "DeepDiff(nigel, james)"
      ],
      "metadata": {
        "colab": {
          "base_uri": "https://localhost:8080/"
        },
        "id": "dJEDTWou0niU",
        "outputId": "3c16e0cc-d96c-4e88-e8e5-0e0c9f3d3ed4"
      },
      "execution_count": 12,
      "outputs": [
        {
          "output_type": "execute_result",
          "data": {
            "text/plain": [
              "{'values_changed': {\"root['firstName']._value\": {'new_value': 'James',\n",
              "   'old_value': 'Nigel'}}}"
            ]
          },
          "metadata": {},
          "execution_count": 12
        }
      ]
    },
    {
      "cell_type": "markdown",
      "source": [
        "{\n",
        "\"categories\":[\n",
        "  {\"items\":[   \n",
        "    {\n",
        "    \"item_aliases\":[],\n",
        "    \"item_name\":\"Sourdough Jack\",\n",
        "    \"modifications\":[],\n",
        "    \"quantity\":1,\n",
        "    \"special_requests\":[]\n",
        "    }\n",
        "    ,\n",
        "    {\n",
        "    \"item_aliases\":[],\n",
        "    \"item_name\":\"Ultimate Cheeseburger\",\n",
        "    \"modifications\":[],\n",
        "    \"quantity\":1,\n",
        "    \"special_requests\":[]\n",
        "    }\n",
        "  ]\n",
        "    ,\n",
        "  \"name\":\"Burger\"\n",
        "  }],\n",
        "\"combos\":[]\n",
        "}"
      ],
      "metadata": {
        "id": "9hiQmZC7M2gU"
      }
    },
    {
      "cell_type": "markdown",
      "source": [
        "{ \\\n",
        "    \"title\": \"JITB Schema\",\n",
        "    \"type\": \"object\",\n",
        "    \"properties\": { \\\n",
        "          \"combos\": {\"type\": \"array\", \"items\": {\"type\": \"string\"}}, \\\n",
        "          \"categories\": {\"type\": \"array\", \"items\": {\"type\": \"object\", \\\n",
        "                        \"properties\": \\\n",
        "                          {\"c_items\": \\\n",
        "                           {\"type\": \"array\", \\\n",
        "                              \"items\": { \\\n",
        "                                \"type\": \"object\", \\\n",
        "                                  \"properties\": { \\\n",
        "                                    \"quantity\": {\"type\": \"integer\", \"minimum\": 0}, \\\n",
        "                                    \"item_aliases\": {\"type\": \"array\", \"items\": {\"type\": \"string\"},\\\n",
        "                                    \"modifications\": {\"type\":\"array\",\"items\": {\"type\": \"string\"},\\\n",
        "                                    \"item_name\": {\"type\": \"string\"},\\\n",
        "                                    \"special requests\": {\"type\": \"array\", \"items\": {\"type\": \"string\"},\\\n",
        "                                    \"type\": \"array\",\n",
        "\n",
        "                                }\n",
        "                            }\n",
        "                        }\n",
        "                    },\n",
        "                    \"name\": {\n",
        "                        \"type\": \"string\"\n",
        "                    }\n",
        "                }\n",
        "            }\n",
        "\n",
        "        },\n",
        "\n"
      ],
      "metadata": {
        "id": "N4yQXRz2VVW4"
      }
    },
    {
      "cell_type": "markdown",
      "source": [
        "New Example"
      ],
      "metadata": {
        "id": "wnjjD_QaM2UZ"
      }
    },
    {
      "cell_type": "code",
      "source": [],
      "metadata": {
        "id": "BHB1IAeLVn1g"
      },
      "execution_count": null,
      "outputs": []
    },
    {
      "cell_type": "code",
      "source": [
        "example2 = { \\\n",
        "    \"title\": \"JITB Schema\",\n",
        "    \"type\": \"object\",\n",
        "    \"required\":[\"combos\", \"categories\"],\n",
        "    \"properties\": { \\\n",
        "          \"combos\": {\"type\": \"array\", \"items\": {\"type\": \"string\"}}, \\\n",
        "          \"categories\": {\"type\": \"array\", \"items\": {\"type\": \"object\", \\\n",
        "                        \"properties\": {\"required\": [\"name\", \"c_items\"], \\\n",
        "                          \"name\": {\n",
        "                              \"type\": \"string\"\n",
        "                          },\n",
        "                          \"c_items\": { \\\n",
        "                           \"type\": \"array\", \\\n",
        "                              \"items\": { \\\n",
        "                                \"type\": \"object\", \\\n",
        "                                  \"properties\": { \\\n",
        "                                    \"quantity\": {\"type\": \"integer\", \"minimum\": 0}, \\\n",
        "                                    \"item_aliases\": {\"type\": \"array\", \"items\": {\"type\": \"string\"},\\\n",
        "                                    \"modifications\": {\"type\":\"array\",\"items\": {\"type\": \"string\"},\\\n",
        "                                    \"item_name\": {\"type\": \"string\"},\\\n",
        "                                    \"special requests\": {\"type\": \"array\", \"items\": {\"type\": \"string\"},\\\n",
        "                                    }\n",
        "                                  }\n",
        "                                    }\n",
        "                                  }\n",
        "                              }\n",
        "                        }\n",
        "                    }\n",
        "                }\n",
        "            }\n",
        "        }\n",
        "}"
      ],
      "metadata": {
        "id": "DG-RrLOc035Q"
      },
      "execution_count": 22,
      "outputs": []
    },
    {
      "cell_type": "code",
      "source": [
        "example2"
      ],
      "metadata": {
        "colab": {
          "base_uri": "https://localhost:8080/"
        },
        "id": "F0yMrAc4WJ_e",
        "outputId": "be84f96b-5378-49ae-fcdd-e3ffb37a08fd"
      },
      "execution_count": 23,
      "outputs": [
        {
          "output_type": "execute_result",
          "data": {
            "text/plain": [
              "{'title': 'JITB Schema',\n",
              " 'type': 'object',\n",
              " 'required': ['combos', 'categories'],\n",
              " 'properties': {'combos': {'type': 'array', 'items': {'type': 'string'}},\n",
              "  'categories': {'type': 'array',\n",
              "   'items': {'type': 'object',\n",
              "    'properties': {'required': ['name', 'c_items'],\n",
              "     'name': {'type': 'string'},\n",
              "     'c_items': {'type': 'array',\n",
              "      'items': {'type': 'object',\n",
              "       'properties': {'quantity': {'type': 'integer', 'minimum': 0},\n",
              "        'item_aliases': {'type': 'array',\n",
              "         'items': {'type': 'string'},\n",
              "         'modifications': {'type': 'array',\n",
              "          'items': {'type': 'string'},\n",
              "          'item_name': {'type': 'string'},\n",
              "          'special requests': {'type': 'array',\n",
              "           'items': {'type': 'string'}}}}}}}}}}}}"
            ]
          },
          "metadata": {},
          "execution_count": 23
        }
      ]
    },
    {
      "cell_type": "code",
      "source": [
        "example2.keys()"
      ],
      "metadata": {
        "colab": {
          "base_uri": "https://localhost:8080/"
        },
        "id": "L4pjLSeXWL05",
        "outputId": "8031c34d-ee81-4bde-e68f-9c42d8ecb400"
      },
      "execution_count": 24,
      "outputs": [
        {
          "output_type": "execute_result",
          "data": {
            "text/plain": [
              "dict_keys(['title', 'type', 'required', 'properties'])"
            ]
          },
          "metadata": {},
          "execution_count": 24
        }
      ]
    },
    {
      "cell_type": "code",
      "source": [
        "builder = pjs.ObjectBuilder(example2)\n",
        "ns = builder.build_classes()\n",
        "order = ns.JITBSchema #error"
      ],
      "metadata": {
        "colab": {
          "base_uri": "https://localhost:8080/",
          "height": 841
        },
        "id": "Kkt0ohL-X0g9",
        "outputId": "4624bcfa-1367-4d48-8865-963e467006ee"
      },
      "execution_count": 25,
      "outputs": [
        {
          "output_type": "stream",
          "name": "stderr",
          "text": [
            "/usr/local/lib/python3.10/dist-packages/python_jsonschema_objects/__init__.py:99: UserWarning: Schema version not specified. Defaulting to http://json-schema.org/draft-04/schema\n",
            "  warnings.warn(\n",
            "/usr/local/lib/python3.10/dist-packages/python_jsonschema_objects/__init__.py:112: UserWarning: Schema id not specified. Defaulting to 'self'\n",
            "  warnings.warn(\"Schema id not specified. Defaulting to 'self'\")\n"
          ]
        },
        {
          "output_type": "error",
          "ename": "ValidationError",
          "evalue": "{'type': 'object', 'properties': {'required': ['name', 'c_items'], 'name': {'type': 'string'}, 'c_items': {'type': 'array', 'items': {'type': 'object', 'properties': {'quantity': {'type': 'integer', 'minimum': 0}, 'item_aliases': {'type': 'array', 'items': {'type': 'string'}, 'modifications': {'type': 'array', 'items': {'type': 'string'}, 'item_name': {'type': 'string'}, 'special requests': {'type': 'array', 'items': {'type': 'string'}}}}}}}}} is not valid under any of the given schemas\n\nFailed validating 'anyOf' in schema['properties']['properties']['additionalProperties']['properties']['items']:\n    {'anyOf': [{'$ref': '#'}, {'$ref': '#/definitions/schemaArray'}],\n     'default': {}}\n\nOn instance['properties']['categories']['items']:\n    {'properties': {'c_items': {'items': {'properties': {'item_aliases': {'items': {'type': 'string'},\n                                                                          'modifications': {'item_name': {'type': 'string'},\n                                                                                            'items': {'type': 'string'},\n                                                                                            'special requests': {'items': {'type': 'string'},\n                                                                                                                 'type': 'array'},\n                                                                                            'type': 'array'},\n                                                                          'type': 'array'},\n                                                         'quantity': {'minimum': 0,\n                                                                      'type': 'integer'}},\n                                          'type': 'object'},\n                                'type': 'array'},\n                    'name': {'type': 'string'},\n                    'required': ['name', 'c_items']},\n     'type': 'object'}",
          "traceback": [
            "\u001b[0;31m---------------------------------------------------------------------------\u001b[0m",
            "\u001b[0;31mValidationError\u001b[0m                           Traceback (most recent call last)",
            "\u001b[0;32m<ipython-input-25-5960d827c9d1>\u001b[0m in \u001b[0;36m<cell line: 1>\u001b[0;34m()\u001b[0m\n\u001b[0;32m----> 1\u001b[0;31m \u001b[0mbuilder\u001b[0m \u001b[0;34m=\u001b[0m \u001b[0mpjs\u001b[0m\u001b[0;34m.\u001b[0m\u001b[0mObjectBuilder\u001b[0m\u001b[0;34m(\u001b[0m\u001b[0mexample2\u001b[0m\u001b[0;34m)\u001b[0m\u001b[0;34m\u001b[0m\u001b[0;34m\u001b[0m\u001b[0m\n\u001b[0m\u001b[1;32m      2\u001b[0m \u001b[0mns\u001b[0m \u001b[0;34m=\u001b[0m \u001b[0mbuilder\u001b[0m\u001b[0;34m.\u001b[0m\u001b[0mbuild_classes\u001b[0m\u001b[0;34m(\u001b[0m\u001b[0;34m)\u001b[0m\u001b[0;34m\u001b[0m\u001b[0;34m\u001b[0m\u001b[0m\n\u001b[1;32m      3\u001b[0m \u001b[0morder\u001b[0m \u001b[0;34m=\u001b[0m \u001b[0mns\u001b[0m\u001b[0;34m.\u001b[0m\u001b[0mJITBSchema\u001b[0m\u001b[0;34m\u001b[0m\u001b[0;34m\u001b[0m\u001b[0m\n",
            "\u001b[0;32m/usr/local/lib/python3.10/dist-packages/python_jsonschema_objects/__init__.py\u001b[0m in \u001b[0;36m__init__\u001b[0;34m(self, schema_uri, resolved, registry, resolver, specification_uri)\u001b[0m\n\u001b[1;32m    142\u001b[0m             \u001b[0mvalidatorClass\u001b[0m\u001b[0;34m.\u001b[0m\u001b[0mMETA_SCHEMA\u001b[0m\u001b[0;34m,\u001b[0m \u001b[0mregistry\u001b[0m\u001b[0;34m=\u001b[0m\u001b[0mself\u001b[0m\u001b[0;34m.\u001b[0m\u001b[0mregistry\u001b[0m\u001b[0;34m\u001b[0m\u001b[0;34m\u001b[0m\u001b[0m\n\u001b[1;32m    143\u001b[0m         )\n\u001b[0;32m--> 144\u001b[0;31m         \u001b[0mmeta_validator\u001b[0m\u001b[0;34m.\u001b[0m\u001b[0mvalidate\u001b[0m\u001b[0;34m(\u001b[0m\u001b[0mself\u001b[0m\u001b[0;34m.\u001b[0m\u001b[0mschema\u001b[0m\u001b[0;34m)\u001b[0m\u001b[0;34m\u001b[0m\u001b[0;34m\u001b[0m\u001b[0m\n\u001b[0m\u001b[1;32m    145\u001b[0m         \u001b[0mself\u001b[0m\u001b[0;34m.\u001b[0m\u001b[0mvalidator\u001b[0m \u001b[0;34m=\u001b[0m \u001b[0mvalidatorClass\u001b[0m\u001b[0;34m(\u001b[0m\u001b[0mself\u001b[0m\u001b[0;34m.\u001b[0m\u001b[0mschema\u001b[0m\u001b[0;34m,\u001b[0m \u001b[0mregistry\u001b[0m\u001b[0;34m=\u001b[0m\u001b[0mself\u001b[0m\u001b[0;34m.\u001b[0m\u001b[0mregistry\u001b[0m\u001b[0;34m)\u001b[0m\u001b[0;34m\u001b[0m\u001b[0;34m\u001b[0m\u001b[0m\n\u001b[1;32m    146\u001b[0m \u001b[0;34m\u001b[0m\u001b[0m\n",
            "\u001b[0;32m/usr/local/lib/python3.10/dist-packages/jsonschema/validators.py\u001b[0m in \u001b[0;36mvalidate\u001b[0;34m(self, *args, **kwargs)\u001b[0m\n\u001b[1;32m    433\u001b[0m         \u001b[0;32mdef\u001b[0m \u001b[0mvalidate\u001b[0m\u001b[0;34m(\u001b[0m\u001b[0mself\u001b[0m\u001b[0;34m,\u001b[0m \u001b[0;34m*\u001b[0m\u001b[0margs\u001b[0m\u001b[0;34m,\u001b[0m \u001b[0;34m**\u001b[0m\u001b[0mkwargs\u001b[0m\u001b[0;34m)\u001b[0m\u001b[0;34m:\u001b[0m\u001b[0;34m\u001b[0m\u001b[0;34m\u001b[0m\u001b[0m\n\u001b[1;32m    434\u001b[0m             \u001b[0;32mfor\u001b[0m \u001b[0merror\u001b[0m \u001b[0;32min\u001b[0m \u001b[0mself\u001b[0m\u001b[0;34m.\u001b[0m\u001b[0miter_errors\u001b[0m\u001b[0;34m(\u001b[0m\u001b[0;34m*\u001b[0m\u001b[0margs\u001b[0m\u001b[0;34m,\u001b[0m \u001b[0;34m**\u001b[0m\u001b[0mkwargs\u001b[0m\u001b[0;34m)\u001b[0m\u001b[0;34m:\u001b[0m\u001b[0;34m\u001b[0m\u001b[0;34m\u001b[0m\u001b[0m\n\u001b[0;32m--> 435\u001b[0;31m                 \u001b[0;32mraise\u001b[0m \u001b[0merror\u001b[0m\u001b[0;34m\u001b[0m\u001b[0;34m\u001b[0m\u001b[0m\n\u001b[0m\u001b[1;32m    436\u001b[0m \u001b[0;34m\u001b[0m\u001b[0m\n\u001b[1;32m    437\u001b[0m         \u001b[0;32mdef\u001b[0m \u001b[0mis_type\u001b[0m\u001b[0;34m(\u001b[0m\u001b[0mself\u001b[0m\u001b[0;34m,\u001b[0m \u001b[0minstance\u001b[0m\u001b[0;34m,\u001b[0m \u001b[0mtype\u001b[0m\u001b[0;34m)\u001b[0m\u001b[0;34m:\u001b[0m\u001b[0;34m\u001b[0m\u001b[0;34m\u001b[0m\u001b[0m\n",
            "\u001b[0;31mValidationError\u001b[0m: {'type': 'object', 'properties': {'required': ['name', 'c_items'], 'name': {'type': 'string'}, 'c_items': {'type': 'array', 'items': {'type': 'object', 'properties': {'quantity': {'type': 'integer', 'minimum': 0}, 'item_aliases': {'type': 'array', 'items': {'type': 'string'}, 'modifications': {'type': 'array', 'items': {'type': 'string'}, 'item_name': {'type': 'string'}, 'special requests': {'type': 'array', 'items': {'type': 'string'}}}}}}}}} is not valid under any of the given schemas\n\nFailed validating 'anyOf' in schema['properties']['properties']['additionalProperties']['properties']['items']:\n    {'anyOf': [{'$ref': '#'}, {'$ref': '#/definitions/schemaArray'}],\n     'default': {}}\n\nOn instance['properties']['categories']['items']:\n    {'properties': {'c_items': {'items': {'properties': {'item_aliases': {'items': {'type': 'string'},\n                                                                          'modifications': {'item_name': {'type': 'string'},\n                                                                                            'items': {'type': 'string'},\n                                                                                            'special requests': {'items': {'type': 'string'},\n                                                                                                                 'type': 'array'},\n                                                                                            'type': 'array'},\n                                                                          'type': 'array'},\n                                                         'quantity': {'minimum': 0,\n                                                                      'type': 'integer'}},\n                                          'type': 'object'},\n                                'type': 'array'},\n                    'name': {'type': 'string'},\n                    'required': ['name', 'c_items']},\n     'type': 'object'}"
          ]
        }
      ]
    },
    {
      "cell_type": "code",
      "source": [
        "example3 = { \\\n",
        "    \"title\": \"Example3 Schema\",\n",
        "    \"type\": \"object\",\n",
        "    \"properties\": { \\\n",
        "          \"combos\": {\"type\": \"array\", \"items\": {\"type\": \"string\"}}, \\\n",
        "          \"categories\": {\"type\": \"array\", \"items\": {\"type\": \"object\", \\\n",
        "                        \"properties\": {\\\n",
        "                          \"name\": {\n",
        "                              \"type\": \"string\"\n",
        "                          },\n",
        "                          \"items\": { \\\n",
        "                           \"type\": \"array\", \\\n",
        "                              \"items\": { \\\n",
        "                                \"type\": \"object\", \\\n",
        "                                  \"properties\": { \\\n",
        "                                    \"quantity\": {\"type\": \"integer\", \"minimum\": 0}, \\\n",
        "                                    \"item_aliases\": {\"type\": \"array\", \"items\": {\"type\": \"string\"},\\\n",
        "                                    \"modifications\": {\"type\":\"array\",\"items\": {\"type\": \"string\"},\\\n",
        "                                    \"item_name\": {\"type\": \"string\"},\\\n",
        "                                    \"special requests\": {\"type\": \"array\", \"items\": {\"type\": \"string\"},\\\n",
        "                                    }\n",
        "                                  }\n",
        "                                    }\n",
        "                                  }\n",
        "                              }\n",
        "                        }\n",
        "                    }\n",
        "                }\n",
        "            }\n",
        "        }\n",
        "}\n",
        "#####\n",
        "builder = pjs.ObjectBuilder(example3)\n",
        "ns = builder.build_classes()\n",
        "Order = ns.Example3Schema # got rid of requireds"
      ],
      "metadata": {
        "id": "UpZWAqUJYcBt"
      },
      "execution_count": 33,
      "outputs": []
    },
    {
      "cell_type": "code",
      "source": [
        "test_obj = { \"categories\":[ {\"items\":[\n",
        "{ \"item_aliases\":[], \"item_name\":\"Sourdough Jack\", \"modifications\":[], \"quantity\":1, \"special_requests\":[] } , { \"item_aliases\":[], \"item_name\":\"Ultimate Cheeseburger\", \"modifications\":[], \"quantity\":1, \"special_requests\":[] } ] , \"name\":\"Burger\" }], \"combos\":[] }"
      ],
      "metadata": {
        "id": "sZgSl3lgY7uh"
      },
      "execution_count": 34,
      "outputs": []
    },
    {
      "cell_type": "code",
      "source": [
        "o = Order(**test_obj); o"
      ],
      "metadata": {
        "colab": {
          "base_uri": "https://localhost:8080/"
        },
        "id": "GSoZIUZYZTmQ",
        "outputId": "e26b25e3-2230-443d-8b74-75bb003aa3df"
      },
      "execution_count": 36,
      "outputs": [
        {
          "output_type": "execute_result",
          "data": {
            "text/plain": [
              "<example3_schema categories=<example3_schema/categories_<anonymous_field>=[{'items': [{'item_aliases': [], 'item_name': 'Sourdough Jack', 'modifications': [], 'quantity': 1, 'special_requests': []}, {'item_aliases': [], 'item_name': 'Ultimate Cheeseburger', 'modifications': [], 'quantity': 1, 'special_requests': []}], 'name': 'Burger'}]> combos=<example3_schema/combos_<anonymous_field>=[]>>"
            ]
          },
          "metadata": {},
          "execution_count": 36
        }
      ]
    },
    {
      "cell_type": "code",
      "source": [
        "o.categories"
      ],
      "metadata": {
        "colab": {
          "base_uri": "https://localhost:8080/"
        },
        "id": "aV3yvUAmZesJ",
        "outputId": "93241e0e-2b50-48ff-8c4f-0a5d95325a86"
      },
      "execution_count": 37,
      "outputs": [
        {
          "output_type": "execute_result",
          "data": {
            "text/plain": [
              "<example3_schema/categories_<anonymous_field>=[{'items': [{'item_aliases': [], 'item_name': 'Sourdough Jack', 'modifications': [], 'quantity': 1, 'special_requests': []}, {'item_aliases': [], 'item_name': 'Ultimate Cheeseburger', 'modifications': [], 'quantity': 1, 'special_requests': []}], 'name': 'Burger'}]>"
            ]
          },
          "metadata": {},
          "execution_count": 37
        }
      ]
    },
    {
      "cell_type": "code",
      "source": [],
      "metadata": {
        "id": "F5Tx6hcdaCak"
      },
      "execution_count": null,
      "outputs": []
    },
    {
      "cell_type": "markdown",
      "source": [
        "## Now fill out definition of combos"
      ],
      "metadata": {
        "id": "OZmuGE9gaL5A"
      }
    },
    {
      "cell_type": "code",
      "source": [
        "test_obj_2 = {\"categories\":[],\"combos\":[{\"combo_aliases\":[\"#6\"],\"items\":[{\"item_aliases\":[],\"item_name\":\"Ultimate Cheeseburger\",\"modifications\":[],\"quantity\":1,\"special_requests\":[]},{\"item_aliases\":[],\"item_name\":\"French Fries Small\",\"modifications\":[],\"quantity\":1,\"special_requests\":[]},{\"item_aliases\":[],\"item_name\":\"Small Coca-Cola\",\"modifications\":[],\"quantity\":1,\"special_requests\":[]}],\"name\":\"Ultimate Cheeseburger Combo\"}]}"
      ],
      "metadata": {
        "id": "JWqFAKFeaOUy"
      },
      "execution_count": 38,
      "outputs": []
    },
    {
      "cell_type": "code",
      "source": [
        "test_obj_2"
      ],
      "metadata": {
        "colab": {
          "base_uri": "https://localhost:8080/"
        },
        "id": "KbrgJIVVaQy-",
        "outputId": "3c2bd893-acd2-47ff-938e-d51af2e52461"
      },
      "execution_count": 54,
      "outputs": [
        {
          "output_type": "execute_result",
          "data": {
            "text/plain": [
              "{'categories': [],\n",
              " 'combos': [{'combo_aliases': ['#6'],\n",
              "   'items': [{'item_aliases': [],\n",
              "     'item_name': 'Ultimate Cheeseburger',\n",
              "     'modifications': [],\n",
              "     'quantity': 1,\n",
              "     'special_requests': []},\n",
              "    {'item_aliases': [],\n",
              "     'item_name': 'French Fries Small',\n",
              "     'modifications': [],\n",
              "     'quantity': 1,\n",
              "     'special_requests': []},\n",
              "    {'item_aliases': [],\n",
              "     'item_name': 'Small Coca-Cola',\n",
              "     'modifications': [],\n",
              "     'quantity': 1,\n",
              "     'special_requests': []}],\n",
              "   'name': 'Ultimate Cheeseburger Combo'}]}"
            ]
          },
          "metadata": {},
          "execution_count": 54
        }
      ]
    },
    {
      "cell_type": "code",
      "source": [
        "test_obj_2.keys()"
      ],
      "metadata": {
        "colab": {
          "base_uri": "https://localhost:8080/"
        },
        "id": "GcKfF62CeI0n",
        "outputId": "6d533f78-7a4c-4af5-fb5c-86a35c2f2d79"
      },
      "execution_count": 55,
      "outputs": [
        {
          "output_type": "execute_result",
          "data": {
            "text/plain": [
              "dict_keys(['categories', 'combos'])"
            ]
          },
          "metadata": {},
          "execution_count": 55
        }
      ]
    },
    {
      "cell_type": "code",
      "source": [
        "# combos is an array of objects, the objects have the following properties\n",
        "# combo_aliases: array of strings\n",
        "# items: array of objects\n",
        "for item in test_obj_2[\"combos\"][0]:\n",
        "    print(item)"
      ],
      "metadata": {
        "colab": {
          "base_uri": "https://localhost:8080/"
        },
        "id": "HcsqkEf4aSIY",
        "outputId": "8008aef4-3aff-40ca-ec07-7f883d1c598c"
      },
      "execution_count": 48,
      "outputs": [
        {
          "output_type": "stream",
          "name": "stdout",
          "text": [
            "combo_aliases\n",
            "items\n",
            "name\n"
          ]
        }
      ]
    },
    {
      "cell_type": "code",
      "source": [
        "%%writefile example4.py\n",
        "example4 = { \\\n",
        "    \"title\": \"Example4 Schema\",\n",
        "    \"type\": \"object\",\n",
        "    \"properties\": { \\\n",
        "          \"combos\": {\"type\": \"array\",\n",
        "                     \"items\": { \\\n",
        "                      \"type\": \"object\", \\\n",
        "                        \"properties\": {\\\n",
        "                          \"combo_aliases\": {\"type\": \"array\", \"items\": {\"type\": \"string\"}}, \\\n",
        "                          \"name\": {\"type\": \"string\"}, \\\n",
        "                          \"items\": { \\\n",
        "                                \"type\": \"object\", \\\n",
        "                                  \"properties\": { \\\n",
        "                                    \"quantity\": {\"type\": \"integer\", \"minimum\": 0}, \\\n",
        "                                    \"item_aliases\": {\"type\": \"array\", \"items\": {\"type\": \"string\"}},\\\n",
        "                                    \"modifications\": {\"type\":\"array\",\"items\": {\"type\": \"string\"}},\\\n",
        "                                    \"item_name\": {\"type\": \"string\"},\\\n",
        "                                    \"special requests\": {\"type\": \"array\", \"items\": {\"type\": \"string\"}},\\\n",
        "                                  },\\\n",
        "                              } \\\n",
        "                          }}}, \\\n",
        "          \"categories\": {\"type\": \"array\", \"items\": { \\\n",
        "                      \"type\": \"object\", \\\n",
        "                        \"properties\": {\\\n",
        "                          \"name\": {\"type\": \"string\"},\\\n",
        "                          \"items\": { \\\n",
        "                           \"type\": \"array\", \\\n",
        "                              \"items\": { \\\n",
        "                                \"type\": \"object\", \\\n",
        "                                  \"properties\": { \\\n",
        "                                    \"quantity\": {\"type\": \"integer\", \"minimum\": 0}, \\\n",
        "                                    \"item_aliases\": {\"type\": \"array\", \"items\": {\"type\": \"string\"},\\\n",
        "                                    \"modifications\": {\"type\":\"array\",\"items\": {\"type\": \"string\"},\\\n",
        "                                    \"item_name\": {\"type\": \"string\"},\\\n",
        "                                    \"special requests\": {\"type\": \"array\", \"items\": {\"type\": \"string\"}} \\\n",
        "                                    }}}}}}}}}}\n",
        "#####\n",
        "example4"
      ],
      "metadata": {
        "colab": {
          "base_uri": "https://localhost:8080/"
        },
        "id": "74IjvR9ray0y",
        "outputId": "eb937af8-39ea-4cd0-bed7-60b783737a4b"
      },
      "execution_count": 74,
      "outputs": [
        {
          "output_type": "stream",
          "name": "stdout",
          "text": [
            "Overwriting example4.py\n"
          ]
        }
      ]
    },
    {
      "cell_type": "code",
      "source": [
        "builder = pjs.ObjectBuilder(example4)\n",
        "ns = builder.build_classes()\n",
        "Order4 = ns.Example4Schema\n",
        "o4 = Order4(**test_obj_2);\n",
        "o4"
      ],
      "metadata": {
        "colab": {
          "base_uri": "https://localhost:8080/"
        },
        "id": "kSsTTfz1dLW9",
        "outputId": "87a2cc1c-6e92-472b-c53e-601a25df602f"
      },
      "execution_count": 78,
      "outputs": [
        {
          "output_type": "stream",
          "name": "stderr",
          "text": [
            "/usr/local/lib/python3.10/dist-packages/python_jsonschema_objects/__init__.py:99: UserWarning: Schema version not specified. Defaulting to http://json-schema.org/draft-04/schema\n",
            "  warnings.warn(\n",
            "/usr/local/lib/python3.10/dist-packages/python_jsonschema_objects/__init__.py:112: UserWarning: Schema id not specified. Defaulting to 'self'\n",
            "  warnings.warn(\"Schema id not specified. Defaulting to 'self'\")\n"
          ]
        },
        {
          "output_type": "execute_result",
          "data": {
            "text/plain": [
              "<example4_schema categories=<example4_schema/categories_<anonymous_field>=[]> combos=<example4_schema/combos_<anonymous_field>=[{'combo_aliases': ['#6'], 'items': [{'item_aliases': [], 'item_name': 'Ultimate Cheeseburger', 'modifications': [], 'quantity': 1, 'special_requests': []}, {'item_aliases': [], 'item_name': 'French Fries Small', 'modifications': [], 'quantity': 1, 'special_requests': []}, {'item_aliases': [], 'item_name': 'Small Coca-Cola', 'modifications': [], 'quantity': 1, 'special_requests': []}], 'name': 'Ultimate Cheeseburger Combo'}]>>"
            ]
          },
          "metadata": {},
          "execution_count": 78
        }
      ]
    },
    {
      "cell_type": "code",
      "source": [
        "type(o4)"
      ],
      "metadata": {
        "colab": {
          "base_uri": "https://localhost:8080/",
          "height": 186
        },
        "id": "YdljuYX3eA0f",
        "outputId": "105c844d-1275-4772-cf8e-ca6902a496fb"
      },
      "execution_count": 79,
      "outputs": [
        {
          "output_type": "execute_result",
          "data": {
            "text/plain": [
              "abc.example4_schema"
            ],
            "text/html": [
              "<div style=\"max-width:800px; border: 1px solid var(--colab-border-color);\"><style>\n",
              "      pre.function-repr-contents {\n",
              "        overflow-x: auto;\n",
              "        padding: 8px 12px;\n",
              "        max-height: 500px;\n",
              "      }\n",
              "\n",
              "      pre.function-repr-contents.function-repr-contents-collapsed {\n",
              "        cursor: pointer;\n",
              "        max-height: 100px;\n",
              "      }\n",
              "    </style>\n",
              "    <pre style=\"white-space: initial; background:\n",
              "         var(--colab-secondary-surface-color); padding: 8px 12px;\n",
              "         border-bottom: 1px solid var(--colab-border-color);\"><b>abc.example4_schema</b><br/>def __init__(**props)</pre><pre class=\"function-repr-contents function-repr-contents-collapsed\" style=\"\"><a class=\"filepath\" style=\"display:none\" href=\"#\">/usr/lib/python3.10/abc.py</a>An instance of a class generated from the provided\n",
              "schema. All properties will be validated according to\n",
              "the definitions provided. However, whether or not all required\n",
              "properties have been provide will *not* be validated.\n",
              "\n",
              "Args:\n",
              "    **props: Properties with which to populate the class object\n",
              "\n",
              "Returns:\n",
              "    The class object populated with values\n",
              "\n",
              "Raises:\n",
              "    validators.ValidationError: If any of the provided properties\n",
              "        do not pass validation</pre>\n",
              "      <script>\n",
              "      if (google.colab.kernel.accessAllowed && google.colab.files && google.colab.files.view) {\n",
              "        for (const element of document.querySelectorAll('.filepath')) {\n",
              "          element.style.display = 'block'\n",
              "          element.onclick = (event) => {\n",
              "            event.preventDefault();\n",
              "            event.stopPropagation();\n",
              "            google.colab.files.view(element.textContent, None);\n",
              "          };\n",
              "        }\n",
              "      }\n",
              "      for (const element of document.querySelectorAll('.function-repr-contents')) {\n",
              "        element.onclick = (event) => {\n",
              "          event.preventDefault();\n",
              "          event.stopPropagation();\n",
              "          element.classList.toggle('function-repr-contents-collapsed');\n",
              "        };\n",
              "      }\n",
              "      </script>\n",
              "      </div>"
            ]
          },
          "metadata": {},
          "execution_count": 79
        }
      ]
    },
    {
      "cell_type": "code",
      "source": [],
      "metadata": {
        "colab": {
          "base_uri": "https://localhost:8080/",
          "height": 109
        },
        "id": "FhR3uABWoKRN",
        "outputId": "bbb96550-eae1-4eca-ac29-12ccdc83e90b"
      },
      "execution_count": 87,
      "outputs": [
        {
          "output_type": "error",
          "ename": "SyntaxError",
          "evalue": "invalid syntax (<ipython-input-87-5ee426b22ec1>, line 1)",
          "traceback": [
            "\u001b[0;36m  File \u001b[0;32m\"<ipython-input-87-5ee426b22ec1>\"\u001b[0;36m, line \u001b[0;32m1\u001b[0m\n\u001b[0;31m    o4.categories.categories_<anonymous_field>\u001b[0m\n\u001b[0m                                              ^\u001b[0m\n\u001b[0;31mSyntaxError\u001b[0m\u001b[0;31m:\u001b[0m invalid syntax\n"
          ]
        }
      ]
    },
    {
      "cell_type": "code",
      "source": [
        "class NewClass(type(o4)):\n",
        "  pass"
      ],
      "metadata": {
        "id": "DfqrGHhAlIsj"
      },
      "execution_count": 80,
      "outputs": []
    },
    {
      "cell_type": "code",
      "source": [
        "dir( NewClass)"
      ],
      "metadata": {
        "colab": {
          "base_uri": "https://localhost:8080/"
        },
        "id": "q_YLMpaUlb4j",
        "outputId": "e11f2c4c-d8b7-4137-b417-b09e18eb817b"
      },
      "execution_count": 81,
      "outputs": [
        {
          "output_type": "execute_result",
          "data": {
            "text/plain": [
              "['_MutableMapping__marker',\n",
              " '__abstractmethods__',\n",
              " '__annotations__',\n",
              " '__class__',\n",
              " '__class_getitem__',\n",
              " '__contains__',\n",
              " '__deepcopy__',\n",
              " '__delattr__',\n",
              " '__delitem__',\n",
              " '__dict__',\n",
              " '__dir__',\n",
              " '__doc__',\n",
              " '__eq__',\n",
              " '__extensible__',\n",
              " '__format__',\n",
              " '__ge__',\n",
              " '__getattr__',\n",
              " '__getattribute__',\n",
              " '__getitem__',\n",
              " '__gt__',\n",
              " '__has_default__',\n",
              " '__hash__',\n",
              " '__init__',\n",
              " '__init_subclass__',\n",
              " '__iter__',\n",
              " '__le__',\n",
              " '__len__',\n",
              " '__lt__',\n",
              " '__module__',\n",
              " '__ne__',\n",
              " '__new__',\n",
              " '__object_attr_list__',\n",
              " '__prop_names__',\n",
              " '__propinfo__',\n",
              " '__reduce__',\n",
              " '__reduce_ex__',\n",
              " '__repr__',\n",
              " '__required__',\n",
              " '__reversed__',\n",
              " '__setattr__',\n",
              " '__setitem__',\n",
              " '__sizeof__',\n",
              " '__slots__',\n",
              " '__str__',\n",
              " '__subclasshook__',\n",
              " '__title__',\n",
              " '__weakref__',\n",
              " '_abc_impl',\n",
              " 'as_dict',\n",
              " 'categories',\n",
              " 'clear',\n",
              " 'combos',\n",
              " 'for_json',\n",
              " 'from_json',\n",
              " 'get',\n",
              " 'items',\n",
              " 'keys',\n",
              " 'missing_property_names',\n",
              " 'pop',\n",
              " 'popitem',\n",
              " 'propinfo',\n",
              " 'serialize',\n",
              " 'setdefault',\n",
              " 'update',\n",
              " 'validate',\n",
              " 'values']"
            ]
          },
          "metadata": {},
          "execution_count": 81
        }
      ]
    },
    {
      "cell_type": "code",
      "source": [
        "NewClass.__dict__"
      ],
      "metadata": {
        "colab": {
          "base_uri": "https://localhost:8080/"
        },
        "id": "CfWUQPfenxa9",
        "outputId": "5992a523-ba73-40d5-c664-2a810c5dae13"
      },
      "execution_count": 84,
      "outputs": [
        {
          "output_type": "execute_result",
          "data": {
            "text/plain": [
              "mappingproxy({'__module__': '__main__',\n",
              "              '__doc__': None,\n",
              "              '__abstractmethods__': frozenset(),\n",
              "              '_abc_impl': <_abc._abc_data at 0x7cdbcbcf3080>})"
            ]
          },
          "metadata": {},
          "execution_count": 84
        }
      ]
    },
    {
      "cell_type": "code",
      "source": [],
      "metadata": {
        "id": "NsStweBun4Y7"
      },
      "execution_count": null,
      "outputs": []
    }
  ]
}
{
  "cells": [
    {
      "cell_type": "markdown",
      "metadata": {
        "id": "view-in-github",
        "colab_type": "text"
      },
      "source": [
        "<a href=\"https://colab.research.google.com/github/seanreed1111/colab-demos/blob/master/DORA_gpt_3_5_turbo_v1.ipynb\" target=\"_parent\"><img src=\"https://colab.research.google.com/assets/colab-badge.svg\" alt=\"Open In Colab\"/></a>"
      ]
    },
    {
      "cell_type": "markdown",
      "source": [
        "- https://eur-lex.europa.eu/legal-content/EN/TXT/PDF/?uri=CELEX:32022R2554\n"
      ],
      "metadata": {
        "id": "9TjQmkjw8CHb"
      },
      "id": "9TjQmkjw8CHb"
    },
    {
      "cell_type": "code",
      "source": [
        "!mkdir -p DATA/DORA;curl https://eur-lex.europa.eu/legal-content/EN/TXT/PDF/?uri=CELEX:32022R2554 -o DATA/DORA/CELEX_32022R2554.pdf"
      ],
      "metadata": {
        "colab": {
          "base_uri": "https://localhost:8080/"
        },
        "id": "hNi94c7jgW-M",
        "outputId": "f80a6fdc-a35c-4971-9647-7c1be6920f7a"
      },
      "id": "hNi94c7jgW-M",
      "execution_count": 1,
      "outputs": [
        {
          "output_type": "stream",
          "name": "stdout",
          "text": [
            "  % Total    % Received % Xferd  Average Speed   Time    Time     Time  Current\n",
            "                                 Dload  Upload   Total   Spent    Left  Speed\n",
            "100 1458k    0 1458k    0     0  3136k      0 --:--:-- --:--:-- --:--:-- 3136k\n"
          ]
        }
      ]
    },
    {
      "cell_type": "code",
      "source": [
        "%pip install -qq llama-index openai pypdf"
      ],
      "metadata": {
        "colab": {
          "base_uri": "https://localhost:8080/"
        },
        "id": "VrTpIfTBBjVt",
        "outputId": "6b7892a2-ad23-4ad6-a46c-e122af4cfe89"
      },
      "id": "VrTpIfTBBjVt",
      "execution_count": 2,
      "outputs": [
        {
          "output_type": "stream",
          "name": "stdout",
          "text": [
            "\u001b[?25l     \u001b[90m━━━━━━━━━━━━━━━━━━━━━━━━━━━━━━━━━━━━━━━━\u001b[0m \u001b[32m0.0/584.0 kB\u001b[0m \u001b[31m?\u001b[0m eta \u001b[36m-:--:--\u001b[0m\r\u001b[2K     \u001b[90m━━━━━━━━━━━━━━━━━━━━━━━━━━━━━━━━━━━━━━\u001b[0m \u001b[32m584.0/584.0 kB\u001b[0m \u001b[31m30.7 MB/s\u001b[0m eta \u001b[36m0:00:00\u001b[0m\n",
            "\u001b[?25h\u001b[?25l     \u001b[90m━━━━━━━━━━━━━━━━━━━━━━━━━━━━━━━━━━━━━━━━\u001b[0m \u001b[32m0.0/73.6 kB\u001b[0m \u001b[31m?\u001b[0m eta \u001b[36m-:--:--\u001b[0m\r\u001b[2K     \u001b[90m━━━━━━━━━━━━━━━━━━━━━━━━━━━━━━━━━━━━━━━━\u001b[0m \u001b[32m73.6/73.6 kB\u001b[0m \u001b[31m7.8 MB/s\u001b[0m eta \u001b[36m0:00:00\u001b[0m\n",
            "\u001b[2K     \u001b[90m━━━━━━━━━━━━━━━━━━━━━━━━━━━━━━━━━━━━━━\u001b[0m \u001b[32m254.8/254.8 kB\u001b[0m \u001b[31m26.2 MB/s\u001b[0m eta \u001b[36m0:00:00\u001b[0m\n",
            "\u001b[2K     \u001b[90m━━━━━━━━━━━━━━━━━━━━━━━━━━━━━━━━━━━━━━━━\u001b[0m \u001b[32m1.7/1.7 MB\u001b[0m \u001b[31m87.8 MB/s\u001b[0m eta \u001b[36m0:00:00\u001b[0m\n",
            "\u001b[2K     \u001b[90m━━━━━━━━━━━━━━━━━━━━━━━━━━━━━━━━━━━━━━━━\u001b[0m \u001b[32m1.3/1.3 MB\u001b[0m \u001b[31m82.4 MB/s\u001b[0m eta \u001b[36m0:00:00\u001b[0m\n",
            "\u001b[2K     \u001b[90m━━━━━━━━━━━━━━━━━━━━━━━━━━━━━━━━━━━━━━━━\u001b[0m \u001b[32m90.0/90.0 kB\u001b[0m \u001b[31m10.8 MB/s\u001b[0m eta \u001b[36m0:00:00\u001b[0m\n",
            "\u001b[2K     \u001b[90m━━━━━━━━━━━━━━━━━━━━━━━━━━━━━━━━━━━━━━━━\u001b[0m \u001b[32m49.1/49.1 kB\u001b[0m \u001b[31m5.5 MB/s\u001b[0m eta \u001b[36m0:00:00\u001b[0m\n",
            "\u001b[?25h"
          ]
        }
      ]
    },
    {
      "cell_type": "code",
      "execution_count": 3,
      "id": "4921c412",
      "metadata": {
        "id": "4921c412"
      },
      "outputs": [],
      "source": [
        "import llama_index\n",
        "from llama_index import (\n",
        "    ListIndex, VectorStoreIndex, SimpleDirectoryReader, LLMPredictor,\n",
        "    ServiceContext,StorageContext, load_index_from_storage\n",
        ")\n",
        "from llama_index.response.notebook_utils import display_response\n",
        "from llama_index.llms import OpenAI\n",
        "from IPython.display import Markdown, display\n",
        "import logging, sys, os, json\n",
        "from pathlib import Path\n",
        "import openai\n",
        "from typing import List, Tuple, Dict, Union\n",
        "\n",
        "logging.basicConfig(stream=sys.stdout, level=logging.DEBUG)\n",
        "logger = logging.getLogger()\n",
        "logger.addHandler(logging.StreamHandler(stream=sys.stdout))"
      ]
    },
    {
      "cell_type": "code",
      "execution_count": 4,
      "id": "261d923e",
      "metadata": {
        "id": "261d923e"
      },
      "outputs": [],
      "source": [
        "cwd: Path = Path.cwd()\n",
        "data_dir: Path = cwd / \"DATA\"\n",
        "dora_dir: Path  = data_dir / \"DORA\"\n",
        "documents: List = SimpleDirectoryReader(dora_dir).load_data()"
      ]
    },
    {
      "cell_type": "code",
      "source": [
        "def set_open_ai_key(env_path: Union[Path, str] = None) -> Tuple[bool, str]:\n",
        "  import json, os\n",
        "  from pathlib import Path\n",
        "\n",
        "  openai.api_key = None #clear previous key if exists\n",
        "  env_path: Path = Path(env_path).absolute() # in case env_path is passed as a str\n",
        "  if not env_path.is_file(): err: str = f\"File:{str(env_path)} does not exist.\"\n",
        "  else:\n",
        "    try:\n",
        "      with open(env_path, \"r\") as f:\n",
        "          env_vars = json.load(f)\n",
        "      os.environ[\"OPENAI_API_KEY\"] = env_vars[\"OPENAI_API_KEY\"]\n",
        "      openai.api_key = os.environ[\"OPENAI_API_KEY\"]\n",
        "      openai.Model.list() #test a random command on the openai API\n",
        "      err = None\n",
        "    except Exception as e:\n",
        "      err = json.dumps({\"error\":e})\n",
        "\n",
        "  logger.info(err)\n",
        "  return (True, \"ok\") if not err else (False, err)"
      ],
      "metadata": {
        "id": "cBPv_qUQDX6A"
      },
      "id": "cBPv_qUQDX6A",
      "execution_count": 5,
      "outputs": []
    },
    {
      "cell_type": "code",
      "source": [
        "cwd: Path = Path.cwd()\n",
        "env_path: Path = cwd/ \"openai.env\";\n",
        "print(set_open_ai_key(env_path)) # Tuple[bool, str]"
      ],
      "metadata": {
        "colab": {
          "base_uri": "https://localhost:8080/"
        },
        "id": "b2wcWk_QpclU",
        "outputId": "46e0e3a6-d480-40d9-e6c9-d7146fe57ecf"
      },
      "id": "b2wcWk_QpclU",
      "execution_count": 6,
      "outputs": [
        {
          "output_type": "stream",
          "name": "stdout",
          "text": [
            "(True, 'ok')\n"
          ]
        }
      ]
    },
    {
      "cell_type": "code",
      "execution_count": 8,
      "id": "0c635cdb",
      "metadata": {
        "id": "0c635cdb"
      },
      "outputs": [],
      "source": [
        "TEMPERATURE = 0\n",
        "\n",
        "llm: llama_index.llms.openai.OpenAI = OpenAI(\n",
        "    temperature=TEMPERATURE,\n",
        "    model=\"gpt-3.5-turbo\",\n",
        "    max_tokens=500,\n",
        "    max_retries = 5)\n",
        "\n",
        "service_context: llama_index.indices.service_context.ServiceContext = (\n",
        "    ServiceContext.from_defaults(llm=llm)\n",
        "    )"
      ]
    },
    {
      "cell_type": "code",
      "execution_count": 9,
      "id": "b8ad1a2a",
      "metadata": {
        "id": "b8ad1a2a"
      },
      "outputs": [],
      "source": [
        "index: llama_index.indices.vector_store.base.VectorStoreIndex = (\n",
        "     VectorStoreIndex.from_documents(documents, service_context=service_context)\n",
        ")\n",
        "index.storage_context.persist(persist_dir=\"./storage\")"
      ]
    },
    {
      "cell_type": "code",
      "source": [
        "# store and reload index from memory\n",
        "# from llama_index import StorageContext, load_index_from_storage\n",
        "\n",
        "# rebuild storage context\n",
        "storage_context = StorageContext.from_defaults(persist_dir=\"./storage\")\n",
        "index = load_index_from_storage(storage_context)"
      ],
      "metadata": {
        "id": "3apa1VTGNi9_"
      },
      "id": "3apa1VTGNi9_",
      "execution_count": null,
      "outputs": []
    },
    {
      "cell_type": "code",
      "source": [
        "import pandas as pd\n",
        "sample_qna_path = Path(\"/content/DATA/SampleQuestionsAndAnswers/Questionnaire for Chat PDF - example DORA_v0.1.xlsx\")\n",
        "df = pd.read_excel(sample_qna_path, skiprows=1);df.head()"
      ],
      "metadata": {
        "colab": {
          "base_uri": "https://localhost:8080/",
          "height": 206
        },
        "id": "TbG6_ykDAmg9",
        "outputId": "715c7711-e1ce-499f-c01b-3f7b3f9f4873"
      },
      "id": "TbG6_ykDAmg9",
      "execution_count": 19,
      "outputs": [
        {
          "output_type": "execute_result",
          "data": {
            "text/plain": [
              "   Serial                                          Questions  \\\n",
              "0       1  What are the key summary points of this regula...   \n",
              "1       2              Explain the regulation to me in brief   \n",
              "2       3  How is this regulation expected to impact a gl...   \n",
              "3       4  What changes do financial institutions have to...   \n",
              "4       5  •\\tWhat is the scope of this regulation? Does ...   \n",
              "\n",
              "                                             Answers Category Comments  \\\n",
              "0  o\\tAs an expert on the content of this PDF doc...  General      NaN   \n",
              "1  Regulation (EU) 2022/2554 is a legislative act...  General      NaN   \n",
              "2  The regulation aims to establish a common fram...  General      NaN   \n",
              "3  o\\tAs an AI language model, I do not have acce...  General      NaN   \n",
              "4  o\\tYes, the regulation in this PDF has a speci...  General      NaN   \n",
              "\n",
              "   Feedback  \n",
              "0       NaN  \n",
              "1       NaN  \n",
              "2       NaN  \n",
              "3       NaN  \n",
              "4       NaN  "
            ],
            "text/html": [
              "\n",
              "\n",
              "  <div id=\"df-150a5cc5-7d3e-460a-b9e2-14eb01bb8249\">\n",
              "    <div class=\"colab-df-container\">\n",
              "      <div>\n",
              "<style scoped>\n",
              "    .dataframe tbody tr th:only-of-type {\n",
              "        vertical-align: middle;\n",
              "    }\n",
              "\n",
              "    .dataframe tbody tr th {\n",
              "        vertical-align: top;\n",
              "    }\n",
              "\n",
              "    .dataframe thead th {\n",
              "        text-align: right;\n",
              "    }\n",
              "</style>\n",
              "<table border=\"1\" class=\"dataframe\">\n",
              "  <thead>\n",
              "    <tr style=\"text-align: right;\">\n",
              "      <th></th>\n",
              "      <th>Serial</th>\n",
              "      <th>Questions</th>\n",
              "      <th>Answers</th>\n",
              "      <th>Category</th>\n",
              "      <th>Comments</th>\n",
              "      <th>Feedback</th>\n",
              "    </tr>\n",
              "  </thead>\n",
              "  <tbody>\n",
              "    <tr>\n",
              "      <th>0</th>\n",
              "      <td>1</td>\n",
              "      <td>What are the key summary points of this regula...</td>\n",
              "      <td>o\\tAs an expert on the content of this PDF doc...</td>\n",
              "      <td>General</td>\n",
              "      <td>NaN</td>\n",
              "      <td>NaN</td>\n",
              "    </tr>\n",
              "    <tr>\n",
              "      <th>1</th>\n",
              "      <td>2</td>\n",
              "      <td>Explain the regulation to me in brief</td>\n",
              "      <td>Regulation (EU) 2022/2554 is a legislative act...</td>\n",
              "      <td>General</td>\n",
              "      <td>NaN</td>\n",
              "      <td>NaN</td>\n",
              "    </tr>\n",
              "    <tr>\n",
              "      <th>2</th>\n",
              "      <td>3</td>\n",
              "      <td>How is this regulation expected to impact a gl...</td>\n",
              "      <td>The regulation aims to establish a common fram...</td>\n",
              "      <td>General</td>\n",
              "      <td>NaN</td>\n",
              "      <td>NaN</td>\n",
              "    </tr>\n",
              "    <tr>\n",
              "      <th>3</th>\n",
              "      <td>4</td>\n",
              "      <td>What changes do financial institutions have to...</td>\n",
              "      <td>o\\tAs an AI language model, I do not have acce...</td>\n",
              "      <td>General</td>\n",
              "      <td>NaN</td>\n",
              "      <td>NaN</td>\n",
              "    </tr>\n",
              "    <tr>\n",
              "      <th>4</th>\n",
              "      <td>5</td>\n",
              "      <td>•\\tWhat is the scope of this regulation? Does ...</td>\n",
              "      <td>o\\tYes, the regulation in this PDF has a speci...</td>\n",
              "      <td>General</td>\n",
              "      <td>NaN</td>\n",
              "      <td>NaN</td>\n",
              "    </tr>\n",
              "  </tbody>\n",
              "</table>\n",
              "</div>\n",
              "      <button class=\"colab-df-convert\" onclick=\"convertToInteractive('df-150a5cc5-7d3e-460a-b9e2-14eb01bb8249')\"\n",
              "              title=\"Convert this dataframe to an interactive table.\"\n",
              "              style=\"display:none;\">\n",
              "\n",
              "  <svg xmlns=\"http://www.w3.org/2000/svg\" height=\"24px\"viewBox=\"0 0 24 24\"\n",
              "       width=\"24px\">\n",
              "    <path d=\"M0 0h24v24H0V0z\" fill=\"none\"/>\n",
              "    <path d=\"M18.56 5.44l.94 2.06.94-2.06 2.06-.94-2.06-.94-.94-2.06-.94 2.06-2.06.94zm-11 1L8.5 8.5l.94-2.06 2.06-.94-2.06-.94L8.5 2.5l-.94 2.06-2.06.94zm10 10l.94 2.06.94-2.06 2.06-.94-2.06-.94-.94-2.06-.94 2.06-2.06.94z\"/><path d=\"M17.41 7.96l-1.37-1.37c-.4-.4-.92-.59-1.43-.59-.52 0-1.04.2-1.43.59L10.3 9.45l-7.72 7.72c-.78.78-.78 2.05 0 2.83L4 21.41c.39.39.9.59 1.41.59.51 0 1.02-.2 1.41-.59l7.78-7.78 2.81-2.81c.8-.78.8-2.07 0-2.86zM5.41 20L4 18.59l7.72-7.72 1.47 1.35L5.41 20z\"/>\n",
              "  </svg>\n",
              "      </button>\n",
              "\n",
              "\n",
              "\n",
              "    <div id=\"df-ecbdfeb1-41f7-4a4f-ac2f-338dcd7f962b\">\n",
              "      <button class=\"colab-df-quickchart\" onclick=\"quickchart('df-ecbdfeb1-41f7-4a4f-ac2f-338dcd7f962b')\"\n",
              "              title=\"Suggest charts.\"\n",
              "              style=\"display:none;\">\n",
              "\n",
              "<svg xmlns=\"http://www.w3.org/2000/svg\" height=\"24px\"viewBox=\"0 0 24 24\"\n",
              "     width=\"24px\">\n",
              "    <g>\n",
              "        <path d=\"M19 3H5c-1.1 0-2 .9-2 2v14c0 1.1.9 2 2 2h14c1.1 0 2-.9 2-2V5c0-1.1-.9-2-2-2zM9 17H7v-7h2v7zm4 0h-2V7h2v10zm4 0h-2v-4h2v4z\"/>\n",
              "    </g>\n",
              "</svg>\n",
              "      </button>\n",
              "    </div>\n",
              "\n",
              "<style>\n",
              "  .colab-df-quickchart {\n",
              "    background-color: #E8F0FE;\n",
              "    border: none;\n",
              "    border-radius: 50%;\n",
              "    cursor: pointer;\n",
              "    display: none;\n",
              "    fill: #1967D2;\n",
              "    height: 32px;\n",
              "    padding: 0 0 0 0;\n",
              "    width: 32px;\n",
              "  }\n",
              "\n",
              "  .colab-df-quickchart:hover {\n",
              "    background-color: #E2EBFA;\n",
              "    box-shadow: 0px 1px 2px rgba(60, 64, 67, 0.3), 0px 1px 3px 1px rgba(60, 64, 67, 0.15);\n",
              "    fill: #174EA6;\n",
              "  }\n",
              "\n",
              "  [theme=dark] .colab-df-quickchart {\n",
              "    background-color: #3B4455;\n",
              "    fill: #D2E3FC;\n",
              "  }\n",
              "\n",
              "  [theme=dark] .colab-df-quickchart:hover {\n",
              "    background-color: #434B5C;\n",
              "    box-shadow: 0px 1px 3px 1px rgba(0, 0, 0, 0.15);\n",
              "    filter: drop-shadow(0px 1px 2px rgba(0, 0, 0, 0.3));\n",
              "    fill: #FFFFFF;\n",
              "  }\n",
              "</style>\n",
              "\n",
              "    <script>\n",
              "      async function quickchart(key) {\n",
              "        const containerElement = document.querySelector('#' + key);\n",
              "        const charts = await google.colab.kernel.invokeFunction(\n",
              "            'suggestCharts', [key], {});\n",
              "      }\n",
              "    </script>\n",
              "\n",
              "      <script>\n",
              "\n",
              "function displayQuickchartButton(domScope) {\n",
              "  let quickchartButtonEl =\n",
              "    domScope.querySelector('#df-ecbdfeb1-41f7-4a4f-ac2f-338dcd7f962b button.colab-df-quickchart');\n",
              "  quickchartButtonEl.style.display =\n",
              "    google.colab.kernel.accessAllowed ? 'block' : 'none';\n",
              "}\n",
              "\n",
              "        displayQuickchartButton(document);\n",
              "      </script>\n",
              "      <style>\n",
              "    .colab-df-container {\n",
              "      display:flex;\n",
              "      flex-wrap:wrap;\n",
              "      gap: 12px;\n",
              "    }\n",
              "\n",
              "    .colab-df-convert {\n",
              "      background-color: #E8F0FE;\n",
              "      border: none;\n",
              "      border-radius: 50%;\n",
              "      cursor: pointer;\n",
              "      display: none;\n",
              "      fill: #1967D2;\n",
              "      height: 32px;\n",
              "      padding: 0 0 0 0;\n",
              "      width: 32px;\n",
              "    }\n",
              "\n",
              "    .colab-df-convert:hover {\n",
              "      background-color: #E2EBFA;\n",
              "      box-shadow: 0px 1px 2px rgba(60, 64, 67, 0.3), 0px 1px 3px 1px rgba(60, 64, 67, 0.15);\n",
              "      fill: #174EA6;\n",
              "    }\n",
              "\n",
              "    [theme=dark] .colab-df-convert {\n",
              "      background-color: #3B4455;\n",
              "      fill: #D2E3FC;\n",
              "    }\n",
              "\n",
              "    [theme=dark] .colab-df-convert:hover {\n",
              "      background-color: #434B5C;\n",
              "      box-shadow: 0px 1px 3px 1px rgba(0, 0, 0, 0.15);\n",
              "      filter: drop-shadow(0px 1px 2px rgba(0, 0, 0, 0.3));\n",
              "      fill: #FFFFFF;\n",
              "    }\n",
              "  </style>\n",
              "\n",
              "      <script>\n",
              "        const buttonEl =\n",
              "          document.querySelector('#df-150a5cc5-7d3e-460a-b9e2-14eb01bb8249 button.colab-df-convert');\n",
              "        buttonEl.style.display =\n",
              "          google.colab.kernel.accessAllowed ? 'block' : 'none';\n",
              "\n",
              "        async function convertToInteractive(key) {\n",
              "          const element = document.querySelector('#df-150a5cc5-7d3e-460a-b9e2-14eb01bb8249');\n",
              "          const dataTable =\n",
              "            await google.colab.kernel.invokeFunction('convertToInteractive',\n",
              "                                                     [key], {});\n",
              "          if (!dataTable) return;\n",
              "\n",
              "          const docLinkHtml = 'Like what you see? Visit the ' +\n",
              "            '<a target=\"_blank\" href=https://colab.research.google.com/notebooks/data_table.ipynb>data table notebook</a>'\n",
              "            + ' to learn more about interactive tables.';\n",
              "          element.innerHTML = '';\n",
              "          dataTable['output_type'] = 'display_data';\n",
              "          await google.colab.output.renderOutput(dataTable, element);\n",
              "          const docLink = document.createElement('div');\n",
              "          docLink.innerHTML = docLinkHtml;\n",
              "          element.appendChild(docLink);\n",
              "        }\n",
              "      </script>\n",
              "    </div>\n",
              "  </div>\n"
            ]
          },
          "metadata": {},
          "execution_count": 19
        }
      ]
    },
    {
      "cell_type": "code",
      "source": [
        "df.info()"
      ],
      "metadata": {
        "colab": {
          "base_uri": "https://localhost:8080/"
        },
        "id": "VmRt6CAGFMTk",
        "outputId": "1b572353-f64b-4896-e237-dea9f9d64946"
      },
      "id": "VmRt6CAGFMTk",
      "execution_count": 28,
      "outputs": [
        {
          "output_type": "stream",
          "name": "stdout",
          "text": [
            "<class 'pandas.core.frame.DataFrame'>\n",
            "RangeIndex: 38 entries, 0 to 37\n",
            "Data columns (total 6 columns):\n",
            " #   Column     Non-Null Count  Dtype  \n",
            "---  ------     --------------  -----  \n",
            " 0   Serial     38 non-null     int64  \n",
            " 1   Questions  38 non-null     object \n",
            " 2   Answers    38 non-null     object \n",
            " 3   Category   38 non-null     object \n",
            " 4   Comments   2 non-null      object \n",
            " 5   Feedback   0 non-null      float64\n",
            "dtypes: float64(1), int64(1), object(4)\n",
            "memory usage: 1.9+ KB\n"
          ]
        }
      ]
    },
    {
      "cell_type": "code",
      "source": [
        "QA = list(zip(df['Questions'].tolist(), df['Answers'].tolist()))\n",
        "QA[0]"
      ],
      "metadata": {
        "colab": {
          "base_uri": "https://localhost:8080/"
        },
        "id": "EQAz2sh3CTKj",
        "outputId": "a68026ae-471f-4caa-80bd-f6709f6ba321"
      },
      "id": "EQAz2sh3CTKj",
      "execution_count": 24,
      "outputs": [
        {
          "output_type": "execute_result",
          "data": {
            "text/plain": [
              "('What are the key summary points of this regulation as per this PDF document?',\n",
              " 'o\\tAs an expert on the content of this PDF document, I can provide you with a summary of the key points of this regulation: - The aim of this regulation is to ensure a high level of digital operational resilience for regulated financial entities in the EU. - Financial entities are required to identify and manage their ICT-related risks, and to establish and maintain effective ICT risk management frameworks. - Financial entities must report major ICT-related incidents to the relevant competent authority, and may also voluntarily report significant cyber threats. - The regulation establishes a framework for cooperation and information-sharing between competent authorities, financial entities, and other relevant stakeholders. - Small and non-interconnected investment firms, payment institutions, electronic money institutions, and small institutions for occupational retirement provision are exempted from certain requirements of the regulation. - The European Supervisory Authorities (ESAs) are responsible for developing draft regulatory technical standards, which must be submitted to the European Commission by January 17, 2024. - The Commission has the power to adopt regulatory technical standards in accordance with Articles 10 to 14 of Regulations (EU) No 1093/2010, (EU) No 1094/2010, and (EU) No 1095/2010. - The regulation applies from June 28, 2023, with the exception of certain provisions that apply from December 28, 2024')"
            ]
          },
          "metadata": {},
          "execution_count": 24
        }
      ]
    },
    {
      "cell_type": "code",
      "execution_count": 21,
      "id": "fa1d7242",
      "metadata": {
        "id": "fa1d7242",
        "colab": {
          "base_uri": "https://localhost:8080/",
          "height": 261
        },
        "outputId": "efef0a3b-8a5e-4ec8-9531-257cbd3f3285"
      },
      "outputs": [
        {
          "output_type": "display_data",
          "data": {
            "text/plain": [
              "<IPython.core.display.Markdown object>"
            ],
            "text/markdown": "**`Final Response:`** The key summary points of this regulation, as per the PDF document, are as follows:\n\n- The objective of this regulation is to achieve a high level of digital operational resilience for regulated financial entities.\n- The regulation lays down uniform requirements for the security of network and information systems supporting the business processes of financial entities.\n- It includes requirements for ICT risk management, reporting of major ICT-related incidents, digital operational resilience testing, information sharing on cyber threats and vulnerabilities, and measures for the management of ICT third-party risk.\n- The regulation also covers contractual arrangements between ICT third-party service providers and financial entities, the establishment and conduct of the Oversight Framework for critical ICT third-party service providers, and cooperation among competent authorities.\n- It is considered a sector-specific Union legal act for essential or important financial entities.\n- The regulation does not affect Member States' responsibility for essential State functions related to public security, defense, and national security.\n- The European Data Protection Supervisor was consulted and provided an opinion on the regulation.\n- The regulation aims to consolidate and upgrade ICT risk requirements as part of operational risk requirements, addressing components of operational resilience and ICT-related incidents.\n- It builds upon existing Union legal acts that covered various financial risk categories but did not comprehensively address operational resilience."
          },
          "metadata": {}
        }
      ],
      "source": [
        "query_engine: llama_index.query_engine.retriever_query_engine.RetrieverQueryEngine = (\n",
        "    index.as_query_engine()\n",
        ")\n",
        "q: str = 'What are the key summary points of this regulation as per this PDF document?'\n",
        "response: llama_index.response.schema.Response = query_engine.query(q)\n",
        "display_response(response)"
      ]
    },
    {
      "cell_type": "code",
      "source": [
        "for q,a in QA[1:2]:\n",
        "  print(\"\\n\",\"\\n\", q, \"\\n\")\n",
        "  display_response(query_engine.query(q))"
      ],
      "metadata": {
        "colab": {
          "base_uri": "https://localhost:8080/",
          "height": 203
        },
        "id": "-1c47iaMESc7",
        "outputId": "3bea4e19-0b09-4cd2-f531-b6df2743945b"
      },
      "id": "-1c47iaMESc7",
      "execution_count": 25,
      "outputs": [
        {
          "output_type": "stream",
          "name": "stdout",
          "text": [
            "\n",
            " \n",
            " Explain the regulation to me in brief \n",
            "\n"
          ]
        },
        {
          "output_type": "display_data",
          "data": {
            "text/plain": [
              "<IPython.core.display.Markdown object>"
            ],
            "text/markdown": "**`Final Response:`** The regulation aims to achieve a high level of digital operational resilience for regulated financial entities. It establishes uniform requirements for the security of network and information systems supporting the business processes of financial entities. These requirements include ICT risk management, reporting of major incidents and cyber threats, digital operational resilience testing, information sharing on cyber threats and vulnerabilities, and measures for managing third-party ICT risks. The regulation also covers contractual arrangements between ICT service providers and financial entities, the establishment and conduct of the Oversight Framework for critical ICT service providers, cooperation among competent authorities, and supervision and enforcement. It is applicable to financial entities identified as essential or important entities and does not affect Member States' responsibilities regarding public security, defense, and national security."
          },
          "metadata": {}
        }
      ]
    },
    {
      "cell_type": "code",
      "execution_count": 26,
      "id": "d758bdb7",
      "metadata": {
        "scrolled": true,
        "colab": {
          "base_uri": "https://localhost:8080/",
          "height": 491
        },
        "id": "d758bdb7",
        "outputId": "841cf014-fde8-4f6d-beac-c733f7d21b5d"
      },
      "outputs": [
        {
          "output_type": "stream",
          "name": "stdout",
          "text": [
            "\n",
            " \n",
            " How is this regulation expected to impact a global financial institution with operations in north america, europe and asia \n",
            " \n",
            "\n"
          ]
        },
        {
          "output_type": "display_data",
          "data": {
            "text/plain": [
              "<IPython.core.display.Markdown object>"
            ],
            "text/markdown": "**`Final Response:`** Based on the provided context information, this regulation is expected to impact a global financial institution with operations in North America, Europe, and Asia in the following ways:\n\n1. Strengthening Digital Operational Resilience: The regulation aims to strengthen the digital operational resilience of the financial services industry. This means that the global financial institution will be required to enhance its ability to withstand and recover from ICT breaches and incidents, ensuring the safety and good functioning of its technological infrastructure.\n\n2. Harmonization of ICT Risk Provisions: The regulation seeks to address legislative disparities and uneven national regulatory or supervisory approaches to ICT risk. This harmonization will help remove obstacles to the functioning of the internal market in financial services, facilitating the smooth exercise of the freedom of establishment and provision of services for financial entities operating on a cross-border basis. This will benefit the global financial institution by promoting consistency and reducing regulatory burdens across different jurisdictions.\n\n3. Compliance with Key Digital Operational Resilience Requirements: The regulation calls for further harmonization of key digital operational resilience requirements for all financial entities. This means that the global financial institution will need to comply with these requirements to develop its ICT capabilities and overall resilience, ensuring it can withstand operational outages. Compliance with these requirements will contribute to the stability and integrity of the Union financial markets, protecting investors and consumers. \n\n4. Consistency with International Standards: The regulation aligns with international efforts to enhance digital resilience and coordinate regulatory or supervisory work. This means that the global financial institution, with operations in North America, Europe, and Asia, will need to ensure its compliance with relevant international standards and best practices to bolster the resilience of its financial systems.\n\nOverall, this regulation is expected to have a significant impact on the global financial institution, requiring it to strengthen its digital operational resilience, comply with harmonized requirements, and align with international standards. It aims to enhance the stability and integrity of the financial sector, which will benefit the institution's operations in North America, Europe, and Asia by promoting consistency, reducing regulatory obstacles, and protecting investors and consumers."
          },
          "metadata": {}
        }
      ],
      "source": [
        "for q,a in QA[2:3]:\n",
        "  print(\"\\n\",\"\\n\", q, \"\\n\", \"\\n\")\n",
        "  display_response(query_engine.query(q))"
      ]
    },
    {
      "cell_type": "code",
      "source": [
        "for q,a in QA[3:4]:\n",
        "  print(\"\\n\",\"\\n\", q, \"\\n\", \"\\n\")\n",
        "  display_response(query_engine.query(q))"
      ],
      "metadata": {
        "colab": {
          "base_uri": "https://localhost:8080/",
          "height": 185
        },
        "id": "XxO0c85h3hW6",
        "outputId": "9312ec8b-24b0-4b2a-b374-4f14b325f344"
      },
      "id": "XxO0c85h3hW6",
      "execution_count": 27,
      "outputs": [
        {
          "output_type": "stream",
          "name": "stdout",
          "text": [
            "\n",
            " \n",
            " What changes do financial institutions have to make in order to comply with this regulation in this PDF? \n",
            " \n",
            "\n"
          ]
        },
        {
          "output_type": "display_data",
          "data": {
            "text/plain": [
              "<IPython.core.display.Markdown object>"
            ],
            "text/markdown": "**`Final Response:`** Financial institutions have to maintain updated ICT systems that are reliable and capable of guaranteeing the processing of data required for their services. They also need to ensure sufficient technological resilience to deal adequately with additional processing needs due to stressed market conditions or other adverse situations. Additionally, payment institutions, account information service providers, and electronic money institutions are required to report all operational or security payment-related incidents, regardless of the ICT nature of the incident."
          },
          "metadata": {}
        }
      ]
    },
    {
      "cell_type": "code",
      "source": [
        "q = \"What is the scope of this regulation as defined in article 2 of page 24 of this document ?\"\n",
        "display_response(query_engine.query(q))"
      ],
      "metadata": {
        "id": "QRf4ljOHA7OS",
        "colab": {
          "base_uri": "https://localhost:8080/",
          "height": 116
        },
        "outputId": "28c4c281-57d5-49cd-b120-8bc320bf626c"
      },
      "id": "QRf4ljOHA7OS",
      "execution_count": 29,
      "outputs": [
        {
          "output_type": "display_data",
          "data": {
            "text/plain": [
              "<IPython.core.display.Markdown object>"
            ],
            "text/markdown": "**`Final Response:`** The scope of this regulation, as defined in Article 2 of page 24 of this document, includes various entities such as credit institutions, payment institutions, account information service providers, electronic money institutions, investment firms, crypto-asset service providers, central securities depositories, trading venues, insurance and reinsurance undertakings, and many others. These entities are collectively referred to as \"financial entities\" in this regulation. However, there are certain exemptions mentioned in Article 2(3) of the regulation, such as managers of alternative investment funds, insurance and reinsurance undertakings, and institutions for occupational retirement provision with fewer than 15 members."
          },
          "metadata": {}
        }
      ]
    },
    {
      "cell_type": "code",
      "source": [
        "QA[29]"
      ],
      "metadata": {
        "colab": {
          "base_uri": "https://localhost:8080/"
        },
        "id": "VrF4YkAFQH-j",
        "outputId": "28a12050-3f0b-4b5f-8252-fbd9e22c411c"
      },
      "id": "VrF4YkAFQH-j",
      "execution_count": 32,
      "outputs": [
        {
          "output_type": "execute_result",
          "data": {
            "text/plain": [
              "('•\\tWhat is the scope of this regulation as defined in article 2 of page 24 of tis document ?',\n",
              " 'o\\tArticle 2 of page 24 of the PDF document defines the scope of the regulation. The regulation applies to the following entities: 1. Financial entities, including credit institutions, payment institutions, electronic money institutions, and account information service providers, as well as market operators, investment firms, and other entities that are subject to authorization or registration under EU financial services legislation. 2. ICT service providers that provide services to financial entities referred to in point 1 above. 3. Competent authorities responsible for the supervision of financial entities referred to in point 1 above, as well as ICT service providers referred to in point 2 above. The regulation applies to the entities referred to above when they operate in the EU, regardless of whether they are established in the EU or in a third country. The regulation does not apply to entities referred to in Article 2(5), points (4) to (23), of Directive 2013/36/EU that are located within the territories of Member States that choose to exclude them from the scope of the regulation.')"
            ]
          },
          "metadata": {},
          "execution_count": 32
        }
      ]
    },
    {
      "cell_type": "code",
      "source": [
        "for q,a in QA[19:20]:\n",
        "  print(\"\\n\",\"\\n\", q, \"\\n\", \"\\n\")\n",
        "  display_response(query_engine.query(q))"
      ],
      "metadata": {
        "colab": {
          "base_uri": "https://localhost:8080/",
          "height": 168
        },
        "id": "j99bUkOXQeOd",
        "outputId": "7b48cc23-b583-47fe-b753-0e7b0f403e09"
      },
      "id": "j99bUkOXQeOd",
      "execution_count": 33,
      "outputs": [
        {
          "output_type": "stream",
          "name": "stdout",
          "text": [
            "\n",
            " \n",
            " I am an IT analyst, will I be impacted by this regulation? \n",
            " \n",
            "\n"
          ]
        },
        {
          "output_type": "display_data",
          "data": {
            "text/plain": [
              "<IPython.core.display.Markdown object>"
            ],
            "text/markdown": "**`Final Response:`** Based on the provided context information, it is not possible to determine whether an IT analyst will be impacted by this regulation. The regulation specifically focuses on critical ICT third-party service providers and their oversight framework. Without further information about the specific role and responsibilities of the IT analyst in relation to critical ICT third-party service providers, it is not possible to determine the impact of this regulation on the IT analyst."
          },
          "metadata": {}
        }
      ]
    },
    {
      "cell_type": "code",
      "source": [
        "for q,a in QA[26:27]:\n",
        "  print(\"\\n\",\"\\n\", q, \"\\n\", \"\\n\")\n",
        "  display_response(query_engine.query(q))"
      ],
      "metadata": {
        "colab": {
          "base_uri": "https://localhost:8080/",
          "height": 185
        },
        "id": "Q_lNBYRNR1O_",
        "outputId": "15971551-54f2-4991-dbb8-ede1b8e13db7"
      },
      "id": "Q_lNBYRNR1O_",
      "execution_count": 34,
      "outputs": [
        {
          "output_type": "stream",
          "name": "stdout",
          "text": [
            "\n",
            " \n",
            " What governance structure is needed at an organisation to comply with this regulation? \n",
            " \n",
            "\n"
          ]
        },
        {
          "output_type": "display_data",
          "data": {
            "text/plain": [
              "<IPython.core.display.Markdown object>"
            ],
            "text/markdown": "**`Final Response:`** Based on the provided context information, it is not possible to determine the specific governance structure needed at an organization to comply with this regulation. The context information mentions the need for competent authorities to have supervisory, investigative, and sanctioning powers, as well as the requirement for close cooperation among relevant competent authorities. It also mentions the development of regulatory technical standards by the ESAs (European Supervisory Authorities). However, the specific governance structure required for compliance with this regulation is not explicitly stated."
          },
          "metadata": {}
        }
      ]
    },
    {
      "cell_type": "code",
      "source": [],
      "metadata": {
        "id": "cwRK6DqlSRAd"
      },
      "id": "cwRK6DqlSRAd",
      "execution_count": null,
      "outputs": []
    }
  ],
  "metadata": {
    "kernelspec": {
      "display_name": "Python 3 (ipykernel)",
      "language": "python",
      "name": "python3"
    },
    "language_info": {
      "codemirror_mode": {
        "name": "ipython",
        "version": 3
      },
      "file_extension": ".py",
      "mimetype": "text/x-python",
      "name": "python",
      "nbconvert_exporter": "python",
      "pygments_lexer": "ipython3",
      "version": "3.10.9"
    },
    "colab": {
      "provenance": [],
      "include_colab_link": true
    }
  },
  "nbformat": 4,
  "nbformat_minor": 5
}
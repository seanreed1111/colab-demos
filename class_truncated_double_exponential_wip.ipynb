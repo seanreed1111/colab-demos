{
  "nbformat": 4,
  "nbformat_minor": 0,
  "metadata": {
    "colab": {
      "name": "class_truncated_double_exponential_wip.ipynb",
      "provenance": [],
      "authorship_tag": "ABX9TyNBJkqOz4PBIHmAO6M+U/br",
      "include_colab_link": true
    },
    "kernelspec": {
      "name": "python3",
      "display_name": "Python 3"
    },
    "language_info": {
      "name": "python"
    }
  },
  "cells": [
    {
      "cell_type": "markdown",
      "metadata": {
        "id": "view-in-github",
        "colab_type": "text"
      },
      "source": [
        "<a href=\"https://colab.research.google.com/github/seanreed1111/colab-demos/blob/master/class_truncated_double_exponential_wip.ipynb\" target=\"_parent\"><img src=\"https://colab.research.google.com/assets/colab-badge.svg\" alt=\"Open In Colab\"/></a>"
      ]
    },
    {
      "cell_type": "code",
      "execution_count": null,
      "metadata": {
        "colab": {
          "base_uri": "https://localhost:8080/"
        },
        "id": "_j_SbnHt50jT",
        "outputId": "f2528c3f-eba5-4638-eb19-b1dbad952709"
      },
      "outputs": [
        {
          "output_type": "stream",
          "name": "stdout",
          "text": [
            "Collecting pyro-ppl==1.8.0\n",
            "  Downloading pyro_ppl-1.8.0-py3-none-any.whl (713 kB)\n",
            "\u001b[?25l\r\u001b[K     |▌                               | 10 kB 16.4 MB/s eta 0:00:01\r\u001b[K     |█                               | 20 kB 8.9 MB/s eta 0:00:01\r\u001b[K     |█▍                              | 30 kB 7.4 MB/s eta 0:00:01\r\u001b[K     |█▉                              | 40 kB 6.6 MB/s eta 0:00:01\r\u001b[K     |██▎                             | 51 kB 4.0 MB/s eta 0:00:01\r\u001b[K     |██▊                             | 61 kB 4.7 MB/s eta 0:00:01\r\u001b[K     |███▏                            | 71 kB 5.2 MB/s eta 0:00:01\r\u001b[K     |███▊                            | 81 kB 4.1 MB/s eta 0:00:01\r\u001b[K     |████▏                           | 92 kB 4.5 MB/s eta 0:00:01\r\u001b[K     |████▋                           | 102 kB 5.0 MB/s eta 0:00:01\r\u001b[K     |█████                           | 112 kB 5.0 MB/s eta 0:00:01\r\u001b[K     |█████▌                          | 122 kB 5.0 MB/s eta 0:00:01\r\u001b[K     |██████                          | 133 kB 5.0 MB/s eta 0:00:01\r\u001b[K     |██████▍                         | 143 kB 5.0 MB/s eta 0:00:01\r\u001b[K     |███████                         | 153 kB 5.0 MB/s eta 0:00:01\r\u001b[K     |███████▍                        | 163 kB 5.0 MB/s eta 0:00:01\r\u001b[K     |███████▉                        | 174 kB 5.0 MB/s eta 0:00:01\r\u001b[K     |████████▎                       | 184 kB 5.0 MB/s eta 0:00:01\r\u001b[K     |████████▊                       | 194 kB 5.0 MB/s eta 0:00:01\r\u001b[K     |█████████▏                      | 204 kB 5.0 MB/s eta 0:00:01\r\u001b[K     |█████████▋                      | 215 kB 5.0 MB/s eta 0:00:01\r\u001b[K     |██████████                      | 225 kB 5.0 MB/s eta 0:00:01\r\u001b[K     |██████████▋                     | 235 kB 5.0 MB/s eta 0:00:01\r\u001b[K     |███████████                     | 245 kB 5.0 MB/s eta 0:00:01\r\u001b[K     |███████████▌                    | 256 kB 5.0 MB/s eta 0:00:01\r\u001b[K     |████████████                    | 266 kB 5.0 MB/s eta 0:00:01\r\u001b[K     |████████████▍                   | 276 kB 5.0 MB/s eta 0:00:01\r\u001b[K     |████████████▉                   | 286 kB 5.0 MB/s eta 0:00:01\r\u001b[K     |█████████████▎                  | 296 kB 5.0 MB/s eta 0:00:01\r\u001b[K     |█████████████▉                  | 307 kB 5.0 MB/s eta 0:00:01\r\u001b[K     |██████████████▎                 | 317 kB 5.0 MB/s eta 0:00:01\r\u001b[K     |██████████████▊                 | 327 kB 5.0 MB/s eta 0:00:01\r\u001b[K     |███████████████▏                | 337 kB 5.0 MB/s eta 0:00:01\r\u001b[K     |███████████████▋                | 348 kB 5.0 MB/s eta 0:00:01\r\u001b[K     |████████████████                | 358 kB 5.0 MB/s eta 0:00:01\r\u001b[K     |████████████████▌               | 368 kB 5.0 MB/s eta 0:00:01\r\u001b[K     |█████████████████               | 378 kB 5.0 MB/s eta 0:00:01\r\u001b[K     |█████████████████▌              | 389 kB 5.0 MB/s eta 0:00:01\r\u001b[K     |██████████████████              | 399 kB 5.0 MB/s eta 0:00:01\r\u001b[K     |██████████████████▍             | 409 kB 5.0 MB/s eta 0:00:01\r\u001b[K     |██████████████████▉             | 419 kB 5.0 MB/s eta 0:00:01\r\u001b[K     |███████████████████▎            | 430 kB 5.0 MB/s eta 0:00:01\r\u001b[K     |███████████████████▊            | 440 kB 5.0 MB/s eta 0:00:01\r\u001b[K     |████████████████████▏           | 450 kB 5.0 MB/s eta 0:00:01\r\u001b[K     |████████████████████▊           | 460 kB 5.0 MB/s eta 0:00:01\r\u001b[K     |█████████████████████▏          | 471 kB 5.0 MB/s eta 0:00:01\r\u001b[K     |█████████████████████▋          | 481 kB 5.0 MB/s eta 0:00:01\r\u001b[K     |██████████████████████          | 491 kB 5.0 MB/s eta 0:00:01\r\u001b[K     |██████████████████████▌         | 501 kB 5.0 MB/s eta 0:00:01\r\u001b[K     |███████████████████████         | 512 kB 5.0 MB/s eta 0:00:01\r\u001b[K     |███████████████████████▍        | 522 kB 5.0 MB/s eta 0:00:01\r\u001b[K     |████████████████████████        | 532 kB 5.0 MB/s eta 0:00:01\r\u001b[K     |████████████████████████▍       | 542 kB 5.0 MB/s eta 0:00:01\r\u001b[K     |████████████████████████▉       | 552 kB 5.0 MB/s eta 0:00:01\r\u001b[K     |█████████████████████████▎      | 563 kB 5.0 MB/s eta 0:00:01\r\u001b[K     |█████████████████████████▊      | 573 kB 5.0 MB/s eta 0:00:01\r\u001b[K     |██████████████████████████▏     | 583 kB 5.0 MB/s eta 0:00:01\r\u001b[K     |██████████████████████████▋     | 593 kB 5.0 MB/s eta 0:00:01\r\u001b[K     |███████████████████████████     | 604 kB 5.0 MB/s eta 0:00:01\r\u001b[K     |███████████████████████████▋    | 614 kB 5.0 MB/s eta 0:00:01\r\u001b[K     |████████████████████████████    | 624 kB 5.0 MB/s eta 0:00:01\r\u001b[K     |████████████████████████████▌   | 634 kB 5.0 MB/s eta 0:00:01\r\u001b[K     |█████████████████████████████   | 645 kB 5.0 MB/s eta 0:00:01\r\u001b[K     |█████████████████████████████▍  | 655 kB 5.0 MB/s eta 0:00:01\r\u001b[K     |█████████████████████████████▉  | 665 kB 5.0 MB/s eta 0:00:01\r\u001b[K     |██████████████████████████████▎ | 675 kB 5.0 MB/s eta 0:00:01\r\u001b[K     |██████████████████████████████▉ | 686 kB 5.0 MB/s eta 0:00:01\r\u001b[K     |███████████████████████████████▎| 696 kB 5.0 MB/s eta 0:00:01\r\u001b[K     |███████████████████████████████▊| 706 kB 5.0 MB/s eta 0:00:01\r\u001b[K     |████████████████████████████████| 713 kB 5.0 MB/s \n",
            "\u001b[?25hRequirement already satisfied: torch>=1.9.0 in /usr/local/lib/python3.7/dist-packages (from pyro-ppl==1.8.0) (1.11.0+cu113)\n",
            "Collecting pyro-api>=0.1.1\n",
            "  Downloading pyro_api-0.1.2-py3-none-any.whl (11 kB)\n",
            "Requirement already satisfied: opt-einsum>=2.3.2 in /usr/local/lib/python3.7/dist-packages (from pyro-ppl==1.8.0) (3.3.0)\n",
            "Requirement already satisfied: numpy>=1.7 in /usr/local/lib/python3.7/dist-packages (from pyro-ppl==1.8.0) (1.21.6)\n",
            "Requirement already satisfied: tqdm>=4.36 in /usr/local/lib/python3.7/dist-packages (from pyro-ppl==1.8.0) (4.64.0)\n",
            "Requirement already satisfied: typing-extensions in /usr/local/lib/python3.7/dist-packages (from torch>=1.9.0->pyro-ppl==1.8.0) (4.2.0)\n",
            "Installing collected packages: pyro-api, pyro-ppl\n",
            "Successfully installed pyro-api-0.1.2 pyro-ppl-1.8.0\n"
          ]
        }
      ],
      "source": [
        "!pip install pyro-ppl=='1.8.0'"
      ]
    },
    {
      "cell_type": "markdown",
      "source": [
        "modeled on: \n",
        "- https://github.com/pyro-ppl/pyro/blob/dev/pyro/distributions/multivariate_studentt.py\n",
        "- https://github.com/pyro-ppl/pyro/blob/dev/pyro/distributions/logistic.py\n",
        "- https://github.com/pyro-ppl/pyro/blob/dev/pyro/distributions/inverse_gamma.py"
      ],
      "metadata": {
        "id": "dlJ-aMPn558b"
      }
    },
    {
      "cell_type": "code",
      "source": [
        "import math\n",
        "\n",
        "import torch\n",
        "from torch.distributions import constraints\n",
        "from torch.distributions.utils import lazy_property\n",
        "from torch.distributions.transforms import AffineTransform, ExpTransform\n",
        "\n",
        "from pyro.distributions.torch import Exponential, TransformedDistribution\n",
        "from pyro.distributions.torch_distribution import TorchDistribution\n",
        "from pyro.distributions.util import broadcast_shape, broadcast_all"
      ],
      "metadata": {
        "id": "bubqYKi56Aax"
      },
      "execution_count": null,
      "outputs": []
    },
    {
      "cell_type": "code",
      "source": [
        "# Do this using transformed distribution, like in inverse gamma case\n",
        "class TruncatedExponential(TransformedDistribution):\n",
        "  \"\"\"\n",
        "    Creates a Double truncated Exponential parameterized by \n",
        "    rate :attr:`rate`, lower bound :attr:`low` and upper bound :attr:`high`\n",
        "    so that the exponential pdf is defined only on the range (low, high)\n",
        "    with low >0 and high > low > 0\n",
        "   \n",
        "    :param ~torch.Tensor rate: rate of Exponential distribution\n",
        "    :param ~torch.Tensor low: lower bound of the distribution (low > 0)\n",
        "    :param ~torch.Tensor high: upper bound of the distribution (high > low > 0)\n",
        "  \"\"\"\n",
        "\n",
        "  has_rsample = True #flip to False if I cannot implement rsample successfully\n",
        "\n",
        "  ##TODO where do I impose constraint low < high. Tried to implement as support per https://github.com/pyro-ppl/pyro/blob/dev/pyro/distributions/affine_beta.py\n",
        "  arg_constraints = {\n",
        "      \"rate\": constraints.positive,\n",
        "      \"low\": constraints.positive,\n",
        "      \"high\": constraints.positive,\n",
        "  }\n",
        "\n",
        "  def __init__(self, rate, low=torch.tensor([0.]), high=torch.tensor([torch.inf]), validate_args=None):\n",
        "    base_dist = Exponential(rate)\n",
        "    super().__init__(base_dist,\n",
        "                     [AffineTransform()], ##TODO FIX THIS\n",
        "                     validate_args=validate_args\n",
        "        )\n",
        "\n",
        "  def expand(self, batch_shape, _instance=None):\n",
        "    new = self._get_checked_instance(TruncatedExponential, _instance)\n",
        "    return super().expand(batch_shape, _instance=new)\n",
        "\n",
        "  @property\n",
        "  def rate(self):\n",
        "    return self.base_dist.rate\n",
        "  \n",
        "  def rsample(self, sample_shape=torch.Size()):\n",
        "    shape = self._extended_shape(sample_shape)\n",
        "    raise NotImplementedError(\"sample has not been implemented\")\n",
        "  \n",
        "  def log_prob(self, value):\n",
        "    if self._validate_args: self._validate_sample(value)\n",
        "    raise NotImplementedError(\"log_prob has not been implemented\")\n",
        "\n",
        "  def cdf(self, value):\n",
        "    if self._validate_args: self._validate_sample(value)\n",
        "    raise NotImplementedError(\"cdf has not been implemented\")\n",
        "\n",
        "  def icdf(self, value):\n",
        "    if self._validate_args: self._validate_sample(value)\n",
        "    raise NotImplementedError(\"icdf has not been implemented\")\n",
        "\n",
        "  def expand(self, batch_shape, _instance=None):\n",
        "    new = self._get_checked_instance(TruncatedExponential, _instance)\n",
        "    batch_shape = torch.Size(batch_shape)\n",
        "    new.loc = self.loc.expand(batch_shape)\n",
        "    new.scale = self.scale.expand(batch_shape)\n",
        "    super(TruncatedExponential, new).__init__(batch_shape, validate_args=False)\n",
        "    new._validate_args = self._validate_args\n",
        "    return new\n",
        "\n",
        "  # following https://github.com/pyro-ppl/pyro/blob/dev/pyro/distributions/affine_beta.py but is that only for integers??\n",
        "  @constraints.dependent_property\n",
        "  def support(self):\n",
        "      return constraints.interval(self.low, self.high)"
      ],
      "metadata": {
        "id": "q8n3pG9r6VWi"
      },
      "execution_count": 8,
      "outputs": []
    },
    {
      "cell_type": "code",
      "source": [
        ""
      ],
      "metadata": {
        "id": "E_Jd_rWFPtJu"
      },
      "execution_count": null,
      "outputs": []
    }
  ]
}
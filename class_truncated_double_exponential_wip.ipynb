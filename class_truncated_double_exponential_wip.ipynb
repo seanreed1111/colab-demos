{
  "nbformat": 4,
  "nbformat_minor": 0,
  "metadata": {
    "colab": {
      "name": "class_truncated_double_exponential_wip.ipynb",
      "provenance": [],
      "authorship_tag": "ABX9TyNhUMAW90UnL6zgFSkKgze7",
      "include_colab_link": true
    },
    "kernelspec": {
      "name": "python3",
      "display_name": "Python 3"
    },
    "language_info": {
      "name": "python"
    }
  },
  "cells": [
    {
      "cell_type": "markdown",
      "metadata": {
        "id": "view-in-github",
        "colab_type": "text"
      },
      "source": [
        "<a href=\"https://colab.research.google.com/github/seanreed1111/colab-demos/blob/master/class_truncated_double_exponential_wip.ipynb\" target=\"_parent\"><img src=\"https://colab.research.google.com/assets/colab-badge.svg\" alt=\"Open In Colab\"/></a>"
      ]
    },
    {
      "cell_type": "code",
      "execution_count": 1,
      "metadata": {
        "colab": {
          "base_uri": "https://localhost:8080/"
        },
        "id": "_j_SbnHt50jT",
        "outputId": "13818a83-9d1d-413d-9851-6ecc216dcf50"
      },
      "outputs": [
        {
          "output_type": "stream",
          "name": "stdout",
          "text": [
            "Collecting pyro-ppl==1.8.0\n",
            "  Downloading pyro_ppl-1.8.0-py3-none-any.whl (713 kB)\n",
            "\u001b[?25l\r\u001b[K     |▌                               | 10 kB 8.7 MB/s eta 0:00:01\r\u001b[K     |█                               | 20 kB 14.0 MB/s eta 0:00:01\r\u001b[K     |█▍                              | 30 kB 12.2 MB/s eta 0:00:01\r\u001b[K     |█▉                              | 40 kB 5.0 MB/s eta 0:00:01\r\u001b[K     |██▎                             | 51 kB 4.7 MB/s eta 0:00:01\r\u001b[K     |██▊                             | 61 kB 5.5 MB/s eta 0:00:01\r\u001b[K     |███▏                            | 71 kB 5.6 MB/s eta 0:00:01\r\u001b[K     |███▊                            | 81 kB 5.5 MB/s eta 0:00:01\r\u001b[K     |████▏                           | 92 kB 6.1 MB/s eta 0:00:01\r\u001b[K     |████▋                           | 102 kB 5.2 MB/s eta 0:00:01\r\u001b[K     |█████                           | 112 kB 5.2 MB/s eta 0:00:01\r\u001b[K     |█████▌                          | 122 kB 5.2 MB/s eta 0:00:01\r\u001b[K     |██████                          | 133 kB 5.2 MB/s eta 0:00:01\r\u001b[K     |██████▍                         | 143 kB 5.2 MB/s eta 0:00:01\r\u001b[K     |███████                         | 153 kB 5.2 MB/s eta 0:00:01\r\u001b[K     |███████▍                        | 163 kB 5.2 MB/s eta 0:00:01\r\u001b[K     |███████▉                        | 174 kB 5.2 MB/s eta 0:00:01\r\u001b[K     |████████▎                       | 184 kB 5.2 MB/s eta 0:00:01\r\u001b[K     |████████▊                       | 194 kB 5.2 MB/s eta 0:00:01\r\u001b[K     |█████████▏                      | 204 kB 5.2 MB/s eta 0:00:01\r\u001b[K     |█████████▋                      | 215 kB 5.2 MB/s eta 0:00:01\r\u001b[K     |██████████                      | 225 kB 5.2 MB/s eta 0:00:01\r\u001b[K     |██████████▋                     | 235 kB 5.2 MB/s eta 0:00:01\r\u001b[K     |███████████                     | 245 kB 5.2 MB/s eta 0:00:01\r\u001b[K     |███████████▌                    | 256 kB 5.2 MB/s eta 0:00:01\r\u001b[K     |████████████                    | 266 kB 5.2 MB/s eta 0:00:01\r\u001b[K     |████████████▍                   | 276 kB 5.2 MB/s eta 0:00:01\r\u001b[K     |████████████▉                   | 286 kB 5.2 MB/s eta 0:00:01\r\u001b[K     |█████████████▎                  | 296 kB 5.2 MB/s eta 0:00:01\r\u001b[K     |█████████████▉                  | 307 kB 5.2 MB/s eta 0:00:01\r\u001b[K     |██████████████▎                 | 317 kB 5.2 MB/s eta 0:00:01\r\u001b[K     |██████████████▊                 | 327 kB 5.2 MB/s eta 0:00:01\r\u001b[K     |███████████████▏                | 337 kB 5.2 MB/s eta 0:00:01\r\u001b[K     |███████████████▋                | 348 kB 5.2 MB/s eta 0:00:01\r\u001b[K     |████████████████                | 358 kB 5.2 MB/s eta 0:00:01\r\u001b[K     |████████████████▌               | 368 kB 5.2 MB/s eta 0:00:01\r\u001b[K     |█████████████████               | 378 kB 5.2 MB/s eta 0:00:01\r\u001b[K     |█████████████████▌              | 389 kB 5.2 MB/s eta 0:00:01\r\u001b[K     |██████████████████              | 399 kB 5.2 MB/s eta 0:00:01\r\u001b[K     |██████████████████▍             | 409 kB 5.2 MB/s eta 0:00:01\r\u001b[K     |██████████████████▉             | 419 kB 5.2 MB/s eta 0:00:01\r\u001b[K     |███████████████████▎            | 430 kB 5.2 MB/s eta 0:00:01\r\u001b[K     |███████████████████▊            | 440 kB 5.2 MB/s eta 0:00:01\r\u001b[K     |████████████████████▏           | 450 kB 5.2 MB/s eta 0:00:01\r\u001b[K     |████████████████████▊           | 460 kB 5.2 MB/s eta 0:00:01\r\u001b[K     |█████████████████████▏          | 471 kB 5.2 MB/s eta 0:00:01\r\u001b[K     |█████████████████████▋          | 481 kB 5.2 MB/s eta 0:00:01\r\u001b[K     |██████████████████████          | 491 kB 5.2 MB/s eta 0:00:01\r\u001b[K     |██████████████████████▌         | 501 kB 5.2 MB/s eta 0:00:01\r\u001b[K     |███████████████████████         | 512 kB 5.2 MB/s eta 0:00:01\r\u001b[K     |███████████████████████▍        | 522 kB 5.2 MB/s eta 0:00:01\r\u001b[K     |████████████████████████        | 532 kB 5.2 MB/s eta 0:00:01\r\u001b[K     |████████████████████████▍       | 542 kB 5.2 MB/s eta 0:00:01\r\u001b[K     |████████████████████████▉       | 552 kB 5.2 MB/s eta 0:00:01\r\u001b[K     |█████████████████████████▎      | 563 kB 5.2 MB/s eta 0:00:01\r\u001b[K     |█████████████████████████▊      | 573 kB 5.2 MB/s eta 0:00:01\r\u001b[K     |██████████████████████████▏     | 583 kB 5.2 MB/s eta 0:00:01\r\u001b[K     |██████████████████████████▋     | 593 kB 5.2 MB/s eta 0:00:01\r\u001b[K     |███████████████████████████     | 604 kB 5.2 MB/s eta 0:00:01\r\u001b[K     |███████████████████████████▋    | 614 kB 5.2 MB/s eta 0:00:01\r\u001b[K     |████████████████████████████    | 624 kB 5.2 MB/s eta 0:00:01\r\u001b[K     |████████████████████████████▌   | 634 kB 5.2 MB/s eta 0:00:01\r\u001b[K     |█████████████████████████████   | 645 kB 5.2 MB/s eta 0:00:01\r\u001b[K     |█████████████████████████████▍  | 655 kB 5.2 MB/s eta 0:00:01\r\u001b[K     |█████████████████████████████▉  | 665 kB 5.2 MB/s eta 0:00:01\r\u001b[K     |██████████████████████████████▎ | 675 kB 5.2 MB/s eta 0:00:01\r\u001b[K     |██████████████████████████████▉ | 686 kB 5.2 MB/s eta 0:00:01\r\u001b[K     |███████████████████████████████▎| 696 kB 5.2 MB/s eta 0:00:01\r\u001b[K     |███████████████████████████████▊| 706 kB 5.2 MB/s eta 0:00:01\r\u001b[K     |████████████████████████████████| 713 kB 5.2 MB/s \n",
            "\u001b[?25hRequirement already satisfied: numpy>=1.7 in /usr/local/lib/python3.7/dist-packages (from pyro-ppl==1.8.0) (1.21.6)\n",
            "Requirement already satisfied: tqdm>=4.36 in /usr/local/lib/python3.7/dist-packages (from pyro-ppl==1.8.0) (4.64.0)\n",
            "Requirement already satisfied: opt-einsum>=2.3.2 in /usr/local/lib/python3.7/dist-packages (from pyro-ppl==1.8.0) (3.3.0)\n",
            "Collecting pyro-api>=0.1.1\n",
            "  Downloading pyro_api-0.1.2-py3-none-any.whl (11 kB)\n",
            "Requirement already satisfied: torch>=1.9.0 in /usr/local/lib/python3.7/dist-packages (from pyro-ppl==1.8.0) (1.11.0+cu113)\n",
            "Requirement already satisfied: typing-extensions in /usr/local/lib/python3.7/dist-packages (from torch>=1.9.0->pyro-ppl==1.8.0) (4.2.0)\n",
            "Installing collected packages: pyro-api, pyro-ppl\n",
            "Successfully installed pyro-api-0.1.2 pyro-ppl-1.8.0\n"
          ]
        }
      ],
      "source": [
        "!pip install pyro-ppl=='1.8.0'"
      ]
    },
    {
      "cell_type": "markdown",
      "source": [
        "modeled on: \n",
        "- https://github.com/pyro-ppl/pyro/blob/dev/pyro/distributions/multivariate_studentt.py\n",
        "- https://github.com/pyro-ppl/pyro/blob/dev/pyro/distributions/logistic.py\n",
        "- https://github.com/pyro-ppl/pyro/blob/dev/pyro/distributions/inverse_gamma.py\n",
        "- https://stats.stackexchange.com/questions/508749/generating-random-samples-obeying-the-exponential-distribution-with-a-given-min"
      ],
      "metadata": {
        "id": "dlJ-aMPn558b"
      }
    },
    {
      "cell_type": "code",
      "source": [
        "from pyro.distributions.torch import Exponential, TransformedDistribution\n",
        "import pyro.distributions as dist\n",
        "import torch\n",
        "import seaborn as sns\n",
        "\n",
        "\n",
        "expdist = Exponential(rate=0.1)\n",
        "cdf = expdist.cdf\n",
        "icdf = expdist.icdf\n",
        "u_samples = dist.Uniform(0,1).sample([1000])\n",
        "exp_samples = expdist.sample([1000])\n",
        "\n",
        "a,b = torch.tensor([0]), torch.tensor([torch.inf])"
      ],
      "metadata": {
        "id": "wsY7jbi2Sjdf"
      },
      "execution_count": 7,
      "outputs": []
    },
    {
      "cell_type": "code",
      "source": [
        "trunc = icdf(cdf(a) + (cdf(b)-cdf(a))*u_samples)\n",
        "sns.kdeplot(data=exp_samples)"
      ],
      "metadata": {
        "colab": {
          "base_uri": "https://localhost:8080/",
          "height": 282
        },
        "id": "Zh9NjXZ4UlYM",
        "outputId": "7dd4259a-16d7-4342-b683-827be8c5ed12"
      },
      "execution_count": 8,
      "outputs": [
        {
          "output_type": "execute_result",
          "data": {
            "text/plain": [
              "<matplotlib.axes._subplots.AxesSubplot at 0x7f9490b7d650>"
            ]
          },
          "metadata": {},
          "execution_count": 8
        },
        {
          "output_type": "display_data",
          "data": {
            "text/plain": [
              "<Figure size 432x288 with 1 Axes>"
            ],
            "image/png": "[encoded data removed]"
          },
          "metadata": {
            "needs_background": "light"
          }
        }
      ]
    },
    {
      "cell_type": "code",
      "source": [
        ""
      ],
      "metadata": {
        "id": "qVoU2vf1Vj0_"
      },
      "execution_count": null,
      "outputs": []
    },
    {
      "cell_type": "code",
      "source": [
        "sns.kdeplot(data=trunc)"
      ],
      "metadata": {
        "colab": {
          "base_uri": "https://localhost:8080/",
          "height": 282
        },
        "id": "pq5Iqb23UlPR",
        "outputId": "a9bb4ea2-60b7-495a-b7ad-1e6044c8eb62"
      },
      "execution_count": 9,
      "outputs": [
        {
          "output_type": "execute_result",
          "data": {
            "text/plain": [
              "<matplotlib.axes._subplots.AxesSubplot at 0x7f947fac0490>"
            ]
          },
          "metadata": {},
          "execution_count": 9
        },
        {
          "output_type": "display_data",
          "data": {
            "text/plain": [
              "<Figure size 432x288 with 1 Axes>"
            ],
            "image/png": "[encoded data removed]"
          },
          "metadata": {
            "needs_background": "light"
          }
        }
      ]
    },
    {
      "cell_type": "code",
      "source": [
        "from pyro.distributions.torch import Exponential, TransformedDistribution\n",
        "import pyro.distributions as dist\n",
        "import torch\n",
        "import seaborn as sns\n",
        "import pandas as pd\n",
        "import numpy as np\n",
        "\n",
        "def trunc_exp(rate, low,high, num_samples=1000):\n",
        "  expdist = Exponential(rate=rate)\n",
        "  assert low >= 0, \"low must be >= 0\"\n",
        "  assert high > low, \"high must be > low\"\n",
        "  u = dist.Uniform(0,1).sample([num_samples])\n",
        "  a = torch.tensor([low])\n",
        "  b = torch.tensor([high])\n",
        "  return expdist.icdf(expdist.cdf(a) + (expdist.cdf(b)-expdist.cdf(a))*u_samples)\n",
        "\n"
      ],
      "metadata": {
        "id": "vhkLhjASVgQS"
      },
      "execution_count": 16,
      "outputs": []
    },
    {
      "cell_type": "code",
      "source": [
        "rate = 0.1\n",
        "a, b = 3., 10.\n",
        "\n",
        "x1 = trunc_exp(rate, a,b)\n",
        "x2 = Exponential(rate).sample([1000])\n",
        "\n",
        "out = np.stack([x1,x2], axis=1)\n",
        "sns.kdeplot(data=out);"
      ],
      "metadata": {
        "colab": {
          "base_uri": "https://localhost:8080/",
          "height": 282
        },
        "id": "2XK785DaXzlk",
        "outputId": "256b35bf-e8bd-449f-f56a-ffac0754312c"
      },
      "execution_count": 17,
      "outputs": [
        {
          "output_type": "execute_result",
          "data": {
            "text/plain": [
              "<matplotlib.axes._subplots.AxesSubplot at 0x7f947f5ff4d0>"
            ]
          },
          "metadata": {},
          "execution_count": 17
        },
        {
          "output_type": "display_data",
          "data": {
            "text/plain": [
              "<Figure size 432x288 with 1 Axes>"
            ],
            "image/png": "[encoded data removed]"
          },
          "metadata": {
            "needs_background": "light"
          }
        }
      ]
    },
    {
      "cell_type": "code",
      "source": [
        "print(x1.grad)"
      ],
      "metadata": {
        "colab": {
          "base_uri": "https://localhost:8080/"
        },
        "id": "9Dg7feAXYyGx",
        "outputId": "725f4be9-fa48-42cf-fc5c-d63886086f0c"
      },
      "execution_count": 20,
      "outputs": [
        {
          "output_type": "stream",
          "name": "stdout",
          "text": [
            "None\n"
          ]
        }
      ]
    },
    {
      "cell_type": "code",
      "source": [
        "from pyro.distributions.torch import Exponential, TransformedDistribution\n",
        "import pyro.distributions as dist\n",
        "import torch\n",
        "import seaborn as sns\n",
        "import pandas as pd\n",
        "import numpy as np\n",
        "\n",
        "\n",
        "def trunc_exp_2(rate, low,high, num_samples=1000):\n",
        "  expdist = Exponential(rate=rate)\n",
        "  assert low >= 0, \"low must be >= 0\"\n",
        "  assert high > low, \"high must be > low\"\n",
        "  a = expdist.cdf(torch.tensor([low]))\n",
        "  b = expdist.cdf(torch.tensor([high]))\n",
        "  u = dist.Uniform(a,b).sample([num_samples])\n",
        "  return expdist.icdf(u)"
      ],
      "metadata": {
        "id": "ORMV2wNvZLMd"
      },
      "execution_count": 24,
      "outputs": []
    },
    {
      "cell_type": "code",
      "source": [
        "rate = 0.1\n",
        "a, b = 3., 10.\n",
        "\n",
        "x1 = trunc_exp_2(rate, a,b).squeeze()\n",
        "x2 = Exponential(rate).sample([1000])\n",
        "\n",
        "x1.size(), x2.size()\n",
        "out = np.stack([x1,x2], axis=1)\n",
        "sns.kdeplot(data=out);"
      ],
      "metadata": {
        "colab": {
          "base_uri": "https://localhost:8080/",
          "height": 282
        },
        "id": "GMHw29CwZLJE",
        "outputId": "0caddcda-e41d-4689-db52-2ae36195d078"
      },
      "execution_count": 27,
      "outputs": [
        {
          "output_type": "execute_result",
          "data": {
            "text/plain": [
              "<matplotlib.axes._subplots.AxesSubplot at 0x7f947f483710>"
            ]
          },
          "metadata": {},
          "execution_count": 27
        },
        {
          "output_type": "display_data",
          "data": {
            "text/plain": [
              "<Figure size 432x288 with 1 Axes>"
            ],
            "image/png": "[encoded data removed]"
          },
          "metadata": {
            "needs_background": "light"
          }
        }
      ]
    },
    {
      "cell_type": "code",
      "source": [
        ""
      ],
      "metadata": {
        "id": "cwpOwlykZLCa"
      },
      "execution_count": null,
      "outputs": []
    },
    {
      "cell_type": "code",
      "source": [
        ""
      ],
      "metadata": {
        "id": "KxCxqQZNZK_A"
      },
      "execution_count": 27,
      "outputs": []
    },
    {
      "cell_type": "code",
      "source": [
        ""
      ],
      "metadata": {
        "id": "9_59__MhZK7z"
      },
      "execution_count": null,
      "outputs": []
    },
    {
      "cell_type": "code",
      "source": [
        ""
      ],
      "metadata": {
        "id": "ZL4etXp2ZK4f"
      },
      "execution_count": null,
      "outputs": []
    },
    {
      "cell_type": "code",
      "source": [
        ""
      ],
      "metadata": {
        "id": "Ox14NGiFZK0R"
      },
      "execution_count": null,
      "outputs": []
    },
    {
      "cell_type": "code",
      "source": [
        ""
      ],
      "metadata": {
        "id": "haXptjQ7ZKwI"
      },
      "execution_count": null,
      "outputs": []
    },
    {
      "cell_type": "code",
      "source": [
        "sns.kdeplot(data=trunc_exp(0.1, 3,10))"
      ],
      "metadata": {
        "colab": {
          "base_uri": "https://localhost:8080/",
          "height": 282
        },
        "id": "DGlnvDnwV0B3",
        "outputId": "bce58ae3-b93e-4de2-a821-12031eabeea1"
      },
      "execution_count": 14,
      "outputs": [
        {
          "output_type": "execute_result",
          "data": {
            "text/plain": [
              "<matplotlib.axes._subplots.AxesSubplot at 0x7f947f90da50>"
            ]
          },
          "metadata": {},
          "execution_count": 14
        },
        {
          "output_type": "display_data",
          "data": {
            "text/plain": [
              "<Figure size 432x288 with 1 Axes>"
            ],
            "image/png": "[encoded data removed]"
          },
          "metadata": {
            "needs_background": "light"
          }
        }
      ]
    },
    {
      "cell_type": "code",
      "source": [
        "sns.kdeplot(data=trunc_exp(0.1, 0, torch.inf))"
      ],
      "metadata": {
        "colab": {
          "base_uri": "https://localhost:8080/",
          "height": 282
        },
        "id": "fdMiGqc4VzzD",
        "outputId": "a92b917d-7fac-40ef-bd75-a9fd9689594e"
      },
      "execution_count": 15,
      "outputs": [
        {
          "output_type": "execute_result",
          "data": {
            "text/plain": [
              "<matplotlib.axes._subplots.AxesSubplot at 0x7f947fa59b90>"
            ]
          },
          "metadata": {},
          "execution_count": 15
        },
        {
          "output_type": "display_data",
          "data": {
            "text/plain": [
              "<Figure size 432x288 with 1 Axes>"
            ],
            "image/png": "[encoded data removed]"
          },
          "metadata": {
            "needs_background": "light"
          }
        }
      ]
    },
    {
      "cell_type": "markdown",
      "source": [
        "#\n",
        "# Provide a CDF and its percentage point function.\n",
        "#\n",
        "lambda <- 1/2\n",
        "ff <- function(x) pexp(x, lambda)\n",
        "f.inv <- function(q) qexp(q, lambda)\n",
        "#\n",
        "# Specify the interval of truncation.\n",
        "#\n",
        "a <- 2\n",
        "b <- 7\n",
        "#\n",
        "# Simulate data and truncated data.\n",
        "#\n",
        "n <- 1e6\n",
        "x <- f.inv(runif(n))\n",
        "x.trunc <- f.inv(runif(n, ff(a), ff(b)))\n",
        "#\n",
        "# Draw histograms.\n",
        "#\n",
        "dx <- (b - a) / 25\n",
        "bins <- seq(a - ceiling((a - min(x))/dx)*dx, max(x)+dx, by=dx)\n",
        "\n",
        "h <- hist(x.trunc, breaks=bins, plot=FALSE)\n",
        "hist(x, breaks=bins, freq=FALSE, ylim=c(0, max(h$density)), col=\"#e0e0e0\",\n",
        "     xlab=\"Value\", \n",
        "     main=\"Histogram of X and its truncated version\")\n",
        "plot(h, add=TRUE, freq=FALSE, col=\"#2020ff40\")\n",
        "\n",
        "abline(v = c(a,b), lty=3, lwd=2)\n",
        "mtext(c(expression(a), expression(b)), at = c(a, b), side=1, line=0.25)"
      ],
      "metadata": {
        "id": "1VC2MURrSVbb"
      }
    },
    {
      "cell_type": "code",
      "source": [
        ""
      ],
      "metadata": {
        "id": "nMUaK_lVSLCT"
      },
      "execution_count": null,
      "outputs": []
    },
    {
      "cell_type": "code",
      "source": [
        ""
      ],
      "metadata": {
        "id": "W5mP_1uTSK48"
      },
      "execution_count": null,
      "outputs": []
    },
    {
      "cell_type": "code",
      "source": [
        ""
      ],
      "metadata": {
        "id": "fjgu_r3ESKz4"
      },
      "execution_count": null,
      "outputs": []
    },
    {
      "cell_type": "code",
      "source": [
        ""
      ],
      "metadata": {
        "id": "g-nQ8RStSKs8"
      },
      "execution_count": null,
      "outputs": []
    },
    {
      "cell_type": "code",
      "source": [
        ""
      ],
      "metadata": {
        "id": "zQC_8j0mSKlT"
      },
      "execution_count": null,
      "outputs": []
    },
    {
      "cell_type": "code",
      "source": [
        "import math\n",
        "\n",
        "import torch\n",
        "from torch.distributions import constraints\n",
        "from torch.distributions.utils import lazy_property\n",
        "from torch.distributions.transforms import AffineTransform, ExpTransform\n",
        "\n",
        "from pyro.distributions.torch import Exponential, TransformedDistribution\n",
        "from pyro.distributions.torch_distribution import TorchDistribution\n",
        "from pyro.distributions.util import broadcast_shape, broadcast_all"
      ],
      "metadata": {
        "id": "bubqYKi56Aax"
      },
      "execution_count": null,
      "outputs": []
    },
    {
      "cell_type": "code",
      "source": [
        "# Do this using transformed distribution, like in inverse gamma case\n",
        "class TruncatedExponential(TransformedDistribution):\n",
        "  \"\"\"\n",
        "    Creates a Double truncated Exponential parameterized by \n",
        "    rate :attr:`rate`, lower bound :attr:`low` and upper bound :attr:`high`\n",
        "    so that the exponential pdf is defined only on the range (low, high)\n",
        "    with low >0 and high > low > 0\n",
        "   \n",
        "    :param ~torch.Tensor rate: rate of Exponential distribution\n",
        "    :param ~torch.Tensor low: lower bound of the distribution (low > 0)\n",
        "    :param ~torch.Tensor high: upper bound of the distribution (high > low > 0)\n",
        "  \"\"\"\n",
        "\n",
        "  has_rsample = True #flip to False if I cannot implement rsample successfully\n",
        "\n",
        "  ##TODO where do I impose constraint low < high. Tried to implement as support per https://github.com/pyro-ppl/pyro/blob/dev/pyro/distributions/affine_beta.py\n",
        "  arg_constraints = {\n",
        "      \"rate\": constraints.positive,\n",
        "      \"low\": constraints.positive,\n",
        "      \"high\": constraints.positive,\n",
        "  }\n",
        "\n",
        "  def __init__(self, rate, low=torch.tensor([0.]), high=torch.tensor([torch.inf]), validate_args=None):\n",
        "    base_dist = Exponential(rate)\n",
        "    super().__init__(base_dist,\n",
        "                     [AffineTransform()], ##TODO FIX THIS\n",
        "                     validate_args=validate_args\n",
        "        )\n",
        "\n",
        "  def expand(self, batch_shape, _instance=None):\n",
        "    new = self._get_checked_instance(TruncatedExponential, _instance)\n",
        "    return super().expand(batch_shape, _instance=new)\n",
        "\n",
        "  @property\n",
        "  def rate(self):\n",
        "    return self.base_dist.rate\n",
        "  \n",
        "  def rsample(self, sample_shape=torch.Size()):\n",
        "    shape = self._extended_shape(sample_shape)\n",
        "    raise NotImplementedError(\"sample has not been implemented\")\n",
        "  \n",
        "  def log_prob(self, value):\n",
        "    if self._validate_args: self._validate_sample(value)\n",
        "    raise NotImplementedError(\"log_prob has not been implemented\")\n",
        "\n",
        "  def cdf(self, value):\n",
        "    if self._validate_args: self._validate_sample(value)\n",
        "    raise NotImplementedError(\"cdf has not been implemented\")\n",
        "\n",
        "  def icdf(self, value):\n",
        "    if self._validate_args: self._validate_sample(value)\n",
        "    raise NotImplementedError(\"icdf has not been implemented\")\n",
        "\n",
        "  def expand(self, batch_shape, _instance=None):\n",
        "    new = self._get_checked_instance(TruncatedExponential, _instance)\n",
        "    batch_shape = torch.Size(batch_shape)\n",
        "    new.loc = self.loc.expand(batch_shape)\n",
        "    new.scale = self.scale.expand(batch_shape)\n",
        "    super(TruncatedExponential, new).__init__(batch_shape, validate_args=False)\n",
        "    new._validate_args = self._validate_args\n",
        "    return new\n",
        "\n",
        "  # following https://github.com/pyro-ppl/pyro/blob/dev/pyro/distributions/affine_beta.py but is that only for integers??\n",
        "  @constraints.dependent_property\n",
        "  def support(self):\n",
        "      return constraints.interval(self.low, self.high)"
      ],
      "metadata": {
        "id": "q8n3pG9r6VWi"
      },
      "execution_count": null,
      "outputs": []
    },
    {
      "cell_type": "code",
      "source": [
        ""
      ],
      "metadata": {
        "id": "E_Jd_rWFPtJu"
      },
      "execution_count": null,
      "outputs": []
    }
  ]
}
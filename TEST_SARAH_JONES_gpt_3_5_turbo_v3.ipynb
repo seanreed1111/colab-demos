{
  "cells": [
    {
      "cell_type": "markdown",
      "metadata": {
        "id": "view-in-github",
        "colab_type": "text"
      },
      "source": [
        "<a href=\"https://colab.research.google.com/github/seanreed1111/colab-demos/blob/master/TEST_SARAH_JONES_gpt_3_5_turbo_v3.ipynb\" target=\"_parent\"><img src=\"https://colab.research.google.com/assets/colab-badge.svg\" alt=\"Open In Colab\"/></a>"
      ]
    },
    {
      "cell_type": "markdown",
      "source": [
        "- https://eur-lex.europa.eu/legal-content/EN/TXT/PDF/?uri=CELEX:32022R2554\n"
      ],
      "metadata": {
        "id": "9TjQmkjw8CHb"
      },
      "id": "9TjQmkjw8CHb"
    },
    {
      "cell_type": "code",
      "source": [
        "!mkdir -p DATA/DORA;curl https://eur-lex.europa.eu/legal-content/EN/TXT/PDF/?uri=CELEX:32022R2554 -o DATA/DORA/CELEX_32022R2554.pdf"
      ],
      "metadata": {
        "colab": {
          "base_uri": "https://localhost:8080/"
        },
        "id": "hNi94c7jgW-M",
        "outputId": "39ad4af3-319a-48d3-f1af-a48325b1390a"
      },
      "id": "hNi94c7jgW-M",
      "execution_count": null,
      "outputs": [
        {
          "output_type": "stream",
          "name": "stdout",
          "text": [
            "  % Total    % Received % Xferd  Average Speed   Time    Time     Time  Current\n",
            "                                 Dload  Upload   Total   Spent    Left  Speed\n",
            "100 1458k    0 1458k    0     0  1536k      0 --:--:-- --:--:-- --:--:-- 1536k\n"
          ]
        }
      ]
    },
    {
      "cell_type": "code",
      "source": [
        "%pip install -q llama-index openai pypdf gradio loguru"
      ],
      "metadata": {
        "colab": {
          "base_uri": "https://localhost:8080/"
        },
        "id": "VrTpIfTBBjVt",
        "outputId": "aa500c88-9204-4220-ef02-25307d33edb8"
      },
      "id": "VrTpIfTBBjVt",
      "execution_count": null,
      "outputs": [
        {
          "output_type": "stream",
          "name": "stdout",
          "text": [
            "\u001b[2K     \u001b[90m━━━━━━━━━━━━━━━━━━━━━━━━━━━━━━━━━━━━━━━\u001b[0m \u001b[32m626.2/626.2 kB\u001b[0m \u001b[31m3.3 MB/s\u001b[0m eta \u001b[36m0:00:00\u001b[0m\n",
            "\u001b[2K     \u001b[90m━━━━━━━━━━━━━━━━━━━━━━━━━━━━━━━━━━━━━━━━\u001b[0m \u001b[32m73.6/73.6 kB\u001b[0m \u001b[31m3.5 MB/s\u001b[0m eta \u001b[36m0:00:00\u001b[0m\n",
            "\u001b[2K     \u001b[90m━━━━━━━━━━━━━━━━━━━━━━━━━━━━━━━━━━━━━━━\u001b[0m \u001b[32m269.8/269.8 kB\u001b[0m \u001b[31m6.2 MB/s\u001b[0m eta \u001b[36m0:00:00\u001b[0m\n",
            "\u001b[2K     \u001b[90m━━━━━━━━━━━━━━━━━━━━━━━━━━━━━━━━━━━━━━━━\u001b[0m \u001b[32m19.9/19.9 MB\u001b[0m \u001b[31m13.7 MB/s\u001b[0m eta \u001b[36m0:00:00\u001b[0m\n",
            "\u001b[2K     \u001b[90m━━━━━━━━━━━━━━━━━━━━━━━━━━━━━━━━━━━━━━━━\u001b[0m \u001b[32m1.7/1.7 MB\u001b[0m \u001b[31m47.9 MB/s\u001b[0m eta \u001b[36m0:00:00\u001b[0m\n",
            "\u001b[2K     \u001b[90m━━━━━━━━━━━━━━━━━━━━━━━━━━━━━━━━━━━━━━━━\u001b[0m \u001b[32m1.4/1.4 MB\u001b[0m \u001b[31m15.6 MB/s\u001b[0m eta \u001b[36m0:00:00\u001b[0m\n",
            "\u001b[2K     \u001b[90m━━━━━━━━━━━━━━━━━━━━━━━━━━━━━━━━━━━━━━━━\u001b[0m \u001b[32m65.8/65.8 kB\u001b[0m \u001b[31m2.7 MB/s\u001b[0m eta \u001b[36m0:00:00\u001b[0m\n",
            "\u001b[?25h  Preparing metadata (setup.py) ... \u001b[?25l\u001b[?25hdone\n",
            "\u001b[2K     \u001b[90m━━━━━━━━━━━━━━━━━━━━━━━━━━━━━━━━━━━━━━\u001b[0m \u001b[32m294.2/294.2 kB\u001b[0m \u001b[31m21.1 MB/s\u001b[0m eta \u001b[36m0:00:00\u001b[0m\n",
            "\u001b[2K     \u001b[90m━━━━━━━━━━━━━━━━━━━━━━━━━━━━━━━━━━━━━━━━\u001b[0m \u001b[32m75.4/75.4 kB\u001b[0m \u001b[31m4.6 MB/s\u001b[0m eta \u001b[36m0:00:00\u001b[0m\n",
            "\u001b[2K     \u001b[90m━━━━━━━━━━━━━━━━━━━━━━━━━━━━━━━━━━━━━━\u001b[0m \u001b[32m268.8/268.8 kB\u001b[0m \u001b[31m22.2 MB/s\u001b[0m eta \u001b[36m0:00:00\u001b[0m\n",
            "\u001b[2K     \u001b[90m━━━━━━━━━━━━━━━━━━━━━━━━━━━━━━━━━━━━━━━━\u001b[0m \u001b[32m50.5/50.5 kB\u001b[0m \u001b[31m4.6 MB/s\u001b[0m eta \u001b[36m0:00:00\u001b[0m\n",
            "\u001b[2K     \u001b[90m━━━━━━━━━━━━━━━━━━━━━━━━━━━━━━━━━━━━━━━\u001b[0m \u001b[32m138.7/138.7 kB\u001b[0m \u001b[31m5.2 MB/s\u001b[0m eta \u001b[36m0:00:00\u001b[0m\n",
            "\u001b[2K     \u001b[90m━━━━━━━━━━━━━━━━━━━━━━━━━━━━━━━━━━━━━━━━\u001b[0m \u001b[32m45.7/45.7 kB\u001b[0m \u001b[31m3.5 MB/s\u001b[0m eta \u001b[36m0:00:00\u001b[0m\n",
            "\u001b[2K     \u001b[90m━━━━━━━━━━━━━━━━━━━━━━━━━━━━━━━━━━━━━━━━\u001b[0m \u001b[32m59.5/59.5 kB\u001b[0m \u001b[31m4.9 MB/s\u001b[0m eta \u001b[36m0:00:00\u001b[0m\n",
            "\u001b[2K     \u001b[90m━━━━━━━━━━━━━━━━━━━━━━━━━━━━━━━━━━━━━━━\u001b[0m \u001b[32m129.9/129.9 kB\u001b[0m \u001b[31m8.5 MB/s\u001b[0m eta \u001b[36m0:00:00\u001b[0m\n",
            "\u001b[2K     \u001b[90m━━━━━━━━━━━━━━━━━━━━━━━━━━━━━━━━━━━━━━━━\u001b[0m \u001b[32m90.0/90.0 kB\u001b[0m \u001b[31m8.0 MB/s\u001b[0m eta \u001b[36m0:00:00\u001b[0m\n",
            "\u001b[2K     \u001b[90m━━━━━━━━━━━━━━━━━━━━━━━━━━━━━━━━━━━━━━━━\u001b[0m \u001b[32m49.4/49.4 kB\u001b[0m \u001b[31m1.4 MB/s\u001b[0m eta \u001b[36m0:00:00\u001b[0m\n",
            "\u001b[2K     \u001b[90m━━━━━━━━━━━━━━━━━━━━━━━━━━━━━━━━━━━━━━━━\u001b[0m \u001b[32m50.4/50.4 kB\u001b[0m \u001b[31m3.6 MB/s\u001b[0m eta \u001b[36m0:00:00\u001b[0m\n",
            "\u001b[2K     \u001b[90m━━━━━━━━━━━━━━━━━━━━━━━━━━━━━━━━━━━━━━━━\u001b[0m \u001b[32m46.5/46.5 kB\u001b[0m \u001b[31m3.2 MB/s\u001b[0m eta \u001b[36m0:00:00\u001b[0m\n",
            "\u001b[2K     \u001b[90m━━━━━━━━━━━━━━━━━━━━━━━━━━━━━━━━━━━━━━━━\u001b[0m \u001b[32m43.7/43.7 kB\u001b[0m \u001b[31m2.7 MB/s\u001b[0m eta \u001b[36m0:00:00\u001b[0m\n",
            "\u001b[2K     \u001b[90m━━━━━━━━━━━━━━━━━━━━━━━━━━━━━━━━━━━━━━━━\u001b[0m \u001b[32m41.0/41.0 kB\u001b[0m \u001b[31m3.2 MB/s\u001b[0m eta \u001b[36m0:00:00\u001b[0m\n",
            "\u001b[2K     \u001b[90m━━━━━━━━━━━━━━━━━━━━━━━━━━━━━━━━━━━━━━━━\u001b[0m \u001b[32m41.0/41.0 kB\u001b[0m \u001b[31m3.1 MB/s\u001b[0m eta \u001b[36m0:00:00\u001b[0m\n",
            "\u001b[2K     \u001b[90m━━━━━━━━━━━━━━━━━━━━━━━━━━━━━━━━━━━━━━━━\u001b[0m \u001b[32m87.5/87.5 kB\u001b[0m \u001b[31m8.1 MB/s\u001b[0m eta \u001b[36m0:00:00\u001b[0m\n",
            "\u001b[2K     \u001b[90m━━━━━━━━━━━━━━━━━━━━━━━━━━━━━━━━━━━━━━━━\u001b[0m \u001b[32m84.5/84.5 kB\u001b[0m \u001b[31m6.5 MB/s\u001b[0m eta \u001b[36m0:00:00\u001b[0m\n",
            "\u001b[2K     \u001b[90m━━━━━━━━━━━━━━━━━━━━━━━━━━━━━━━━━━━━━━━━\u001b[0m \u001b[32m58.3/58.3 kB\u001b[0m \u001b[31m7.1 MB/s\u001b[0m eta \u001b[36m0:00:00\u001b[0m\n",
            "\u001b[2K     \u001b[90m━━━━━━━━━━━━━━━━━━━━━━━━━━━━━━━━━━━━━━━━\u001b[0m \u001b[32m67.0/67.0 kB\u001b[0m \u001b[31m8.6 MB/s\u001b[0m eta \u001b[36m0:00:00\u001b[0m\n",
            "\u001b[2K     \u001b[90m━━━━━━━━━━━━━━━━━━━━━━━━━━━━━━━━━━━━━━━━\u001b[0m \u001b[32m74.5/74.5 kB\u001b[0m \u001b[31m8.5 MB/s\u001b[0m eta \u001b[36m0:00:00\u001b[0m\n",
            "\u001b[?25h  Building wheel for ffmpy (setup.py) ... \u001b[?25l\u001b[?25hdone\n"
          ]
        }
      ]
    },
    {
      "cell_type": "code",
      "execution_count": null,
      "id": "4921c412",
      "metadata": {
        "id": "4921c412"
      },
      "outputs": [],
      "source": [
        "import gradio as gr\n",
        "import loguru\n",
        "\n",
        "import llama_index\n",
        "from llama_index import (\n",
        "    ListIndex, VectorStoreIndex, SimpleDirectoryReader, LLMPredictor,\n",
        "    ServiceContext,StorageContext, load_index_from_storage\n",
        ")\n",
        "from llama_index.response.notebook_utils import display_response\n",
        "from llama_index.llms import OpenAI\n",
        "from IPython.display import Markdown, display\n",
        "import logging, sys, os, json\n",
        "from pathlib import Path\n",
        "import openai\n",
        "from typing import List, Tuple, Dict, Union\n",
        "\n",
        "from loguru import logger\n"
      ]
    },
    {
      "cell_type": "code",
      "execution_count": null,
      "id": "261d923e",
      "metadata": {
        "id": "261d923e"
      },
      "outputs": [],
      "source": [
        "cwd: Path = Path.cwd()\n",
        "data_dir: Path = cwd / \"DATA\"; data_dir.mkdir(exist_ok=True, parents=True)\n",
        "dora_dir: Path  = data_dir / \"DORA\"; dora_dir.mkdir(exist_ok=True, parents=True)\n",
        "test_dir: Path = cwd / \"TEST\"; test_dir.mkdir(exist_ok=True, parents=True)\n",
        "# Load TEST\n",
        "documents: List = SimpleDirectoryReader(test_dir).load_data()"
      ]
    },
    {
      "cell_type": "code",
      "source": [
        "def set_open_ai_key(env_path: Union[Path, str] = None) -> Tuple[bool, str]:\n",
        "  import json, os\n",
        "  from pathlib import Path\n",
        "\n",
        "  openai.api_key = None #clear previous key if exists\n",
        "  env_path: Path = Path(env_path).absolute() # in case env_path is passed as a str\n",
        "  if not env_path.is_file():\n",
        "    err: str = f\"File:{env_path} does not exist.\"\n",
        "  else:\n",
        "    try:\n",
        "      with open(env_path, \"r\") as f:\n",
        "          env_vars = json.load(f)\n",
        "      os.environ[\"OPENAI_API_KEY\"] = env_vars[\"OPENAI_API_KEY\"]\n",
        "      openai.api_key = os.environ[\"OPENAI_API_KEY\"]\n",
        "      openai.Model.list() #test a random command on the openai API\n",
        "      err = None\n",
        "    except Exception as err:\n",
        "      logger.error(json.dumps(err))\n",
        "\n",
        "  return (True, \"ok\") if not err else (False, err)"
      ],
      "metadata": {
        "id": "cBPv_qUQDX6A"
      },
      "id": "cBPv_qUQDX6A",
      "execution_count": null,
      "outputs": []
    },
    {
      "cell_type": "code",
      "source": [
        "cwd: Path = Path.cwd()\n",
        "env_path: Path = cwd/ \"openai.env\";\n",
        "print(set_open_ai_key(env_path)) # Tuple[bool, str]"
      ],
      "metadata": {
        "colab": {
          "base_uri": "https://localhost:8080/"
        },
        "id": "b2wcWk_QpclU",
        "outputId": "b305ecde-5be9-4ef5-9acd-d17338ea0b24"
      },
      "id": "b2wcWk_QpclU",
      "execution_count": null,
      "outputs": [
        {
          "output_type": "stream",
          "name": "stdout",
          "text": [
            "(True, 'ok')\n"
          ]
        }
      ]
    },
    {
      "cell_type": "code",
      "execution_count": null,
      "id": "0c635cdb",
      "metadata": {
        "id": "0c635cdb"
      },
      "outputs": [],
      "source": [
        "TEMPERATURE = 0\n",
        "\n",
        "llm: llama_index.llms.openai.OpenAI = OpenAI(\n",
        "    temperature=TEMPERATURE,\n",
        "    model=\"gpt-3.5-turbo\",\n",
        "    max_tokens=300,\n",
        "    max_retries = 2)\n",
        "\n",
        "service_context: llama_index.indices.service_context.ServiceContext = (\n",
        "    ServiceContext.from_defaults(llm=llm)\n",
        "    )\n",
        "index: llama_index.indices.vector_store.base.VectorStoreIndex = (\n",
        "     VectorStoreIndex.from_documents(documents, service_context=service_context)\n",
        ")"
      ]
    },
    {
      "cell_type": "code",
      "execution_count": null,
      "id": "b8ad1a2a",
      "metadata": {
        "id": "b8ad1a2a"
      },
      "outputs": [],
      "source": [
        "TEST = True\n",
        "\n",
        "persist_dir = (test_dir / \"storage\") if TEST else (cwd / 'storage')\n",
        "index.storage_context.persist(persist_dir=persist_dir)"
      ]
    },
    {
      "cell_type": "code",
      "source": [
        "# store and reload index from memory\n",
        "# from llama_index import StorageContext, load_index_from_storage\n",
        "\n",
        "# rebuild storage context\n",
        "# storage_context = StorageContext.from_defaults(persist_dir=\"./storage\")\n",
        "# index = load_index_from_storage(storage_context)"
      ],
      "metadata": {
        "id": "3apa1VTGNi9_"
      },
      "id": "3apa1VTGNi9_",
      "execution_count": null,
      "outputs": []
    },
    {
      "cell_type": "code",
      "source": [],
      "metadata": {
        "id": "-Ba2YkgrMVE1"
      },
      "id": "-Ba2YkgrMVE1",
      "execution_count": null,
      "outputs": []
    },
    {
      "cell_type": "code",
      "source": [],
      "metadata": {
        "id": "bcukhKU6MU_z"
      },
      "id": "bcukhKU6MU_z",
      "execution_count": null,
      "outputs": []
    },
    {
      "cell_type": "code",
      "source": [],
      "metadata": {
        "id": "2wX9E7jfMU0A"
      },
      "id": "2wX9E7jfMU0A",
      "execution_count": null,
      "outputs": []
    },
    {
      "cell_type": "code",
      "execution_count": null,
      "id": "fa1d7242",
      "metadata": {
        "id": "fa1d7242",
        "colab": {
          "base_uri": "https://localhost:8080/",
          "height": 99
        },
        "outputId": "ec8e6c79-8126-4ae7-fe86-2d11251503a6"
      },
      "outputs": [
        {
          "output_type": "display_data",
          "data": {
            "text/plain": [
              "<IPython.core.display.Markdown object>"
            ],
            "text/markdown": "**`Final Response:`** Based on the document, the candidate has extensive project management experience. They have managed project teams in various phases of the Software Development Life Cycle and infrastructure implementations. They have also led cross-matrix teams in projects related to software development capital forecast plans. Additionally, the candidate has experience managing IT spending budgets, transitioning datacenters to standardized servers, ensuring compliance for Sarbanes Oxley audits, and implementing standardized equipment for the developer community."
          },
          "metadata": {}
        }
      ],
      "source": [
        "engine = index.as_chat_engine()#(chat_mode=\"openai\", verbose=True)\n",
        "q: str = 'Look only at the document. What project management experience does the candidate have?'\n",
        "response: llama_index.response.schema.Response = engine.query(q)\n",
        "display_response(response)"
      ]
    },
    {
      "cell_type": "code",
      "source": [
        "q = \"You are an expert HR manager and the document is a resume. Does the candidate have experience with Sarbanes Oxley?\"\n",
        "display_response(engine.query(q))"
      ],
      "metadata": {
        "colab": {
          "base_uri": "https://localhost:8080/",
          "height": 64
        },
        "id": "CIiQd4pBHhjk",
        "outputId": "2fabd6fb-83b0-45ae-c098-9644b55a31e6"
      },
      "id": "CIiQd4pBHhjk",
      "execution_count": null,
      "outputs": [
        {
          "output_type": "display_data",
          "data": {
            "text/plain": [
              "<IPython.core.display.Markdown object>"
            ],
            "text/markdown": "**`Final Response:`** Yes, the candidate does have experience with Sarbanes Oxley. They insured compliance for Sarbanes Oxley audits by establishing and maintaining an out-of-cycle capital approval process and authorized over $50M in requests yearly."
          },
          "metadata": {}
        }
      ]
    },
    {
      "cell_type": "code",
      "source": [
        "engine.query(q)"
      ],
      "metadata": {
        "colab": {
          "base_uri": "https://localhost:8080/"
        },
        "id": "ASdRaZlNKos8",
        "outputId": "e16a7934-4e54-4430-9217-c863bc3895f6"
      },
      "id": "ASdRaZlNKos8",
      "execution_count": null,
      "outputs": [
        {
          "output_type": "execute_result",
          "data": {
            "text/plain": [
              "Response(response='Yes, the candidate does have experience with Sarbanes Oxley. They insured compliance for Sarbanes Oxley audits by establishing and maintaining an out-of-cycle capital approval process and authorized over $50M in requests yearly.', source_nodes=[], metadata=None)"
            ]
          },
          "metadata": {},
          "execution_count": 43
        }
      ]
    },
    {
      "cell_type": "code",
      "source": [],
      "metadata": {
        "id": "sGVYD2jdMZWU"
      },
      "id": "sGVYD2jdMZWU",
      "execution_count": null,
      "outputs": []
    },
    {
      "cell_type": "code",
      "source": [
        "from llama_index.memory import ChatMemoryBuffer\n",
        "\n",
        "memory = ChatMemoryBuffer.from_defaults(token_limit=1000)\n",
        "\n",
        "chat_engine = index.as_chat_engine(\n",
        "    chat_mode=\"context\",\n",
        "    memory=memory,\n",
        "    system_prompt=\"\"\"You are a chatbot, able to have normal interactions.\n",
        "    You are an HR expert and can also talk about the resume of sarah jones.\n",
        "    \"\"\",\n",
        ")"
      ],
      "metadata": {
        "id": "JiZA2vnDL4Rw"
      },
      "id": "JiZA2vnDL4Rw",
      "execution_count": null,
      "outputs": []
    },
    {
      "cell_type": "code",
      "source": [
        "response = chat_engine.chat(\"Does the candidate have experience with Sarbanes Oxley?\");print(response)"
      ],
      "metadata": {
        "colab": {
          "base_uri": "https://localhost:8080/"
        },
        "id": "TUs6Kq-LMacT",
        "outputId": "0ec28929-3677-4409-8f13-4dd76a0b487e"
      },
      "id": "TUs6Kq-LMacT",
      "execution_count": null,
      "outputs": [
        {
          "output_type": "stream",
          "name": "stdout",
          "text": [
            "Yes, the candidate, Sarah Jones, has experience with Sarbanes Oxley. She insured compliance for Sarbanes Oxley audits by establishing and maintaining an out-of-cycle capital approval process. She authorized over $50M in requests yearly, demonstrating her understanding and involvement in Sarbanes Oxley compliance.\n"
          ]
        }
      ]
    },
    {
      "cell_type": "code",
      "source": [
        "type(response.response)"
      ],
      "metadata": {
        "colab": {
          "base_uri": "https://localhost:8080/"
        },
        "id": "9W52lgidPgph",
        "outputId": "4b3afb97-c0cf-4e20-e122-11d9a28c2c45"
      },
      "id": "9W52lgidPgph",
      "execution_count": null,
      "outputs": [
        {
          "output_type": "execute_result",
          "data": {
            "text/plain": [
              "str"
            ]
          },
          "metadata": {},
          "execution_count": 51
        }
      ]
    },
    {
      "cell_type": "code",
      "source": [
        "def respond_llm(message, chat_history):\n",
        "        bot_message = chat_engine.chat(message)\n",
        "        chat_history.append((message, bot_message.response))\n",
        "        return \"\", chat_history\n",
        "\n",
        "with gr.Blocks() as demo:\n",
        "    chatbot = gr.Chatbot(height=130) #just to fit the notebook\n",
        "    msg = gr.Textbox(label=\"Prompt\")\n",
        "    btn = gr.Button(\"Submit\")\n",
        "    clear = gr.ClearButton(components=[msg, chatbot], value=\"Clear console\")\n",
        "\n",
        "    btn.click(respond_llm, inputs=[msg, chatbot], outputs=[msg, chatbot]) #Allows you to Press the <submit> button\n",
        "    msg.submit(respond_llm, inputs=[msg, chatbot], outputs=[msg, chatbot]) #Allows you to Press enter to submit\n",
        "gr.close_all()\n",
        "demo.launch(debug=True)\n",
        "\n",
        "# to start a new chat, add a button that calls chat_engine.reset(). It should also call clear!"
      ],
      "metadata": {
        "id": "cwRK6DqlSRAd",
        "colab": {
          "base_uri": "https://localhost:8080/",
          "height": 636
        },
        "outputId": "95eb532f-71fe-4884-9de6-8c1e0554e11f"
      },
      "id": "cwRK6DqlSRAd",
      "execution_count": null,
      "outputs": [
        {
          "output_type": "stream",
          "name": "stdout",
          "text": [
            "Colab notebook detected. This cell will run indefinitely so that you can see errors and logs. To turn off, set debug=False in launch().\n",
            "Note: opening Chrome Inspector may crash demo inside Colab notebooks.\n",
            "\n",
            "To create a public link, set `share=True` in `launch()`.\n"
          ]
        },
        {
          "output_type": "display_data",
          "data": {
            "text/plain": [
              "<IPython.core.display.Javascript object>"
            ],
            "application/javascript": [
              "(async (port, path, width, height, cache, element) => {\n",
              "                        if (!google.colab.kernel.accessAllowed && !cache) {\n",
              "                            return;\n",
              "                        }\n",
              "                        element.appendChild(document.createTextNode(''));\n",
              "                        const url = await google.colab.kernel.proxyPort(port, {cache});\n",
              "\n",
              "                        const external_link = document.createElement('div');\n",
              "                        external_link.innerHTML = `\n",
              "                            <div style=\"font-family: monospace; margin-bottom: 0.5rem\">\n",
              "                                Running on <a href=${new URL(path, url).toString()} target=\"_blank\">\n",
              "                                    https://localhost:${port}${path}\n",
              "                                </a>\n",
              "                            </div>\n",
              "                        `;\n",
              "                        element.appendChild(external_link);\n",
              "\n",
              "                        const iframe = document.createElement('iframe');\n",
              "                        iframe.src = new URL(path, url).toString();\n",
              "                        iframe.height = height;\n",
              "                        iframe.allow = \"autoplay; camera; microphone; clipboard-read; clipboard-write;\"\n",
              "                        iframe.width = width;\n",
              "                        iframe.style.border = 0;\n",
              "                        element.appendChild(iframe);\n",
              "                    })(7860, \"/\", \"100%\", 500, false, window.element)"
            ]
          },
          "metadata": {}
        },
        {
          "output_type": "stream",
          "name": "stdout",
          "text": [
            "Keyboard interruption in main thread... closing server.\n"
          ]
        },
        {
          "output_type": "execute_result",
          "data": {
            "text/plain": []
          },
          "metadata": {},
          "execution_count": 52
        }
      ]
    },
    {
      "cell_type": "code",
      "source": [],
      "metadata": {
        "id": "vnoOrTQPNY9M"
      },
      "id": "vnoOrTQPNY9M",
      "execution_count": null,
      "outputs": []
    }
  ],
  "metadata": {
    "kernelspec": {
      "display_name": "Python 3 (ipykernel)",
      "language": "python",
      "name": "python3"
    },
    "language_info": {
      "codemirror_mode": {
        "name": "ipython",
        "version": 3
      },
      "file_extension": ".py",
      "mimetype": "text/x-python",
      "name": "python",
      "nbconvert_exporter": "python",
      "pygments_lexer": "ipython3",
      "version": "3.10.9"
    },
    "colab": {
      "provenance": [],
      "include_colab_link": true
    }
  },
  "nbformat": 4,
  "nbformat_minor": 5
}
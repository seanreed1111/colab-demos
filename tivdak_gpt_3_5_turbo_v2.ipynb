{
  "cells": [
    {
      "cell_type": "markdown",
      "metadata": {
        "id": "view-in-github",
        "colab_type": "text"
      },
      "source": [
        "<a href=\"https://colab.research.google.com/github/seanreed1111/colab-demos/blob/master/tivdak_gpt_3_5_turbo_v2.ipynb\" target=\"_parent\"><img src=\"https://colab.research.google.com/assets/colab-badge.svg\" alt=\"Open In Colab\"/></a>"
      ]
    },
    {
      "cell_type": "code",
      "source": [
        "!mkdir -p DATA/TIVDAK;curl https://docs.seagen.com/Tivdak_Full_Ltr_Master.pdf -o DATA/TIVDAK/tivdak.pdf"
      ],
      "metadata": {
        "colab": {
          "base_uri": "https://localhost:8080/"
        },
        "id": "hNi94c7jgW-M",
        "outputId": "1831bc4d-7af7-4401-cb20-36b7713dd39a"
      },
      "id": "hNi94c7jgW-M",
      "execution_count": 4,
      "outputs": [
        {
          "output_type": "stream",
          "name": "stdout",
          "text": [
            "  % Total    % Received % Xferd  Average Speed   Time    Time     Time  Current\n",
            "                                 Dload  Upload   Total   Spent    Left  Speed\n",
            "100  548k  100  548k    0     0  1781k      0 --:--:-- --:--:-- --:--:-- 1781k\n"
          ]
        }
      ]
    },
    {
      "cell_type": "code",
      "source": [
        "%pip install -qq llama-index openai pypdf"
      ],
      "metadata": {
        "colab": {
          "base_uri": "https://localhost:8080/"
        },
        "id": "VrTpIfTBBjVt",
        "outputId": "3e8f8eda-28ac-4caf-b506-05a0c57ef534"
      },
      "id": "VrTpIfTBBjVt",
      "execution_count": 5,
      "outputs": [
        {
          "output_type": "stream",
          "name": "stdout",
          "text": [
            "\u001b[?25l     \u001b[90m━━━━━━━━━━━━━━━━━━━━━━━━━━━━━━━━━━━━━━━━\u001b[0m \u001b[32m0.0/580.0 kB\u001b[0m \u001b[31m?\u001b[0m eta \u001b[36m-:--:--\u001b[0m\r\u001b[2K     \u001b[91m━━━━━━━━━━━━━━━\u001b[0m\u001b[91m╸\u001b[0m\u001b[90m━━━━━━━━━━━━━━━━━━━━━━━\u001b[0m \u001b[32m235.5/580.0 kB\u001b[0m \u001b[31m6.9 MB/s\u001b[0m eta \u001b[36m0:00:01\u001b[0m\r\u001b[2K     \u001b[90m━━━━━━━━━━━━━━━━━━━━━━━━━━━━━━━━━━━━━━━\u001b[0m \u001b[32m580.0/580.0 kB\u001b[0m \u001b[31m9.2 MB/s\u001b[0m eta \u001b[36m0:00:00\u001b[0m\n",
            "\u001b[2K     \u001b[90m━━━━━━━━━━━━━━━━━━━━━━━━━━━━━━━━━━━━━━━━\u001b[0m \u001b[32m73.6/73.6 kB\u001b[0m \u001b[31m7.0 MB/s\u001b[0m eta \u001b[36m0:00:00\u001b[0m\n",
            "\u001b[2K     \u001b[90m━━━━━━━━━━━━━━━━━━━━━━━━━━━━━━━━━━━━━━\u001b[0m \u001b[32m254.8/254.8 kB\u001b[0m \u001b[31m23.3 MB/s\u001b[0m eta \u001b[36m0:00:00\u001b[0m\n",
            "\u001b[2K     \u001b[90m━━━━━━━━━━━━━━━━━━━━━━━━━━━━━━━━━━━━━━━━\u001b[0m \u001b[32m1.7/1.7 MB\u001b[0m \u001b[31m46.1 MB/s\u001b[0m eta \u001b[36m0:00:00\u001b[0m\n",
            "\u001b[2K     \u001b[90m━━━━━━━━━━━━━━━━━━━━━━━━━━━━━━━━━━━━━━━━\u001b[0m \u001b[32m1.3/1.3 MB\u001b[0m \u001b[31m58.3 MB/s\u001b[0m eta \u001b[36m0:00:00\u001b[0m\n",
            "\u001b[2K     \u001b[90m━━━━━━━━━━━━━━━━━━━━━━━━━━━━━━━━━━━━━━━━\u001b[0m \u001b[32m90.0/90.0 kB\u001b[0m \u001b[31m8.6 MB/s\u001b[0m eta \u001b[36m0:00:00\u001b[0m\n",
            "\u001b[2K     \u001b[90m━━━━━━━━━━━━━━━━━━━━━━━━━━━━━━━━━━━━━━━━\u001b[0m \u001b[32m49.1/49.1 kB\u001b[0m \u001b[31m4.3 MB/s\u001b[0m eta \u001b[36m0:00:00\u001b[0m\n",
            "\u001b[?25h"
          ]
        }
      ]
    },
    {
      "cell_type": "code",
      "execution_count": 59,
      "id": "4921c412",
      "metadata": {
        "id": "4921c412"
      },
      "outputs": [],
      "source": [
        "import llama_index\n",
        "from llama_index import ListIndex, VectorStoreIndex, SimpleDirectoryReader, LLMPredictor, ServiceContext\n",
        "from llama_index.response.notebook_utils import display_response\n",
        "from llama_index.llms import OpenAI\n",
        "from IPython.display import Markdown, display\n",
        "import logging, sys, os, json\n",
        "from pathlib import Path\n",
        "import openai\n",
        "from typing import List, Tuple, Dict, Union\n",
        "\n",
        "logging.basicConfig(stream=sys.stdout, level=logging.DEBUG)\n",
        "logger = logging.getLogger()\n",
        "logger.addHandler(logging.StreamHandler(stream=sys.stdout))"
      ]
    },
    {
      "cell_type": "code",
      "source": [
        "dir(llama_index)"
      ],
      "metadata": {
        "colab": {
          "base_uri": "https://localhost:8080/"
        },
        "id": "iu7kmRs_uVfw",
        "outputId": "a07ced9b-07c7-4748-aa3c-a673a4d91e5b"
      },
      "id": "iu7kmRs_uVfw",
      "execution_count": 55,
      "outputs": [
        {
          "output_type": "execute_result",
          "data": {
            "text/plain": [
              "['BeautifulSoupWebReader',\n",
              " 'ChromaReader',\n",
              " 'ComposableGraph',\n",
              " 'DeepLakeReader',\n",
              " 'DiscordReader',\n",
              " 'Document',\n",
              " 'DocumentSummaryIndex',\n",
              " 'EmptyIndex',\n",
              " 'FaissReader',\n",
              " 'GPTDocumentSummaryIndex',\n",
              " 'GPTEmptyIndex',\n",
              " 'GPTIndexMemory',\n",
              " 'GPTKeywordTableIndex',\n",
              " 'GPTKnowledgeGraphIndex',\n",
              " 'GPTListIndex',\n",
              " 'GPTPandasIndex',\n",
              " 'GPTRAKEKeywordTableIndex',\n",
              " 'GPTSQLStructStoreIndex',\n",
              " 'GPTSimpleKeywordTableIndex',\n",
              " 'GPTTreeIndex',\n",
              " 'GPTVectorStoreIndex',\n",
              " 'GithubRepositoryReader',\n",
              " 'GoogleDocsReader',\n",
              " 'IndexStructType',\n",
              " 'JSONReader',\n",
              " 'KeywordExtractPrompt',\n",
              " 'KeywordTableIndex',\n",
              " 'KnowledgeGraphIndex',\n",
              " 'LLMPredictor',\n",
              " 'LangchainEmbedding',\n",
              " 'ListIndex',\n",
              " 'MboxReader',\n",
              " 'MilvusReader',\n",
              " 'MockEmbedding',\n",
              " 'MockLLMPredictor',\n",
              " 'NotionPageReader',\n",
              " 'NullHandler',\n",
              " 'ObsidianReader',\n",
              " 'OpenAIEmbedding',\n",
              " 'Optional',\n",
              " 'PandasIndex',\n",
              " 'Path',\n",
              " 'PineconeReader',\n",
              " 'Prompt',\n",
              " 'PromptHelper',\n",
              " 'PsychicReader',\n",
              " 'QdrantReader',\n",
              " 'QueryBundle',\n",
              " 'QueryKeywordExtractPrompt',\n",
              " 'QuestionAnswerPrompt',\n",
              " 'RAKEKeywordTableIndex',\n",
              " 'RefinePrompt',\n",
              " 'Response',\n",
              " 'RssReader',\n",
              " 'SQLContextBuilder',\n",
              " 'SQLDatabase',\n",
              " 'SQLDocumentContextBuilder',\n",
              " 'SQLStructStoreIndex',\n",
              " 'ServiceContext',\n",
              " 'SimpleDirectoryReader',\n",
              " 'SimpleKeywordTableIndex',\n",
              " 'SimpleMongoReader',\n",
              " 'SimpleWebPageReader',\n",
              " 'SlackReader',\n",
              " 'StorageContext',\n",
              " 'StringIterableReader',\n",
              " 'SummaryPrompt',\n",
              " 'TrafilaturaWebReader',\n",
              " 'TreeIndex',\n",
              " 'TreeInsertPrompt',\n",
              " 'TreeSelectMultiplePrompt',\n",
              " 'TreeSelectPrompt',\n",
              " 'TwitterTweetReader',\n",
              " 'VectorStoreIndex',\n",
              " 'VellumPredictor',\n",
              " 'VellumPromptRegistry',\n",
              " 'WeaviateReader',\n",
              " 'WikipediaReader',\n",
              " '__all__',\n",
              " '__annotations__',\n",
              " '__builtins__',\n",
              " '__cached__',\n",
              " '__doc__',\n",
              " '__file__',\n",
              " '__loader__',\n",
              " '__name__',\n",
              " '__package__',\n",
              " '__path__',\n",
              " '__spec__',\n",
              " '__version__',\n",
              " '_f',\n",
              " 'async_utils',\n",
              " 'bridge',\n",
              " 'callbacks',\n",
              " 'chat_engine',\n",
              " 'constants',\n",
              " 'data_structs',\n",
              " 'download_loader',\n",
              " 'embeddings',\n",
              " 'get_response_synthesizer',\n",
              " 'global_service_context',\n",
              " 'graph_stores',\n",
              " 'img_utils',\n",
              " 'indices',\n",
              " 'langchain_helpers',\n",
              " 'llm_predictor',\n",
              " 'llms',\n",
              " 'load_graph_from_storage',\n",
              " 'load_index_from_storage',\n",
              " 'load_indices_from_storage',\n",
              " 'logger',\n",
              " 'logging',\n",
              " 'node_parser',\n",
              " 'objects',\n",
              " 'output_parsers',\n",
              " 'prompts',\n",
              " 'readers',\n",
              " 'response',\n",
              " 'response_synthesizers',\n",
              " 'schema',\n",
              " 'set_global_service_context',\n",
              " 'storage',\n",
              " 'token_counter',\n",
              " 'tools',\n",
              " 'types',\n",
              " 'utils',\n",
              " 'vector_stores']"
            ]
          },
          "metadata": {},
          "execution_count": 55
        }
      ]
    },
    {
      "cell_type": "code",
      "source": [
        "test: int = 3\n",
        "output: str = json.dumps({\"test\":test});output"
      ],
      "metadata": {
        "colab": {
          "base_uri": "https://localhost:8080/",
          "height": 35
        },
        "id": "y1Vqf3LujIj-",
        "outputId": "17e2214a-ece6-4daa-c134-1451f6b44123"
      },
      "id": "y1Vqf3LujIj-",
      "execution_count": 16,
      "outputs": [
        {
          "output_type": "execute_result",
          "data": {
            "text/plain": [
              "'{\"test\": 3}'"
            ],
            "application/vnd.google.colaboratory.intrinsic+json": {
              "type": "string"
            }
          },
          "metadata": {},
          "execution_count": 16
        }
      ]
    },
    {
      "cell_type": "code",
      "execution_count": 7,
      "id": "261d923e",
      "metadata": {
        "id": "261d923e"
      },
      "outputs": [],
      "source": [
        "cwd: Path = Path.cwd()\n",
        "data_dir: Path = cwd / \"DATA\"\n",
        "tivdak_dir: Path  = data_dir / \"TIVDAK\"\n",
        "documents = SimpleDirectoryReader(tivdak_dir).load_data()"
      ]
    },
    {
      "cell_type": "code",
      "source": [
        "def set_open_ai_key(env_path: Union[Path, str] = None) -> Tuple[bool, str]:\n",
        "  import json, os\n",
        "  from pathlib import Path\n",
        "\n",
        "  openai.api_key = None #clear previous key if exists\n",
        "  env_path: Path = Path(env_path).absolute() # in case env_path is passed as a str\n",
        "  if not env_path.is_file(): err: str = f\"File:{str(env_path)} does not exist.\"\n",
        "  else:\n",
        "    try:\n",
        "      with open(env_path, \"r\") as f:\n",
        "          env_vars = json.load(f)\n",
        "      os.environ[\"OPENAI_API_KEY\"] = env_vars[\"OPENAI_API_KEY\"]\n",
        "      openai.api_key = os.environ[\"OPENAI_API_KEY\"]\n",
        "      openai.Model.list() #test a random command on the openai API\n",
        "      err = None\n",
        "    except Exception as e:\n",
        "      err = json.dumps({\"error\":e})\n",
        "\n",
        "  logger.info(err)\n",
        "  return (True, \"ok\") if not err else (False, err)"
      ],
      "metadata": {
        "id": "cBPv_qUQDX6A"
      },
      "id": "cBPv_qUQDX6A",
      "execution_count": 49,
      "outputs": []
    },
    {
      "cell_type": "code",
      "source": [
        "cwd: Path = Path.cwd()\n",
        "env_path: Path = cwd/ \"openai.env\";\n",
        "print(set_open_ai_key(env_path)) # Tuple[bool, str]"
      ],
      "metadata": {
        "colab": {
          "base_uri": "https://localhost:8080/"
        },
        "id": "b2wcWk_QpclU",
        "outputId": "f1f69759-bef3-4f38-e778-e7e69385f66c"
      },
      "id": "b2wcWk_QpclU",
      "execution_count": 67,
      "outputs": [
        {
          "output_type": "stream",
          "name": "stdout",
          "text": [
            "(True, 'ok')\n"
          ]
        }
      ]
    },
    {
      "cell_type": "code",
      "execution_count": 68,
      "id": "0c635cdb",
      "metadata": {
        "id": "0c635cdb"
      },
      "outputs": [],
      "source": [
        "llm: llama_index.llms.openai.OpenAI = OpenAI(temperature=0,\n",
        "             model=\"gpt-3.5-turbo\",\n",
        "             max_tokens=400,\n",
        "             max_retries = 5)\n",
        "\n",
        "service_context: llama_index.indices.service_context.ServiceContext = ServiceContext.from_defaults(llm=llm)"
      ]
    },
    {
      "cell_type": "code",
      "execution_count": 69,
      "id": "b8ad1a2a",
      "metadata": {
        "id": "b8ad1a2a"
      },
      "outputs": [],
      "source": [
        "davinci_index: llama_index.indices.vector_store.base.VectorStoreIndex = VectorStoreIndex.from_documents(documents, service_context=service_context)"
      ]
    },
    {
      "cell_type": "code",
      "execution_count": 71,
      "id": "fa1d7242",
      "metadata": {
        "id": "fa1d7242"
      },
      "outputs": [],
      "source": [
        "query_engine: llama_index.query_engine.retriever_query_engine.RetrieverQueryEngine = davinci_index.as_query_engine(response_mode=\"tree_summarize\")\n",
        "q: str = \"what is tivdak used for?\"\n",
        "response: llama_index.response.schema.Response = query_engine.query(q)"
      ]
    },
    {
      "cell_type": "code",
      "execution_count": 72,
      "id": "d758bdb7",
      "metadata": {
        "scrolled": true,
        "colab": {
          "base_uri": "https://localhost:8080/",
          "height": 64
        },
        "id": "d758bdb7",
        "outputId": "2c8cf7c1-e401-49cb-d8f7-8b17cb8c3197"
      },
      "outputs": [
        {
          "output_type": "display_data",
          "data": {
            "text/plain": [
              "<IPython.core.display.Markdown object>"
            ],
            "text/markdown": "**`Final Response:`** TIVDAK is used to treat adults with cervical cancer that has returned or has spread to other parts of the body, and who have received chemotherapy that did not work or is no longer working."
          },
          "metadata": {}
        }
      ],
      "source": [
        "display_response(response)"
      ]
    },
    {
      "cell_type": "code",
      "source": [
        "q = \"what is tisotumab vedotin used for?\"\n",
        "display_response(query_engine.query(q))"
      ],
      "metadata": {
        "colab": {
          "base_uri": "https://localhost:8080/",
          "height": 64
        },
        "id": "XxO0c85h3hW6",
        "outputId": "2f8649be-37a3-4fa7-c4a3-05b04a21a769"
      },
      "id": "XxO0c85h3hW6",
      "execution_count": 76,
      "outputs": [
        {
          "output_type": "display_data",
          "data": {
            "text/plain": [
              "<IPython.core.display.Markdown object>"
            ],
            "text/markdown": "**`Final Response:`** Tisotumab vedotin is used for the treatment of adult patients with recurrent or metastatic cervical cancer with disease progression on or after chemotherapy."
          },
          "metadata": {}
        }
      ]
    },
    {
      "cell_type": "code",
      "source": [
        "q = \"what is tisotumab used for?\"\n",
        "display_response(query_engine.query(q))"
      ],
      "metadata": {
        "colab": {
          "base_uri": "https://localhost:8080/",
          "height": 64
        },
        "id": "6WSUZFsz3x_R",
        "outputId": "98e49919-10f7-4df2-cd1c-f0af1555462f"
      },
      "id": "6WSUZFsz3x_R",
      "execution_count": 77,
      "outputs": [
        {
          "output_type": "display_data",
          "data": {
            "text/plain": [
              "<IPython.core.display.Markdown object>"
            ],
            "text/markdown": "**`Final Response:`** Tisotumab is used for the treatment of adult patients with recurrent or metastatic cervical cancer with disease progression on or after chemotherapy."
          },
          "metadata": {}
        }
      ]
    },
    {
      "cell_type": "code",
      "source": [
        "q = \"why do patients use cold packs when using tivdak?\"\n",
        "display_response(query_engine.query(q))"
      ],
      "metadata": {
        "id": "0Ko0vafQFDuq",
        "colab": {
          "base_uri": "https://localhost:8080/",
          "height": 47
        },
        "outputId": "f3c6f274-9a4a-4af3-fdc8-fa9256f26904"
      },
      "id": "0Ko0vafQFDuq",
      "execution_count": 79,
      "outputs": [
        {
          "output_type": "display_data",
          "data": {
            "text/plain": [
              "<IPython.core.display.Markdown object>"
            ],
            "text/markdown": "**`Final Response:`** Patients use cold packs when using TIVDAK to reduce the risk of eye problems."
          },
          "metadata": {}
        }
      ]
    },
    {
      "cell_type": "code",
      "source": [
        "q = \"what are the most common adverse reactions of tivdak\"\n",
        "display_response(query_engine.query(q))"
      ],
      "metadata": {
        "colab": {
          "base_uri": "https://localhost:8080/",
          "height": 64
        },
        "id": "3n8sCS_eFQIw",
        "outputId": "0fb8d0b3-65ed-4eb7-a6e1-fe6f5f6cae22"
      },
      "id": "3n8sCS_eFQIw",
      "execution_count": 80,
      "outputs": [
        {
          "output_type": "display_data",
          "data": {
            "text/plain": [
              "<IPython.core.display.Markdown object>"
            ],
            "text/markdown": "**`Final Response:`** The most common adverse reactions of TIVDAK are fatigue, nausea, diarrhea, abdominal pain, peripheral neuropathy, alopecia, rash, epistaxis, hemorrhage, conjunctival adverse reactions, dry eye, and corneal adverse reactions."
          },
          "metadata": {}
        }
      ]
    },
    {
      "cell_type": "code",
      "source": [
        "q = \"what are the black box warnings of tivdak\"\n",
        "display_response(query_engine.query(q))"
      ],
      "metadata": {
        "colab": {
          "base_uri": "https://localhost:8080/",
          "height": 47
        },
        "id": "CSRm1FlPFQCX",
        "outputId": "c904a5ea-4a49-4551-ee5d-caea9e0f4ddd"
      },
      "id": "CSRm1FlPFQCX",
      "execution_count": 81,
      "outputs": [
        {
          "output_type": "display_data",
          "data": {
            "text/plain": [
              "<IPython.core.display.Markdown object>"
            ],
            "text/markdown": "**`Final Response:`** The black box warnings of TIVDAK are not provided in the given context information."
          },
          "metadata": {}
        }
      ]
    },
    {
      "cell_type": "code",
      "source": [
        "q = \"what are the boxed warnings of tivdak\"\n",
        "display_response(query_engine.query(q))"
      ],
      "metadata": {
        "colab": {
          "base_uri": "https://localhost:8080/",
          "height": 47
        },
        "id": "2srcoMwzFP4_",
        "outputId": "55a03504-6aaa-4e2d-8d40-89b05938b4b0"
      },
      "id": "2srcoMwzFP4_",
      "execution_count": 82,
      "outputs": [
        {
          "output_type": "display_data",
          "data": {
            "text/plain": [
              "<IPython.core.display.Markdown object>"
            ],
            "text/markdown": "**`Final Response:`** The boxed warnings of TIVDAK are not provided in the given context information."
          },
          "metadata": {}
        }
      ]
    },
    {
      "cell_type": "code",
      "source": [
        "q = \"what are the most common drug interactions of tivdak\"\n",
        "display_response(query_engine.query(q))"
      ],
      "metadata": {
        "id": "Nk_5fP7JF6EI"
      },
      "id": "Nk_5fP7JF6EI",
      "execution_count": null,
      "outputs": []
    },
    {
      "cell_type": "code",
      "source": [
        "q = \"how is tivdak administered\"\n",
        "display_response(query_engine.query(q))"
      ],
      "metadata": {
        "colab": {
          "base_uri": "https://localhost:8080/",
          "height": 64
        },
        "id": "Q91evt9PF6Bc",
        "outputId": "1d18e08b-856d-4f3a-8881-4870ebca046b"
      },
      "id": "Q91evt9PF6Bc",
      "execution_count": null,
      "outputs": [
        {
          "output_type": "display_data",
          "data": {
            "text/plain": [
              "<IPython.core.display.Markdown object>"
            ],
            "text/markdown": "**`Final Response:`** TIVDAK is administered as an intravenous infusion over 30 minutes every 3 weeks until disease progression or unacceptable toxicity."
          },
          "metadata": {}
        }
      ]
    },
    {
      "cell_type": "code",
      "source": [
        "q = \"what are the Pharmacokinetics of tivdak\"\n",
        "display_response(query_engine.query(q))\n"
      ],
      "metadata": {
        "colab": {
          "base_uri": "https://localhost:8080/",
          "height": 47
        },
        "id": "DLFFLcs9F5-w",
        "outputId": "067892a9-0abe-454b-8a59-51342d269449"
      },
      "id": "DLFFLcs9F5-w",
      "execution_count": null,
      "outputs": [
        {
          "output_type": "display_data",
          "data": {
            "text/plain": [
              "<IPython.core.display.Markdown object>"
            ],
            "text/markdown": "**`Final Response:`** The pharmacokinetics of TIVDAK are not known."
          },
          "metadata": {}
        }
      ]
    },
    {
      "cell_type": "code",
      "source": [
        "q = \"what are the Pharmacokinetics of Tisotumab\"\n",
        "display_response(query_engine.query(q))\n"
      ],
      "metadata": {
        "colab": {
          "base_uri": "https://localhost:8080/",
          "height": 64
        },
        "id": "P5eZI0MJF58E",
        "outputId": "59bf3055-acf3-4db2-d615-5ac087b5b790"
      },
      "id": "P5eZI0MJF58E",
      "execution_count": null,
      "outputs": [
        {
          "output_type": "display_data",
          "data": {
            "text/plain": [
              "<IPython.core.display.Markdown object>"
            ],
            "text/markdown": "**`Final Response:`** The pharmacokinetics of Tisotumab are not known. It is not known how tisotumab is metabolized or excreted from the body."
          },
          "metadata": {}
        }
      ]
    },
    {
      "cell_type": "code",
      "source": [
        "q = \"what are the the exposure parameters of Tisotumab\"\n",
        "display_response(query_engine.query(q))\n"
      ],
      "metadata": {
        "colab": {
          "base_uri": "https://localhost:8080/",
          "height": 82
        },
        "id": "aGUJ-y95F55f",
        "outputId": "265dcfa8-d69b-4f80-ddd8-11e2b358c4dd"
      },
      "id": "aGUJ-y95F55f",
      "execution_count": 83,
      "outputs": [
        {
          "output_type": "display_data",
          "data": {
            "text/plain": [
              "<IPython.core.display.Markdown object>"
            ],
            "text/markdown": "**`Final Response:`** The exposure parameters of Tisotumab Vedotin-tftv are summarized in Table 6. The mean maximum concentration (Cmax) of Tisotumab Vedotin-tftv is 40.8 μg/mL, and the mean area under the concentration-time curve (AUC) is 57.5 day*μg/mL. The mean Cmax of unconjugated MMAE (the cytotoxic component of Tisotumab Vedotin-tftv) is 5.91 ng/mL, and the mean AUC is 50 day*ng/mL."
          },
          "metadata": {}
        }
      ]
    },
    {
      "cell_type": "code",
      "source": [
        "q = \"what does the elimination of Tisotumab look like\"\n",
        "display_response(query_engine.query(q))"
      ],
      "metadata": {
        "colab": {
          "base_uri": "https://localhost:8080/",
          "height": 82
        },
        "id": "f1M6hOlHF52z",
        "outputId": "11beeb55-d8cd-4c0b-b766-c7444b55702b"
      },
      "id": "f1M6hOlHF52z",
      "execution_count": null,
      "outputs": [
        {
          "output_type": "display_data",
          "data": {
            "text/plain": [
              "<IPython.core.display.Markdown object>"
            ],
            "text/markdown": "**`Final Response:`** The elimination of Tisotumab is characterized by a median terminal half-life of 4.04 days, a linear clearance of 1.54 L/day, and excretion of 17% of the total MMAE administered recovered in feces and 6% in urine over a 1-week period. It is thought to be metabolized in the liver and excreted in the urine and feces."
          },
          "metadata": {}
        }
      ]
    },
    {
      "cell_type": "code",
      "source": [
        "q = \"was the efficacy of TIVDAK ever evaluated? please cite any relevant clinical studies  \"\n",
        "display_response(query_engine.query(q))\n"
      ],
      "metadata": {
        "id": "sYr68_3IF50Z",
        "colab": {
          "base_uri": "https://localhost:8080/",
          "height": 116
        },
        "outputId": "f3ec0bdc-4e4f-4907-dcce-3c9fc07ee545"
      },
      "id": "sYr68_3IF50Z",
      "execution_count": 84,
      "outputs": [
        {
          "output_type": "display_data",
          "data": {
            "text/plain": [
              "<IPython.core.display.Markdown object>"
            ],
            "text/markdown": "**`Final Response:`** Yes, the efficacy of TIVDAK was evaluated. The clinical study mentioned in the context information is \"innovaTV 204.\" The efficacy results of TIVDAK in innovaTV 204 were evaluated using various endpoints, including Confirmed ORR (Overall Response Rate), Complete response rate, Partial response rate, and Duration of Response. The study found that the Confirmed ORR was 24%, with a 95% confidence interval of (15.9, 33.3). The Complete response rate was 7%, and the Partial response rate was 17%. The Median Duration of Response was 8.3 months, with a 95% confidence interval of (4.2, NR). These results indicate that TIVDAK showed efficacy in treating the condition being studied."
          },
          "metadata": {}
        }
      ]
    },
    {
      "cell_type": "code",
      "source": [],
      "metadata": {
        "id": "SFQoIzvlF5xQ"
      },
      "id": "SFQoIzvlF5xQ",
      "execution_count": null,
      "outputs": []
    },
    {
      "cell_type": "code",
      "source": [],
      "metadata": {
        "id": "aDTlj-HgF5uK"
      },
      "id": "aDTlj-HgF5uK",
      "execution_count": null,
      "outputs": []
    },
    {
      "cell_type": "code",
      "source": [],
      "metadata": {
        "id": "EI-WOMa-F5p9"
      },
      "id": "EI-WOMa-F5p9",
      "execution_count": null,
      "outputs": []
    },
    {
      "cell_type": "code",
      "source": [],
      "metadata": {
        "id": "JOA_TRhZF5j6"
      },
      "id": "JOA_TRhZF5j6",
      "execution_count": null,
      "outputs": []
    },
    {
      "cell_type": "code",
      "source": [],
      "metadata": {
        "id": "xJ1VdH7AF5ad"
      },
      "id": "xJ1VdH7AF5ad",
      "execution_count": null,
      "outputs": []
    }
  ],
  "metadata": {
    "kernelspec": {
      "display_name": "Python 3 (ipykernel)",
      "language": "python",
      "name": "python3"
    },
    "language_info": {
      "codemirror_mode": {
        "name": "ipython",
        "version": 3
      },
      "file_extension": ".py",
      "mimetype": "text/x-python",
      "name": "python",
      "nbconvert_exporter": "python",
      "pygments_lexer": "ipython3",
      "version": "3.10.9"
    },
    "colab": {
      "provenance": [],
      "include_colab_link": true
    }
  },
  "nbformat": 4,
  "nbformat_minor": 5
}
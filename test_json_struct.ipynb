{
  "nbformat": 4,
  "nbformat_minor": 0,
  "metadata": {
    "colab": {
      "provenance": [],
      "collapsed_sections": [
        "S-UJJHkB1CtB"
      ],
      "authorship_tag": "ABX9TyOddV8n9FNI4lNNGetZ3MiV",
      "include_colab_link": true
    },
    "kernelspec": {
      "name": "python3",
      "display_name": "Python 3"
    },
    "language_info": {
      "name": "python"
    }
  },
  "cells": [
    {
      "cell_type": "markdown",
      "metadata": {
        "id": "view-in-github",
        "colab_type": "text"
      },
      "source": [
        "<a href=\"https://colab.research.google.com/github/seanreed1111/colab-demos/blob/master/test_json_struct.ipynb\" target=\"_parent\"><img src=\"https://colab.research.google.com/assets/colab-badge.svg\" alt=\"Open In Colab\"/></a>"
      ]
    },
    {
      "cell_type": "code",
      "source": [
        "%pip install -qqq jmespath deepdiff python-jsonschema-objects"
      ],
      "metadata": {
        "colab": {
          "base_uri": "https://localhost:8080/"
        },
        "id": "wxoOAMPpJGpD",
        "outputId": "29b41e59-b0a9-404e-fac5-cd6e854adf0d"
      },
      "execution_count": 1,
      "outputs": [
        {
          "output_type": "stream",
          "name": "stdout",
          "text": [
            "\u001b[2K     \u001b[90m━━━━━━━━━━━━━━━━━━━━━━━━━━━━━━━━━━━━━━━━\u001b[0m \u001b[32m80.8/80.8 kB\u001b[0m \u001b[31m220.4 kB/s\u001b[0m eta \u001b[36m0:00:00\u001b[0m\n",
            "\u001b[?25h"
          ]
        }
      ]
    },
    {
      "cell_type": "code",
      "source": [
        "import json\n",
        "import jmespath\n",
        "# from collections import namedtuple\n",
        "# from copy import deepcopy\n",
        "# from json import JSONEncoder\n",
        "from deepdiff import DeepDiff\n",
        "# import python_jsonschema_objects as pjs\n"
      ],
      "metadata": {
        "id": "0I-dAICzJGjJ"
      },
      "execution_count": 2,
      "outputs": []
    },
    {
      "cell_type": "code",
      "source": [
        "deepdiff_options = dict(ignore_order=True, report_repetition=True, ignore_string_case=True)"
      ],
      "metadata": {
        "id": "l3biMPxT5HTe"
      },
      "execution_count": 16,
      "outputs": []
    },
    {
      "cell_type": "code",
      "source": [
        "two_double_jacks_no_pickles_no_onions = {'categories': [{'items': [{'item_aliases': [], 'item_name': 'Double Jack', 'modifications': [\"no pickles\", \"no onions\"], 'quantity': 2, 'special_requests': []}], 'name': 'Burger'}], 'combos': []};\n",
        "two_double_jacks_no_onions_no_pickles = {'categories': [{'items': [{'item_aliases': [], 'item_name': 'Double Jack', 'modifications': [\"no onions\", \"no pickles\"], 'quantity': 2, 'special_requests': []}], 'name': 'Burger'}], 'combos': []};\n"
      ],
      "metadata": {
        "id": "l--bZyHAJGfK"
      },
      "execution_count": 3,
      "outputs": []
    },
    {
      "cell_type": "code",
      "source": [
        "actual = two_double_jacks_no_pickles_no_onions\n",
        "expected = two_double_jacks_no_onions_no_pickles"
      ],
      "metadata": {
        "id": "qzzBXid7XjDU"
      },
      "execution_count": 10,
      "outputs": []
    },
    {
      "cell_type": "code",
      "source": [
        "actual == expected # False since modifications are not in same order"
      ],
      "metadata": {
        "colab": {
          "base_uri": "https://localhost:8080/"
        },
        "id": "Pvb-dpHu3QDg",
        "outputId": "3802b42b-e6a6-4d1f-941e-b21c723b0c34"
      },
      "execution_count": 11,
      "outputs": [
        {
          "output_type": "execute_result",
          "data": {
            "text/plain": [
              "False"
            ]
          },
          "metadata": {},
          "execution_count": 11
        }
      ]
    },
    {
      "cell_type": "code",
      "source": [
        "# DeepDiff returns an empty dict-like object if the two items are 'identical'\n",
        "DeepDiff(two_double_jacks_no_pickles_no_onions, two_double_jacks_no_onions_no_pickles, **deepdiff_options)"
      ],
      "metadata": {
        "colab": {
          "base_uri": "https://localhost:8080/"
        },
        "id": "d0bZpl5N3ILE",
        "outputId": "6e585ba0-a852-4c3b-eb43-24f93f337216"
      },
      "execution_count": 12,
      "outputs": [
        {
          "output_type": "execute_result",
          "data": {
            "text/plain": [
              "{}"
            ]
          },
          "metadata": {},
          "execution_count": 12
        }
      ]
    },
    {
      "cell_type": "code",
      "source": [
        "# Important! the options are not optional for our use case\n",
        "DeepDiff(two_double_jacks_no_pickles_no_onions, two_double_jacks_no_onions_no_pickles)"
      ],
      "metadata": {
        "colab": {
          "base_uri": "https://localhost:8080/"
        },
        "id": "W_TyX7rSpPD6",
        "outputId": "eddfc527-f408-4a43-f4f7-6a76371f0eb0"
      },
      "execution_count": 64,
      "outputs": [
        {
          "output_type": "execute_result",
          "data": {
            "text/plain": [
              "{'values_changed': {\"root['categories'][0]['items'][0]['modifications'][0]\": {'new_value': 'no onions',\n",
              "   'old_value': 'no pickles'},\n",
              "  \"root['categories'][0]['items'][0]['modifications'][1]\": {'new_value': 'no pickles',\n",
              "   'old_value': 'no onions'}}}"
            ]
          },
          "metadata": {},
          "execution_count": 64
        }
      ]
    },
    {
      "cell_type": "markdown",
      "source": [
        "### New Example"
      ],
      "metadata": {
        "id": "PfT8GEdo5CTS"
      }
    },
    {
      "cell_type": "code",
      "source": [
        "two_double_jacks_no_pickles = {'categories': [{'items': [{'item_aliases': [], 'item_name': 'Double Jack', 'modifications': [\"no pickles\"], 'quantity': 2, 'special_requests': []}], 'name': 'Burger'}], 'combos': []};\n",
        "two_double_jacks_no_onions = {'categories': [{'items': [{'item_aliases': [], 'item_name': 'Double Jack', 'modifications': [\"no onions\"], 'quantity': 2, 'special_requests': []}], 'name': 'Burger'}], 'combos': []};\n"
      ],
      "metadata": {
        "id": "KVGEC8oHXVaq"
      },
      "execution_count": 4,
      "outputs": []
    },
    {
      "cell_type": "code",
      "source": [
        "#deepdiff reports what must be added or removed from the 2nd arg to make it identical to the first\n",
        "DeepDiff(two_double_jacks_no_pickles, two_double_jacks_no_onions, **deepdiff_options)"
      ],
      "metadata": {
        "colab": {
          "base_uri": "https://localhost:8080/"
        },
        "id": "UzaCCt0b3wqS",
        "outputId": "76c37c99-d4f2-4fb6-b0ae-5fe59994f3e1"
      },
      "execution_count": 13,
      "outputs": [
        {
          "output_type": "execute_result",
          "data": {
            "text/plain": [
              "{'iterable_item_added': {\"root['categories'][0]['items'][0]['modifications'][0]\": 'no onions'},\n",
              " 'iterable_item_removed': {\"root['categories'][0]['items'][0]['modifications'][0]\": 'no pickles'}}"
            ]
          },
          "metadata": {},
          "execution_count": 13
        }
      ]
    },
    {
      "cell_type": "code",
      "source": [
        "DeepDiff(two_double_jacks_no_pickles, two_double_jacks_no_onions, **deepdiff_options).to_json()"
      ],
      "metadata": {
        "colab": {
          "base_uri": "https://localhost:8080/",
          "height": 54
        },
        "id": "4Hlio_WN4AJK",
        "outputId": "650cdf01-4855-44ef-e9cf-4348bfc72936"
      },
      "execution_count": 14,
      "outputs": [
        {
          "output_type": "execute_result",
          "data": {
            "text/plain": [
              "'{\"iterable_item_added\": {\"root[\\'categories\\'][0][\\'items\\'][0][\\'modifications\\'][0]\": \"no onions\"}, \"iterable_item_removed\": {\"root[\\'categories\\'][0][\\'items\\'][0][\\'modifications\\'][0]\": \"no pickles\"}}'"
            ],
            "application/vnd.google.colaboratory.intrinsic+json": {
              "type": "string"
            }
          },
          "metadata": {},
          "execution_count": 14
        }
      ]
    },
    {
      "cell_type": "code",
      "source": [
        "from copy import deepcopy\n",
        "from deepdiff import DeepDiff\n",
        "\n",
        "class NewStruct():\n",
        "    deepdiff_options = dict(ignore_order=True, report_repetition=True)\n",
        "    def __init__(self, **kwargs):\n",
        "        self.__dict__.update(kwargs)\n",
        "\n",
        "    def __repr__(self):\n",
        "        return str(self.__dict__)\n",
        "\n",
        "    def as_dict(self):\n",
        "      return self.__dict__\n",
        "\n",
        "    def as_json(self):\n",
        "      return json.dumps(self.__dict__)\n",
        "\n",
        "    def diff(self, other):\n",
        "        if isinstance(other, NewStruct):\n",
        "          return DeepDiff(self.as_dict(), other.as_dict(), **NewStruct.deepdiff_options)\n",
        "        elif isinstance(other, dict):\n",
        "            return DeepDiff(self.as_dict(), other, **NewStruct.deepdiff_options)\n",
        "        else:\n",
        "          return DeepDiff(self, other, **NewStruct.deepdiff_options )\n",
        "\n",
        "    def get_categories(self):\n",
        "      for category in deepcopy(self.categories):\n",
        "        yield category\n",
        "\n",
        "    def get_items(self):\n",
        "      for category in deepcopy(self.categories):\n",
        "        for item in category['items']:\n",
        "          yield category.name, item\n",
        "\n",
        "    def get_combos(self):\n",
        "      for combo in deepcopy(self.combos):\n",
        "        yield combo\n",
        "\n",
        "    def get_category_names(self):\n",
        "      for category in deepcopy(self.categories):\n",
        "        yield category.name\n",
        "\n",
        "\n",
        "    def get_item_names(self):\n",
        "      for category in deepcopy(self.categories):\n",
        "        for item in category['items']:\n",
        "          yield item.item_name\n",
        "\n",
        "    def __eq__(self, other):\n",
        "      # performs equality checks against NewStruct objs, str, and dict\n",
        "        if isinstance(other, NewStruct):\n",
        "            # diff returns an empty dict if objects are equal\n",
        "            return not self.diff(other)\n",
        "        elif isinstance(other, dict):\n",
        "            return not DeepDiff(self.as_dict(), other, **NewStruct.deepdiff_options)\n",
        "        else:\n",
        "          return False"
      ],
      "metadata": {
        "id": "Pb-rgfiWJGAo"
      },
      "execution_count": 56,
      "outputs": []
    },
    {
      "cell_type": "code",
      "source": [
        "a = NewStruct(**two_double_jacks_no_pickles_no_onions)\n",
        "b = NewStruct(**two_double_jacks_no_onions_no_pickles)\n",
        "print(a, \"\\n\", b)"
      ],
      "metadata": {
        "colab": {
          "base_uri": "https://localhost:8080/"
        },
        "id": "0gpNyFYdKpqd",
        "outputId": "50bc7dc1-3290-4186-bc8d-21b11d668dba"
      },
      "execution_count": 57,
      "outputs": [
        {
          "output_type": "stream",
          "name": "stdout",
          "text": [
            "{'categories': [{'items': [{'item_aliases': [], 'item_name': 'Double Jack', 'modifications': ['no pickles', 'no onions'], 'quantity': 2, 'special_requests': []}], 'name': 'Burger'}], 'combos': []} \n",
            " {'categories': [{'items': [{'item_aliases': [], 'item_name': 'Double Jack', 'modifications': ['no onions', 'no pickles'], 'quantity': 2, 'special_requests': []}], 'name': 'Burger'}], 'combos': []}\n"
          ]
        }
      ]
    },
    {
      "cell_type": "code",
      "source": [
        "a.categories"
      ],
      "metadata": {
        "colab": {
          "base_uri": "https://localhost:8080/"
        },
        "id": "nZwKu8DNKpmL",
        "outputId": "5a52fead-f3e5-45ce-bcb9-f71f5d16ec8c"
      },
      "execution_count": 58,
      "outputs": [
        {
          "output_type": "execute_result",
          "data": {
            "text/plain": [
              "[{'items': [{'item_aliases': [],\n",
              "    'item_name': 'Double Jack',\n",
              "    'modifications': ['no pickles', 'no onions'],\n",
              "    'quantity': 2,\n",
              "    'special_requests': []}],\n",
              "  'name': 'Burger'}]"
            ]
          },
          "metadata": {},
          "execution_count": 58
        }
      ]
    },
    {
      "cell_type": "code",
      "source": [
        "a.get_categories(), a.get_category_names()"
      ],
      "metadata": {
        "colab": {
          "base_uri": "https://localhost:8080/"
        },
        "id": "gF3gEGA9Kpih",
        "outputId": "1723f8f8-b44b-45ba-bfec-c39c597b3bd1"
      },
      "execution_count": 60,
      "outputs": [
        {
          "output_type": "execute_result",
          "data": {
            "text/plain": [
              "(<generator object NewStruct.get_categories at 0x7b8ef9995690>,\n",
              " <generator object NewStruct.get_category_names at 0x7b8ef9995af0>)"
            ]
          },
          "metadata": {},
          "execution_count": 60
        }
      ]
    },
    {
      "cell_type": "code",
      "source": [
        "a.get_items(), b.get_items()"
      ],
      "metadata": {
        "colab": {
          "base_uri": "https://localhost:8080/"
        },
        "id": "dZymEgglKpe-",
        "outputId": "f515266b-9abc-4f53-becb-222babc7bce2"
      },
      "execution_count": 42,
      "outputs": [
        {
          "output_type": "execute_result",
          "data": {
            "text/plain": [
              "(<generator object NewStruct.get_items at 0x7b8ef9994c10>,\n",
              " <generator object NewStruct.get_items at 0x7b8ef99945f0>)"
            ]
          },
          "metadata": {},
          "execution_count": 42
        }
      ]
    },
    {
      "cell_type": "code",
      "source": [
        "a == b"
      ],
      "metadata": {
        "colab": {
          "base_uri": "https://localhost:8080/"
        },
        "id": "lsBToZinKpXj",
        "outputId": "5b86db7c-9e0c-4105-a847-08a6ba6ff023"
      },
      "execution_count": 43,
      "outputs": [
        {
          "output_type": "execute_result",
          "data": {
            "text/plain": [
              "True"
            ]
          },
          "metadata": {},
          "execution_count": 43
        }
      ]
    },
    {
      "cell_type": "code",
      "source": [
        "a.as_json()"
      ],
      "metadata": {
        "colab": {
          "base_uri": "https://localhost:8080/",
          "height": 54
        },
        "id": "fwk6WRluOOxd",
        "outputId": "42b14f93-07e3-44fd-a222-6879e0d29647"
      },
      "execution_count": 44,
      "outputs": [
        {
          "output_type": "execute_result",
          "data": {
            "text/plain": [
              "'{\"categories\": [{\"items\": [{\"item_aliases\": [], \"item_name\": \"Double Jack\", \"modifications\": [\"no pickles\", \"no onions\"], \"quantity\": 2, \"special_requests\": []}], \"name\": \"Burger\"}], \"combos\": []}'"
            ],
            "application/vnd.google.colaboratory.intrinsic+json": {
              "type": "string"
            }
          },
          "metadata": {},
          "execution_count": 44
        }
      ]
    },
    {
      "cell_type": "code",
      "source": [
        "b.as_json()"
      ],
      "metadata": {
        "colab": {
          "base_uri": "https://localhost:8080/",
          "height": 54
        },
        "id": "_VedfQlROrCq",
        "outputId": "b43d2fe9-0079-449a-c687-e5f955a27c18"
      },
      "execution_count": 45,
      "outputs": [
        {
          "output_type": "execute_result",
          "data": {
            "text/plain": [
              "'{\"categories\": [{\"items\": [{\"item_aliases\": [], \"item_name\": \"Double Jack\", \"modifications\": [\"no onions\", \"no pickles\"], \"quantity\": 2, \"special_requests\": []}], \"name\": \"Burger\"}], \"combos\": []}'"
            ],
            "application/vnd.google.colaboratory.intrinsic+json": {
              "type": "string"
            }
          },
          "metadata": {},
          "execution_count": 45
        }
      ]
    },
    {
      "cell_type": "code",
      "source": [
        "a.as_dict()"
      ],
      "metadata": {
        "colab": {
          "base_uri": "https://localhost:8080/"
        },
        "id": "kd0zR5PROtJn",
        "outputId": "9423d36e-3180-4ce7-c077-4b20fe057a16"
      },
      "execution_count": 46,
      "outputs": [
        {
          "output_type": "execute_result",
          "data": {
            "text/plain": [
              "{'categories': [{'items': [{'item_aliases': [],\n",
              "     'item_name': 'Double Jack',\n",
              "     'modifications': ['no pickles', 'no onions'],\n",
              "     'quantity': 2,\n",
              "     'special_requests': []}],\n",
              "   'name': 'Burger'}],\n",
              " 'combos': []}"
            ]
          },
          "metadata": {},
          "execution_count": 46
        }
      ]
    },
    {
      "cell_type": "code",
      "source": [
        "b.as_dict()"
      ],
      "metadata": {
        "colab": {
          "base_uri": "https://localhost:8080/"
        },
        "id": "YAuUh7kOOvjK",
        "outputId": "d6d73a43-3cbb-4411-ccc5-475e6690eace"
      },
      "execution_count": 47,
      "outputs": [
        {
          "output_type": "execute_result",
          "data": {
            "text/plain": [
              "{'categories': [{'items': [{'item_aliases': [],\n",
              "     'item_name': 'Double Jack',\n",
              "     'modifications': ['no onions', 'no pickles'],\n",
              "     'quantity': 2,\n",
              "     'special_requests': []}],\n",
              "   'name': 'Burger'}],\n",
              " 'combos': []}"
            ]
          },
          "metadata": {},
          "execution_count": 47
        }
      ]
    },
    {
      "cell_type": "code",
      "source": [
        "a.diff(b)"
      ],
      "metadata": {
        "colab": {
          "base_uri": "https://localhost:8080/"
        },
        "id": "PvZCJTu6O_P_",
        "outputId": "9e993a67-2682-4c1b-ce33-66c8a8a25968"
      },
      "execution_count": 48,
      "outputs": [
        {
          "output_type": "execute_result",
          "data": {
            "text/plain": [
              "{}"
            ]
          },
          "metadata": {},
          "execution_count": 48
        }
      ]
    },
    {
      "cell_type": "code",
      "source": [
        "a.diff(b.as_dict())"
      ],
      "metadata": {
        "colab": {
          "base_uri": "https://localhost:8080/"
        },
        "id": "c5towPHpO_NA",
        "outputId": "3fb4cd4f-d43e-4ef0-c9c1-3413ea8392e6"
      },
      "execution_count": 49,
      "outputs": [
        {
          "output_type": "execute_result",
          "data": {
            "text/plain": [
              "{}"
            ]
          },
          "metadata": {},
          "execution_count": 49
        }
      ]
    },
    {
      "cell_type": "code",
      "source": [
        "a.diff(b.as_json())"
      ],
      "metadata": {
        "colab": {
          "base_uri": "https://localhost:8080/"
        },
        "id": "0-Fz_lnFO_KM",
        "outputId": "ffe87323-34e9-4654-91da-1af156ef9e4c"
      },
      "execution_count": 50,
      "outputs": [
        {
          "output_type": "execute_result",
          "data": {
            "text/plain": [
              "{'type_changes': {'root': {'old_type': method,\n",
              "   'new_type': str,\n",
              "   'old_value': <bound method NewStruct.as_json of {'categories': [{'items': [{'item_aliases': [], 'item_name': 'Double Jack', 'modifications': ['no pickles', 'no onions'], 'quantity': 2, 'special_requests': []}], 'name': 'Burger'}], 'combos': []}>,\n",
              "   'new_value': '{\"categories\": [{\"items\": [{\"item_aliases\": [], \"item_name\": \"Double Jack\", \"modifications\": [\"no onions\", \"no pickles\"], \"quantity\": 2, \"special_requests\": []}], \"name\": \"Burger\"}], \"combos\": []}'}}}"
            ]
          },
          "metadata": {},
          "execution_count": 50
        }
      ]
    },
    {
      "cell_type": "code",
      "source": [
        "bigorder_salad_combos =  {'categories': [{'name': 'Salad', 'items': [{'item_aliases': [], 'item_name': 'Garden Salad with Grilled Chicken', 'modifications': [], 'quantity': 1, 'special_requests': []}, {'item_aliases': [], 'item_name': 'Southwest Salad with Crispy Chicken', 'modifications': [], 'quantity': 1, 'special_requests': []}]}], 'combos': [{'combo_aliases': [], 'items': [{'item_aliases': [], 'item_name': 'Jacks Spicy Chicken with Cheese', 'modifications': [], 'quantity': 1, 'special_requests': []}, {'item_aliases': [], 'item_name': 'French Fries Small', 'modifications': [], 'quantity': 1, 'special_requests': []}, {'item_aliases': [], 'item_name': 'Small Coca-Cola', 'modifications': [], 'quantity': 1, 'special_requests': []}], 'name': 'Jacks Spicy Chicken with Cheese Combo'}, {'combo_aliases': ['#11'], 'items': [{'item_aliases': [], 'item_name': 'Homestyle Ranch Chicken Club', 'modifications': [], 'quantity': 1, 'special_requests': []}, {'item_aliases': [], 'item_name': 'French Fries Small', 'modifications': [], 'quantity': 1, 'special_requests': []}, {'item_aliases': [], 'item_name': 'Small Coca-Cola', 'modifications': [], 'quantity': 1, 'special_requests': []}], 'name': 'Homestyle Ranch Chicken Club Combo'}, {'combo_aliases': ['#13'], 'items': [{'item_aliases': [], 'item_name': 'Grilled Chicken Sandwich', 'modifications': [], 'quantity': 1, 'special_requests': []}, {'item_aliases': [], 'item_name': 'French Fries Small', 'modifications': [], 'quantity': 1, 'special_requests': []}, {'item_aliases': [], 'item_name': 'Small Coca-Cola', 'modifications': [], 'quantity': 1, 'special_requests': []}], 'name': 'Grilled Chicken Sandwich Combo'}, {'combo_aliases': ['#14'], 'items': [{'item_aliases': [], 'item_name': 'Crispy Chicken Strips 3 pc', 'modifications': [], 'quantity': 1, 'special_requests': []}, {'item_aliases': [], 'item_name': 'French Fries Small', 'modifications': [], 'quantity': 1, 'special_requests': []}, {'item_aliases': [], 'item_name': 'Small Coca-Cola', 'modifications': [], 'quantity': 1, 'special_requests': []}], 'name': 'Crispy Chicken Strips Combo'}, {'combo_aliases': ['#15'], 'items': [{'item_aliases': [], 'item_name': 'Chicken Nuggets 4 pc', 'modifications': [], 'quantity': 1, 'special_requests': []}, {'item_aliases': [], 'item_name': 'French Fries Small', 'modifications': [], 'quantity': 1, 'special_requests': []}, {'item_aliases': [], 'item_name': 'Small Coca-Cola', 'modifications': [], 'quantity': 1, 'special_requests': []}], 'name': 'Chicken Nuggets 8 pc Combo'}, {'combo_aliases': ['#16'], 'items': [{'item_aliases': ['Teriyaki Bowl'], 'item_name': 'Chicken Teriyaki Bowl', 'modifications': [], 'quantity': 1, 'special_requests': []}, {'item_aliases': [], 'item_name': 'French Fries Small', 'modifications': [], 'quantity': 1, 'special_requests': []}, {'item_aliases': [], 'item_name': 'Small Coca-Cola', 'modifications': [], 'quantity': 1, 'special_requests': []}], 'name': 'Chicken Teriyaki Bowl Combo'}, {'combo_aliases': ['#17'], 'items': [{'item_aliases': ['Chicken Fijita'], 'item_name': 'Chicken Fajita Pita', 'modifications': [], 'quantity': 1, 'special_requests': []}, {'item_aliases': [], 'item_name': 'French Fries Small', 'modifications': [], 'quantity': 1, 'special_requests': []}, {'item_aliases': [], 'item_name': 'Small Coca-Cola', 'modifications': [], 'quantity': 1, 'special_requests': []}], 'name': 'Chicken Fajita Pita Combo'}]}"
      ],
      "metadata": {
        "id": "YhuT9WL3O_Ha"
      },
      "execution_count": 79,
      "outputs": []
    },
    {
      "cell_type": "code",
      "source": [
        "bigorder_chicken_burgers_combo = {'categories': [{'name': 'Burger', 'items': [{'item_aliases': [], 'item_name': 'Classic Smashed Jack', 'modifications': [], 'quantity': 1, 'special_requests': []}, {'item_aliases': [], 'item_name': 'Ultimate Cheeseburger', 'modifications': [], 'quantity': 1, 'special_requests': []}, {'item_aliases': [], 'item_name': 'Classic Buttery Jack', 'modifications': [], 'quantity': 1, 'special_requests': []}, {'item_aliases': [], 'item_name': 'Jumbo Jack Cheeseburger', 'modifications': [], 'quantity': 1, 'special_requests': []}]}, {'name': 'Chicken', 'items': [{'item_aliases': ['Cluck'], 'item_name': 'Cluck Chicken Sandwich', 'modifications': [], 'quantity': 1, 'special_requests': []}, {'item_aliases': [], 'item_name': 'Homestyle Ranch Chicken Club', 'modifications': [], 'quantity': 1, 'special_requests': []}, {'item_aliases': [], 'item_name': 'Jacks Spicy Chicken with Cheese', 'modifications': [], 'quantity': 1, 'special_requests': []}, {'item_aliases': [], 'item_name': 'Grilled Chicken Sandwich', 'modifications': [], 'quantity': 1, 'special_requests': []}, {'item_aliases': ['Teriyaki Bowl'], 'item_name': 'Chicken Teriyaki Bowl', 'modifications': [], 'quantity': 1, 'special_requests': []}]}, {'name': 'Salad', 'items': [{'item_aliases': [], 'item_name': 'Garden Salad with Grilled Chicken', 'modifications': [], 'quantity': 1, 'special_requests': []}, {'item_aliases': [], 'item_name': 'Southwest Salad with Grilled Chicken', 'modifications': [], 'quantity': 1, 'special_requests': []}]}, {'name': 'Side', 'items': [{'item_aliases': [], 'item_name': 'Classic Grilled Jack Wrap', 'modifications': [], 'quantity': 1, 'special_requests': []}]}], 'combos': [{'combo_aliases': ['#1'], 'items': [{'item_aliases': [], 'item_name': 'Sourdough Jack', 'modifications': [], 'quantity': 1, 'special_requests': []}, {'item_aliases': [], 'item_name': 'French Fries Small', 'modifications': [], 'quantity': 1, 'special_requests': []}, {'item_aliases': [], 'item_name': 'Large Sprite', 'modifications': [], 'quantity': 1, 'special_requests': []}], 'name': 'Sourdough Jack Combo'}]}"
      ],
      "metadata": {
        "id": "YvCtADON_VSB"
      },
      "execution_count": 78,
      "outputs": []
    },
    {
      "cell_type": "code",
      "source": [
        "bo_1 = bigorder_salad_combos\n",
        "bo_2 = bigorder_chicken_burgers_combo"
      ],
      "metadata": {
        "id": "LdQPN5dO_gdu"
      },
      "execution_count": 80,
      "outputs": []
    },
    {
      "cell_type": "markdown",
      "source": [
        "### bigorder_copy"
      ],
      "metadata": {
        "id": "S-UJJHkB1CtB"
      }
    },
    {
      "cell_type": "code",
      "source": [
        "bigorder_copy = {\n",
        "   \"categories\":[\n",
        "      {\n",
        "         \"name\":\"Salad\",\n",
        "         \"items\":[\n",
        "            {\n",
        "               \"item_aliases\":[\n",
        "\n",
        "               ],\n",
        "               \"item_name\":\"Garden Salad with Grilled Chicken\",\n",
        "               \"modifications\":[\n",
        "\n",
        "               ],\n",
        "               \"quantity\":1,\n",
        "               \"special_requests\":[\n",
        "\n",
        "               ]\n",
        "            },\n",
        "            {\n",
        "               \"item_aliases\":[\n",
        "\n",
        "               ],\n",
        "               \"item_name\":\"Southwest Salad with Crispy Chicken\",\n",
        "               \"modifications\":[\n",
        "\n",
        "               ],\n",
        "               \"quantity\":1,\n",
        "               \"special_requests\":[\n",
        "\n",
        "               ]\n",
        "            }\n",
        "         ]\n",
        "      }\n",
        "   ],\n",
        "   \"combos\":[\n",
        "      {\n",
        "         \"combo_aliases\":[\n",
        "\n",
        "         ],\n",
        "         \"items\":[\n",
        "            {\n",
        "               \"item_aliases\":[\n",
        "\n",
        "               ],\n",
        "               \"item_name\":\"Jacks Spicy Chicken with Cheese\",\n",
        "               \"modifications\":[\n",
        "\n",
        "               ],\n",
        "               \"quantity\":1,\n",
        "               \"special_requests\":[\n",
        "\n",
        "               ]\n",
        "            },\n",
        "            {\n",
        "               \"item_aliases\":[\n",
        "\n",
        "               ],\n",
        "               \"item_name\":\"French Fries Small\",\n",
        "               \"modifications\":[\n",
        "\n",
        "               ],\n",
        "               \"quantity\":1,\n",
        "               \"special_requests\":[\n",
        "\n",
        "               ]\n",
        "            },\n",
        "            {\n",
        "               \"item_aliases\":[\n",
        "\n",
        "               ],\n",
        "               \"item_name\":\"Small Coca-Cola\",\n",
        "               \"modifications\":[\n",
        "\n",
        "               ],\n",
        "               \"quantity\":1,\n",
        "               \"special_requests\":[\n",
        "\n",
        "               ]\n",
        "            }\n",
        "         ],\n",
        "         \"name\":\"Jacks Spicy Chicken with Cheese Combo\"\n",
        "      },\n",
        "      {\n",
        "         \"combo_aliases\":[\n",
        "            \"#11\"\n",
        "         ],\n",
        "         \"items\":[\n",
        "            {\n",
        "               \"item_aliases\":[\n",
        "\n",
        "               ],\n",
        "               \"item_name\":\"Homestyle Ranch Chicken Club\",\n",
        "               \"modifications\":[\n",
        "\n",
        "               ],\n",
        "               \"quantity\":1,\n",
        "               \"special_requests\":[\n",
        "\n",
        "               ]\n",
        "            },\n",
        "            {\n",
        "               \"item_aliases\":[\n",
        "\n",
        "               ],\n",
        "               \"item_name\":\"French Fries Small\",\n",
        "               \"modifications\":[\n",
        "\n",
        "               ],\n",
        "               \"quantity\":1,\n",
        "               \"special_requests\":[\n",
        "\n",
        "               ]\n",
        "            },\n",
        "            {\n",
        "               \"item_aliases\":[\n",
        "\n",
        "               ],\n",
        "               \"item_name\":\"Small Coca-Cola\",\n",
        "               \"modifications\":[\n",
        "\n",
        "               ],\n",
        "               \"quantity\":1,\n",
        "               \"special_requests\":[\n",
        "\n",
        "               ]\n",
        "            }\n",
        "         ],\n",
        "         \"name\":\"Homestyle Ranch Chicken Club Combo\"\n",
        "      },\n",
        "      {\n",
        "         \"combo_aliases\":[\n",
        "            \"#13\"\n",
        "         ],\n",
        "         \"items\":[\n",
        "            {\n",
        "               \"item_aliases\":[\n",
        "\n",
        "               ],\n",
        "               \"item_name\":\"Grilled Chicken Sandwich\",\n",
        "               \"modifications\":[\n",
        "\n",
        "               ],\n",
        "               \"quantity\":1,\n",
        "               \"special_requests\":[\n",
        "\n",
        "               ]\n",
        "            },\n",
        "            {\n",
        "               \"item_aliases\":[\n",
        "\n",
        "               ],\n",
        "               \"item_name\":\"French Fries Small\",\n",
        "               \"modifications\":[\n",
        "\n",
        "               ],\n",
        "               \"quantity\":1,\n",
        "               \"special_requests\":[\n",
        "\n",
        "               ]\n",
        "            },\n",
        "            {\n",
        "               \"item_aliases\":[\n",
        "\n",
        "               ],\n",
        "               \"item_name\":\"Small Coca-Cola\",\n",
        "               \"modifications\":[\n",
        "\n",
        "               ],\n",
        "               \"quantity\":1,\n",
        "               \"special_requests\":[\n",
        "\n",
        "               ]\n",
        "            }\n",
        "         ],\n",
        "         \"name\":\"Grilled Chicken Sandwich Combo\"\n",
        "      },\n",
        "      {\n",
        "         \"combo_aliases\":[\n",
        "            \"#14\"\n",
        "         ],\n",
        "         \"items\":[\n",
        "            {\n",
        "               \"item_aliases\":[\n",
        "\n",
        "               ],\n",
        "               \"item_name\":\"Crispy Chicken Strips 3 pc\",\n",
        "               \"modifications\":[\n",
        "\n",
        "               ],\n",
        "               \"quantity\":1,\n",
        "               \"special_requests\":[\n",
        "\n",
        "               ]\n",
        "            },\n",
        "            {\n",
        "               \"item_aliases\":[\n",
        "\n",
        "               ],\n",
        "               \"item_name\":\"French Fries Small\",\n",
        "               \"modifications\":[\n",
        "\n",
        "               ],\n",
        "               \"quantity\":1,\n",
        "               \"special_requests\":[\n",
        "\n",
        "               ]\n",
        "            },\n",
        "            {\n",
        "               \"item_aliases\":[\n",
        "\n",
        "               ],\n",
        "               \"item_name\":\"Small Coca-Cola\",\n",
        "               \"modifications\":[\n",
        "\n",
        "               ],\n",
        "               \"quantity\":1,\n",
        "               \"special_requests\":[\n",
        "\n",
        "               ]\n",
        "            }\n",
        "         ],\n",
        "         \"name\":\"Crispy Chicken Strips Combo\"\n",
        "      },\n",
        "      {\n",
        "         \"combo_aliases\":[\n",
        "            \"#15\"\n",
        "         ],\n",
        "         \"items\":[\n",
        "            {\n",
        "               \"item_aliases\":[\n",
        "\n",
        "               ],\n",
        "               \"item_name\":\"Chicken Nuggets 4 pc\",\n",
        "               \"modifications\":[\n",
        "\n",
        "               ],\n",
        "               \"quantity\":1,\n",
        "               \"special_requests\":[\n",
        "\n",
        "               ]\n",
        "            },\n",
        "            {\n",
        "               \"item_aliases\":[\n",
        "\n",
        "               ],\n",
        "               \"item_name\":\"French Fries Small\",\n",
        "               \"modifications\":[\n",
        "\n",
        "               ],\n",
        "               \"quantity\":1,\n",
        "               \"special_requests\":[\n",
        "\n",
        "               ]\n",
        "            },\n",
        "            {\n",
        "               \"item_aliases\":[\n",
        "\n",
        "               ],\n",
        "               \"item_name\":\"Small Coca-Cola\",\n",
        "               \"modifications\":[\n",
        "\n",
        "               ],\n",
        "               \"quantity\":1,\n",
        "               \"special_requests\":[\n",
        "\n",
        "               ]\n",
        "            }\n",
        "         ],\n",
        "         \"name\":\"Chicken Nuggets 8 pc Combo\"\n",
        "      },\n",
        "      {\n",
        "         \"combo_aliases\":[\n",
        "            \"#16\"\n",
        "         ],\n",
        "         \"items\":[\n",
        "            {\n",
        "               \"item_aliases\":[\n",
        "                  \"Teriyaki Bowl\"\n",
        "               ],\n",
        "               \"item_name\":\"Chicken Teriyaki Bowl\",\n",
        "               \"modifications\":[\n",
        "\n",
        "               ],\n",
        "               \"quantity\":1,\n",
        "               \"special_requests\":[\n",
        "\n",
        "               ]\n",
        "            },\n",
        "            {\n",
        "               \"item_aliases\":[\n",
        "\n",
        "               ],\n",
        "               \"item_name\":\"French Fries Small\",\n",
        "               \"modifications\":[\n",
        "\n",
        "               ],\n",
        "               \"quantity\":1,\n",
        "               \"special_requests\":[\n",
        "\n",
        "               ]\n",
        "            },\n",
        "            {\n",
        "               \"item_aliases\":[\n",
        "\n",
        "               ],\n",
        "               \"item_name\":\"Small Coca-Cola\",\n",
        "               \"modifications\":[\n",
        "\n",
        "               ],\n",
        "               \"quantity\":1,\n",
        "               \"special_requests\":[\n",
        "\n",
        "               ]\n",
        "            }\n",
        "         ],\n",
        "         \"name\":\"Chicken Teriyaki Bowl Combo\"\n",
        "      },\n",
        "      {\n",
        "         \"combo_aliases\":[\n",
        "            \"#17\"\n",
        "         ],\n",
        "         \"items\":[\n",
        "            {\n",
        "               \"item_aliases\":[\n",
        "                  \"Chicken Fijita\"\n",
        "               ],\n",
        "               \"item_name\":\"Chicken Fajita Pita\",\n",
        "               \"modifications\":[\n",
        "\n",
        "               ],\n",
        "               \"quantity\":1,\n",
        "               \"special_requests\":[\n",
        "\n",
        "               ]\n",
        "            },\n",
        "            {\n",
        "               \"item_aliases\":[\n",
        "\n",
        "               ],\n",
        "               \"item_name\":\"French Fries Small\",\n",
        "               \"modifications\":[\n",
        "\n",
        "               ],\n",
        "               \"quantity\":1,\n",
        "               \"special_requests\":[\n",
        "\n",
        "               ]\n",
        "            },\n",
        "            {\n",
        "               \"item_aliases\":[\n",
        "\n",
        "               ],\n",
        "               \"item_name\":\"Small Coca-Cola\",\n",
        "               \"modifications\":[\n",
        "\n",
        "               ],\n",
        "               \"quantity\":1,\n",
        "               \"special_requests\":[\n",
        "\n",
        "               ]\n",
        "            }\n",
        "         ],\n",
        "         \"name\":\"Chicken Fajita Pita Combo\"\n",
        "      }\n",
        "   ]\n",
        "}"
      ],
      "metadata": {
        "id": "cHQTHDF3O_Ef"
      },
      "execution_count": 66,
      "outputs": []
    },
    {
      "cell_type": "markdown",
      "source": [
        "### begin testing with bigorder_copy and jmespath"
      ],
      "metadata": {
        "id": "rkBG9fcL2m9D"
      }
    },
    {
      "cell_type": "code",
      "source": [
        "jmespath.search(\"categories[].name\",bigorder_copy)"
      ],
      "metadata": {
        "colab": {
          "base_uri": "https://localhost:8080/"
        },
        "id": "QFmjSmGr2awy",
        "outputId": "b4b4cc95-e50f-48de-8faf-27b3898e5e39"
      },
      "execution_count": 75,
      "outputs": [
        {
          "output_type": "execute_result",
          "data": {
            "text/plain": [
              "['Salad']"
            ]
          },
          "metadata": {},
          "execution_count": 75
        }
      ]
    },
    {
      "cell_type": "code",
      "source": [
        "jmespath.search(\"combos[].name\",bigorder_copy)"
      ],
      "metadata": {
        "colab": {
          "base_uri": "https://localhost:8080/"
        },
        "id": "SNS3xb0s7HLd",
        "outputId": "ba2176ee-84cf-4af6-ba70-cc9cb7db826f"
      },
      "execution_count": 76,
      "outputs": [
        {
          "output_type": "execute_result",
          "data": {
            "text/plain": [
              "['Jacks Spicy Chicken with Cheese Combo',\n",
              " 'Homestyle Ranch Chicken Club Combo',\n",
              " 'Grilled Chicken Sandwich Combo',\n",
              " 'Crispy Chicken Strips Combo',\n",
              " 'Chicken Nuggets 8 pc Combo',\n",
              " 'Chicken Teriyaki Bowl Combo',\n",
              " 'Chicken Fajita Pita Combo']"
            ]
          },
          "metadata": {},
          "execution_count": 76
        }
      ]
    },
    {
      "cell_type": "code",
      "source": [
        "jmespath.search(\"combos[]\",bigorder_copy)"
      ],
      "metadata": {
        "colab": {
          "base_uri": "https://localhost:8080/"
        },
        "id": "rH30c0X17HHR",
        "outputId": "e3921ed3-8927-429f-a54f-351838394978"
      },
      "execution_count": 77,
      "outputs": [
        {
          "output_type": "execute_result",
          "data": {
            "text/plain": [
              "[{'combo_aliases': [],\n",
              "  'items': [{'item_aliases': [],\n",
              "    'item_name': 'Jacks Spicy Chicken with Cheese',\n",
              "    'modifications': [],\n",
              "    'quantity': 1,\n",
              "    'special_requests': []},\n",
              "   {'item_aliases': [],\n",
              "    'item_name': 'French Fries Small',\n",
              "    'modifications': [],\n",
              "    'quantity': 1,\n",
              "    'special_requests': []},\n",
              "   {'item_aliases': [],\n",
              "    'item_name': 'Small Coca-Cola',\n",
              "    'modifications': [],\n",
              "    'quantity': 1,\n",
              "    'special_requests': []}],\n",
              "  'name': 'Jacks Spicy Chicken with Cheese Combo'},\n",
              " {'combo_aliases': ['#11'],\n",
              "  'items': [{'item_aliases': [],\n",
              "    'item_name': 'Homestyle Ranch Chicken Club',\n",
              "    'modifications': [],\n",
              "    'quantity': 1,\n",
              "    'special_requests': []},\n",
              "   {'item_aliases': [],\n",
              "    'item_name': 'French Fries Small',\n",
              "    'modifications': [],\n",
              "    'quantity': 1,\n",
              "    'special_requests': []},\n",
              "   {'item_aliases': [],\n",
              "    'item_name': 'Small Coca-Cola',\n",
              "    'modifications': [],\n",
              "    'quantity': 1,\n",
              "    'special_requests': []}],\n",
              "  'name': 'Homestyle Ranch Chicken Club Combo'},\n",
              " {'combo_aliases': ['#13'],\n",
              "  'items': [{'item_aliases': [],\n",
              "    'item_name': 'Grilled Chicken Sandwich',\n",
              "    'modifications': [],\n",
              "    'quantity': 1,\n",
              "    'special_requests': []},\n",
              "   {'item_aliases': [],\n",
              "    'item_name': 'French Fries Small',\n",
              "    'modifications': [],\n",
              "    'quantity': 1,\n",
              "    'special_requests': []},\n",
              "   {'item_aliases': [],\n",
              "    'item_name': 'Small Coca-Cola',\n",
              "    'modifications': [],\n",
              "    'quantity': 1,\n",
              "    'special_requests': []}],\n",
              "  'name': 'Grilled Chicken Sandwich Combo'},\n",
              " {'combo_aliases': ['#14'],\n",
              "  'items': [{'item_aliases': [],\n",
              "    'item_name': 'Crispy Chicken Strips 3 pc',\n",
              "    'modifications': [],\n",
              "    'quantity': 1,\n",
              "    'special_requests': []},\n",
              "   {'item_aliases': [],\n",
              "    'item_name': 'French Fries Small',\n",
              "    'modifications': [],\n",
              "    'quantity': 1,\n",
              "    'special_requests': []},\n",
              "   {'item_aliases': [],\n",
              "    'item_name': 'Small Coca-Cola',\n",
              "    'modifications': [],\n",
              "    'quantity': 1,\n",
              "    'special_requests': []}],\n",
              "  'name': 'Crispy Chicken Strips Combo'},\n",
              " {'combo_aliases': ['#15'],\n",
              "  'items': [{'item_aliases': [],\n",
              "    'item_name': 'Chicken Nuggets 4 pc',\n",
              "    'modifications': [],\n",
              "    'quantity': 1,\n",
              "    'special_requests': []},\n",
              "   {'item_aliases': [],\n",
              "    'item_name': 'French Fries Small',\n",
              "    'modifications': [],\n",
              "    'quantity': 1,\n",
              "    'special_requests': []},\n",
              "   {'item_aliases': [],\n",
              "    'item_name': 'Small Coca-Cola',\n",
              "    'modifications': [],\n",
              "    'quantity': 1,\n",
              "    'special_requests': []}],\n",
              "  'name': 'Chicken Nuggets 8 pc Combo'},\n",
              " {'combo_aliases': ['#16'],\n",
              "  'items': [{'item_aliases': ['Teriyaki Bowl'],\n",
              "    'item_name': 'Chicken Teriyaki Bowl',\n",
              "    'modifications': [],\n",
              "    'quantity': 1,\n",
              "    'special_requests': []},\n",
              "   {'item_aliases': [],\n",
              "    'item_name': 'French Fries Small',\n",
              "    'modifications': [],\n",
              "    'quantity': 1,\n",
              "    'special_requests': []},\n",
              "   {'item_aliases': [],\n",
              "    'item_name': 'Small Coca-Cola',\n",
              "    'modifications': [],\n",
              "    'quantity': 1,\n",
              "    'special_requests': []}],\n",
              "  'name': 'Chicken Teriyaki Bowl Combo'},\n",
              " {'combo_aliases': ['#17'],\n",
              "  'items': [{'item_aliases': ['Chicken Fijita'],\n",
              "    'item_name': 'Chicken Fajita Pita',\n",
              "    'modifications': [],\n",
              "    'quantity': 1,\n",
              "    'special_requests': []},\n",
              "   {'item_aliases': [],\n",
              "    'item_name': 'French Fries Small',\n",
              "    'modifications': [],\n",
              "    'quantity': 1,\n",
              "    'special_requests': []},\n",
              "   {'item_aliases': [],\n",
              "    'item_name': 'Small Coca-Cola',\n",
              "    'modifications': [],\n",
              "    'quantity': 1,\n",
              "    'special_requests': []}],\n",
              "  'name': 'Chicken Fajita Pita Combo'}]"
            ]
          },
          "metadata": {},
          "execution_count": 77
        }
      ]
    },
    {
      "cell_type": "code",
      "source": [],
      "metadata": {
        "id": "UPBKvJ1n7HEE"
      },
      "execution_count": null,
      "outputs": []
    },
    {
      "cell_type": "code",
      "source": [
        "jmespath.search(\"categories[].name\",bo_1)"
      ],
      "metadata": {
        "colab": {
          "base_uri": "https://localhost:8080/"
        },
        "id": "djwq_L1q7G9O",
        "outputId": "63653147-350b-4c37-bd2d-a51043929d87"
      },
      "execution_count": 82,
      "outputs": [
        {
          "output_type": "execute_result",
          "data": {
            "text/plain": [
              "['Salad']"
            ]
          },
          "metadata": {},
          "execution_count": 82
        }
      ]
    },
    {
      "cell_type": "code",
      "source": [
        "jmespath.search(\"categories[].name\",bo_2)"
      ],
      "metadata": {
        "colab": {
          "base_uri": "https://localhost:8080/"
        },
        "id": "qTPbuxnv_qDR",
        "outputId": "c9db7062-0c1e-4087-c328-e1abe7d6284c"
      },
      "execution_count": 88,
      "outputs": [
        {
          "output_type": "execute_result",
          "data": {
            "text/plain": [
              "['Burger', 'Chicken', 'Salad', 'Side']"
            ]
          },
          "metadata": {},
          "execution_count": 88
        }
      ]
    },
    {
      "cell_type": "code",
      "source": [
        "jmespath.search(\"categories[]\",bo_1)"
      ],
      "metadata": {
        "colab": {
          "base_uri": "https://localhost:8080/"
        },
        "id": "Pi7kVju4_qIq",
        "outputId": "77f996a3-ecb7-43bc-92a1-465f3736aa03"
      },
      "execution_count": 89,
      "outputs": [
        {
          "output_type": "execute_result",
          "data": {
            "text/plain": [
              "[{'name': 'Salad',\n",
              "  'items': [{'item_aliases': [],\n",
              "    'item_name': 'Garden Salad with Grilled Chicken',\n",
              "    'modifications': [],\n",
              "    'quantity': 1,\n",
              "    'special_requests': []},\n",
              "   {'item_aliases': [],\n",
              "    'item_name': 'Southwest Salad with Crispy Chicken',\n",
              "    'modifications': [],\n",
              "    'quantity': 1,\n",
              "    'special_requests': []}]}]"
            ]
          },
          "metadata": {},
          "execution_count": 89
        }
      ]
    },
    {
      "cell_type": "code",
      "source": [
        "jmespath.search(\"categories[]\",bo_2)"
      ],
      "metadata": {
        "colab": {
          "base_uri": "https://localhost:8080/"
        },
        "id": "_CknRzjDAjF4",
        "outputId": "7de07e4d-5272-4784-9e6b-953d4a98f9cc"
      },
      "execution_count": 90,
      "outputs": [
        {
          "output_type": "execute_result",
          "data": {
            "text/plain": [
              "[{'name': 'Burger',\n",
              "  'items': [{'item_aliases': [],\n",
              "    'item_name': 'Classic Smashed Jack',\n",
              "    'modifications': [],\n",
              "    'quantity': 1,\n",
              "    'special_requests': []},\n",
              "   {'item_aliases': [],\n",
              "    'item_name': 'Ultimate Cheeseburger',\n",
              "    'modifications': [],\n",
              "    'quantity': 1,\n",
              "    'special_requests': []},\n",
              "   {'item_aliases': [],\n",
              "    'item_name': 'Classic Buttery Jack',\n",
              "    'modifications': [],\n",
              "    'quantity': 1,\n",
              "    'special_requests': []},\n",
              "   {'item_aliases': [],\n",
              "    'item_name': 'Jumbo Jack Cheeseburger',\n",
              "    'modifications': [],\n",
              "    'quantity': 1,\n",
              "    'special_requests': []}]},\n",
              " {'name': 'Chicken',\n",
              "  'items': [{'item_aliases': ['Cluck'],\n",
              "    'item_name': 'Cluck Chicken Sandwich',\n",
              "    'modifications': [],\n",
              "    'quantity': 1,\n",
              "    'special_requests': []},\n",
              "   {'item_aliases': [],\n",
              "    'item_name': 'Homestyle Ranch Chicken Club',\n",
              "    'modifications': [],\n",
              "    'quantity': 1,\n",
              "    'special_requests': []},\n",
              "   {'item_aliases': [],\n",
              "    'item_name': 'Jacks Spicy Chicken with Cheese',\n",
              "    'modifications': [],\n",
              "    'quantity': 1,\n",
              "    'special_requests': []},\n",
              "   {'item_aliases': [],\n",
              "    'item_name': 'Grilled Chicken Sandwich',\n",
              "    'modifications': [],\n",
              "    'quantity': 1,\n",
              "    'special_requests': []},\n",
              "   {'item_aliases': ['Teriyaki Bowl'],\n",
              "    'item_name': 'Chicken Teriyaki Bowl',\n",
              "    'modifications': [],\n",
              "    'quantity': 1,\n",
              "    'special_requests': []}]},\n",
              " {'name': 'Salad',\n",
              "  'items': [{'item_aliases': [],\n",
              "    'item_name': 'Garden Salad with Grilled Chicken',\n",
              "    'modifications': [],\n",
              "    'quantity': 1,\n",
              "    'special_requests': []},\n",
              "   {'item_aliases': [],\n",
              "    'item_name': 'Southwest Salad with Grilled Chicken',\n",
              "    'modifications': [],\n",
              "    'quantity': 1,\n",
              "    'special_requests': []}]},\n",
              " {'name': 'Side',\n",
              "  'items': [{'item_aliases': [],\n",
              "    'item_name': 'Classic Grilled Jack Wrap',\n",
              "    'modifications': [],\n",
              "    'quantity': 1,\n",
              "    'special_requests': []}]}]"
            ]
          },
          "metadata": {},
          "execution_count": 90
        }
      ]
    },
    {
      "cell_type": "code",
      "source": [
        "jmespath.search(\"combos[]\",bo_1)"
      ],
      "metadata": {
        "colab": {
          "base_uri": "https://localhost:8080/"
        },
        "id": "lOkqLrXr_qMX",
        "outputId": "782faa55-a604-4927-fe15-26c1f3b07b7a"
      },
      "execution_count": 84,
      "outputs": [
        {
          "output_type": "execute_result",
          "data": {
            "text/plain": [
              "[{'combo_aliases': [],\n",
              "  'items': [{'item_aliases': [],\n",
              "    'item_name': 'Jacks Spicy Chicken with Cheese',\n",
              "    'modifications': [],\n",
              "    'quantity': 1,\n",
              "    'special_requests': []},\n",
              "   {'item_aliases': [],\n",
              "    'item_name': 'French Fries Small',\n",
              "    'modifications': [],\n",
              "    'quantity': 1,\n",
              "    'special_requests': []},\n",
              "   {'item_aliases': [],\n",
              "    'item_name': 'Small Coca-Cola',\n",
              "    'modifications': [],\n",
              "    'quantity': 1,\n",
              "    'special_requests': []}],\n",
              "  'name': 'Jacks Spicy Chicken with Cheese Combo'},\n",
              " {'combo_aliases': ['#11'],\n",
              "  'items': [{'item_aliases': [],\n",
              "    'item_name': 'Homestyle Ranch Chicken Club',\n",
              "    'modifications': [],\n",
              "    'quantity': 1,\n",
              "    'special_requests': []},\n",
              "   {'item_aliases': [],\n",
              "    'item_name': 'French Fries Small',\n",
              "    'modifications': [],\n",
              "    'quantity': 1,\n",
              "    'special_requests': []},\n",
              "   {'item_aliases': [],\n",
              "    'item_name': 'Small Coca-Cola',\n",
              "    'modifications': [],\n",
              "    'quantity': 1,\n",
              "    'special_requests': []}],\n",
              "  'name': 'Homestyle Ranch Chicken Club Combo'},\n",
              " {'combo_aliases': ['#13'],\n",
              "  'items': [{'item_aliases': [],\n",
              "    'item_name': 'Grilled Chicken Sandwich',\n",
              "    'modifications': [],\n",
              "    'quantity': 1,\n",
              "    'special_requests': []},\n",
              "   {'item_aliases': [],\n",
              "    'item_name': 'French Fries Small',\n",
              "    'modifications': [],\n",
              "    'quantity': 1,\n",
              "    'special_requests': []},\n",
              "   {'item_aliases': [],\n",
              "    'item_name': 'Small Coca-Cola',\n",
              "    'modifications': [],\n",
              "    'quantity': 1,\n",
              "    'special_requests': []}],\n",
              "  'name': 'Grilled Chicken Sandwich Combo'},\n",
              " {'combo_aliases': ['#14'],\n",
              "  'items': [{'item_aliases': [],\n",
              "    'item_name': 'Crispy Chicken Strips 3 pc',\n",
              "    'modifications': [],\n",
              "    'quantity': 1,\n",
              "    'special_requests': []},\n",
              "   {'item_aliases': [],\n",
              "    'item_name': 'French Fries Small',\n",
              "    'modifications': [],\n",
              "    'quantity': 1,\n",
              "    'special_requests': []},\n",
              "   {'item_aliases': [],\n",
              "    'item_name': 'Small Coca-Cola',\n",
              "    'modifications': [],\n",
              "    'quantity': 1,\n",
              "    'special_requests': []}],\n",
              "  'name': 'Crispy Chicken Strips Combo'},\n",
              " {'combo_aliases': ['#15'],\n",
              "  'items': [{'item_aliases': [],\n",
              "    'item_name': 'Chicken Nuggets 4 pc',\n",
              "    'modifications': [],\n",
              "    'quantity': 1,\n",
              "    'special_requests': []},\n",
              "   {'item_aliases': [],\n",
              "    'item_name': 'French Fries Small',\n",
              "    'modifications': [],\n",
              "    'quantity': 1,\n",
              "    'special_requests': []},\n",
              "   {'item_aliases': [],\n",
              "    'item_name': 'Small Coca-Cola',\n",
              "    'modifications': [],\n",
              "    'quantity': 1,\n",
              "    'special_requests': []}],\n",
              "  'name': 'Chicken Nuggets 8 pc Combo'},\n",
              " {'combo_aliases': ['#16'],\n",
              "  'items': [{'item_aliases': ['Teriyaki Bowl'],\n",
              "    'item_name': 'Chicken Teriyaki Bowl',\n",
              "    'modifications': [],\n",
              "    'quantity': 1,\n",
              "    'special_requests': []},\n",
              "   {'item_aliases': [],\n",
              "    'item_name': 'French Fries Small',\n",
              "    'modifications': [],\n",
              "    'quantity': 1,\n",
              "    'special_requests': []},\n",
              "   {'item_aliases': [],\n",
              "    'item_name': 'Small Coca-Cola',\n",
              "    'modifications': [],\n",
              "    'quantity': 1,\n",
              "    'special_requests': []}],\n",
              "  'name': 'Chicken Teriyaki Bowl Combo'},\n",
              " {'combo_aliases': ['#17'],\n",
              "  'items': [{'item_aliases': ['Chicken Fijita'],\n",
              "    'item_name': 'Chicken Fajita Pita',\n",
              "    'modifications': [],\n",
              "    'quantity': 1,\n",
              "    'special_requests': []},\n",
              "   {'item_aliases': [],\n",
              "    'item_name': 'French Fries Small',\n",
              "    'modifications': [],\n",
              "    'quantity': 1,\n",
              "    'special_requests': []},\n",
              "   {'item_aliases': [],\n",
              "    'item_name': 'Small Coca-Cola',\n",
              "    'modifications': [],\n",
              "    'quantity': 1,\n",
              "    'special_requests': []}],\n",
              "  'name': 'Chicken Fajita Pita Combo'}]"
            ]
          },
          "metadata": {},
          "execution_count": 84
        }
      ]
    },
    {
      "cell_type": "code",
      "source": [
        "jmespath.search(\"combos[]\",bo_2)"
      ],
      "metadata": {
        "colab": {
          "base_uri": "https://localhost:8080/"
        },
        "id": "sWs459bD_p9k",
        "outputId": "160f4c1d-f265-4e7e-a5d2-a471d80acb36"
      },
      "execution_count": 87,
      "outputs": [
        {
          "output_type": "execute_result",
          "data": {
            "text/plain": [
              "[{'combo_aliases': ['#1'],\n",
              "  'items': [{'item_aliases': [],\n",
              "    'item_name': 'Sourdough Jack',\n",
              "    'modifications': [],\n",
              "    'quantity': 1,\n",
              "    'special_requests': []},\n",
              "   {'item_aliases': [],\n",
              "    'item_name': 'French Fries Small',\n",
              "    'modifications': [],\n",
              "    'quantity': 1,\n",
              "    'special_requests': []},\n",
              "   {'item_aliases': [],\n",
              "    'item_name': 'Large Sprite',\n",
              "    'modifications': [],\n",
              "    'quantity': 1,\n",
              "    'special_requests': []}],\n",
              "  'name': 'Sourdough Jack Combo'}]"
            ]
          },
          "metadata": {},
          "execution_count": 87
        }
      ]
    },
    {
      "cell_type": "code",
      "source": [],
      "metadata": {
        "id": "TxxFq0E2_p6P"
      },
      "execution_count": null,
      "outputs": []
    },
    {
      "cell_type": "markdown",
      "source": [
        "### Begin testing with bigorder_copy and newstruct"
      ],
      "metadata": {
        "id": "NvoP-krb1JoN"
      }
    },
    {
      "cell_type": "code",
      "source": [
        "big = NewStruct(**bigorder_copy) #fail"
      ],
      "metadata": {
        "id": "jIO7gYUlO_BX"
      },
      "execution_count": 67,
      "outputs": []
    },
    {
      "cell_type": "code",
      "source": [
        "big.as_json()"
      ],
      "metadata": {
        "colab": {
          "base_uri": "https://localhost:8080/",
          "height": 144
        },
        "id": "zQcWomQHO--O",
        "outputId": "390bec8f-c37a-41c2-d400-eff7bb9c4591"
      },
      "execution_count": 68,
      "outputs": [
        {
          "output_type": "execute_result",
          "data": {
            "text/plain": [
              "'{\"categories\": [{\"name\": \"Salad\", \"items\": [{\"item_aliases\": [], \"item_name\": \"Garden Salad with Grilled Chicken\", \"modifications\": [], \"quantity\": 1, \"special_requests\": []}, {\"item_aliases\": [], \"item_name\": \"Southwest Salad with Crispy Chicken\", \"modifications\": [], \"quantity\": 1, \"special_requests\": []}]}], \"combos\": [{\"combo_aliases\": [], \"items\": [{\"item_aliases\": [], \"item_name\": \"Jacks Spicy Chicken with Cheese\", \"modifications\": [], \"quantity\": 1, \"special_requests\": []}, {\"item_aliases\": [], \"item_name\": \"French Fries Small\", \"modifications\": [], \"quantity\": 1, \"special_requests\": []}, {\"item_aliases\": [], \"item_name\": \"Small Coca-Cola\", \"modifications\": [], \"quantity\": 1, \"special_requests\": []}], \"name\": \"Jacks Spicy Chicken with Cheese Combo\"}, {\"combo_aliases\": [\"#11\"], \"items\": [{\"item_aliases\": [], \"item_name\": \"Homestyle Ranch Chicken Club\", \"modifications\": [], \"quantity\": 1, \"special_requests\": []}, {\"item_aliases\": [], \"item_name\": \"French Fries Small\", \"modifications\": [], \"quantity\": 1, \"special_requests\": []}, {\"item_aliases\": [], \"item_name\": \"Small Coca-Cola\", \"modifications\": [], \"quantity\": 1, \"special_requests\": []}], \"name\": \"Homestyle Ranch Chicken Club Combo\"}, {\"combo_aliases\": [\"#13\"], \"items\": [{\"item_aliases\": [], \"item_name\": \"Grilled Chicken Sandwich\", \"modifications\": [], \"quantity\": 1, \"special_requests\": []}, {\"item_aliases\": [], \"item_name\": \"French Fries Small\", \"modifications\": [], \"quantity\": 1, \"special_requests\": []}, {\"item_aliases\": [], \"item_name\": \"Small Coca-Cola\", \"modifications\": [], \"quantity\": 1, \"special_requests\": []}], \"name\": \"Grilled Chicken Sandwich Combo\"}, {\"combo_aliases\": [\"#14\"], \"items\": [{\"item_aliases\": [], \"item_name\": \"Crispy Chicken Strips 3 pc\", \"modifications\": [], \"quantity\": 1, \"special_requests\": []}, {\"item_aliases\": [], \"item_name\": \"French Fries Small\", \"modifications\": [], \"quantity\": 1, \"special_requests\": []}, {\"item_aliases\": [], \"item_name\": \"Small Coca-Cola\", \"modifications\": [], \"quantity\": 1, \"special_requests\": []}], \"name\": \"Crispy Chicken Strips Combo\"}, {\"combo_aliases\": [\"#15\"], \"items\": [{\"item_aliases\": [], \"item_name\": \"Chicken Nuggets 4 pc\", \"modifications\": [], \"quantity\": 1, \"special_requests\": []}, {\"item_aliases\": [], \"item_name\": \"French Fries Small\", \"modifications\": [], \"quantity\": 1, \"special_requests\": []}, {\"item_aliases\": [], \"item_name\": \"Small Coca-Cola\", \"modifications\": [], \"quantity\": 1, \"special_requests\": []}], \"name\": \"Chicken Nuggets 8 pc Combo\"}, {\"combo_aliases\": [\"#16\"], \"items\": [{\"item_aliases\": [\"Teriyaki Bowl\"], \"item_name\": \"Chicken Teriyaki Bowl\", \"modifications\": [], \"quantity\": 1, \"special_requests\": []}, {\"item_aliases\": [], \"item_name\": \"French Fries Small\", \"modifications\": [], \"quantity\": 1, \"special_requests\": []}, {\"item_aliases\": [], \"item_name\": \"Small Coca-Cola\", \"modifications\": [], \"quantity\": 1, \"special_requests\": []}], \"name\": \"Chicken Teriyaki Bowl Combo\"}, {\"combo_aliases\": [\"#17\"], \"items\": [{\"item_aliases\": [\"Chicken Fijita\"], \"item_name\": \"Chicken Fajita Pita\", \"modifications\": [], \"quantity\": 1, \"special_requests\": []}, {\"item_aliases\": [], \"item_name\": \"French Fries Small\", \"modifications\": [], \"quantity\": 1, \"special_requests\": []}, {\"item_aliases\": [], \"item_name\": \"Small Coca-Cola\", \"modifications\": [], \"quantity\": 1, \"special_requests\": []}], \"name\": \"Chicken Fajita Pita Combo\"}]}'"
            ],
            "application/vnd.google.colaboratory.intrinsic+json": {
              "type": "string"
            }
          },
          "metadata": {},
          "execution_count": 68
        }
      ]
    },
    {
      "cell_type": "code",
      "source": [
        "big.categories"
      ],
      "metadata": {
        "colab": {
          "base_uri": "https://localhost:8080/"
        },
        "id": "8p6RI2KXO-4A",
        "outputId": "9303f418-fdd1-4b4c-bd83-75c111e21b3d"
      },
      "execution_count": 69,
      "outputs": [
        {
          "output_type": "execute_result",
          "data": {
            "text/plain": [
              "[{'name': 'Salad',\n",
              "  'items': [{'item_aliases': [],\n",
              "    'item_name': 'Garden Salad with Grilled Chicken',\n",
              "    'modifications': [],\n",
              "    'quantity': 1,\n",
              "    'special_requests': []},\n",
              "   {'item_aliases': [],\n",
              "    'item_name': 'Southwest Salad with Crispy Chicken',\n",
              "    'modifications': [],\n",
              "    'quantity': 1,\n",
              "    'special_requests': []}]}]"
            ]
          },
          "metadata": {},
          "execution_count": 69
        }
      ]
    },
    {
      "cell_type": "code",
      "source": [
        "for category in big.get_categories():\n",
        "  print(category)"
      ],
      "metadata": {
        "colab": {
          "base_uri": "https://localhost:8080/",
          "height": 164
        },
        "id": "7BfLOkphO-0m",
        "outputId": "d1e0a121-89fd-435e-b878-e2f613868533"
      },
      "execution_count": 74,
      "outputs": [
        {
          "output_type": "error",
          "ename": "AttributeError",
          "evalue": "'dict' object has no attribute 'name'",
          "traceback": [
            "\u001b[0;31m---------------------------------------------------------------------------\u001b[0m",
            "\u001b[0;31mAttributeError\u001b[0m                            Traceback (most recent call last)",
            "\u001b[0;32m<ipython-input-74-48ac2d20a9fb>\u001b[0m in \u001b[0;36m<cell line: 1>\u001b[0;34m()\u001b[0m\n\u001b[1;32m      1\u001b[0m \u001b[0;32mfor\u001b[0m \u001b[0mcategory\u001b[0m \u001b[0;32min\u001b[0m \u001b[0mbig\u001b[0m\u001b[0;34m.\u001b[0m\u001b[0mget_categories\u001b[0m\u001b[0;34m(\u001b[0m\u001b[0;34m)\u001b[0m\u001b[0;34m:\u001b[0m\u001b[0;34m\u001b[0m\u001b[0;34m\u001b[0m\u001b[0m\n\u001b[0;32m----> 2\u001b[0;31m   \u001b[0mprint\u001b[0m\u001b[0;34m(\u001b[0m\u001b[0mcategory\u001b[0m\u001b[0;34m.\u001b[0m\u001b[0mname\u001b[0m\u001b[0;34m)\u001b[0m\u001b[0;34m\u001b[0m\u001b[0;34m\u001b[0m\u001b[0m\n\u001b[0m",
            "\u001b[0;31mAttributeError\u001b[0m: 'dict' object has no attribute 'name'"
          ]
        }
      ]
    },
    {
      "cell_type": "code",
      "source": [],
      "metadata": {
        "id": "0Mgy1Ic9O-xM"
      },
      "execution_count": null,
      "outputs": []
    },
    {
      "cell_type": "code",
      "source": [],
      "metadata": {
        "id": "4r6V2hIDO-tD"
      },
      "execution_count": null,
      "outputs": []
    },
    {
      "cell_type": "code",
      "source": [],
      "metadata": {
        "id": "3f4dZRC1O-mG"
      },
      "execution_count": null,
      "outputs": []
    },
    {
      "cell_type": "code",
      "source": [],
      "metadata": {
        "id": "JQXQQGVIOvfS"
      },
      "execution_count": null,
      "outputs": []
    },
    {
      "cell_type": "code",
      "source": [
        "class Item:\n",
        "  def __init__(self, **kwargs):\n",
        "    self.item_aliases = kwargs['item_aliases']\n",
        "    self.item_name = kwargs['item_name']\n",
        "    # self.modifications = kwargs['modifications']\n",
        "    self.modifications = set(kwargs['modifications'])\n",
        "    self.quantity = kwargs['quantity']\n",
        "    # self.special_requests = kwargs['special_requests']\n",
        "    self.special_requests_set = set(kwargs['special_requests'])\n",
        "    self.__dict__.update(kwargs)\n",
        "\n",
        "  def __repr__(self):\n",
        "\n",
        "    return str(self.__dict__)\n",
        "\n",
        "\n",
        "class Category():\n",
        "  def __init__(self, **kwargs):\n",
        "    self.items = [item for item in kwargs['items']]\n",
        "    self.items_set = set(self.items)\n",
        "    self.__dict__.update(kwargs)\n",
        "\n",
        "  def __repr__(self):\n",
        "    return str(self.__dict__)\n",
        "\n",
        "\n",
        "class NewStruct():\n",
        "  def __init__(self, **kwargs):\n",
        "    self.categories = [category for category in kwargs['categories']]\n",
        "    self.combos = [combo for combo in kwargs['combos']]\n",
        "    self.__dict__.update(kwargs)\n",
        "\n",
        "  # def add_item(self, category, item):\n",
        "\n",
        "  def __repr__(self):\n",
        "    return str(self.__dict__)"
      ],
      "metadata": {
        "id": "OpOKVeuEAGC9"
      },
      "execution_count": null,
      "outputs": []
    },
    {
      "cell_type": "code",
      "source": [
        "c = NewStruct(**two_double_jacks_no_pickles_no_onions);c"
      ],
      "metadata": {
        "colab": {
          "base_uri": "https://localhost:8080/"
        },
        "id": "a7XGsCQcA8-m",
        "outputId": "0e2e05ce-8dea-4422-8519-8a5f665bc8a6"
      },
      "execution_count": null,
      "outputs": [
        {
          "output_type": "execute_result",
          "data": {
            "text/plain": [
              "{'categories': [{'items': [{'item_aliases': [], 'item_name': 'Double Jack', 'modifications': ['no pickles', 'no onions'], 'quantity': 2, 'special_requests': []}], 'name': 'Burger'}], 'combos': []}"
            ]
          },
          "metadata": {},
          "execution_count": 44
        }
      ]
    },
    {
      "cell_type": "code",
      "source": [
        "c.categories"
      ],
      "metadata": {
        "colab": {
          "base_uri": "https://localhost:8080/"
        },
        "id": "dhjBO1wRD0Ga",
        "outputId": "f7bf9e6a-1ec7-4908-9dc7-f274d01fdda2"
      },
      "execution_count": null,
      "outputs": [
        {
          "output_type": "execute_result",
          "data": {
            "text/plain": [
              "[{'items': [{'item_aliases': [],\n",
              "    'item_name': 'Double Jack',\n",
              "    'modifications': ['no pickles', 'no onions'],\n",
              "    'quantity': 2,\n",
              "    'special_requests': []}],\n",
              "  'name': 'Burger'}]"
            ]
          },
          "metadata": {},
          "execution_count": 45
        }
      ]
    },
    {
      "cell_type": "code",
      "source": [
        "c.combos"
      ],
      "metadata": {
        "colab": {
          "base_uri": "https://localhost:8080/"
        },
        "id": "IIE9AILSEkJg",
        "outputId": "8701ef32-eb0e-422c-a1d6-418382c612a3"
      },
      "execution_count": null,
      "outputs": [
        {
          "output_type": "execute_result",
          "data": {
            "text/plain": [
              "[]"
            ]
          },
          "metadata": {},
          "execution_count": 40
        }
      ]
    },
    {
      "cell_type": "markdown",
      "source": [
        "## start with item"
      ],
      "metadata": {
        "id": "ecISF9-QFvap"
      }
    },
    {
      "cell_type": "code",
      "source": [
        "two_double_jacks_no_pickles_no_onions = {'categories': [{'items': [{'item_aliases': [], 'item_name': 'Double Jack', 'modifications': [\"no pickles\", \"no onions\"], 'quantity': 2, 'special_requests': []}], 'name': 'Burger'}], 'combos': []}; two_double_jacks_no_pickles_no_onions\n"
      ],
      "metadata": {
        "id": "fjiW2263FseV"
      },
      "execution_count": null,
      "outputs": []
    },
    {
      "cell_type": "markdown",
      "source": [
        "https://github.com/jmespath/jmespath.py\n",
        "\n",
        "*   https://www.zyte.com/blog/json-parsing-with-python/\n",
        "*   https://pynative.com/python-convert-json-data-into-custom-python-object/\n",
        "\n"
      ],
      "metadata": {
        "id": "sJQX_sO35qo1"
      }
    },
    {
      "cell_type": "markdown",
      "source": [
        "## Example 1 from https://pynative.com/python-convert-json-data-into-custom-python-object/"
      ],
      "metadata": {
        "id": "iPpuEr6i6usU"
      }
    },
    {
      "cell_type": "code",
      "source": [
        "import json\n",
        "from collections import namedtuple\n",
        "from json import JSONEncoder\n",
        "\n",
        "def customStudentDecoder(studentDict):\n",
        "    return namedtuple('X', studentDict.keys())(*studentDict.values())\n",
        "\n",
        "#Assume you received this JSON response\n",
        "studentJsonData = '{\"rollNumber\": 1, \"name\": \"Emma\"}'\n",
        "\n",
        "# Parse JSON into an object with attributes corresponding to dict keys.\n",
        "student = json.loads(studentJsonData, object_hook=customStudentDecoder)\n",
        "\n",
        "print(\"After Converting JSON Data into Custom Python Object\")\n",
        "print(student.rollNumber, student.name)"
      ],
      "metadata": {
        "colab": {
          "base_uri": "https://localhost:8080/"
        },
        "id": "UoMLu6Ic5oV2",
        "outputId": "434add22-e3d3-40db-b293-d929f0277548"
      },
      "execution_count": null,
      "outputs": [
        {
          "output_type": "stream",
          "name": "stdout",
          "text": [
            "After Converting JSON Data into Custom Python Object\n",
            "1 Emma\n"
          ]
        }
      ]
    },
    {
      "cell_type": "code",
      "source": [
        "student"
      ],
      "metadata": {
        "colab": {
          "base_uri": "https://localhost:8080/"
        },
        "id": "dlvDWUq55oRA",
        "outputId": "d28a0cc1-cafc-4788-c305-61032b49d25f"
      },
      "execution_count": null,
      "outputs": [
        {
          "output_type": "execute_result",
          "data": {
            "text/plain": [
              "X(rollNumber=1, name='Emma')"
            ]
          },
          "metadata": {},
          "execution_count": 5
        }
      ]
    },
    {
      "cell_type": "markdown",
      "source": [
        "## Example 2"
      ],
      "metadata": {
        "id": "0TGXKAmV7PWN"
      }
    },
    {
      "cell_type": "code",
      "source": [
        "import json\n",
        "from collections import namedtuple\n",
        "from json import JSONEncoder\n",
        "\n",
        "class Student:\n",
        "    def __init__(self, rollNumber, name, marks):\n",
        "        self.rollNumber, self.name, self.marks = rollNumber, name, marks\n",
        "\n",
        "class Marks:\n",
        "    def __init__(self, english, geometry):\n",
        "        self.english, self.geometry = english, geometry\n",
        "\n",
        "class StudentEncoder(JSONEncoder):\n",
        "        def default(self, o):\n",
        "            return o.__dict__\n",
        "\n",
        "def customStudentDecoder(studentDict):\n",
        "    return namedtuple('student', studentDict.keys())(*studentDict.values())\n",
        "\n",
        "marks = Marks(82, 74)\n",
        "student = Student(1, \"Emma\", marks)\n",
        "\n",
        "# dumps() produces JSON in native str format. if you want to writ it in file use dump()\n",
        "studentJson = json.dumps(student, indent=4, cls=StudentEncoder)\n",
        "print(\"Student JSON\")\n",
        "print(studentJson)\n",
        "\n",
        "# Parse JSON into an object with attributes corresponding to dict keys.\n",
        "studObj = json.loads(studentJson, object_hook=customStudentDecoder)\n",
        "\n",
        "print(\"After Converting JSON Data into Custom Python Object\")\n",
        "print(studObj.rollNumber, studObj.name, \"\\n\")\n",
        "print(studObj, \"\\n\", studObj.marks.english, studObj.marks.geometry)"
      ],
      "metadata": {
        "colab": {
          "base_uri": "https://localhost:8080/"
        },
        "id": "uOSCogku4o3I",
        "outputId": "2f333a2b-9604-4681-a617-e5b576b080cb"
      },
      "execution_count": null,
      "outputs": [
        {
          "output_type": "stream",
          "name": "stdout",
          "text": [
            "Student JSON\n",
            "{\n",
            "    \"rollNumber\": 1,\n",
            "    \"name\": \"Emma\",\n",
            "    \"marks\": {\n",
            "        \"english\": 82,\n",
            "        \"geometry\": 74\n",
            "    }\n",
            "}\n",
            "After Converting JSON Data into Custom Python Object\n",
            "1 Emma \n",
            "\n",
            "student(rollNumber=1, name='Emma', marks=student(english=82, geometry=74)) \n",
            " 82 74\n"
          ]
        }
      ]
    },
    {
      "cell_type": "markdown",
      "source": [
        "## Example 3"
      ],
      "metadata": {
        "id": "ONSxS_U491Sm"
      }
    },
    {
      "cell_type": "code",
      "source": [
        "import json\n",
        "from json import JSONEncoder\n",
        "from types import SimpleNamespace as Namespace\n",
        "\n",
        "class Student:\n",
        "    def __init__(self, rollNumber, name, marks):\n",
        "        self.rollNumber, self.name, self.marks = rollNumber, name, marks\n",
        "\n",
        "class Marks:\n",
        "    def __init__(self, english, geometry):\n",
        "        self.english, self.geometry = english, geometry\n",
        "\n",
        "class StudentEncoder(JSONEncoder):\n",
        "        def default(self, o): return o.__dict__\n",
        "\n",
        "marks = Marks(82, 74)\n",
        "student = Student(1, \"Emma\", marks)\n",
        "\n",
        "# dumps() produces JSON in native str format. if you want to write it in file use dump()\n",
        "studentJsonData = json.dumps(student, indent=4, cls=StudentEncoder)\n",
        "print(\"Student JSON\")\n",
        "print(studentJsonData)\n",
        "\n",
        "# Parse JSON into an custom Student object.\n",
        "studObj = json.loads(studentJsonData, object_hook=lambda d: Namespace(**d))\n",
        "print(\"After Converting JSON Data into Custom Python Object using SimpleNamespace\")\n",
        "print(studObj.rollNumber, studObj.name, studObj.marks.english, studObj.marks.geometry)"
      ],
      "metadata": {
        "colab": {
          "base_uri": "https://localhost:8080/"
        },
        "id": "bO5Q5tV97SUw",
        "outputId": "1bf6ef94-985b-414b-b0a6-8ba4313fbac9"
      },
      "execution_count": null,
      "outputs": [
        {
          "output_type": "stream",
          "name": "stdout",
          "text": [
            "Student JSON\n",
            "{\n",
            "    \"rollNumber\": 1,\n",
            "    \"name\": \"Emma\",\n",
            "    \"marks\": {\n",
            "        \"english\": 82,\n",
            "        \"geometry\": 74\n",
            "    }\n",
            "}\n",
            "After Converting JSON Data into Custom Python Object using SimpleNamespace\n",
            "1 Emma 82 74\n"
          ]
        }
      ]
    },
    {
      "cell_type": "markdown",
      "source": [
        "## Example 4"
      ],
      "metadata": {
        "id": "L1GUaofT932_"
      }
    },
    {
      "cell_type": "code",
      "source": [
        "import json\n",
        "\n",
        "class Student(object):\n",
        "    def __init__(self, rollNumber, name, marks):\n",
        "        self.rollNumber = rollNumber\n",
        "        self.name = name\n",
        "        self.marks = marks\n",
        "\n",
        "def studentDecoder(obj):\n",
        "    if '__type__' in obj and obj['__type__'] == 'Student':\n",
        "        return Student(obj['rollNumber'], obj['name'], obj['marks'])\n",
        "    return obj\n",
        "\n",
        "studentObj = json.loads('{\"__type__\": \"Student\", \"rollNumber\":1, \"name\": \"Ault kelly\", \"marks\": 78}',\n",
        "           object_hook=studentDecoder)\n",
        "\n",
        "print(\"Type of decoded object from JSON Data\")\n",
        "print(type(studentObj))\n",
        "print(\"Student Details\")\n",
        "print(studentObj.rollNumber, studentObj.name, studentObj.marks)"
      ],
      "metadata": {
        "colab": {
          "base_uri": "https://localhost:8080/"
        },
        "id": "R105Mnzp9cNk",
        "outputId": "6390f52b-b0e3-40bc-bfd9-4830ecb3503a"
      },
      "execution_count": null,
      "outputs": [
        {
          "output_type": "stream",
          "name": "stdout",
          "text": [
            "Type of decoded object from JSON Data\n",
            "<class '__main__.Student'>\n",
            "Student Details\n",
            "1 Ault kelly 78\n"
          ]
        }
      ]
    },
    {
      "cell_type": "markdown",
      "source": [
        "## Example 5"
      ],
      "metadata": {
        "id": "rzfFvYew-qT5"
      }
    },
    {
      "cell_type": "code",
      "source": [
        "import json\n",
        "import jsonpickle\n",
        "from json import JSONEncoder\n",
        "\n",
        "class Student(object):\n",
        "    def __init__(self, rollNumber, name, marks):\n",
        "        self.rollNumber = rollNumber\n",
        "        self.name = name\n",
        "        self.marks = marks\n",
        "\n",
        "class Marks(object):\n",
        "    def __init__(self, english, geometry):\n",
        "        self.english = english\n",
        "        self.geometry = geometry\n",
        "\n",
        "marks = Marks(82, 74)\n",
        "student = Student(1, \"Emma\", marks)\n",
        "\n",
        "print(\"Encode Object into JSON formatted Data using jsonpickle\")\n",
        "studentJSON = jsonpickle.encode(student)\n",
        "print(studentJSON)\n",
        "\n",
        "print(\"Decode and Convert JSON into Object using jsonpickle\")\n",
        "studentObject = jsonpickle.decode(studentJSON)\n",
        "print(\"Object type is: \", type(studentObject))\n",
        "\n",
        "print(\"Student Details\")\n",
        "print(studentObject.rollNumber, studentObject.name, studentObject.marks.english, studentObject.marks.geometry)"
      ],
      "metadata": {
        "colab": {
          "base_uri": "https://localhost:8080/"
        },
        "id": "NS0U1kFE-Hyc",
        "outputId": "409ff810-af0c-4260-d689-e3e76fac491f"
      },
      "execution_count": null,
      "outputs": [
        {
          "output_type": "stream",
          "name": "stdout",
          "text": [
            "Encode Object into JSON formatted Data using jsonpickle\n",
            "{\"py/object\": \"__main__.Student\", \"rollNumber\": 1, \"name\": \"Emma\", \"marks\": {\"py/object\": \"__main__.Marks\", \"english\": 82, \"geometry\": 74}}\n",
            "Decode and Convert JSON into Object using jsonpickle\n",
            "Object type is:  <class '__main__.Student'>\n",
            "Student Details\n",
            "1 Emma 82 74\n"
          ]
        }
      ]
    },
    {
      "cell_type": "markdown",
      "source": [
        "## Example 6"
      ],
      "metadata": {
        "id": "Zv2_K_-c--yo"
      }
    },
    {
      "cell_type": "code",
      "source": [
        "import json\n",
        "from json import JSONEncoder\n",
        "\n",
        "class Student(object):\n",
        "    def __init__(self, rollNumber, name, *args, **kwargs):\n",
        "        self.rollNumber = rollNumber\n",
        "        self.name = name\n",
        "\n",
        "class StudentEncoder(JSONEncoder):\n",
        "        def default(self, o):\n",
        "            return o.__dict__\n",
        "\n",
        "student = Student(1, \"Emma\")\n",
        "\n",
        "# encode Object\n",
        "studentJson = json.dumps(student, cls=StudentEncoder, indent=4)\n",
        "\n",
        "#Decode JSON\n",
        "resultDict = json.loads(studentJson)\n",
        "\n",
        "print(\"Converting JSON into Python Object\")\n",
        "studentObj = Student(**resultDict)\n",
        "\n",
        "print(\"Object type is: \", type(studentObj))\n",
        "\n",
        "print(\"Student Details\")\n",
        "print(studentObj.rollNumber, studentObj.name)"
      ],
      "metadata": {
        "colab": {
          "base_uri": "https://localhost:8080/"
        },
        "id": "tA9QT2s7-3BP",
        "outputId": "45fbbb5a-0305-4c8f-ddf2-465753290ef8"
      },
      "execution_count": null,
      "outputs": [
        {
          "output_type": "stream",
          "name": "stdout",
          "text": [
            "Converting JSON into Python Object\n",
            "Object type is:  <class '__main__.Student'>\n",
            "Student Details\n",
            "1 Emma\n"
          ]
        }
      ]
    },
    {
      "cell_type": "code",
      "source": [],
      "metadata": {
        "id": "vNEQZqA3_Muv"
      },
      "execution_count": null,
      "outputs": []
    }
  ]
}
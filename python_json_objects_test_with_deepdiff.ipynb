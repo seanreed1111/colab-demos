{
  "nbformat": 4,
  "nbformat_minor": 0,
  "metadata": {
    "colab": {
      "provenance": [],
      "authorship_tag": "ABX9TyOKepdE253utVH7FnNvWhv5",
      "include_colab_link": true
    },
    "kernelspec": {
      "name": "python3",
      "display_name": "Python 3"
    },
    "language_info": {
      "name": "python"
    }
  },
  "cells": [
    {
      "cell_type": "markdown",
      "metadata": {
        "id": "view-in-github",
        "colab_type": "text"
      },
      "source": [
        "<a href=\"https://colab.research.google.com/github/seanreed1111/colab-demos/blob/master/python_json_objects_test_with_deepdiff.ipynb\" target=\"_parent\"><img src=\"https://colab.research.google.com/assets/colab-badge.svg\" alt=\"Open In Colab\"/></a>"
      ]
    },
    {
      "cell_type": "code",
      "execution_count": 21,
      "metadata": {
        "colab": {
          "base_uri": "https://localhost:8080/"
        },
        "id": "LudKdRoylj0Y",
        "outputId": "efec23d7-aa0c-4df0-8881-17d91e507259"
      },
      "outputs": [
        {
          "output_type": "stream",
          "name": "stdout",
          "text": [
            "\u001b[?25l     \u001b[90m━━━━━━━━━━━━━━━━━━━━━━━━━━━━━━━━━━━━━━━━\u001b[0m \u001b[32m0.0/80.8 kB\u001b[0m \u001b[31m?\u001b[0m eta \u001b[36m-:--:--\u001b[0m\r\u001b[2K     \u001b[90m━━━━━━━━━━━━━━━━━━━━━━━━━━━━━━━━━━━━━━━━\u001b[0m \u001b[32m80.8/80.8 kB\u001b[0m \u001b[31m2.1 MB/s\u001b[0m eta \u001b[36m0:00:00\u001b[0m\n",
            "\u001b[?25h"
          ]
        }
      ],
      "source": [
        "%pip install -q python-jsonschema-objects deepdiff"
      ]
    },
    {
      "cell_type": "code",
      "source": [
        "from deepdiff import DeepDiff\n",
        "import python_jsonschema_objects as pjs"
      ],
      "metadata": {
        "id": "Y4erjUyv0sDE"
      },
      "execution_count": null,
      "outputs": []
    },
    {
      "cell_type": "code",
      "source": [
        "example = {\n",
        "    \"title\": \"Example Schema\",\n",
        "    \"type\": \"object\",\n",
        "    \"properties\": {\n",
        "        \"firstName\": {\n",
        "            \"type\": \"string\"\n",
        "        },\n",
        "        \"lastName\": {\n",
        "            \"type\": \"string\"\n",
        "        },\n",
        "        \"age\": {\n",
        "            \"description\": \"Age in years\",\n",
        "            \"type\": \"integer\",\n",
        "            \"minimum\": 0\n",
        "        },\n",
        "        \"dogs\": {\n",
        "            \"type\": \"array\",\n",
        "            \"items\": {\"type\": \"string\"},\n",
        "            \"maxItems\": 4\n",
        "        },\n",
        "        \"address\": {\n",
        "            \"type\": \"object\",\n",
        "            \"properties\": {\n",
        "                \"street\": {\"type\": \"string\"},\n",
        "                \"city\": {\"type\": \"string\"},\n",
        "                \"state\": {\"type\": \"string\"}\n",
        "                },\n",
        "            \"required\":[\"street\", \"city\"]\n",
        "            },\n",
        "        \"gender\": {\n",
        "            \"type\": \"string\",\n",
        "            \"enum\": [\"male\", \"female\"]\n",
        "        },\n",
        "        \"deceased\": {\n",
        "            \"enum\": [\"yes\", \"no\", 1, 0, \"true\", \"false\"]\n",
        "            }\n",
        "    },\n",
        "    \"required\": [\"firstName\", \"lastName\"]\n",
        "}"
      ],
      "metadata": {
        "id": "-hgqNJOBlsI2"
      },
      "execution_count": 2,
      "outputs": []
    },
    {
      "cell_type": "code",
      "source": [
        "example.keys()"
      ],
      "metadata": {
        "colab": {
          "base_uri": "https://localhost:8080/"
        },
        "id": "kwPNZiyRnZ4F",
        "outputId": "609ad6b0-58d8-4664-ca02-a5c3bf97393e"
      },
      "execution_count": 3,
      "outputs": [
        {
          "output_type": "execute_result",
          "data": {
            "text/plain": [
              "dict_keys(['title', 'type', 'properties', 'required'])"
            ]
          },
          "metadata": {},
          "execution_count": 3
        }
      ]
    },
    {
      "cell_type": "code",
      "source": [
        "\n",
        "builder = pjs.ObjectBuilder(example)\n",
        "ns = builder.build_classes()\n",
        "Person = ns.ExampleSchema\n"
      ],
      "metadata": {
        "id": "_HR1OOQ4l5E1"
      },
      "execution_count": 5,
      "outputs": []
    },
    {
      "cell_type": "code",
      "source": [
        "[item for item in dir(Person) if not item.startswith(\"_\")]"
      ],
      "metadata": {
        "colab": {
          "base_uri": "https://localhost:8080/"
        },
        "id": "A6D3b8vrw_Zs",
        "outputId": "82ffec29-390f-4ea1-beeb-532a7f8649d8"
      },
      "execution_count": 7,
      "outputs": [
        {
          "output_type": "execute_result",
          "data": {
            "text/plain": [
              "['address',\n",
              " 'age',\n",
              " 'as_dict',\n",
              " 'clear',\n",
              " 'deceased',\n",
              " 'dogs',\n",
              " 'firstName',\n",
              " 'for_json',\n",
              " 'from_json',\n",
              " 'gender',\n",
              " 'get',\n",
              " 'items',\n",
              " 'keys',\n",
              " 'lastName',\n",
              " 'missing_property_names',\n",
              " 'pop',\n",
              " 'popitem',\n",
              " 'propinfo',\n",
              " 'serialize',\n",
              " 'setdefault',\n",
              " 'update',\n",
              " 'validate',\n",
              " 'values']"
            ]
          },
          "metadata": {},
          "execution_count": 7
        }
      ]
    },
    {
      "cell_type": "code",
      "source": [
        "james = Person(firstName=\"James\", lastName=\"Bond\")\n",
        "\n",
        "james"
      ],
      "metadata": {
        "colab": {
          "base_uri": "https://localhost:8080/"
        },
        "id": "n6cGeTT-mtRs",
        "outputId": "37e20a3f-8fc3-49a3-e52f-c61634b8ed13"
      },
      "execution_count": 8,
      "outputs": [
        {
          "output_type": "execute_result",
          "data": {
            "text/plain": [
              "<example_schema address=None age=None deceased=None dogs=None firstName=<Literal<str> James> gender=None lastName=<Literal<str> Bond>>"
            ]
          },
          "metadata": {},
          "execution_count": 8
        }
      ]
    },
    {
      "cell_type": "code",
      "source": [
        "james.as_dict()"
      ],
      "metadata": {
        "colab": {
          "base_uri": "https://localhost:8080/"
        },
        "id": "IlltnCpKxy94",
        "outputId": "362fef4b-d2bc-495b-8852-7a06a3ad9217"
      },
      "execution_count": 12,
      "outputs": [
        {
          "output_type": "execute_result",
          "data": {
            "text/plain": [
              "{'firstName': 'James', 'lastName': 'Bond'}"
            ]
          },
          "metadata": {},
          "execution_count": 12
        }
      ]
    },
    {
      "cell_type": "code",
      "source": [
        "nigel_dict = {'firstName': 'Nigel', 'lastName': 'Bond'}"
      ],
      "metadata": {
        "id": "7J9mAA-UzJ6V"
      },
      "execution_count": 18,
      "outputs": []
    },
    {
      "cell_type": "code",
      "source": [
        "nigel = Person(**nigel_dict); nigel"
      ],
      "metadata": {
        "colab": {
          "base_uri": "https://localhost:8080/"
        },
        "id": "3ITQiM8uzPKJ",
        "outputId": "d7234f28-bafd-4ce0-ffca-826fafbf02f5"
      },
      "execution_count": 20,
      "outputs": [
        {
          "output_type": "execute_result",
          "data": {
            "text/plain": [
              "<example_schema address=None age=None deceased=None dogs=None firstName=<Literal<str> Nigel> gender=None lastName=<Literal<str> Bond>>"
            ]
          },
          "metadata": {},
          "execution_count": 20
        }
      ]
    },
    {
      "cell_type": "code",
      "source": [
        "DeepDiff(james.as_dict(), nigel_dict)"
      ],
      "metadata": {
        "colab": {
          "base_uri": "https://localhost:8080/"
        },
        "id": "LWZ3eX8o0lRW",
        "outputId": "2f97b70e-61dd-45fb-f293-ba2c8f15daee"
      },
      "execution_count": 23,
      "outputs": [
        {
          "output_type": "execute_result",
          "data": {
            "text/plain": [
              "{'values_changed': {\"root['firstName']\": {'new_value': 'Nigel',\n",
              "   'old_value': 'James'}}}"
            ]
          },
          "metadata": {},
          "execution_count": 23
        }
      ]
    },
    {
      "cell_type": "code",
      "source": [
        "DeepDiff(nigel, james)"
      ],
      "metadata": {
        "colab": {
          "base_uri": "https://localhost:8080/"
        },
        "id": "dJEDTWou0niU",
        "outputId": "eeb3b66a-f3bd-4bdc-bf2c-0ef47460961e"
      },
      "execution_count": 24,
      "outputs": [
        {
          "output_type": "execute_result",
          "data": {
            "text/plain": [
              "{'values_changed': {\"root['firstName']._value\": {'new_value': 'James',\n",
              "   'old_value': 'Nigel'}}}"
            ]
          },
          "metadata": {},
          "execution_count": 24
        }
      ]
    },
    {
      "cell_type": "code",
      "source": [],
      "metadata": {
        "id": "DG-RrLOc035Q"
      },
      "execution_count": null,
      "outputs": []
    }
  ]
}
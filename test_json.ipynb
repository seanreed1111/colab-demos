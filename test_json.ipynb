{
  "nbformat": 4,
  "nbformat_minor": 0,
  "metadata": {
    "colab": {
      "provenance": [],
      "authorship_tag": "ABX9TyOikL2XpaP4RmF7sA189DRc",
      "include_colab_link": true
    },
    "kernelspec": {
      "name": "python3",
      "display_name": "Python 3"
    },
    "language_info": {
      "name": "python"
    }
  },
  "cells": [
    {
      "cell_type": "markdown",
      "metadata": {
        "id": "view-in-github",
        "colab_type": "text"
      },
      "source": [
        "<a href=\"https://colab.research.google.com/github/seanreed1111/colab-demos/blob/master/test_json.ipynb\" target=\"_parent\"><img src=\"https://colab.research.google.com/assets/colab-badge.svg\" alt=\"Open In Colab\"/></a>"
      ]
    },
    {
      "cell_type": "code",
      "execution_count": 1,
      "metadata": {
        "colab": {
          "base_uri": "https://localhost:8080/"
        },
        "id": "kTYpM2vj4M6c",
        "outputId": "7e1bf8d8-ed73-43e9-838f-3c722c30d43e"
      },
      "outputs": [
        {
          "output_type": "stream",
          "name": "stdout",
          "text": [
            "\n",
            "Method 3:\n",
            "{\n",
            "  \"name\": \"Alice\",\n",
            "  \"age\": 28,\n",
            "  \"address\": {\n",
            "    \"city\": \"Villagetown\",\n",
            "    \"zip\": \"67890\"\n",
            "  },\n",
            "  \"contacts\": [\n",
            "    {\n",
            "      \"type\": \"email\",\n",
            "      \"value\": \"alice@example.com\"\n",
            "    }\n",
            "  ]\n",
            "}\n"
          ]
        }
      ],
      "source": [
        "import json\n",
        "\n",
        "# Using Recursive Functions\n",
        "def convert_to_json(obj):\n",
        "\tif isinstance(obj, dict):\n",
        "\t\treturn {key: convert_to_json(value) for key, value in obj.items()}\n",
        "\telif isinstance(obj, list):\n",
        "\t\treturn [convert_to_json(item) for item in obj]\n",
        "\telse:\n",
        "\t\treturn obj\n",
        "\n",
        "data_recursive = {\n",
        "\t\"name\": \"Alice\",\n",
        "\t\"age\": 28,\n",
        "\t\"address\": {\"city\": \"Villagetown\", \"zip\": \"67890\"},\n",
        "\t\"contacts\": [{\"type\": \"email\", \"value\": \"alice@example.com\"}]\n",
        "}\n",
        "\n",
        "json_string_recursive = json.dumps(convert_to_json(data_recursive), indent=2)\n",
        "print(json_string_recursive)\n"
      ]
    },
    {
      "cell_type": "code",
      "source": [
        "print(data_recursive)"
      ],
      "metadata": {
        "colab": {
          "base_uri": "https://localhost:8080/"
        },
        "id": "GQJozQel49GQ",
        "outputId": "0cfdd970-ddda-43ca-9597-87bebf95ae56"
      },
      "execution_count": 3,
      "outputs": [
        {
          "output_type": "stream",
          "name": "stdout",
          "text": [
            "{'name': 'Alice', 'age': 28, 'address': {'city': 'Villagetown', 'zip': '67890'}, 'contacts': [{'type': 'email', 'value': 'alice@example.com'}]}\n"
          ]
        }
      ]
    },
    {
      "cell_type": "code",
      "source": [],
      "metadata": {
        "id": "LFJUAMAG5FSv"
      },
      "execution_count": null,
      "outputs": []
    },
    {
      "cell_type": "code",
      "source": [
        "two_double_jacks_no_pickles_no_onions = {'categories': [{'items': [{'item_aliases': [], 'item_name': 'Double Jack', 'modifications': [\"no pickles\", \"no onions\"], 'quantity': 2, 'special_requests': []}], 'name': 'Burger'}], 'combos': []}; two_double_jacks_no_pickles_no_onions\n",
        "\n",
        "two_double_jacks_no_onions_no_pickles = {'categories': [{'items': [{'item_aliases': [], 'item_name': 'Double Jack', 'modifications': [\"no onions\", \"no pickles\"], 'quantity': 2, 'special_requests': []}], 'name': 'Burger'}], 'combos': []}; two_double_jacks_no_onions_no_pickles"
      ],
      "metadata": {
        "colab": {
          "base_uri": "https://localhost:8080/"
        },
        "id": "zCAQs1X24OEx",
        "outputId": "081d34a2-60ef-40fb-abe2-0f7e93e16d6a"
      },
      "execution_count": 2,
      "outputs": [
        {
          "output_type": "execute_result",
          "data": {
            "text/plain": [
              "{'categories': [{'items': [{'item_aliases': [],\n",
              "     'item_name': 'Double Jack',\n",
              "     'modifications': ['no onions', 'no pickles'],\n",
              "     'quantity': 2,\n",
              "     'special_requests': []}],\n",
              "   'name': 'Burger'}],\n",
              " 'combos': []}"
            ]
          },
          "metadata": {},
          "execution_count": 2
        }
      ]
    },
    {
      "cell_type": "code",
      "source": [
        "class NewStruct():\n",
        "    def __init__(self, **kwargs):\n",
        "        self.__dict__.update(kwargs)\n",
        "    def __repr__(self):\n",
        "        return str(self.__dict__)\n"
      ],
      "metadata": {
        "id": "3afKg_qf_j9d"
      },
      "execution_count": 18,
      "outputs": []
    },
    {
      "cell_type": "code",
      "source": [
        "c = NewStruct(**two_double_jacks_no_pickles_no_onions);c"
      ],
      "metadata": {
        "colab": {
          "base_uri": "https://localhost:8080/"
        },
        "id": "HSxaIkfW_5fs",
        "outputId": "d55372c3-9d00-42a9-e3a1-a87f8083f381"
      },
      "execution_count": 21,
      "outputs": [
        {
          "output_type": "execute_result",
          "data": {
            "text/plain": [
              "{'categories': [{'items': [{'item_aliases': [], 'item_name': 'Double Jack', 'modifications': ['no pickles', 'no onions'], 'quantity': 2, 'special_requests': []}], 'name': 'Burger'}], 'combos': []}"
            ]
          },
          "metadata": {},
          "execution_count": 21
        }
      ]
    },
    {
      "cell_type": "code",
      "source": [
        "c.__dict__"
      ],
      "metadata": {
        "id": "7TaIUAbsJb0I"
      },
      "execution_count": null,
      "outputs": []
    },
    {
      "cell_type": "code",
      "source": [
        "c.__dict__.keys()"
      ],
      "metadata": {
        "colab": {
          "base_uri": "https://localhost:8080/"
        },
        "id": "vuncWtlqI6Sj",
        "outputId": "79f5fe7a-fdb1-4f2b-861e-36714ddcc5d3"
      },
      "execution_count": 47,
      "outputs": [
        {
          "output_type": "execute_result",
          "data": {
            "text/plain": [
              "dict_keys(['categories', 'combos'])"
            ]
          },
          "metadata": {},
          "execution_count": 47
        }
      ]
    },
    {
      "cell_type": "code",
      "source": [
        "class Item:\n",
        "  def __init__(self, **kwargs):\n",
        "    self.item_aliases = kwargs['item_aliases']\n",
        "    self.item_name = kwargs['item_name']\n",
        "    # self.modifications = kwargs['modifications']\n",
        "    self.modifications = set(kwargs['modifications'])\n",
        "    self.quantity = kwargs['quantity']\n",
        "    # self.special_requests = kwargs['special_requests']\n",
        "    self.special_requests_set = set(kwargs['special_requests'])\n",
        "    self.__dict__.update(kwargs)\n",
        "\n",
        "  def __repr__(self):\n",
        "\n",
        "    return str(self.__dict__)\n",
        "\n",
        "\n",
        "class Category():\n",
        "  def __init__(self, **kwargs):\n",
        "    self.items = [item for item in kwargs['items']]\n",
        "    self.items_set = set(self.items)\n",
        "    self.__dict__.update(kwargs)\n",
        "\n",
        "  def __repr__(self):\n",
        "    return str(self.__dict__)\n",
        "\n",
        "\n",
        "class NewStruct():\n",
        "  def __init__(self, **kwargs):\n",
        "    self.categories = [category for category in kwargs['categories']]\n",
        "    self.combos = [combo for combo in kwargs['combos']]\n",
        "    self.__dict__.update(kwargs)\n",
        "\n",
        "  # def add_item(self, category, item):\n",
        "\n",
        "  def __repr__(self):\n",
        "    return str(self.__dict__)"
      ],
      "metadata": {
        "id": "OpOKVeuEAGC9"
      },
      "execution_count": 43,
      "outputs": []
    },
    {
      "cell_type": "code",
      "source": [
        "c = NewStruct(**two_double_jacks_no_pickles_no_onions);c"
      ],
      "metadata": {
        "colab": {
          "base_uri": "https://localhost:8080/"
        },
        "id": "a7XGsCQcA8-m",
        "outputId": "0e2e05ce-8dea-4422-8519-8a5f665bc8a6"
      },
      "execution_count": 44,
      "outputs": [
        {
          "output_type": "execute_result",
          "data": {
            "text/plain": [
              "{'categories': [{'items': [{'item_aliases': [], 'item_name': 'Double Jack', 'modifications': ['no pickles', 'no onions'], 'quantity': 2, 'special_requests': []}], 'name': 'Burger'}], 'combos': []}"
            ]
          },
          "metadata": {},
          "execution_count": 44
        }
      ]
    },
    {
      "cell_type": "code",
      "source": [
        "c.categories"
      ],
      "metadata": {
        "colab": {
          "base_uri": "https://localhost:8080/"
        },
        "id": "dhjBO1wRD0Ga",
        "outputId": "f7bf9e6a-1ec7-4908-9dc7-f274d01fdda2"
      },
      "execution_count": 45,
      "outputs": [
        {
          "output_type": "execute_result",
          "data": {
            "text/plain": [
              "[{'items': [{'item_aliases': [],\n",
              "    'item_name': 'Double Jack',\n",
              "    'modifications': ['no pickles', 'no onions'],\n",
              "    'quantity': 2,\n",
              "    'special_requests': []}],\n",
              "  'name': 'Burger'}]"
            ]
          },
          "metadata": {},
          "execution_count": 45
        }
      ]
    },
    {
      "cell_type": "code",
      "source": [
        "c.combos"
      ],
      "metadata": {
        "colab": {
          "base_uri": "https://localhost:8080/"
        },
        "id": "IIE9AILSEkJg",
        "outputId": "8701ef32-eb0e-422c-a1d6-418382c612a3"
      },
      "execution_count": 40,
      "outputs": [
        {
          "output_type": "execute_result",
          "data": {
            "text/plain": [
              "[]"
            ]
          },
          "metadata": {},
          "execution_count": 40
        }
      ]
    },
    {
      "cell_type": "markdown",
      "source": [
        "## start with item"
      ],
      "metadata": {
        "id": "ecISF9-QFvap"
      }
    },
    {
      "cell_type": "code",
      "source": [
        "two_double_jacks_no_pickles_no_onions = {'categories': [{'items': [{'item_aliases': [], 'item_name': 'Double Jack', 'modifications': [\"no pickles\", \"no onions\"], 'quantity': 2, 'special_requests': []}], 'name': 'Burger'}], 'combos': []}; two_double_jacks_no_pickles_no_onions\n"
      ],
      "metadata": {
        "id": "fjiW2263FseV"
      },
      "execution_count": 41,
      "outputs": []
    },
    {
      "cell_type": "markdown",
      "source": [
        "https://github.com/jmespath/jmespath.py\n",
        "\n",
        "*   https://www.zyte.com/blog/json-parsing-with-python/\n",
        "*   https://pynative.com/python-convert-json-data-into-custom-python-object/\n",
        "\n"
      ],
      "metadata": {
        "id": "sJQX_sO35qo1"
      }
    },
    {
      "cell_type": "markdown",
      "source": [
        "## Example 1 from https://pynative.com/python-convert-json-data-into-custom-python-object/"
      ],
      "metadata": {
        "id": "iPpuEr6i6usU"
      }
    },
    {
      "cell_type": "code",
      "source": [
        "import json\n",
        "from collections import namedtuple\n",
        "from json import JSONEncoder\n",
        "\n",
        "def customStudentDecoder(studentDict):\n",
        "    return namedtuple('X', studentDict.keys())(*studentDict.values())\n",
        "\n",
        "#Assume you received this JSON response\n",
        "studentJsonData = '{\"rollNumber\": 1, \"name\": \"Emma\"}'\n",
        "\n",
        "# Parse JSON into an object with attributes corresponding to dict keys.\n",
        "student = json.loads(studentJsonData, object_hook=customStudentDecoder)\n",
        "\n",
        "print(\"After Converting JSON Data into Custom Python Object\")\n",
        "print(student.rollNumber, student.name)"
      ],
      "metadata": {
        "colab": {
          "base_uri": "https://localhost:8080/"
        },
        "id": "UoMLu6Ic5oV2",
        "outputId": "434add22-e3d3-40db-b293-d929f0277548"
      },
      "execution_count": 4,
      "outputs": [
        {
          "output_type": "stream",
          "name": "stdout",
          "text": [
            "After Converting JSON Data into Custom Python Object\n",
            "1 Emma\n"
          ]
        }
      ]
    },
    {
      "cell_type": "code",
      "source": [
        "student"
      ],
      "metadata": {
        "colab": {
          "base_uri": "https://localhost:8080/"
        },
        "id": "dlvDWUq55oRA",
        "outputId": "d28a0cc1-cafc-4788-c305-61032b49d25f"
      },
      "execution_count": 5,
      "outputs": [
        {
          "output_type": "execute_result",
          "data": {
            "text/plain": [
              "X(rollNumber=1, name='Emma')"
            ]
          },
          "metadata": {},
          "execution_count": 5
        }
      ]
    },
    {
      "cell_type": "markdown",
      "source": [
        "## Example 2"
      ],
      "metadata": {
        "id": "0TGXKAmV7PWN"
      }
    },
    {
      "cell_type": "code",
      "source": [
        "import json\n",
        "from collections import namedtuple\n",
        "from json import JSONEncoder\n",
        "\n",
        "class Student:\n",
        "    def __init__(self, rollNumber, name, marks):\n",
        "        self.rollNumber, self.name, self.marks = rollNumber, name, marks\n",
        "\n",
        "class Marks:\n",
        "    def __init__(self, english, geometry):\n",
        "        self.english, self.geometry = english, geometry\n",
        "\n",
        "class StudentEncoder(JSONEncoder):\n",
        "        def default(self, o):\n",
        "            return o.__dict__\n",
        "\n",
        "def customStudentDecoder(studentDict):\n",
        "    return namedtuple('student', studentDict.keys())(*studentDict.values())\n",
        "\n",
        "marks = Marks(82, 74)\n",
        "student = Student(1, \"Emma\", marks)\n",
        "\n",
        "# dumps() produces JSON in native str format. if you want to writ it in file use dump()\n",
        "studentJson = json.dumps(student, indent=4, cls=StudentEncoder)\n",
        "print(\"Student JSON\")\n",
        "print(studentJson)\n",
        "\n",
        "# Parse JSON into an object with attributes corresponding to dict keys.\n",
        "studObj = json.loads(studentJson, object_hook=customStudentDecoder)\n",
        "\n",
        "print(\"After Converting JSON Data into Custom Python Object\")\n",
        "print(studObj.rollNumber, studObj.name, \"\\n\")\n",
        "print(studObj, \"\\n\", studObj.marks.english, studObj.marks.geometry)"
      ],
      "metadata": {
        "colab": {
          "base_uri": "https://localhost:8080/"
        },
        "id": "uOSCogku4o3I",
        "outputId": "2f333a2b-9604-4681-a617-e5b576b080cb"
      },
      "execution_count": 11,
      "outputs": [
        {
          "output_type": "stream",
          "name": "stdout",
          "text": [
            "Student JSON\n",
            "{\n",
            "    \"rollNumber\": 1,\n",
            "    \"name\": \"Emma\",\n",
            "    \"marks\": {\n",
            "        \"english\": 82,\n",
            "        \"geometry\": 74\n",
            "    }\n",
            "}\n",
            "After Converting JSON Data into Custom Python Object\n",
            "1 Emma \n",
            "\n",
            "student(rollNumber=1, name='Emma', marks=student(english=82, geometry=74)) \n",
            " 82 74\n"
          ]
        }
      ]
    },
    {
      "cell_type": "markdown",
      "source": [
        "## Example 3"
      ],
      "metadata": {
        "id": "ONSxS_U491Sm"
      }
    },
    {
      "cell_type": "code",
      "source": [
        "import json\n",
        "from json import JSONEncoder\n",
        "from types import SimpleNamespace as Namespace\n",
        "\n",
        "class Student:\n",
        "    def __init__(self, rollNumber, name, marks):\n",
        "        self.rollNumber, self.name, self.marks = rollNumber, name, marks\n",
        "\n",
        "class Marks:\n",
        "    def __init__(self, english, geometry):\n",
        "        self.english, self.geometry = english, geometry\n",
        "\n",
        "class StudentEncoder(JSONEncoder):\n",
        "        def default(self, o): return o.__dict__\n",
        "\n",
        "marks = Marks(82, 74)\n",
        "student = Student(1, \"Emma\", marks)\n",
        "\n",
        "# dumps() produces JSON in native str format. if you want to write it in file use dump()\n",
        "studentJsonData = json.dumps(student, indent=4, cls=StudentEncoder)\n",
        "print(\"Student JSON\")\n",
        "print(studentJsonData)\n",
        "\n",
        "# Parse JSON into an custom Student object.\n",
        "studObj = json.loads(studentJsonData, object_hook=lambda d: Namespace(**d))\n",
        "print(\"After Converting JSON Data into Custom Python Object using SimpleNamespace\")\n",
        "print(studObj.rollNumber, studObj.name, studObj.marks.english, studObj.marks.geometry)"
      ],
      "metadata": {
        "colab": {
          "base_uri": "https://localhost:8080/"
        },
        "id": "bO5Q5tV97SUw",
        "outputId": "1bf6ef94-985b-414b-b0a6-8ba4313fbac9"
      },
      "execution_count": 12,
      "outputs": [
        {
          "output_type": "stream",
          "name": "stdout",
          "text": [
            "Student JSON\n",
            "{\n",
            "    \"rollNumber\": 1,\n",
            "    \"name\": \"Emma\",\n",
            "    \"marks\": {\n",
            "        \"english\": 82,\n",
            "        \"geometry\": 74\n",
            "    }\n",
            "}\n",
            "After Converting JSON Data into Custom Python Object using SimpleNamespace\n",
            "1 Emma 82 74\n"
          ]
        }
      ]
    },
    {
      "cell_type": "markdown",
      "source": [
        "## Example 4"
      ],
      "metadata": {
        "id": "L1GUaofT932_"
      }
    },
    {
      "cell_type": "code",
      "source": [
        "import json\n",
        "\n",
        "class Student(object):\n",
        "    def __init__(self, rollNumber, name, marks):\n",
        "        self.rollNumber = rollNumber\n",
        "        self.name = name\n",
        "        self.marks = marks\n",
        "\n",
        "def studentDecoder(obj):\n",
        "    if '__type__' in obj and obj['__type__'] == 'Student':\n",
        "        return Student(obj['rollNumber'], obj['name'], obj['marks'])\n",
        "    return obj\n",
        "\n",
        "studentObj = json.loads('{\"__type__\": \"Student\", \"rollNumber\":1, \"name\": \"Ault kelly\", \"marks\": 78}',\n",
        "           object_hook=studentDecoder)\n",
        "\n",
        "print(\"Type of decoded object from JSON Data\")\n",
        "print(type(studentObj))\n",
        "print(\"Student Details\")\n",
        "print(studentObj.rollNumber, studentObj.name, studentObj.marks)"
      ],
      "metadata": {
        "colab": {
          "base_uri": "https://localhost:8080/"
        },
        "id": "R105Mnzp9cNk",
        "outputId": "6390f52b-b0e3-40bc-bfd9-4830ecb3503a"
      },
      "execution_count": 13,
      "outputs": [
        {
          "output_type": "stream",
          "name": "stdout",
          "text": [
            "Type of decoded object from JSON Data\n",
            "<class '__main__.Student'>\n",
            "Student Details\n",
            "1 Ault kelly 78\n"
          ]
        }
      ]
    },
    {
      "cell_type": "markdown",
      "source": [
        "## Example 5"
      ],
      "metadata": {
        "id": "rzfFvYew-qT5"
      }
    },
    {
      "cell_type": "code",
      "source": [
        "import json\n",
        "import jsonpickle\n",
        "from json import JSONEncoder\n",
        "\n",
        "class Student(object):\n",
        "    def __init__(self, rollNumber, name, marks):\n",
        "        self.rollNumber = rollNumber\n",
        "        self.name = name\n",
        "        self.marks = marks\n",
        "\n",
        "class Marks(object):\n",
        "    def __init__(self, english, geometry):\n",
        "        self.english = english\n",
        "        self.geometry = geometry\n",
        "\n",
        "marks = Marks(82, 74)\n",
        "student = Student(1, \"Emma\", marks)\n",
        "\n",
        "print(\"Encode Object into JSON formatted Data using jsonpickle\")\n",
        "studentJSON = jsonpickle.encode(student)\n",
        "print(studentJSON)\n",
        "\n",
        "print(\"Decode and Convert JSON into Object using jsonpickle\")\n",
        "studentObject = jsonpickle.decode(studentJSON)\n",
        "print(\"Object type is: \", type(studentObject))\n",
        "\n",
        "print(\"Student Details\")\n",
        "print(studentObject.rollNumber, studentObject.name, studentObject.marks.english, studentObject.marks.geometry)"
      ],
      "metadata": {
        "colab": {
          "base_uri": "https://localhost:8080/"
        },
        "id": "NS0U1kFE-Hyc",
        "outputId": "409ff810-af0c-4260-d689-e3e76fac491f"
      },
      "execution_count": 14,
      "outputs": [
        {
          "output_type": "stream",
          "name": "stdout",
          "text": [
            "Encode Object into JSON formatted Data using jsonpickle\n",
            "{\"py/object\": \"__main__.Student\", \"rollNumber\": 1, \"name\": \"Emma\", \"marks\": {\"py/object\": \"__main__.Marks\", \"english\": 82, \"geometry\": 74}}\n",
            "Decode and Convert JSON into Object using jsonpickle\n",
            "Object type is:  <class '__main__.Student'>\n",
            "Student Details\n",
            "1 Emma 82 74\n"
          ]
        }
      ]
    },
    {
      "cell_type": "markdown",
      "source": [
        "## Example 6"
      ],
      "metadata": {
        "id": "Zv2_K_-c--yo"
      }
    },
    {
      "cell_type": "code",
      "source": [
        "import json\n",
        "from json import JSONEncoder\n",
        "\n",
        "class Student(object):\n",
        "    def __init__(self, rollNumber, name, *args, **kwargs):\n",
        "        self.rollNumber = rollNumber\n",
        "        self.name = name\n",
        "\n",
        "class StudentEncoder(JSONEncoder):\n",
        "        def default(self, o):\n",
        "            return o.__dict__\n",
        "\n",
        "student = Student(1, \"Emma\")\n",
        "\n",
        "# encode Object\n",
        "studentJson = json.dumps(student, cls=StudentEncoder, indent=4)\n",
        "\n",
        "#Decode JSON\n",
        "resultDict = json.loads(studentJson)\n",
        "\n",
        "print(\"Converting JSON into Python Object\")\n",
        "studentObj = Student(**resultDict)\n",
        "\n",
        "print(\"Object type is: \", type(studentObj))\n",
        "\n",
        "print(\"Student Details\")\n",
        "print(studentObj.rollNumber, studentObj.name)"
      ],
      "metadata": {
        "colab": {
          "base_uri": "https://localhost:8080/"
        },
        "id": "tA9QT2s7-3BP",
        "outputId": "45fbbb5a-0305-4c8f-ddf2-465753290ef8"
      },
      "execution_count": 15,
      "outputs": [
        {
          "output_type": "stream",
          "name": "stdout",
          "text": [
            "Converting JSON into Python Object\n",
            "Object type is:  <class '__main__.Student'>\n",
            "Student Details\n",
            "1 Emma\n"
          ]
        }
      ]
    },
    {
      "cell_type": "code",
      "source": [],
      "metadata": {
        "id": "vNEQZqA3_Muv"
      },
      "execution_count": null,
      "outputs": []
    }
  ]
}
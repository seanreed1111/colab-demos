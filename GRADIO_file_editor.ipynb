{
  "cells": [
    {
      "cell_type": "markdown",
      "metadata": {
        "id": "view-in-github",
        "colab_type": "text"
      },
      "source": [
        "<a href=\"https://colab.research.google.com/github/seanreed1111/colab-demos/blob/master/GRADIO_file_editor.ipynb\" target=\"_parent\"><img src=\"https://colab.research.google.com/assets/colab-badge.svg\" alt=\"Open In Colab\"/></a>"
      ]
    },
    {
      "cell_type": "code",
      "execution_count": 2,
      "metadata": {
        "id": "fJUJLWQ92g6R",
        "colab": {
          "base_uri": "https://localhost:8080/"
        },
        "outputId": "91882fa7-5360-4477-a9ab-ed3c9e619589"
      },
      "outputs": [
        {
          "output_type": "stream",
          "name": "stdout",
          "text": [
            "\u001b[2K     \u001b[90m━━━━━━━━━━━━━━━━━━━━━━━━━━━━━━━━━━━━━━━━\u001b[0m \u001b[32m50.4/50.4 kB\u001b[0m \u001b[31m1.3 MB/s\u001b[0m eta \u001b[36m0:00:00\u001b[0m\n",
            "\u001b[2K   \u001b[90m━━━━━━━━━━━━━━━━━━━━━━━━━━━━━━━━━━━━━━━━\u001b[0m \u001b[32m42.3/42.3 MB\u001b[0m \u001b[31m14.8 MB/s\u001b[0m eta \u001b[36m0:00:00\u001b[0m\n",
            "\u001b[2K   \u001b[90m━━━━━━━━━━━━━━━━━━━━━━━━━━━━━━━━━━━━━━━━\u001b[0m \u001b[32m319.8/319.8 kB\u001b[0m \u001b[31m8.5 MB/s\u001b[0m eta \u001b[36m0:00:00\u001b[0m\n",
            "\u001b[2K   \u001b[90m━━━━━━━━━━━━━━━━━━━━━━━━━━━━━━━━━━━━━━━━\u001b[0m \u001b[32m62.5/62.5 kB\u001b[0m \u001b[31m2.8 MB/s\u001b[0m eta \u001b[36m0:00:00\u001b[0m\n",
            "\u001b[2K   \u001b[90m━━━━━━━━━━━━━━━━━━━━━━━━━━━━━━━━━━━━━━━━\u001b[0m \u001b[32m94.6/94.6 kB\u001b[0m \u001b[31m3.9 MB/s\u001b[0m eta \u001b[36m0:00:00\u001b[0m\n",
            "\u001b[2K   \u001b[90m━━━━━━━━━━━━━━━━━━━━━━━━━━━━━━━━━━━━━━━━\u001b[0m \u001b[32m76.4/76.4 kB\u001b[0m \u001b[31m3.8 MB/s\u001b[0m eta \u001b[36m0:00:00\u001b[0m\n",
            "\u001b[2K   \u001b[90m━━━━━━━━━━━━━━━━━━━━━━━━━━━━━━━━━━━━━━━━\u001b[0m \u001b[32m78.0/78.0 kB\u001b[0m \u001b[31m3.4 MB/s\u001b[0m eta \u001b[36m0:00:00\u001b[0m\n",
            "\u001b[2K   \u001b[90m━━━━━━━━━━━━━━━━━━━━━━━━━━━━━━━━━━━━━━━━\u001b[0m \u001b[32m436.6/436.6 kB\u001b[0m \u001b[31m14.9 MB/s\u001b[0m eta \u001b[36m0:00:00\u001b[0m\n",
            "\u001b[2K   \u001b[90m━━━━━━━━━━━━━━━━━━━━━━━━━━━━━━━━━━━━━━━━\u001b[0m \u001b[32m141.9/141.9 kB\u001b[0m \u001b[31m6.8 MB/s\u001b[0m eta \u001b[36m0:00:00\u001b[0m\n",
            "\u001b[2K   \u001b[90m━━━━━━━━━━━━━━━━━━━━━━━━━━━━━━━━━━━━━━━━\u001b[0m \u001b[32m10.9/10.9 MB\u001b[0m \u001b[31m44.1 MB/s\u001b[0m eta \u001b[36m0:00:00\u001b[0m\n",
            "\u001b[2K   \u001b[90m━━━━━━━━━━━━━━━━━━━━━━━━━━━━━━━━━━━━━━━━\u001b[0m \u001b[32m63.7/63.7 kB\u001b[0m \u001b[31m3.5 MB/s\u001b[0m eta \u001b[36m0:00:00\u001b[0m\n",
            "\u001b[2K   \u001b[90m━━━━━━━━━━━━━━━━━━━━━━━━━━━━━━━━━━━━━━━━\u001b[0m \u001b[32m58.3/58.3 kB\u001b[0m \u001b[31m2.9 MB/s\u001b[0m eta \u001b[36m0:00:00\u001b[0m\n",
            "\u001b[2K   \u001b[90m━━━━━━━━━━━━━━━━━━━━━━━━━━━━━━━━━━━━━━━━\u001b[0m \u001b[32m71.5/71.5 kB\u001b[0m \u001b[31m3.5 MB/s\u001b[0m eta \u001b[36m0:00:00\u001b[0m\n",
            "\u001b[2K   \u001b[90m━━━━━━━━━━━━━━━━━━━━━━━━━━━━━━━━━━━━━━━━\u001b[0m \u001b[32m130.2/130.2 kB\u001b[0m \u001b[31m7.9 MB/s\u001b[0m eta \u001b[36m0:00:00\u001b[0m\n",
            "\u001b[?25h\u001b[33mUsage: \u001b[0mgradio [OPTIONS] DEMO_PATH\n",
            "\u001b[2mTry \u001b[0m\u001b[2;34m'gradio \u001b[0m\u001b[1;2;34m-\u001b[0m\u001b[1;2;34m-help\u001b[0m\u001b[2;34m'\u001b[0m\u001b[2m for help.\u001b[0m\n",
            "\u001b[31m╭─\u001b[0m\u001b[31m Error \u001b[0m\u001b[31m─────────────────────────────────────────────────────────────────────────────────────────\u001b[0m\u001b[31m─╮\u001b[0m\n",
            "\u001b[31m│\u001b[0m No such option: \u001b[1;36m-\u001b[0m\u001b[1;36m-version\u001b[0m                                                                        \u001b[31m│\u001b[0m\n",
            "\u001b[31m╰──────────────────────────────────────────────────────────────────────────────────────────────────╯\u001b[0m\n"
          ]
        }
      ],
      "source": [
        "!pip install -qqq gradio loguru pyyaml\n",
        "!gradio --version"
      ]
    },
    {
      "cell_type": "code",
      "execution_count": 4,
      "metadata": {
        "colab": {
          "base_uri": "https://localhost:8080/",
          "height": 645
        },
        "id": "e200MmBU2aLT",
        "outputId": "08ab3f27-67fb-45df-d673-4ec27c715dd3"
      },
      "outputs": [
        {
          "output_type": "stream",
          "name": "stdout",
          "text": [
            "Setting queue=True in a Colab notebook requires sharing enabled. Setting `share=True` (you can turn this off by setting `share=False` in `launch()` explicitly).\n",
            "\n",
            "Colab notebook detected. To show errors in colab notebook, set debug=True in launch()\n",
            "* Running on public URL: https://ff2085586036c92636.gradio.live\n",
            "\n",
            "This share link expires in 72 hours. For free permanent hosting and GPU upgrades, run `gradio deploy` from the terminal in the working directory to deploy to Hugging Face Spaces (https://huggingface.co/spaces)\n"
          ]
        },
        {
          "output_type": "display_data",
          "data": {
            "text/plain": [
              "<IPython.core.display.HTML object>"
            ],
            "text/html": [
              "<div><iframe src=\"https://ff2085586036c92636.gradio.live\" width=\"100%\" height=\"500\" allow=\"autoplay; camera; microphone; clipboard-read; clipboard-write;\" frameborder=\"0\" allowfullscreen></iframe></div>"
            ]
          },
          "metadata": {}
        }
      ],
      "source": [
        "import gradio as gr\n",
        "import os\n",
        "import json\n",
        "import yaml\n",
        "\n",
        "def read_file(file_path):\n",
        "    _, ext = os.path.splitext(file_path)\n",
        "    with open(file_path, 'r') as f:\n",
        "        content = f.read()\n",
        "\n",
        "    if ext == \".json\":\n",
        "        try:\n",
        "            json_content = json.loads(content)\n",
        "            yaml_content = yaml.dump(json_content, default_flow_style=False)\n",
        "            return yaml_content, True, \"yaml\"\n",
        "        except json.JSONDecodeError:\n",
        "            return \"Invalid JSON file!\", False, \"yaml\"\n",
        "\n",
        "    return content, False, \"text\"\n",
        "\n",
        "def convert_content(content, current_format):\n",
        "    if current_format == \"yaml\":\n",
        "        try:\n",
        "            json_content = yaml.safe_load(content)\n",
        "            return json.dumps(json_content, indent=4), \"json\"\n",
        "        except yaml.YAMLError:\n",
        "            return \"Invalid YAML content!\", \"yaml\"\n",
        "    else:\n",
        "        try:\n",
        "            json_content = json.loads(content)\n",
        "            return yaml.dump(json_content, default_flow_style=False), \"yaml\"\n",
        "        except json.JSONDecodeError:\n",
        "            return \"Invalid JSON content!\", \"json\"\n",
        "\n",
        "def save_file(content, file_path, directory, is_json, current_format):\n",
        "    if not os.path.isdir(directory):\n",
        "        return \"Invalid directory!\"\n",
        "\n",
        "    file_name = os.path.basename(file_path)\n",
        "    save_path = os.path.join(directory, file_name)\n",
        "\n",
        "    if is_json:\n",
        "        if current_format == \"yaml\":\n",
        "            try:\n",
        "                json_content = yaml.safe_load(content)\n",
        "                with open(save_path, 'w') as f:\n",
        "                    json.dump(json_content, f, indent=4)\n",
        "            except yaml.YAMLError:\n",
        "                return \"Invalid YAML content!\"\n",
        "        else:\n",
        "            try:\n",
        "                json_content = json.loads(content)\n",
        "                with open(save_path, 'w') as f:\n",
        "                    json.dump(json_content, f, indent=4)\n",
        "            except json.JSONDecodeError:\n",
        "                return \"Invalid JSON content!\"\n",
        "    else:\n",
        "        with open(save_path, 'w') as f:\n",
        "            f.write(content)\n",
        "\n",
        "    return f\"File saved successfully at {save_path}!\"\n",
        "\n",
        "def main():\n",
        "    with gr.Blocks() as app:\n",
        "        gr.Markdown(\"## File Editor App with JSON/YAML Conversion\")\n",
        "\n",
        "        file_input = gr.File(label=\"Upload a file\", type=\"filepath\")\n",
        "        directory_input = gr.Textbox(label=\"Directory to Save\", placeholder=\"Enter directory path\")\n",
        "        text_area = gr.Code(label=\"File Content\", language=\"yaml\", lines=20)\n",
        "        toggle_button = gr.Button(\"Toggle JSON/YAML\")\n",
        "        save_button = gr.Button(\"Save Changes\")\n",
        "        save_status = gr.Textbox(label=\"Status\", interactive=False)\n",
        "        is_json_state = gr.State()\n",
        "        current_format_state = gr.State()\n",
        "\n",
        "        def update_editor(file_path):\n",
        "            content, is_json, current_format = read_file(file_path)\n",
        "            return content, is_json, current_format\n",
        "\n",
        "        file_input.change(update_editor, inputs=file_input, outputs=[text_area, is_json_state, current_format_state])\n",
        "        toggle_button.click(convert_content, inputs=[text_area, current_format_state], outputs=[text_area, current_format_state])\n",
        "        save_button.click(save_file, inputs=[text_area, file_input, directory_input, is_json_state, current_format_state], outputs=save_status)\n",
        "\n",
        "    app.launch()\n",
        "\n",
        "if __name__ == \"__main__\":\n",
        "    main()\n"
      ]
    },
    {
      "cell_type": "markdown",
      "metadata": {
        "id": "uQheRaw5YVTL"
      },
      "source": [
        "That's all! Go ahead and open that share link in a new tab. Check out our [getting started](https://gradio.app/getting_started.html) page for more complicated demos."
      ]
    },
    {
      "cell_type": "code",
      "source": [
        "import gradio as gr\n",
        "import os\n",
        "import json\n",
        "import yaml\n",
        "\n",
        "def read_file(file_path):\n",
        "    _, ext = os.path.splitext(file_path)\n",
        "    with open(file_path, 'r') as f:\n",
        "        content = f.read()\n",
        "\n",
        "    if ext == \".json\":\n",
        "        try:\n",
        "            json_content = json.loads(content)\n",
        "            yaml_content = yaml.dump(json_content, default_flow_style=False)\n",
        "            return content, yaml_content, True, \"yaml\"\n",
        "        except json.JSONDecodeError:\n",
        "            return content, \"Invalid JSON file!\", False, \"yaml\"\n",
        "\n",
        "    return content, content, False, \"text\"\n",
        "\n",
        "def convert_content(content, current_format):\n",
        "    if current_format == \"yaml\":\n",
        "        try:\n",
        "            json_content = yaml.safe_load(content)\n",
        "            return json.dumps(json_content, indent=4), \"json\"\n",
        "        except yaml.YAMLError:\n",
        "            return \"Invalid YAML content!\", \"yaml\"\n",
        "    else:\n",
        "        try:\n",
        "            json_content = json.loads(content)\n",
        "            return yaml.dump(json_content, default_flow_style=False), \"yaml\"\n",
        "        except json.JSONDecodeError:\n",
        "            return \"Invalid JSON content!\", \"json\"\n",
        "\n",
        "def save_file(content, file_name, directory, is_json, current_format):\n",
        "    if not os.path.isdir(directory):\n",
        "        return \"Invalid directory!\"\n",
        "\n",
        "    save_path = os.path.join(directory, file_name)\n",
        "\n",
        "    if is_json:\n",
        "        if current_format == \"yaml\":\n",
        "            try:\n",
        "                json_content = yaml.safe_load(content)\n",
        "                with open(save_path, 'w') as f:\n",
        "                    json.dump(json_content, f, indent=4)\n",
        "            except yaml.YAMLError:\n",
        "                return \"Invalid YAML content!\"\n",
        "        else:\n",
        "            try:\n",
        "                json_content = json.loads(content)\n",
        "                with open(save_path, 'w') as f:\n",
        "                    json.dump(json_content, f, indent=4)\n",
        "            except json.JSONDecodeError:\n",
        "                return \"Invalid JSON content!\"\n",
        "    else:\n",
        "        with open(save_path, 'w') as f:\n",
        "            f.write(content)\n",
        "\n",
        "    return f\"File saved successfully at {save_path}!\"\n",
        "\n",
        "def main():\n",
        "    with gr.Blocks() as app:\n",
        "        gr.Markdown(\"## File Editor App with JSON/YAML Conversion and File Naming\")\n",
        "\n",
        "        file_input = gr.File(label=\"Upload a file\", type=\"filepath\")\n",
        "        directory_input = gr.Textbox(label=\"Directory to Save\", placeholder=\"Enter directory path\")\n",
        "        file_name_input = gr.Textbox(label=\"New File Name\", placeholder=\"Enter new file name\")\n",
        "        original_text = gr.Code(label=\"Original File Content\", language=\"yaml\", lines=20, interactive=False)\n",
        "        editable_text = gr.Code(label=\"Editable Content\", language=\"yaml\", lines=20)\n",
        "        toggle_button = gr.Button(\"Toggle JSON/YAML\")\n",
        "        save_button = gr.Button(\"Save Changes\")\n",
        "        save_status = gr.Textbox(label=\"Status\", interactive=False)\n",
        "        is_json_state = gr.State()\n",
        "        current_format_state = gr.State()\n",
        "\n",
        "        def update_editor(file_path):\n",
        "            original, content, is_json, current_format = read_file(file_path)\n",
        "            return original, content, is_json, current_format, os.path.basename(file_path)\n",
        "\n",
        "        file_input.change(update_editor, inputs=file_input, outputs=[original_text, editable_text, is_json_state, current_format_state, file_name_input])\n",
        "        toggle_button.click(convert_content, inputs=[editable_text, current_format_state], outputs=[editable_text, current_format_state])\n",
        "        save_button.click(save_file, inputs=[editable_text, file_name_input, directory_input, is_json_state, current_format_state], outputs=save_status)\n",
        "\n",
        "    app.launch()\n",
        "\n",
        "if __name__ == \"__main__\":\n",
        "    main()\n"
      ],
      "metadata": {
        "colab": {
          "base_uri": "https://localhost:8080/",
          "height": 645
        },
        "id": "OrqJvGkadKv-",
        "outputId": "a48de560-2e60-4d2a-d61e-660d55bc72c7"
      },
      "execution_count": 5,
      "outputs": [
        {
          "output_type": "stream",
          "name": "stdout",
          "text": [
            "Setting queue=True in a Colab notebook requires sharing enabled. Setting `share=True` (you can turn this off by setting `share=False` in `launch()` explicitly).\n",
            "\n",
            "Colab notebook detected. To show errors in colab notebook, set debug=True in launch()\n",
            "* Running on public URL: https://112558364c57c3fa3b.gradio.live\n",
            "\n",
            "This share link expires in 72 hours. For free permanent hosting and GPU upgrades, run `gradio deploy` from the terminal in the working directory to deploy to Hugging Face Spaces (https://huggingface.co/spaces)\n"
          ]
        },
        {
          "output_type": "display_data",
          "data": {
            "text/plain": [
              "<IPython.core.display.HTML object>"
            ],
            "text/html": [
              "<div><iframe src=\"https://112558364c57c3fa3b.gradio.live\" width=\"100%\" height=\"500\" allow=\"autoplay; camera; microphone; clipboard-read; clipboard-write;\" frameborder=\"0\" allowfullscreen></iframe></div>"
            ]
          },
          "metadata": {}
        }
      ]
    },
    {
      "cell_type": "code",
      "source": [
        "import gradio as gr\n",
        "import os\n",
        "import json\n",
        "import yaml\n",
        "\n",
        "def read_file(file_path):\n",
        "    _, ext = os.path.splitext(file_path)\n",
        "    with open(file_path, 'r') as f:\n",
        "        content = f.read()\n",
        "\n",
        "    if ext == \".json\":\n",
        "        try:\n",
        "            json_content = json.loads(content)\n",
        "            yaml_content = yaml.dump(json_content, default_flow_style=False)\n",
        "            return content, yaml_content, True, \"yaml\"\n",
        "        except json.JSONDecodeError:\n",
        "            return content, \"Invalid JSON file!\", False, \"yaml\"\n",
        "\n",
        "    return content, content, False, \"text\"\n",
        "\n",
        "def convert_content(content, current_format):\n",
        "    if current_format == \"yaml\":\n",
        "        try:\n",
        "            json_content = yaml.safe_load(content)\n",
        "            return json.dumps(json_content, indent=4), \"json\"\n",
        "        except yaml.YAMLError:\n",
        "            return \"Invalid YAML content!\", \"yaml\"\n",
        "    else:\n",
        "        try:\n",
        "            json_content = json.loads(content)\n",
        "            return yaml.dump(json_content, default_flow_style=False), \"yaml\"\n",
        "        except json.JSONDecodeError:\n",
        "            return \"Invalid JSON content!\", \"json\"\n",
        "\n",
        "def save_file(content, file_name, directory, is_json, current_format):\n",
        "    if not os.path.isdir(directory):\n",
        "        return \"Invalid directory!\"\n",
        "\n",
        "    save_path = os.path.join(directory, file_name)\n",
        "\n",
        "    if is_json:\n",
        "        if current_format == \"yaml\":\n",
        "            try:\n",
        "                json_content = yaml.safe_load(content)\n",
        "                with open(save_path, 'w') as f:\n",
        "                    json.dump(json_content, f, indent=4)\n",
        "            except yaml.YAMLError:\n",
        "                return \"Invalid YAML content!\"\n",
        "        else:\n",
        "            try:\n",
        "                json_content = json.loads(content)\n",
        "                with open(save_path, 'w') as f:\n",
        "                    json.dump(json_content, f, indent=4)\n",
        "            except json.JSONDecodeError:\n",
        "                return \"Invalid JSON content!\"\n",
        "    else:\n",
        "        with open(save_path, 'w') as f:\n",
        "            f.write(content)\n",
        "\n",
        "    return f\"File saved successfully at {save_path}!\"\n",
        "\n",
        "def main():\n",
        "    with gr.Blocks() as app:\n",
        "        gr.Markdown(\"## File Editor App with JSON/YAML Conversion and File Naming\")\n",
        "\n",
        "        file_input = gr.File(label=\"Upload a file\", type=\"filepath\")\n",
        "        directory_input = gr.Textbox(label=\"Directory to Save\", placeholder=\"Enter directory path\")\n",
        "        file_name_input = gr.Textbox(label=\"New File Name\", placeholder=\"Enter new file name\")\n",
        "\n",
        "        with gr.Column():\n",
        "            original_text = gr.Code(label=\"Original File Content\", language=\"yaml\", lines=20, interactive=False)\n",
        "            editable_text = gr.Code(label=\"Editable Content\", language=\"yaml\", lines=20)\n",
        "\n",
        "        toggle_button = gr.Button(\"Toggle JSON/YAML\")\n",
        "        save_button = gr.Button(\"Save Changes\")\n",
        "        save_status = gr.Textbox(label=\"Status\", interactive=False)\n",
        "        is_json_state = gr.State()\n",
        "        current_format_state = gr.State()\n",
        "\n",
        "        def update_editor(file_path):\n",
        "            original, content, is_json, current_format = read_file(file_path)\n",
        "            return original, content, is_json, current_format, os.path.basename(file_path)\n",
        "\n",
        "        file_input.change(update_editor, inputs=file_input, outputs=[original_text, editable_text, is_json_state, current_format_state, file_name_input])\n",
        "        toggle_button.click(convert_content, inputs=[editable_text, current_format_state], outputs=[editable_text, current_format_state])\n",
        "        save_button.click(save_file, inputs=[editable_text, file_name_input, directory_input, is_json_state, current_format_state], outputs=save_status)\n",
        "\n",
        "    app.launch()\n",
        "\n",
        "if __name__ == \"__main__\":\n",
        "    main()\n"
      ],
      "metadata": {
        "colab": {
          "base_uri": "https://localhost:8080/",
          "height": 645
        },
        "id": "U6LCkDXOdMYb",
        "outputId": "e09e6a42-c53c-4939-d4f0-532889af52a2"
      },
      "execution_count": 6,
      "outputs": [
        {
          "output_type": "stream",
          "name": "stdout",
          "text": [
            "Setting queue=True in a Colab notebook requires sharing enabled. Setting `share=True` (you can turn this off by setting `share=False` in `launch()` explicitly).\n",
            "\n",
            "Colab notebook detected. To show errors in colab notebook, set debug=True in launch()\n",
            "* Running on public URL: https://8ce08809b120848b60.gradio.live\n",
            "\n",
            "This share link expires in 72 hours. For free permanent hosting and GPU upgrades, run `gradio deploy` from the terminal in the working directory to deploy to Hugging Face Spaces (https://huggingface.co/spaces)\n"
          ]
        },
        {
          "output_type": "display_data",
          "data": {
            "text/plain": [
              "<IPython.core.display.HTML object>"
            ],
            "text/html": [
              "<div><iframe src=\"https://8ce08809b120848b60.gradio.live\" width=\"100%\" height=\"500\" allow=\"autoplay; camera; microphone; clipboard-read; clipboard-write;\" frameborder=\"0\" allowfullscreen></iframe></div>"
            ]
          },
          "metadata": {}
        }
      ]
    },
    {
      "cell_type": "code",
      "source": [
        "import gradio as gr\n",
        "import os\n",
        "import json\n",
        "import yaml\n",
        "\n",
        "def read_file(file_path):\n",
        "    _, ext = os.path.splitext(file_path)\n",
        "    with open(file_path, 'r') as f:\n",
        "        content = f.read()\n",
        "\n",
        "    if ext == \".json\":\n",
        "        try:\n",
        "            json_content = json.loads(content)\n",
        "            yaml_content = yaml.dump(json_content, default_flow_style=False)\n",
        "            return content, yaml_content, True, \"yaml\"\n",
        "        except json.JSONDecodeError:\n",
        "            return content, \"Invalid JSON file!\", False, \"yaml\"\n",
        "\n",
        "    return content, content, False, \"text\"\n",
        "\n",
        "def convert_content(content, current_format):\n",
        "    if current_format == \"yaml\":\n",
        "        try:\n",
        "            json_content = yaml.safe_load(content)\n",
        "            return json.dumps(json_content, indent=4), \"json\"\n",
        "        except yaml.YAMLError:\n",
        "            return \"Invalid YAML content!\", \"yaml\"\n",
        "    else:\n",
        "        try:\n",
        "            json_content = json.loads(content)\n",
        "            return yaml.dump(json_content, default_flow_style=False), \"yaml\"\n",
        "        except json.JSONDecodeError:\n",
        "            return \"Invalid JSON content!\", \"json\"\n",
        "\n",
        "def save_file(content, file_name, directory, is_json, current_format):\n",
        "    if not os.path.isdir(directory):\n",
        "        return \"Invalid directory!\"\n",
        "\n",
        "    save_path = os.path.join(directory, file_name)\n",
        "\n",
        "    if is_json:\n",
        "        if current_format == \"yaml\":\n",
        "            try:\n",
        "                json_content = yaml.safe_load(content)\n",
        "                with open(save_path, 'w') as f:\n",
        "                    json.dump(json_content, f, indent=4)\n",
        "            except yaml.YAMLError:\n",
        "                return \"Invalid YAML content!\"\n",
        "        else:\n",
        "            try:\n",
        "                json_content = json.loads(content)\n",
        "                with open(save_path, 'w') as f:\n",
        "                    json.dump(json_content, f, indent=4)\n",
        "            except json.JSONDecodeError:\n",
        "                return \"Invalid JSON content!\"\n",
        "    else:\n",
        "        with open(save_path, 'w') as f:\n",
        "            f.write(content)\n",
        "\n",
        "    return f\"File saved successfully at {save_path}!\"\n",
        "\n",
        "def main():\n",
        "    with gr.Blocks() as app:\n",
        "        # Add CSS for styling\n",
        "        app.css = \"\"\"\n",
        "        #original, #editable {\n",
        "            width: 350px; /* Adjust width as needed */\n",
        "        }\n",
        "        \"\"\"\n",
        "\n",
        "        gr.Markdown(\"## File Editor App with JSON/YAML Conversion and File Naming\")\n",
        "\n",
        "        file_input = gr.File(label=\"Upload a file\", type=\"filepath\")\n",
        "        directory_input = gr.Textbox(label=\"Directory to Save\", placeholder=\"Enter directory path\")\n",
        "        file_name_input = gr.Textbox(label=\"New File Name\", placeholder=\"Enter new file name\")\n",
        "\n",
        "        with gr.Row():\n",
        "            original_text = gr.Code(label=\"Original File Content\", language=\"yaml\", lines=20, elem_id=\"original\")\n",
        "            editable_text = gr.Code(label=\"Editable Content\", language=\"yaml\", lines=20, elem_id=\"editable\")\n",
        "\n",
        "        toggle_button = gr.Button(\"Toggle JSON/YAML\")\n",
        "        save_button = gr.Button(\"Save Changes\")\n",
        "        save_status = gr.Textbox(label=\"Status\", interactive=False)\n",
        "        is_json_state = gr.State()\n",
        "        current_format_state = gr.State()\n",
        "\n",
        "        def update_editor(file_path):\n",
        "            original, content, is_json, current_format = read_file(file_path)\n",
        "            return original, content, is_json, current_format, os.path.basename(file_path)\n",
        "\n",
        "        file_input.change(update_editor, inputs=file_input, outputs=[original_text, editable_text, is_json_state, current_format_state, file_name_input])\n",
        "        toggle_button.click(convert_content, inputs=[editable_text, current_format_state], outputs=[editable_text, current_format_state])\n",
        "        save_button.click(save_file, inputs=[editable_text, file_name_input, directory_input, is_json_state, current_format_state], outputs=save_status)\n",
        "\n",
        "    app.launch()\n",
        "\n",
        "if __name__ == \"__main__\":\n",
        "    main()\n"
      ],
      "metadata": {
        "colab": {
          "base_uri": "https://localhost:8080/",
          "height": 645
        },
        "id": "uWERZWvNduDU",
        "outputId": "c54be746-79b4-47dc-9834-0bee1a47c57b"
      },
      "execution_count": 8,
      "outputs": [
        {
          "output_type": "stream",
          "name": "stdout",
          "text": [
            "Setting queue=True in a Colab notebook requires sharing enabled. Setting `share=True` (you can turn this off by setting `share=False` in `launch()` explicitly).\n",
            "\n",
            "Colab notebook detected. To show errors in colab notebook, set debug=True in launch()\n",
            "* Running on public URL: https://9ad664319754bb1a94.gradio.live\n",
            "\n",
            "This share link expires in 72 hours. For free permanent hosting and GPU upgrades, run `gradio deploy` from the terminal in the working directory to deploy to Hugging Face Spaces (https://huggingface.co/spaces)\n"
          ]
        },
        {
          "output_type": "display_data",
          "data": {
            "text/plain": [
              "<IPython.core.display.HTML object>"
            ],
            "text/html": [
              "<div><iframe src=\"https://9ad664319754bb1a94.gradio.live\" width=\"100%\" height=\"500\" allow=\"autoplay; camera; microphone; clipboard-read; clipboard-write;\" frameborder=\"0\" allowfullscreen></iframe></div>"
            ]
          },
          "metadata": {}
        }
      ]
    },
    {
      "cell_type": "code",
      "source": [],
      "metadata": {
        "id": "RMLgGxwxezKo"
      },
      "execution_count": null,
      "outputs": []
    }
  ],
  "metadata": {
    "colab": {
      "provenance": [],
      "include_colab_link": true
    },
    "kernelspec": {
      "display_name": "Python 3",
      "name": "python3"
    }
  },
  "nbformat": 4,
  "nbformat_minor": 0
}
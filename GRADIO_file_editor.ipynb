{
  "cells": [
    {
      "cell_type": "markdown",
      "metadata": {
        "id": "view-in-github",
        "colab_type": "text"
      },
      "source": [
        "<a href=\"https://colab.research.google.com/github/seanreed1111/colab-demos/blob/master/GRADIO_file_editor.ipynb\" target=\"_parent\"><img src=\"https://colab.research.google.com/assets/colab-badge.svg\" alt=\"Open In Colab\"/></a>"
      ]
    },
    {
      "cell_type": "markdown",
      "metadata": {
        "id": "D_XJcxqx22uj"
      },
      "source": [
        "## Using Gradio to create a simple interface.\n",
        "\n",
        "Check out the library on [github](https://github.com/gradio-app/gradio-UI) and see the [getting started](https://gradio.app/getting_started.html) page for more demos."
      ]
    },
    {
      "cell_type": "markdown",
      "metadata": {
        "id": "AUHtJ20jYqd9"
      },
      "source": [
        "We'll start with a basic function that greets an input name."
      ]
    },
    {
      "cell_type": "code",
      "execution_count": null,
      "metadata": {
        "colab": {
          "base_uri": "https://localhost:8080/",
          "height": 35
        },
        "id": "qtlFLbke2Sob",
        "outputId": "2389f6e3-b8ef-4e5f-dffe-c629ea5a435b"
      },
      "outputs": [
        {
          "output_type": "execute_result",
          "data": {
            "text/plain": [
              "'Hello World!'"
            ],
            "application/vnd.google.colaboratory.intrinsic+json": {
              "type": "string"
            }
          },
          "metadata": {},
          "execution_count": 1
        }
      ],
      "source": [
        "def greet(name):\n",
        "  return \"Hello \" + name + \"!\"\n",
        "\n",
        "greet(\"World\")"
      ]
    },
    {
      "cell_type": "markdown",
      "metadata": {
        "id": "R06dbZZaYJDq"
      },
      "source": [
        "Now we'll wrap this function with a Gradio interface."
      ]
    },
    {
      "cell_type": "code",
      "execution_count": null,
      "metadata": {
        "id": "fJUJLWQ92g6R"
      },
      "outputs": [],
      "source": [
        "!pip install -qqq gradio loguru pyyaml"
      ]
    },
    {
      "cell_type": "code",
      "execution_count": null,
      "metadata": {
        "colab": {
          "base_uri": "https://localhost:8080/",
          "height": 645
        },
        "id": "e200MmBU2aLT",
        "outputId": "5f345ff1-48b7-4874-9159-24fbea9e6ed1"
      },
      "outputs": [
        {
          "output_type": "stream",
          "name": "stdout",
          "text": [
            "Setting queue=True in a Colab notebook requires sharing enabled. Setting `share=True` (you can turn this off by setting `share=False` in `launch()` explicitly).\n",
            "\n",
            "Colab notebook detected. To show errors in colab notebook, set debug=True in launch()\n",
            "* Running on public URL: https://5739b2e535195811b9.gradio.live\n",
            "\n",
            "This share link expires in 72 hours. For free permanent hosting and GPU upgrades, run `gradio deploy` from the terminal in the working directory to deploy to Hugging Face Spaces (https://huggingface.co/spaces)\n"
          ]
        },
        {
          "output_type": "display_data",
          "data": {
            "text/plain": [
              "<IPython.core.display.HTML object>"
            ],
            "text/html": [
              "<div><iframe src=\"https://5739b2e535195811b9.gradio.live\" width=\"100%\" height=\"500\" allow=\"autoplay; camera; microphone; clipboard-read; clipboard-write;\" frameborder=\"0\" allowfullscreen></iframe></div>"
            ]
          },
          "metadata": {}
        }
      ],
      "source": [
        "import gradio as gr\n",
        "import os\n",
        "import json\n",
        "import yaml\n",
        "\n",
        "def read_file(file_path):\n",
        "    _, ext = os.path.splitext(file_path)\n",
        "    with open(file_path, 'r') as f:\n",
        "        content = f.read()\n",
        "\n",
        "    if ext == \".json\":\n",
        "        try:\n",
        "            json_content = json.loads(content)\n",
        "            yaml_content = yaml.dump(json_content, default_flow_style=False)\n",
        "            return yaml_content, True, \"yaml\"\n",
        "        except json.JSONDecodeError:\n",
        "            return \"Invalid JSON file!\", False, \"yaml\"\n",
        "\n",
        "    return content, False, \"text\"\n",
        "\n",
        "def convert_content(content, current_format):\n",
        "    if current_format == \"yaml\":\n",
        "        try:\n",
        "            json_content = yaml.safe_load(content)\n",
        "            return json.dumps(json_content, indent=4), \"json\"\n",
        "        except yaml.YAMLError:\n",
        "            return \"Invalid YAML content!\", \"yaml\"\n",
        "    else:\n",
        "        try:\n",
        "            json_content = json.loads(content)\n",
        "            return yaml.dump(json_content, default_flow_style=False), \"yaml\"\n",
        "        except json.JSONDecodeError:\n",
        "            return \"Invalid JSON content!\", \"json\"\n",
        "\n",
        "def save_file(content, file_path, directory, is_json, current_format):\n",
        "    if not os.path.isdir(directory):\n",
        "        return \"Invalid directory!\"\n",
        "\n",
        "    file_name = os.path.basename(file_path)\n",
        "    save_path = os.path.join(directory, file_name)\n",
        "\n",
        "    if is_json:\n",
        "        if current_format == \"yaml\":\n",
        "            try:\n",
        "                json_content = yaml.safe_load(content)\n",
        "                with open(save_path, 'w') as f:\n",
        "                    json.dump(json_content, f, indent=4)\n",
        "            except yaml.YAMLError:\n",
        "                return \"Invalid YAML content!\"\n",
        "        else:\n",
        "            try:\n",
        "                json_content = json.loads(content)\n",
        "                with open(save_path, 'w') as f:\n",
        "                    json.dump(json_content, f, indent=4)\n",
        "            except json.JSONDecodeError:\n",
        "                return \"Invalid JSON content!\"\n",
        "    else:\n",
        "        with open(save_path, 'w') as f:\n",
        "            f.write(content)\n",
        "\n",
        "    return f\"File saved successfully at {save_path}!\"\n",
        "\n",
        "def main():\n",
        "    with gr.Blocks() as app:\n",
        "        gr.Markdown(\"## File Editor App with JSON/YAML Conversion\")\n",
        "\n",
        "        file_input = gr.File(label=\"Upload a file\", type=\"filepath\")\n",
        "        directory_input = gr.Textbox(label=\"Directory to Save\", placeholder=\"Enter directory path\")\n",
        "        text_area = gr.Code(label=\"File Content\", language=\"yaml\", lines=20)\n",
        "        toggle_button = gr.Button(\"Toggle JSON/YAML\")\n",
        "        save_button = gr.Button(\"Save Changes\")\n",
        "        save_status = gr.Textbox(label=\"Status\", interactive=False)\n",
        "        is_json_state = gr.State()\n",
        "        current_format_state = gr.State()\n",
        "\n",
        "        def update_editor(file_path):\n",
        "            content, is_json, current_format = read_file(file_path)\n",
        "            return content, is_json, current_format\n",
        "\n",
        "        file_input.change(update_editor, inputs=file_input, outputs=[text_area, is_json_state, current_format_state])\n",
        "        toggle_button.click(convert_content, inputs=[text_area, current_format_state], outputs=[text_area, current_format_state])\n",
        "        save_button.click(save_file, inputs=[text_area, file_input, directory_input, is_json_state, current_format_state], outputs=save_status)\n",
        "\n",
        "    app.launch()\n",
        "\n",
        "if __name__ == \"__main__\":\n",
        "    main()\n"
      ]
    },
    {
      "cell_type": "markdown",
      "metadata": {
        "id": "uQheRaw5YVTL"
      },
      "source": [
        "That's all! Go ahead and open that share link in a new tab. Check out our [getting started](https://gradio.app/getting_started.html) page for more complicated demos."
      ]
    }
  ],
  "metadata": {
    "colab": {
      "provenance": [],
      "include_colab_link": true
    },
    "kernelspec": {
      "display_name": "Python 3",
      "name": "python3"
    }
  },
  "nbformat": 4,
  "nbformat_minor": 0
}
{
  "nbformat": 4,
  "nbformat_minor": 0,
  "metadata": {
    "colab": {
      "name": "lognormal_univariate_demo.ipynb",
      "provenance": [],
      "collapsed_sections": [],
      "authorship_tag": "ABX9TyPYxAkTRljI4rJJYfq1djpv",
      "include_colab_link": true
    },
    "kernelspec": {
      "name": "python3",
      "display_name": "Python 3"
    },
    "language_info": {
      "name": "python"
    }
  },
  "cells": [
    {
      "cell_type": "markdown",
      "metadata": {
        "id": "view-in-github",
        "colab_type": "text"
      },
      "source": [
        "<a href=\"https://colab.research.google.com/github/seanreed1111/colab-demos/blob/master/lognormal_univariate_demo.ipynb\" target=\"_parent\"><img src=\"https://colab.research.google.com/assets/colab-badge.svg\" alt=\"Open In Colab\"/></a>"
      ]
    },
    {
      "cell_type": "code",
      "execution_count": 1,
      "metadata": {
        "colab": {
          "base_uri": "https://localhost:8080/"
        },
        "id": "bT3DYlZxdbyG",
        "outputId": "aadeb7a3-e59c-4e86-c06b-84c14a1d2102"
      },
      "outputs": [
        {
          "output_type": "stream",
          "name": "stdout",
          "text": [
            "Collecting pyro-ppl==1.8.0\n",
            "  Downloading pyro_ppl-1.8.0-py3-none-any.whl (713 kB)\n",
            "\u001b[?25l\r\u001b[K     |▌                               | 10 kB 15.9 MB/s eta 0:00:01\r\u001b[K     |█                               | 20 kB 18.7 MB/s eta 0:00:01\r\u001b[K     |█▍                              | 30 kB 14.2 MB/s eta 0:00:01\r\u001b[K     |█▉                              | 40 kB 7.9 MB/s eta 0:00:01\r\u001b[K     |██▎                             | 51 kB 7.0 MB/s eta 0:00:01\r\u001b[K     |██▊                             | 61 kB 8.0 MB/s eta 0:00:01\r\u001b[K     |███▏                            | 71 kB 8.3 MB/s eta 0:00:01\r\u001b[K     |███▊                            | 81 kB 7.0 MB/s eta 0:00:01\r\u001b[K     |████▏                           | 92 kB 7.7 MB/s eta 0:00:01\r\u001b[K     |████▋                           | 102 kB 8.4 MB/s eta 0:00:01\r\u001b[K     |█████                           | 112 kB 8.4 MB/s eta 0:00:01\r\u001b[K     |█████▌                          | 122 kB 8.4 MB/s eta 0:00:01\r\u001b[K     |██████                          | 133 kB 8.4 MB/s eta 0:00:01\r\u001b[K     |██████▍                         | 143 kB 8.4 MB/s eta 0:00:01\r\u001b[K     |███████                         | 153 kB 8.4 MB/s eta 0:00:01\r\u001b[K     |███████▍                        | 163 kB 8.4 MB/s eta 0:00:01\r\u001b[K     |███████▉                        | 174 kB 8.4 MB/s eta 0:00:01\r\u001b[K     |████████▎                       | 184 kB 8.4 MB/s eta 0:00:01\r\u001b[K     |████████▊                       | 194 kB 8.4 MB/s eta 0:00:01\r\u001b[K     |█████████▏                      | 204 kB 8.4 MB/s eta 0:00:01\r\u001b[K     |█████████▋                      | 215 kB 8.4 MB/s eta 0:00:01\r\u001b[K     |██████████                      | 225 kB 8.4 MB/s eta 0:00:01\r\u001b[K     |██████████▋                     | 235 kB 8.4 MB/s eta 0:00:01\r\u001b[K     |███████████                     | 245 kB 8.4 MB/s eta 0:00:01\r\u001b[K     |███████████▌                    | 256 kB 8.4 MB/s eta 0:00:01\r\u001b[K     |████████████                    | 266 kB 8.4 MB/s eta 0:00:01\r\u001b[K     |████████████▍                   | 276 kB 8.4 MB/s eta 0:00:01\r\u001b[K     |████████████▉                   | 286 kB 8.4 MB/s eta 0:00:01\r\u001b[K     |█████████████▎                  | 296 kB 8.4 MB/s eta 0:00:01\r\u001b[K     |█████████████▉                  | 307 kB 8.4 MB/s eta 0:00:01\r\u001b[K     |██████████████▎                 | 317 kB 8.4 MB/s eta 0:00:01\r\u001b[K     |██████████████▊                 | 327 kB 8.4 MB/s eta 0:00:01\r\u001b[K     |███████████████▏                | 337 kB 8.4 MB/s eta 0:00:01\r\u001b[K     |███████████████▋                | 348 kB 8.4 MB/s eta 0:00:01\r\u001b[K     |████████████████                | 358 kB 8.4 MB/s eta 0:00:01\r\u001b[K     |████████████████▌               | 368 kB 8.4 MB/s eta 0:00:01\r\u001b[K     |█████████████████               | 378 kB 8.4 MB/s eta 0:00:01\r\u001b[K     |█████████████████▌              | 389 kB 8.4 MB/s eta 0:00:01\r\u001b[K     |██████████████████              | 399 kB 8.4 MB/s eta 0:00:01\r\u001b[K     |██████████████████▍             | 409 kB 8.4 MB/s eta 0:00:01\r\u001b[K     |██████████████████▉             | 419 kB 8.4 MB/s eta 0:00:01\r\u001b[K     |███████████████████▎            | 430 kB 8.4 MB/s eta 0:00:01\r\u001b[K     |███████████████████▊            | 440 kB 8.4 MB/s eta 0:00:01\r\u001b[K     |████████████████████▏           | 450 kB 8.4 MB/s eta 0:00:01\r\u001b[K     |████████████████████▊           | 460 kB 8.4 MB/s eta 0:00:01\r\u001b[K     |█████████████████████▏          | 471 kB 8.4 MB/s eta 0:00:01\r\u001b[K     |█████████████████████▋          | 481 kB 8.4 MB/s eta 0:00:01\r\u001b[K     |██████████████████████          | 491 kB 8.4 MB/s eta 0:00:01\r\u001b[K     |██████████████████████▌         | 501 kB 8.4 MB/s eta 0:00:01\r\u001b[K     |███████████████████████         | 512 kB 8.4 MB/s eta 0:00:01\r\u001b[K     |███████████████████████▍        | 522 kB 8.4 MB/s eta 0:00:01\r\u001b[K     |████████████████████████        | 532 kB 8.4 MB/s eta 0:00:01\r\u001b[K     |████████████████████████▍       | 542 kB 8.4 MB/s eta 0:00:01\r\u001b[K     |████████████████████████▉       | 552 kB 8.4 MB/s eta 0:00:01\r\u001b[K     |█████████████████████████▎      | 563 kB 8.4 MB/s eta 0:00:01\r\u001b[K     |█████████████████████████▊      | 573 kB 8.4 MB/s eta 0:00:01\r\u001b[K     |██████████████████████████▏     | 583 kB 8.4 MB/s eta 0:00:01\r\u001b[K     |██████████████████████████▋     | 593 kB 8.4 MB/s eta 0:00:01\r\u001b[K     |███████████████████████████     | 604 kB 8.4 MB/s eta 0:00:01\r\u001b[K     |███████████████████████████▋    | 614 kB 8.4 MB/s eta 0:00:01\r\u001b[K     |████████████████████████████    | 624 kB 8.4 MB/s eta 0:00:01\r\u001b[K     |████████████████████████████▌   | 634 kB 8.4 MB/s eta 0:00:01\r\u001b[K     |█████████████████████████████   | 645 kB 8.4 MB/s eta 0:00:01\r\u001b[K     |█████████████████████████████▍  | 655 kB 8.4 MB/s eta 0:00:01\r\u001b[K     |█████████████████████████████▉  | 665 kB 8.4 MB/s eta 0:00:01\r\u001b[K     |██████████████████████████████▎ | 675 kB 8.4 MB/s eta 0:00:01\r\u001b[K     |██████████████████████████████▉ | 686 kB 8.4 MB/s eta 0:00:01\r\u001b[K     |███████████████████████████████▎| 696 kB 8.4 MB/s eta 0:00:01\r\u001b[K     |███████████████████████████████▊| 706 kB 8.4 MB/s eta 0:00:01\r\u001b[K     |████████████████████████████████| 713 kB 8.4 MB/s \n",
            "\u001b[?25hRequirement already satisfied: numpy>=1.7 in /usr/local/lib/python3.7/dist-packages (from pyro-ppl==1.8.0) (1.21.6)\n",
            "Collecting pyro-api>=0.1.1\n",
            "  Downloading pyro_api-0.1.2-py3-none-any.whl (11 kB)\n",
            "Requirement already satisfied: opt-einsum>=2.3.2 in /usr/local/lib/python3.7/dist-packages (from pyro-ppl==1.8.0) (3.3.0)\n",
            "Requirement already satisfied: tqdm>=4.36 in /usr/local/lib/python3.7/dist-packages (from pyro-ppl==1.8.0) (4.64.0)\n",
            "Requirement already satisfied: torch>=1.9.0 in /usr/local/lib/python3.7/dist-packages (from pyro-ppl==1.8.0) (1.10.0+cu111)\n",
            "Requirement already satisfied: typing-extensions in /usr/local/lib/python3.7/dist-packages (from torch>=1.9.0->pyro-ppl==1.8.0) (4.1.1)\n",
            "Installing collected packages: pyro-api, pyro-ppl\n",
            "Successfully installed pyro-api-0.1.2 pyro-ppl-1.8.0\n"
          ]
        }
      ],
      "source": [
        "!pip install pyro-ppl=='1.8.0'"
      ]
    },
    {
      "cell_type": "code",
      "source": [
        "import numpy as np\n",
        "import pandas as pd\n",
        "import seaborn as sns\n",
        "import matplotlib.pyplot as plt\n",
        "import torch\n",
        "from torch.distributions import constraints\n",
        "from torch import tensor\n",
        "\n",
        "import pyro\n",
        "import pyro.distributions as dist\n",
        "from pyro.infer import MCMC, NUTS\n",
        "from scipy.stats import norm, lognorm, binom"
      ],
      "metadata": {
        "id": "2Z-9vDhddheL"
      },
      "execution_count": 2,
      "outputs": []
    },
    {
      "cell_type": "markdown",
      "source": [
        "## Simulate fake data"
      ],
      "metadata": {
        "id": "Q4V5S8FMh2yz"
      }
    },
    {
      "cell_type": "code",
      "source": [
        "rng = np.random.default_rng(2022)  #see https://towardsdatascience.com/stop-using-numpy-random-seed-581a9972805f\n",
        "nobs = 125\n",
        "options = {'size':nobs, 'random_state':rng}\n",
        "x1 = binom.rvs(1,0.4,  **options) # simulated categorical predictor\n",
        "\n",
        "beta0 = -10.\n",
        "beta1 = 5.\n",
        "sigma = 1.\n",
        "\n",
        "xb = beta0 + beta1*x1\n",
        "exb = np.exp(xb)\n",
        "y = lognorm.rvs(s=sigma, scale=exb, **options)"
      ],
      "metadata": {
        "id": "twmylGC9drPm"
      },
      "execution_count": 15,
      "outputs": []
    },
    {
      "cell_type": "code",
      "source": [
        ""
      ],
      "metadata": {
        "id": "f3ROsOZQeOQf"
      },
      "execution_count": 16,
      "outputs": []
    },
    {
      "cell_type": "code",
      "source": [
        "samples = dist.LogNormal(loc=0., scale=1.).sample([800])\n",
        "sns.kdeplot(data=samples);"
      ],
      "metadata": {
        "colab": {
          "base_uri": "https://localhost:8080/",
          "height": 265
        },
        "id": "fCnoIWhFzW99",
        "outputId": "6aec8722-e293-4614-9943-e70d0ac29be5"
      },
      "execution_count": 24,
      "outputs": [
        {
          "output_type": "display_data",
          "data": {
            "text/plain": [
              "<Figure size 432x288 with 1 Axes>"
            ],
            "image/png": "[encoded data removed]"
          },
          "metadata": {
            "needs_background": "light"
          }
        }
      ]
    },
    {
      "cell_type": "code",
      "source": [
        "sns.kdeplot(data=samples.log());"
      ],
      "metadata": {
        "colab": {
          "base_uri": "https://localhost:8080/",
          "height": 265
        },
        "id": "Iity_Hnk0Us3",
        "outputId": "e4dfed1b-9ac3-4617-dc75-531ef1a6b43a"
      },
      "execution_count": 25,
      "outputs": [
        {
          "output_type": "display_data",
          "data": {
            "text/plain": [
              "<Figure size 432x288 with 1 Axes>"
            ],
            "image/png": "[encoded data removed]"
          },
          "metadata": {
            "needs_background": "light"
          }
        }
      ]
    },
    {
      "cell_type": "markdown",
      "source": [
        "## Model\n"
      ],
      "metadata": {
        "id": "qf1bDV9pkwVu"
      }
    },
    {
      "cell_type": "code",
      "source": [
        "data = tensor(x1, dtype=torch.float).unsqueeze(1) #unsqueeze needed if only one predictor\n",
        "target = tensor(y, dtype=torch.float)\n",
        "data.size(), data.dtype, target.size(), target.dtype"
      ],
      "metadata": {
        "id": "wGbws86Tly8F",
        "colab": {
          "base_uri": "https://localhost:8080/"
        },
        "outputId": "78757ff8-01a7-4314-af02-438518f048a6"
      },
      "execution_count": 43,
      "outputs": [
        {
          "output_type": "execute_result",
          "data": {
            "text/plain": [
              "(torch.Size([125, 1]), torch.float32, torch.Size([125]), torch.float32)"
            ]
          },
          "metadata": {},
          "execution_count": 43
        }
      ]
    },
    {
      "cell_type": "code",
      "source": [
        "from torch import nn\n",
        "from pyro.nn import PyroSample, PyroModule\n",
        "\n",
        "class BayesianLognormalRegression(PyroModule):\n",
        "    def __init__(self, *, in_features, out_features = 1, bias = True):\n",
        "        super().__init__()\n",
        "        self.linear = PyroModule[nn.Linear](in_features, out_features)\n",
        "        if bias:\n",
        "          self.linear.bias = PyroSample(dist.Normal(0., 5.).expand([out_features]).to_event(1))\n",
        "        self.linear.weight = PyroSample(dist.Normal(0., 5.).expand([out_features, in_features]).to_event(2))\n",
        "\n",
        "        \n",
        "    def forward(self, data, target=None):\n",
        "        mu = self.linear(data).squeeze(-1)\n",
        "        sigma = pyro.sample(\"sigma\", dist.Exponential(1.))\n",
        "        with pyro.plate(\"data\", data.shape[0]):\n",
        "            obs = pyro.sample(\"obs\", dist.LogNormal(loc=mu, scale=sigma), obs=target)\n",
        "        return mu"
      ],
      "metadata": {
        "id": "9mJiLVYgf450"
      },
      "execution_count": 47,
      "outputs": []
    },
    {
      "cell_type": "code",
      "source": [
        "data.size(), target.size()"
      ],
      "metadata": {
        "colab": {
          "base_uri": "https://localhost:8080/"
        },
        "id": "3q1Bqt_KmC_d",
        "outputId": "58abb119-043b-4997-f009-e0f405813214"
      },
      "execution_count": 48,
      "outputs": [
        {
          "output_type": "execute_result",
          "data": {
            "text/plain": [
              "(torch.Size([125, 1]), torch.Size([125]))"
            ]
          },
          "metadata": {},
          "execution_count": 48
        }
      ]
    },
    {
      "cell_type": "code",
      "source": [
        "model = BayesianLognormalRegression(in_features=1) #out_features is usually one, so one is the default arg\n",
        "\n",
        "from pyro.infer import MCMC, NUTS\n",
        "nuts_kernel = NUTS(model)\n",
        "mcmc = MCMC(nuts_kernel, num_samples=1000, warmup_steps=200)\n",
        "mcmc.run(data, target)"
      ],
      "metadata": {
        "colab": {
          "base_uri": "https://localhost:8080/"
        },
        "id": "9cgSJCjsmJyW",
        "outputId": "8e0a6817-10a3-439b-b70f-44435d926051"
      },
      "execution_count": 50,
      "outputs": [
        {
          "output_type": "stream",
          "name": "stderr",
          "text": [
            "Sample: 100%|██████████| 1200/1200 [00:19, 61.07it/s, step size=6.10e-01, acc. prob=0.926]\n"
          ]
        }
      ]
    },
    {
      "cell_type": "code",
      "source": [
        "hmc_samples = {k: v.detach().cpu().numpy() for k, v in mcmc.get_samples().items()}\n",
        "hmc_samples.keys()"
      ],
      "metadata": {
        "colab": {
          "base_uri": "https://localhost:8080/"
        },
        "id": "_RweSr01n2eh",
        "outputId": "d49985aa-5ddb-47f2-d955-c3e3815a1ea9"
      },
      "execution_count": 51,
      "outputs": [
        {
          "output_type": "execute_result",
          "data": {
            "text/plain": [
              "dict_keys(['linear.bias', 'linear.weight', 'sigma'])"
            ]
          },
          "metadata": {},
          "execution_count": 51
        }
      ]
    },
    {
      "cell_type": "code",
      "source": [
        "sns.kdeplot(data=hmc_samples['linear.bias']);"
      ],
      "metadata": {
        "colab": {
          "base_uri": "https://localhost:8080/",
          "height": 282
        },
        "id": "cTUs7kPkm4CU",
        "outputId": "35e10426-f76f-4b21-85d0-ddcc9b1f8c86"
      },
      "execution_count": 52,
      "outputs": [
        {
          "output_type": "stream",
          "name": "stderr",
          "text": [
            "\rWarmup:   0%|          | 0/1200 [01:51, ?it/s]\n"
          ]
        },
        {
          "output_type": "display_data",
          "data": {
            "text/plain": [
              "<Figure size 432x288 with 1 Axes>"
            ],
            "image/png": "[encoded data removed]"
          },
          "metadata": {
            "needs_background": "light"
          }
        }
      ]
    },
    {
      "cell_type": "code",
      "source": [
        "sns.kdeplot(data=hmc_samples['linear.weight'][:,:,0]);"
      ],
      "metadata": {
        "colab": {
          "base_uri": "https://localhost:8080/",
          "height": 265
        },
        "id": "8B9s4WbipF7X",
        "outputId": "2d4fe108-0103-4589-8753-bc2023addb2e"
      },
      "execution_count": 53,
      "outputs": [
        {
          "output_type": "display_data",
          "data": {
            "text/plain": [
              "<Figure size 432x288 with 1 Axes>"
            ],
            "image/png": "[encoded data removed]"
          },
          "metadata": {
            "needs_background": "light"
          }
        }
      ]
    },
    {
      "cell_type": "code",
      "source": [
        "hmc_samples['linear.bias'].mean(), (hmc_samples['linear.weight'][:,:,0]).mean(), hmc_samples['sigma'].mean()"
      ],
      "metadata": {
        "colab": {
          "base_uri": "https://localhost:8080/"
        },
        "id": "iLrk9CjNpWR_",
        "outputId": "5595b83c-74c1-432f-9784-d96bb6a001e4"
      },
      "execution_count": 59,
      "outputs": [
        {
          "output_type": "execute_result",
          "data": {
            "text/plain": [
              "(-10.035906, 5.035659, 1.0161332)"
            ]
          },
          "metadata": {},
          "execution_count": 59
        }
      ]
    },
    {
      "cell_type": "code",
      "source": [
        "beta0, beta1, sigma"
      ],
      "metadata": {
        "id": "-1DqD3DuqhzL",
        "colab": {
          "base_uri": "https://localhost:8080/"
        },
        "outputId": "3dd84136-df6d-48a3-b9f6-aba54d28e2d8"
      },
      "execution_count": 60,
      "outputs": [
        {
          "output_type": "execute_result",
          "data": {
            "text/plain": [
              "(-10.0, 5.0, 1.0)"
            ]
          },
          "metadata": {},
          "execution_count": 60
        }
      ]
    },
    {
      "cell_type": "code",
      "source": [
        ""
      ],
      "metadata": {
        "id": "4HpvUEp07PER"
      },
      "execution_count": null,
      "outputs": []
    }
  ]
}
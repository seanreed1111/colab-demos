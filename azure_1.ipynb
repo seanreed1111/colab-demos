{
  "nbformat": 4,
  "nbformat_minor": 0,
  "metadata": {
    "colab": {
      "provenance": [],
      "authorship_tag": "ABX9TyON0iIZgtJeFeMdEIc50ytq",
      "include_colab_link": true
    },
    "kernelspec": {
      "name": "python3",
      "display_name": "Python 3"
    },
    "language_info": {
      "name": "python"
    }
  },
  "cells": [
    {
      "cell_type": "markdown",
      "metadata": {
        "id": "view-in-github",
        "colab_type": "text"
      },
      "source": [
        "<a href=\"https://colab.research.google.com/github/seanreed1111/colab-demos/blob/master/azure_1.ipynb\" target=\"_parent\"><img src=\"https://colab.research.google.com/assets/colab-badge.svg\" alt=\"Open In Colab\"/></a>"
      ]
    },
    {
      "cell_type": "code",
      "source": [
        "%pip install -q azure-ai-ml omegaconf python-dotenv loguru textract tiktoken openai"
      ],
      "metadata": {
        "colab": {
          "base_uri": "https://localhost:8080/"
        },
        "id": "poRnH-oftTPb",
        "outputId": "bb80abc5-ca21-4df4-ece9-45b1eec1a93e"
      },
      "execution_count": 12,
      "outputs": [
        {
          "output_type": "stream",
          "name": "stdout",
          "text": [
            "\u001b[2K     \u001b[90m━━━━━━━━━━━━━━━━━━━━━━━━━━━━━━━━━━━━━━━━\u001b[0m \u001b[32m1.7/1.7 MB\u001b[0m \u001b[31m41.7 MB/s\u001b[0m eta \u001b[36m0:00:00\u001b[0m\n",
            "\u001b[2K     \u001b[90m━━━━━━━━━━━━━━━━━━━━━━━━━━━━━━━━━━━━━━━━\u001b[0m \u001b[32m71.9/71.9 kB\u001b[0m \u001b[31m9.5 MB/s\u001b[0m eta \u001b[36m0:00:00\u001b[0m\n",
            "\u001b[2K     \u001b[90m━━━━━━━━━━━━━━━━━━━━━━━━━━━━━━━━━━━━━━\u001b[0m \u001b[32m133.4/133.4 kB\u001b[0m \u001b[31m13.2 MB/s\u001b[0m eta \u001b[36m0:00:00\u001b[0m\n",
            "\u001b[2K     \u001b[90m━━━━━━━━━━━━━━━━━━━━━━━━━━━━━━━━━━━━━━━━\u001b[0m \u001b[32m10.1/10.1 MB\u001b[0m \u001b[31m65.1 MB/s\u001b[0m eta \u001b[36m0:00:00\u001b[0m\n",
            "\u001b[?25h  Preparing metadata (setup.py) ... \u001b[?25l\u001b[?25hdone\n",
            "  Preparing metadata (setup.py) ... \u001b[?25l\u001b[?25hdone\n",
            "\u001b[2K     \u001b[90m━━━━━━━━━━━━━━━━━━━━━━━━━━━━━━━━━━━━━━━━\u001b[0m \u001b[32m5.6/5.6 MB\u001b[0m \u001b[31m90.3 MB/s\u001b[0m eta \u001b[36m0:00:00\u001b[0m\n",
            "\u001b[2K     \u001b[90m━━━━━━━━━━━━━━━━━━━━━━━━━━━━━━━━━━━━━━\u001b[0m \u001b[32m106.9/106.9 kB\u001b[0m \u001b[31m14.3 MB/s\u001b[0m eta \u001b[36m0:00:00\u001b[0m\n",
            "\u001b[2K     \u001b[90m━━━━━━━━━━━━━━━━━━━━━━━━━━━━━━━━━━━━━━━━\u001b[0m \u001b[32m32.8/32.8 MB\u001b[0m \u001b[31m33.4 MB/s\u001b[0m eta \u001b[36m0:00:00\u001b[0m\n",
            "\u001b[2K     \u001b[90m━━━━━━━━━━━━━━━━━━━━━━━━━━━━━━━━━━━━━━\u001b[0m \u001b[32m103.3/103.3 kB\u001b[0m \u001b[31m12.8 MB/s\u001b[0m eta \u001b[36m0:00:00\u001b[0m\n",
            "\u001b[2K     \u001b[90m━━━━━━━━━━━━━━━━━━━━━━━━━━━━━━━━━━━━━━━━\u001b[0m \u001b[32m69.0/69.0 kB\u001b[0m \u001b[31m9.7 MB/s\u001b[0m eta \u001b[36m0:00:00\u001b[0m\n",
            "\u001b[2K     \u001b[90m━━━━━━━━━━━━━━━━━━━━━━━━━━━━━━━━━━━━━━━━\u001b[0m \u001b[32m2.1/2.1 MB\u001b[0m \u001b[31m72.1 MB/s\u001b[0m eta \u001b[36m0:00:00\u001b[0m\n",
            "\u001b[2K     \u001b[90m━━━━━━━━━━━━━━━━━━━━━━━━━━━━━━━━━━━━━━━━\u001b[0m \u001b[32m1.0/1.0 MB\u001b[0m \u001b[31m68.4 MB/s\u001b[0m eta \u001b[36m0:00:00\u001b[0m\n",
            "\u001b[2K     \u001b[90m━━━━━━━━━━━━━━━━━━━━━━━━━━━━━━━━━━━━━━\u001b[0m \u001b[32m128.5/128.5 kB\u001b[0m \u001b[31m17.2 MB/s\u001b[0m eta \u001b[36m0:00:00\u001b[0m\n",
            "\u001b[2K     \u001b[90m━━━━━━━━━━━━━━━━━━━━━━━━━━━━━━━━━━━━━━━━\u001b[0m \u001b[32m74.0/74.0 kB\u001b[0m \u001b[31m10.0 MB/s\u001b[0m eta \u001b[36m0:00:00\u001b[0m\n",
            "\u001b[?25h  Preparing metadata (setup.py) ... \u001b[?25l\u001b[?25hdone\n",
            "\u001b[2K     \u001b[90m━━━━━━━━━━━━━━━━━━━━━━━━━━━━━━━━━━━━━━\u001b[0m \u001b[32m112.2/112.2 kB\u001b[0m \u001b[31m14.1 MB/s\u001b[0m eta \u001b[36m0:00:00\u001b[0m\n",
            "\u001b[?25h  Preparing metadata (setup.py) ... \u001b[?25l\u001b[?25hdone\n",
            "\u001b[2K     \u001b[90m━━━━━━━━━━━━━━━━━━━━━━━━━━━━━━━━━━━━━━\u001b[0m \u001b[32m152.7/152.7 kB\u001b[0m \u001b[31m17.6 MB/s\u001b[0m eta \u001b[36m0:00:00\u001b[0m\n",
            "\u001b[2K     \u001b[90m━━━━━━━━━━━━━━━━━━━━━━━━━━━━━━━━━━━━━━\u001b[0m \u001b[32m268.8/268.8 kB\u001b[0m \u001b[31m32.5 MB/s\u001b[0m eta \u001b[36m0:00:00\u001b[0m\n",
            "\u001b[2K     \u001b[90m━━━━━━━━━━━━━━━━━━━━━━━━━━━━━━━━━━━━━━\u001b[0m \u001b[32m114.5/114.5 kB\u001b[0m \u001b[31m14.5 MB/s\u001b[0m eta \u001b[36m0:00:00\u001b[0m\n",
            "\u001b[2K     \u001b[90m━━━━━━━━━━━━━━━━━━━━━━━━━━━━━━━━━━━━━━\u001b[0m \u001b[32m149.6/149.6 kB\u001b[0m \u001b[31m19.0 MB/s\u001b[0m eta \u001b[36m0:00:00\u001b[0m\n",
            "\u001b[?25h  Building wheel for docx2txt (setup.py) ... \u001b[?25l\u001b[?25hdone\n",
            "  Building wheel for python-pptx (setup.py) ... \u001b[?25l\u001b[?25hdone\n",
            "  Building wheel for compressed-rtf (setup.py) ... \u001b[?25l\u001b[?25hdone\n",
            "  Building wheel for olefile (setup.py) ... \u001b[?25l\u001b[?25hdone\n",
            "\u001b[31mERROR: pip's dependency resolver does not currently take into account all the packages that are installed. This behaviour is the source of the following dependency conflicts.\n",
            "yfinance 0.2.18 requires beautifulsoup4>=4.11.1, but you have beautifulsoup4 4.8.2 which is incompatible.\u001b[0m\u001b[31m\n",
            "\u001b[0m"
          ]
        }
      ]
    },
    {
      "cell_type": "code",
      "source": [
        "import os,argparse,loguru, json, time, datetime, datetime\n",
        "from pathlib import Path\n",
        "from azure.ai.ml import command, Input, Output\n",
        "from azure.ai.ml.constants import AssetTypes\n",
        "from azure.ai.ml.entities import AmlCompute\n",
        "from loguru import logger"
      ],
      "metadata": {
        "id": "scY-DzUJquiS"
      },
      "execution_count": null,
      "outputs": []
    },
    {
      "cell_type": "code",
      "source": [
        "cwd = Path.cwd()\n",
        "json_env_path = Path(cwd, \"azure.env\")\n",
        "json_env_path = json_env_path if json_env_path.is_file() else None;json_env_path"
      ],
      "metadata": {
        "id": "h76er5u0v57l"
      },
      "execution_count": null,
      "outputs": []
    },
    {
      "cell_type": "code",
      "execution_count": null,
      "metadata": {
        "id": "PPYnoVGhoCFN"
      },
      "outputs": [],
      "source": [
        "def maybe_load_aml_env_vars(json_env_path=None):\n",
        "  import os, json\n",
        "  if not json_env_path: return False\n",
        "\n",
        "  try:\n",
        "    with open(json_env_path, \"r\") as f:\n",
        "      env_vars = json.load(f)\n",
        "    os.environ[\"RESOURCE_NAME\"] = env_vars[\"RESOURCE_NAME\"]\n",
        "    os.environ[\"WORKSPACE_NAME\"] = env_vars[\"WORKSPACE_NAME\"]\n",
        "    os.environ[\"SUBSCRIPTION_ID\"] = env_vars[\"SUBSCRIPTION_ID\"]\n",
        "\n",
        "  except Exception as e:\n",
        "    logger.error(f\"{e}\")\n",
        "\n",
        "  return (os.getenv(\"RESOURCE_NAME\")\n",
        "          and os.getenv(\"WORKSPACE_NAME\")\n",
        "          and os.getenv(\"SUBSCRIPTION_ID\")\n",
        "          )\n",
        "\n",
        "@logger.catch\n",
        "def aml_env_connected():\n",
        "  \"use environ vars to connect to Azure ML\"\n",
        "  pass\n",
        "\n",
        "@logger.catch\n",
        "def maybe_start_experiment(AZURE_AVAILABLE):\n",
        "  if AZURE_AVAILABLE:\n",
        "    pass\n",
        "\n",
        "@logger.catch\n",
        "def maybe_stop_experiment(AZURE_AVAILABLE):\n",
        "  if AZURE_AVAILABLE:\n",
        "    pass\n"
      ]
    },
    {
      "cell_type": "code",
      "source": [
        "maybe_load_aml_env_vars(json_env_path)\n",
        "\n",
        "os.getenv(\"SUBSCRIPTION_ID\")"
      ],
      "metadata": {
        "colab": {
          "base_uri": "https://localhost:8080/",
          "height": 35
        },
        "id": "b8MyEx4T7Rn-",
        "outputId": "55cdece2-5e62-4148-e456-5507425a6c69"
      },
      "execution_count": null,
      "outputs": [
        {
          "output_type": "execute_result",
          "data": {
            "text/plain": [
              "'SUBSCRIPTION_ID'"
            ],
            "application/vnd.google.colaboratory.intrinsic+json": {
              "type": "string"
            }
          },
          "metadata": {},
          "execution_count": 8
        }
      ]
    },
    {
      "cell_type": "markdown",
      "source": [
        "\n",
        "\n",
        "## 1 OBTAIN *DATASET*\n",
        "\n",
        "\n"
      ],
      "metadata": {
        "id": "sTEt1SAYHVFm"
      }
    },
    {
      "cell_type": "markdown",
      "source": [
        "### extract text from pdf"
      ],
      "metadata": {
        "id": "pK5mrZ8PJ4L_"
      }
    },
    {
      "cell_type": "code",
      "source": [
        "import textract\n",
        "import os\n",
        "import openai\n",
        "import tiktoken"
      ],
      "metadata": {
        "id": "fJ-sflJ77VjU"
      },
      "execution_count": 13,
      "outputs": []
    },
    {
      "cell_type": "code",
      "source": [
        "# upload resumes to this path\n",
        "resume_path = cwd / \"Resumes\"\n",
        "resume_path.mkdir(exist_ok=True)"
      ],
      "metadata": {
        "id": "r7fbQyXuLI_O"
      },
      "execution_count": 26,
      "outputs": []
    },
    {
      "cell_type": "code",
      "source": [
        "#TODO walk the directory to get all the filenames, use as names of the people in tagging and document retrieval\n",
        "files = [\"Jesse_Jayant.pdf\", \"Nadia_Smythe.pdf\", \"jin_wang.pdf\" ,\"sarah_jones.pdf\"]"
      ],
      "metadata": {
        "id": "Z9GVtwZ8Qjuv"
      },
      "execution_count": 27,
      "outputs": []
    },
    {
      "cell_type": "code",
      "source": [
        "# Extract the raw text from each PDF using textract\n",
        "# TODO Extract the file name and save it in a separate name field, or save these using name as dictkey, or save in dataframe row\n",
        "texts =[textract.process((resume_path / file), method='pdfminer').decode('utf-8') for file in files]\n",
        "\n",
        "clean_texts = [text.replace(\"  \", \" \").replace(\"\\n\", \"; \").replace(';',' ') for text in texts]"
      ],
      "metadata": {
        "id": "wY_fgajAK06l"
      },
      "execution_count": 34,
      "outputs": []
    },
    {
      "cell_type": "code",
      "source": [
        "clean_texts[0]"
      ],
      "metadata": {
        "colab": {
          "base_uri": "https://localhost:8080/",
          "height": 178
        },
        "id": "S9HB5rL8KtZG",
        "outputId": "82bc8884-75f8-401a-e7b5-b30c2392abd1"
      },
      "execution_count": 35,
      "outputs": [
        {
          "output_type": "execute_result",
          "data": {
            "text/plain": [
              "'Jesse Jayant     555-555-5555/ you@post.harvard.edu    Summary     Results-oriented finance professional with over 10 years of experience in publicly traded and privately held   enterprises. Proven track record in complex and capital-intensive global industries, delivering value and innovation in   Finance, Strategy, and Corporate Planning.     •  •  •    Budgeting  Business Planning  Financial Modeling    Strategic Planning  •  Reporting  •  • Valuation    • Month-End Close  Capital Planning  •  Project Planning  •    Core Competencies     Financial Analysis  Forecasting    •  •  • M&A    Experience     USA Airlines, Chicago, IL         Sr. Financial Analyst, Information Technology Financial Planning      2011 - 2018     • Developed and monitored a $1B annual Information Technology (IT) budget for 2012 & 2013.  •  •  •    Tracked spending against budget and project progress to ensure effectiveness of financial controls and accuracy.  Prepared and presented monthly, quarterly, and annual spending reports to CIO.  Implemented new technology (SharePoint Portal) and processes to facilitate monthly reporting that decreased  reporting cycle by over 40%.  Constructed a comprehensive monthly forecasting model to reduce forecast cycle time from 2 weeks to under 4 days.    •  • As a member of USA’s Chapter 11 Restructuring Team, conducted sensitivity analysis to re-negotiate 30 IT vendor    contracts that resulted in 15% savings.    Dream Properties, Bangalore, India              Sr. Financial Analyst, Finance & Strategic Planning         • Analyzed and recommended to the CFO and CEO viable business investments in Real Estate projects and lease    commitments ($5M-$25M).  Identified redundancy in processes and personnel that allowed $3M of annual expenses to become a source of  revenue.  Led a team of 7 professionals to identify revenue potential and optimization as key drivers of future portfolio strategy.    •    •     2010 - 2011         USA Airlines, Chicago, IL     Sr. Financial Analyst, Human Resources Finance         • Divisional controller, leading financial reporting and analysis, accounting, budgeting, P&L optimization for $200M       2009 - 2010      HR division including Compensation, Vendor Management, Retirement.  Led effort to right-size USA’s unionized workforce. Reduced total headcount by approximately 800 FTEs, resulting in  annualized savings of $60M.    •    • Modeled and presented the financial structure of USA’s variable compensation & bonus plans to executive    management.        Sr. Financial Analyst, Operations Business Planning        2008 - 2009     • Directed the implementation of a $50M technology project at over 10 major US Airports (including Dallas/Fort  Worth, Chicago, New York, Miami, Los Angeles) that scaled to support over 15,000 employees, increased  productivity by 12%, and reduced lost baggage expenses by 8%.  Built the Checked Baggage Fees Model and projected revenue stream ($12M) by forecasting the change in  passengers’ baggage check-in behavior.    •    • Developed an optimization model to define refurbishment strategy for over 300 ground service equipment that led to    $2M savings.    • Designed USA’s Rent Pricing Model to determine lease commitments for all US airports.        USA Owl Airlines, Chicago, IL     Financial Analyst, Financial Analysis & Capital Planning   • As a member the Finance Integration Team, collaborated with Merrill Lynch to develop a spinoff report to     2006 - 2007     provide guidance and enable departments estimate post spin-off revenue and cost synergies.    •    • Assessed departmental needs and partnered with internal customers on the composition of USA’s capital plan for    2008 ($500M).  Served as a liaison between Corporate Planning and Capital Planning  analyzed and acquired funding of $120M  for large capital projects in 1 year.  Identified and implemented cost-saving initiatives of $250K through ground service equipment optimization at 60  US airports.    •    \\x0cAlpro Laboratories, Detroit, MI      Financial Analyst, Finance & Business Planning   •  • Analyzed and recommended the CFO to adjust product production based on competing companies’ market share for    Re-designed the revenue forecast model to reduce budget preparation time by 30% in 4 months.      2006 - 2006     multiple product lines.    Morgan Firm, Wood, MI        Intern   • Assisted portfolio managers in analyzing stocks and mutual funds for prospective and existing clients.  •    Participated in client financial planning discussions and quarterly portfolio review.     2005 - 2005     Education     Harvard University, Extension School, Cambridge, MA   Master of Liberal Arts - Management   • Dean’s List, GPA 3.89    Professional Graduate Certificate – Organizational Behavior     Kalamazoo College, Kalamazoo, MI       Bachelor of Business Administration - Finance    Summa Cum Laude, Dean’s List, GPA 3.92  •    Additional Information      May 2017          May 2017         December 2005     • Cultural Experiences: Visited over 30 countries in 4 continents and lived in 3 countries  •    Social Impact: Susan G. Komen Walk Fundraising – Member (2012-2013), Mother Teresa Missionaries of Charity -  Committee Member (2010-2011), Big Brother Big Sister – Member (2008)  Personal Interests: Avid reader, traveller, bicyclist    •    \\x0c'"
            ],
            "application/vnd.google.colaboratory.intrinsic+json": {
              "type": "string"
            }
          },
          "metadata": {},
          "execution_count": 35
        }
      ]
    },
    {
      "cell_type": "code",
      "source": [
        "for i, text in enumerate(clean_texts):\n",
        "  print(len(text)) #count characters"
      ],
      "metadata": {
        "colab": {
          "base_uri": "https://localhost:8080/"
        },
        "id": "FH98xErgNAvJ",
        "outputId": "5b0986e2-f80a-432f-d96c-3d3b4c5cdc02"
      },
      "execution_count": 36,
      "outputs": [
        {
          "output_type": "stream",
          "name": "stdout",
          "text": [
            "5357\n",
            "2906\n",
            "3078\n",
            "5067\n"
          ]
        }
      ]
    },
    {
      "cell_type": "code",
      "source": [
        "for i, text in enumerate(clean_texts):\n",
        "  print(len(text)) #count characters"
      ],
      "metadata": {
        "id": "wwZXC6jUTLvh"
      },
      "execution_count": null,
      "outputs": []
    }
  ]
}
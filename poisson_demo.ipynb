{
  "nbformat": 4,
  "nbformat_minor": 0,
  "metadata": {
    "colab": {
      "name": "poisson_demo.ipynb",
      "provenance": [],
      "collapsed_sections": [],
      "authorship_tag": "ABX9TyNytWWfW6QzPplbyQAdLftj",
      "include_colab_link": true
    },
    "kernelspec": {
      "name": "python3",
      "display_name": "Python 3"
    },
    "language_info": {
      "name": "python"
    }
  },
  "cells": [
    {
      "cell_type": "markdown",
      "metadata": {
        "id": "view-in-github",
        "colab_type": "text"
      },
      "source": [
        "<a href=\"https://colab.research.google.com/github/seanreed1111/colab-demos/blob/master/poisson_demo.ipynb\" target=\"_parent\"><img src=\"https://colab.research.google.com/assets/colab-badge.svg\" alt=\"Open In Colab\"/></a>"
      ]
    },
    {
      "cell_type": "code",
      "execution_count": 1,
      "metadata": {
        "colab": {
          "base_uri": "https://localhost:8080/"
        },
        "id": "bT3DYlZxdbyG",
        "outputId": "b450f708-3f34-4fbc-9014-731bbca47240"
      },
      "outputs": [
        {
          "output_type": "stream",
          "name": "stdout",
          "text": [
            "Collecting pyro-ppl==1.8.0\n",
            "  Downloading pyro_ppl-1.8.0-py3-none-any.whl (713 kB)\n",
            "\u001b[?25l\r\u001b[K     |▌                               | 10 kB 12.4 MB/s eta 0:00:01\r\u001b[K     |█                               | 20 kB 15.3 MB/s eta 0:00:01\r\u001b[K     |█▍                              | 30 kB 14.9 MB/s eta 0:00:01\r\u001b[K     |█▉                              | 40 kB 12.0 MB/s eta 0:00:01\r\u001b[K     |██▎                             | 51 kB 9.8 MB/s eta 0:00:01\r\u001b[K     |██▊                             | 61 kB 11.3 MB/s eta 0:00:01\r\u001b[K     |███▏                            | 71 kB 12.5 MB/s eta 0:00:01\r\u001b[K     |███▊                            | 81 kB 11.4 MB/s eta 0:00:01\r\u001b[K     |████▏                           | 92 kB 12.4 MB/s eta 0:00:01\r\u001b[K     |████▋                           | 102 kB 13.3 MB/s eta 0:00:01\r\u001b[K     |█████                           | 112 kB 13.3 MB/s eta 0:00:01\r\u001b[K     |█████▌                          | 122 kB 13.3 MB/s eta 0:00:01\r\u001b[K     |██████                          | 133 kB 13.3 MB/s eta 0:00:01\r\u001b[K     |██████▍                         | 143 kB 13.3 MB/s eta 0:00:01\r\u001b[K     |███████                         | 153 kB 13.3 MB/s eta 0:00:01\r\u001b[K     |███████▍                        | 163 kB 13.3 MB/s eta 0:00:01\r\u001b[K     |███████▉                        | 174 kB 13.3 MB/s eta 0:00:01\r\u001b[K     |████████▎                       | 184 kB 13.3 MB/s eta 0:00:01\r\u001b[K     |████████▊                       | 194 kB 13.3 MB/s eta 0:00:01\r\u001b[K     |█████████▏                      | 204 kB 13.3 MB/s eta 0:00:01\r\u001b[K     |█████████▋                      | 215 kB 13.3 MB/s eta 0:00:01\r\u001b[K     |██████████                      | 225 kB 13.3 MB/s eta 0:00:01\r\u001b[K     |██████████▋                     | 235 kB 13.3 MB/s eta 0:00:01\r\u001b[K     |███████████                     | 245 kB 13.3 MB/s eta 0:00:01\r\u001b[K     |███████████▌                    | 256 kB 13.3 MB/s eta 0:00:01\r\u001b[K     |████████████                    | 266 kB 13.3 MB/s eta 0:00:01\r\u001b[K     |████████████▍                   | 276 kB 13.3 MB/s eta 0:00:01\r\u001b[K     |████████████▉                   | 286 kB 13.3 MB/s eta 0:00:01\r\u001b[K     |█████████████▎                  | 296 kB 13.3 MB/s eta 0:00:01\r\u001b[K     |█████████████▉                  | 307 kB 13.3 MB/s eta 0:00:01\r\u001b[K     |██████████████▎                 | 317 kB 13.3 MB/s eta 0:00:01\r\u001b[K     |██████████████▊                 | 327 kB 13.3 MB/s eta 0:00:01\r\u001b[K     |███████████████▏                | 337 kB 13.3 MB/s eta 0:00:01\r\u001b[K     |███████████████▋                | 348 kB 13.3 MB/s eta 0:00:01\r\u001b[K     |████████████████                | 358 kB 13.3 MB/s eta 0:00:01\r\u001b[K     |████████████████▌               | 368 kB 13.3 MB/s eta 0:00:01\r\u001b[K     |█████████████████               | 378 kB 13.3 MB/s eta 0:00:01\r\u001b[K     |█████████████████▌              | 389 kB 13.3 MB/s eta 0:00:01\r\u001b[K     |██████████████████              | 399 kB 13.3 MB/s eta 0:00:01\r\u001b[K     |██████████████████▍             | 409 kB 13.3 MB/s eta 0:00:01\r\u001b[K     |██████████████████▉             | 419 kB 13.3 MB/s eta 0:00:01\r\u001b[K     |███████████████████▎            | 430 kB 13.3 MB/s eta 0:00:01\r\u001b[K     |███████████████████▊            | 440 kB 13.3 MB/s eta 0:00:01\r\u001b[K     |████████████████████▏           | 450 kB 13.3 MB/s eta 0:00:01\r\u001b[K     |████████████████████▊           | 460 kB 13.3 MB/s eta 0:00:01\r\u001b[K     |█████████████████████▏          | 471 kB 13.3 MB/s eta 0:00:01\r\u001b[K     |█████████████████████▋          | 481 kB 13.3 MB/s eta 0:00:01\r\u001b[K     |██████████████████████          | 491 kB 13.3 MB/s eta 0:00:01\r\u001b[K     |██████████████████████▌         | 501 kB 13.3 MB/s eta 0:00:01\r\u001b[K     |███████████████████████         | 512 kB 13.3 MB/s eta 0:00:01\r\u001b[K     |███████████████████████▍        | 522 kB 13.3 MB/s eta 0:00:01\r\u001b[K     |████████████████████████        | 532 kB 13.3 MB/s eta 0:00:01\r\u001b[K     |████████████████████████▍       | 542 kB 13.3 MB/s eta 0:00:01\r\u001b[K     |████████████████████████▉       | 552 kB 13.3 MB/s eta 0:00:01\r\u001b[K     |█████████████████████████▎      | 563 kB 13.3 MB/s eta 0:00:01\r\u001b[K     |█████████████████████████▊      | 573 kB 13.3 MB/s eta 0:00:01\r\u001b[K     |██████████████████████████▏     | 583 kB 13.3 MB/s eta 0:00:01\r\u001b[K     |██████████████████████████▋     | 593 kB 13.3 MB/s eta 0:00:01\r\u001b[K     |███████████████████████████     | 604 kB 13.3 MB/s eta 0:00:01\r\u001b[K     |███████████████████████████▋    | 614 kB 13.3 MB/s eta 0:00:01\r\u001b[K     |████████████████████████████    | 624 kB 13.3 MB/s eta 0:00:01\r\u001b[K     |████████████████████████████▌   | 634 kB 13.3 MB/s eta 0:00:01\r\u001b[K     |█████████████████████████████   | 645 kB 13.3 MB/s eta 0:00:01\r\u001b[K     |█████████████████████████████▍  | 655 kB 13.3 MB/s eta 0:00:01\r\u001b[K     |█████████████████████████████▉  | 665 kB 13.3 MB/s eta 0:00:01\r\u001b[K     |██████████████████████████████▎ | 675 kB 13.3 MB/s eta 0:00:01\r\u001b[K     |██████████████████████████████▉ | 686 kB 13.3 MB/s eta 0:00:01\r\u001b[K     |███████████████████████████████▎| 696 kB 13.3 MB/s eta 0:00:01\r\u001b[K     |███████████████████████████████▊| 706 kB 13.3 MB/s eta 0:00:01\r\u001b[K     |████████████████████████████████| 713 kB 13.3 MB/s \n",
            "\u001b[?25hRequirement already satisfied: numpy>=1.7 in /usr/local/lib/python3.7/dist-packages (from pyro-ppl==1.8.0) (1.21.6)\n",
            "Requirement already satisfied: torch>=1.9.0 in /usr/local/lib/python3.7/dist-packages (from pyro-ppl==1.8.0) (1.10.0+cu111)\n",
            "Requirement already satisfied: tqdm>=4.36 in /usr/local/lib/python3.7/dist-packages (from pyro-ppl==1.8.0) (4.64.0)\n",
            "Requirement already satisfied: opt-einsum>=2.3.2 in /usr/local/lib/python3.7/dist-packages (from pyro-ppl==1.8.0) (3.3.0)\n",
            "Collecting pyro-api>=0.1.1\n",
            "  Downloading pyro_api-0.1.2-py3-none-any.whl (11 kB)\n",
            "Requirement already satisfied: typing-extensions in /usr/local/lib/python3.7/dist-packages (from torch>=1.9.0->pyro-ppl==1.8.0) (4.1.1)\n",
            "Installing collected packages: pyro-api, pyro-ppl\n",
            "Successfully installed pyro-api-0.1.2 pyro-ppl-1.8.0\n"
          ]
        }
      ],
      "source": [
        "!pip install pyro-ppl=='1.8.0'"
      ]
    },
    {
      "cell_type": "code",
      "source": [
        "import numpy as np\n",
        "import pandas as pd\n",
        "import seaborn as sns\n",
        "import matplotlib.pyplot as plt\n",
        "import torch\n",
        "from torch.distributions import constraints\n",
        "from torch import tensor\n",
        "\n",
        "import pyro\n",
        "import pyro.distributions as dist\n",
        "from pyro.infer import MCMC, NUTS\n",
        "from scipy.stats import norm, poisson, binom"
      ],
      "metadata": {
        "id": "2Z-9vDhddheL"
      },
      "execution_count": 2,
      "outputs": []
    },
    {
      "cell_type": "markdown",
      "source": [
        "## Simulate fake data"
      ],
      "metadata": {
        "id": "Q4V5S8FMh2yz"
      }
    },
    {
      "cell_type": "code",
      "source": [
        "rng = np.random.default_rng(2022)  #see https://towardsdatascience.com/stop-using-numpy-random-seed-581a9972805f\n",
        "nobs = 750\n",
        "options = {'random_state':rng}"
      ],
      "metadata": {
        "id": "twmylGC9drPm"
      },
      "execution_count": 9,
      "outputs": []
    },
    {
      "cell_type": "code",
      "source": [
        "b1 = binom.rvs(1,0.7,  size=nobs, **options) # simulated categorical predictor\n",
        "b2 = norm.rvs(loc=0, scale=1, size=nobs, **options) #simulated continuous predictor\n",
        "\n",
        "beta = [1., -1.5, -3.5] #these are the values for betas our model should retrieve\n",
        "xb = 1. - 1.5*b1 - 3.5*b2  \n",
        "exb = np.exp(xb)\n",
        "py = poisson.rvs(exb, **options)"
      ],
      "metadata": {
        "id": "f3ROsOZQeOQf"
      },
      "execution_count": 23,
      "outputs": []
    },
    {
      "cell_type": "code",
      "source": [
        "sns.kdeplot(data=py)"
      ],
      "metadata": {
        "colab": {
          "base_uri": "https://localhost:8080/",
          "height": 282
        },
        "id": "wP-W7A7thM4D",
        "outputId": "07f97465-2f9a-40ab-83ce-8fa78e252913"
      },
      "execution_count": 20,
      "outputs": [
        {
          "output_type": "execute_result",
          "data": {
            "text/plain": [
              "<matplotlib.axes._subplots.AxesSubplot at 0x7f86c05232d0>"
            ]
          },
          "metadata": {},
          "execution_count": 20
        },
        {
          "output_type": "display_data",
          "data": {
            "text/plain": [
              "<Figure size 432x288 with 1 Axes>"
            ],
            "image/png": "[encoded data removed]"
          },
          "metadata": {
            "needs_background": "light"
          }
        }
      ]
    },
    {
      "cell_type": "code",
      "source": [
        "b1"
      ],
      "metadata": {
        "colab": {
          "base_uri": "https://localhost:8080/"
        },
        "id": "Mdf15TJrknIH",
        "outputId": "e6547d7e-50b4-48af-b7d4-b4c174675c61"
      },
      "execution_count": 21,
      "outputs": [
        {
          "output_type": "execute_result",
          "data": {
            "text/plain": [
              "array([1, 1, 1, 1, 1, 0, 1, 1, 1, 0, 0, 1, 1, 1, 1, 0, 0, 0, 0, 0, 1, 1,\n",
              "       0, 1, 1, 1, 1, 1, 1, 1, 1, 1, 1, 1, 1, 1, 1, 1, 0, 1, 1, 1, 0, 1,\n",
              "       1, 1, 1, 1, 1, 1, 1, 1, 1, 0, 1, 1, 1, 0, 1, 1, 1, 1, 1, 1, 0, 1,\n",
              "       1, 1, 1, 1, 1, 1, 1, 1, 0, 1, 1, 1, 1, 0, 1, 0, 1, 0, 1, 1, 1, 0,\n",
              "       1, 0, 1, 1, 0, 1, 0, 0, 1, 1, 0, 0, 1, 0, 1, 1, 0, 1, 0, 1, 1, 1,\n",
              "       1, 1, 1, 1, 1, 1, 0, 0, 0, 1, 0, 1, 1, 1, 0, 1, 0, 1, 1, 1, 1, 1,\n",
              "       0, 1, 1, 1, 0, 1, 0, 1, 0, 1, 0, 1, 0, 1, 1, 1, 1, 1, 0, 1, 0, 0,\n",
              "       1, 0, 1, 1, 1, 1, 0, 1, 0, 1, 1, 0, 0, 1, 1, 1, 1, 1, 1, 0, 0, 1,\n",
              "       1, 1, 0, 1, 0, 1, 1, 0, 1, 1, 0, 0, 0, 1, 1, 1, 1, 1, 1, 1, 1, 1,\n",
              "       1, 0, 1, 0, 1, 0, 1, 1, 1, 1, 1, 0, 1, 1, 1, 1, 1, 1, 1, 1, 0, 0,\n",
              "       1, 0, 1, 1, 0, 0, 1, 0, 1, 1, 1, 1, 1, 1, 1, 1, 1, 0, 0, 1, 0, 1,\n",
              "       0, 0, 1, 1, 0, 1, 1, 1, 1, 1, 0, 1, 1, 0, 0, 0, 1, 0, 1, 1, 0, 1,\n",
              "       1, 1, 0, 0, 1, 1, 0, 1, 0, 1, 1, 1, 1, 1, 0, 1, 1, 1, 1, 1, 0, 1,\n",
              "       1, 1, 0, 1, 0, 1, 1, 1, 1, 1, 1, 1, 1, 1, 0, 1, 1, 1, 0, 1, 1, 1,\n",
              "       1, 1, 1, 1, 1, 1, 1, 1, 1, 1, 0, 1, 1, 1, 1, 1, 1, 1, 0, 1, 0, 0,\n",
              "       1, 1, 0, 0, 0, 1, 1, 0, 0, 1, 1, 0, 0, 0, 0, 1, 0, 0, 0, 1, 1, 1,\n",
              "       0, 0, 1, 1, 1, 1, 1, 0, 1, 1, 1, 1, 0, 1, 1, 1, 1, 1, 1, 1, 1, 1,\n",
              "       1, 0, 1, 1, 1, 1, 1, 1, 1, 1, 1, 1, 1, 1, 0, 1, 1, 1, 0, 0, 1, 1,\n",
              "       1, 1, 1, 1, 0, 0, 1, 1, 1, 0, 0, 1, 1, 1, 1, 1, 1, 1, 1, 1, 0, 1,\n",
              "       1, 1, 1, 1, 1, 1, 1, 0, 1, 0, 1, 0, 0, 1, 1, 1, 1, 1, 1, 1, 1, 1,\n",
              "       1, 0, 1, 1, 1, 0, 0, 1, 0, 1, 1, 1, 1, 0, 1, 0, 1, 1, 1, 0, 1, 1,\n",
              "       1, 1, 1, 0, 0, 0, 0, 0, 0, 1, 0, 1, 1, 1, 0, 0, 1, 0, 0, 1, 1, 1,\n",
              "       0, 0, 1, 1, 1, 1, 1, 0, 1, 1, 1, 0, 1, 1, 1, 1, 1, 1, 0, 1, 1, 1,\n",
              "       1, 1, 1, 1, 1, 1, 1, 1, 1, 1, 0, 1, 0, 1, 1, 1, 1, 0, 1, 1, 1, 0,\n",
              "       0, 1, 0, 0, 1, 1, 0, 0, 1, 0, 1, 1, 1, 1, 1, 0, 0, 0, 1, 1, 0, 1,\n",
              "       1, 1, 1, 1, 1, 1, 0, 1, 1, 0, 1, 1, 0, 1, 0, 0, 0, 0, 1, 1, 1, 1,\n",
              "       1, 1, 1, 1, 1, 1, 1, 0, 1, 1, 1, 1, 0, 1, 1, 1, 1, 1, 1, 1, 1, 1,\n",
              "       1, 0, 0, 1, 1, 0, 1, 1, 0, 1, 0, 0, 0, 1, 0, 1, 1, 0, 0, 1, 1, 1,\n",
              "       1, 1, 1, 0, 1, 0, 1, 1, 0, 1, 1, 1, 1, 0, 1, 0, 1, 1, 1, 1, 1, 1,\n",
              "       0, 1, 0, 1, 0, 1, 1, 1, 1, 0, 0, 1, 1, 1, 1, 0, 1, 1, 0, 1, 1, 1,\n",
              "       0, 1, 1, 0, 1, 1, 1, 0, 0, 0, 1, 1, 1, 0, 0, 1, 1, 1, 1, 1, 0, 1,\n",
              "       1, 1, 1, 1, 0, 1, 0, 1, 1, 1, 1, 0, 1, 1, 1, 1, 1, 1, 0, 1, 1, 1,\n",
              "       1, 1, 1, 0, 1, 1, 0, 1, 1, 1, 1, 0, 0, 1, 0, 1, 1, 1, 0, 1, 1, 0,\n",
              "       1, 1, 0, 1, 1, 0, 1, 0, 1, 1, 0, 0, 1, 1, 0, 1, 1, 1, 1, 0, 1, 1,\n",
              "       1, 0])"
            ]
          },
          "metadata": {},
          "execution_count": 21
        }
      ]
    },
    {
      "cell_type": "code",
      "source": [
        "b2"
      ],
      "metadata": {
        "colab": {
          "base_uri": "https://localhost:8080/"
        },
        "id": "_5dhh1Rskpfa",
        "outputId": "7080328e-390b-4ffd-b2b7-42468edbac89"
      },
      "execution_count": 22,
      "outputs": [
        {
          "output_type": "execute_result",
          "data": {
            "text/plain": [
              "array([ 6.77464115e-01, -1.06595911e+00, -1.30138034e+00, -2.10536010e-01,\n",
              "       -5.97150706e-01, -1.67827637e+00,  1.33859547e+00, -1.33434435e+00,\n",
              "        1.23976772e+00, -1.00634804e+00,  1.75531595e+00,  5.66352963e-01,\n",
              "       -7.26024969e-01,  3.02013222e-01, -1.16936445e+00, -1.33528997e+00,\n",
              "       -4.96609274e-01, -1.37633485e+00, -1.00040124e-01,  1.78921145e+00,\n",
              "       -2.22459400e-01, -1.52045921e+00,  1.83362612e-01,  3.49277967e-01,\n",
              "        5.82502451e-01, -3.78829858e-01,  9.24159692e-01,  6.89353315e-02,\n",
              "        1.04568092e+00, -8.70349295e-01, -3.63052561e-01,  4.50839937e-01,\n",
              "        8.52082873e-01, -6.50346851e-01,  3.06354852e-01,  5.20914459e-01,\n",
              "       -1.48336846e+00,  1.06033927e+00,  1.08066990e+00, -6.48833783e-01,\n",
              "        4.90778237e-01, -1.58896130e-01,  4.31507938e-02, -2.61368245e-01,\n",
              "       -1.99121049e-01, -1.27973289e+00,  8.87012175e-01, -8.57994858e-02,\n",
              "       -3.51598201e-01,  5.87942142e-01,  5.05400523e-01,  1.12076086e-01,\n",
              "       -6.76402844e-02, -8.58830489e-01, -9.97690865e-02,  3.68206727e-01,\n",
              "        6.71696917e-01,  5.05416191e-01, -6.95143975e-01, -2.09241240e-01,\n",
              "       -1.50810404e-01,  4.05792456e-01,  6.38578844e-02, -2.33357377e+00,\n",
              "        1.50378159e+00,  9.39885318e-01,  2.75636014e-02,  1.11336859e+00,\n",
              "       -9.76254938e-02,  4.58253892e-01,  1.65254832e+00,  5.48482796e-01,\n",
              "       -8.67719776e-01, -1.19655108e+00,  2.42261286e+00,  4.32948238e-01,\n",
              "        8.29980592e-01,  2.94295589e-01, -3.04971074e-01,  2.50113839e-01,\n",
              "       -4.55476533e-01, -5.77834173e-01,  7.49102848e-01, -4.59789664e-01,\n",
              "        1.02781216e+00, -4.71369013e-01, -8.81667555e-01,  1.11234228e+00,\n",
              "        1.24239448e+00,  4.13777520e-01,  1.57778469e+00, -9.15507099e-02,\n",
              "        1.70143903e+00,  5.25562938e-01, -2.16263363e-01, -3.70439500e-02,\n",
              "       -7.30375529e-01,  1.81079004e+00,  2.73789926e-01, -2.73586497e-01,\n",
              "        6.96914390e-01,  2.27897333e+00, -3.60730694e-01, -4.49530210e-02,\n",
              "        5.72453703e-01,  7.05457287e-01,  6.24717935e-01,  2.68793784e-01,\n",
              "       -2.42356911e+00,  1.32208949e+00, -5.50274011e-01,  1.84385138e+00,\n",
              "       -4.49921718e-01, -6.44055798e-01,  3.49517121e-02, -5.51202835e-01,\n",
              "        1.80114630e+00,  6.96479374e-01,  2.63749624e+00,  1.16618663e-01,\n",
              "       -6.31682078e-01, -1.83060096e+00, -1.20616571e-01,  1.07470168e+00,\n",
              "        1.19754866e+00,  1.13548933e+00,  1.19081375e-01, -5.27905917e-01,\n",
              "       -1.49529257e+00, -1.05433795e+00,  1.70884876e-02,  4.47442158e-01,\n",
              "       -2.13346338e+00,  9.03322752e-01, -5.75184010e-01, -3.92109022e-02,\n",
              "       -1.43949713e+00, -7.40413865e-01, -6.48669158e-01,  7.32212719e-01,\n",
              "       -7.24221280e-01, -7.11961898e-01, -5.85631764e-01,  3.07611390e-01,\n",
              "       -8.86655324e-01,  1.00412975e-01, -5.31600216e-01,  1.40420514e+00,\n",
              "        6.00118371e-01, -2.55266325e+00, -1.54391547e-01, -7.58168605e-01,\n",
              "       -6.55707984e-01, -4.56898574e-01, -2.63175336e-01, -2.02871147e-01,\n",
              "        1.68019662e+00, -1.13679515e+00,  2.49729666e-01, -1.42133846e+00,\n",
              "        9.53147212e-01, -9.53681352e-01, -1.37091446e+00, -5.96433649e-01,\n",
              "       -4.91852054e-01,  4.53810975e-02,  5.16625961e-01, -1.89767544e-01,\n",
              "       -4.87894072e-01,  3.85744912e-01, -1.97104986e-01, -4.18436560e-01,\n",
              "       -1.10300610e+00, -8.18804451e-01, -4.83811740e-01,  2.06717946e+00,\n",
              "       -7.71037721e-01, -3.89508961e-01, -1.63465110e-01,  9.06376454e-01,\n",
              "       -1.43756722e+00,  2.38322809e-01,  1.27253131e+00,  3.79253259e-01,\n",
              "       -9.39356330e-01,  1.11216335e+00,  1.97669506e-01, -2.78869517e-02,\n",
              "       -1.15855190e+00,  1.36458549e-01, -5.95349093e-01, -1.56142648e-01,\n",
              "        8.32382195e-01, -1.37862721e+00, -1.38137572e-01,  1.39319191e-01,\n",
              "        3.48492397e-01, -1.37848368e+00, -1.82315642e-01, -9.99625825e-01,\n",
              "       -1.00685203e-01,  3.44942714e-01, -1.76385807e-01, -9.11910109e-01,\n",
              "        4.91122283e-02,  2.35971989e+00,  1.59457666e+00,  3.37660333e-01,\n",
              "       -1.89681237e-01, -3.83700503e-01, -1.35300855e+00,  4.84505382e-02,\n",
              "        1.17215791e+00,  1.27330233e+00,  5.37752475e-01, -6.51055847e-01,\n",
              "        1.80975694e-01,  6.41441360e-01,  7.12036327e-02,  1.12690296e+00,\n",
              "       -9.29286440e-01,  6.26296449e-01, -6.36376414e-01, -1.22948227e-01,\n",
              "        1.17892861e+00,  8.45446216e-01, -2.35362635e+00,  4.73436669e-01,\n",
              "        8.79455576e-01,  1.79075354e-01,  5.49317081e-01,  5.26264539e-01,\n",
              "        1.47640101e+00,  1.08997593e-01,  4.80588081e-01, -7.86629895e-01,\n",
              "        1.90912390e-01,  1.68077282e-01, -2.01742461e+00,  6.07999779e-01,\n",
              "       -9.58092206e-01, -2.15703423e-04,  4.24401648e-01, -1.37412143e-01,\n",
              "        2.38351132e-01,  7.36022886e-01, -1.47714962e-01,  3.88260396e-01,\n",
              "       -8.70654425e-01,  2.51804913e+00,  1.85358711e+00,  1.18460845e+00,\n",
              "        7.13493206e-01, -5.46691920e-01,  6.66725626e-01, -9.10486360e-01,\n",
              "        3.91829392e-01,  1.09834039e+00, -7.74888798e-01, -2.32337300e+00,\n",
              "       -1.15122669e+00,  1.38621534e+00, -2.24502803e-01, -7.80922597e-01,\n",
              "       -1.79428339e+00, -5.31515683e-01,  1.14755600e+00, -2.54003022e-01,\n",
              "        1.88862458e+00, -3.76643765e-01,  2.98255333e-01,  5.71210149e-01,\n",
              "        5.73554985e-01,  1.65248277e+00, -2.73818577e-01,  3.35876728e-01,\n",
              "        1.74714048e+00, -3.57543907e-01,  1.31251414e+00,  6.92535290e-01,\n",
              "       -8.96331706e-01,  2.84368947e-01,  6.66295370e-01,  1.12834999e+00,\n",
              "        2.66516736e-01, -1.30928845e+00, -7.82925936e-01,  4.72118965e-01,\n",
              "        2.66123196e-01, -5.21270830e-01, -7.37669258e-01,  2.80340872e-01,\n",
              "       -3.42990647e-01, -1.27867970e+00, -1.81497916e+00,  2.09091581e+00,\n",
              "       -7.12845848e-01, -2.39299652e+00, -3.07569693e-02,  6.91921526e-01,\n",
              "        7.35827443e-01, -1.49323941e-01,  3.14388288e-01,  1.22583254e-01,\n",
              "        4.11674430e-02, -1.96733770e+00, -4.61492352e-01,  4.13536232e-01,\n",
              "       -2.60782331e-02,  1.49234475e+00, -4.27147220e-01, -7.46485222e-01,\n",
              "        1.78100799e+00, -1.81111020e-02, -1.42685630e+00, -5.44849076e-01,\n",
              "        2.00414339e-01,  2.91481779e-01, -5.90659879e-01, -1.01004140e+00,\n",
              "       -7.62435185e-01, -3.73546416e-01,  1.41441515e-01, -5.16727888e-01,\n",
              "        7.55478946e-03, -6.35347139e-01, -5.84275552e-01, -6.05141067e-01,\n",
              "        7.51980542e-02, -7.19548648e-01, -1.25585844e+00,  1.56995585e+00,\n",
              "       -3.48317963e-01, -1.08900153e+00,  5.44788673e-01, -1.16287782e+00,\n",
              "       -4.52744913e-01,  1.07512530e-02,  1.85717090e+00,  1.77883645e+00,\n",
              "        7.44496098e-02, -1.26482290e-03,  1.56082003e+00,  6.83214666e-01,\n",
              "       -1.40766639e+00,  5.77004709e-01,  8.38833415e-01,  9.79805468e-01,\n",
              "       -2.22512523e+00,  1.41219380e+00, -8.50284511e-01,  1.75587898e-01,\n",
              "       -4.64175105e-01, -9.38985286e-01,  5.07515647e-01,  3.03509349e-01,\n",
              "       -4.59977983e-01,  1.77563284e+00,  8.87864327e-01, -2.26756153e-01,\n",
              "        7.92805296e-01,  3.91469420e-01, -1.38330012e+00, -2.15349141e+00,\n",
              "       -8.43460449e-01,  1.08937811e+00, -1.18742743e+00, -2.38850323e+00,\n",
              "       -9.71979460e-01,  3.60633459e-02,  6.08147486e-01, -2.19088005e-01,\n",
              "        5.71155189e-01, -7.68836588e-01,  6.27378711e-01, -1.50123470e+00,\n",
              "       -9.12702791e-01, -7.55404013e-01,  1.70199652e+00, -2.58746521e-01,\n",
              "        2.84113778e-01, -1.03895981e-01, -9.82511412e-02, -6.11973312e-01,\n",
              "       -1.59448862e-01, -1.75433379e+00, -9.13242621e-01,  4.75500427e-01,\n",
              "       -2.70613559e-01,  1.16795797e+00, -7.73970247e-01,  5.74666368e-01,\n",
              "       -5.77123375e-01, -4.18545976e-02,  9.00867516e-01,  1.02371371e+00,\n",
              "        1.58860792e+00,  9.19072020e-01, -9.84266956e-01, -4.86542236e-01,\n",
              "       -1.20477776e+00,  1.21882707e+00, -3.16034261e-02, -1.65061133e+00,\n",
              "        3.56970788e+00, -1.44485626e+00, -1.45297718e-01,  4.35164186e-01,\n",
              "       -1.72049087e-01,  1.07907596e+00, -2.02978861e+00, -1.73373100e+00,\n",
              "       -4.00672287e-01,  1.62858475e+00, -1.08073284e-01,  1.89452959e+00,\n",
              "       -1.19251166e+00,  1.65244057e+00,  1.85022024e-01, -3.56425023e-01,\n",
              "        1.81591117e+00, -4.89418434e-01,  1.29285097e+00, -3.88424007e-01,\n",
              "       -8.91670072e-01, -7.17034082e-01, -6.50177481e-01,  1.70405184e+00,\n",
              "        1.50338463e+00, -1.20823336e+00, -1.37234594e+00, -1.02453670e-01,\n",
              "       -8.35256404e-01, -6.07935484e-01, -3.38497762e-01, -1.73607510e+00,\n",
              "       -3.15018140e-01, -4.60692421e-01,  1.10930942e+00, -1.00946608e+00,\n",
              "       -1.47558876e+00, -1.23474867e+00, -1.95936375e+00, -5.89905439e-01,\n",
              "       -2.35101090e-01,  1.03475199e+00,  1.04574362e-01,  6.40455061e-01,\n",
              "       -1.18601438e+00, -5.44258874e-01,  1.40401569e+00,  1.41359464e+00,\n",
              "       -5.17756453e-01, -6.93407103e-01, -8.62766236e-01,  1.48000858e-01,\n",
              "        2.77745915e-01,  1.74513912e-01, -2.16838120e-01, -8.15036886e-01,\n",
              "        8.95465948e-01, -1.81757795e+00,  4.55630211e-01,  5.67235677e-01,\n",
              "       -2.77129729e+00, -3.65861287e-01,  4.99121489e-01,  7.15514291e-01,\n",
              "       -1.32908423e+00,  8.63510357e-01, -2.93979294e+00, -5.49383519e-01,\n",
              "       -7.94374845e-02, -2.69380993e-02, -1.89909772e+00, -2.13337774e-01,\n",
              "        6.02565293e-01,  1.10287103e+00, -6.07826206e-01,  2.75840971e-01,\n",
              "        3.38246623e-01, -1.25131597e+00,  4.59059325e-01, -6.62262653e-01,\n",
              "       -2.37912115e-01,  9.96596141e-01,  2.53754445e-01,  4.57746123e-02,\n",
              "       -1.78175857e+00, -1.09053274e-02,  1.82123650e+00, -1.27223427e+00,\n",
              "        2.53823588e+00,  5.12434554e-01,  1.07376064e+00,  9.38432910e-01,\n",
              "       -5.04590929e-01, -7.87039988e-02,  1.95824256e+00, -7.63127308e-01,\n",
              "        2.31486702e+00, -2.20357256e+00,  1.68621780e+00,  9.71378528e-01,\n",
              "       -1.98664465e-01,  5.03204551e-01,  6.19041734e-01,  1.74613184e-01,\n",
              "       -1.33083148e+00,  5.25152433e-01, -1.11105809e-01, -4.79868175e-01,\n",
              "       -5.71086668e-01, -9.82691038e-01, -8.56357895e-02,  7.44197853e-01,\n",
              "        2.18317596e-01,  1.00419001e+00, -1.15963824e+00,  5.85473780e-01,\n",
              "       -7.81728721e-01,  1.68822217e+00,  1.13051359e+00, -3.55782201e-01,\n",
              "        1.80834033e-01, -1.16652718e+00, -6.41006183e-02, -6.24157008e-01,\n",
              "        6.34345833e-01, -1.54992663e+00,  4.74593882e-01,  1.13480738e+00,\n",
              "       -3.07789343e-01,  2.56222068e-01,  1.55709402e-03,  6.18692146e-01,\n",
              "        1.79570081e+00, -5.34724240e-01, -1.11772998e-03, -4.50861379e-01,\n",
              "       -5.91910617e-01,  4.56548666e-01, -7.59509903e-01,  2.97858586e-01,\n",
              "        3.58995928e-01, -1.75168648e+00,  1.63192451e+00,  4.87397582e-01,\n",
              "        2.85437376e+00,  9.47378421e-01, -1.21265596e+00,  2.32068098e+00,\n",
              "        6.51833172e-01, -2.96847697e-01,  2.80954714e+00, -2.40100174e+00,\n",
              "       -3.31510134e-01, -9.27609330e-01, -5.92008226e-01, -6.72144358e-01,\n",
              "        7.19208278e-01,  2.38861891e+00,  1.89853974e+00,  4.58882790e-01,\n",
              "       -1.78999814e+00,  4.86142616e-01,  3.89398593e-01, -2.50070954e-01,\n",
              "        2.38129865e-01, -1.27182439e+00,  2.02019036e+00, -6.45900307e-01,\n",
              "        2.29156883e+00,  4.76812713e-01, -6.33712380e-01, -8.68005515e-02,\n",
              "       -1.14962807e+00, -4.88420479e-01, -8.72807427e-01, -1.19502993e+00,\n",
              "       -1.23927943e+00, -6.09281306e-01,  2.44632277e-01,  8.98174303e-01,\n",
              "       -2.22822681e+00,  2.28700234e-01,  2.83103879e-01, -1.12541744e-02,\n",
              "       -4.13787076e-01,  5.80584141e-01, -2.85106078e-01, -1.22880525e+00,\n",
              "       -8.44599388e-01, -1.07496384e+00, -4.98786396e-01,  4.85082073e-01,\n",
              "        1.01909984e+00, -1.77394893e+00,  1.93147336e-01, -8.15768144e-01,\n",
              "       -1.43103761e+00, -1.16824533e+00, -5.28121621e-01,  1.23857536e-01,\n",
              "        1.13908875e+00,  1.10884171e+00,  6.04177432e-01, -4.53903319e-01,\n",
              "        5.69893332e-01,  1.08053946e+00,  1.16363957e+00, -9.10658042e-01,\n",
              "        5.15437612e-01, -2.48005470e-01,  5.19076018e-01,  5.11322376e-01,\n",
              "        2.75923822e-01,  1.26630836e+00,  1.12091390e-01,  1.59831070e-01,\n",
              "       -1.13712670e+00, -3.52151376e-01, -2.16374120e-01,  1.18021062e+00,\n",
              "        4.71864735e-01, -1.49765150e+00,  5.74382150e-02,  7.50657319e-01,\n",
              "        1.36897303e-01,  2.52314934e+00, -2.67235159e-01,  5.19112328e-01,\n",
              "        2.39127043e-01, -1.25721047e+00, -1.04961227e+00, -1.29877263e-01,\n",
              "        8.74444832e-01, -6.96067887e-01,  1.24900593e+00, -2.47143425e-01,\n",
              "        5.58344235e-03, -1.57493944e+00, -1.05473748e+00,  1.50452703e+00,\n",
              "       -1.57499526e+00,  1.46431989e+00, -8.18188013e-01,  6.37774509e-01,\n",
              "       -1.00967893e+00,  1.08731220e+00, -7.75961738e-01,  1.21346614e+00,\n",
              "       -1.88981102e-01,  1.41428365e+00,  3.04859529e-01, -1.24344964e+00,\n",
              "        6.97329074e-01, -3.00003130e-01, -1.72208720e-02, -1.89298725e-01,\n",
              "        9.27209789e-01, -9.11701942e-02,  9.49633035e-01,  6.82410550e-01,\n",
              "        1.32426605e+00,  1.01825462e+00, -9.90160042e-01, -7.44647747e-01,\n",
              "        4.71424431e-02, -4.10977429e-01, -4.40199348e-01, -7.03623676e-01,\n",
              "        3.51900616e-01, -2.32971700e+00, -9.61442426e-01, -1.44252761e+00,\n",
              "        1.26670076e+00, -8.49016041e-01,  9.94996048e-01,  4.86477461e-02,\n",
              "       -8.54441307e-01,  6.69592564e-02,  3.65857103e-01,  4.43763151e-01,\n",
              "       -8.60163258e-01,  9.68596800e-01, -1.35705764e+00, -5.87481694e-01,\n",
              "       -1.52526191e-01,  2.80417765e-01, -6.82566625e-02, -1.62299792e+00,\n",
              "       -4.80297116e-01,  1.63039895e+00,  1.17993536e-01, -1.29804102e+00,\n",
              "       -1.80641587e+00, -1.74839919e-01,  4.97285890e-01, -4.58291141e-01,\n",
              "       -7.64717864e-01, -1.18805826e+00, -6.97940891e-02,  2.49473490e+00,\n",
              "       -2.03029672e-01, -7.07105044e-01,  4.99477109e-02,  6.42774332e-01,\n",
              "       -4.60730466e-01, -7.87218699e-01,  1.22075363e+00,  3.41603290e-01,\n",
              "        1.79512218e+00, -4.96654458e-01, -9.43371934e-01,  1.22816161e+00,\n",
              "       -1.13470871e+00, -1.26612435e+00,  1.00242901e+00, -1.44770667e-01,\n",
              "        1.41824589e-01,  9.04975106e-01, -2.12892097e+00,  2.54828864e-01,\n",
              "        1.54053031e+00,  2.09589679e+00, -3.85384211e-01,  5.43136989e-01,\n",
              "       -3.78932906e-01,  9.67239490e-01,  3.79520682e-01,  3.39185764e-01,\n",
              "       -1.41937687e+00,  5.17278270e-01,  3.35382109e-01,  4.56442813e-01,\n",
              "        3.26242349e-01,  2.09616412e+00,  8.02507261e-01,  7.04856244e-01,\n",
              "       -5.94660379e-01, -5.79525361e-01, -5.25158034e-01,  8.65341684e-01,\n",
              "       -1.25692137e+00,  1.63125742e-01,  7.81541149e-01, -1.76000343e+00,\n",
              "       -1.22967396e+00,  7.53448757e-02])"
            ]
          },
          "metadata": {},
          "execution_count": 22
        }
      ]
    },
    {
      "cell_type": "markdown",
      "source": [
        "## Model\n"
      ],
      "metadata": {
        "id": "qf1bDV9pkwVu"
      }
    },
    {
      "cell_type": "code",
      "source": [
        "data = tensor(np.column_stack([b1,b2 ]), dtype=torch.float)\n",
        "target = tensor(py, dtype=torch.float)"
      ],
      "metadata": {
        "id": "wGbws86Tly8F"
      },
      "execution_count": 39,
      "outputs": []
    },
    {
      "cell_type": "code",
      "source": [
        "from torch import nn\n",
        "from pyro.nn import PyroSample, PyroModule\n",
        "\n",
        "class BayesianPoissonRegression(PyroModule):\n",
        "    def __init__(self, *, in_features, out_features = 1, bias = True):\n",
        "        super().__init__()\n",
        "        self.linear = PyroModule[nn.Linear](in_features, out_features)\n",
        "        if bias:\n",
        "          self.linear.bias = PyroSample(dist.Normal(0., 5.).expand([out_features]).to_event(1))\n",
        "        self.linear.weight = PyroSample(dist.Normal(0., 5.).expand([out_features, in_features]).to_event(2))\n",
        "\n",
        "        \n",
        "    def forward(self, data, target=None):\n",
        "        rate = self.linear(data).squeeze(-1).exp()\n",
        "        with pyro.plate(\"data\", data.shape[0]):\n",
        "            obs = pyro.sample(\"obs\", dist.Poisson(rate), obs=target)\n",
        "        return rate"
      ],
      "metadata": {
        "id": "9mJiLVYgf450"
      },
      "execution_count": 40,
      "outputs": []
    },
    {
      "cell_type": "code",
      "source": [
        "data.size(), target.size()"
      ],
      "metadata": {
        "colab": {
          "base_uri": "https://localhost:8080/"
        },
        "id": "3q1Bqt_KmC_d",
        "outputId": "13f57026-3c07-4d82-dd3e-4b79fc7ed193"
      },
      "execution_count": 41,
      "outputs": [
        {
          "output_type": "execute_result",
          "data": {
            "text/plain": [
              "(torch.Size([750, 2]), torch.Size([750]))"
            ]
          },
          "metadata": {},
          "execution_count": 41
        }
      ]
    },
    {
      "cell_type": "code",
      "source": [
        "model = BayesianPoissonRegression(in_features=2) #Note: in_features=data.size(1). out_features is usually one, so one is the default arg\n",
        "\n",
        "from pyro.infer import MCMC, NUTS\n",
        "nuts_kernel = NUTS(model, jit_compile=True, ignore_jit_warnings=True)\n",
        "mcmc = MCMC(nuts_kernel, num_samples=1000, warmup_steps=200)\n",
        "mcmc.run(data, target)"
      ],
      "metadata": {
        "colab": {
          "base_uri": "https://localhost:8080/"
        },
        "id": "9cgSJCjsmJyW",
        "outputId": "54fdb581-d98a-49f5-9c9b-413c612daead"
      },
      "execution_count": 42,
      "outputs": [
        {
          "output_type": "stream",
          "name": "stderr",
          "text": [
            "Sample: 100%|██████████| 1200/1200 [00:24, 49.93it/s, step size=1.07e-01, acc. prob=0.917]\n"
          ]
        }
      ]
    },
    {
      "cell_type": "code",
      "source": [
        "hmc_samples = {k: v.detach().cpu().numpy() for k, v in mcmc.get_samples().items()}\n",
        "hmc_samples.keys()"
      ],
      "metadata": {
        "colab": {
          "base_uri": "https://localhost:8080/"
        },
        "id": "_RweSr01n2eh",
        "outputId": "7951755c-7878-4db1-9861-634773a203ee"
      },
      "execution_count": 43,
      "outputs": [
        {
          "output_type": "execute_result",
          "data": {
            "text/plain": [
              "dict_keys(['linear.bias', 'linear.weight'])"
            ]
          },
          "metadata": {},
          "execution_count": 43
        }
      ]
    },
    {
      "cell_type": "code",
      "source": [
        "sns.kdeplot(data=hmc_samples['linear.bias']);"
      ],
      "metadata": {
        "colab": {
          "base_uri": "https://localhost:8080/",
          "height": 282
        },
        "id": "cTUs7kPkm4CU",
        "outputId": "b040e135-5af4-4498-c962-fb5294e0ebdc"
      },
      "execution_count": 44,
      "outputs": [
        {
          "output_type": "execute_result",
          "data": {
            "text/plain": [
              "<matplotlib.axes._subplots.AxesSubplot at 0x7f86bf66eed0>"
            ]
          },
          "metadata": {},
          "execution_count": 44
        },
        {
          "output_type": "display_data",
          "data": {
            "text/plain": [
              "<Figure size 432x288 with 1 Axes>"
            ],
            "image/png": "[encoded data removed]"
          },
          "metadata": {
            "needs_background": "light"
          }
        }
      ]
    },
    {
      "cell_type": "code",
      "source": [
        "sns.kdeplot(data=hmc_samples['linear.weight'][:,:,0]);"
      ],
      "metadata": {
        "colab": {
          "base_uri": "https://localhost:8080/",
          "height": 282
        },
        "id": "8B9s4WbipF7X",
        "outputId": "733f3f57-e9c8-4990-8f81-0b062593cd9d"
      },
      "execution_count": 46,
      "outputs": [
        {
          "output_type": "execute_result",
          "data": {
            "text/plain": [
              "<matplotlib.axes._subplots.AxesSubplot at 0x7f86cfb832d0>"
            ]
          },
          "metadata": {},
          "execution_count": 46
        },
        {
          "output_type": "display_data",
          "data": {
            "text/plain": [
              "<Figure size 432x288 with 1 Axes>"
            ],
            "image/png": "[encoded data removed]"
          },
          "metadata": {
            "needs_background": "light"
          }
        }
      ]
    },
    {
      "cell_type": "code",
      "source": [
        "sns.kdeplot(data=hmc_samples['linear.weight'][:,:,1]);"
      ],
      "metadata": {
        "colab": {
          "base_uri": "https://localhost:8080/",
          "height": 282
        },
        "id": "L9xp2WhhpKdZ",
        "outputId": "d336aa8e-245e-4cf1-bf7b-c22c394e1d40"
      },
      "execution_count": 47,
      "outputs": [
        {
          "output_type": "execute_result",
          "data": {
            "text/plain": [
              "<matplotlib.axes._subplots.AxesSubplot at 0x7f86cfb90750>"
            ]
          },
          "metadata": {},
          "execution_count": 47
        },
        {
          "output_type": "display_data",
          "data": {
            "text/plain": [
              "<Figure size 432x288 with 1 Axes>"
            ],
            "image/png": "[encoded data removed]"
          },
          "metadata": {
            "needs_background": "light"
          }
        }
      ]
    },
    {
      "cell_type": "code",
      "source": [
        "beta = [1., -1.5, -3.5] #these are the values for betas our model should retrieve"
      ],
      "metadata": {
        "id": "dEuPZ-Ihp-Zj"
      },
      "execution_count": 48,
      "outputs": []
    },
    {
      "cell_type": "code",
      "source": [
        "np.round((hmc_samples['linear.bias'].mean(), (hmc_samples['linear.weight'][:,:,0]).mean(), (hmc_samples['linear.weight'][:,:,1]).mean()), 2)"
      ],
      "metadata": {
        "colab": {
          "base_uri": "https://localhost:8080/"
        },
        "id": "iLrk9CjNpWR_",
        "outputId": "3d4aa5e1-4cc3-4d5d-c79f-f2ed07934f81"
      },
      "execution_count": 51,
      "outputs": [
        {
          "output_type": "execute_result",
          "data": {
            "text/plain": [
              "array([ 1.01, -1.5 , -3.49], dtype=float32)"
            ]
          },
          "metadata": {},
          "execution_count": 51
        }
      ]
    },
    {
      "cell_type": "code",
      "source": [
        ""
      ],
      "metadata": {
        "id": "-1DqD3DuqhzL"
      },
      "execution_count": null,
      "outputs": []
    }
  ]
}
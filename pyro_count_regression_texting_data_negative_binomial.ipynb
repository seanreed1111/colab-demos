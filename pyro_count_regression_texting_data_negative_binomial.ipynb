{
  "cells": [
    {
      "cell_type": "markdown",
      "metadata": {
        "id": "agI4ToZPmQc_"
      },
      "source": [
        "source: https://github.com/CamDavidsonPilon/Probabilistic-Programming-and-Bayesian-Methods-for-Hackers/blob/master/Chapter1_Introduction/Ch1_Introduction_Pyro.ipynb\n"
      ]
    },
    {
      "cell_type": "code",
      "execution_count": null,
      "metadata": {
        "colab": {
          "base_uri": "https://localhost:8080/"
        },
        "id": "nVP7xmlom-Kr",
        "outputId": "5eaf94fd-8e52-4754-d78f-20a202c827a0"
      },
      "outputs": [],
      "source": [
        "pip install pyro-ppl"
      ]
    },
    {
      "cell_type": "code",
      "execution_count": null,
      "metadata": {
        "colab": {
          "base_uri": "https://localhost:8080/"
        },
        "id": "MVthELNLlX1u",
        "outputId": "e196261b-6a10-4c14-9d0a-80b3cffcb862"
      },
      "outputs": [],
      "source": [
        "import os\n",
        "import numpy as np\n",
        "import pandas as pd\n",
        "import seaborn as sns\n",
        "import matplotlib.pyplot as plt\n",
        "import statsmodels.api as sm\n",
        "\n",
        "import torch\n",
        "from torch.distributions import constraints\n",
        "from torch import tensor\n",
        "\n",
        "import pyro\n",
        "import pyro.distributions as dist\n",
        "from pyro.infer import SVI,Trace_ELBO\n",
        "from pyro.infer import MCMC, NUTS, HMC\n",
        "from pyro.infer.autoguide  import AutoMultivariateNormal, AutoNormal, init_to_mean\n",
        "from pyro.optim import ClippedAdam\n",
        "\n",
        "assert pyro.__version__.startswith('1.8')\n",
        "pyro.set_rng_seed(1)\n",
        "torch.manual_seed(1)\n",
        "\n",
        "# Set matplotlib settings\n",
        "%matplotlib inline\n",
        "plt.style.use('default')\n",
        "plt.rcParams['figure.figsize'] = [15, 5]"
      ]
    },
    {
      "cell_type": "markdown",
      "metadata": {
        "id": "1AFcQHEGpQdC"
      },
      "source": []
    },
    {
      "cell_type": "code",
      "execution_count": null,
      "metadata": {
        "id": "XbpEZql8o43P"
      },
      "outputs": [],
      "source": []
    },
    {
      "cell_type": "code",
      "execution_count": null,
      "metadata": {
        "colab": {
          "base_uri": "https://localhost:8080/",
          "height": 206
        },
        "id": "Mimm-QWkG4zL",
        "outputId": "aec13437-dfe2-4d59-ebf7-561e1239ada2"
      },
      "outputs": [],
      "source": [
        "df = pd.read_csv(\"https://raw.githubusercontent.com/CamDavidsonPilon/Probabilistic-Programming-and-Bayesian-Methods-for-Hackers/master/Chapter1_Introduction/data/txtdata.csv\", header=None)\n",
        "df.columns = ['messages_received']\n",
        "df.loc[:,'day'] = df.index +1\n",
        "df.head()"
      ]
    },
    {
      "cell_type": "code",
      "execution_count": null,
      "metadata": {
        "colab": {
          "base_uri": "https://localhost:8080/",
          "height": 112
        },
        "id": "hep8Jn2hdEpa",
        "outputId": "c56a69a4-7764-43ef-b76d-726fe6567387"
      },
      "outputs": [],
      "source": [
        "df.describe().T"
      ]
    },
    {
      "cell_type": "markdown",
      "metadata": {
        "id": "5HLowq6RsZ75"
      },
      "source": [
        "You are given a series of daily text-message counts from a user of your system. The data, plotted over time, appears in the chart below. How would you model this data"
      ]
    },
    {
      "cell_type": "code",
      "execution_count": null,
      "metadata": {
        "colab": {
          "base_uri": "https://localhost:8080/",
          "height": 446
        },
        "id": "hTn8Ope0oupO",
        "outputId": "01b2906d-cb84-497a-9f17-67b9fd63dd19"
      },
      "outputs": [],
      "source": [
        "sns.barplot(y='messages_received', x='day', data=df, palette='colorblind')\n",
        "plt.xticks(fontsize=8);"
      ]
    },
    {
      "cell_type": "markdown",
      "metadata": {
        "id": "-s2Vc9d7suau"
      },
      "source": [
        "Let's hypothesize that there is a switchpoint somewhere in the time series where the rate of texting increases. How can we find it with pyro?"
      ]
    },
    {
      "cell_type": "code",
      "execution_count": null,
      "metadata": {
        "id": "KzNsRFNu3oDk"
      },
      "outputs": [],
      "source": [
        "X = df.copy()"
      ]
    },
    {
      "cell_type": "code",
      "execution_count": null,
      "metadata": {
        "colab": {
          "base_uri": "https://localhost:8080/"
        },
        "id": "CrnKvqrQJoO9",
        "outputId": "e4d2cd49-75b3-4bb0-e567-6815c32ea1e8"
      },
      "outputs": [],
      "source": [
        "X['messages_received'].mean(), X['messages_received'].std()"
      ]
    },
    {
      "cell_type": "code",
      "execution_count": null,
      "metadata": {
        "id": "BfcZyuzbci8r"
      },
      "outputs": [],
      "source": [
        "# Let's look at an actual poisson distribution fit to the mean of the data\n",
        "samples = dist.Poisson(X['messages_received'].mean()).sample(tensor([74])) # create sample distribution where Poisson mean = data mean\n",
        "sample_df = pd.DataFrame({'sample_texts_received':samples.numpy(), 'day':X['day'].copy()})"
      ]
    },
    {
      "cell_type": "code",
      "execution_count": null,
      "metadata": {
        "colab": {
          "base_uri": "https://localhost:8080/",
          "height": 446
        },
        "id": "h3OcUPwfFRlA",
        "outputId": "e5744a23-df0e-47f8-a718-d49c80ac58f8"
      },
      "outputs": [],
      "source": [
        "sns.barplot(y='sample_texts_received', x='day', data=sample_df, palette='colorblind');\n",
        "plt.xticks(fontsize=8);"
      ]
    },
    {
      "cell_type": "code",
      "execution_count": null,
      "metadata": {
        "colab": {
          "base_uri": "https://localhost:8080/",
          "height": 506
        },
        "id": "cOX166O-dnYN",
        "outputId": "001cbbd0-4201-479b-c0d3-daa004bb5b42"
      },
      "outputs": [],
      "source": [
        "sns.displot(x = sample_df['sample_texts_received']); #poisson distributed samples"
      ]
    },
    {
      "cell_type": "code",
      "execution_count": null,
      "metadata": {
        "colab": {
          "base_uri": "https://localhost:8080/",
          "height": 506
        },
        "id": "HPgRzxnJnmai",
        "outputId": "e229f080-ce2d-4d21-b4a4-e088413c36d8"
      },
      "outputs": [],
      "source": [
        "sns.displot(x = df['messages_received']); #actuals"
      ]
    },
    {
      "cell_type": "code",
      "execution_count": null,
      "metadata": {
        "id": "6ESnPstwoypQ"
      },
      "outputs": [],
      "source": []
    },
    {
      "cell_type": "markdown",
      "metadata": {
        "id": "5gZzNA2DSaaW"
      },
      "source": [
        "### So, comparing the actual data with the above two poisson sampling distributions above, it appears our data is overdispersed. Our data is heavily skewed to the right, ie., it has many more texts received far away from the mean, and much greater variability spikes much bigger than a poisson distribution would suggest."
      ]
    },
    {
      "cell_type": "markdown",
      "metadata": {
        "id": "nksX1NDicnfX"
      },
      "source": [
        "In probability theory and statistics, the *gamma* distribution is a two-parameter family of continuous probability distributions. The exponential distribution, Erlang distribution, and chi-square distribution are special cases of the gamma distribution. \n",
        "\n",
        "There are two different parameterizations in common use:\n",
        "\n",
        "With a shape parameter k and a scale parameter θ.\n",
        "\n",
        "With a shape parameter α = k and an inverse scale parameter β = 1/θ, called a rate parameter.\n",
        "In each of these forms, both parameters are positive real numbers."
      ]
    },
    {
      "cell_type": "markdown",
      "metadata": {
        "id": "kBcP5ssddWEU"
      },
      "source": [
        "with α = shape parameter, β = rate parameter\n",
        "\n",
        "Mean = α/β\n",
        "\n",
        "Variance = α/β²"
      ]
    },
    {
      "cell_type": "code",
      "execution_count": null,
      "metadata": {
        "id": "Rk1sCkLpcnEC"
      },
      "outputs": [],
      "source": [
        "# Both Pytorch and Pyro use the concentration and rate parametrizations\n"
      ]
    },
    {
      "cell_type": "code",
      "execution_count": null,
      "metadata": {
        "colab": {
          "base_uri": "https://localhost:8080/"
        },
        "id": "nu8p8PqKb7zd",
        "outputId": "8ca6f67e-ca54-40d4-8571-3b7391248086"
      },
      "outputs": [],
      "source": [
        "from pyro.distributions.torch import Gamma\n",
        "\n",
        "m = Gamma(torch.tensor([1.]), torch.tensor([1.]))\n",
        "m.sample()  # Gamma distributed with concentration=1 and rate=1"
      ]
    },
    {
      "cell_type": "code",
      "execution_count": null,
      "metadata": {
        "id": "p002nOlzc7VB"
      },
      "outputs": [],
      "source": [
        "a = tensor([0.5,1.,1.5,2.,2.5,3.]) #concentration parameters\n",
        "b = tensor([0.25, 0.5, 1]) # rate parameters"
      ]
    },
    {
      "cell_type": "code",
      "execution_count": null,
      "metadata": {
        "colab": {
          "base_uri": "https://localhost:8080/",
          "height": 424
        },
        "id": "NPW6q3Iheyxd",
        "outputId": "5d5ca5c3-7206-48c9-a419-240da34e3283"
      },
      "outputs": [],
      "source": [
        "sns.kdeplot(x=Gamma(0.5,0.25).sample(tensor([200])).numpy());"
      ]
    },
    {
      "cell_type": "code",
      "execution_count": null,
      "metadata": {
        "colab": {
          "base_uri": "https://localhost:8080/",
          "height": 429
        },
        "id": "9MzShGaxgano",
        "outputId": "4057da12-fc9b-4ad5-ee4a-3a36ef21f33b"
      },
      "outputs": [],
      "source": [
        "sns.kdeplot(x=Gamma(0.5,0.5).sample(tensor([200])).numpy());"
      ]
    },
    {
      "cell_type": "code",
      "execution_count": null,
      "metadata": {
        "colab": {
          "base_uri": "https://localhost:8080/",
          "height": 429
        },
        "id": "GX93qk3ekgMl",
        "outputId": "ba1cad41-4119-44a5-dc54-2c6ec25f6085"
      },
      "outputs": [],
      "source": [
        "sns.kdeplot(x=Gamma(0.5,1).sample(tensor([200])).numpy());"
      ]
    },
    {
      "cell_type": "code",
      "execution_count": null,
      "metadata": {
        "colab": {
          "base_uri": "https://localhost:8080/",
          "height": 429
        },
        "id": "I_tAsHPxhH_2",
        "outputId": "ec1dacbd-6cdf-4f7d-de1e-9413452d4193"
      },
      "outputs": [],
      "source": [
        "sns.kdeplot(x=Gamma(1,1).sample(tensor([200])).numpy());"
      ]
    },
    {
      "cell_type": "code",
      "execution_count": null,
      "metadata": {
        "colab": {
          "base_uri": "https://localhost:8080/",
          "height": 429
        },
        "id": "DjoWb0tHhH7A",
        "outputId": "b905275e-b69c-4757-d442-5f3475d8d5b4"
      },
      "outputs": [],
      "source": [
        "sns.kdeplot(x=Gamma(1.5,1.5).sample(tensor([200])).numpy());"
      ]
    },
    {
      "cell_type": "code",
      "execution_count": null,
      "metadata": {
        "colab": {
          "base_uri": "https://localhost:8080/",
          "height": 429
        },
        "id": "PpNh2PLxhHyt",
        "outputId": "773c4686-84b5-488a-d2bc-113fc00b34a6"
      },
      "outputs": [],
      "source": [
        "sns.kdeplot(x=Gamma(10,10).sample(tensor([500])).numpy());"
      ]
    },
    {
      "cell_type": "code",
      "execution_count": null,
      "metadata": {
        "colab": {
          "base_uri": "https://localhost:8080/",
          "height": 429
        },
        "id": "emqXHCgWhkmD",
        "outputId": "4040e334-e16a-4fc3-c8f0-a82da5015afc"
      },
      "outputs": [],
      "source": [
        "sns.kdeplot(x=Gamma(100,100).sample(tensor([500])).numpy());"
      ]
    },
    {
      "cell_type": "code",
      "execution_count": null,
      "metadata": {
        "colab": {
          "base_uri": "https://localhost:8080/",
          "height": 431
        },
        "id": "ueqk86dZhoxN",
        "outputId": "6c7e7acf-739a-4c3e-b9d6-ad06456203ec"
      },
      "outputs": [],
      "source": [
        "sns.kdeplot(x=Gamma(1000,1000).sample(tensor([1000])).numpy());"
      ]
    },
    {
      "cell_type": "code",
      "execution_count": null,
      "metadata": {
        "colab": {
          "base_uri": "https://localhost:8080/",
          "height": 427
        },
        "id": "Sq7EyS_PhtRh",
        "outputId": "9219166f-863d-4060-8b0c-9cf6d285a708"
      },
      "outputs": [],
      "source": [
        "sns.kdeplot(x=Gamma(100000,100000).sample(tensor([1000])).numpy());"
      ]
    },
    {
      "cell_type": "code",
      "execution_count": null,
      "metadata": {
        "colab": {
          "base_uri": "https://localhost:8080/",
          "height": 434
        },
        "id": "_Da6aNqth_tv",
        "outputId": "8351bd85-0887-43a0-deb8-d1ecd349da61"
      },
      "outputs": [],
      "source": [
        "sns.kdeplot(x=Gamma(1,10).sample(tensor([1000])).numpy());"
      ]
    },
    {
      "cell_type": "code",
      "execution_count": null,
      "metadata": {
        "id": "eJ6zUDgTWy1P"
      },
      "outputs": [],
      "source": []
    },
    {
      "cell_type": "code",
      "execution_count": null,
      "metadata": {
        "id": "WAtngo2dWyuu"
      },
      "outputs": [],
      "source": [
        "samples_nbd = dist.GammaPoisson(concentration=0.1, rate=0.1).sample(tensor([1000])).numpy(); # poisson with gamma parameters of shape and rate"
      ]
    },
    {
      "cell_type": "code",
      "execution_count": null,
      "metadata": {
        "colab": {
          "base_uri": "https://localhost:8080/",
          "height": 426
        },
        "id": "Z4UEdoDGiaoP",
        "outputId": "5ef03aaf-5556-4090-a2bf-b76e18e99649"
      },
      "outputs": [],
      "source": [
        "sns.kdeplot(x=samples_nbd);"
      ]
    },
    {
      "cell_type": "code",
      "execution_count": null,
      "metadata": {
        "colab": {
          "base_uri": "https://localhost:8080/"
        },
        "id": "Dwfv3Bm7ipwb",
        "outputId": "73588d55-b498-410b-df88-47a40dfff9c6"
      },
      "outputs": [],
      "source": [
        "samples_nbd.mean()"
      ]
    },
    {
      "cell_type": "code",
      "execution_count": null,
      "metadata": {
        "colab": {
          "base_uri": "https://localhost:8080/"
        },
        "id": "bSCf0J76iuI9",
        "outputId": "d77440e4-4904-4e6f-c52e-e58f50a3a39f"
      },
      "outputs": [],
      "source": [
        "samples_nbd.std()"
      ]
    },
    {
      "cell_type": "code",
      "execution_count": null,
      "metadata": {
        "colab": {
          "base_uri": "https://localhost:8080/",
          "height": 443
        },
        "id": "g4TKpp2_izRG",
        "outputId": "b64f572a-0025-49a2-ee3d-b041de81a9af"
      },
      "outputs": [],
      "source": [
        "sns.kdeplot(x = df['messages_received']); #actuals"
      ]
    },
    {
      "cell_type": "code",
      "execution_count": null,
      "metadata": {
        "colab": {
          "base_uri": "https://localhost:8080/"
        },
        "id": "PBDprO4ujJ65",
        "outputId": "6ca57161-236d-49f7-d44c-343c825d1110"
      },
      "outputs": [],
      "source": [
        "df['messages_received'].mean()"
      ]
    },
    {
      "cell_type": "code",
      "execution_count": null,
      "metadata": {
        "colab": {
          "base_uri": "https://localhost:8080/"
        },
        "id": "uv-fK2cgjMNS",
        "outputId": "db1ea237-c907-4fcc-895d-afb4b524fb83"
      },
      "outputs": [],
      "source": [
        "df['messages_received'].var()"
      ]
    },
    {
      "cell_type": "code",
      "execution_count": null,
      "metadata": {
        "id": "WSEFM6EPja92"
      },
      "outputs": [],
      "source": [
        "\n"
      ]
    },
    {
      "cell_type": "code",
      "execution_count": null,
      "metadata": {
        "id": "Bay0E6kRltXq"
      },
      "outputs": [],
      "source": []
    },
    {
      "cell_type": "code",
      "execution_count": null,
      "metadata": {
        "colab": {
          "base_uri": "https://localhost:8080/",
          "height": 481
        },
        "id": "UNHgBlQFltTT",
        "outputId": "0bb9c630-b859-452d-aa45-aefd5920bce3"
      },
      "outputs": [],
      "source": [
        "a = tensor([19.7**2/200.])\n",
        "b = tensor([19.7/200.])\n",
        "print(a,b,a/b, a/b**2)\n",
        "samples_nbd = dist.GammaPoisson(concentration=a, rate=b).sample(tensor([74])).numpy()\n",
        "sample_df = pd.DataFrame({'sample_texts_received':samples_nbd.squeeze(), 'day':X['day'].copy()})\n",
        "print(sample_df['sample_texts_received'].mean(), sample_df['sample_texts_received'].var())\n",
        "sns.barplot(y='sample_texts_received', x='day', data=sample_df, palette='colorblind');\n",
        "plt.xticks(fontsize=8);"
      ]
    },
    {
      "cell_type": "code",
      "execution_count": null,
      "metadata": {
        "colab": {
          "base_uri": "https://localhost:8080/",
          "height": 464
        },
        "id": "3wylTVZgltMb",
        "outputId": "58432408-494a-4d8e-f8f0-9a601734a57d"
      },
      "outputs": [],
      "source": [
        "print(df['messages_received'].mean(), df['messages_received'].var())\n",
        "sns.barplot(y='messages_received', x='day', data=df, palette='colorblind') #actuals\n",
        "plt.xticks(fontsize=8);"
      ]
    },
    {
      "cell_type": "code",
      "execution_count": null,
      "metadata": {
        "colab": {
          "base_uri": "https://localhost:8080/"
        },
        "id": "hrNDdqjYmbfQ",
        "outputId": "86c97a0c-19d8-4f66-b651-fa5a25ea60be"
      },
      "outputs": [],
      "source": [
        "df['messages_received'].mean(), df['messages_received'].var()"
      ]
    },
    {
      "cell_type": "code",
      "execution_count": null,
      "metadata": {
        "id": "S7mS0pc8mbbc"
      },
      "outputs": [],
      "source": [
        "# So, it looks like the data is better fit with a nbd aka gamma poisson distribution. \n",
        "# Let's try a model that has priors starting from the mean of these parameters of a and b "
      ]
    },
    {
      "cell_type": "code",
      "execution_count": null,
      "metadata": {
        "colab": {
          "base_uri": "https://localhost:8080/"
        },
        "id": "WexhpjMOopGp",
        "outputId": "b38d0a43-c7c0-43cd-a51f-f6e2f1321daf"
      },
      "outputs": [],
      "source": [
        "data = tensor(X['messages_received'].values, dtype=torch.float)\n",
        "data.size()"
      ]
    },
    {
      "cell_type": "code",
      "execution_count": null,
      "metadata": {
        "colab": {
          "base_uri": "https://localhost:8080/"
        },
        "id": "U9XW-b4hpF7C",
        "outputId": "8ab4b10e-eba2-4989-9160-509694032912"
      },
      "outputs": [],
      "source": [
        "data.mean(), data.var()"
      ]
    },
    {
      "cell_type": "code",
      "execution_count": null,
      "metadata": {
        "id": "3XY-snfZCKM8"
      },
      "outputs": [],
      "source": [
        "def model(data, m = data.mean(), v = data.var() ):\n",
        "    # a = m**2/v\n",
        "    # b = m/v\n",
        "    # alpha_a = v/m**2\n",
        "    # alpha_b = v/m\n",
        "    a = pyro.sample(\"a\", dist.Exponential(v/m**2)) # prior for a\n",
        "    b = pyro.sample(\"b\", dist.Exponential(v/m)) # prior for b\n",
        "\n",
        "    with pyro.plate(\"data\", data.size(0)):\n",
        "        pyro.sample(\"obs\", dist.GammaPoisson(a, b), obs=data)"
      ]
    },
    {
      "cell_type": "code",
      "execution_count": null,
      "metadata": {
        "id": "CHi8kA5IjnJP"
      },
      "outputs": [],
      "source": [
        "from pyro.infer.autoguide import AutoMultivariateNormal\n",
        "\n",
        "guide = AutoMultivariateNormal(model, init_loc_fn=init_to_mean)"
      ]
    },
    {
      "cell_type": "code",
      "execution_count": null,
      "metadata": {
        "id": "WD5qX-XqjnFe"
      },
      "outputs": [],
      "source": [
        "def train(model, guide, lr=0.01, n_steps=4000):\n",
        "    pyro.set_rng_seed(1)\n",
        "    pyro.clear_param_store()\n",
        "    \n",
        "    gamma = 0.01  # final learning rate will be gamma * initial_lr\n",
        "    lrd = gamma ** (1 / n_steps)\n",
        "    adam = pyro.optim.ClippedAdam({'lr': lr, 'lrd': lrd})\n",
        "\n",
        "    svi = SVI(model, guide, adam, loss=Trace_ELBO())\n",
        "\n",
        "    for i in range(n_steps):\n",
        "        elbo = svi.step(data)\n",
        "        if i % 500 == 0:\n",
        "          print(f\"Elbo loss: {elbo}\")\n",
        "    print(f\"Final Elbo loss: {elbo}\")"
      ]
    },
    {
      "cell_type": "code",
      "execution_count": null,
      "metadata": {
        "colab": {
          "base_uri": "https://localhost:8080/"
        },
        "id": "ksAgS-PSjm99",
        "outputId": "9eec68b7-eac4-463e-d568-1d1c93c756d8"
      },
      "outputs": [],
      "source": [
        "%%time\n",
        "train(model, guide)"
      ]
    },
    {
      "cell_type": "code",
      "execution_count": null,
      "metadata": {
        "id": "U9yCC7NWlpp6"
      },
      "outputs": [],
      "source": [
        "from pyro.infer import Predictive\n",
        "\n",
        "num_samples = 1000\n",
        "predictive = Predictive(model, guide=guide, num_samples=num_samples)\n",
        "\n",
        "svi_samples = {k: v.reshape((num_samples,-1)).detach().cpu().numpy()\n",
        "               for k, v in predictive(data).items()\n",
        "               if k != \"obs\"}"
      ]
    },
    {
      "cell_type": "code",
      "execution_count": null,
      "metadata": {
        "colab": {
          "base_uri": "https://localhost:8080/"
        },
        "id": "GFy-1qjzlpjb",
        "outputId": "32a33c12-8bb9-4fec-d1ac-2138d8570936"
      },
      "outputs": [],
      "source": [
        "svi_samples.keys()"
      ]
    },
    {
      "cell_type": "code",
      "execution_count": null,
      "metadata": {
        "colab": {
          "base_uri": "https://localhost:8080/"
        },
        "id": "h2YvlMdvlpee",
        "outputId": "a0eec470-7c3f-4f49-fa3a-013bb7203b49"
      },
      "outputs": [],
      "source": [
        "guide.quantiles([0.05,0.50,0.95])"
      ]
    },
    {
      "cell_type": "code",
      "execution_count": null,
      "metadata": {
        "colab": {
          "base_uri": "https://localhost:8080/"
        },
        "id": "RCyO9Ntssh_R",
        "outputId": "26c52c5a-7ee7-48a4-b868-16e60fd185d4"
      },
      "outputs": [],
      "source": [
        "data.mean()**2/data.var(), data.mean()/data.var()"
      ]
    },
    {
      "cell_type": "code",
      "execution_count": null,
      "metadata": {
        "id": "ZO2fRtjfuZJN"
      },
      "outputs": [],
      "source": []
    },
    {
      "cell_type": "markdown",
      "metadata": {
        "id": "_8NcsEUTBf70"
      },
      "source": [
        "## Let's do MCMC"
      ]
    },
    {
      "cell_type": "code",
      "execution_count": null,
      "metadata": {
        "colab": {
          "base_uri": "https://localhost:8080/"
        },
        "id": "nHSjIG1ikwHT",
        "outputId": "4e8139d5-6a7f-4d93-8b82-d59023240faa"
      },
      "outputs": [],
      "source": [
        "kernel = NUTS(model, jit_compile=True, ignore_jit_warnings=True, max_tree_depth=3)\n",
        "posterior = MCMC(kernel, num_samples=1500, warmup_steps=500)\n",
        "posterior.run(data);"
      ]
    },
    {
      "cell_type": "code",
      "execution_count": null,
      "metadata": {
        "id": "3GUdrzFokwD1"
      },
      "outputs": [],
      "source": [
        "hmc_samples = {k: v.detach().cpu().numpy() for k, v in posterior.get_samples().items()}\n",
        "alpha_a_samples = hmc_samples['a']\n",
        "alpha_b_samples = hmc_samples['b']\n"
      ]
    },
    {
      "cell_type": "code",
      "execution_count": null,
      "metadata": {
        "colab": {
          "base_uri": "https://localhost:8080/"
        },
        "id": "QbT28ur7mFLK",
        "outputId": "2879e948-7d33-45f0-d7c4-d82178fbc219"
      },
      "outputs": [],
      "source": [
        "data.size(0)"
      ]
    },
    {
      "cell_type": "code",
      "execution_count": null,
      "metadata": {
        "colab": {
          "base_uri": "https://localhost:8080/",
          "height": 524
        },
        "id": "y30UuM8TtQso",
        "outputId": "930688ce-ca80-483a-f2b5-b1160219a8a5"
      },
      "outputs": [],
      "source": [
        "print(data.mean()**2/data.var())\n",
        "sns.displot(data=alpha_a_samples);"
      ]
    },
    {
      "cell_type": "code",
      "execution_count": null,
      "metadata": {
        "colab": {
          "base_uri": "https://localhost:8080/",
          "height": 525
        },
        "id": "OorA6EXltZAs",
        "outputId": "77f1cb7f-0398-40f5-ab60-681f4c533012"
      },
      "outputs": [],
      "source": [
        "print(data.mean()/data.var())\n",
        "sns.displot(data=alpha_b_samples);"
      ]
    }
  ],
  "metadata": {
    "colab": {
      "collapsed_sections": [
        "w3dU4UT4Ymhk"
      ],
      "name": "pyro-count-regression-texting-data-negative-binomial.ipynb",
      "provenance": []
    },
    "kernelspec": {
      "display_name": "Python 3",
      "name": "python3"
    },
    "language_info": {
      "name": "python"
    }
  },
  "nbformat": 4,
  "nbformat_minor": 0
}
